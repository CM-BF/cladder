{
 "cells": [
  {
   "cell_type": "code",
   "id": "initial_id",
   "metadata": {
    "collapsed": true,
    "ExecuteTime": {
     "end_time": "2025-04-12T19:49:46.278253Z",
     "start_time": "2025-04-12T19:49:46.268353Z"
    }
   },
   "source": [
    "from pathlib import Path\n",
    "\n",
    "from causalllm.definitions import ROOT_PATH\n",
    "\n",
    "invalid_file = Path(ROOT_PATH, 'data', 'prontoqa', 'prontoqa_gpt-4o-mini_abstract_invalid.json')\n",
    "example_file = Path(ROOT_PATH, 'causalllm/agents/anonymize/prontoqa/example.txt')"
   ],
   "outputs": [],
   "execution_count": 1
  },
  {
   "metadata": {
    "ExecuteTime": {
     "end_time": "2025-04-12T19:49:47.039537Z",
     "start_time": "2025-04-12T19:49:47.034017Z"
    }
   },
   "cell_type": "code",
   "source": [
    "import json\n",
    "\n",
    "examples = json.loads(example_file.read_text())\n",
    "invalid_samples = json.loads(invalid_file.read_text())"
   ],
   "id": "eb463599c1d6a0c",
   "outputs": [],
   "execution_count": 2
  },
  {
   "metadata": {
    "ExecuteTime": {
     "end_time": "2025-04-12T19:49:48.102968Z",
     "start_time": "2025-04-12T19:49:48.097214Z"
    }
   },
   "cell_type": "code",
   "source": [
    "new_example = dict()\n",
    "new_example.update({\n",
    "    \"variable2name\": [variable_dict for variable_dict in invalid_samples[0]['var2name_map'].values()],\n",
    "    \"raw_prompt\": invalid_samples[0]['raw_prompt'],\n",
    "    \"response\": invalid_samples[0]['response'],\n",
    "    \"background_question\": invalid_samples[0]['abstract_raw_prompt'],\n",
    "    \"reasoning\": invalid_samples[0]['abstract_reasoning'],\n",
    "})"
   ],
   "id": "a141115786d78839",
   "outputs": [],
   "execution_count": 3
  },
  {
   "metadata": {
    "ExecuteTime": {
     "end_time": "2025-04-12T19:49:56.896748Z",
     "start_time": "2025-04-12T19:49:56.885911Z"
    }
   },
   "cell_type": "code",
   "source": "new_example",
   "id": "335a2cf72408d80a",
   "outputs": [
    {
     "data": {
      "text/plain": [
       "{'variable2name': [{'variable': '{symbol_1}',\n",
       "   'name': 'Wren',\n",
       "   'set_description': None,\n",
       "   'unset_description': None},\n",
       "  {'variable': '{symbol_2}',\n",
       "   'name': 'butterfly',\n",
       "   'set_description': None,\n",
       "   'unset_description': None},\n",
       "  {'variable': '{symbol_3}',\n",
       "   'name': 'lepidopteran',\n",
       "   'set_description': None,\n",
       "   'unset_description': None},\n",
       "  {'variable': '{symbol_4}',\n",
       "   'name': 'insect',\n",
       "   'set_description': None,\n",
       "   'unset_description': None},\n",
       "  {'variable': '{symbol_5}',\n",
       "   'name': 'eight-legged',\n",
       "   'set_description': None,\n",
       "   'unset_description': None},\n",
       "  {'variable': '{symbol_6}',\n",
       "   'name': 'nematode',\n",
       "   'set_description': None,\n",
       "   'unset_description': None},\n",
       "  {'variable': '{symbol_7}',\n",
       "   'name': 'segmented',\n",
       "   'set_description': None,\n",
       "   'unset_description': None},\n",
       "  {'variable': '{symbol_8}',\n",
       "   'name': 'animal',\n",
       "   'set_description': None,\n",
       "   'unset_description': None},\n",
       "  {'variable': '{symbol_9}',\n",
       "   'name': 'arthropod',\n",
       "   'set_description': None,\n",
       "   'unset_description': None},\n",
       "  {'variable': '{symbol_10}',\n",
       "   'name': 'invertebrate',\n",
       "   'set_description': None,\n",
       "   'unset_description': None},\n",
       "  {'variable': '{symbol_11}',\n",
       "   'name': 'unicellular',\n",
       "   'set_description': None,\n",
       "   'unset_description': None}],\n",
       " 'raw_prompt': 'Given facts: Every butterfly is a lepidopteran. Lepidopterans are insects. Each insect is not eight-legged. Nematodes are not segmented. Animals are not unicellular. Arthropods are segmented. Each arthropod is an invertebrate. Every insect is an arthropod. Each invertebrate is an animal.\\n\\nGiven Wren is a butterfly, answer the question: True or false: Wren is not segmented.',\n",
       " 'response': \"<think> Let's think about it step by step. First, we have Wren is a butterfly.\\n\\nEvery butterfly is a lepidopteran. So Wren is a lepidopteran.\\n\\nLepidopterans are insects. So Wren is an insect.\\n\\nEvery insect is an arthropod. So Wren is an arthropod.\\n\\nArthropods are segmented. So Wren is segmented.\\n\\nTherefore, the answer is False. </think>\\n<answer> False </answer>\",\n",
       " 'background_question': 'Given facts: Every {symbol_2} is a {symbol_3}. {symbol_3}s are {symbol_4}s. Each {symbol_4} is not {symbol_5}. {symbol_6}s are not segmented. {symbol_8}s are not {symbol_11}. {symbol_9}s are segmented. Each {symbol_9} is an {symbol_10}. Every {symbol_4} is an {symbol_9}. Each {symbol_10} is an {symbol_8}.\\n\\nGiven {symbol_1} is a {symbol_2}, answer the question: True or false: {symbol_1} is not {symbol_7}.',\n",
       " 'reasoning': \"<think> Let's think about it step by step. First, we have {symbol_1} is a {symbol_2}.\\n\\nEvery {symbol_2} is a {symbol_3}. So {symbol_1} is a {symbol_3}.\\n\\n{symbol_3}s are {symbol_4}s. So {symbol_1} is a {symbol_4}.\\n\\nEvery {symbol_4} is an {symbol_9}. So {symbol_1} is an {symbol_9}.\\n\\n{symbol_9}s are {symbol_7}. So {symbol_1} is {symbol_7}.\\n\\nTherefore, the answer is False. </think>\\n<answer> False </answer>\"}"
      ]
     },
     "execution_count": 4,
     "metadata": {},
     "output_type": "execute_result"
    }
   ],
   "execution_count": 4
  },
  {
   "metadata": {
    "ExecuteTime": {
     "end_time": "2025-04-12T19:50:04.496380Z",
     "start_time": "2025-04-12T19:50:04.492932Z"
    }
   },
   "cell_type": "code",
   "source": "examples.append(new_example)",
   "id": "c43e88859550ae6",
   "outputs": [],
   "execution_count": 5
  },
  {
   "metadata": {
    "ExecuteTime": {
     "end_time": "2025-04-12T19:50:32.388846Z",
     "start_time": "2025-04-12T19:50:32.382398Z"
    }
   },
   "cell_type": "code",
   "source": [
    "\n",
    "len(examples)"
   ],
   "id": "797b92cdb7815de5",
   "outputs": [
    {
     "data": {
      "text/plain": [
       "3"
      ]
     },
     "execution_count": 7,
     "metadata": {},
     "output_type": "execute_result"
    }
   ],
   "execution_count": 7
  },
  {
   "metadata": {
    "ExecuteTime": {
     "end_time": "2025-04-12T19:50:34.620368Z",
     "start_time": "2025-04-12T19:50:34.614382Z"
    }
   },
   "cell_type": "code",
   "source": "example_file.write_text(json.dumps(examples, indent=4))",
   "id": "695525b73e207f62",
   "outputs": [
    {
     "data": {
      "text/plain": [
       "12450"
      ]
     },
     "execution_count": 8,
     "metadata": {},
     "output_type": "execute_result"
    }
   ],
   "execution_count": 8
  }
 ],
 "metadata": {
  "kernelspec": {
   "display_name": "Python 3",
   "language": "python",
   "name": "python3"
  },
  "language_info": {
   "codemirror_mode": {
    "name": "ipython",
    "version": 2
   },
   "file_extension": ".py",
   "mimetype": "text/x-python",
   "name": "python",
   "nbconvert_exporter": "python",
   "pygments_lexer": "ipython2",
   "version": "2.7.6"
  }
 },
 "nbformat": 4,
 "nbformat_minor": 5
}
