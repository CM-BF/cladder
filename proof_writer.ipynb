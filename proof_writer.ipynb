{
 "cells": [
  {
   "cell_type": "code",
   "id": "45ef42df34a6205b",
   "metadata": {},
   "source": [
    "# read jsonl file\n",
    "import json\n",
    "from causalllm.definitions import ROOT_PATH\n",
    "\n",
    "file_path = ROOT_PATH / \"data/proofwriter/meta-test.jsonl\"\n",
    "with open(file_path, \"r\") as f:\n",
    "    lines = f.readlines()\n",
    "    data = [json.loads(line) for line in lines]\n",
    "    \n",
    "    "
   ],
   "outputs": [],
   "execution_count": null
  },
  {
   "metadata": {
    "collapsed": true,
    "ExecuteTime": {
     "end_time": "2025-05-02T21:29:04.495951Z",
     "start_time": "2025-05-02T21:29:04.490385Z"
    }
   },
   "cell_type": "code",
   "source": [
    "facts = [triple['text'] for triple in data[0][\"triples\"].values()]\n",
    "rules = [data[\"text\"] for data in data[0][\"rules\"].values()]\n",
    "print(rules)"
   ],
   "id": "initial_id",
   "outputs": [
    {
     "name": "stdout",
     "output_type": "stream",
     "text": [
      "['If something sees the squirrel and the squirrel eats the cow then the cow is round.', 'If something is green then it eats the tiger.', 'If the squirrel is round then the squirrel visits the cow.', 'If something eats the cow then it sees the squirrel.', 'If something sees the tiger and the tiger visits the squirrel then it is nice.', 'If something is round then it eats the cow.', 'If something is kind then it eats the cow.', 'If the tiger visits the cow then the cow sees the squirrel.', 'If something sees the cow then the cow eats the tiger.']\n"
     ]
    }
   ],
   "execution_count": 10
  }
 ],
 "metadata": {
  "kernelspec": {
   "display_name": "Python 3",
   "language": "python",
   "name": "python3"
  },
  "language_info": {
   "codemirror_mode": {
    "name": "ipython",
    "version": 2
   },
   "file_extension": ".py",
   "mimetype": "text/x-python",
   "name": "python",
   "nbconvert_exporter": "python",
   "pygments_lexer": "ipython2",
   "version": "2.7.6"
  }
 },
 "nbformat": 4,
 "nbformat_minor": 5
}
