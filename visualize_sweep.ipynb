{
 "cells": [
  {
   "cell_type": "code",
   "id": "84ddb2bcd7ce8fd8",
   "metadata": {
    "ExecuteTime": {
     "end_time": "2025-04-16T18:57:52.908529Z",
     "start_time": "2025-04-16T18:57:51.335332Z"
    }
   },
   "source": [
    "import pandas as pd\n",
    "import numpy as np\n",
    "import wandb\n",
    "import matplotlib.pyplot as plt\n",
    "import seaborn as sns\n",
    "import plotly.express as px\n",
    "import plotly.graph_objects as go\n",
    "from plotly.subplots import make_subplots\n",
    "\n",
    "# Hardcoded parameters for the specific sweep\n",
    "entity_name = \"dive-ci\"\n",
    "project_name = \"CLadder\"\n",
    "# sweep_id = \"ngq4k8jt\"  # CLadder\n",
    "sweep_id = \"fho761r3\"  # ProntoQA\n",
    "\n",
    "# Initialize wandb API\n",
    "api = wandb.Api()\n",
    "\n",
    "# Get the sweep runs\n",
    "sweep = api.sweep(f\"{entity_name}/{project_name}/{sweep_id}\")\n",
    "\n",
    "# dataset_names = {'cladder-v1-q-commonsense': 'commonsense', 'cladder-v1-q-anticommonsense': 'anticommonsense', 'cladder-v1-q-noncommonsense': 'noncommonsense'}\n",
    "dataset_names = {'prontoqa': 'prontoqa', 'prontoqa-anticommonsense': 'anticommonsense', 'prontoqa-noncommonsense': 'noncommonsense'}\n",
    "\n",
    "# Collect run data\n",
    "runs_data = []\n",
    "for run in sweep.runs:\n",
    "    # Get run summary and config\n",
    "    run_data = {\n",
    "        \"id\": run.id,\n",
    "        \"name\": run.name,\n",
    "        \"state\": run.state,\n",
    "        \"created_at\": run.created_at,\n",
    "        \"summary\": run.summary._json_dict if hasattr(run.summary, \"_json_dict\") else {},\n",
    "        \"config\": run.config\n",
    "    }\n",
    "    \n",
    "    # Extract relevant metrics and parameters\n",
    "    summary = run_data[\"summary\"]\n",
    "    config = run_data[\"config\"]\n",
    "    # print(summary)\n",
    "    \n",
    "    run_info = {\n",
    "        \"run_id\": run.id,\n",
    "        \"run_name\": run.name,\n",
    "        \"reasoning\": config.get(\"experiment.reasoning\", None),\n",
    "        \"anonymize\": config.get(\"dataset.anonymize\", None),\n",
    "        \"learning_rate\": config.get(\"training.learning_rate\", None),\n",
    "        \"percent_train\": config.get(\"dataset.percent_of_train_dataset\", None),\n",
    "        # \"num_epochs\": config.get(\"training.num_train_epochs\", None),\n",
    "        \"max_steps\": config.get(\"training.max_steps\", None),\n",
    "    }\n",
    "    \n",
    "    # Extract scores for different test datasets\n",
    "    for data_name, score_key in dataset_names.items():\n",
    "        try: \n",
    "            run_info[score_key] = summary[data_name]\n",
    "        except KeyError:\n",
    "            print(f\"KeyError: {data_name} not found in summary for run {summary}\")\n",
    "    \n",
    "    runs_data.append(run_info)\n",
    "\n",
    "# Convert to dataframe\n",
    "df = pd.DataFrame(runs_data)\n",
    "\n",
    "# Identify test dataset columns\n",
    "test_dataset_columns = [col for col in df.columns if col in dataset_names.values()]\n",
    "training_percentages = sorted(df['percent_train'].unique())\n",
    "learning_rate = sorted(df['learning_rate'].unique())\n",
    "anonymize_list = sorted(df['anonymize'].unique())\n",
    "\n",
    "print(f\"Found {len(df)} runs with {len(test_dataset_columns)} test datasets\")\n",
    "print(f\"Test datasets: {[col.replace('score_', '') for col in test_dataset_columns]}\")\n",
    "print(f\"Training percentages: {training_percentages}\")\n",
    "df"
   ],
   "outputs": [
    {
     "name": "stdout",
     "output_type": "stream",
     "text": [
      "KeyError: prontoqa not found in summary for run {'_runtime': 129.40086960792542, '_step': 2, '_timestamp': 1744756456.2190456, 'total_flos': 899428726210560, 'train/epoch': 1, 'train/global_step': 50, 'train/grad_norm': 0.3702305853366852, 'train/learning_rate': 0, 'train/loss': 0.2162, 'train/mean_token_accuracy': 0.929225664138794, 'train_loss': 0.4447970390319824, 'train_runtime': 130.407, 'train_samples_per_second': 1.534, 'train_steps_per_second': 0.383}\n",
      "KeyError: prontoqa-anticommonsense not found in summary for run {'_runtime': 129.40086960792542, '_step': 2, '_timestamp': 1744756456.2190456, 'total_flos': 899428726210560, 'train/epoch': 1, 'train/global_step': 50, 'train/grad_norm': 0.3702305853366852, 'train/learning_rate': 0, 'train/loss': 0.2162, 'train/mean_token_accuracy': 0.929225664138794, 'train_loss': 0.4447970390319824, 'train_runtime': 130.407, 'train_samples_per_second': 1.534, 'train_steps_per_second': 0.383}\n",
      "KeyError: prontoqa-noncommonsense not found in summary for run {'_runtime': 129.40086960792542, '_step': 2, '_timestamp': 1744756456.2190456, 'total_flos': 899428726210560, 'train/epoch': 1, 'train/global_step': 50, 'train/grad_norm': 0.3702305853366852, 'train/learning_rate': 0, 'train/loss': 0.2162, 'train/mean_token_accuracy': 0.929225664138794, 'train_loss': 0.4447970390319824, 'train_runtime': 130.407, 'train_samples_per_second': 1.534, 'train_steps_per_second': 0.383}\n",
      "Found 140 runs with 3 test datasets\n",
      "Test datasets: ['prontoqa', 'anticommonsense', 'noncommonsense']\n",
      "Training percentages: [0.005, 0.01, 0.02, 0.05, 0.1]\n"
     ]
    },
    {
     "data": {
      "text/plain": [
       "       run_id                                           run_name  reasoning  \\\n",
       "0    zbq0r8g4  QWen-prontoqa-RTrue-DP0.1-s3200-Absrandom-lr0....       True   \n",
       "1    bm4thbr4  QWen-prontoqa-RTrue-DP0.1-s1600-Absrandom-lr0....       True   \n",
       "2    c17xgyyz  QWen-prontoqa-RTrue-DP0.1-s800-Absrandom-lr0.0003       True   \n",
       "3    27yvyamr  QWen-prontoqa-RTrue-DP0.1-s400-Absrandom-lr0.0003       True   \n",
       "4    g3jjbwuu  QWen-prontoqa-RTrue-DP0.1-s200-Absrandom-lr0.0003       True   \n",
       "..        ...                                                ...        ...   \n",
       "135  d236lzux  QWen-prontoqa-RTrue-DP0.005-s400-AbsNone-lr0.0...       True   \n",
       "136  i4tn46z0  QWen-prontoqa-RTrue-DP0.005-s50-AbsNone-lr0.00015       True   \n",
       "137  iwkhq5ke  QWen-prontoqa-RTrue-DP0.005-s1600-AbsNone-lr0....       True   \n",
       "138  r9mp25v7  QWen-prontoqa-RTrue-DP0.005-s100-AbsNone-lr0.0...       True   \n",
       "139  zzwz9jpf  QWen-prontoqa-RTrue-DP0.005-s200-AbsNone-lr0.0...       True   \n",
       "\n",
       "    anonymize  learning_rate  percent_train  max_steps  prontoqa  \\\n",
       "0      random        0.00030          0.100       3200     96.75   \n",
       "1      random        0.00030          0.100       1600     96.50   \n",
       "2      random        0.00030          0.100        800     95.75   \n",
       "3      random        0.00030          0.100        400     93.75   \n",
       "4      random        0.00030          0.100        200     87.50   \n",
       "..        ...            ...            ...        ...       ...   \n",
       "135      null        0.00015          0.005        400     96.00   \n",
       "136      null        0.00015          0.005         50     86.50   \n",
       "137      null        0.00015          0.005       1600     93.25   \n",
       "138      null        0.00015          0.005        100     87.50   \n",
       "139      null        0.00015          0.005        200     93.25   \n",
       "\n",
       "     anticommonsense  noncommonsense  \n",
       "0              89.00           94.75  \n",
       "1              87.00           93.50  \n",
       "2              87.25           92.00  \n",
       "3              85.00           91.25  \n",
       "4              81.50           85.00  \n",
       "..               ...             ...  \n",
       "135            65.75           76.50  \n",
       "136            65.00           77.50  \n",
       "137            65.00           72.75  \n",
       "138            58.25           75.00  \n",
       "139            66.00           74.00  \n",
       "\n",
       "[140 rows x 10 columns]"
      ],
      "text/html": [
       "<div>\n",
       "<style scoped>\n",
       "    .dataframe tbody tr th:only-of-type {\n",
       "        vertical-align: middle;\n",
       "    }\n",
       "\n",
       "    .dataframe tbody tr th {\n",
       "        vertical-align: top;\n",
       "    }\n",
       "\n",
       "    .dataframe thead th {\n",
       "        text-align: right;\n",
       "    }\n",
       "</style>\n",
       "<table border=\"1\" class=\"dataframe\">\n",
       "  <thead>\n",
       "    <tr style=\"text-align: right;\">\n",
       "      <th></th>\n",
       "      <th>run_id</th>\n",
       "      <th>run_name</th>\n",
       "      <th>reasoning</th>\n",
       "      <th>anonymize</th>\n",
       "      <th>learning_rate</th>\n",
       "      <th>percent_train</th>\n",
       "      <th>max_steps</th>\n",
       "      <th>prontoqa</th>\n",
       "      <th>anticommonsense</th>\n",
       "      <th>noncommonsense</th>\n",
       "    </tr>\n",
       "  </thead>\n",
       "  <tbody>\n",
       "    <tr>\n",
       "      <th>0</th>\n",
       "      <td>zbq0r8g4</td>\n",
       "      <td>QWen-prontoqa-RTrue-DP0.1-s3200-Absrandom-lr0....</td>\n",
       "      <td>True</td>\n",
       "      <td>random</td>\n",
       "      <td>0.00030</td>\n",
       "      <td>0.100</td>\n",
       "      <td>3200</td>\n",
       "      <td>96.75</td>\n",
       "      <td>89.00</td>\n",
       "      <td>94.75</td>\n",
       "    </tr>\n",
       "    <tr>\n",
       "      <th>1</th>\n",
       "      <td>bm4thbr4</td>\n",
       "      <td>QWen-prontoqa-RTrue-DP0.1-s1600-Absrandom-lr0....</td>\n",
       "      <td>True</td>\n",
       "      <td>random</td>\n",
       "      <td>0.00030</td>\n",
       "      <td>0.100</td>\n",
       "      <td>1600</td>\n",
       "      <td>96.50</td>\n",
       "      <td>87.00</td>\n",
       "      <td>93.50</td>\n",
       "    </tr>\n",
       "    <tr>\n",
       "      <th>2</th>\n",
       "      <td>c17xgyyz</td>\n",
       "      <td>QWen-prontoqa-RTrue-DP0.1-s800-Absrandom-lr0.0003</td>\n",
       "      <td>True</td>\n",
       "      <td>random</td>\n",
       "      <td>0.00030</td>\n",
       "      <td>0.100</td>\n",
       "      <td>800</td>\n",
       "      <td>95.75</td>\n",
       "      <td>87.25</td>\n",
       "      <td>92.00</td>\n",
       "    </tr>\n",
       "    <tr>\n",
       "      <th>3</th>\n",
       "      <td>27yvyamr</td>\n",
       "      <td>QWen-prontoqa-RTrue-DP0.1-s400-Absrandom-lr0.0003</td>\n",
       "      <td>True</td>\n",
       "      <td>random</td>\n",
       "      <td>0.00030</td>\n",
       "      <td>0.100</td>\n",
       "      <td>400</td>\n",
       "      <td>93.75</td>\n",
       "      <td>85.00</td>\n",
       "      <td>91.25</td>\n",
       "    </tr>\n",
       "    <tr>\n",
       "      <th>4</th>\n",
       "      <td>g3jjbwuu</td>\n",
       "      <td>QWen-prontoqa-RTrue-DP0.1-s200-Absrandom-lr0.0003</td>\n",
       "      <td>True</td>\n",
       "      <td>random</td>\n",
       "      <td>0.00030</td>\n",
       "      <td>0.100</td>\n",
       "      <td>200</td>\n",
       "      <td>87.50</td>\n",
       "      <td>81.50</td>\n",
       "      <td>85.00</td>\n",
       "    </tr>\n",
       "    <tr>\n",
       "      <th>...</th>\n",
       "      <td>...</td>\n",
       "      <td>...</td>\n",
       "      <td>...</td>\n",
       "      <td>...</td>\n",
       "      <td>...</td>\n",
       "      <td>...</td>\n",
       "      <td>...</td>\n",
       "      <td>...</td>\n",
       "      <td>...</td>\n",
       "      <td>...</td>\n",
       "    </tr>\n",
       "    <tr>\n",
       "      <th>135</th>\n",
       "      <td>d236lzux</td>\n",
       "      <td>QWen-prontoqa-RTrue-DP0.005-s400-AbsNone-lr0.0...</td>\n",
       "      <td>True</td>\n",
       "      <td>null</td>\n",
       "      <td>0.00015</td>\n",
       "      <td>0.005</td>\n",
       "      <td>400</td>\n",
       "      <td>96.00</td>\n",
       "      <td>65.75</td>\n",
       "      <td>76.50</td>\n",
       "    </tr>\n",
       "    <tr>\n",
       "      <th>136</th>\n",
       "      <td>i4tn46z0</td>\n",
       "      <td>QWen-prontoqa-RTrue-DP0.005-s50-AbsNone-lr0.00015</td>\n",
       "      <td>True</td>\n",
       "      <td>null</td>\n",
       "      <td>0.00015</td>\n",
       "      <td>0.005</td>\n",
       "      <td>50</td>\n",
       "      <td>86.50</td>\n",
       "      <td>65.00</td>\n",
       "      <td>77.50</td>\n",
       "    </tr>\n",
       "    <tr>\n",
       "      <th>137</th>\n",
       "      <td>iwkhq5ke</td>\n",
       "      <td>QWen-prontoqa-RTrue-DP0.005-s1600-AbsNone-lr0....</td>\n",
       "      <td>True</td>\n",
       "      <td>null</td>\n",
       "      <td>0.00015</td>\n",
       "      <td>0.005</td>\n",
       "      <td>1600</td>\n",
       "      <td>93.25</td>\n",
       "      <td>65.00</td>\n",
       "      <td>72.75</td>\n",
       "    </tr>\n",
       "    <tr>\n",
       "      <th>138</th>\n",
       "      <td>r9mp25v7</td>\n",
       "      <td>QWen-prontoqa-RTrue-DP0.005-s100-AbsNone-lr0.0...</td>\n",
       "      <td>True</td>\n",
       "      <td>null</td>\n",
       "      <td>0.00015</td>\n",
       "      <td>0.005</td>\n",
       "      <td>100</td>\n",
       "      <td>87.50</td>\n",
       "      <td>58.25</td>\n",
       "      <td>75.00</td>\n",
       "    </tr>\n",
       "    <tr>\n",
       "      <th>139</th>\n",
       "      <td>zzwz9jpf</td>\n",
       "      <td>QWen-prontoqa-RTrue-DP0.005-s200-AbsNone-lr0.0...</td>\n",
       "      <td>True</td>\n",
       "      <td>null</td>\n",
       "      <td>0.00015</td>\n",
       "      <td>0.005</td>\n",
       "      <td>200</td>\n",
       "      <td>93.25</td>\n",
       "      <td>66.00</td>\n",
       "      <td>74.00</td>\n",
       "    </tr>\n",
       "  </tbody>\n",
       "</table>\n",
       "<p>140 rows × 10 columns</p>\n",
       "</div>"
      ]
     },
     "execution_count": 15,
     "metadata": {},
     "output_type": "execute_result"
    }
   ],
   "execution_count": 15
  },
  {
   "metadata": {
    "ExecuteTime": {
     "end_time": "2025-04-16T18:57:57.605579Z",
     "start_time": "2025-04-16T18:57:57.598208Z"
    }
   },
   "cell_type": "code",
   "source": [
    "sweep = api.sweep(f\"{entity_name}/{project_name}/{sweep_id}\")\n",
    "sweep.runs[0].config[\"dataset.percent_of_train_dataset\"]\n",
    "# for key in sweep.runs[1].__dir__():\n",
    "#     print(sweep.runs[0].getattr(key))\n",
    "\n"
   ],
   "id": "c87c1b20877047a3",
   "outputs": [
    {
     "data": {
      "text/plain": [
       "0.1"
      ]
     },
     "execution_count": 16,
     "metadata": {},
     "output_type": "execute_result"
    }
   ],
   "execution_count": 16
  },
  {
   "metadata": {
    "ExecuteTime": {
     "end_time": "2025-04-16T18:58:33.295280Z",
     "start_time": "2025-04-16T18:58:32.861739Z"
    }
   },
   "cell_type": "code",
   "source": [
    "\n",
    "# Create comparison plots\n",
    "def create_anonymize_comparison_plots(learning_rate):\n",
    "    # Create a subplot for each test dataset and training percentage combination\n",
    "    num_test_sets = len(test_dataset_columns)\n",
    "    num_percentages = len(training_percentages)\n",
    "    \n",
    "    fig = make_subplots(\n",
    "        rows=num_percentages, \n",
    "        cols=num_test_sets,\n",
    "        subplot_titles=[f\"{col} - {pct*100}% Training\" \n",
    "                        for pct in training_percentages for col in test_dataset_columns],\n",
    "        vertical_spacing=0.05,\n",
    "        horizontal_spacing=0.05\n",
    "    )\n",
    "    \n",
    "    # Color scheme for True/False anonymization\n",
    "    colors = {\"null\": \"rgb(31, 119, 180)\", \"random\": \"rgb(255, 127, 14)\"}\n",
    "    \n",
    "    for i, pct in enumerate(training_percentages):\n",
    "        for j, test_col in enumerate(test_dataset_columns):\n",
    "            dataset_name = test_col\n",
    "            \n",
    "            # Filter data for this training percentage\n",
    "            df_pct = df[(df['percent_train'] == pct) & (df['learning_rate'] == learning_rate)]\n",
    "            \n",
    "            # Group by anonymization and epochs, calculate mean scores\n",
    "            for anon in anonymize_list:\n",
    "                df_group = df_pct[df_pct['anonymize'] == anon]\n",
    "                \n",
    "                # Skip if no data for this combination\n",
    "                if len(df_group) == 0:\n",
    "                    continue\n",
    "                \n",
    "                # Get average scores for each epoch\n",
    "                # print(df_group)\n",
    "                epoch_scores = df_group.groupby('max_steps')[test_col].mean().reset_index()\n",
    "                # print(epoch_scores)\n",
    "                # print(epoch_scores)\n",
    "                \n",
    "                # Add line to plot\n",
    "                fig.add_trace(\n",
    "                    go.Scatter(\n",
    "                        x=epoch_scores['max_steps'],\n",
    "                        y=epoch_scores[test_col],\n",
    "                        mode='lines+markers',\n",
    "                        name=f\"Anonymize={anon}\",\n",
    "                        line=dict(color=colors[str(anon)]),\n",
    "                        legendgroup=f\"Anonymize={anon}\",\n",
    "                        showlegend=(i==0 and j==0) # Only show legend once\n",
    "                    ),\n",
    "                    row=i+1, col=j+1\n",
    "                )\n",
    "            \n",
    "            # Update axis labels\n",
    "            if i == num_percentages-1:\n",
    "                fig.update_xaxes(title_text=\"Number of Epochs\", row=i+1, col=j+1)\n",
    "            if j == 0:\n",
    "                fig.update_yaxes(title_text=\"Score\", row=i+1, col=j+1)\n",
    "    \n",
    "    # Update layout\n",
    "    fig.update_layout(\n",
    "        height=200*num_percentages,\n",
    "        width=400*num_test_sets,\n",
    "        title_text=\"Anonymize vs Non-Anonymize Performance Comparison\",\n",
    "        legend_title=\"Anonymization Setting\",\n",
    "        margin=dict(t=50, b=20, l=20, r=20),\n",
    "    )\n",
    "    \n",
    "    return fig\n",
    "\n",
    "# Create and display the comparison plots\n",
    "for lr in learning_rate:\n",
    "    print(f\"Creating comparison plots for learning rate: {lr}\")\n",
    "    comparison_fig = create_anonymize_comparison_plots(lr)\n",
    "    comparison_fig.show()"
   ],
   "id": "b0e04f2013752f8c",
   "outputs": [
    {
     "name": "stdout",
     "output_type": "stream",
     "text": [
      "Creating comparison plots for learning rate: 0.00015\n"
     ]
    },
    {
     "data": {
      "application/vnd.plotly.v1+json": {
       "data": [
        {
         "legendgroup": "Anonymize=null",
         "line": {
          "color": "rgb(31, 119, 180)"
         },
         "mode": "lines+markers",
         "name": "Anonymize=null",
         "showlegend": true,
         "x": [
          50,
          100,
          200,
          400,
          800,
          1600,
          3200
         ],
         "y": [
          86.5,
          87.5,
          93.25,
          96.0,
          93.0,
          93.25,
          93.5
         ],
         "type": "scatter",
         "xaxis": "x",
         "yaxis": "y"
        },
        {
         "legendgroup": "Anonymize=random",
         "line": {
          "color": "rgb(255, 127, 14)"
         },
         "mode": "lines+markers",
         "name": "Anonymize=random",
         "showlegend": true,
         "x": [
          50,
          100,
          200,
          400,
          800,
          1600,
          3200
         ],
         "y": [
          76.75,
          79.0,
          80.75,
          73.0,
          77.75,
          79.5,
          72.75
         ],
         "type": "scatter",
         "xaxis": "x",
         "yaxis": "y"
        },
        {
         "legendgroup": "Anonymize=null",
         "line": {
          "color": "rgb(31, 119, 180)"
         },
         "mode": "lines+markers",
         "name": "Anonymize=null",
         "showlegend": false,
         "x": [
          50,
          100,
          200,
          400,
          800,
          1600,
          3200
         ],
         "y": [
          65.0,
          58.25,
          66.0,
          65.75,
          70.75,
          65.0,
          69.5
         ],
         "type": "scatter",
         "xaxis": "x2",
         "yaxis": "y2"
        },
        {
         "legendgroup": "Anonymize=random",
         "line": {
          "color": "rgb(255, 127, 14)"
         },
         "mode": "lines+markers",
         "name": "Anonymize=random",
         "showlegend": false,
         "x": [
          50,
          100,
          200,
          400,
          800,
          1600,
          3200
         ],
         "y": [
          66.75,
          72.75,
          70.75,
          72.0,
          69.75,
          74.0,
          72.25
         ],
         "type": "scatter",
         "xaxis": "x2",
         "yaxis": "y2"
        },
        {
         "legendgroup": "Anonymize=null",
         "line": {
          "color": "rgb(31, 119, 180)"
         },
         "mode": "lines+markers",
         "name": "Anonymize=null",
         "showlegend": false,
         "x": [
          50,
          100,
          200,
          400,
          800,
          1600,
          3200
         ],
         "y": [
          77.5,
          75.0,
          74.0,
          76.5,
          77.5,
          72.75,
          77.5
         ],
         "type": "scatter",
         "xaxis": "x3",
         "yaxis": "y3"
        },
        {
         "legendgroup": "Anonymize=random",
         "line": {
          "color": "rgb(255, 127, 14)"
         },
         "mode": "lines+markers",
         "name": "Anonymize=random",
         "showlegend": false,
         "x": [
          50,
          100,
          200,
          400,
          800,
          1600,
          3200
         ],
         "y": [
          72.0,
          77.0,
          78.0,
          74.75,
          77.75,
          76.75,
          73.25
         ],
         "type": "scatter",
         "xaxis": "x3",
         "yaxis": "y3"
        },
        {
         "legendgroup": "Anonymize=null",
         "line": {
          "color": "rgb(31, 119, 180)"
         },
         "mode": "lines+markers",
         "name": "Anonymize=null",
         "showlegend": false,
         "x": [
          50,
          100,
          200,
          400,
          800,
          1600,
          3200
         ],
         "y": [
          81.0,
          92.25,
          88.5,
          93.75,
          84.25,
          91.75,
          93.0
         ],
         "type": "scatter",
         "xaxis": "x4",
         "yaxis": "y4"
        },
        {
         "legendgroup": "Anonymize=random",
         "line": {
          "color": "rgb(255, 127, 14)"
         },
         "mode": "lines+markers",
         "name": "Anonymize=random",
         "showlegend": false,
         "x": [
          50,
          100,
          200,
          400,
          800,
          1600,
          3200
         ],
         "y": [
          82.0,
          82.25,
          81.5,
          81.5,
          79.75,
          78.0,
          84.0
         ],
         "type": "scatter",
         "xaxis": "x4",
         "yaxis": "y4"
        },
        {
         "legendgroup": "Anonymize=null",
         "line": {
          "color": "rgb(31, 119, 180)"
         },
         "mode": "lines+markers",
         "name": "Anonymize=null",
         "showlegend": false,
         "x": [
          50,
          100,
          200,
          400,
          800,
          1600,
          3200
         ],
         "y": [
          59.75,
          67.5,
          65.25,
          69.0,
          65.0,
          74.25,
          68.5
         ],
         "type": "scatter",
         "xaxis": "x5",
         "yaxis": "y5"
        },
        {
         "legendgroup": "Anonymize=random",
         "line": {
          "color": "rgb(255, 127, 14)"
         },
         "mode": "lines+markers",
         "name": "Anonymize=random",
         "showlegend": false,
         "x": [
          50,
          100,
          200,
          400,
          800,
          1600,
          3200
         ],
         "y": [
          73.75,
          77.5,
          71.5,
          73.75,
          75.5,
          75.75,
          76.0
         ],
         "type": "scatter",
         "xaxis": "x5",
         "yaxis": "y5"
        },
        {
         "legendgroup": "Anonymize=null",
         "line": {
          "color": "rgb(31, 119, 180)"
         },
         "mode": "lines+markers",
         "name": "Anonymize=null",
         "showlegend": false,
         "x": [
          50,
          100,
          200,
          400,
          800,
          1600,
          3200
         ],
         "y": [
          70.25,
          79.0,
          76.75,
          78.25,
          71.25,
          78.0,
          75.0
         ],
         "type": "scatter",
         "xaxis": "x6",
         "yaxis": "y6"
        },
        {
         "legendgroup": "Anonymize=random",
         "line": {
          "color": "rgb(255, 127, 14)"
         },
         "mode": "lines+markers",
         "name": "Anonymize=random",
         "showlegend": false,
         "x": [
          50,
          100,
          200,
          400,
          800,
          1600,
          3200
         ],
         "y": [
          77.5,
          86.75,
          81.5,
          79.0,
          80.0,
          77.25,
          80.5
         ],
         "type": "scatter",
         "xaxis": "x6",
         "yaxis": "y6"
        },
        {
         "legendgroup": "Anonymize=null",
         "line": {
          "color": "rgb(31, 119, 180)"
         },
         "mode": "lines+markers",
         "name": "Anonymize=null",
         "showlegend": false,
         "x": [
          50,
          100,
          200,
          400,
          800,
          1600,
          3200
         ],
         "y": [
          95.25,
          95.0,
          96.5,
          96.0,
          97.5,
          95.0,
          97.75
         ],
         "type": "scatter",
         "xaxis": "x7",
         "yaxis": "y7"
        },
        {
         "legendgroup": "Anonymize=random",
         "line": {
          "color": "rgb(255, 127, 14)"
         },
         "mode": "lines+markers",
         "name": "Anonymize=random",
         "showlegend": false,
         "x": [
          50,
          100,
          200,
          400,
          800,
          1600,
          3200
         ],
         "y": [
          79.0,
          84.5,
          88.75,
          89.75,
          87.5,
          85.75,
          85.5
         ],
         "type": "scatter",
         "xaxis": "x7",
         "yaxis": "y7"
        },
        {
         "legendgroup": "Anonymize=null",
         "line": {
          "color": "rgb(31, 119, 180)"
         },
         "mode": "lines+markers",
         "name": "Anonymize=null",
         "showlegend": false,
         "x": [
          50,
          100,
          200,
          400,
          800,
          1600,
          3200
         ],
         "y": [
          70.25,
          70.0,
          72.75,
          72.0,
          69.25,
          69.5,
          77.5
         ],
         "type": "scatter",
         "xaxis": "x8",
         "yaxis": "y8"
        },
        {
         "legendgroup": "Anonymize=random",
         "line": {
          "color": "rgb(255, 127, 14)"
         },
         "mode": "lines+markers",
         "name": "Anonymize=random",
         "showlegend": false,
         "x": [
          50,
          100,
          200,
          400,
          800,
          1600,
          3200
         ],
         "y": [
          69.75,
          75.25,
          80.25,
          80.5,
          77.5,
          79.25,
          77.75
         ],
         "type": "scatter",
         "xaxis": "x8",
         "yaxis": "y8"
        },
        {
         "legendgroup": "Anonymize=null",
         "line": {
          "color": "rgb(31, 119, 180)"
         },
         "mode": "lines+markers",
         "name": "Anonymize=null",
         "showlegend": false,
         "x": [
          50,
          100,
          200,
          400,
          800,
          1600,
          3200
         ],
         "y": [
          77.25,
          82.5,
          76.25,
          79.25,
          76.0,
          74.0,
          83.75
         ],
         "type": "scatter",
         "xaxis": "x9",
         "yaxis": "y9"
        },
        {
         "legendgroup": "Anonymize=random",
         "line": {
          "color": "rgb(255, 127, 14)"
         },
         "mode": "lines+markers",
         "name": "Anonymize=random",
         "showlegend": false,
         "x": [
          50,
          100,
          200,
          400,
          800,
          1600,
          3200
         ],
         "y": [
          78.0,
          79.25,
          83.5,
          84.25,
          83.25,
          84.0,
          83.75
         ],
         "type": "scatter",
         "xaxis": "x9",
         "yaxis": "y9"
        },
        {
         "legendgroup": "Anonymize=null",
         "line": {
          "color": "rgb(31, 119, 180)"
         },
         "mode": "lines+markers",
         "name": "Anonymize=null",
         "showlegend": false,
         "x": [
          50,
          100,
          200,
          400,
          800,
          1600,
          3200
         ],
         "y": [
          95.0,
          97.25,
          99.0,
          99.25,
          99.25,
          100.0,
          99.25
         ],
         "type": "scatter",
         "xaxis": "x10",
         "yaxis": "y10"
        },
        {
         "legendgroup": "Anonymize=random",
         "line": {
          "color": "rgb(255, 127, 14)"
         },
         "mode": "lines+markers",
         "name": "Anonymize=random",
         "showlegend": false,
         "x": [
          50,
          100,
          200,
          400,
          800,
          1600,
          3200
         ],
         "y": [
          81.5,
          83.75,
          89.25,
          90.0,
          91.75,
          94.0,
          93.5
         ],
         "type": "scatter",
         "xaxis": "x10",
         "yaxis": "y10"
        },
        {
         "legendgroup": "Anonymize=null",
         "line": {
          "color": "rgb(31, 119, 180)"
         },
         "mode": "lines+markers",
         "name": "Anonymize=null",
         "showlegend": false,
         "x": [
          50,
          100,
          200,
          400,
          800,
          1600,
          3200
         ],
         "y": [
          67.0,
          68.5,
          77.25,
          76.75,
          74.75,
          74.5,
          75.25
         ],
         "type": "scatter",
         "xaxis": "x11",
         "yaxis": "y11"
        },
        {
         "legendgroup": "Anonymize=random",
         "line": {
          "color": "rgb(255, 127, 14)"
         },
         "mode": "lines+markers",
         "name": "Anonymize=random",
         "showlegend": false,
         "x": [
          50,
          100,
          200,
          400,
          800,
          1600,
          3200
         ],
         "y": [
          71.75,
          74.5,
          80.0,
          81.75,
          83.0,
          84.75,
          82.5
         ],
         "type": "scatter",
         "xaxis": "x11",
         "yaxis": "y11"
        },
        {
         "legendgroup": "Anonymize=null",
         "line": {
          "color": "rgb(31, 119, 180)"
         },
         "mode": "lines+markers",
         "name": "Anonymize=null",
         "showlegend": false,
         "x": [
          50,
          100,
          200,
          400,
          800,
          1600,
          3200
         ],
         "y": [
          78.25,
          82.5,
          82.75,
          81.5,
          74.75,
          81.25,
          81.75
         ],
         "type": "scatter",
         "xaxis": "x12",
         "yaxis": "y12"
        },
        {
         "legendgroup": "Anonymize=random",
         "line": {
          "color": "rgb(255, 127, 14)"
         },
         "mode": "lines+markers",
         "name": "Anonymize=random",
         "showlegend": false,
         "x": [
          50,
          100,
          200,
          400,
          800,
          1600,
          3200
         ],
         "y": [
          78.5,
          82.75,
          85.75,
          84.0,
          90.75,
          89.5,
          88.75
         ],
         "type": "scatter",
         "xaxis": "x12",
         "yaxis": "y12"
        },
        {
         "legendgroup": "Anonymize=null",
         "line": {
          "color": "rgb(31, 119, 180)"
         },
         "mode": "lines+markers",
         "name": "Anonymize=null",
         "showlegend": false,
         "x": [
          50,
          100,
          200,
          400,
          800,
          1600,
          3200
         ],
         "y": [
          96.0,
          98.0,
          99.75,
          99.75,
          100.0,
          100.0,
          100.0
         ],
         "type": "scatter",
         "xaxis": "x13",
         "yaxis": "y13"
        },
        {
         "legendgroup": "Anonymize=random",
         "line": {
          "color": "rgb(255, 127, 14)"
         },
         "mode": "lines+markers",
         "name": "Anonymize=random",
         "showlegend": false,
         "x": [
          50,
          100,
          200,
          400,
          800,
          1600,
          3200
         ],
         "y": [
          82.0,
          79.75,
          86.5,
          89.75,
          95.25,
          97.0,
          98.0
         ],
         "type": "scatter",
         "xaxis": "x13",
         "yaxis": "y13"
        },
        {
         "legendgroup": "Anonymize=null",
         "line": {
          "color": "rgb(31, 119, 180)"
         },
         "mode": "lines+markers",
         "name": "Anonymize=null",
         "showlegend": false,
         "x": [
          50,
          100,
          200,
          400,
          800,
          1600,
          3200
         ],
         "y": [
          67.5,
          74.0,
          77.0,
          75.0,
          75.25,
          77.25,
          79.75
         ],
         "type": "scatter",
         "xaxis": "x14",
         "yaxis": "y14"
        },
        {
         "legendgroup": "Anonymize=random",
         "line": {
          "color": "rgb(255, 127, 14)"
         },
         "mode": "lines+markers",
         "name": "Anonymize=random",
         "showlegend": false,
         "x": [
          50,
          100,
          200,
          400,
          800,
          1600,
          3200
         ],
         "y": [
          74.75,
          73.0,
          78.25,
          81.5,
          88.25,
          87.25,
          87.25
         ],
         "type": "scatter",
         "xaxis": "x14",
         "yaxis": "y14"
        },
        {
         "legendgroup": "Anonymize=null",
         "line": {
          "color": "rgb(31, 119, 180)"
         },
         "mode": "lines+markers",
         "name": "Anonymize=null",
         "showlegend": false,
         "x": [
          50,
          100,
          200,
          400,
          800,
          1600,
          3200
         ],
         "y": [
          80.5,
          81.75,
          84.75,
          86.0,
          83.25,
          80.25,
          82.25
         ],
         "type": "scatter",
         "xaxis": "x15",
         "yaxis": "y15"
        },
        {
         "legendgroup": "Anonymize=random",
         "line": {
          "color": "rgb(255, 127, 14)"
         },
         "mode": "lines+markers",
         "name": "Anonymize=random",
         "showlegend": false,
         "x": [
          50,
          100,
          200,
          400,
          800,
          1600,
          3200
         ],
         "y": [
          75.25,
          83.25,
          85.25,
          89.75,
          92.75,
          94.0,
          92.5
         ],
         "type": "scatter",
         "xaxis": "x15",
         "yaxis": "y15"
        }
       ],
       "layout": {
        "template": {
         "data": {
          "histogram2dcontour": [
           {
            "type": "histogram2dcontour",
            "colorbar": {
             "outlinewidth": 0,
             "ticks": ""
            },
            "colorscale": [
             [
              0.0,
              "#0d0887"
             ],
             [
              0.1111111111111111,
              "#46039f"
             ],
             [
              0.2222222222222222,
              "#7201a8"
             ],
             [
              0.3333333333333333,
              "#9c179e"
             ],
             [
              0.4444444444444444,
              "#bd3786"
             ],
             [
              0.5555555555555556,
              "#d8576b"
             ],
             [
              0.6666666666666666,
              "#ed7953"
             ],
             [
              0.7777777777777778,
              "#fb9f3a"
             ],
             [
              0.8888888888888888,
              "#fdca26"
             ],
             [
              1.0,
              "#f0f921"
             ]
            ]
           }
          ],
          "choropleth": [
           {
            "type": "choropleth",
            "colorbar": {
             "outlinewidth": 0,
             "ticks": ""
            }
           }
          ],
          "histogram2d": [
           {
            "type": "histogram2d",
            "colorbar": {
             "outlinewidth": 0,
             "ticks": ""
            },
            "colorscale": [
             [
              0.0,
              "#0d0887"
             ],
             [
              0.1111111111111111,
              "#46039f"
             ],
             [
              0.2222222222222222,
              "#7201a8"
             ],
             [
              0.3333333333333333,
              "#9c179e"
             ],
             [
              0.4444444444444444,
              "#bd3786"
             ],
             [
              0.5555555555555556,
              "#d8576b"
             ],
             [
              0.6666666666666666,
              "#ed7953"
             ],
             [
              0.7777777777777778,
              "#fb9f3a"
             ],
             [
              0.8888888888888888,
              "#fdca26"
             ],
             [
              1.0,
              "#f0f921"
             ]
            ]
           }
          ],
          "heatmap": [
           {
            "type": "heatmap",
            "colorbar": {
             "outlinewidth": 0,
             "ticks": ""
            },
            "colorscale": [
             [
              0.0,
              "#0d0887"
             ],
             [
              0.1111111111111111,
              "#46039f"
             ],
             [
              0.2222222222222222,
              "#7201a8"
             ],
             [
              0.3333333333333333,
              "#9c179e"
             ],
             [
              0.4444444444444444,
              "#bd3786"
             ],
             [
              0.5555555555555556,
              "#d8576b"
             ],
             [
              0.6666666666666666,
              "#ed7953"
             ],
             [
              0.7777777777777778,
              "#fb9f3a"
             ],
             [
              0.8888888888888888,
              "#fdca26"
             ],
             [
              1.0,
              "#f0f921"
             ]
            ]
           }
          ],
          "heatmapgl": [
           {
            "type": "heatmapgl",
            "colorbar": {
             "outlinewidth": 0,
             "ticks": ""
            },
            "colorscale": [
             [
              0.0,
              "#0d0887"
             ],
             [
              0.1111111111111111,
              "#46039f"
             ],
             [
              0.2222222222222222,
              "#7201a8"
             ],
             [
              0.3333333333333333,
              "#9c179e"
             ],
             [
              0.4444444444444444,
              "#bd3786"
             ],
             [
              0.5555555555555556,
              "#d8576b"
             ],
             [
              0.6666666666666666,
              "#ed7953"
             ],
             [
              0.7777777777777778,
              "#fb9f3a"
             ],
             [
              0.8888888888888888,
              "#fdca26"
             ],
             [
              1.0,
              "#f0f921"
             ]
            ]
           }
          ],
          "contourcarpet": [
           {
            "type": "contourcarpet",
            "colorbar": {
             "outlinewidth": 0,
             "ticks": ""
            }
           }
          ],
          "contour": [
           {
            "type": "contour",
            "colorbar": {
             "outlinewidth": 0,
             "ticks": ""
            },
            "colorscale": [
             [
              0.0,
              "#0d0887"
             ],
             [
              0.1111111111111111,
              "#46039f"
             ],
             [
              0.2222222222222222,
              "#7201a8"
             ],
             [
              0.3333333333333333,
              "#9c179e"
             ],
             [
              0.4444444444444444,
              "#bd3786"
             ],
             [
              0.5555555555555556,
              "#d8576b"
             ],
             [
              0.6666666666666666,
              "#ed7953"
             ],
             [
              0.7777777777777778,
              "#fb9f3a"
             ],
             [
              0.8888888888888888,
              "#fdca26"
             ],
             [
              1.0,
              "#f0f921"
             ]
            ]
           }
          ],
          "surface": [
           {
            "type": "surface",
            "colorbar": {
             "outlinewidth": 0,
             "ticks": ""
            },
            "colorscale": [
             [
              0.0,
              "#0d0887"
             ],
             [
              0.1111111111111111,
              "#46039f"
             ],
             [
              0.2222222222222222,
              "#7201a8"
             ],
             [
              0.3333333333333333,
              "#9c179e"
             ],
             [
              0.4444444444444444,
              "#bd3786"
             ],
             [
              0.5555555555555556,
              "#d8576b"
             ],
             [
              0.6666666666666666,
              "#ed7953"
             ],
             [
              0.7777777777777778,
              "#fb9f3a"
             ],
             [
              0.8888888888888888,
              "#fdca26"
             ],
             [
              1.0,
              "#f0f921"
             ]
            ]
           }
          ],
          "mesh3d": [
           {
            "type": "mesh3d",
            "colorbar": {
             "outlinewidth": 0,
             "ticks": ""
            }
           }
          ],
          "scatter": [
           {
            "fillpattern": {
             "fillmode": "overlay",
             "size": 10,
             "solidity": 0.2
            },
            "type": "scatter"
           }
          ],
          "parcoords": [
           {
            "type": "parcoords",
            "line": {
             "colorbar": {
              "outlinewidth": 0,
              "ticks": ""
             }
            }
           }
          ],
          "scatterpolargl": [
           {
            "type": "scatterpolargl",
            "marker": {
             "colorbar": {
              "outlinewidth": 0,
              "ticks": ""
             }
            }
           }
          ],
          "bar": [
           {
            "error_x": {
             "color": "#2a3f5f"
            },
            "error_y": {
             "color": "#2a3f5f"
            },
            "marker": {
             "line": {
              "color": "#E5ECF6",
              "width": 0.5
             },
             "pattern": {
              "fillmode": "overlay",
              "size": 10,
              "solidity": 0.2
             }
            },
            "type": "bar"
           }
          ],
          "scattergeo": [
           {
            "type": "scattergeo",
            "marker": {
             "colorbar": {
              "outlinewidth": 0,
              "ticks": ""
             }
            }
           }
          ],
          "scatterpolar": [
           {
            "type": "scatterpolar",
            "marker": {
             "colorbar": {
              "outlinewidth": 0,
              "ticks": ""
             }
            }
           }
          ],
          "histogram": [
           {
            "marker": {
             "pattern": {
              "fillmode": "overlay",
              "size": 10,
              "solidity": 0.2
             }
            },
            "type": "histogram"
           }
          ],
          "scattergl": [
           {
            "type": "scattergl",
            "marker": {
             "colorbar": {
              "outlinewidth": 0,
              "ticks": ""
             }
            }
           }
          ],
          "scatter3d": [
           {
            "type": "scatter3d",
            "line": {
             "colorbar": {
              "outlinewidth": 0,
              "ticks": ""
             }
            },
            "marker": {
             "colorbar": {
              "outlinewidth": 0,
              "ticks": ""
             }
            }
           }
          ],
          "scattermapbox": [
           {
            "type": "scattermapbox",
            "marker": {
             "colorbar": {
              "outlinewidth": 0,
              "ticks": ""
             }
            }
           }
          ],
          "scatterternary": [
           {
            "type": "scatterternary",
            "marker": {
             "colorbar": {
              "outlinewidth": 0,
              "ticks": ""
             }
            }
           }
          ],
          "scattercarpet": [
           {
            "type": "scattercarpet",
            "marker": {
             "colorbar": {
              "outlinewidth": 0,
              "ticks": ""
             }
            }
           }
          ],
          "carpet": [
           {
            "aaxis": {
             "endlinecolor": "#2a3f5f",
             "gridcolor": "white",
             "linecolor": "white",
             "minorgridcolor": "white",
             "startlinecolor": "#2a3f5f"
            },
            "baxis": {
             "endlinecolor": "#2a3f5f",
             "gridcolor": "white",
             "linecolor": "white",
             "minorgridcolor": "white",
             "startlinecolor": "#2a3f5f"
            },
            "type": "carpet"
           }
          ],
          "table": [
           {
            "cells": {
             "fill": {
              "color": "#EBF0F8"
             },
             "line": {
              "color": "white"
             }
            },
            "header": {
             "fill": {
              "color": "#C8D4E3"
             },
             "line": {
              "color": "white"
             }
            },
            "type": "table"
           }
          ],
          "barpolar": [
           {
            "marker": {
             "line": {
              "color": "#E5ECF6",
              "width": 0.5
             },
             "pattern": {
              "fillmode": "overlay",
              "size": 10,
              "solidity": 0.2
             }
            },
            "type": "barpolar"
           }
          ],
          "pie": [
           {
            "automargin": true,
            "type": "pie"
           }
          ]
         },
         "layout": {
          "autotypenumbers": "strict",
          "colorway": [
           "#636efa",
           "#EF553B",
           "#00cc96",
           "#ab63fa",
           "#FFA15A",
           "#19d3f3",
           "#FF6692",
           "#B6E880",
           "#FF97FF",
           "#FECB52"
          ],
          "font": {
           "color": "#2a3f5f"
          },
          "hovermode": "closest",
          "hoverlabel": {
           "align": "left"
          },
          "paper_bgcolor": "white",
          "plot_bgcolor": "#E5ECF6",
          "polar": {
           "bgcolor": "#E5ECF6",
           "angularaxis": {
            "gridcolor": "white",
            "linecolor": "white",
            "ticks": ""
           },
           "radialaxis": {
            "gridcolor": "white",
            "linecolor": "white",
            "ticks": ""
           }
          },
          "ternary": {
           "bgcolor": "#E5ECF6",
           "aaxis": {
            "gridcolor": "white",
            "linecolor": "white",
            "ticks": ""
           },
           "baxis": {
            "gridcolor": "white",
            "linecolor": "white",
            "ticks": ""
           },
           "caxis": {
            "gridcolor": "white",
            "linecolor": "white",
            "ticks": ""
           }
          },
          "coloraxis": {
           "colorbar": {
            "outlinewidth": 0,
            "ticks": ""
           }
          },
          "colorscale": {
           "sequential": [
            [
             0.0,
             "#0d0887"
            ],
            [
             0.1111111111111111,
             "#46039f"
            ],
            [
             0.2222222222222222,
             "#7201a8"
            ],
            [
             0.3333333333333333,
             "#9c179e"
            ],
            [
             0.4444444444444444,
             "#bd3786"
            ],
            [
             0.5555555555555556,
             "#d8576b"
            ],
            [
             0.6666666666666666,
             "#ed7953"
            ],
            [
             0.7777777777777778,
             "#fb9f3a"
            ],
            [
             0.8888888888888888,
             "#fdca26"
            ],
            [
             1.0,
             "#f0f921"
            ]
           ],
           "sequentialminus": [
            [
             0.0,
             "#0d0887"
            ],
            [
             0.1111111111111111,
             "#46039f"
            ],
            [
             0.2222222222222222,
             "#7201a8"
            ],
            [
             0.3333333333333333,
             "#9c179e"
            ],
            [
             0.4444444444444444,
             "#bd3786"
            ],
            [
             0.5555555555555556,
             "#d8576b"
            ],
            [
             0.6666666666666666,
             "#ed7953"
            ],
            [
             0.7777777777777778,
             "#fb9f3a"
            ],
            [
             0.8888888888888888,
             "#fdca26"
            ],
            [
             1.0,
             "#f0f921"
            ]
           ],
           "diverging": [
            [
             0,
             "#8e0152"
            ],
            [
             0.1,
             "#c51b7d"
            ],
            [
             0.2,
             "#de77ae"
            ],
            [
             0.3,
             "#f1b6da"
            ],
            [
             0.4,
             "#fde0ef"
            ],
            [
             0.5,
             "#f7f7f7"
            ],
            [
             0.6,
             "#e6f5d0"
            ],
            [
             0.7,
             "#b8e186"
            ],
            [
             0.8,
             "#7fbc41"
            ],
            [
             0.9,
             "#4d9221"
            ],
            [
             1,
             "#276419"
            ]
           ]
          },
          "xaxis": {
           "gridcolor": "white",
           "linecolor": "white",
           "ticks": "",
           "title": {
            "standoff": 15
           },
           "zerolinecolor": "white",
           "automargin": true,
           "zerolinewidth": 2
          },
          "yaxis": {
           "gridcolor": "white",
           "linecolor": "white",
           "ticks": "",
           "title": {
            "standoff": 15
           },
           "zerolinecolor": "white",
           "automargin": true,
           "zerolinewidth": 2
          },
          "scene": {
           "xaxis": {
            "backgroundcolor": "#E5ECF6",
            "gridcolor": "white",
            "linecolor": "white",
            "showbackground": true,
            "ticks": "",
            "zerolinecolor": "white",
            "gridwidth": 2
           },
           "yaxis": {
            "backgroundcolor": "#E5ECF6",
            "gridcolor": "white",
            "linecolor": "white",
            "showbackground": true,
            "ticks": "",
            "zerolinecolor": "white",
            "gridwidth": 2
           },
           "zaxis": {
            "backgroundcolor": "#E5ECF6",
            "gridcolor": "white",
            "linecolor": "white",
            "showbackground": true,
            "ticks": "",
            "zerolinecolor": "white",
            "gridwidth": 2
           }
          },
          "shapedefaults": {
           "line": {
            "color": "#2a3f5f"
           }
          },
          "annotationdefaults": {
           "arrowcolor": "#2a3f5f",
           "arrowhead": 0,
           "arrowwidth": 1
          },
          "geo": {
           "bgcolor": "white",
           "landcolor": "#E5ECF6",
           "subunitcolor": "white",
           "showland": true,
           "showlakes": true,
           "lakecolor": "white"
          },
          "title": {
           "x": 0.05
          },
          "mapbox": {
           "style": "light"
          }
         }
        },
        "xaxis": {
         "anchor": "y",
         "domain": [
          0.0,
          0.3
         ]
        },
        "yaxis": {
         "anchor": "x",
         "domain": [
          0.8400000000000001,
          1.0
         ],
         "title": {
          "text": "Score"
         }
        },
        "xaxis2": {
         "anchor": "y2",
         "domain": [
          0.35,
          0.6499999999999999
         ]
        },
        "yaxis2": {
         "anchor": "x2",
         "domain": [
          0.8400000000000001,
          1.0
         ]
        },
        "xaxis3": {
         "anchor": "y3",
         "domain": [
          0.7,
          1.0
         ]
        },
        "yaxis3": {
         "anchor": "x3",
         "domain": [
          0.8400000000000001,
          1.0
         ]
        },
        "xaxis4": {
         "anchor": "y4",
         "domain": [
          0.0,
          0.3
         ]
        },
        "yaxis4": {
         "anchor": "x4",
         "domain": [
          0.63,
          0.79
         ],
         "title": {
          "text": "Score"
         }
        },
        "xaxis5": {
         "anchor": "y5",
         "domain": [
          0.35,
          0.6499999999999999
         ]
        },
        "yaxis5": {
         "anchor": "x5",
         "domain": [
          0.63,
          0.79
         ]
        },
        "xaxis6": {
         "anchor": "y6",
         "domain": [
          0.7,
          1.0
         ]
        },
        "yaxis6": {
         "anchor": "x6",
         "domain": [
          0.63,
          0.79
         ]
        },
        "xaxis7": {
         "anchor": "y7",
         "domain": [
          0.0,
          0.3
         ]
        },
        "yaxis7": {
         "anchor": "x7",
         "domain": [
          0.42000000000000004,
          0.5800000000000001
         ],
         "title": {
          "text": "Score"
         }
        },
        "xaxis8": {
         "anchor": "y8",
         "domain": [
          0.35,
          0.6499999999999999
         ]
        },
        "yaxis8": {
         "anchor": "x8",
         "domain": [
          0.42000000000000004,
          0.5800000000000001
         ]
        },
        "xaxis9": {
         "anchor": "y9",
         "domain": [
          0.7,
          1.0
         ]
        },
        "yaxis9": {
         "anchor": "x9",
         "domain": [
          0.42000000000000004,
          0.5800000000000001
         ]
        },
        "xaxis10": {
         "anchor": "y10",
         "domain": [
          0.0,
          0.3
         ]
        },
        "yaxis10": {
         "anchor": "x10",
         "domain": [
          0.21000000000000002,
          0.37
         ],
         "title": {
          "text": "Score"
         }
        },
        "xaxis11": {
         "anchor": "y11",
         "domain": [
          0.35,
          0.6499999999999999
         ]
        },
        "yaxis11": {
         "anchor": "x11",
         "domain": [
          0.21000000000000002,
          0.37
         ]
        },
        "xaxis12": {
         "anchor": "y12",
         "domain": [
          0.7,
          1.0
         ]
        },
        "yaxis12": {
         "anchor": "x12",
         "domain": [
          0.21000000000000002,
          0.37
         ]
        },
        "xaxis13": {
         "anchor": "y13",
         "domain": [
          0.0,
          0.3
         ],
         "title": {
          "text": "Number of Epochs"
         }
        },
        "yaxis13": {
         "anchor": "x13",
         "domain": [
          0.0,
          0.16
         ],
         "title": {
          "text": "Score"
         }
        },
        "xaxis14": {
         "anchor": "y14",
         "domain": [
          0.35,
          0.6499999999999999
         ],
         "title": {
          "text": "Number of Epochs"
         }
        },
        "yaxis14": {
         "anchor": "x14",
         "domain": [
          0.0,
          0.16
         ]
        },
        "xaxis15": {
         "anchor": "y15",
         "domain": [
          0.7,
          1.0
         ],
         "title": {
          "text": "Number of Epochs"
         }
        },
        "yaxis15": {
         "anchor": "x15",
         "domain": [
          0.0,
          0.16
         ]
        },
        "annotations": [
         {
          "font": {
           "size": 16
          },
          "showarrow": false,
          "text": "prontoqa - 0.5% Training",
          "x": 0.15,
          "xanchor": "center",
          "xref": "paper",
          "y": 1.0,
          "yanchor": "bottom",
          "yref": "paper"
         },
         {
          "font": {
           "size": 16
          },
          "showarrow": false,
          "text": "anticommonsense - 0.5% Training",
          "x": 0.49999999999999994,
          "xanchor": "center",
          "xref": "paper",
          "y": 1.0,
          "yanchor": "bottom",
          "yref": "paper"
         },
         {
          "font": {
           "size": 16
          },
          "showarrow": false,
          "text": "noncommonsense - 0.5% Training",
          "x": 0.85,
          "xanchor": "center",
          "xref": "paper",
          "y": 1.0,
          "yanchor": "bottom",
          "yref": "paper"
         },
         {
          "font": {
           "size": 16
          },
          "showarrow": false,
          "text": "prontoqa - 1.0% Training",
          "x": 0.15,
          "xanchor": "center",
          "xref": "paper",
          "y": 0.79,
          "yanchor": "bottom",
          "yref": "paper"
         },
         {
          "font": {
           "size": 16
          },
          "showarrow": false,
          "text": "anticommonsense - 1.0% Training",
          "x": 0.49999999999999994,
          "xanchor": "center",
          "xref": "paper",
          "y": 0.79,
          "yanchor": "bottom",
          "yref": "paper"
         },
         {
          "font": {
           "size": 16
          },
          "showarrow": false,
          "text": "noncommonsense - 1.0% Training",
          "x": 0.85,
          "xanchor": "center",
          "xref": "paper",
          "y": 0.79,
          "yanchor": "bottom",
          "yref": "paper"
         },
         {
          "font": {
           "size": 16
          },
          "showarrow": false,
          "text": "prontoqa - 2.0% Training",
          "x": 0.15,
          "xanchor": "center",
          "xref": "paper",
          "y": 0.5800000000000001,
          "yanchor": "bottom",
          "yref": "paper"
         },
         {
          "font": {
           "size": 16
          },
          "showarrow": false,
          "text": "anticommonsense - 2.0% Training",
          "x": 0.49999999999999994,
          "xanchor": "center",
          "xref": "paper",
          "y": 0.5800000000000001,
          "yanchor": "bottom",
          "yref": "paper"
         },
         {
          "font": {
           "size": 16
          },
          "showarrow": false,
          "text": "noncommonsense - 2.0% Training",
          "x": 0.85,
          "xanchor": "center",
          "xref": "paper",
          "y": 0.5800000000000001,
          "yanchor": "bottom",
          "yref": "paper"
         },
         {
          "font": {
           "size": 16
          },
          "showarrow": false,
          "text": "prontoqa - 5.0% Training",
          "x": 0.15,
          "xanchor": "center",
          "xref": "paper",
          "y": 0.37,
          "yanchor": "bottom",
          "yref": "paper"
         },
         {
          "font": {
           "size": 16
          },
          "showarrow": false,
          "text": "anticommonsense - 5.0% Training",
          "x": 0.49999999999999994,
          "xanchor": "center",
          "xref": "paper",
          "y": 0.37,
          "yanchor": "bottom",
          "yref": "paper"
         },
         {
          "font": {
           "size": 16
          },
          "showarrow": false,
          "text": "noncommonsense - 5.0% Training",
          "x": 0.85,
          "xanchor": "center",
          "xref": "paper",
          "y": 0.37,
          "yanchor": "bottom",
          "yref": "paper"
         },
         {
          "font": {
           "size": 16
          },
          "showarrow": false,
          "text": "prontoqa - 10.0% Training",
          "x": 0.15,
          "xanchor": "center",
          "xref": "paper",
          "y": 0.16,
          "yanchor": "bottom",
          "yref": "paper"
         },
         {
          "font": {
           "size": 16
          },
          "showarrow": false,
          "text": "anticommonsense - 10.0% Training",
          "x": 0.49999999999999994,
          "xanchor": "center",
          "xref": "paper",
          "y": 0.16,
          "yanchor": "bottom",
          "yref": "paper"
         },
         {
          "font": {
           "size": 16
          },
          "showarrow": false,
          "text": "noncommonsense - 10.0% Training",
          "x": 0.85,
          "xanchor": "center",
          "xref": "paper",
          "y": 0.16,
          "yanchor": "bottom",
          "yref": "paper"
         }
        ],
        "title": {
         "text": "Anonymize vs Non-Anonymize Performance Comparison"
        },
        "margin": {
         "t": 50,
         "b": 20,
         "l": 20,
         "r": 20
        },
        "height": 1000,
        "width": 1200,
        "legend": {
         "title": {
          "text": "Anonymization Setting"
         }
        }
       },
       "config": {
        "plotlyServerURL": "https://plot.ly"
       }
      },
      "text/html": [
       "<div>                            <div id=\"50f36cb6-df59-47ea-8457-e49e413b06d0\" class=\"plotly-graph-div\" style=\"height:1000px; width:1200px;\"></div>            <script type=\"text/javascript\">                require([\"plotly\"], function(Plotly) {                    window.PLOTLYENV=window.PLOTLYENV || {};                                    if (document.getElementById(\"50f36cb6-df59-47ea-8457-e49e413b06d0\")) {                    Plotly.newPlot(                        \"50f36cb6-df59-47ea-8457-e49e413b06d0\",                        [{\"legendgroup\":\"Anonymize=null\",\"line\":{\"color\":\"rgb(31, 119, 180)\"},\"mode\":\"lines+markers\",\"name\":\"Anonymize=null\",\"showlegend\":true,\"x\":[50,100,200,400,800,1600,3200],\"y\":[86.5,87.5,93.25,96.0,93.0,93.25,93.5],\"type\":\"scatter\",\"xaxis\":\"x\",\"yaxis\":\"y\"},{\"legendgroup\":\"Anonymize=random\",\"line\":{\"color\":\"rgb(255, 127, 14)\"},\"mode\":\"lines+markers\",\"name\":\"Anonymize=random\",\"showlegend\":true,\"x\":[50,100,200,400,800,1600,3200],\"y\":[76.75,79.0,80.75,73.0,77.75,79.5,72.75],\"type\":\"scatter\",\"xaxis\":\"x\",\"yaxis\":\"y\"},{\"legendgroup\":\"Anonymize=null\",\"line\":{\"color\":\"rgb(31, 119, 180)\"},\"mode\":\"lines+markers\",\"name\":\"Anonymize=null\",\"showlegend\":false,\"x\":[50,100,200,400,800,1600,3200],\"y\":[65.0,58.25,66.0,65.75,70.75,65.0,69.5],\"type\":\"scatter\",\"xaxis\":\"x2\",\"yaxis\":\"y2\"},{\"legendgroup\":\"Anonymize=random\",\"line\":{\"color\":\"rgb(255, 127, 14)\"},\"mode\":\"lines+markers\",\"name\":\"Anonymize=random\",\"showlegend\":false,\"x\":[50,100,200,400,800,1600,3200],\"y\":[66.75,72.75,70.75,72.0,69.75,74.0,72.25],\"type\":\"scatter\",\"xaxis\":\"x2\",\"yaxis\":\"y2\"},{\"legendgroup\":\"Anonymize=null\",\"line\":{\"color\":\"rgb(31, 119, 180)\"},\"mode\":\"lines+markers\",\"name\":\"Anonymize=null\",\"showlegend\":false,\"x\":[50,100,200,400,800,1600,3200],\"y\":[77.5,75.0,74.0,76.5,77.5,72.75,77.5],\"type\":\"scatter\",\"xaxis\":\"x3\",\"yaxis\":\"y3\"},{\"legendgroup\":\"Anonymize=random\",\"line\":{\"color\":\"rgb(255, 127, 14)\"},\"mode\":\"lines+markers\",\"name\":\"Anonymize=random\",\"showlegend\":false,\"x\":[50,100,200,400,800,1600,3200],\"y\":[72.0,77.0,78.0,74.75,77.75,76.75,73.25],\"type\":\"scatter\",\"xaxis\":\"x3\",\"yaxis\":\"y3\"},{\"legendgroup\":\"Anonymize=null\",\"line\":{\"color\":\"rgb(31, 119, 180)\"},\"mode\":\"lines+markers\",\"name\":\"Anonymize=null\",\"showlegend\":false,\"x\":[50,100,200,400,800,1600,3200],\"y\":[81.0,92.25,88.5,93.75,84.25,91.75,93.0],\"type\":\"scatter\",\"xaxis\":\"x4\",\"yaxis\":\"y4\"},{\"legendgroup\":\"Anonymize=random\",\"line\":{\"color\":\"rgb(255, 127, 14)\"},\"mode\":\"lines+markers\",\"name\":\"Anonymize=random\",\"showlegend\":false,\"x\":[50,100,200,400,800,1600,3200],\"y\":[82.0,82.25,81.5,81.5,79.75,78.0,84.0],\"type\":\"scatter\",\"xaxis\":\"x4\",\"yaxis\":\"y4\"},{\"legendgroup\":\"Anonymize=null\",\"line\":{\"color\":\"rgb(31, 119, 180)\"},\"mode\":\"lines+markers\",\"name\":\"Anonymize=null\",\"showlegend\":false,\"x\":[50,100,200,400,800,1600,3200],\"y\":[59.75,67.5,65.25,69.0,65.0,74.25,68.5],\"type\":\"scatter\",\"xaxis\":\"x5\",\"yaxis\":\"y5\"},{\"legendgroup\":\"Anonymize=random\",\"line\":{\"color\":\"rgb(255, 127, 14)\"},\"mode\":\"lines+markers\",\"name\":\"Anonymize=random\",\"showlegend\":false,\"x\":[50,100,200,400,800,1600,3200],\"y\":[73.75,77.5,71.5,73.75,75.5,75.75,76.0],\"type\":\"scatter\",\"xaxis\":\"x5\",\"yaxis\":\"y5\"},{\"legendgroup\":\"Anonymize=null\",\"line\":{\"color\":\"rgb(31, 119, 180)\"},\"mode\":\"lines+markers\",\"name\":\"Anonymize=null\",\"showlegend\":false,\"x\":[50,100,200,400,800,1600,3200],\"y\":[70.25,79.0,76.75,78.25,71.25,78.0,75.0],\"type\":\"scatter\",\"xaxis\":\"x6\",\"yaxis\":\"y6\"},{\"legendgroup\":\"Anonymize=random\",\"line\":{\"color\":\"rgb(255, 127, 14)\"},\"mode\":\"lines+markers\",\"name\":\"Anonymize=random\",\"showlegend\":false,\"x\":[50,100,200,400,800,1600,3200],\"y\":[77.5,86.75,81.5,79.0,80.0,77.25,80.5],\"type\":\"scatter\",\"xaxis\":\"x6\",\"yaxis\":\"y6\"},{\"legendgroup\":\"Anonymize=null\",\"line\":{\"color\":\"rgb(31, 119, 180)\"},\"mode\":\"lines+markers\",\"name\":\"Anonymize=null\",\"showlegend\":false,\"x\":[50,100,200,400,800,1600,3200],\"y\":[95.25,95.0,96.5,96.0,97.5,95.0,97.75],\"type\":\"scatter\",\"xaxis\":\"x7\",\"yaxis\":\"y7\"},{\"legendgroup\":\"Anonymize=random\",\"line\":{\"color\":\"rgb(255, 127, 14)\"},\"mode\":\"lines+markers\",\"name\":\"Anonymize=random\",\"showlegend\":false,\"x\":[50,100,200,400,800,1600,3200],\"y\":[79.0,84.5,88.75,89.75,87.5,85.75,85.5],\"type\":\"scatter\",\"xaxis\":\"x7\",\"yaxis\":\"y7\"},{\"legendgroup\":\"Anonymize=null\",\"line\":{\"color\":\"rgb(31, 119, 180)\"},\"mode\":\"lines+markers\",\"name\":\"Anonymize=null\",\"showlegend\":false,\"x\":[50,100,200,400,800,1600,3200],\"y\":[70.25,70.0,72.75,72.0,69.25,69.5,77.5],\"type\":\"scatter\",\"xaxis\":\"x8\",\"yaxis\":\"y8\"},{\"legendgroup\":\"Anonymize=random\",\"line\":{\"color\":\"rgb(255, 127, 14)\"},\"mode\":\"lines+markers\",\"name\":\"Anonymize=random\",\"showlegend\":false,\"x\":[50,100,200,400,800,1600,3200],\"y\":[69.75,75.25,80.25,80.5,77.5,79.25,77.75],\"type\":\"scatter\",\"xaxis\":\"x8\",\"yaxis\":\"y8\"},{\"legendgroup\":\"Anonymize=null\",\"line\":{\"color\":\"rgb(31, 119, 180)\"},\"mode\":\"lines+markers\",\"name\":\"Anonymize=null\",\"showlegend\":false,\"x\":[50,100,200,400,800,1600,3200],\"y\":[77.25,82.5,76.25,79.25,76.0,74.0,83.75],\"type\":\"scatter\",\"xaxis\":\"x9\",\"yaxis\":\"y9\"},{\"legendgroup\":\"Anonymize=random\",\"line\":{\"color\":\"rgb(255, 127, 14)\"},\"mode\":\"lines+markers\",\"name\":\"Anonymize=random\",\"showlegend\":false,\"x\":[50,100,200,400,800,1600,3200],\"y\":[78.0,79.25,83.5,84.25,83.25,84.0,83.75],\"type\":\"scatter\",\"xaxis\":\"x9\",\"yaxis\":\"y9\"},{\"legendgroup\":\"Anonymize=null\",\"line\":{\"color\":\"rgb(31, 119, 180)\"},\"mode\":\"lines+markers\",\"name\":\"Anonymize=null\",\"showlegend\":false,\"x\":[50,100,200,400,800,1600,3200],\"y\":[95.0,97.25,99.0,99.25,99.25,100.0,99.25],\"type\":\"scatter\",\"xaxis\":\"x10\",\"yaxis\":\"y10\"},{\"legendgroup\":\"Anonymize=random\",\"line\":{\"color\":\"rgb(255, 127, 14)\"},\"mode\":\"lines+markers\",\"name\":\"Anonymize=random\",\"showlegend\":false,\"x\":[50,100,200,400,800,1600,3200],\"y\":[81.5,83.75,89.25,90.0,91.75,94.0,93.5],\"type\":\"scatter\",\"xaxis\":\"x10\",\"yaxis\":\"y10\"},{\"legendgroup\":\"Anonymize=null\",\"line\":{\"color\":\"rgb(31, 119, 180)\"},\"mode\":\"lines+markers\",\"name\":\"Anonymize=null\",\"showlegend\":false,\"x\":[50,100,200,400,800,1600,3200],\"y\":[67.0,68.5,77.25,76.75,74.75,74.5,75.25],\"type\":\"scatter\",\"xaxis\":\"x11\",\"yaxis\":\"y11\"},{\"legendgroup\":\"Anonymize=random\",\"line\":{\"color\":\"rgb(255, 127, 14)\"},\"mode\":\"lines+markers\",\"name\":\"Anonymize=random\",\"showlegend\":false,\"x\":[50,100,200,400,800,1600,3200],\"y\":[71.75,74.5,80.0,81.75,83.0,84.75,82.5],\"type\":\"scatter\",\"xaxis\":\"x11\",\"yaxis\":\"y11\"},{\"legendgroup\":\"Anonymize=null\",\"line\":{\"color\":\"rgb(31, 119, 180)\"},\"mode\":\"lines+markers\",\"name\":\"Anonymize=null\",\"showlegend\":false,\"x\":[50,100,200,400,800,1600,3200],\"y\":[78.25,82.5,82.75,81.5,74.75,81.25,81.75],\"type\":\"scatter\",\"xaxis\":\"x12\",\"yaxis\":\"y12\"},{\"legendgroup\":\"Anonymize=random\",\"line\":{\"color\":\"rgb(255, 127, 14)\"},\"mode\":\"lines+markers\",\"name\":\"Anonymize=random\",\"showlegend\":false,\"x\":[50,100,200,400,800,1600,3200],\"y\":[78.5,82.75,85.75,84.0,90.75,89.5,88.75],\"type\":\"scatter\",\"xaxis\":\"x12\",\"yaxis\":\"y12\"},{\"legendgroup\":\"Anonymize=null\",\"line\":{\"color\":\"rgb(31, 119, 180)\"},\"mode\":\"lines+markers\",\"name\":\"Anonymize=null\",\"showlegend\":false,\"x\":[50,100,200,400,800,1600,3200],\"y\":[96.0,98.0,99.75,99.75,100.0,100.0,100.0],\"type\":\"scatter\",\"xaxis\":\"x13\",\"yaxis\":\"y13\"},{\"legendgroup\":\"Anonymize=random\",\"line\":{\"color\":\"rgb(255, 127, 14)\"},\"mode\":\"lines+markers\",\"name\":\"Anonymize=random\",\"showlegend\":false,\"x\":[50,100,200,400,800,1600,3200],\"y\":[82.0,79.75,86.5,89.75,95.25,97.0,98.0],\"type\":\"scatter\",\"xaxis\":\"x13\",\"yaxis\":\"y13\"},{\"legendgroup\":\"Anonymize=null\",\"line\":{\"color\":\"rgb(31, 119, 180)\"},\"mode\":\"lines+markers\",\"name\":\"Anonymize=null\",\"showlegend\":false,\"x\":[50,100,200,400,800,1600,3200],\"y\":[67.5,74.0,77.0,75.0,75.25,77.25,79.75],\"type\":\"scatter\",\"xaxis\":\"x14\",\"yaxis\":\"y14\"},{\"legendgroup\":\"Anonymize=random\",\"line\":{\"color\":\"rgb(255, 127, 14)\"},\"mode\":\"lines+markers\",\"name\":\"Anonymize=random\",\"showlegend\":false,\"x\":[50,100,200,400,800,1600,3200],\"y\":[74.75,73.0,78.25,81.5,88.25,87.25,87.25],\"type\":\"scatter\",\"xaxis\":\"x14\",\"yaxis\":\"y14\"},{\"legendgroup\":\"Anonymize=null\",\"line\":{\"color\":\"rgb(31, 119, 180)\"},\"mode\":\"lines+markers\",\"name\":\"Anonymize=null\",\"showlegend\":false,\"x\":[50,100,200,400,800,1600,3200],\"y\":[80.5,81.75,84.75,86.0,83.25,80.25,82.25],\"type\":\"scatter\",\"xaxis\":\"x15\",\"yaxis\":\"y15\"},{\"legendgroup\":\"Anonymize=random\",\"line\":{\"color\":\"rgb(255, 127, 14)\"},\"mode\":\"lines+markers\",\"name\":\"Anonymize=random\",\"showlegend\":false,\"x\":[50,100,200,400,800,1600,3200],\"y\":[75.25,83.25,85.25,89.75,92.75,94.0,92.5],\"type\":\"scatter\",\"xaxis\":\"x15\",\"yaxis\":\"y15\"}],                        {\"template\":{\"data\":{\"histogram2dcontour\":[{\"type\":\"histogram2dcontour\",\"colorbar\":{\"outlinewidth\":0,\"ticks\":\"\"},\"colorscale\":[[0.0,\"#0d0887\"],[0.1111111111111111,\"#46039f\"],[0.2222222222222222,\"#7201a8\"],[0.3333333333333333,\"#9c179e\"],[0.4444444444444444,\"#bd3786\"],[0.5555555555555556,\"#d8576b\"],[0.6666666666666666,\"#ed7953\"],[0.7777777777777778,\"#fb9f3a\"],[0.8888888888888888,\"#fdca26\"],[1.0,\"#f0f921\"]]}],\"choropleth\":[{\"type\":\"choropleth\",\"colorbar\":{\"outlinewidth\":0,\"ticks\":\"\"}}],\"histogram2d\":[{\"type\":\"histogram2d\",\"colorbar\":{\"outlinewidth\":0,\"ticks\":\"\"},\"colorscale\":[[0.0,\"#0d0887\"],[0.1111111111111111,\"#46039f\"],[0.2222222222222222,\"#7201a8\"],[0.3333333333333333,\"#9c179e\"],[0.4444444444444444,\"#bd3786\"],[0.5555555555555556,\"#d8576b\"],[0.6666666666666666,\"#ed7953\"],[0.7777777777777778,\"#fb9f3a\"],[0.8888888888888888,\"#fdca26\"],[1.0,\"#f0f921\"]]}],\"heatmap\":[{\"type\":\"heatmap\",\"colorbar\":{\"outlinewidth\":0,\"ticks\":\"\"},\"colorscale\":[[0.0,\"#0d0887\"],[0.1111111111111111,\"#46039f\"],[0.2222222222222222,\"#7201a8\"],[0.3333333333333333,\"#9c179e\"],[0.4444444444444444,\"#bd3786\"],[0.5555555555555556,\"#d8576b\"],[0.6666666666666666,\"#ed7953\"],[0.7777777777777778,\"#fb9f3a\"],[0.8888888888888888,\"#fdca26\"],[1.0,\"#f0f921\"]]}],\"heatmapgl\":[{\"type\":\"heatmapgl\",\"colorbar\":{\"outlinewidth\":0,\"ticks\":\"\"},\"colorscale\":[[0.0,\"#0d0887\"],[0.1111111111111111,\"#46039f\"],[0.2222222222222222,\"#7201a8\"],[0.3333333333333333,\"#9c179e\"],[0.4444444444444444,\"#bd3786\"],[0.5555555555555556,\"#d8576b\"],[0.6666666666666666,\"#ed7953\"],[0.7777777777777778,\"#fb9f3a\"],[0.8888888888888888,\"#fdca26\"],[1.0,\"#f0f921\"]]}],\"contourcarpet\":[{\"type\":\"contourcarpet\",\"colorbar\":{\"outlinewidth\":0,\"ticks\":\"\"}}],\"contour\":[{\"type\":\"contour\",\"colorbar\":{\"outlinewidth\":0,\"ticks\":\"\"},\"colorscale\":[[0.0,\"#0d0887\"],[0.1111111111111111,\"#46039f\"],[0.2222222222222222,\"#7201a8\"],[0.3333333333333333,\"#9c179e\"],[0.4444444444444444,\"#bd3786\"],[0.5555555555555556,\"#d8576b\"],[0.6666666666666666,\"#ed7953\"],[0.7777777777777778,\"#fb9f3a\"],[0.8888888888888888,\"#fdca26\"],[1.0,\"#f0f921\"]]}],\"surface\":[{\"type\":\"surface\",\"colorbar\":{\"outlinewidth\":0,\"ticks\":\"\"},\"colorscale\":[[0.0,\"#0d0887\"],[0.1111111111111111,\"#46039f\"],[0.2222222222222222,\"#7201a8\"],[0.3333333333333333,\"#9c179e\"],[0.4444444444444444,\"#bd3786\"],[0.5555555555555556,\"#d8576b\"],[0.6666666666666666,\"#ed7953\"],[0.7777777777777778,\"#fb9f3a\"],[0.8888888888888888,\"#fdca26\"],[1.0,\"#f0f921\"]]}],\"mesh3d\":[{\"type\":\"mesh3d\",\"colorbar\":{\"outlinewidth\":0,\"ticks\":\"\"}}],\"scatter\":[{\"fillpattern\":{\"fillmode\":\"overlay\",\"size\":10,\"solidity\":0.2},\"type\":\"scatter\"}],\"parcoords\":[{\"type\":\"parcoords\",\"line\":{\"colorbar\":{\"outlinewidth\":0,\"ticks\":\"\"}}}],\"scatterpolargl\":[{\"type\":\"scatterpolargl\",\"marker\":{\"colorbar\":{\"outlinewidth\":0,\"ticks\":\"\"}}}],\"bar\":[{\"error_x\":{\"color\":\"#2a3f5f\"},\"error_y\":{\"color\":\"#2a3f5f\"},\"marker\":{\"line\":{\"color\":\"#E5ECF6\",\"width\":0.5},\"pattern\":{\"fillmode\":\"overlay\",\"size\":10,\"solidity\":0.2}},\"type\":\"bar\"}],\"scattergeo\":[{\"type\":\"scattergeo\",\"marker\":{\"colorbar\":{\"outlinewidth\":0,\"ticks\":\"\"}}}],\"scatterpolar\":[{\"type\":\"scatterpolar\",\"marker\":{\"colorbar\":{\"outlinewidth\":0,\"ticks\":\"\"}}}],\"histogram\":[{\"marker\":{\"pattern\":{\"fillmode\":\"overlay\",\"size\":10,\"solidity\":0.2}},\"type\":\"histogram\"}],\"scattergl\":[{\"type\":\"scattergl\",\"marker\":{\"colorbar\":{\"outlinewidth\":0,\"ticks\":\"\"}}}],\"scatter3d\":[{\"type\":\"scatter3d\",\"line\":{\"colorbar\":{\"outlinewidth\":0,\"ticks\":\"\"}},\"marker\":{\"colorbar\":{\"outlinewidth\":0,\"ticks\":\"\"}}}],\"scattermapbox\":[{\"type\":\"scattermapbox\",\"marker\":{\"colorbar\":{\"outlinewidth\":0,\"ticks\":\"\"}}}],\"scatterternary\":[{\"type\":\"scatterternary\",\"marker\":{\"colorbar\":{\"outlinewidth\":0,\"ticks\":\"\"}}}],\"scattercarpet\":[{\"type\":\"scattercarpet\",\"marker\":{\"colorbar\":{\"outlinewidth\":0,\"ticks\":\"\"}}}],\"carpet\":[{\"aaxis\":{\"endlinecolor\":\"#2a3f5f\",\"gridcolor\":\"white\",\"linecolor\":\"white\",\"minorgridcolor\":\"white\",\"startlinecolor\":\"#2a3f5f\"},\"baxis\":{\"endlinecolor\":\"#2a3f5f\",\"gridcolor\":\"white\",\"linecolor\":\"white\",\"minorgridcolor\":\"white\",\"startlinecolor\":\"#2a3f5f\"},\"type\":\"carpet\"}],\"table\":[{\"cells\":{\"fill\":{\"color\":\"#EBF0F8\"},\"line\":{\"color\":\"white\"}},\"header\":{\"fill\":{\"color\":\"#C8D4E3\"},\"line\":{\"color\":\"white\"}},\"type\":\"table\"}],\"barpolar\":[{\"marker\":{\"line\":{\"color\":\"#E5ECF6\",\"width\":0.5},\"pattern\":{\"fillmode\":\"overlay\",\"size\":10,\"solidity\":0.2}},\"type\":\"barpolar\"}],\"pie\":[{\"automargin\":true,\"type\":\"pie\"}]},\"layout\":{\"autotypenumbers\":\"strict\",\"colorway\":[\"#636efa\",\"#EF553B\",\"#00cc96\",\"#ab63fa\",\"#FFA15A\",\"#19d3f3\",\"#FF6692\",\"#B6E880\",\"#FF97FF\",\"#FECB52\"],\"font\":{\"color\":\"#2a3f5f\"},\"hovermode\":\"closest\",\"hoverlabel\":{\"align\":\"left\"},\"paper_bgcolor\":\"white\",\"plot_bgcolor\":\"#E5ECF6\",\"polar\":{\"bgcolor\":\"#E5ECF6\",\"angularaxis\":{\"gridcolor\":\"white\",\"linecolor\":\"white\",\"ticks\":\"\"},\"radialaxis\":{\"gridcolor\":\"white\",\"linecolor\":\"white\",\"ticks\":\"\"}},\"ternary\":{\"bgcolor\":\"#E5ECF6\",\"aaxis\":{\"gridcolor\":\"white\",\"linecolor\":\"white\",\"ticks\":\"\"},\"baxis\":{\"gridcolor\":\"white\",\"linecolor\":\"white\",\"ticks\":\"\"},\"caxis\":{\"gridcolor\":\"white\",\"linecolor\":\"white\",\"ticks\":\"\"}},\"coloraxis\":{\"colorbar\":{\"outlinewidth\":0,\"ticks\":\"\"}},\"colorscale\":{\"sequential\":[[0.0,\"#0d0887\"],[0.1111111111111111,\"#46039f\"],[0.2222222222222222,\"#7201a8\"],[0.3333333333333333,\"#9c179e\"],[0.4444444444444444,\"#bd3786\"],[0.5555555555555556,\"#d8576b\"],[0.6666666666666666,\"#ed7953\"],[0.7777777777777778,\"#fb9f3a\"],[0.8888888888888888,\"#fdca26\"],[1.0,\"#f0f921\"]],\"sequentialminus\":[[0.0,\"#0d0887\"],[0.1111111111111111,\"#46039f\"],[0.2222222222222222,\"#7201a8\"],[0.3333333333333333,\"#9c179e\"],[0.4444444444444444,\"#bd3786\"],[0.5555555555555556,\"#d8576b\"],[0.6666666666666666,\"#ed7953\"],[0.7777777777777778,\"#fb9f3a\"],[0.8888888888888888,\"#fdca26\"],[1.0,\"#f0f921\"]],\"diverging\":[[0,\"#8e0152\"],[0.1,\"#c51b7d\"],[0.2,\"#de77ae\"],[0.3,\"#f1b6da\"],[0.4,\"#fde0ef\"],[0.5,\"#f7f7f7\"],[0.6,\"#e6f5d0\"],[0.7,\"#b8e186\"],[0.8,\"#7fbc41\"],[0.9,\"#4d9221\"],[1,\"#276419\"]]},\"xaxis\":{\"gridcolor\":\"white\",\"linecolor\":\"white\",\"ticks\":\"\",\"title\":{\"standoff\":15},\"zerolinecolor\":\"white\",\"automargin\":true,\"zerolinewidth\":2},\"yaxis\":{\"gridcolor\":\"white\",\"linecolor\":\"white\",\"ticks\":\"\",\"title\":{\"standoff\":15},\"zerolinecolor\":\"white\",\"automargin\":true,\"zerolinewidth\":2},\"scene\":{\"xaxis\":{\"backgroundcolor\":\"#E5ECF6\",\"gridcolor\":\"white\",\"linecolor\":\"white\",\"showbackground\":true,\"ticks\":\"\",\"zerolinecolor\":\"white\",\"gridwidth\":2},\"yaxis\":{\"backgroundcolor\":\"#E5ECF6\",\"gridcolor\":\"white\",\"linecolor\":\"white\",\"showbackground\":true,\"ticks\":\"\",\"zerolinecolor\":\"white\",\"gridwidth\":2},\"zaxis\":{\"backgroundcolor\":\"#E5ECF6\",\"gridcolor\":\"white\",\"linecolor\":\"white\",\"showbackground\":true,\"ticks\":\"\",\"zerolinecolor\":\"white\",\"gridwidth\":2}},\"shapedefaults\":{\"line\":{\"color\":\"#2a3f5f\"}},\"annotationdefaults\":{\"arrowcolor\":\"#2a3f5f\",\"arrowhead\":0,\"arrowwidth\":1},\"geo\":{\"bgcolor\":\"white\",\"landcolor\":\"#E5ECF6\",\"subunitcolor\":\"white\",\"showland\":true,\"showlakes\":true,\"lakecolor\":\"white\"},\"title\":{\"x\":0.05},\"mapbox\":{\"style\":\"light\"}}},\"xaxis\":{\"anchor\":\"y\",\"domain\":[0.0,0.3]},\"yaxis\":{\"anchor\":\"x\",\"domain\":[0.8400000000000001,1.0],\"title\":{\"text\":\"Score\"}},\"xaxis2\":{\"anchor\":\"y2\",\"domain\":[0.35,0.6499999999999999]},\"yaxis2\":{\"anchor\":\"x2\",\"domain\":[0.8400000000000001,1.0]},\"xaxis3\":{\"anchor\":\"y3\",\"domain\":[0.7,1.0]},\"yaxis3\":{\"anchor\":\"x3\",\"domain\":[0.8400000000000001,1.0]},\"xaxis4\":{\"anchor\":\"y4\",\"domain\":[0.0,0.3]},\"yaxis4\":{\"anchor\":\"x4\",\"domain\":[0.63,0.79],\"title\":{\"text\":\"Score\"}},\"xaxis5\":{\"anchor\":\"y5\",\"domain\":[0.35,0.6499999999999999]},\"yaxis5\":{\"anchor\":\"x5\",\"domain\":[0.63,0.79]},\"xaxis6\":{\"anchor\":\"y6\",\"domain\":[0.7,1.0]},\"yaxis6\":{\"anchor\":\"x6\",\"domain\":[0.63,0.79]},\"xaxis7\":{\"anchor\":\"y7\",\"domain\":[0.0,0.3]},\"yaxis7\":{\"anchor\":\"x7\",\"domain\":[0.42000000000000004,0.5800000000000001],\"title\":{\"text\":\"Score\"}},\"xaxis8\":{\"anchor\":\"y8\",\"domain\":[0.35,0.6499999999999999]},\"yaxis8\":{\"anchor\":\"x8\",\"domain\":[0.42000000000000004,0.5800000000000001]},\"xaxis9\":{\"anchor\":\"y9\",\"domain\":[0.7,1.0]},\"yaxis9\":{\"anchor\":\"x9\",\"domain\":[0.42000000000000004,0.5800000000000001]},\"xaxis10\":{\"anchor\":\"y10\",\"domain\":[0.0,0.3]},\"yaxis10\":{\"anchor\":\"x10\",\"domain\":[0.21000000000000002,0.37],\"title\":{\"text\":\"Score\"}},\"xaxis11\":{\"anchor\":\"y11\",\"domain\":[0.35,0.6499999999999999]},\"yaxis11\":{\"anchor\":\"x11\",\"domain\":[0.21000000000000002,0.37]},\"xaxis12\":{\"anchor\":\"y12\",\"domain\":[0.7,1.0]},\"yaxis12\":{\"anchor\":\"x12\",\"domain\":[0.21000000000000002,0.37]},\"xaxis13\":{\"anchor\":\"y13\",\"domain\":[0.0,0.3],\"title\":{\"text\":\"Number of Epochs\"}},\"yaxis13\":{\"anchor\":\"x13\",\"domain\":[0.0,0.16],\"title\":{\"text\":\"Score\"}},\"xaxis14\":{\"anchor\":\"y14\",\"domain\":[0.35,0.6499999999999999],\"title\":{\"text\":\"Number of Epochs\"}},\"yaxis14\":{\"anchor\":\"x14\",\"domain\":[0.0,0.16]},\"xaxis15\":{\"anchor\":\"y15\",\"domain\":[0.7,1.0],\"title\":{\"text\":\"Number of Epochs\"}},\"yaxis15\":{\"anchor\":\"x15\",\"domain\":[0.0,0.16]},\"annotations\":[{\"font\":{\"size\":16},\"showarrow\":false,\"text\":\"prontoqa - 0.5% Training\",\"x\":0.15,\"xanchor\":\"center\",\"xref\":\"paper\",\"y\":1.0,\"yanchor\":\"bottom\",\"yref\":\"paper\"},{\"font\":{\"size\":16},\"showarrow\":false,\"text\":\"anticommonsense - 0.5% Training\",\"x\":0.49999999999999994,\"xanchor\":\"center\",\"xref\":\"paper\",\"y\":1.0,\"yanchor\":\"bottom\",\"yref\":\"paper\"},{\"font\":{\"size\":16},\"showarrow\":false,\"text\":\"noncommonsense - 0.5% Training\",\"x\":0.85,\"xanchor\":\"center\",\"xref\":\"paper\",\"y\":1.0,\"yanchor\":\"bottom\",\"yref\":\"paper\"},{\"font\":{\"size\":16},\"showarrow\":false,\"text\":\"prontoqa - 1.0% Training\",\"x\":0.15,\"xanchor\":\"center\",\"xref\":\"paper\",\"y\":0.79,\"yanchor\":\"bottom\",\"yref\":\"paper\"},{\"font\":{\"size\":16},\"showarrow\":false,\"text\":\"anticommonsense - 1.0% Training\",\"x\":0.49999999999999994,\"xanchor\":\"center\",\"xref\":\"paper\",\"y\":0.79,\"yanchor\":\"bottom\",\"yref\":\"paper\"},{\"font\":{\"size\":16},\"showarrow\":false,\"text\":\"noncommonsense - 1.0% Training\",\"x\":0.85,\"xanchor\":\"center\",\"xref\":\"paper\",\"y\":0.79,\"yanchor\":\"bottom\",\"yref\":\"paper\"},{\"font\":{\"size\":16},\"showarrow\":false,\"text\":\"prontoqa - 2.0% Training\",\"x\":0.15,\"xanchor\":\"center\",\"xref\":\"paper\",\"y\":0.5800000000000001,\"yanchor\":\"bottom\",\"yref\":\"paper\"},{\"font\":{\"size\":16},\"showarrow\":false,\"text\":\"anticommonsense - 2.0% Training\",\"x\":0.49999999999999994,\"xanchor\":\"center\",\"xref\":\"paper\",\"y\":0.5800000000000001,\"yanchor\":\"bottom\",\"yref\":\"paper\"},{\"font\":{\"size\":16},\"showarrow\":false,\"text\":\"noncommonsense - 2.0% Training\",\"x\":0.85,\"xanchor\":\"center\",\"xref\":\"paper\",\"y\":0.5800000000000001,\"yanchor\":\"bottom\",\"yref\":\"paper\"},{\"font\":{\"size\":16},\"showarrow\":false,\"text\":\"prontoqa - 5.0% Training\",\"x\":0.15,\"xanchor\":\"center\",\"xref\":\"paper\",\"y\":0.37,\"yanchor\":\"bottom\",\"yref\":\"paper\"},{\"font\":{\"size\":16},\"showarrow\":false,\"text\":\"anticommonsense - 5.0% Training\",\"x\":0.49999999999999994,\"xanchor\":\"center\",\"xref\":\"paper\",\"y\":0.37,\"yanchor\":\"bottom\",\"yref\":\"paper\"},{\"font\":{\"size\":16},\"showarrow\":false,\"text\":\"noncommonsense - 5.0% Training\",\"x\":0.85,\"xanchor\":\"center\",\"xref\":\"paper\",\"y\":0.37,\"yanchor\":\"bottom\",\"yref\":\"paper\"},{\"font\":{\"size\":16},\"showarrow\":false,\"text\":\"prontoqa - 10.0% Training\",\"x\":0.15,\"xanchor\":\"center\",\"xref\":\"paper\",\"y\":0.16,\"yanchor\":\"bottom\",\"yref\":\"paper\"},{\"font\":{\"size\":16},\"showarrow\":false,\"text\":\"anticommonsense - 10.0% Training\",\"x\":0.49999999999999994,\"xanchor\":\"center\",\"xref\":\"paper\",\"y\":0.16,\"yanchor\":\"bottom\",\"yref\":\"paper\"},{\"font\":{\"size\":16},\"showarrow\":false,\"text\":\"noncommonsense - 10.0% Training\",\"x\":0.85,\"xanchor\":\"center\",\"xref\":\"paper\",\"y\":0.16,\"yanchor\":\"bottom\",\"yref\":\"paper\"}],\"title\":{\"text\":\"Anonymize vs Non-Anonymize Performance Comparison\"},\"margin\":{\"t\":50,\"b\":20,\"l\":20,\"r\":20},\"height\":1000,\"width\":1200,\"legend\":{\"title\":{\"text\":\"Anonymization Setting\"}}},                        {\"responsive\": true}                    ).then(function(){\n",
       "                            \n",
       "var gd = document.getElementById('50f36cb6-df59-47ea-8457-e49e413b06d0');\n",
       "var x = new MutationObserver(function (mutations, observer) {{\n",
       "        var display = window.getComputedStyle(gd).display;\n",
       "        if (!display || display === 'none') {{\n",
       "            console.log([gd, 'removed!']);\n",
       "            Plotly.purge(gd);\n",
       "            observer.disconnect();\n",
       "        }}\n",
       "}});\n",
       "\n",
       "// Listen for the removal of the full notebook cells\n",
       "var notebookContainer = gd.closest('#notebook-container');\n",
       "if (notebookContainer) {{\n",
       "    x.observe(notebookContainer, {childList: true});\n",
       "}}\n",
       "\n",
       "// Listen for the clearing of the current output cell\n",
       "var outputEl = gd.closest('.output');\n",
       "if (outputEl) {{\n",
       "    x.observe(outputEl, {childList: true});\n",
       "}}\n",
       "\n",
       "                        })                };                });            </script>        </div>"
      ]
     },
     "metadata": {},
     "output_type": "display_data"
    },
    {
     "name": "stdout",
     "output_type": "stream",
     "text": [
      "Creating comparison plots for learning rate: 0.0003\n"
     ]
    },
    {
     "data": {
      "application/vnd.plotly.v1+json": {
       "data": [
        {
         "legendgroup": "Anonymize=null",
         "line": {
          "color": "rgb(31, 119, 180)"
         },
         "mode": "lines+markers",
         "name": "Anonymize=null",
         "showlegend": true,
         "x": [
          50,
          100,
          200,
          400,
          800,
          1600,
          3200
         ],
         "y": [
          94.0,
          91.0,
          92.5,
          91.5,
          89.75,
          91.5,
          92.25
         ],
         "type": "scatter",
         "xaxis": "x",
         "yaxis": "y"
        },
        {
         "legendgroup": "Anonymize=random",
         "line": {
          "color": "rgb(255, 127, 14)"
         },
         "mode": "lines+markers",
         "name": "Anonymize=random",
         "showlegend": true,
         "x": [
          50,
          100,
          200,
          400,
          800,
          1600,
          3200
         ],
         "y": [
          73.75,
          77.0,
          77.25,
          75.75,
          78.0,
          71.0,
          76.25
         ],
         "type": "scatter",
         "xaxis": "x",
         "yaxis": "y"
        },
        {
         "legendgroup": "Anonymize=null",
         "line": {
          "color": "rgb(31, 119, 180)"
         },
         "mode": "lines+markers",
         "name": "Anonymize=null",
         "showlegend": false,
         "x": [
          50,
          100,
          200,
          400,
          800,
          1600,
          3200
         ],
         "y": [
          66.0,
          65.25,
          67.25,
          71.25,
          66.75,
          62.75,
          67.25
         ],
         "type": "scatter",
         "xaxis": "x2",
         "yaxis": "y2"
        },
        {
         "legendgroup": "Anonymize=random",
         "line": {
          "color": "rgb(255, 127, 14)"
         },
         "mode": "lines+markers",
         "name": "Anonymize=random",
         "showlegend": false,
         "x": [
          50,
          100,
          200,
          400,
          800,
          1600,
          3200
         ],
         "y": [
          66.75,
          70.0,
          74.5,
          68.25,
          67.0,
          66.5,
          67.25
         ],
         "type": "scatter",
         "xaxis": "x2",
         "yaxis": "y2"
        },
        {
         "legendgroup": "Anonymize=null",
         "line": {
          "color": "rgb(31, 119, 180)"
         },
         "mode": "lines+markers",
         "name": "Anonymize=null",
         "showlegend": false,
         "x": [
          50,
          100,
          200,
          400,
          800,
          1600,
          3200
         ],
         "y": [
          76.25,
          74.75,
          72.75,
          71.25,
          76.25,
          70.25,
          71.0
         ],
         "type": "scatter",
         "xaxis": "x3",
         "yaxis": "y3"
        },
        {
         "legendgroup": "Anonymize=random",
         "line": {
          "color": "rgb(255, 127, 14)"
         },
         "mode": "lines+markers",
         "name": "Anonymize=random",
         "showlegend": false,
         "x": [
          50,
          100,
          200,
          400,
          800,
          1600,
          3200
         ],
         "y": [
          70.0,
          75.75,
          77.0,
          71.5,
          76.25,
          70.25,
          68.75
         ],
         "type": "scatter",
         "xaxis": "x3",
         "yaxis": "y3"
        },
        {
         "legendgroup": "Anonymize=null",
         "line": {
          "color": "rgb(31, 119, 180)"
         },
         "mode": "lines+markers",
         "name": "Anonymize=null",
         "showlegend": false,
         "x": [
          50,
          100,
          200,
          400,
          800,
          1600,
          3200
         ],
         "y": [
          96.75,
          90.25,
          91.25,
          91.0,
          94.75,
          91.25,
          96.75
         ],
         "type": "scatter",
         "xaxis": "x4",
         "yaxis": "y4"
        },
        {
         "legendgroup": "Anonymize=random",
         "line": {
          "color": "rgb(255, 127, 14)"
         },
         "mode": "lines+markers",
         "name": "Anonymize=random",
         "showlegend": false,
         "x": [
          50,
          100,
          200,
          400,
          800,
          1600,
          3200
         ],
         "y": [
          77.25,
          83.75,
          78.5,
          75.25,
          76.5,
          71.5,
          72.25
         ],
         "type": "scatter",
         "xaxis": "x4",
         "yaxis": "y4"
        },
        {
         "legendgroup": "Anonymize=null",
         "line": {
          "color": "rgb(31, 119, 180)"
         },
         "mode": "lines+markers",
         "name": "Anonymize=null",
         "showlegend": false,
         "x": [
          50,
          100,
          200,
          400,
          800,
          1600,
          3200
         ],
         "y": [
          75.25,
          63.5,
          65.75,
          71.5,
          75.0,
          74.0,
          73.0
         ],
         "type": "scatter",
         "xaxis": "x5",
         "yaxis": "y5"
        },
        {
         "legendgroup": "Anonymize=random",
         "line": {
          "color": "rgb(255, 127, 14)"
         },
         "mode": "lines+markers",
         "name": "Anonymize=random",
         "showlegend": false,
         "x": [
          50,
          100,
          200,
          400,
          800,
          1600,
          3200
         ],
         "y": [
          75.0,
          75.75,
          70.5,
          71.25,
          75.0,
          71.0,
          67.0
         ],
         "type": "scatter",
         "xaxis": "x5",
         "yaxis": "y5"
        },
        {
         "legendgroup": "Anonymize=null",
         "line": {
          "color": "rgb(31, 119, 180)"
         },
         "mode": "lines+markers",
         "name": "Anonymize=null",
         "showlegend": false,
         "x": [
          50,
          100,
          200,
          400,
          800,
          1600,
          3200
         ],
         "y": [
          79.5,
          75.5,
          73.5,
          78.0,
          74.75,
          76.75,
          75.25
         ],
         "type": "scatter",
         "xaxis": "x6",
         "yaxis": "y6"
        },
        {
         "legendgroup": "Anonymize=random",
         "line": {
          "color": "rgb(255, 127, 14)"
         },
         "mode": "lines+markers",
         "name": "Anonymize=random",
         "showlegend": false,
         "x": [
          50,
          100,
          200,
          400,
          800,
          1600,
          3200
         ],
         "y": [
          79.75,
          80.0,
          79.0,
          75.75,
          74.0,
          71.25,
          71.75
         ],
         "type": "scatter",
         "xaxis": "x6",
         "yaxis": "y6"
        },
        {
         "legendgroup": "Anonymize=null",
         "line": {
          "color": "rgb(31, 119, 180)"
         },
         "mode": "lines+markers",
         "name": "Anonymize=null",
         "showlegend": false,
         "x": [
          50,
          100,
          200,
          400,
          800,
          1600,
          3200
         ],
         "y": [
          97.25,
          98.0,
          98.75,
          94.25,
          97.5,
          96.75,
          100.0
         ],
         "type": "scatter",
         "xaxis": "x7",
         "yaxis": "y7"
        },
        {
         "legendgroup": "Anonymize=random",
         "line": {
          "color": "rgb(255, 127, 14)"
         },
         "mode": "lines+markers",
         "name": "Anonymize=random",
         "showlegend": false,
         "x": [
          50,
          100,
          200,
          400,
          800,
          1600,
          3200
         ],
         "y": [
          76.0,
          83.5,
          87.25,
          83.5,
          86.0,
          83.25,
          85.5
         ],
         "type": "scatter",
         "xaxis": "x7",
         "yaxis": "y7"
        },
        {
         "legendgroup": "Anonymize=null",
         "line": {
          "color": "rgb(31, 119, 180)"
         },
         "mode": "lines+markers",
         "name": "Anonymize=null",
         "showlegend": false,
         "x": [
          50,
          100,
          200,
          400,
          800,
          1600,
          3200
         ],
         "y": [
          72.5,
          75.5,
          75.0,
          72.0,
          78.0,
          75.75,
          76.75
         ],
         "type": "scatter",
         "xaxis": "x8",
         "yaxis": "y8"
        },
        {
         "legendgroup": "Anonymize=random",
         "line": {
          "color": "rgb(255, 127, 14)"
         },
         "mode": "lines+markers",
         "name": "Anonymize=random",
         "showlegend": false,
         "x": [
          50,
          100,
          200,
          400,
          800,
          1600,
          3200
         ],
         "y": [
          70.75,
          76.0,
          80.5,
          79.0,
          77.75,
          74.25,
          80.0
         ],
         "type": "scatter",
         "xaxis": "x8",
         "yaxis": "y8"
        },
        {
         "legendgroup": "Anonymize=null",
         "line": {
          "color": "rgb(31, 119, 180)"
         },
         "mode": "lines+markers",
         "name": "Anonymize=null",
         "showlegend": false,
         "x": [
          50,
          100,
          200,
          400,
          800,
          1600,
          3200
         ],
         "y": [
          81.25,
          80.75,
          81.25,
          76.75,
          79.25,
          81.0,
          80.0
         ],
         "type": "scatter",
         "xaxis": "x9",
         "yaxis": "y9"
        },
        {
         "legendgroup": "Anonymize=random",
         "line": {
          "color": "rgb(255, 127, 14)"
         },
         "mode": "lines+markers",
         "name": "Anonymize=random",
         "showlegend": false,
         "x": [
          50,
          100,
          200,
          400,
          800,
          1600,
          3200
         ],
         "y": [
          73.5,
          80.0,
          83.25,
          83.25,
          84.5,
          84.75,
          81.0
         ],
         "type": "scatter",
         "xaxis": "x9",
         "yaxis": "y9"
        },
        {
         "legendgroup": "Anonymize=null",
         "line": {
          "color": "rgb(31, 119, 180)"
         },
         "mode": "lines+markers",
         "name": "Anonymize=null",
         "showlegend": false,
         "x": [
          50,
          100,
          200,
          400,
          800,
          1600,
          3200
         ],
         "y": [
          null,
          99.75,
          99.0,
          99.75,
          100.0,
          100.0,
          100.0
         ],
         "type": "scatter",
         "xaxis": "x10",
         "yaxis": "y10"
        },
        {
         "legendgroup": "Anonymize=random",
         "line": {
          "color": "rgb(255, 127, 14)"
         },
         "mode": "lines+markers",
         "name": "Anonymize=random",
         "showlegend": false,
         "x": [
          50,
          100,
          200,
          400,
          800,
          1600,
          3200
         ],
         "y": [
          79.5,
          85.75,
          84.0,
          90.25,
          89.5,
          89.5,
          91.25
         ],
         "type": "scatter",
         "xaxis": "x10",
         "yaxis": "y10"
        },
        {
         "legendgroup": "Anonymize=null",
         "line": {
          "color": "rgb(31, 119, 180)"
         },
         "mode": "lines+markers",
         "name": "Anonymize=null",
         "showlegend": false,
         "x": [
          50,
          100,
          200,
          400,
          800,
          1600,
          3200
         ],
         "y": [
          null,
          73.75,
          75.0,
          71.0,
          74.0,
          66.5,
          72.5
         ],
         "type": "scatter",
         "xaxis": "x11",
         "yaxis": "y11"
        },
        {
         "legendgroup": "Anonymize=random",
         "line": {
          "color": "rgb(255, 127, 14)"
         },
         "mode": "lines+markers",
         "name": "Anonymize=random",
         "showlegend": false,
         "x": [
          50,
          100,
          200,
          400,
          800,
          1600,
          3200
         ],
         "y": [
          71.75,
          73.0,
          78.25,
          83.75,
          83.0,
          83.0,
          81.5
         ],
         "type": "scatter",
         "xaxis": "x11",
         "yaxis": "y11"
        },
        {
         "legendgroup": "Anonymize=null",
         "line": {
          "color": "rgb(31, 119, 180)"
         },
         "mode": "lines+markers",
         "name": "Anonymize=null",
         "showlegend": false,
         "x": [
          50,
          100,
          200,
          400,
          800,
          1600,
          3200
         ],
         "y": [
          null,
          85.5,
          85.0,
          85.0,
          77.75,
          76.0,
          83.0
         ],
         "type": "scatter",
         "xaxis": "x12",
         "yaxis": "y12"
        },
        {
         "legendgroup": "Anonymize=random",
         "line": {
          "color": "rgb(255, 127, 14)"
         },
         "mode": "lines+markers",
         "name": "Anonymize=random",
         "showlegend": false,
         "x": [
          50,
          100,
          200,
          400,
          800,
          1600,
          3200
         ],
         "y": [
          78.25,
          80.25,
          80.5,
          85.75,
          88.0,
          87.5,
          88.25
         ],
         "type": "scatter",
         "xaxis": "x12",
         "yaxis": "y12"
        },
        {
         "legendgroup": "Anonymize=null",
         "line": {
          "color": "rgb(31, 119, 180)"
         },
         "mode": "lines+markers",
         "name": "Anonymize=null",
         "showlegend": false,
         "x": [
          50,
          100,
          200,
          400,
          800,
          1600,
          3200
         ],
         "y": [
          96.25,
          98.75,
          100.0,
          100.0,
          100.0,
          100.0,
          100.0
         ],
         "type": "scatter",
         "xaxis": "x13",
         "yaxis": "y13"
        },
        {
         "legendgroup": "Anonymize=random",
         "line": {
          "color": "rgb(255, 127, 14)"
         },
         "mode": "lines+markers",
         "name": "Anonymize=random",
         "showlegend": false,
         "x": [
          50,
          100,
          200,
          400,
          800,
          1600,
          3200
         ],
         "y": [
          81.5,
          84.75,
          87.5,
          93.75,
          95.75,
          96.5,
          96.75
         ],
         "type": "scatter",
         "xaxis": "x13",
         "yaxis": "y13"
        },
        {
         "legendgroup": "Anonymize=null",
         "line": {
          "color": "rgb(31, 119, 180)"
         },
         "mode": "lines+markers",
         "name": "Anonymize=null",
         "showlegend": false,
         "x": [
          50,
          100,
          200,
          400,
          800,
          1600,
          3200
         ],
         "y": [
          67.0,
          72.5,
          79.25,
          72.25,
          73.25,
          69.75,
          72.25
         ],
         "type": "scatter",
         "xaxis": "x14",
         "yaxis": "y14"
        },
        {
         "legendgroup": "Anonymize=random",
         "line": {
          "color": "rgb(255, 127, 14)"
         },
         "mode": "lines+markers",
         "name": "Anonymize=random",
         "showlegend": false,
         "x": [
          50,
          100,
          200,
          400,
          800,
          1600,
          3200
         ],
         "y": [
          70.5,
          72.25,
          81.5,
          85.0,
          87.25,
          87.0,
          89.0
         ],
         "type": "scatter",
         "xaxis": "x14",
         "yaxis": "y14"
        },
        {
         "legendgroup": "Anonymize=null",
         "line": {
          "color": "rgb(31, 119, 180)"
         },
         "mode": "lines+markers",
         "name": "Anonymize=null",
         "showlegend": false,
         "x": [
          50,
          100,
          200,
          400,
          800,
          1600,
          3200
         ],
         "y": [
          80.5,
          82.25,
          83.5,
          82.25,
          79.25,
          72.0,
          75.75
         ],
         "type": "scatter",
         "xaxis": "x15",
         "yaxis": "y15"
        },
        {
         "legendgroup": "Anonymize=random",
         "line": {
          "color": "rgb(255, 127, 14)"
         },
         "mode": "lines+markers",
         "name": "Anonymize=random",
         "showlegend": false,
         "x": [
          50,
          100,
          200,
          400,
          800,
          1600,
          3200
         ],
         "y": [
          80.0,
          82.5,
          85.0,
          91.25,
          92.0,
          93.5,
          94.75
         ],
         "type": "scatter",
         "xaxis": "x15",
         "yaxis": "y15"
        }
       ],
       "layout": {
        "template": {
         "data": {
          "histogram2dcontour": [
           {
            "type": "histogram2dcontour",
            "colorbar": {
             "outlinewidth": 0,
             "ticks": ""
            },
            "colorscale": [
             [
              0.0,
              "#0d0887"
             ],
             [
              0.1111111111111111,
              "#46039f"
             ],
             [
              0.2222222222222222,
              "#7201a8"
             ],
             [
              0.3333333333333333,
              "#9c179e"
             ],
             [
              0.4444444444444444,
              "#bd3786"
             ],
             [
              0.5555555555555556,
              "#d8576b"
             ],
             [
              0.6666666666666666,
              "#ed7953"
             ],
             [
              0.7777777777777778,
              "#fb9f3a"
             ],
             [
              0.8888888888888888,
              "#fdca26"
             ],
             [
              1.0,
              "#f0f921"
             ]
            ]
           }
          ],
          "choropleth": [
           {
            "type": "choropleth",
            "colorbar": {
             "outlinewidth": 0,
             "ticks": ""
            }
           }
          ],
          "histogram2d": [
           {
            "type": "histogram2d",
            "colorbar": {
             "outlinewidth": 0,
             "ticks": ""
            },
            "colorscale": [
             [
              0.0,
              "#0d0887"
             ],
             [
              0.1111111111111111,
              "#46039f"
             ],
             [
              0.2222222222222222,
              "#7201a8"
             ],
             [
              0.3333333333333333,
              "#9c179e"
             ],
             [
              0.4444444444444444,
              "#bd3786"
             ],
             [
              0.5555555555555556,
              "#d8576b"
             ],
             [
              0.6666666666666666,
              "#ed7953"
             ],
             [
              0.7777777777777778,
              "#fb9f3a"
             ],
             [
              0.8888888888888888,
              "#fdca26"
             ],
             [
              1.0,
              "#f0f921"
             ]
            ]
           }
          ],
          "heatmap": [
           {
            "type": "heatmap",
            "colorbar": {
             "outlinewidth": 0,
             "ticks": ""
            },
            "colorscale": [
             [
              0.0,
              "#0d0887"
             ],
             [
              0.1111111111111111,
              "#46039f"
             ],
             [
              0.2222222222222222,
              "#7201a8"
             ],
             [
              0.3333333333333333,
              "#9c179e"
             ],
             [
              0.4444444444444444,
              "#bd3786"
             ],
             [
              0.5555555555555556,
              "#d8576b"
             ],
             [
              0.6666666666666666,
              "#ed7953"
             ],
             [
              0.7777777777777778,
              "#fb9f3a"
             ],
             [
              0.8888888888888888,
              "#fdca26"
             ],
             [
              1.0,
              "#f0f921"
             ]
            ]
           }
          ],
          "heatmapgl": [
           {
            "type": "heatmapgl",
            "colorbar": {
             "outlinewidth": 0,
             "ticks": ""
            },
            "colorscale": [
             [
              0.0,
              "#0d0887"
             ],
             [
              0.1111111111111111,
              "#46039f"
             ],
             [
              0.2222222222222222,
              "#7201a8"
             ],
             [
              0.3333333333333333,
              "#9c179e"
             ],
             [
              0.4444444444444444,
              "#bd3786"
             ],
             [
              0.5555555555555556,
              "#d8576b"
             ],
             [
              0.6666666666666666,
              "#ed7953"
             ],
             [
              0.7777777777777778,
              "#fb9f3a"
             ],
             [
              0.8888888888888888,
              "#fdca26"
             ],
             [
              1.0,
              "#f0f921"
             ]
            ]
           }
          ],
          "contourcarpet": [
           {
            "type": "contourcarpet",
            "colorbar": {
             "outlinewidth": 0,
             "ticks": ""
            }
           }
          ],
          "contour": [
           {
            "type": "contour",
            "colorbar": {
             "outlinewidth": 0,
             "ticks": ""
            },
            "colorscale": [
             [
              0.0,
              "#0d0887"
             ],
             [
              0.1111111111111111,
              "#46039f"
             ],
             [
              0.2222222222222222,
              "#7201a8"
             ],
             [
              0.3333333333333333,
              "#9c179e"
             ],
             [
              0.4444444444444444,
              "#bd3786"
             ],
             [
              0.5555555555555556,
              "#d8576b"
             ],
             [
              0.6666666666666666,
              "#ed7953"
             ],
             [
              0.7777777777777778,
              "#fb9f3a"
             ],
             [
              0.8888888888888888,
              "#fdca26"
             ],
             [
              1.0,
              "#f0f921"
             ]
            ]
           }
          ],
          "surface": [
           {
            "type": "surface",
            "colorbar": {
             "outlinewidth": 0,
             "ticks": ""
            },
            "colorscale": [
             [
              0.0,
              "#0d0887"
             ],
             [
              0.1111111111111111,
              "#46039f"
             ],
             [
              0.2222222222222222,
              "#7201a8"
             ],
             [
              0.3333333333333333,
              "#9c179e"
             ],
             [
              0.4444444444444444,
              "#bd3786"
             ],
             [
              0.5555555555555556,
              "#d8576b"
             ],
             [
              0.6666666666666666,
              "#ed7953"
             ],
             [
              0.7777777777777778,
              "#fb9f3a"
             ],
             [
              0.8888888888888888,
              "#fdca26"
             ],
             [
              1.0,
              "#f0f921"
             ]
            ]
           }
          ],
          "mesh3d": [
           {
            "type": "mesh3d",
            "colorbar": {
             "outlinewidth": 0,
             "ticks": ""
            }
           }
          ],
          "scatter": [
           {
            "fillpattern": {
             "fillmode": "overlay",
             "size": 10,
             "solidity": 0.2
            },
            "type": "scatter"
           }
          ],
          "parcoords": [
           {
            "type": "parcoords",
            "line": {
             "colorbar": {
              "outlinewidth": 0,
              "ticks": ""
             }
            }
           }
          ],
          "scatterpolargl": [
           {
            "type": "scatterpolargl",
            "marker": {
             "colorbar": {
              "outlinewidth": 0,
              "ticks": ""
             }
            }
           }
          ],
          "bar": [
           {
            "error_x": {
             "color": "#2a3f5f"
            },
            "error_y": {
             "color": "#2a3f5f"
            },
            "marker": {
             "line": {
              "color": "#E5ECF6",
              "width": 0.5
             },
             "pattern": {
              "fillmode": "overlay",
              "size": 10,
              "solidity": 0.2
             }
            },
            "type": "bar"
           }
          ],
          "scattergeo": [
           {
            "type": "scattergeo",
            "marker": {
             "colorbar": {
              "outlinewidth": 0,
              "ticks": ""
             }
            }
           }
          ],
          "scatterpolar": [
           {
            "type": "scatterpolar",
            "marker": {
             "colorbar": {
              "outlinewidth": 0,
              "ticks": ""
             }
            }
           }
          ],
          "histogram": [
           {
            "marker": {
             "pattern": {
              "fillmode": "overlay",
              "size": 10,
              "solidity": 0.2
             }
            },
            "type": "histogram"
           }
          ],
          "scattergl": [
           {
            "type": "scattergl",
            "marker": {
             "colorbar": {
              "outlinewidth": 0,
              "ticks": ""
             }
            }
           }
          ],
          "scatter3d": [
           {
            "type": "scatter3d",
            "line": {
             "colorbar": {
              "outlinewidth": 0,
              "ticks": ""
             }
            },
            "marker": {
             "colorbar": {
              "outlinewidth": 0,
              "ticks": ""
             }
            }
           }
          ],
          "scattermapbox": [
           {
            "type": "scattermapbox",
            "marker": {
             "colorbar": {
              "outlinewidth": 0,
              "ticks": ""
             }
            }
           }
          ],
          "scatterternary": [
           {
            "type": "scatterternary",
            "marker": {
             "colorbar": {
              "outlinewidth": 0,
              "ticks": ""
             }
            }
           }
          ],
          "scattercarpet": [
           {
            "type": "scattercarpet",
            "marker": {
             "colorbar": {
              "outlinewidth": 0,
              "ticks": ""
             }
            }
           }
          ],
          "carpet": [
           {
            "aaxis": {
             "endlinecolor": "#2a3f5f",
             "gridcolor": "white",
             "linecolor": "white",
             "minorgridcolor": "white",
             "startlinecolor": "#2a3f5f"
            },
            "baxis": {
             "endlinecolor": "#2a3f5f",
             "gridcolor": "white",
             "linecolor": "white",
             "minorgridcolor": "white",
             "startlinecolor": "#2a3f5f"
            },
            "type": "carpet"
           }
          ],
          "table": [
           {
            "cells": {
             "fill": {
              "color": "#EBF0F8"
             },
             "line": {
              "color": "white"
             }
            },
            "header": {
             "fill": {
              "color": "#C8D4E3"
             },
             "line": {
              "color": "white"
             }
            },
            "type": "table"
           }
          ],
          "barpolar": [
           {
            "marker": {
             "line": {
              "color": "#E5ECF6",
              "width": 0.5
             },
             "pattern": {
              "fillmode": "overlay",
              "size": 10,
              "solidity": 0.2
             }
            },
            "type": "barpolar"
           }
          ],
          "pie": [
           {
            "automargin": true,
            "type": "pie"
           }
          ]
         },
         "layout": {
          "autotypenumbers": "strict",
          "colorway": [
           "#636efa",
           "#EF553B",
           "#00cc96",
           "#ab63fa",
           "#FFA15A",
           "#19d3f3",
           "#FF6692",
           "#B6E880",
           "#FF97FF",
           "#FECB52"
          ],
          "font": {
           "color": "#2a3f5f"
          },
          "hovermode": "closest",
          "hoverlabel": {
           "align": "left"
          },
          "paper_bgcolor": "white",
          "plot_bgcolor": "#E5ECF6",
          "polar": {
           "bgcolor": "#E5ECF6",
           "angularaxis": {
            "gridcolor": "white",
            "linecolor": "white",
            "ticks": ""
           },
           "radialaxis": {
            "gridcolor": "white",
            "linecolor": "white",
            "ticks": ""
           }
          },
          "ternary": {
           "bgcolor": "#E5ECF6",
           "aaxis": {
            "gridcolor": "white",
            "linecolor": "white",
            "ticks": ""
           },
           "baxis": {
            "gridcolor": "white",
            "linecolor": "white",
            "ticks": ""
           },
           "caxis": {
            "gridcolor": "white",
            "linecolor": "white",
            "ticks": ""
           }
          },
          "coloraxis": {
           "colorbar": {
            "outlinewidth": 0,
            "ticks": ""
           }
          },
          "colorscale": {
           "sequential": [
            [
             0.0,
             "#0d0887"
            ],
            [
             0.1111111111111111,
             "#46039f"
            ],
            [
             0.2222222222222222,
             "#7201a8"
            ],
            [
             0.3333333333333333,
             "#9c179e"
            ],
            [
             0.4444444444444444,
             "#bd3786"
            ],
            [
             0.5555555555555556,
             "#d8576b"
            ],
            [
             0.6666666666666666,
             "#ed7953"
            ],
            [
             0.7777777777777778,
             "#fb9f3a"
            ],
            [
             0.8888888888888888,
             "#fdca26"
            ],
            [
             1.0,
             "#f0f921"
            ]
           ],
           "sequentialminus": [
            [
             0.0,
             "#0d0887"
            ],
            [
             0.1111111111111111,
             "#46039f"
            ],
            [
             0.2222222222222222,
             "#7201a8"
            ],
            [
             0.3333333333333333,
             "#9c179e"
            ],
            [
             0.4444444444444444,
             "#bd3786"
            ],
            [
             0.5555555555555556,
             "#d8576b"
            ],
            [
             0.6666666666666666,
             "#ed7953"
            ],
            [
             0.7777777777777778,
             "#fb9f3a"
            ],
            [
             0.8888888888888888,
             "#fdca26"
            ],
            [
             1.0,
             "#f0f921"
            ]
           ],
           "diverging": [
            [
             0,
             "#8e0152"
            ],
            [
             0.1,
             "#c51b7d"
            ],
            [
             0.2,
             "#de77ae"
            ],
            [
             0.3,
             "#f1b6da"
            ],
            [
             0.4,
             "#fde0ef"
            ],
            [
             0.5,
             "#f7f7f7"
            ],
            [
             0.6,
             "#e6f5d0"
            ],
            [
             0.7,
             "#b8e186"
            ],
            [
             0.8,
             "#7fbc41"
            ],
            [
             0.9,
             "#4d9221"
            ],
            [
             1,
             "#276419"
            ]
           ]
          },
          "xaxis": {
           "gridcolor": "white",
           "linecolor": "white",
           "ticks": "",
           "title": {
            "standoff": 15
           },
           "zerolinecolor": "white",
           "automargin": true,
           "zerolinewidth": 2
          },
          "yaxis": {
           "gridcolor": "white",
           "linecolor": "white",
           "ticks": "",
           "title": {
            "standoff": 15
           },
           "zerolinecolor": "white",
           "automargin": true,
           "zerolinewidth": 2
          },
          "scene": {
           "xaxis": {
            "backgroundcolor": "#E5ECF6",
            "gridcolor": "white",
            "linecolor": "white",
            "showbackground": true,
            "ticks": "",
            "zerolinecolor": "white",
            "gridwidth": 2
           },
           "yaxis": {
            "backgroundcolor": "#E5ECF6",
            "gridcolor": "white",
            "linecolor": "white",
            "showbackground": true,
            "ticks": "",
            "zerolinecolor": "white",
            "gridwidth": 2
           },
           "zaxis": {
            "backgroundcolor": "#E5ECF6",
            "gridcolor": "white",
            "linecolor": "white",
            "showbackground": true,
            "ticks": "",
            "zerolinecolor": "white",
            "gridwidth": 2
           }
          },
          "shapedefaults": {
           "line": {
            "color": "#2a3f5f"
           }
          },
          "annotationdefaults": {
           "arrowcolor": "#2a3f5f",
           "arrowhead": 0,
           "arrowwidth": 1
          },
          "geo": {
           "bgcolor": "white",
           "landcolor": "#E5ECF6",
           "subunitcolor": "white",
           "showland": true,
           "showlakes": true,
           "lakecolor": "white"
          },
          "title": {
           "x": 0.05
          },
          "mapbox": {
           "style": "light"
          }
         }
        },
        "xaxis": {
         "anchor": "y",
         "domain": [
          0.0,
          0.3
         ]
        },
        "yaxis": {
         "anchor": "x",
         "domain": [
          0.8400000000000001,
          1.0
         ],
         "title": {
          "text": "Score"
         }
        },
        "xaxis2": {
         "anchor": "y2",
         "domain": [
          0.35,
          0.6499999999999999
         ]
        },
        "yaxis2": {
         "anchor": "x2",
         "domain": [
          0.8400000000000001,
          1.0
         ]
        },
        "xaxis3": {
         "anchor": "y3",
         "domain": [
          0.7,
          1.0
         ]
        },
        "yaxis3": {
         "anchor": "x3",
         "domain": [
          0.8400000000000001,
          1.0
         ]
        },
        "xaxis4": {
         "anchor": "y4",
         "domain": [
          0.0,
          0.3
         ]
        },
        "yaxis4": {
         "anchor": "x4",
         "domain": [
          0.63,
          0.79
         ],
         "title": {
          "text": "Score"
         }
        },
        "xaxis5": {
         "anchor": "y5",
         "domain": [
          0.35,
          0.6499999999999999
         ]
        },
        "yaxis5": {
         "anchor": "x5",
         "domain": [
          0.63,
          0.79
         ]
        },
        "xaxis6": {
         "anchor": "y6",
         "domain": [
          0.7,
          1.0
         ]
        },
        "yaxis6": {
         "anchor": "x6",
         "domain": [
          0.63,
          0.79
         ]
        },
        "xaxis7": {
         "anchor": "y7",
         "domain": [
          0.0,
          0.3
         ]
        },
        "yaxis7": {
         "anchor": "x7",
         "domain": [
          0.42000000000000004,
          0.5800000000000001
         ],
         "title": {
          "text": "Score"
         }
        },
        "xaxis8": {
         "anchor": "y8",
         "domain": [
          0.35,
          0.6499999999999999
         ]
        },
        "yaxis8": {
         "anchor": "x8",
         "domain": [
          0.42000000000000004,
          0.5800000000000001
         ]
        },
        "xaxis9": {
         "anchor": "y9",
         "domain": [
          0.7,
          1.0
         ]
        },
        "yaxis9": {
         "anchor": "x9",
         "domain": [
          0.42000000000000004,
          0.5800000000000001
         ]
        },
        "xaxis10": {
         "anchor": "y10",
         "domain": [
          0.0,
          0.3
         ]
        },
        "yaxis10": {
         "anchor": "x10",
         "domain": [
          0.21000000000000002,
          0.37
         ],
         "title": {
          "text": "Score"
         }
        },
        "xaxis11": {
         "anchor": "y11",
         "domain": [
          0.35,
          0.6499999999999999
         ]
        },
        "yaxis11": {
         "anchor": "x11",
         "domain": [
          0.21000000000000002,
          0.37
         ]
        },
        "xaxis12": {
         "anchor": "y12",
         "domain": [
          0.7,
          1.0
         ]
        },
        "yaxis12": {
         "anchor": "x12",
         "domain": [
          0.21000000000000002,
          0.37
         ]
        },
        "xaxis13": {
         "anchor": "y13",
         "domain": [
          0.0,
          0.3
         ],
         "title": {
          "text": "Number of Epochs"
         }
        },
        "yaxis13": {
         "anchor": "x13",
         "domain": [
          0.0,
          0.16
         ],
         "title": {
          "text": "Score"
         }
        },
        "xaxis14": {
         "anchor": "y14",
         "domain": [
          0.35,
          0.6499999999999999
         ],
         "title": {
          "text": "Number of Epochs"
         }
        },
        "yaxis14": {
         "anchor": "x14",
         "domain": [
          0.0,
          0.16
         ]
        },
        "xaxis15": {
         "anchor": "y15",
         "domain": [
          0.7,
          1.0
         ],
         "title": {
          "text": "Number of Epochs"
         }
        },
        "yaxis15": {
         "anchor": "x15",
         "domain": [
          0.0,
          0.16
         ]
        },
        "annotations": [
         {
          "font": {
           "size": 16
          },
          "showarrow": false,
          "text": "prontoqa - 0.5% Training",
          "x": 0.15,
          "xanchor": "center",
          "xref": "paper",
          "y": 1.0,
          "yanchor": "bottom",
          "yref": "paper"
         },
         {
          "font": {
           "size": 16
          },
          "showarrow": false,
          "text": "anticommonsense - 0.5% Training",
          "x": 0.49999999999999994,
          "xanchor": "center",
          "xref": "paper",
          "y": 1.0,
          "yanchor": "bottom",
          "yref": "paper"
         },
         {
          "font": {
           "size": 16
          },
          "showarrow": false,
          "text": "noncommonsense - 0.5% Training",
          "x": 0.85,
          "xanchor": "center",
          "xref": "paper",
          "y": 1.0,
          "yanchor": "bottom",
          "yref": "paper"
         },
         {
          "font": {
           "size": 16
          },
          "showarrow": false,
          "text": "prontoqa - 1.0% Training",
          "x": 0.15,
          "xanchor": "center",
          "xref": "paper",
          "y": 0.79,
          "yanchor": "bottom",
          "yref": "paper"
         },
         {
          "font": {
           "size": 16
          },
          "showarrow": false,
          "text": "anticommonsense - 1.0% Training",
          "x": 0.49999999999999994,
          "xanchor": "center",
          "xref": "paper",
          "y": 0.79,
          "yanchor": "bottom",
          "yref": "paper"
         },
         {
          "font": {
           "size": 16
          },
          "showarrow": false,
          "text": "noncommonsense - 1.0% Training",
          "x": 0.85,
          "xanchor": "center",
          "xref": "paper",
          "y": 0.79,
          "yanchor": "bottom",
          "yref": "paper"
         },
         {
          "font": {
           "size": 16
          },
          "showarrow": false,
          "text": "prontoqa - 2.0% Training",
          "x": 0.15,
          "xanchor": "center",
          "xref": "paper",
          "y": 0.5800000000000001,
          "yanchor": "bottom",
          "yref": "paper"
         },
         {
          "font": {
           "size": 16
          },
          "showarrow": false,
          "text": "anticommonsense - 2.0% Training",
          "x": 0.49999999999999994,
          "xanchor": "center",
          "xref": "paper",
          "y": 0.5800000000000001,
          "yanchor": "bottom",
          "yref": "paper"
         },
         {
          "font": {
           "size": 16
          },
          "showarrow": false,
          "text": "noncommonsense - 2.0% Training",
          "x": 0.85,
          "xanchor": "center",
          "xref": "paper",
          "y": 0.5800000000000001,
          "yanchor": "bottom",
          "yref": "paper"
         },
         {
          "font": {
           "size": 16
          },
          "showarrow": false,
          "text": "prontoqa - 5.0% Training",
          "x": 0.15,
          "xanchor": "center",
          "xref": "paper",
          "y": 0.37,
          "yanchor": "bottom",
          "yref": "paper"
         },
         {
          "font": {
           "size": 16
          },
          "showarrow": false,
          "text": "anticommonsense - 5.0% Training",
          "x": 0.49999999999999994,
          "xanchor": "center",
          "xref": "paper",
          "y": 0.37,
          "yanchor": "bottom",
          "yref": "paper"
         },
         {
          "font": {
           "size": 16
          },
          "showarrow": false,
          "text": "noncommonsense - 5.0% Training",
          "x": 0.85,
          "xanchor": "center",
          "xref": "paper",
          "y": 0.37,
          "yanchor": "bottom",
          "yref": "paper"
         },
         {
          "font": {
           "size": 16
          },
          "showarrow": false,
          "text": "prontoqa - 10.0% Training",
          "x": 0.15,
          "xanchor": "center",
          "xref": "paper",
          "y": 0.16,
          "yanchor": "bottom",
          "yref": "paper"
         },
         {
          "font": {
           "size": 16
          },
          "showarrow": false,
          "text": "anticommonsense - 10.0% Training",
          "x": 0.49999999999999994,
          "xanchor": "center",
          "xref": "paper",
          "y": 0.16,
          "yanchor": "bottom",
          "yref": "paper"
         },
         {
          "font": {
           "size": 16
          },
          "showarrow": false,
          "text": "noncommonsense - 10.0% Training",
          "x": 0.85,
          "xanchor": "center",
          "xref": "paper",
          "y": 0.16,
          "yanchor": "bottom",
          "yref": "paper"
         }
        ],
        "title": {
         "text": "Anonymize vs Non-Anonymize Performance Comparison"
        },
        "margin": {
         "t": 50,
         "b": 20,
         "l": 20,
         "r": 20
        },
        "height": 1000,
        "width": 1200,
        "legend": {
         "title": {
          "text": "Anonymization Setting"
         }
        }
       },
       "config": {
        "plotlyServerURL": "https://plot.ly"
       }
      },
      "text/html": [
       "<div>                            <div id=\"39218d74-cbe8-4f2c-8a2c-a44beff171dc\" class=\"plotly-graph-div\" style=\"height:1000px; width:1200px;\"></div>            <script type=\"text/javascript\">                require([\"plotly\"], function(Plotly) {                    window.PLOTLYENV=window.PLOTLYENV || {};                                    if (document.getElementById(\"39218d74-cbe8-4f2c-8a2c-a44beff171dc\")) {                    Plotly.newPlot(                        \"39218d74-cbe8-4f2c-8a2c-a44beff171dc\",                        [{\"legendgroup\":\"Anonymize=null\",\"line\":{\"color\":\"rgb(31, 119, 180)\"},\"mode\":\"lines+markers\",\"name\":\"Anonymize=null\",\"showlegend\":true,\"x\":[50,100,200,400,800,1600,3200],\"y\":[94.0,91.0,92.5,91.5,89.75,91.5,92.25],\"type\":\"scatter\",\"xaxis\":\"x\",\"yaxis\":\"y\"},{\"legendgroup\":\"Anonymize=random\",\"line\":{\"color\":\"rgb(255, 127, 14)\"},\"mode\":\"lines+markers\",\"name\":\"Anonymize=random\",\"showlegend\":true,\"x\":[50,100,200,400,800,1600,3200],\"y\":[73.75,77.0,77.25,75.75,78.0,71.0,76.25],\"type\":\"scatter\",\"xaxis\":\"x\",\"yaxis\":\"y\"},{\"legendgroup\":\"Anonymize=null\",\"line\":{\"color\":\"rgb(31, 119, 180)\"},\"mode\":\"lines+markers\",\"name\":\"Anonymize=null\",\"showlegend\":false,\"x\":[50,100,200,400,800,1600,3200],\"y\":[66.0,65.25,67.25,71.25,66.75,62.75,67.25],\"type\":\"scatter\",\"xaxis\":\"x2\",\"yaxis\":\"y2\"},{\"legendgroup\":\"Anonymize=random\",\"line\":{\"color\":\"rgb(255, 127, 14)\"},\"mode\":\"lines+markers\",\"name\":\"Anonymize=random\",\"showlegend\":false,\"x\":[50,100,200,400,800,1600,3200],\"y\":[66.75,70.0,74.5,68.25,67.0,66.5,67.25],\"type\":\"scatter\",\"xaxis\":\"x2\",\"yaxis\":\"y2\"},{\"legendgroup\":\"Anonymize=null\",\"line\":{\"color\":\"rgb(31, 119, 180)\"},\"mode\":\"lines+markers\",\"name\":\"Anonymize=null\",\"showlegend\":false,\"x\":[50,100,200,400,800,1600,3200],\"y\":[76.25,74.75,72.75,71.25,76.25,70.25,71.0],\"type\":\"scatter\",\"xaxis\":\"x3\",\"yaxis\":\"y3\"},{\"legendgroup\":\"Anonymize=random\",\"line\":{\"color\":\"rgb(255, 127, 14)\"},\"mode\":\"lines+markers\",\"name\":\"Anonymize=random\",\"showlegend\":false,\"x\":[50,100,200,400,800,1600,3200],\"y\":[70.0,75.75,77.0,71.5,76.25,70.25,68.75],\"type\":\"scatter\",\"xaxis\":\"x3\",\"yaxis\":\"y3\"},{\"legendgroup\":\"Anonymize=null\",\"line\":{\"color\":\"rgb(31, 119, 180)\"},\"mode\":\"lines+markers\",\"name\":\"Anonymize=null\",\"showlegend\":false,\"x\":[50,100,200,400,800,1600,3200],\"y\":[96.75,90.25,91.25,91.0,94.75,91.25,96.75],\"type\":\"scatter\",\"xaxis\":\"x4\",\"yaxis\":\"y4\"},{\"legendgroup\":\"Anonymize=random\",\"line\":{\"color\":\"rgb(255, 127, 14)\"},\"mode\":\"lines+markers\",\"name\":\"Anonymize=random\",\"showlegend\":false,\"x\":[50,100,200,400,800,1600,3200],\"y\":[77.25,83.75,78.5,75.25,76.5,71.5,72.25],\"type\":\"scatter\",\"xaxis\":\"x4\",\"yaxis\":\"y4\"},{\"legendgroup\":\"Anonymize=null\",\"line\":{\"color\":\"rgb(31, 119, 180)\"},\"mode\":\"lines+markers\",\"name\":\"Anonymize=null\",\"showlegend\":false,\"x\":[50,100,200,400,800,1600,3200],\"y\":[75.25,63.5,65.75,71.5,75.0,74.0,73.0],\"type\":\"scatter\",\"xaxis\":\"x5\",\"yaxis\":\"y5\"},{\"legendgroup\":\"Anonymize=random\",\"line\":{\"color\":\"rgb(255, 127, 14)\"},\"mode\":\"lines+markers\",\"name\":\"Anonymize=random\",\"showlegend\":false,\"x\":[50,100,200,400,800,1600,3200],\"y\":[75.0,75.75,70.5,71.25,75.0,71.0,67.0],\"type\":\"scatter\",\"xaxis\":\"x5\",\"yaxis\":\"y5\"},{\"legendgroup\":\"Anonymize=null\",\"line\":{\"color\":\"rgb(31, 119, 180)\"},\"mode\":\"lines+markers\",\"name\":\"Anonymize=null\",\"showlegend\":false,\"x\":[50,100,200,400,800,1600,3200],\"y\":[79.5,75.5,73.5,78.0,74.75,76.75,75.25],\"type\":\"scatter\",\"xaxis\":\"x6\",\"yaxis\":\"y6\"},{\"legendgroup\":\"Anonymize=random\",\"line\":{\"color\":\"rgb(255, 127, 14)\"},\"mode\":\"lines+markers\",\"name\":\"Anonymize=random\",\"showlegend\":false,\"x\":[50,100,200,400,800,1600,3200],\"y\":[79.75,80.0,79.0,75.75,74.0,71.25,71.75],\"type\":\"scatter\",\"xaxis\":\"x6\",\"yaxis\":\"y6\"},{\"legendgroup\":\"Anonymize=null\",\"line\":{\"color\":\"rgb(31, 119, 180)\"},\"mode\":\"lines+markers\",\"name\":\"Anonymize=null\",\"showlegend\":false,\"x\":[50,100,200,400,800,1600,3200],\"y\":[97.25,98.0,98.75,94.25,97.5,96.75,100.0],\"type\":\"scatter\",\"xaxis\":\"x7\",\"yaxis\":\"y7\"},{\"legendgroup\":\"Anonymize=random\",\"line\":{\"color\":\"rgb(255, 127, 14)\"},\"mode\":\"lines+markers\",\"name\":\"Anonymize=random\",\"showlegend\":false,\"x\":[50,100,200,400,800,1600,3200],\"y\":[76.0,83.5,87.25,83.5,86.0,83.25,85.5],\"type\":\"scatter\",\"xaxis\":\"x7\",\"yaxis\":\"y7\"},{\"legendgroup\":\"Anonymize=null\",\"line\":{\"color\":\"rgb(31, 119, 180)\"},\"mode\":\"lines+markers\",\"name\":\"Anonymize=null\",\"showlegend\":false,\"x\":[50,100,200,400,800,1600,3200],\"y\":[72.5,75.5,75.0,72.0,78.0,75.75,76.75],\"type\":\"scatter\",\"xaxis\":\"x8\",\"yaxis\":\"y8\"},{\"legendgroup\":\"Anonymize=random\",\"line\":{\"color\":\"rgb(255, 127, 14)\"},\"mode\":\"lines+markers\",\"name\":\"Anonymize=random\",\"showlegend\":false,\"x\":[50,100,200,400,800,1600,3200],\"y\":[70.75,76.0,80.5,79.0,77.75,74.25,80.0],\"type\":\"scatter\",\"xaxis\":\"x8\",\"yaxis\":\"y8\"},{\"legendgroup\":\"Anonymize=null\",\"line\":{\"color\":\"rgb(31, 119, 180)\"},\"mode\":\"lines+markers\",\"name\":\"Anonymize=null\",\"showlegend\":false,\"x\":[50,100,200,400,800,1600,3200],\"y\":[81.25,80.75,81.25,76.75,79.25,81.0,80.0],\"type\":\"scatter\",\"xaxis\":\"x9\",\"yaxis\":\"y9\"},{\"legendgroup\":\"Anonymize=random\",\"line\":{\"color\":\"rgb(255, 127, 14)\"},\"mode\":\"lines+markers\",\"name\":\"Anonymize=random\",\"showlegend\":false,\"x\":[50,100,200,400,800,1600,3200],\"y\":[73.5,80.0,83.25,83.25,84.5,84.75,81.0],\"type\":\"scatter\",\"xaxis\":\"x9\",\"yaxis\":\"y9\"},{\"legendgroup\":\"Anonymize=null\",\"line\":{\"color\":\"rgb(31, 119, 180)\"},\"mode\":\"lines+markers\",\"name\":\"Anonymize=null\",\"showlegend\":false,\"x\":[50,100,200,400,800,1600,3200],\"y\":[null,99.75,99.0,99.75,100.0,100.0,100.0],\"type\":\"scatter\",\"xaxis\":\"x10\",\"yaxis\":\"y10\"},{\"legendgroup\":\"Anonymize=random\",\"line\":{\"color\":\"rgb(255, 127, 14)\"},\"mode\":\"lines+markers\",\"name\":\"Anonymize=random\",\"showlegend\":false,\"x\":[50,100,200,400,800,1600,3200],\"y\":[79.5,85.75,84.0,90.25,89.5,89.5,91.25],\"type\":\"scatter\",\"xaxis\":\"x10\",\"yaxis\":\"y10\"},{\"legendgroup\":\"Anonymize=null\",\"line\":{\"color\":\"rgb(31, 119, 180)\"},\"mode\":\"lines+markers\",\"name\":\"Anonymize=null\",\"showlegend\":false,\"x\":[50,100,200,400,800,1600,3200],\"y\":[null,73.75,75.0,71.0,74.0,66.5,72.5],\"type\":\"scatter\",\"xaxis\":\"x11\",\"yaxis\":\"y11\"},{\"legendgroup\":\"Anonymize=random\",\"line\":{\"color\":\"rgb(255, 127, 14)\"},\"mode\":\"lines+markers\",\"name\":\"Anonymize=random\",\"showlegend\":false,\"x\":[50,100,200,400,800,1600,3200],\"y\":[71.75,73.0,78.25,83.75,83.0,83.0,81.5],\"type\":\"scatter\",\"xaxis\":\"x11\",\"yaxis\":\"y11\"},{\"legendgroup\":\"Anonymize=null\",\"line\":{\"color\":\"rgb(31, 119, 180)\"},\"mode\":\"lines+markers\",\"name\":\"Anonymize=null\",\"showlegend\":false,\"x\":[50,100,200,400,800,1600,3200],\"y\":[null,85.5,85.0,85.0,77.75,76.0,83.0],\"type\":\"scatter\",\"xaxis\":\"x12\",\"yaxis\":\"y12\"},{\"legendgroup\":\"Anonymize=random\",\"line\":{\"color\":\"rgb(255, 127, 14)\"},\"mode\":\"lines+markers\",\"name\":\"Anonymize=random\",\"showlegend\":false,\"x\":[50,100,200,400,800,1600,3200],\"y\":[78.25,80.25,80.5,85.75,88.0,87.5,88.25],\"type\":\"scatter\",\"xaxis\":\"x12\",\"yaxis\":\"y12\"},{\"legendgroup\":\"Anonymize=null\",\"line\":{\"color\":\"rgb(31, 119, 180)\"},\"mode\":\"lines+markers\",\"name\":\"Anonymize=null\",\"showlegend\":false,\"x\":[50,100,200,400,800,1600,3200],\"y\":[96.25,98.75,100.0,100.0,100.0,100.0,100.0],\"type\":\"scatter\",\"xaxis\":\"x13\",\"yaxis\":\"y13\"},{\"legendgroup\":\"Anonymize=random\",\"line\":{\"color\":\"rgb(255, 127, 14)\"},\"mode\":\"lines+markers\",\"name\":\"Anonymize=random\",\"showlegend\":false,\"x\":[50,100,200,400,800,1600,3200],\"y\":[81.5,84.75,87.5,93.75,95.75,96.5,96.75],\"type\":\"scatter\",\"xaxis\":\"x13\",\"yaxis\":\"y13\"},{\"legendgroup\":\"Anonymize=null\",\"line\":{\"color\":\"rgb(31, 119, 180)\"},\"mode\":\"lines+markers\",\"name\":\"Anonymize=null\",\"showlegend\":false,\"x\":[50,100,200,400,800,1600,3200],\"y\":[67.0,72.5,79.25,72.25,73.25,69.75,72.25],\"type\":\"scatter\",\"xaxis\":\"x14\",\"yaxis\":\"y14\"},{\"legendgroup\":\"Anonymize=random\",\"line\":{\"color\":\"rgb(255, 127, 14)\"},\"mode\":\"lines+markers\",\"name\":\"Anonymize=random\",\"showlegend\":false,\"x\":[50,100,200,400,800,1600,3200],\"y\":[70.5,72.25,81.5,85.0,87.25,87.0,89.0],\"type\":\"scatter\",\"xaxis\":\"x14\",\"yaxis\":\"y14\"},{\"legendgroup\":\"Anonymize=null\",\"line\":{\"color\":\"rgb(31, 119, 180)\"},\"mode\":\"lines+markers\",\"name\":\"Anonymize=null\",\"showlegend\":false,\"x\":[50,100,200,400,800,1600,3200],\"y\":[80.5,82.25,83.5,82.25,79.25,72.0,75.75],\"type\":\"scatter\",\"xaxis\":\"x15\",\"yaxis\":\"y15\"},{\"legendgroup\":\"Anonymize=random\",\"line\":{\"color\":\"rgb(255, 127, 14)\"},\"mode\":\"lines+markers\",\"name\":\"Anonymize=random\",\"showlegend\":false,\"x\":[50,100,200,400,800,1600,3200],\"y\":[80.0,82.5,85.0,91.25,92.0,93.5,94.75],\"type\":\"scatter\",\"xaxis\":\"x15\",\"yaxis\":\"y15\"}],                        {\"template\":{\"data\":{\"histogram2dcontour\":[{\"type\":\"histogram2dcontour\",\"colorbar\":{\"outlinewidth\":0,\"ticks\":\"\"},\"colorscale\":[[0.0,\"#0d0887\"],[0.1111111111111111,\"#46039f\"],[0.2222222222222222,\"#7201a8\"],[0.3333333333333333,\"#9c179e\"],[0.4444444444444444,\"#bd3786\"],[0.5555555555555556,\"#d8576b\"],[0.6666666666666666,\"#ed7953\"],[0.7777777777777778,\"#fb9f3a\"],[0.8888888888888888,\"#fdca26\"],[1.0,\"#f0f921\"]]}],\"choropleth\":[{\"type\":\"choropleth\",\"colorbar\":{\"outlinewidth\":0,\"ticks\":\"\"}}],\"histogram2d\":[{\"type\":\"histogram2d\",\"colorbar\":{\"outlinewidth\":0,\"ticks\":\"\"},\"colorscale\":[[0.0,\"#0d0887\"],[0.1111111111111111,\"#46039f\"],[0.2222222222222222,\"#7201a8\"],[0.3333333333333333,\"#9c179e\"],[0.4444444444444444,\"#bd3786\"],[0.5555555555555556,\"#d8576b\"],[0.6666666666666666,\"#ed7953\"],[0.7777777777777778,\"#fb9f3a\"],[0.8888888888888888,\"#fdca26\"],[1.0,\"#f0f921\"]]}],\"heatmap\":[{\"type\":\"heatmap\",\"colorbar\":{\"outlinewidth\":0,\"ticks\":\"\"},\"colorscale\":[[0.0,\"#0d0887\"],[0.1111111111111111,\"#46039f\"],[0.2222222222222222,\"#7201a8\"],[0.3333333333333333,\"#9c179e\"],[0.4444444444444444,\"#bd3786\"],[0.5555555555555556,\"#d8576b\"],[0.6666666666666666,\"#ed7953\"],[0.7777777777777778,\"#fb9f3a\"],[0.8888888888888888,\"#fdca26\"],[1.0,\"#f0f921\"]]}],\"heatmapgl\":[{\"type\":\"heatmapgl\",\"colorbar\":{\"outlinewidth\":0,\"ticks\":\"\"},\"colorscale\":[[0.0,\"#0d0887\"],[0.1111111111111111,\"#46039f\"],[0.2222222222222222,\"#7201a8\"],[0.3333333333333333,\"#9c179e\"],[0.4444444444444444,\"#bd3786\"],[0.5555555555555556,\"#d8576b\"],[0.6666666666666666,\"#ed7953\"],[0.7777777777777778,\"#fb9f3a\"],[0.8888888888888888,\"#fdca26\"],[1.0,\"#f0f921\"]]}],\"contourcarpet\":[{\"type\":\"contourcarpet\",\"colorbar\":{\"outlinewidth\":0,\"ticks\":\"\"}}],\"contour\":[{\"type\":\"contour\",\"colorbar\":{\"outlinewidth\":0,\"ticks\":\"\"},\"colorscale\":[[0.0,\"#0d0887\"],[0.1111111111111111,\"#46039f\"],[0.2222222222222222,\"#7201a8\"],[0.3333333333333333,\"#9c179e\"],[0.4444444444444444,\"#bd3786\"],[0.5555555555555556,\"#d8576b\"],[0.6666666666666666,\"#ed7953\"],[0.7777777777777778,\"#fb9f3a\"],[0.8888888888888888,\"#fdca26\"],[1.0,\"#f0f921\"]]}],\"surface\":[{\"type\":\"surface\",\"colorbar\":{\"outlinewidth\":0,\"ticks\":\"\"},\"colorscale\":[[0.0,\"#0d0887\"],[0.1111111111111111,\"#46039f\"],[0.2222222222222222,\"#7201a8\"],[0.3333333333333333,\"#9c179e\"],[0.4444444444444444,\"#bd3786\"],[0.5555555555555556,\"#d8576b\"],[0.6666666666666666,\"#ed7953\"],[0.7777777777777778,\"#fb9f3a\"],[0.8888888888888888,\"#fdca26\"],[1.0,\"#f0f921\"]]}],\"mesh3d\":[{\"type\":\"mesh3d\",\"colorbar\":{\"outlinewidth\":0,\"ticks\":\"\"}}],\"scatter\":[{\"fillpattern\":{\"fillmode\":\"overlay\",\"size\":10,\"solidity\":0.2},\"type\":\"scatter\"}],\"parcoords\":[{\"type\":\"parcoords\",\"line\":{\"colorbar\":{\"outlinewidth\":0,\"ticks\":\"\"}}}],\"scatterpolargl\":[{\"type\":\"scatterpolargl\",\"marker\":{\"colorbar\":{\"outlinewidth\":0,\"ticks\":\"\"}}}],\"bar\":[{\"error_x\":{\"color\":\"#2a3f5f\"},\"error_y\":{\"color\":\"#2a3f5f\"},\"marker\":{\"line\":{\"color\":\"#E5ECF6\",\"width\":0.5},\"pattern\":{\"fillmode\":\"overlay\",\"size\":10,\"solidity\":0.2}},\"type\":\"bar\"}],\"scattergeo\":[{\"type\":\"scattergeo\",\"marker\":{\"colorbar\":{\"outlinewidth\":0,\"ticks\":\"\"}}}],\"scatterpolar\":[{\"type\":\"scatterpolar\",\"marker\":{\"colorbar\":{\"outlinewidth\":0,\"ticks\":\"\"}}}],\"histogram\":[{\"marker\":{\"pattern\":{\"fillmode\":\"overlay\",\"size\":10,\"solidity\":0.2}},\"type\":\"histogram\"}],\"scattergl\":[{\"type\":\"scattergl\",\"marker\":{\"colorbar\":{\"outlinewidth\":0,\"ticks\":\"\"}}}],\"scatter3d\":[{\"type\":\"scatter3d\",\"line\":{\"colorbar\":{\"outlinewidth\":0,\"ticks\":\"\"}},\"marker\":{\"colorbar\":{\"outlinewidth\":0,\"ticks\":\"\"}}}],\"scattermapbox\":[{\"type\":\"scattermapbox\",\"marker\":{\"colorbar\":{\"outlinewidth\":0,\"ticks\":\"\"}}}],\"scatterternary\":[{\"type\":\"scatterternary\",\"marker\":{\"colorbar\":{\"outlinewidth\":0,\"ticks\":\"\"}}}],\"scattercarpet\":[{\"type\":\"scattercarpet\",\"marker\":{\"colorbar\":{\"outlinewidth\":0,\"ticks\":\"\"}}}],\"carpet\":[{\"aaxis\":{\"endlinecolor\":\"#2a3f5f\",\"gridcolor\":\"white\",\"linecolor\":\"white\",\"minorgridcolor\":\"white\",\"startlinecolor\":\"#2a3f5f\"},\"baxis\":{\"endlinecolor\":\"#2a3f5f\",\"gridcolor\":\"white\",\"linecolor\":\"white\",\"minorgridcolor\":\"white\",\"startlinecolor\":\"#2a3f5f\"},\"type\":\"carpet\"}],\"table\":[{\"cells\":{\"fill\":{\"color\":\"#EBF0F8\"},\"line\":{\"color\":\"white\"}},\"header\":{\"fill\":{\"color\":\"#C8D4E3\"},\"line\":{\"color\":\"white\"}},\"type\":\"table\"}],\"barpolar\":[{\"marker\":{\"line\":{\"color\":\"#E5ECF6\",\"width\":0.5},\"pattern\":{\"fillmode\":\"overlay\",\"size\":10,\"solidity\":0.2}},\"type\":\"barpolar\"}],\"pie\":[{\"automargin\":true,\"type\":\"pie\"}]},\"layout\":{\"autotypenumbers\":\"strict\",\"colorway\":[\"#636efa\",\"#EF553B\",\"#00cc96\",\"#ab63fa\",\"#FFA15A\",\"#19d3f3\",\"#FF6692\",\"#B6E880\",\"#FF97FF\",\"#FECB52\"],\"font\":{\"color\":\"#2a3f5f\"},\"hovermode\":\"closest\",\"hoverlabel\":{\"align\":\"left\"},\"paper_bgcolor\":\"white\",\"plot_bgcolor\":\"#E5ECF6\",\"polar\":{\"bgcolor\":\"#E5ECF6\",\"angularaxis\":{\"gridcolor\":\"white\",\"linecolor\":\"white\",\"ticks\":\"\"},\"radialaxis\":{\"gridcolor\":\"white\",\"linecolor\":\"white\",\"ticks\":\"\"}},\"ternary\":{\"bgcolor\":\"#E5ECF6\",\"aaxis\":{\"gridcolor\":\"white\",\"linecolor\":\"white\",\"ticks\":\"\"},\"baxis\":{\"gridcolor\":\"white\",\"linecolor\":\"white\",\"ticks\":\"\"},\"caxis\":{\"gridcolor\":\"white\",\"linecolor\":\"white\",\"ticks\":\"\"}},\"coloraxis\":{\"colorbar\":{\"outlinewidth\":0,\"ticks\":\"\"}},\"colorscale\":{\"sequential\":[[0.0,\"#0d0887\"],[0.1111111111111111,\"#46039f\"],[0.2222222222222222,\"#7201a8\"],[0.3333333333333333,\"#9c179e\"],[0.4444444444444444,\"#bd3786\"],[0.5555555555555556,\"#d8576b\"],[0.6666666666666666,\"#ed7953\"],[0.7777777777777778,\"#fb9f3a\"],[0.8888888888888888,\"#fdca26\"],[1.0,\"#f0f921\"]],\"sequentialminus\":[[0.0,\"#0d0887\"],[0.1111111111111111,\"#46039f\"],[0.2222222222222222,\"#7201a8\"],[0.3333333333333333,\"#9c179e\"],[0.4444444444444444,\"#bd3786\"],[0.5555555555555556,\"#d8576b\"],[0.6666666666666666,\"#ed7953\"],[0.7777777777777778,\"#fb9f3a\"],[0.8888888888888888,\"#fdca26\"],[1.0,\"#f0f921\"]],\"diverging\":[[0,\"#8e0152\"],[0.1,\"#c51b7d\"],[0.2,\"#de77ae\"],[0.3,\"#f1b6da\"],[0.4,\"#fde0ef\"],[0.5,\"#f7f7f7\"],[0.6,\"#e6f5d0\"],[0.7,\"#b8e186\"],[0.8,\"#7fbc41\"],[0.9,\"#4d9221\"],[1,\"#276419\"]]},\"xaxis\":{\"gridcolor\":\"white\",\"linecolor\":\"white\",\"ticks\":\"\",\"title\":{\"standoff\":15},\"zerolinecolor\":\"white\",\"automargin\":true,\"zerolinewidth\":2},\"yaxis\":{\"gridcolor\":\"white\",\"linecolor\":\"white\",\"ticks\":\"\",\"title\":{\"standoff\":15},\"zerolinecolor\":\"white\",\"automargin\":true,\"zerolinewidth\":2},\"scene\":{\"xaxis\":{\"backgroundcolor\":\"#E5ECF6\",\"gridcolor\":\"white\",\"linecolor\":\"white\",\"showbackground\":true,\"ticks\":\"\",\"zerolinecolor\":\"white\",\"gridwidth\":2},\"yaxis\":{\"backgroundcolor\":\"#E5ECF6\",\"gridcolor\":\"white\",\"linecolor\":\"white\",\"showbackground\":true,\"ticks\":\"\",\"zerolinecolor\":\"white\",\"gridwidth\":2},\"zaxis\":{\"backgroundcolor\":\"#E5ECF6\",\"gridcolor\":\"white\",\"linecolor\":\"white\",\"showbackground\":true,\"ticks\":\"\",\"zerolinecolor\":\"white\",\"gridwidth\":2}},\"shapedefaults\":{\"line\":{\"color\":\"#2a3f5f\"}},\"annotationdefaults\":{\"arrowcolor\":\"#2a3f5f\",\"arrowhead\":0,\"arrowwidth\":1},\"geo\":{\"bgcolor\":\"white\",\"landcolor\":\"#E5ECF6\",\"subunitcolor\":\"white\",\"showland\":true,\"showlakes\":true,\"lakecolor\":\"white\"},\"title\":{\"x\":0.05},\"mapbox\":{\"style\":\"light\"}}},\"xaxis\":{\"anchor\":\"y\",\"domain\":[0.0,0.3]},\"yaxis\":{\"anchor\":\"x\",\"domain\":[0.8400000000000001,1.0],\"title\":{\"text\":\"Score\"}},\"xaxis2\":{\"anchor\":\"y2\",\"domain\":[0.35,0.6499999999999999]},\"yaxis2\":{\"anchor\":\"x2\",\"domain\":[0.8400000000000001,1.0]},\"xaxis3\":{\"anchor\":\"y3\",\"domain\":[0.7,1.0]},\"yaxis3\":{\"anchor\":\"x3\",\"domain\":[0.8400000000000001,1.0]},\"xaxis4\":{\"anchor\":\"y4\",\"domain\":[0.0,0.3]},\"yaxis4\":{\"anchor\":\"x4\",\"domain\":[0.63,0.79],\"title\":{\"text\":\"Score\"}},\"xaxis5\":{\"anchor\":\"y5\",\"domain\":[0.35,0.6499999999999999]},\"yaxis5\":{\"anchor\":\"x5\",\"domain\":[0.63,0.79]},\"xaxis6\":{\"anchor\":\"y6\",\"domain\":[0.7,1.0]},\"yaxis6\":{\"anchor\":\"x6\",\"domain\":[0.63,0.79]},\"xaxis7\":{\"anchor\":\"y7\",\"domain\":[0.0,0.3]},\"yaxis7\":{\"anchor\":\"x7\",\"domain\":[0.42000000000000004,0.5800000000000001],\"title\":{\"text\":\"Score\"}},\"xaxis8\":{\"anchor\":\"y8\",\"domain\":[0.35,0.6499999999999999]},\"yaxis8\":{\"anchor\":\"x8\",\"domain\":[0.42000000000000004,0.5800000000000001]},\"xaxis9\":{\"anchor\":\"y9\",\"domain\":[0.7,1.0]},\"yaxis9\":{\"anchor\":\"x9\",\"domain\":[0.42000000000000004,0.5800000000000001]},\"xaxis10\":{\"anchor\":\"y10\",\"domain\":[0.0,0.3]},\"yaxis10\":{\"anchor\":\"x10\",\"domain\":[0.21000000000000002,0.37],\"title\":{\"text\":\"Score\"}},\"xaxis11\":{\"anchor\":\"y11\",\"domain\":[0.35,0.6499999999999999]},\"yaxis11\":{\"anchor\":\"x11\",\"domain\":[0.21000000000000002,0.37]},\"xaxis12\":{\"anchor\":\"y12\",\"domain\":[0.7,1.0]},\"yaxis12\":{\"anchor\":\"x12\",\"domain\":[0.21000000000000002,0.37]},\"xaxis13\":{\"anchor\":\"y13\",\"domain\":[0.0,0.3],\"title\":{\"text\":\"Number of Epochs\"}},\"yaxis13\":{\"anchor\":\"x13\",\"domain\":[0.0,0.16],\"title\":{\"text\":\"Score\"}},\"xaxis14\":{\"anchor\":\"y14\",\"domain\":[0.35,0.6499999999999999],\"title\":{\"text\":\"Number of Epochs\"}},\"yaxis14\":{\"anchor\":\"x14\",\"domain\":[0.0,0.16]},\"xaxis15\":{\"anchor\":\"y15\",\"domain\":[0.7,1.0],\"title\":{\"text\":\"Number of Epochs\"}},\"yaxis15\":{\"anchor\":\"x15\",\"domain\":[0.0,0.16]},\"annotations\":[{\"font\":{\"size\":16},\"showarrow\":false,\"text\":\"prontoqa - 0.5% Training\",\"x\":0.15,\"xanchor\":\"center\",\"xref\":\"paper\",\"y\":1.0,\"yanchor\":\"bottom\",\"yref\":\"paper\"},{\"font\":{\"size\":16},\"showarrow\":false,\"text\":\"anticommonsense - 0.5% Training\",\"x\":0.49999999999999994,\"xanchor\":\"center\",\"xref\":\"paper\",\"y\":1.0,\"yanchor\":\"bottom\",\"yref\":\"paper\"},{\"font\":{\"size\":16},\"showarrow\":false,\"text\":\"noncommonsense - 0.5% Training\",\"x\":0.85,\"xanchor\":\"center\",\"xref\":\"paper\",\"y\":1.0,\"yanchor\":\"bottom\",\"yref\":\"paper\"},{\"font\":{\"size\":16},\"showarrow\":false,\"text\":\"prontoqa - 1.0% Training\",\"x\":0.15,\"xanchor\":\"center\",\"xref\":\"paper\",\"y\":0.79,\"yanchor\":\"bottom\",\"yref\":\"paper\"},{\"font\":{\"size\":16},\"showarrow\":false,\"text\":\"anticommonsense - 1.0% Training\",\"x\":0.49999999999999994,\"xanchor\":\"center\",\"xref\":\"paper\",\"y\":0.79,\"yanchor\":\"bottom\",\"yref\":\"paper\"},{\"font\":{\"size\":16},\"showarrow\":false,\"text\":\"noncommonsense - 1.0% Training\",\"x\":0.85,\"xanchor\":\"center\",\"xref\":\"paper\",\"y\":0.79,\"yanchor\":\"bottom\",\"yref\":\"paper\"},{\"font\":{\"size\":16},\"showarrow\":false,\"text\":\"prontoqa - 2.0% Training\",\"x\":0.15,\"xanchor\":\"center\",\"xref\":\"paper\",\"y\":0.5800000000000001,\"yanchor\":\"bottom\",\"yref\":\"paper\"},{\"font\":{\"size\":16},\"showarrow\":false,\"text\":\"anticommonsense - 2.0% Training\",\"x\":0.49999999999999994,\"xanchor\":\"center\",\"xref\":\"paper\",\"y\":0.5800000000000001,\"yanchor\":\"bottom\",\"yref\":\"paper\"},{\"font\":{\"size\":16},\"showarrow\":false,\"text\":\"noncommonsense - 2.0% Training\",\"x\":0.85,\"xanchor\":\"center\",\"xref\":\"paper\",\"y\":0.5800000000000001,\"yanchor\":\"bottom\",\"yref\":\"paper\"},{\"font\":{\"size\":16},\"showarrow\":false,\"text\":\"prontoqa - 5.0% Training\",\"x\":0.15,\"xanchor\":\"center\",\"xref\":\"paper\",\"y\":0.37,\"yanchor\":\"bottom\",\"yref\":\"paper\"},{\"font\":{\"size\":16},\"showarrow\":false,\"text\":\"anticommonsense - 5.0% Training\",\"x\":0.49999999999999994,\"xanchor\":\"center\",\"xref\":\"paper\",\"y\":0.37,\"yanchor\":\"bottom\",\"yref\":\"paper\"},{\"font\":{\"size\":16},\"showarrow\":false,\"text\":\"noncommonsense - 5.0% Training\",\"x\":0.85,\"xanchor\":\"center\",\"xref\":\"paper\",\"y\":0.37,\"yanchor\":\"bottom\",\"yref\":\"paper\"},{\"font\":{\"size\":16},\"showarrow\":false,\"text\":\"prontoqa - 10.0% Training\",\"x\":0.15,\"xanchor\":\"center\",\"xref\":\"paper\",\"y\":0.16,\"yanchor\":\"bottom\",\"yref\":\"paper\"},{\"font\":{\"size\":16},\"showarrow\":false,\"text\":\"anticommonsense - 10.0% Training\",\"x\":0.49999999999999994,\"xanchor\":\"center\",\"xref\":\"paper\",\"y\":0.16,\"yanchor\":\"bottom\",\"yref\":\"paper\"},{\"font\":{\"size\":16},\"showarrow\":false,\"text\":\"noncommonsense - 10.0% Training\",\"x\":0.85,\"xanchor\":\"center\",\"xref\":\"paper\",\"y\":0.16,\"yanchor\":\"bottom\",\"yref\":\"paper\"}],\"title\":{\"text\":\"Anonymize vs Non-Anonymize Performance Comparison\"},\"margin\":{\"t\":50,\"b\":20,\"l\":20,\"r\":20},\"height\":1000,\"width\":1200,\"legend\":{\"title\":{\"text\":\"Anonymization Setting\"}}},                        {\"responsive\": true}                    ).then(function(){\n",
       "                            \n",
       "var gd = document.getElementById('39218d74-cbe8-4f2c-8a2c-a44beff171dc');\n",
       "var x = new MutationObserver(function (mutations, observer) {{\n",
       "        var display = window.getComputedStyle(gd).display;\n",
       "        if (!display || display === 'none') {{\n",
       "            console.log([gd, 'removed!']);\n",
       "            Plotly.purge(gd);\n",
       "            observer.disconnect();\n",
       "        }}\n",
       "}});\n",
       "\n",
       "// Listen for the removal of the full notebook cells\n",
       "var notebookContainer = gd.closest('#notebook-container');\n",
       "if (notebookContainer) {{\n",
       "    x.observe(notebookContainer, {childList: true});\n",
       "}}\n",
       "\n",
       "// Listen for the clearing of the current output cell\n",
       "var outputEl = gd.closest('.output');\n",
       "if (outputEl) {{\n",
       "    x.observe(outputEl, {childList: true});\n",
       "}}\n",
       "\n",
       "                        })                };                });            </script>        </div>"
      ]
     },
     "metadata": {},
     "output_type": "display_data"
    }
   ],
   "execution_count": 19
  },
  {
   "metadata": {
    "collapsed": true,
    "ExecuteTime": {
     "end_time": "2025-03-25T22:28:30.730931Z",
     "start_time": "2025-03-25T22:28:30.633332Z"
    }
   },
   "cell_type": "code",
   "source": [
    "\n",
    "# Create a simplified single-row comparison for easier viewing\n",
    "def create_simplified_comparison():\n",
    "    # Create one row of plots, one for each test dataset\n",
    "    fig = make_subplots(\n",
    "        rows=1, \n",
    "        cols=len(test_dataset_columns),\n",
    "        subplot_titles=[col.replace('score_', '') for col in test_dataset_columns],\n",
    "        horizontal_spacing=0.1\n",
    "    )\n",
    "    \n",
    "    # Color scheme for different training percentages\n",
    "    colors = px.colors.qualitative.Plotly\n",
    "    \n",
    "    for j, test_col in enumerate(test_dataset_columns):\n",
    "        dataset_name = test_col.replace('score_', '')\n",
    "        \n",
    "        # For each training percentage\n",
    "        for i, pct in enumerate(training_percentages):\n",
    "            # Filter data for this training percentage\n",
    "            df_pct = df[df['percent_train'] == pct]\n",
    "            \n",
    "            # For anonymize=True and anonymize=False\n",
    "            for k, anon in enumerate([True, False]):\n",
    "                df_group = df_pct[df_pct['anonymize'] == anon]\n",
    "                \n",
    "                # Skip if no data for this combination\n",
    "                if len(df_group) == 0:\n",
    "                    continue\n",
    "                \n",
    "                # Get average scores for each epoch\n",
    "                epoch_scores = df_group.groupby('num_epochs')[test_col].mean().reset_index()\n",
    "                \n",
    "                # Add line to plot\n",
    "                fig.add_trace(\n",
    "                    go.Scatter(\n",
    "                        x=epoch_scores['num_epochs'],\n",
    "                        y=epoch_scores[test_col],\n",
    "                        mode='lines+markers',\n",
    "                        name=f\"{pct*100}% Train, Anon={anon}\",\n",
    "                        line=dict(\n",
    "                            color=colors[i % len(colors)],\n",
    "                            dash='dash' if anon else 'solid'\n",
    "                        ),\n",
    "                    ),\n",
    "                    row=1, col=j+1\n",
    "                )\n",
    "            \n",
    "            # Update axis labels\n",
    "            fig.update_xaxes(title_text=\"Number of Epochs\", row=1, col=j+1)\n",
    "            if j == 0:\n",
    "                fig.update_yaxes(title_text=\"Score\", row=1, col=j+1)\n",
    "    \n",
    "    # Update layout\n",
    "    fig.update_layout(\n",
    "        height=500,\n",
    "        width=350*len(test_dataset_columns),\n",
    "        title_text=\"Anonymize vs Non-Anonymize Performance Comparison\",\n",
    "        legend=dict(\n",
    "            orientation=\"h\",\n",
    "            yanchor=\"bottom\",\n",
    "            y=-0.3,\n",
    "            xanchor=\"center\",\n",
    "            x=0.5\n",
    "        ),\n",
    "        margin=dict(b=100)\n",
    "    )\n",
    "    \n",
    "    return fig\n",
    "\n",
    "# Create and display the simplified comparison\n",
    "simple_fig = create_simplified_comparison()\n",
    "simple_fig.show()"
   ],
   "id": "initial_id",
   "outputs": [
    {
     "data": {
      "application/vnd.plotly.v1+json": {
       "data": [
        {
         "line": {
          "color": "#636EFA",
          "dash": "dash"
         },
         "mode": "lines+markers",
         "name": "1.0% Train, Anon=True",
         "x": [
          1,
          2,
          4,
          8,
          16,
          32
         ],
         "y": [
          50.435,
          52.305,
          55.095,
          60.915,
          65.67,
          69.47
         ],
         "type": "scatter",
         "xaxis": "x",
         "yaxis": "y"
        },
        {
         "line": {
          "color": "#636EFA",
          "dash": "solid"
         },
         "mode": "lines+markers",
         "name": "1.0% Train, Anon=False",
         "x": [
          1,
          2,
          4,
          8,
          16,
          32
         ],
         "y": [
          27.455,
          42.26,
          53.845,
          53.75,
          63.605000000000004,
          67.07
         ],
         "type": "scatter",
         "xaxis": "x",
         "yaxis": "y"
        },
        {
         "line": {
          "color": "#EF553B",
          "dash": "dash"
         },
         "mode": "lines+markers",
         "name": "2.0% Train, Anon=True",
         "x": [
          1,
          2,
          4,
          8,
          16,
          32
         ],
         "y": [
          50.625,
          53.989999999999995,
          61.345,
          62.5,
          72.015,
          75.53
         ],
         "type": "scatter",
         "xaxis": "x",
         "yaxis": "y"
        },
        {
         "line": {
          "color": "#EF553B",
          "dash": "solid"
         },
         "mode": "lines+markers",
         "name": "2.0% Train, Anon=False",
         "x": [
          1,
          2,
          4,
          8,
          16,
          32
         ],
         "y": [
          44.95,
          52.885000000000005,
          58.269999999999996,
          65.33500000000001,
          71.25,
          72.98
         ],
         "type": "scatter",
         "xaxis": "x",
         "yaxis": "y"
        },
        {
         "line": {
          "color": "#00CC96",
          "dash": "dash"
         },
         "mode": "lines+markers",
         "name": "5.0% Train, Anon=True",
         "x": [
          1,
          2,
          4,
          8,
          16,
          32
         ],
         "y": [
          54.040000000000006,
          54.95,
          63.075,
          76.345,
          84.375,
          84.95
         ],
         "type": "scatter",
         "xaxis": "x",
         "yaxis": "y"
        },
        {
         "line": {
          "color": "#00CC96",
          "dash": "solid"
         },
         "mode": "lines+markers",
         "name": "5.0% Train, Anon=False",
         "x": [
          1,
          2,
          4,
          8,
          16,
          32
         ],
         "y": [
          56.875,
          59.42,
          66.92500000000001,
          78.27,
          88.36500000000001,
          88.17500000000001
         ],
         "type": "scatter",
         "xaxis": "x",
         "yaxis": "y"
        },
        {
         "line": {
          "color": "#636EFA",
          "dash": "dash"
         },
         "mode": "lines+markers",
         "name": "1.0% Train, Anon=True",
         "x": [
          1,
          2,
          4,
          8,
          16,
          32
         ],
         "y": [
          51.535,
          49.230000000000004,
          50.865,
          59.565,
          64.28,
          68.895
         ],
         "type": "scatter",
         "xaxis": "x2",
         "yaxis": "y2"
        },
        {
         "line": {
          "color": "#636EFA",
          "dash": "solid"
         },
         "mode": "lines+markers",
         "name": "1.0% Train, Anon=False",
         "x": [
          1,
          2,
          4,
          8,
          16,
          32
         ],
         "y": [
          26.104999999999997,
          38.705,
          52.885,
          54.855000000000004,
          63.555,
          66.925
         ],
         "type": "scatter",
         "xaxis": "x2",
         "yaxis": "y2"
        },
        {
         "line": {
          "color": "#EF553B",
          "dash": "dash"
         },
         "mode": "lines+markers",
         "name": "2.0% Train, Anon=True",
         "x": [
          1,
          2,
          4,
          8,
          16,
          32
         ],
         "y": [
          49.13,
          54.81,
          58.46,
          61.875,
          71.10499999999999,
          75.625
         ],
         "type": "scatter",
         "xaxis": "x2",
         "yaxis": "y2"
        },
        {
         "line": {
          "color": "#EF553B",
          "dash": "solid"
         },
         "mode": "lines+markers",
         "name": "2.0% Train, Anon=False",
         "x": [
          1,
          2,
          4,
          8,
          16,
          32
         ],
         "y": [
          45.24,
          52.355000000000004,
          58.125,
          67.21000000000001,
          70.91499999999999,
          74.135
         ],
         "type": "scatter",
         "xaxis": "x2",
         "yaxis": "y2"
        },
        {
         "line": {
          "color": "#00CC96",
          "dash": "dash"
         },
         "mode": "lines+markers",
         "name": "5.0% Train, Anon=True",
         "x": [
          1,
          2,
          4,
          8,
          16,
          32
         ],
         "y": [
          54.855000000000004,
          55.334999999999994,
          63.41,
          76.73,
          84.95500000000001,
          85.725
         ],
         "type": "scatter",
         "xaxis": "x2",
         "yaxis": "y2"
        },
        {
         "line": {
          "color": "#00CC96",
          "dash": "solid"
         },
         "mode": "lines+markers",
         "name": "5.0% Train, Anon=False",
         "x": [
          1,
          2,
          4,
          8,
          16,
          32
         ],
         "y": [
          54.665,
          59.76,
          65.05,
          77.64500000000001,
          88.50999999999999,
          88.94
         ],
         "type": "scatter",
         "xaxis": "x2",
         "yaxis": "y2"
        },
        {
         "line": {
          "color": "#636EFA",
          "dash": "dash"
         },
         "mode": "lines+markers",
         "name": "1.0% Train, Anon=True",
         "x": [
          1,
          2,
          4,
          8,
          16,
          32
         ],
         "y": [
          50.05,
          53.32,
          53.81,
          61.230000000000004,
          63.77,
          68.405
         ],
         "type": "scatter",
         "xaxis": "x3",
         "yaxis": "y3"
        },
        {
         "line": {
          "color": "#636EFA",
          "dash": "solid"
         },
         "mode": "lines+markers",
         "name": "1.0% Train, Anon=False",
         "x": [
          1,
          2,
          4,
          8,
          16,
          32
         ],
         "y": [
          27.93,
          33.205,
          50.195,
          49.215,
          57.614999999999995,
          59.62
         ],
         "type": "scatter",
         "xaxis": "x3",
         "yaxis": "y3"
        },
        {
         "line": {
          "color": "#EF553B",
          "dash": "dash"
         },
         "mode": "lines+markers",
         "name": "2.0% Train, Anon=True",
         "x": [
          1,
          2,
          4,
          8,
          16,
          32
         ],
         "y": [
          50.144999999999996,
          55.47,
          59.175,
          62.5,
          71.14,
          72.95
         ],
         "type": "scatter",
         "xaxis": "x3",
         "yaxis": "y3"
        },
        {
         "line": {
          "color": "#EF553B",
          "dash": "solid"
         },
         "mode": "lines+markers",
         "name": "2.0% Train, Anon=False",
         "x": [
          1,
          2,
          4,
          8,
          16,
          32
         ],
         "y": [
          44.045,
          47.215,
          54.245000000000005,
          59.864999999999995,
          65.14,
          67.04
         ],
         "type": "scatter",
         "xaxis": "x3",
         "yaxis": "y3"
        },
        {
         "line": {
          "color": "#00CC96",
          "dash": "dash"
         },
         "mode": "lines+markers",
         "name": "5.0% Train, Anon=True",
         "x": [
          1,
          2,
          4,
          8,
          16,
          32
         ],
         "y": [
          53.760000000000005,
          57.275,
          62.599999999999994,
          73.73,
          79.055,
          82.76
         ],
         "type": "scatter",
         "xaxis": "x3",
         "yaxis": "y3"
        },
        {
         "line": {
          "color": "#00CC96",
          "dash": "solid"
         },
         "mode": "lines+markers",
         "name": "5.0% Train, Anon=False",
         "x": [
          1,
          2,
          4,
          8,
          16,
          32
         ],
         "y": [
          54.735,
          57.03,
          61.035,
          71.435,
          80.75999999999999,
          82.66499999999999
         ],
         "type": "scatter",
         "xaxis": "x3",
         "yaxis": "y3"
        }
       ],
       "layout": {
        "template": {
         "data": {
          "histogram2dcontour": [
           {
            "type": "histogram2dcontour",
            "colorbar": {
             "outlinewidth": 0,
             "ticks": ""
            },
            "colorscale": [
             [
              0.0,
              "#0d0887"
             ],
             [
              0.1111111111111111,
              "#46039f"
             ],
             [
              0.2222222222222222,
              "#7201a8"
             ],
             [
              0.3333333333333333,
              "#9c179e"
             ],
             [
              0.4444444444444444,
              "#bd3786"
             ],
             [
              0.5555555555555556,
              "#d8576b"
             ],
             [
              0.6666666666666666,
              "#ed7953"
             ],
             [
              0.7777777777777778,
              "#fb9f3a"
             ],
             [
              0.8888888888888888,
              "#fdca26"
             ],
             [
              1.0,
              "#f0f921"
             ]
            ]
           }
          ],
          "choropleth": [
           {
            "type": "choropleth",
            "colorbar": {
             "outlinewidth": 0,
             "ticks": ""
            }
           }
          ],
          "histogram2d": [
           {
            "type": "histogram2d",
            "colorbar": {
             "outlinewidth": 0,
             "ticks": ""
            },
            "colorscale": [
             [
              0.0,
              "#0d0887"
             ],
             [
              0.1111111111111111,
              "#46039f"
             ],
             [
              0.2222222222222222,
              "#7201a8"
             ],
             [
              0.3333333333333333,
              "#9c179e"
             ],
             [
              0.4444444444444444,
              "#bd3786"
             ],
             [
              0.5555555555555556,
              "#d8576b"
             ],
             [
              0.6666666666666666,
              "#ed7953"
             ],
             [
              0.7777777777777778,
              "#fb9f3a"
             ],
             [
              0.8888888888888888,
              "#fdca26"
             ],
             [
              1.0,
              "#f0f921"
             ]
            ]
           }
          ],
          "heatmap": [
           {
            "type": "heatmap",
            "colorbar": {
             "outlinewidth": 0,
             "ticks": ""
            },
            "colorscale": [
             [
              0.0,
              "#0d0887"
             ],
             [
              0.1111111111111111,
              "#46039f"
             ],
             [
              0.2222222222222222,
              "#7201a8"
             ],
             [
              0.3333333333333333,
              "#9c179e"
             ],
             [
              0.4444444444444444,
              "#bd3786"
             ],
             [
              0.5555555555555556,
              "#d8576b"
             ],
             [
              0.6666666666666666,
              "#ed7953"
             ],
             [
              0.7777777777777778,
              "#fb9f3a"
             ],
             [
              0.8888888888888888,
              "#fdca26"
             ],
             [
              1.0,
              "#f0f921"
             ]
            ]
           }
          ],
          "heatmapgl": [
           {
            "type": "heatmapgl",
            "colorbar": {
             "outlinewidth": 0,
             "ticks": ""
            },
            "colorscale": [
             [
              0.0,
              "#0d0887"
             ],
             [
              0.1111111111111111,
              "#46039f"
             ],
             [
              0.2222222222222222,
              "#7201a8"
             ],
             [
              0.3333333333333333,
              "#9c179e"
             ],
             [
              0.4444444444444444,
              "#bd3786"
             ],
             [
              0.5555555555555556,
              "#d8576b"
             ],
             [
              0.6666666666666666,
              "#ed7953"
             ],
             [
              0.7777777777777778,
              "#fb9f3a"
             ],
             [
              0.8888888888888888,
              "#fdca26"
             ],
             [
              1.0,
              "#f0f921"
             ]
            ]
           }
          ],
          "contourcarpet": [
           {
            "type": "contourcarpet",
            "colorbar": {
             "outlinewidth": 0,
             "ticks": ""
            }
           }
          ],
          "contour": [
           {
            "type": "contour",
            "colorbar": {
             "outlinewidth": 0,
             "ticks": ""
            },
            "colorscale": [
             [
              0.0,
              "#0d0887"
             ],
             [
              0.1111111111111111,
              "#46039f"
             ],
             [
              0.2222222222222222,
              "#7201a8"
             ],
             [
              0.3333333333333333,
              "#9c179e"
             ],
             [
              0.4444444444444444,
              "#bd3786"
             ],
             [
              0.5555555555555556,
              "#d8576b"
             ],
             [
              0.6666666666666666,
              "#ed7953"
             ],
             [
              0.7777777777777778,
              "#fb9f3a"
             ],
             [
              0.8888888888888888,
              "#fdca26"
             ],
             [
              1.0,
              "#f0f921"
             ]
            ]
           }
          ],
          "surface": [
           {
            "type": "surface",
            "colorbar": {
             "outlinewidth": 0,
             "ticks": ""
            },
            "colorscale": [
             [
              0.0,
              "#0d0887"
             ],
             [
              0.1111111111111111,
              "#46039f"
             ],
             [
              0.2222222222222222,
              "#7201a8"
             ],
             [
              0.3333333333333333,
              "#9c179e"
             ],
             [
              0.4444444444444444,
              "#bd3786"
             ],
             [
              0.5555555555555556,
              "#d8576b"
             ],
             [
              0.6666666666666666,
              "#ed7953"
             ],
             [
              0.7777777777777778,
              "#fb9f3a"
             ],
             [
              0.8888888888888888,
              "#fdca26"
             ],
             [
              1.0,
              "#f0f921"
             ]
            ]
           }
          ],
          "mesh3d": [
           {
            "type": "mesh3d",
            "colorbar": {
             "outlinewidth": 0,
             "ticks": ""
            }
           }
          ],
          "scatter": [
           {
            "fillpattern": {
             "fillmode": "overlay",
             "size": 10,
             "solidity": 0.2
            },
            "type": "scatter"
           }
          ],
          "parcoords": [
           {
            "type": "parcoords",
            "line": {
             "colorbar": {
              "outlinewidth": 0,
              "ticks": ""
             }
            }
           }
          ],
          "scatterpolargl": [
           {
            "type": "scatterpolargl",
            "marker": {
             "colorbar": {
              "outlinewidth": 0,
              "ticks": ""
             }
            }
           }
          ],
          "bar": [
           {
            "error_x": {
             "color": "#2a3f5f"
            },
            "error_y": {
             "color": "#2a3f5f"
            },
            "marker": {
             "line": {
              "color": "#E5ECF6",
              "width": 0.5
             },
             "pattern": {
              "fillmode": "overlay",
              "size": 10,
              "solidity": 0.2
             }
            },
            "type": "bar"
           }
          ],
          "scattergeo": [
           {
            "type": "scattergeo",
            "marker": {
             "colorbar": {
              "outlinewidth": 0,
              "ticks": ""
             }
            }
           }
          ],
          "scatterpolar": [
           {
            "type": "scatterpolar",
            "marker": {
             "colorbar": {
              "outlinewidth": 0,
              "ticks": ""
             }
            }
           }
          ],
          "histogram": [
           {
            "marker": {
             "pattern": {
              "fillmode": "overlay",
              "size": 10,
              "solidity": 0.2
             }
            },
            "type": "histogram"
           }
          ],
          "scattergl": [
           {
            "type": "scattergl",
            "marker": {
             "colorbar": {
              "outlinewidth": 0,
              "ticks": ""
             }
            }
           }
          ],
          "scatter3d": [
           {
            "type": "scatter3d",
            "line": {
             "colorbar": {
              "outlinewidth": 0,
              "ticks": ""
             }
            },
            "marker": {
             "colorbar": {
              "outlinewidth": 0,
              "ticks": ""
             }
            }
           }
          ],
          "scattermapbox": [
           {
            "type": "scattermapbox",
            "marker": {
             "colorbar": {
              "outlinewidth": 0,
              "ticks": ""
             }
            }
           }
          ],
          "scatterternary": [
           {
            "type": "scatterternary",
            "marker": {
             "colorbar": {
              "outlinewidth": 0,
              "ticks": ""
             }
            }
           }
          ],
          "scattercarpet": [
           {
            "type": "scattercarpet",
            "marker": {
             "colorbar": {
              "outlinewidth": 0,
              "ticks": ""
             }
            }
           }
          ],
          "carpet": [
           {
            "aaxis": {
             "endlinecolor": "#2a3f5f",
             "gridcolor": "white",
             "linecolor": "white",
             "minorgridcolor": "white",
             "startlinecolor": "#2a3f5f"
            },
            "baxis": {
             "endlinecolor": "#2a3f5f",
             "gridcolor": "white",
             "linecolor": "white",
             "minorgridcolor": "white",
             "startlinecolor": "#2a3f5f"
            },
            "type": "carpet"
           }
          ],
          "table": [
           {
            "cells": {
             "fill": {
              "color": "#EBF0F8"
             },
             "line": {
              "color": "white"
             }
            },
            "header": {
             "fill": {
              "color": "#C8D4E3"
             },
             "line": {
              "color": "white"
             }
            },
            "type": "table"
           }
          ],
          "barpolar": [
           {
            "marker": {
             "line": {
              "color": "#E5ECF6",
              "width": 0.5
             },
             "pattern": {
              "fillmode": "overlay",
              "size": 10,
              "solidity": 0.2
             }
            },
            "type": "barpolar"
           }
          ],
          "pie": [
           {
            "automargin": true,
            "type": "pie"
           }
          ]
         },
         "layout": {
          "autotypenumbers": "strict",
          "colorway": [
           "#636efa",
           "#EF553B",
           "#00cc96",
           "#ab63fa",
           "#FFA15A",
           "#19d3f3",
           "#FF6692",
           "#B6E880",
           "#FF97FF",
           "#FECB52"
          ],
          "font": {
           "color": "#2a3f5f"
          },
          "hovermode": "closest",
          "hoverlabel": {
           "align": "left"
          },
          "paper_bgcolor": "white",
          "plot_bgcolor": "#E5ECF6",
          "polar": {
           "bgcolor": "#E5ECF6",
           "angularaxis": {
            "gridcolor": "white",
            "linecolor": "white",
            "ticks": ""
           },
           "radialaxis": {
            "gridcolor": "white",
            "linecolor": "white",
            "ticks": ""
           }
          },
          "ternary": {
           "bgcolor": "#E5ECF6",
           "aaxis": {
            "gridcolor": "white",
            "linecolor": "white",
            "ticks": ""
           },
           "baxis": {
            "gridcolor": "white",
            "linecolor": "white",
            "ticks": ""
           },
           "caxis": {
            "gridcolor": "white",
            "linecolor": "white",
            "ticks": ""
           }
          },
          "coloraxis": {
           "colorbar": {
            "outlinewidth": 0,
            "ticks": ""
           }
          },
          "colorscale": {
           "sequential": [
            [
             0.0,
             "#0d0887"
            ],
            [
             0.1111111111111111,
             "#46039f"
            ],
            [
             0.2222222222222222,
             "#7201a8"
            ],
            [
             0.3333333333333333,
             "#9c179e"
            ],
            [
             0.4444444444444444,
             "#bd3786"
            ],
            [
             0.5555555555555556,
             "#d8576b"
            ],
            [
             0.6666666666666666,
             "#ed7953"
            ],
            [
             0.7777777777777778,
             "#fb9f3a"
            ],
            [
             0.8888888888888888,
             "#fdca26"
            ],
            [
             1.0,
             "#f0f921"
            ]
           ],
           "sequentialminus": [
            [
             0.0,
             "#0d0887"
            ],
            [
             0.1111111111111111,
             "#46039f"
            ],
            [
             0.2222222222222222,
             "#7201a8"
            ],
            [
             0.3333333333333333,
             "#9c179e"
            ],
            [
             0.4444444444444444,
             "#bd3786"
            ],
            [
             0.5555555555555556,
             "#d8576b"
            ],
            [
             0.6666666666666666,
             "#ed7953"
            ],
            [
             0.7777777777777778,
             "#fb9f3a"
            ],
            [
             0.8888888888888888,
             "#fdca26"
            ],
            [
             1.0,
             "#f0f921"
            ]
           ],
           "diverging": [
            [
             0,
             "#8e0152"
            ],
            [
             0.1,
             "#c51b7d"
            ],
            [
             0.2,
             "#de77ae"
            ],
            [
             0.3,
             "#f1b6da"
            ],
            [
             0.4,
             "#fde0ef"
            ],
            [
             0.5,
             "#f7f7f7"
            ],
            [
             0.6,
             "#e6f5d0"
            ],
            [
             0.7,
             "#b8e186"
            ],
            [
             0.8,
             "#7fbc41"
            ],
            [
             0.9,
             "#4d9221"
            ],
            [
             1,
             "#276419"
            ]
           ]
          },
          "xaxis": {
           "gridcolor": "white",
           "linecolor": "white",
           "ticks": "",
           "title": {
            "standoff": 15
           },
           "zerolinecolor": "white",
           "automargin": true,
           "zerolinewidth": 2
          },
          "yaxis": {
           "gridcolor": "white",
           "linecolor": "white",
           "ticks": "",
           "title": {
            "standoff": 15
           },
           "zerolinecolor": "white",
           "automargin": true,
           "zerolinewidth": 2
          },
          "scene": {
           "xaxis": {
            "backgroundcolor": "#E5ECF6",
            "gridcolor": "white",
            "linecolor": "white",
            "showbackground": true,
            "ticks": "",
            "zerolinecolor": "white",
            "gridwidth": 2
           },
           "yaxis": {
            "backgroundcolor": "#E5ECF6",
            "gridcolor": "white",
            "linecolor": "white",
            "showbackground": true,
            "ticks": "",
            "zerolinecolor": "white",
            "gridwidth": 2
           },
           "zaxis": {
            "backgroundcolor": "#E5ECF6",
            "gridcolor": "white",
            "linecolor": "white",
            "showbackground": true,
            "ticks": "",
            "zerolinecolor": "white",
            "gridwidth": 2
           }
          },
          "shapedefaults": {
           "line": {
            "color": "#2a3f5f"
           }
          },
          "annotationdefaults": {
           "arrowcolor": "#2a3f5f",
           "arrowhead": 0,
           "arrowwidth": 1
          },
          "geo": {
           "bgcolor": "white",
           "landcolor": "#E5ECF6",
           "subunitcolor": "white",
           "showland": true,
           "showlakes": true,
           "lakecolor": "white"
          },
          "title": {
           "x": 0.05
          },
          "mapbox": {
           "style": "light"
          }
         }
        },
        "xaxis": {
         "anchor": "y",
         "domain": [
          0.0,
          0.26666666666666666
         ],
         "title": {
          "text": "Number of Epochs"
         }
        },
        "yaxis": {
         "anchor": "x",
         "domain": [
          0.0,
          1.0
         ],
         "title": {
          "text": "Score"
         }
        },
        "xaxis2": {
         "anchor": "y2",
         "domain": [
          0.3666666666666667,
          0.6333333333333333
         ],
         "title": {
          "text": "Number of Epochs"
         }
        },
        "yaxis2": {
         "anchor": "x2",
         "domain": [
          0.0,
          1.0
         ]
        },
        "xaxis3": {
         "anchor": "y3",
         "domain": [
          0.7333333333333334,
          1.0
         ],
         "title": {
          "text": "Number of Epochs"
         }
        },
        "yaxis3": {
         "anchor": "x3",
         "domain": [
          0.0,
          1.0
         ]
        },
        "annotations": [
         {
          "font": {
           "size": 16
          },
          "showarrow": false,
          "text": "commonsense",
          "x": 0.13333333333333333,
          "xanchor": "center",
          "xref": "paper",
          "y": 1.0,
          "yanchor": "bottom",
          "yref": "paper"
         },
         {
          "font": {
           "size": 16
          },
          "showarrow": false,
          "text": "anticommonsense",
          "x": 0.5,
          "xanchor": "center",
          "xref": "paper",
          "y": 1.0,
          "yanchor": "bottom",
          "yref": "paper"
         },
         {
          "font": {
           "size": 16
          },
          "showarrow": false,
          "text": "noncommonsense",
          "x": 0.8666666666666667,
          "xanchor": "center",
          "xref": "paper",
          "y": 1.0,
          "yanchor": "bottom",
          "yref": "paper"
         }
        ],
        "title": {
         "text": "Anonymize vs Non-Anonymize Performance Comparison"
        },
        "legend": {
         "orientation": "h",
         "yanchor": "bottom",
         "y": -0.3,
         "xanchor": "center",
         "x": 0.5
        },
        "margin": {
         "b": 100
        },
        "height": 500,
        "width": 1050
       },
       "config": {
        "plotlyServerURL": "https://plot.ly"
       }
      },
      "text/html": [
       "<div>                            <div id=\"7ef2bfb9-ac10-42d3-8ecc-3b97888ddded\" class=\"plotly-graph-div\" style=\"height:500px; width:1050px;\"></div>            <script type=\"text/javascript\">                require([\"plotly\"], function(Plotly) {                    window.PLOTLYENV=window.PLOTLYENV || {};                                    if (document.getElementById(\"7ef2bfb9-ac10-42d3-8ecc-3b97888ddded\")) {                    Plotly.newPlot(                        \"7ef2bfb9-ac10-42d3-8ecc-3b97888ddded\",                        [{\"line\":{\"color\":\"#636EFA\",\"dash\":\"dash\"},\"mode\":\"lines+markers\",\"name\":\"1.0% Train, Anon=True\",\"x\":[1,2,4,8,16,32],\"y\":[50.435,52.305,55.095,60.915,65.67,69.47],\"type\":\"scatter\",\"xaxis\":\"x\",\"yaxis\":\"y\"},{\"line\":{\"color\":\"#636EFA\",\"dash\":\"solid\"},\"mode\":\"lines+markers\",\"name\":\"1.0% Train, Anon=False\",\"x\":[1,2,4,8,16,32],\"y\":[27.455,42.26,53.845,53.75,63.605000000000004,67.07],\"type\":\"scatter\",\"xaxis\":\"x\",\"yaxis\":\"y\"},{\"line\":{\"color\":\"#EF553B\",\"dash\":\"dash\"},\"mode\":\"lines+markers\",\"name\":\"2.0% Train, Anon=True\",\"x\":[1,2,4,8,16,32],\"y\":[50.625,53.989999999999995,61.345,62.5,72.015,75.53],\"type\":\"scatter\",\"xaxis\":\"x\",\"yaxis\":\"y\"},{\"line\":{\"color\":\"#EF553B\",\"dash\":\"solid\"},\"mode\":\"lines+markers\",\"name\":\"2.0% Train, Anon=False\",\"x\":[1,2,4,8,16,32],\"y\":[44.95,52.885000000000005,58.269999999999996,65.33500000000001,71.25,72.98],\"type\":\"scatter\",\"xaxis\":\"x\",\"yaxis\":\"y\"},{\"line\":{\"color\":\"#00CC96\",\"dash\":\"dash\"},\"mode\":\"lines+markers\",\"name\":\"5.0% Train, Anon=True\",\"x\":[1,2,4,8,16,32],\"y\":[54.040000000000006,54.95,63.075,76.345,84.375,84.95],\"type\":\"scatter\",\"xaxis\":\"x\",\"yaxis\":\"y\"},{\"line\":{\"color\":\"#00CC96\",\"dash\":\"solid\"},\"mode\":\"lines+markers\",\"name\":\"5.0% Train, Anon=False\",\"x\":[1,2,4,8,16,32],\"y\":[56.875,59.42,66.92500000000001,78.27,88.36500000000001,88.17500000000001],\"type\":\"scatter\",\"xaxis\":\"x\",\"yaxis\":\"y\"},{\"line\":{\"color\":\"#636EFA\",\"dash\":\"dash\"},\"mode\":\"lines+markers\",\"name\":\"1.0% Train, Anon=True\",\"x\":[1,2,4,8,16,32],\"y\":[51.535,49.230000000000004,50.865,59.565,64.28,68.895],\"type\":\"scatter\",\"xaxis\":\"x2\",\"yaxis\":\"y2\"},{\"line\":{\"color\":\"#636EFA\",\"dash\":\"solid\"},\"mode\":\"lines+markers\",\"name\":\"1.0% Train, Anon=False\",\"x\":[1,2,4,8,16,32],\"y\":[26.104999999999997,38.705,52.885,54.855000000000004,63.555,66.925],\"type\":\"scatter\",\"xaxis\":\"x2\",\"yaxis\":\"y2\"},{\"line\":{\"color\":\"#EF553B\",\"dash\":\"dash\"},\"mode\":\"lines+markers\",\"name\":\"2.0% Train, Anon=True\",\"x\":[1,2,4,8,16,32],\"y\":[49.13,54.81,58.46,61.875,71.10499999999999,75.625],\"type\":\"scatter\",\"xaxis\":\"x2\",\"yaxis\":\"y2\"},{\"line\":{\"color\":\"#EF553B\",\"dash\":\"solid\"},\"mode\":\"lines+markers\",\"name\":\"2.0% Train, Anon=False\",\"x\":[1,2,4,8,16,32],\"y\":[45.24,52.355000000000004,58.125,67.21000000000001,70.91499999999999,74.135],\"type\":\"scatter\",\"xaxis\":\"x2\",\"yaxis\":\"y2\"},{\"line\":{\"color\":\"#00CC96\",\"dash\":\"dash\"},\"mode\":\"lines+markers\",\"name\":\"5.0% Train, Anon=True\",\"x\":[1,2,4,8,16,32],\"y\":[54.855000000000004,55.334999999999994,63.41,76.73,84.95500000000001,85.725],\"type\":\"scatter\",\"xaxis\":\"x2\",\"yaxis\":\"y2\"},{\"line\":{\"color\":\"#00CC96\",\"dash\":\"solid\"},\"mode\":\"lines+markers\",\"name\":\"5.0% Train, Anon=False\",\"x\":[1,2,4,8,16,32],\"y\":[54.665,59.76,65.05,77.64500000000001,88.50999999999999,88.94],\"type\":\"scatter\",\"xaxis\":\"x2\",\"yaxis\":\"y2\"},{\"line\":{\"color\":\"#636EFA\",\"dash\":\"dash\"},\"mode\":\"lines+markers\",\"name\":\"1.0% Train, Anon=True\",\"x\":[1,2,4,8,16,32],\"y\":[50.05,53.32,53.81,61.230000000000004,63.77,68.405],\"type\":\"scatter\",\"xaxis\":\"x3\",\"yaxis\":\"y3\"},{\"line\":{\"color\":\"#636EFA\",\"dash\":\"solid\"},\"mode\":\"lines+markers\",\"name\":\"1.0% Train, Anon=False\",\"x\":[1,2,4,8,16,32],\"y\":[27.93,33.205,50.195,49.215,57.614999999999995,59.62],\"type\":\"scatter\",\"xaxis\":\"x3\",\"yaxis\":\"y3\"},{\"line\":{\"color\":\"#EF553B\",\"dash\":\"dash\"},\"mode\":\"lines+markers\",\"name\":\"2.0% Train, Anon=True\",\"x\":[1,2,4,8,16,32],\"y\":[50.144999999999996,55.47,59.175,62.5,71.14,72.95],\"type\":\"scatter\",\"xaxis\":\"x3\",\"yaxis\":\"y3\"},{\"line\":{\"color\":\"#EF553B\",\"dash\":\"solid\"},\"mode\":\"lines+markers\",\"name\":\"2.0% Train, Anon=False\",\"x\":[1,2,4,8,16,32],\"y\":[44.045,47.215,54.245000000000005,59.864999999999995,65.14,67.04],\"type\":\"scatter\",\"xaxis\":\"x3\",\"yaxis\":\"y3\"},{\"line\":{\"color\":\"#00CC96\",\"dash\":\"dash\"},\"mode\":\"lines+markers\",\"name\":\"5.0% Train, Anon=True\",\"x\":[1,2,4,8,16,32],\"y\":[53.760000000000005,57.275,62.599999999999994,73.73,79.055,82.76],\"type\":\"scatter\",\"xaxis\":\"x3\",\"yaxis\":\"y3\"},{\"line\":{\"color\":\"#00CC96\",\"dash\":\"solid\"},\"mode\":\"lines+markers\",\"name\":\"5.0% Train, Anon=False\",\"x\":[1,2,4,8,16,32],\"y\":[54.735,57.03,61.035,71.435,80.75999999999999,82.66499999999999],\"type\":\"scatter\",\"xaxis\":\"x3\",\"yaxis\":\"y3\"}],                        {\"template\":{\"data\":{\"histogram2dcontour\":[{\"type\":\"histogram2dcontour\",\"colorbar\":{\"outlinewidth\":0,\"ticks\":\"\"},\"colorscale\":[[0.0,\"#0d0887\"],[0.1111111111111111,\"#46039f\"],[0.2222222222222222,\"#7201a8\"],[0.3333333333333333,\"#9c179e\"],[0.4444444444444444,\"#bd3786\"],[0.5555555555555556,\"#d8576b\"],[0.6666666666666666,\"#ed7953\"],[0.7777777777777778,\"#fb9f3a\"],[0.8888888888888888,\"#fdca26\"],[1.0,\"#f0f921\"]]}],\"choropleth\":[{\"type\":\"choropleth\",\"colorbar\":{\"outlinewidth\":0,\"ticks\":\"\"}}],\"histogram2d\":[{\"type\":\"histogram2d\",\"colorbar\":{\"outlinewidth\":0,\"ticks\":\"\"},\"colorscale\":[[0.0,\"#0d0887\"],[0.1111111111111111,\"#46039f\"],[0.2222222222222222,\"#7201a8\"],[0.3333333333333333,\"#9c179e\"],[0.4444444444444444,\"#bd3786\"],[0.5555555555555556,\"#d8576b\"],[0.6666666666666666,\"#ed7953\"],[0.7777777777777778,\"#fb9f3a\"],[0.8888888888888888,\"#fdca26\"],[1.0,\"#f0f921\"]]}],\"heatmap\":[{\"type\":\"heatmap\",\"colorbar\":{\"outlinewidth\":0,\"ticks\":\"\"},\"colorscale\":[[0.0,\"#0d0887\"],[0.1111111111111111,\"#46039f\"],[0.2222222222222222,\"#7201a8\"],[0.3333333333333333,\"#9c179e\"],[0.4444444444444444,\"#bd3786\"],[0.5555555555555556,\"#d8576b\"],[0.6666666666666666,\"#ed7953\"],[0.7777777777777778,\"#fb9f3a\"],[0.8888888888888888,\"#fdca26\"],[1.0,\"#f0f921\"]]}],\"heatmapgl\":[{\"type\":\"heatmapgl\",\"colorbar\":{\"outlinewidth\":0,\"ticks\":\"\"},\"colorscale\":[[0.0,\"#0d0887\"],[0.1111111111111111,\"#46039f\"],[0.2222222222222222,\"#7201a8\"],[0.3333333333333333,\"#9c179e\"],[0.4444444444444444,\"#bd3786\"],[0.5555555555555556,\"#d8576b\"],[0.6666666666666666,\"#ed7953\"],[0.7777777777777778,\"#fb9f3a\"],[0.8888888888888888,\"#fdca26\"],[1.0,\"#f0f921\"]]}],\"contourcarpet\":[{\"type\":\"contourcarpet\",\"colorbar\":{\"outlinewidth\":0,\"ticks\":\"\"}}],\"contour\":[{\"type\":\"contour\",\"colorbar\":{\"outlinewidth\":0,\"ticks\":\"\"},\"colorscale\":[[0.0,\"#0d0887\"],[0.1111111111111111,\"#46039f\"],[0.2222222222222222,\"#7201a8\"],[0.3333333333333333,\"#9c179e\"],[0.4444444444444444,\"#bd3786\"],[0.5555555555555556,\"#d8576b\"],[0.6666666666666666,\"#ed7953\"],[0.7777777777777778,\"#fb9f3a\"],[0.8888888888888888,\"#fdca26\"],[1.0,\"#f0f921\"]]}],\"surface\":[{\"type\":\"surface\",\"colorbar\":{\"outlinewidth\":0,\"ticks\":\"\"},\"colorscale\":[[0.0,\"#0d0887\"],[0.1111111111111111,\"#46039f\"],[0.2222222222222222,\"#7201a8\"],[0.3333333333333333,\"#9c179e\"],[0.4444444444444444,\"#bd3786\"],[0.5555555555555556,\"#d8576b\"],[0.6666666666666666,\"#ed7953\"],[0.7777777777777778,\"#fb9f3a\"],[0.8888888888888888,\"#fdca26\"],[1.0,\"#f0f921\"]]}],\"mesh3d\":[{\"type\":\"mesh3d\",\"colorbar\":{\"outlinewidth\":0,\"ticks\":\"\"}}],\"scatter\":[{\"fillpattern\":{\"fillmode\":\"overlay\",\"size\":10,\"solidity\":0.2},\"type\":\"scatter\"}],\"parcoords\":[{\"type\":\"parcoords\",\"line\":{\"colorbar\":{\"outlinewidth\":0,\"ticks\":\"\"}}}],\"scatterpolargl\":[{\"type\":\"scatterpolargl\",\"marker\":{\"colorbar\":{\"outlinewidth\":0,\"ticks\":\"\"}}}],\"bar\":[{\"error_x\":{\"color\":\"#2a3f5f\"},\"error_y\":{\"color\":\"#2a3f5f\"},\"marker\":{\"line\":{\"color\":\"#E5ECF6\",\"width\":0.5},\"pattern\":{\"fillmode\":\"overlay\",\"size\":10,\"solidity\":0.2}},\"type\":\"bar\"}],\"scattergeo\":[{\"type\":\"scattergeo\",\"marker\":{\"colorbar\":{\"outlinewidth\":0,\"ticks\":\"\"}}}],\"scatterpolar\":[{\"type\":\"scatterpolar\",\"marker\":{\"colorbar\":{\"outlinewidth\":0,\"ticks\":\"\"}}}],\"histogram\":[{\"marker\":{\"pattern\":{\"fillmode\":\"overlay\",\"size\":10,\"solidity\":0.2}},\"type\":\"histogram\"}],\"scattergl\":[{\"type\":\"scattergl\",\"marker\":{\"colorbar\":{\"outlinewidth\":0,\"ticks\":\"\"}}}],\"scatter3d\":[{\"type\":\"scatter3d\",\"line\":{\"colorbar\":{\"outlinewidth\":0,\"ticks\":\"\"}},\"marker\":{\"colorbar\":{\"outlinewidth\":0,\"ticks\":\"\"}}}],\"scattermapbox\":[{\"type\":\"scattermapbox\",\"marker\":{\"colorbar\":{\"outlinewidth\":0,\"ticks\":\"\"}}}],\"scatterternary\":[{\"type\":\"scatterternary\",\"marker\":{\"colorbar\":{\"outlinewidth\":0,\"ticks\":\"\"}}}],\"scattercarpet\":[{\"type\":\"scattercarpet\",\"marker\":{\"colorbar\":{\"outlinewidth\":0,\"ticks\":\"\"}}}],\"carpet\":[{\"aaxis\":{\"endlinecolor\":\"#2a3f5f\",\"gridcolor\":\"white\",\"linecolor\":\"white\",\"minorgridcolor\":\"white\",\"startlinecolor\":\"#2a3f5f\"},\"baxis\":{\"endlinecolor\":\"#2a3f5f\",\"gridcolor\":\"white\",\"linecolor\":\"white\",\"minorgridcolor\":\"white\",\"startlinecolor\":\"#2a3f5f\"},\"type\":\"carpet\"}],\"table\":[{\"cells\":{\"fill\":{\"color\":\"#EBF0F8\"},\"line\":{\"color\":\"white\"}},\"header\":{\"fill\":{\"color\":\"#C8D4E3\"},\"line\":{\"color\":\"white\"}},\"type\":\"table\"}],\"barpolar\":[{\"marker\":{\"line\":{\"color\":\"#E5ECF6\",\"width\":0.5},\"pattern\":{\"fillmode\":\"overlay\",\"size\":10,\"solidity\":0.2}},\"type\":\"barpolar\"}],\"pie\":[{\"automargin\":true,\"type\":\"pie\"}]},\"layout\":{\"autotypenumbers\":\"strict\",\"colorway\":[\"#636efa\",\"#EF553B\",\"#00cc96\",\"#ab63fa\",\"#FFA15A\",\"#19d3f3\",\"#FF6692\",\"#B6E880\",\"#FF97FF\",\"#FECB52\"],\"font\":{\"color\":\"#2a3f5f\"},\"hovermode\":\"closest\",\"hoverlabel\":{\"align\":\"left\"},\"paper_bgcolor\":\"white\",\"plot_bgcolor\":\"#E5ECF6\",\"polar\":{\"bgcolor\":\"#E5ECF6\",\"angularaxis\":{\"gridcolor\":\"white\",\"linecolor\":\"white\",\"ticks\":\"\"},\"radialaxis\":{\"gridcolor\":\"white\",\"linecolor\":\"white\",\"ticks\":\"\"}},\"ternary\":{\"bgcolor\":\"#E5ECF6\",\"aaxis\":{\"gridcolor\":\"white\",\"linecolor\":\"white\",\"ticks\":\"\"},\"baxis\":{\"gridcolor\":\"white\",\"linecolor\":\"white\",\"ticks\":\"\"},\"caxis\":{\"gridcolor\":\"white\",\"linecolor\":\"white\",\"ticks\":\"\"}},\"coloraxis\":{\"colorbar\":{\"outlinewidth\":0,\"ticks\":\"\"}},\"colorscale\":{\"sequential\":[[0.0,\"#0d0887\"],[0.1111111111111111,\"#46039f\"],[0.2222222222222222,\"#7201a8\"],[0.3333333333333333,\"#9c179e\"],[0.4444444444444444,\"#bd3786\"],[0.5555555555555556,\"#d8576b\"],[0.6666666666666666,\"#ed7953\"],[0.7777777777777778,\"#fb9f3a\"],[0.8888888888888888,\"#fdca26\"],[1.0,\"#f0f921\"]],\"sequentialminus\":[[0.0,\"#0d0887\"],[0.1111111111111111,\"#46039f\"],[0.2222222222222222,\"#7201a8\"],[0.3333333333333333,\"#9c179e\"],[0.4444444444444444,\"#bd3786\"],[0.5555555555555556,\"#d8576b\"],[0.6666666666666666,\"#ed7953\"],[0.7777777777777778,\"#fb9f3a\"],[0.8888888888888888,\"#fdca26\"],[1.0,\"#f0f921\"]],\"diverging\":[[0,\"#8e0152\"],[0.1,\"#c51b7d\"],[0.2,\"#de77ae\"],[0.3,\"#f1b6da\"],[0.4,\"#fde0ef\"],[0.5,\"#f7f7f7\"],[0.6,\"#e6f5d0\"],[0.7,\"#b8e186\"],[0.8,\"#7fbc41\"],[0.9,\"#4d9221\"],[1,\"#276419\"]]},\"xaxis\":{\"gridcolor\":\"white\",\"linecolor\":\"white\",\"ticks\":\"\",\"title\":{\"standoff\":15},\"zerolinecolor\":\"white\",\"automargin\":true,\"zerolinewidth\":2},\"yaxis\":{\"gridcolor\":\"white\",\"linecolor\":\"white\",\"ticks\":\"\",\"title\":{\"standoff\":15},\"zerolinecolor\":\"white\",\"automargin\":true,\"zerolinewidth\":2},\"scene\":{\"xaxis\":{\"backgroundcolor\":\"#E5ECF6\",\"gridcolor\":\"white\",\"linecolor\":\"white\",\"showbackground\":true,\"ticks\":\"\",\"zerolinecolor\":\"white\",\"gridwidth\":2},\"yaxis\":{\"backgroundcolor\":\"#E5ECF6\",\"gridcolor\":\"white\",\"linecolor\":\"white\",\"showbackground\":true,\"ticks\":\"\",\"zerolinecolor\":\"white\",\"gridwidth\":2},\"zaxis\":{\"backgroundcolor\":\"#E5ECF6\",\"gridcolor\":\"white\",\"linecolor\":\"white\",\"showbackground\":true,\"ticks\":\"\",\"zerolinecolor\":\"white\",\"gridwidth\":2}},\"shapedefaults\":{\"line\":{\"color\":\"#2a3f5f\"}},\"annotationdefaults\":{\"arrowcolor\":\"#2a3f5f\",\"arrowhead\":0,\"arrowwidth\":1},\"geo\":{\"bgcolor\":\"white\",\"landcolor\":\"#E5ECF6\",\"subunitcolor\":\"white\",\"showland\":true,\"showlakes\":true,\"lakecolor\":\"white\"},\"title\":{\"x\":0.05},\"mapbox\":{\"style\":\"light\"}}},\"xaxis\":{\"anchor\":\"y\",\"domain\":[0.0,0.26666666666666666],\"title\":{\"text\":\"Number of Epochs\"}},\"yaxis\":{\"anchor\":\"x\",\"domain\":[0.0,1.0],\"title\":{\"text\":\"Score\"}},\"xaxis2\":{\"anchor\":\"y2\",\"domain\":[0.3666666666666667,0.6333333333333333],\"title\":{\"text\":\"Number of Epochs\"}},\"yaxis2\":{\"anchor\":\"x2\",\"domain\":[0.0,1.0]},\"xaxis3\":{\"anchor\":\"y3\",\"domain\":[0.7333333333333334,1.0],\"title\":{\"text\":\"Number of Epochs\"}},\"yaxis3\":{\"anchor\":\"x3\",\"domain\":[0.0,1.0]},\"annotations\":[{\"font\":{\"size\":16},\"showarrow\":false,\"text\":\"commonsense\",\"x\":0.13333333333333333,\"xanchor\":\"center\",\"xref\":\"paper\",\"y\":1.0,\"yanchor\":\"bottom\",\"yref\":\"paper\"},{\"font\":{\"size\":16},\"showarrow\":false,\"text\":\"anticommonsense\",\"x\":0.5,\"xanchor\":\"center\",\"xref\":\"paper\",\"y\":1.0,\"yanchor\":\"bottom\",\"yref\":\"paper\"},{\"font\":{\"size\":16},\"showarrow\":false,\"text\":\"noncommonsense\",\"x\":0.8666666666666667,\"xanchor\":\"center\",\"xref\":\"paper\",\"y\":1.0,\"yanchor\":\"bottom\",\"yref\":\"paper\"}],\"title\":{\"text\":\"Anonymize vs Non-Anonymize Performance Comparison\"},\"legend\":{\"orientation\":\"h\",\"yanchor\":\"bottom\",\"y\":-0.3,\"xanchor\":\"center\",\"x\":0.5},\"margin\":{\"b\":100},\"height\":500,\"width\":1050},                        {\"responsive\": true}                    ).then(function(){\n",
       "                            \n",
       "var gd = document.getElementById('7ef2bfb9-ac10-42d3-8ecc-3b97888ddded');\n",
       "var x = new MutationObserver(function (mutations, observer) {{\n",
       "        var display = window.getComputedStyle(gd).display;\n",
       "        if (!display || display === 'none') {{\n",
       "            console.log([gd, 'removed!']);\n",
       "            Plotly.purge(gd);\n",
       "            observer.disconnect();\n",
       "        }}\n",
       "}});\n",
       "\n",
       "// Listen for the removal of the full notebook cells\n",
       "var notebookContainer = gd.closest('#notebook-container');\n",
       "if (notebookContainer) {{\n",
       "    x.observe(notebookContainer, {childList: true});\n",
       "}}\n",
       "\n",
       "// Listen for the clearing of the current output cell\n",
       "var outputEl = gd.closest('.output');\n",
       "if (outputEl) {{\n",
       "    x.observe(outputEl, {childList: true});\n",
       "}}\n",
       "\n",
       "                        })                };                });            </script>        </div>"
      ]
     },
     "metadata": {},
     "output_type": "display_data"
    }
   ],
   "execution_count": 8
  }
 ],
 "metadata": {
  "kernelspec": {
   "display_name": "Python 3",
   "language": "python",
   "name": "python3"
  },
  "language_info": {
   "codemirror_mode": {
    "name": "ipython",
    "version": 2
   },
   "file_extension": ".py",
   "mimetype": "text/x-python",
   "name": "python",
   "nbconvert_exporter": "python",
   "pygments_lexer": "ipython2",
   "version": "2.7.6"
  }
 },
 "nbformat": 4,
 "nbformat_minor": 5
}
