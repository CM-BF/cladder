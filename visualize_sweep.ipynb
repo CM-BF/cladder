{
 "cells": [
  {
   "cell_type": "code",
   "id": "84ddb2bcd7ce8fd8",
   "metadata": {
    "ExecuteTime": {
     "end_time": "2025-05-15T16:20:54.812336Z",
     "start_time": "2025-05-15T16:20:45.079108Z"
    }
   },
   "source": [
    "import pandas as pd\n",
    "import numpy as np\n",
    "import wandb\n",
    "import matplotlib.pyplot as plt\n",
    "import seaborn as sns\n",
    "import plotly.express as px\n",
    "import plotly.graph_objects as go\n",
    "from plotly.subplots import make_subplots\n",
    "from IPython.display import display, HTML\n",
    "\n",
    "# Hardcoded parameters for the specific sweep\n",
    "entity_name = \"dive-ci\"\n",
    "project_name = \"CLadder\"\n",
    "\n",
    "# Initialize wandb API\n",
    "api = wandb.Api()\n",
    "\n",
    "def collect_data(sweep_id, dataset_names):\n",
    "    # Get the sweep runs\n",
    "    sweep = api.sweep(f\"{entity_name}/{project_name}/{sweep_id}\")\n",
    "    # Collect run data\n",
    "    runs_data = []\n",
    "    for run in sweep.runs:\n",
    "        # Get run summary and config\n",
    "        run_data = {\n",
    "            \"id\": run.id,\n",
    "            \"name\": run.name,\n",
    "            \"state\": run.state,\n",
    "            \"created_at\": run.created_at,\n",
    "            \"summary\": run.summary._json_dict if hasattr(run.summary, \"_json_dict\") else {},\n",
    "            \"config\": run.config\n",
    "        }\n",
    "        \n",
    "        # Extract relevant metrics and parameters\n",
    "        summary = run_data[\"summary\"]\n",
    "        config = run_data[\"config\"]\n",
    "        # print(summary)\n",
    "        \n",
    "        run_info = {\n",
    "            \"run_id\": run.id,\n",
    "            \"run_name\": run.name,\n",
    "            \"reasoning\": config.get(\"experiment.reasoning\", None),\n",
    "            \"anonymize\": config.get(\"dataset.anonymize\", None),\n",
    "            \"learning_rate\": config.get(\"training.learning_rate\", None),\n",
    "            \"percent_train\": config.get(\"dataset.percent_of_train_dataset\", None),\n",
    "            # \"num_epochs\": config.get(\"training.num_train_epochs\", None),\n",
    "            \"max_steps\": config.get(\"training.max_steps\", None),\n",
    "        }\n",
    "        \n",
    "        # Extract scores for different test datasets\n",
    "        for data_name, score_key in dataset_names.items():\n",
    "            try: \n",
    "                run_info[score_key] = summary[data_name]\n",
    "            except KeyError:\n",
    "                print(f\"KeyError: {data_name} not found in summary for run {summary}\")\n",
    "        \n",
    "        runs_data.append(run_info)\n",
    "    df = pd.DataFrame(runs_data)\n",
    "    display(df)\n",
    "    return df\n",
    "\n",
    "# sweep_id = \"ngq4k8jt\"  # CLadder\n",
    "# sweep_id = \"fho761r3\"  # ProntoQA\n",
    "\n",
    "cladder_dataset2score_name = {'cladder-v1-q-commonsense': 'commonsense', 'cladder-v1-q-anticommonsense': 'anticommonsense', 'cladder-v1-q-noncommonsense': 'noncommonsense'}\n",
    "prontoqa_dataset2score_name = {'prontoqa': 'prontoqa', 'prontoqa-anticommonsense': 'anticommonsense', 'prontoqa-noncommonsense': 'noncommonsense'}\n",
    "\n",
    "cladder_df = collect_data('hovxsc44', cladder_dataset2score_name)\n",
    "prontoqa_df = collect_data('6qew4692', prontoqa_dataset2score_name)"
   ],
   "outputs": [
    {
     "data": {
      "text/plain": [
       "       run_id                                           run_name  reasoning  \\\n",
       "0    jsmejv8t  SFT/QWen-cladder-RFalse-DP0.899-s1600-Absorigi...      False   \n",
       "1    5rxek5e6  SFT/QWen-cladder-RFalse-DP0.899-s800-Absorigin...      False   \n",
       "2    bhoobm5a  SFT/QWen-cladder-RFalse-DP0.899-s200-Absorigin...      False   \n",
       "3    7x71ri47  SFT/QWen-cladder-RFalse-DP0.899-s50-Absorigina...      False   \n",
       "4    0r5anv0l  SFT/QWen-cladder-RTrue-DP0.899-s3200-Absorigin...       True   \n",
       "..        ...                                                ...        ...   \n",
       "331  yxlbcnef  SFT/QWen-cladder-RTrue-DP0.005-s800-AbsNone-lr...       True   \n",
       "332  7tr2sdzt  SFT/QWen-cladder-RTrue-DP0.005-s100-AbsNone-lr...       True   \n",
       "333  hnzoh43h  SFT/QWen-cladder-RTrue-DP0.005-s400-AbsNone-lr...       True   \n",
       "334  i3nzc1mg  SFT/QWen-cladder-RTrue-DP0.005-s200-AbsNone-lr...       True   \n",
       "335  wqhpxveg  SFT/QWen-cladder-RTrue-DP0.005-s50-AbsNone-lr0...       True   \n",
       "\n",
       "    anonymize  learning_rate  percent_train  max_steps  commonsense  \\\n",
       "0    original         0.0003          0.899       1600        80.00   \n",
       "1    original         0.0003          0.899        800        67.88   \n",
       "2    original         0.0003          0.899        200        50.00   \n",
       "3    original         0.0003          0.899         50        51.54   \n",
       "4    original         0.0003          0.899       3200        93.65   \n",
       "..        ...            ...            ...        ...          ...   \n",
       "331      null         0.0003          0.005        800        64.42   \n",
       "332      null         0.0003          0.005        100        53.65   \n",
       "333      null         0.0003          0.005        400        58.75   \n",
       "334      null         0.0003          0.005        200        56.35   \n",
       "335      null         0.0003          0.005         50        51.25   \n",
       "\n",
       "     anticommonsense  noncommonsense  \n",
       "0              78.46           65.43  \n",
       "1              49.13           44.14  \n",
       "2              50.48           52.15  \n",
       "3              22.50           21.29  \n",
       "4              94.13           86.33  \n",
       "..               ...             ...  \n",
       "331            58.56           53.42  \n",
       "332            55.87           53.22  \n",
       "333            57.40           58.01  \n",
       "334            57.60           54.79  \n",
       "335            49.62           52.83  \n",
       "\n",
       "[336 rows x 10 columns]"
      ],
      "text/html": [
       "<div>\n",
       "<style scoped>\n",
       "    .dataframe tbody tr th:only-of-type {\n",
       "        vertical-align: middle;\n",
       "    }\n",
       "\n",
       "    .dataframe tbody tr th {\n",
       "        vertical-align: top;\n",
       "    }\n",
       "\n",
       "    .dataframe thead th {\n",
       "        text-align: right;\n",
       "    }\n",
       "</style>\n",
       "<table border=\"1\" class=\"dataframe\">\n",
       "  <thead>\n",
       "    <tr style=\"text-align: right;\">\n",
       "      <th></th>\n",
       "      <th>run_id</th>\n",
       "      <th>run_name</th>\n",
       "      <th>reasoning</th>\n",
       "      <th>anonymize</th>\n",
       "      <th>learning_rate</th>\n",
       "      <th>percent_train</th>\n",
       "      <th>max_steps</th>\n",
       "      <th>commonsense</th>\n",
       "      <th>anticommonsense</th>\n",
       "      <th>noncommonsense</th>\n",
       "    </tr>\n",
       "  </thead>\n",
       "  <tbody>\n",
       "    <tr>\n",
       "      <th>0</th>\n",
       "      <td>jsmejv8t</td>\n",
       "      <td>SFT/QWen-cladder-RFalse-DP0.899-s1600-Absorigi...</td>\n",
       "      <td>False</td>\n",
       "      <td>original</td>\n",
       "      <td>0.0003</td>\n",
       "      <td>0.899</td>\n",
       "      <td>1600</td>\n",
       "      <td>80.00</td>\n",
       "      <td>78.46</td>\n",
       "      <td>65.43</td>\n",
       "    </tr>\n",
       "    <tr>\n",
       "      <th>1</th>\n",
       "      <td>5rxek5e6</td>\n",
       "      <td>SFT/QWen-cladder-RFalse-DP0.899-s800-Absorigin...</td>\n",
       "      <td>False</td>\n",
       "      <td>original</td>\n",
       "      <td>0.0003</td>\n",
       "      <td>0.899</td>\n",
       "      <td>800</td>\n",
       "      <td>67.88</td>\n",
       "      <td>49.13</td>\n",
       "      <td>44.14</td>\n",
       "    </tr>\n",
       "    <tr>\n",
       "      <th>2</th>\n",
       "      <td>bhoobm5a</td>\n",
       "      <td>SFT/QWen-cladder-RFalse-DP0.899-s200-Absorigin...</td>\n",
       "      <td>False</td>\n",
       "      <td>original</td>\n",
       "      <td>0.0003</td>\n",
       "      <td>0.899</td>\n",
       "      <td>200</td>\n",
       "      <td>50.00</td>\n",
       "      <td>50.48</td>\n",
       "      <td>52.15</td>\n",
       "    </tr>\n",
       "    <tr>\n",
       "      <th>3</th>\n",
       "      <td>7x71ri47</td>\n",
       "      <td>SFT/QWen-cladder-RFalse-DP0.899-s50-Absorigina...</td>\n",
       "      <td>False</td>\n",
       "      <td>original</td>\n",
       "      <td>0.0003</td>\n",
       "      <td>0.899</td>\n",
       "      <td>50</td>\n",
       "      <td>51.54</td>\n",
       "      <td>22.50</td>\n",
       "      <td>21.29</td>\n",
       "    </tr>\n",
       "    <tr>\n",
       "      <th>4</th>\n",
       "      <td>0r5anv0l</td>\n",
       "      <td>SFT/QWen-cladder-RTrue-DP0.899-s3200-Absorigin...</td>\n",
       "      <td>True</td>\n",
       "      <td>original</td>\n",
       "      <td>0.0003</td>\n",
       "      <td>0.899</td>\n",
       "      <td>3200</td>\n",
       "      <td>93.65</td>\n",
       "      <td>94.13</td>\n",
       "      <td>86.33</td>\n",
       "    </tr>\n",
       "    <tr>\n",
       "      <th>...</th>\n",
       "      <td>...</td>\n",
       "      <td>...</td>\n",
       "      <td>...</td>\n",
       "      <td>...</td>\n",
       "      <td>...</td>\n",
       "      <td>...</td>\n",
       "      <td>...</td>\n",
       "      <td>...</td>\n",
       "      <td>...</td>\n",
       "      <td>...</td>\n",
       "    </tr>\n",
       "    <tr>\n",
       "      <th>331</th>\n",
       "      <td>yxlbcnef</td>\n",
       "      <td>SFT/QWen-cladder-RTrue-DP0.005-s800-AbsNone-lr...</td>\n",
       "      <td>True</td>\n",
       "      <td>null</td>\n",
       "      <td>0.0003</td>\n",
       "      <td>0.005</td>\n",
       "      <td>800</td>\n",
       "      <td>64.42</td>\n",
       "      <td>58.56</td>\n",
       "      <td>53.42</td>\n",
       "    </tr>\n",
       "    <tr>\n",
       "      <th>332</th>\n",
       "      <td>7tr2sdzt</td>\n",
       "      <td>SFT/QWen-cladder-RTrue-DP0.005-s100-AbsNone-lr...</td>\n",
       "      <td>True</td>\n",
       "      <td>null</td>\n",
       "      <td>0.0003</td>\n",
       "      <td>0.005</td>\n",
       "      <td>100</td>\n",
       "      <td>53.65</td>\n",
       "      <td>55.87</td>\n",
       "      <td>53.22</td>\n",
       "    </tr>\n",
       "    <tr>\n",
       "      <th>333</th>\n",
       "      <td>hnzoh43h</td>\n",
       "      <td>SFT/QWen-cladder-RTrue-DP0.005-s400-AbsNone-lr...</td>\n",
       "      <td>True</td>\n",
       "      <td>null</td>\n",
       "      <td>0.0003</td>\n",
       "      <td>0.005</td>\n",
       "      <td>400</td>\n",
       "      <td>58.75</td>\n",
       "      <td>57.40</td>\n",
       "      <td>58.01</td>\n",
       "    </tr>\n",
       "    <tr>\n",
       "      <th>334</th>\n",
       "      <td>i3nzc1mg</td>\n",
       "      <td>SFT/QWen-cladder-RTrue-DP0.005-s200-AbsNone-lr...</td>\n",
       "      <td>True</td>\n",
       "      <td>null</td>\n",
       "      <td>0.0003</td>\n",
       "      <td>0.005</td>\n",
       "      <td>200</td>\n",
       "      <td>56.35</td>\n",
       "      <td>57.60</td>\n",
       "      <td>54.79</td>\n",
       "    </tr>\n",
       "    <tr>\n",
       "      <th>335</th>\n",
       "      <td>wqhpxveg</td>\n",
       "      <td>SFT/QWen-cladder-RTrue-DP0.005-s50-AbsNone-lr0...</td>\n",
       "      <td>True</td>\n",
       "      <td>null</td>\n",
       "      <td>0.0003</td>\n",
       "      <td>0.005</td>\n",
       "      <td>50</td>\n",
       "      <td>51.25</td>\n",
       "      <td>49.62</td>\n",
       "      <td>52.83</td>\n",
       "    </tr>\n",
       "  </tbody>\n",
       "</table>\n",
       "<p>336 rows × 10 columns</p>\n",
       "</div>"
      ]
     },
     "metadata": {},
     "output_type": "display_data"
    },
    {
     "data": {
      "text/plain": [
       "       run_id                                           run_name  reasoning  \\\n",
       "0    8dere276  SFT/QWen-prontoqa-RFalse-DP0.899-s3200-Absrand...      False   \n",
       "1    ln5ldm4g  SFT/QWen-prontoqa-RFalse-DP0.899-s1600-Absrand...      False   \n",
       "2    22894wgs  SFT/QWen-prontoqa-RFalse-DP0.899-s800-Absrando...      False   \n",
       "3    58wvgxuc  SFT/QWen-prontoqa-RFalse-DP0.899-s400-Absrando...      False   \n",
       "4    27mwulp8  SFT/QWen-prontoqa-RFalse-DP0.899-s200-Absrando...      False   \n",
       "..        ...                                                ...        ...   \n",
       "331  lyrienuz  SFT/QWen-prontoqa-RTrue-DP0.025-s800-AbsNone-l...       True   \n",
       "332  pilksu49  SFT/QWen-prontoqa-RTrue-DP0.025-s200-AbsNone-l...       True   \n",
       "333  tw1ad27v  SFT/QWen-prontoqa-RTrue-DP0.025-s100-AbsNone-l...       True   \n",
       "334  u2dmtmp4  SFT/QWen-prontoqa-RTrue-DP0.025-s1600-AbsNone-...       True   \n",
       "335  dad64vx6  SFT/QWen-prontoqa-RTrue-DP0.025-s50-AbsNone-lr...       True   \n",
       "\n",
       "    anonymize  learning_rate  percent_train  max_steps  prontoqa  \\\n",
       "0      random        0.00030          0.899       3200     99.50   \n",
       "1      random        0.00030          0.899       1600     99.00   \n",
       "2      random        0.00030          0.899        800     98.75   \n",
       "3      random        0.00030          0.899        400     93.75   \n",
       "4      random        0.00030          0.899        200     92.00   \n",
       "..        ...            ...            ...        ...       ...   \n",
       "331      null        0.00015          0.025        800     96.75   \n",
       "332      null        0.00030          0.025        200     98.25   \n",
       "333      null        0.00030          0.025        100     99.00   \n",
       "334      null        0.00015          0.025       1600     99.00   \n",
       "335      null        0.00015          0.025         50     96.25   \n",
       "\n",
       "     anticommonsense  noncommonsense  \n",
       "0              93.00           95.75  \n",
       "1              92.25           95.25  \n",
       "2              91.50           94.25  \n",
       "3              86.00           90.50  \n",
       "4              85.75           90.25  \n",
       "..               ...             ...  \n",
       "331            71.00           78.25  \n",
       "332            73.75           83.75  \n",
       "333            72.50           83.75  \n",
       "334            73.00           79.75  \n",
       "335            71.00           81.00  \n",
       "\n",
       "[336 rows x 10 columns]"
      ],
      "text/html": [
       "<div>\n",
       "<style scoped>\n",
       "    .dataframe tbody tr th:only-of-type {\n",
       "        vertical-align: middle;\n",
       "    }\n",
       "\n",
       "    .dataframe tbody tr th {\n",
       "        vertical-align: top;\n",
       "    }\n",
       "\n",
       "    .dataframe thead th {\n",
       "        text-align: right;\n",
       "    }\n",
       "</style>\n",
       "<table border=\"1\" class=\"dataframe\">\n",
       "  <thead>\n",
       "    <tr style=\"text-align: right;\">\n",
       "      <th></th>\n",
       "      <th>run_id</th>\n",
       "      <th>run_name</th>\n",
       "      <th>reasoning</th>\n",
       "      <th>anonymize</th>\n",
       "      <th>learning_rate</th>\n",
       "      <th>percent_train</th>\n",
       "      <th>max_steps</th>\n",
       "      <th>prontoqa</th>\n",
       "      <th>anticommonsense</th>\n",
       "      <th>noncommonsense</th>\n",
       "    </tr>\n",
       "  </thead>\n",
       "  <tbody>\n",
       "    <tr>\n",
       "      <th>0</th>\n",
       "      <td>8dere276</td>\n",
       "      <td>SFT/QWen-prontoqa-RFalse-DP0.899-s3200-Absrand...</td>\n",
       "      <td>False</td>\n",
       "      <td>random</td>\n",
       "      <td>0.00030</td>\n",
       "      <td>0.899</td>\n",
       "      <td>3200</td>\n",
       "      <td>99.50</td>\n",
       "      <td>93.00</td>\n",
       "      <td>95.75</td>\n",
       "    </tr>\n",
       "    <tr>\n",
       "      <th>1</th>\n",
       "      <td>ln5ldm4g</td>\n",
       "      <td>SFT/QWen-prontoqa-RFalse-DP0.899-s1600-Absrand...</td>\n",
       "      <td>False</td>\n",
       "      <td>random</td>\n",
       "      <td>0.00030</td>\n",
       "      <td>0.899</td>\n",
       "      <td>1600</td>\n",
       "      <td>99.00</td>\n",
       "      <td>92.25</td>\n",
       "      <td>95.25</td>\n",
       "    </tr>\n",
       "    <tr>\n",
       "      <th>2</th>\n",
       "      <td>22894wgs</td>\n",
       "      <td>SFT/QWen-prontoqa-RFalse-DP0.899-s800-Absrando...</td>\n",
       "      <td>False</td>\n",
       "      <td>random</td>\n",
       "      <td>0.00030</td>\n",
       "      <td>0.899</td>\n",
       "      <td>800</td>\n",
       "      <td>98.75</td>\n",
       "      <td>91.50</td>\n",
       "      <td>94.25</td>\n",
       "    </tr>\n",
       "    <tr>\n",
       "      <th>3</th>\n",
       "      <td>58wvgxuc</td>\n",
       "      <td>SFT/QWen-prontoqa-RFalse-DP0.899-s400-Absrando...</td>\n",
       "      <td>False</td>\n",
       "      <td>random</td>\n",
       "      <td>0.00030</td>\n",
       "      <td>0.899</td>\n",
       "      <td>400</td>\n",
       "      <td>93.75</td>\n",
       "      <td>86.00</td>\n",
       "      <td>90.50</td>\n",
       "    </tr>\n",
       "    <tr>\n",
       "      <th>4</th>\n",
       "      <td>27mwulp8</td>\n",
       "      <td>SFT/QWen-prontoqa-RFalse-DP0.899-s200-Absrando...</td>\n",
       "      <td>False</td>\n",
       "      <td>random</td>\n",
       "      <td>0.00030</td>\n",
       "      <td>0.899</td>\n",
       "      <td>200</td>\n",
       "      <td>92.00</td>\n",
       "      <td>85.75</td>\n",
       "      <td>90.25</td>\n",
       "    </tr>\n",
       "    <tr>\n",
       "      <th>...</th>\n",
       "      <td>...</td>\n",
       "      <td>...</td>\n",
       "      <td>...</td>\n",
       "      <td>...</td>\n",
       "      <td>...</td>\n",
       "      <td>...</td>\n",
       "      <td>...</td>\n",
       "      <td>...</td>\n",
       "      <td>...</td>\n",
       "      <td>...</td>\n",
       "    </tr>\n",
       "    <tr>\n",
       "      <th>331</th>\n",
       "      <td>lyrienuz</td>\n",
       "      <td>SFT/QWen-prontoqa-RTrue-DP0.025-s800-AbsNone-l...</td>\n",
       "      <td>True</td>\n",
       "      <td>null</td>\n",
       "      <td>0.00015</td>\n",
       "      <td>0.025</td>\n",
       "      <td>800</td>\n",
       "      <td>96.75</td>\n",
       "      <td>71.00</td>\n",
       "      <td>78.25</td>\n",
       "    </tr>\n",
       "    <tr>\n",
       "      <th>332</th>\n",
       "      <td>pilksu49</td>\n",
       "      <td>SFT/QWen-prontoqa-RTrue-DP0.025-s200-AbsNone-l...</td>\n",
       "      <td>True</td>\n",
       "      <td>null</td>\n",
       "      <td>0.00030</td>\n",
       "      <td>0.025</td>\n",
       "      <td>200</td>\n",
       "      <td>98.25</td>\n",
       "      <td>73.75</td>\n",
       "      <td>83.75</td>\n",
       "    </tr>\n",
       "    <tr>\n",
       "      <th>333</th>\n",
       "      <td>tw1ad27v</td>\n",
       "      <td>SFT/QWen-prontoqa-RTrue-DP0.025-s100-AbsNone-l...</td>\n",
       "      <td>True</td>\n",
       "      <td>null</td>\n",
       "      <td>0.00030</td>\n",
       "      <td>0.025</td>\n",
       "      <td>100</td>\n",
       "      <td>99.00</td>\n",
       "      <td>72.50</td>\n",
       "      <td>83.75</td>\n",
       "    </tr>\n",
       "    <tr>\n",
       "      <th>334</th>\n",
       "      <td>u2dmtmp4</td>\n",
       "      <td>SFT/QWen-prontoqa-RTrue-DP0.025-s1600-AbsNone-...</td>\n",
       "      <td>True</td>\n",
       "      <td>null</td>\n",
       "      <td>0.00015</td>\n",
       "      <td>0.025</td>\n",
       "      <td>1600</td>\n",
       "      <td>99.00</td>\n",
       "      <td>73.00</td>\n",
       "      <td>79.75</td>\n",
       "    </tr>\n",
       "    <tr>\n",
       "      <th>335</th>\n",
       "      <td>dad64vx6</td>\n",
       "      <td>SFT/QWen-prontoqa-RTrue-DP0.025-s50-AbsNone-lr...</td>\n",
       "      <td>True</td>\n",
       "      <td>null</td>\n",
       "      <td>0.00015</td>\n",
       "      <td>0.025</td>\n",
       "      <td>50</td>\n",
       "      <td>96.25</td>\n",
       "      <td>71.00</td>\n",
       "      <td>81.00</td>\n",
       "    </tr>\n",
       "  </tbody>\n",
       "</table>\n",
       "<p>336 rows × 10 columns</p>\n",
       "</div>"
      ]
     },
     "metadata": {},
     "output_type": "display_data"
    }
   ],
   "execution_count": 1
  },
  {
   "metadata": {
    "ExecuteTime": {
     "end_time": "2025-05-15T16:29:05.632152Z",
     "start_time": "2025-05-15T16:29:05.335301Z"
    }
   },
   "cell_type": "code",
   "source": [
    "testset_name_mapping = {\n",
    "    'commonsense': 'Commonsense',\n",
    "    'anticommonsense': 'Anticommonsense',\n",
    "    'noncommonsense': 'Noncommonsense',\n",
    "    'prontoqa': 'Commonsense',\n",
    "}\n",
    "# Create comparison plots\n",
    "def create_anonymize_comparison_plots(df, dataset2score_name, available_pct, datasetname):\n",
    "    \n",
    "    # Identify test dataset columns\n",
    "    test_dataset_columns = [col for col in df.columns if col in dataset2score_name.values()]\n",
    "    training_percentages = sorted(df['percent_train'].unique())\n",
    "    learning_rates = sorted(df['learning_rate'].unique())\n",
    "    anonymize_list = sorted(df['anonymize'].unique())\n",
    "    \n",
    "    print(learning_rates)\n",
    "    print(f\"Found {len(df)} runs with {len(test_dataset_columns)} test datasets\")\n",
    "    print(f\"Test datasets: {[col.replace('score_', '') for col in test_dataset_columns]}\")\n",
    "    print(f\"Training percentages: {training_percentages}\")\n",
    "    \n",
    "    \n",
    "    # Create a subplot for each test dataset and training percentage combination\n",
    "    num_test_sets = len(test_dataset_columns)\n",
    "    num_percentages = len(available_pct)\n",
    "    \n",
    "    for lr in learning_rates:\n",
    "        print(f\"Creating comparison plots for learning rate: {lr}\")\n",
    "    \n",
    "        fig = make_subplots(\n",
    "            rows=num_percentages, \n",
    "            cols=num_test_sets,\n",
    "            subplot_titles=[f\"{testset_name_mapping[col]} - {round(pct*100)}% Training\" \n",
    "                            for pct in available_pct for col in test_dataset_columns],\n",
    "            vertical_spacing=0.1,\n",
    "            horizontal_spacing=0.05\n",
    "        )\n",
    "        \n",
    "        # Color scheme for True/False anonymization\n",
    "        colors = {\"null\": \"rgb(31, 119, 180)\", \"random\": \"rgb(255, 127, 14)\", \"order\": \"rgb(44, 160, 44)\", \"original\": \"rgb(214, 39, 40)\"}\n",
    "        \n",
    "        for i, pct in enumerate(available_pct):\n",
    "            for j, test_col in enumerate(test_dataset_columns):\n",
    "                dataset_name = test_col\n",
    "                \n",
    "                # Filter data for this training percentage\n",
    "                df_pct = df[(df['percent_train'] == pct) & (df['learning_rate'] == lr) & (df['reasoning'] == True)]\n",
    "                \n",
    "                # Group by anonymization and epochs, calculate mean scores\n",
    "                for anon in anonymize_list:\n",
    "                    if anon == \"original\":\n",
    "                        continue\n",
    "                    df_group = df_pct[df_pct['anonymize'] == anon]\n",
    "                    \n",
    "                    # Skip if no data for this combination\n",
    "                    if len(df_group) == 0:\n",
    "                        continue\n",
    "                    \n",
    "                    # Get average scores for each epoch\n",
    "                    # print(df_group)\n",
    "                    epoch_scores = df_group.groupby('max_steps')[test_col].mean().reset_index()\n",
    "                    # print(epoch_scores)\n",
    "                    # print(epoch_scores)\n",
    "                    \n",
    "                    # Add line to plot\n",
    "                    fig.add_trace(\n",
    "                        go.Scatter(\n",
    "                            x=epoch_scores['max_steps'],\n",
    "                            y=epoch_scores[test_col],\n",
    "                            mode='lines+markers',\n",
    "                            name=f\"CAPT={anon}\",\n",
    "                            line=dict(color=colors[str(anon)]),\n",
    "                            legendgroup=f\"CAPT={anon}\",\n",
    "                            showlegend=(i==0 and j==0) # Only show legend once\n",
    "                        ),\n",
    "                        row=i+1, col=j+1\n",
    "                    )\n",
    "                \n",
    "                # Update axis labels\n",
    "                if i == num_percentages-1:\n",
    "                    fig.update_xaxes(title_text=\"Number of Epochs\", row=i+1, col=j+1)\n",
    "                if j == 0:\n",
    "                    fig.update_yaxes(title_text=\"Score\", row=i+1, col=j+1)\n",
    "        \n",
    "        # Update layout\n",
    "        fig.update_layout(\n",
    "            height=250*num_percentages,\n",
    "            width=400*num_test_sets,\n",
    "            title_text=f\"{datasetname} Ablation Study\",\n",
    "            legend_title=\"CAPT Setting\",\n",
    "            margin=dict(t=50, b=20, l=20, r=20),\n",
    "        )\n",
    "        fig.show()\n",
    "\n",
    "create_anonymize_comparison_plots(cladder_df, cladder_dataset2score_name, [0.01, 0.02, 0.899], datasetname=\"CLadder\")\n",
    "create_anonymize_comparison_plots(prontoqa_df, prontoqa_dataset2score_name, [0.025, 0.05, 0.899], datasetname=\"PrOntoQA\")"
   ],
   "id": "dff6243567a96302",
   "outputs": [
    {
     "name": "stdout",
     "output_type": "stream",
     "text": [
      "[0.0003]\n",
      "Found 336 runs with 3 test datasets\n",
      "Test datasets: ['commonsense', 'anticommonsense', 'noncommonsense']\n",
      "Training percentages: [0.005, 0.01, 0.02, 0.05, 0.1, 0.899]\n",
      "Creating comparison plots for learning rate: 0.0003\n"
     ]
    },
    {
     "data": {
      "application/vnd.plotly.v1+json": {
       "data": [
        {
         "legendgroup": "CAPT=null",
         "line": {
          "color": "rgb(31, 119, 180)"
         },
         "mode": "lines+markers",
         "name": "CAPT=null",
         "showlegend": true,
         "x": [
          50,
          100,
          200,
          400,
          800,
          1600,
          3200
         ],
         "y": [
          50.67,
          58.46,
          59.62,
          69.42,
          69.13,
          71.44,
          67.98
         ],
         "type": "scatter",
         "xaxis": "x",
         "yaxis": "y"
        },
        {
         "legendgroup": "CAPT=order",
         "line": {
          "color": "rgb(44, 160, 44)"
         },
         "mode": "lines+markers",
         "name": "CAPT=order",
         "showlegend": true,
         "x": [
          50,
          100,
          200,
          400,
          800,
          1600,
          3200
         ],
         "y": [
          51.25,
          52.21,
          57.79,
          58.85,
          72.79,
          73.08,
          74.9
         ],
         "type": "scatter",
         "xaxis": "x",
         "yaxis": "y"
        },
        {
         "legendgroup": "CAPT=random",
         "line": {
          "color": "rgb(255, 127, 14)"
         },
         "mode": "lines+markers",
         "name": "CAPT=random",
         "showlegend": true,
         "x": [
          50,
          100,
          200,
          400,
          800,
          1600,
          3200
         ],
         "y": [
          53.46,
          53.27,
          55.1,
          62.5,
          67.5,
          76.25,
          75.96
         ],
         "type": "scatter",
         "xaxis": "x",
         "yaxis": "y"
        },
        {
         "legendgroup": "CAPT=null",
         "line": {
          "color": "rgb(31, 119, 180)"
         },
         "mode": "lines+markers",
         "name": "CAPT=null",
         "showlegend": false,
         "x": [
          50,
          100,
          200,
          400,
          800,
          1600,
          3200
         ],
         "y": [
          25.87,
          57.69,
          59.04,
          69.13,
          69.33,
          73.37,
          68.85
         ],
         "type": "scatter",
         "xaxis": "x2",
         "yaxis": "y2"
        },
        {
         "legendgroup": "CAPT=order",
         "line": {
          "color": "rgb(44, 160, 44)"
         },
         "mode": "lines+markers",
         "name": "CAPT=order",
         "showlegend": false,
         "x": [
          50,
          100,
          200,
          400,
          800,
          1600,
          3200
         ],
         "y": [
          49.42,
          45.77,
          57.5,
          57.6,
          75.0,
          76.54,
          75.77
         ],
         "type": "scatter",
         "xaxis": "x2",
         "yaxis": "y2"
        },
        {
         "legendgroup": "CAPT=random",
         "line": {
          "color": "rgb(255, 127, 14)"
         },
         "mode": "lines+markers",
         "name": "CAPT=random",
         "showlegend": false,
         "x": [
          50,
          100,
          200,
          400,
          800,
          1600,
          3200
         ],
         "y": [
          50.19,
          51.73,
          54.71,
          61.54,
          68.56,
          76.15,
          77.98
         ],
         "type": "scatter",
         "xaxis": "x2",
         "yaxis": "y2"
        },
        {
         "legendgroup": "CAPT=null",
         "line": {
          "color": "rgb(31, 119, 180)"
         },
         "mode": "lines+markers",
         "name": "CAPT=null",
         "showlegend": false,
         "x": [
          50,
          100,
          200,
          400,
          800,
          1600,
          3200
         ],
         "y": [
          25.98,
          55.76,
          58.79,
          66.11,
          61.43,
          64.26,
          62.7
         ],
         "type": "scatter",
         "xaxis": "x3",
         "yaxis": "y3"
        },
        {
         "legendgroup": "CAPT=order",
         "line": {
          "color": "rgb(44, 160, 44)"
         },
         "mode": "lines+markers",
         "name": "CAPT=order",
         "showlegend": false,
         "x": [
          50,
          100,
          200,
          400,
          800,
          1600,
          3200
         ],
         "y": [
          50.39,
          44.73,
          55.47,
          55.96,
          66.41,
          67.68,
          68.95
         ],
         "type": "scatter",
         "xaxis": "x3",
         "yaxis": "y3"
        },
        {
         "legendgroup": "CAPT=random",
         "line": {
          "color": "rgb(255, 127, 14)"
         },
         "mode": "lines+markers",
         "name": "CAPT=random",
         "showlegend": false,
         "x": [
          50,
          100,
          200,
          400,
          800,
          1600,
          3200
         ],
         "y": [
          50.29,
          51.27,
          55.66,
          57.42,
          64.26,
          70.12,
          69.43
         ],
         "type": "scatter",
         "xaxis": "x3",
         "yaxis": "y3"
        },
        {
         "legendgroup": "CAPT=null",
         "line": {
          "color": "rgb(31, 119, 180)"
         },
         "mode": "lines+markers",
         "name": "CAPT=null",
         "showlegend": false,
         "x": [
          50,
          100,
          200,
          400,
          800,
          1600,
          3200
         ],
         "y": [
          57.98,
          58.65,
          59.33,
          62.79,
          67.31,
          69.71,
          68.65
         ],
         "type": "scatter",
         "xaxis": "x4",
         "yaxis": "y4"
        },
        {
         "legendgroup": "CAPT=order",
         "line": {
          "color": "rgb(44, 160, 44)"
         },
         "mode": "lines+markers",
         "name": "CAPT=order",
         "showlegend": false,
         "x": [
          50,
          100,
          200,
          400,
          800,
          1600,
          3200
         ],
         "y": [
          54.52,
          56.92,
          60.29,
          61.54,
          70.19,
          78.27,
          75.48
         ],
         "type": "scatter",
         "xaxis": "x4",
         "yaxis": "y4"
        },
        {
         "legendgroup": "CAPT=random",
         "line": {
          "color": "rgb(255, 127, 14)"
         },
         "mode": "lines+markers",
         "name": "CAPT=random",
         "showlegend": false,
         "x": [
          50,
          100,
          200,
          400,
          800,
          1600,
          3200
         ],
         "y": [
          50.77,
          51.73,
          59.71,
          61.44,
          69.13,
          70.87,
          79.04
         ],
         "type": "scatter",
         "xaxis": "x4",
         "yaxis": "y4"
        },
        {
         "legendgroup": "CAPT=null",
         "line": {
          "color": "rgb(31, 119, 180)"
         },
         "mode": "lines+markers",
         "name": "CAPT=null",
         "showlegend": false,
         "x": [
          50,
          100,
          200,
          400,
          800,
          1600,
          3200
         ],
         "y": [
          56.44,
          57.88,
          60.0,
          62.79,
          70.48,
          69.71,
          68.85
         ],
         "type": "scatter",
         "xaxis": "x5",
         "yaxis": "y5"
        },
        {
         "legendgroup": "CAPT=order",
         "line": {
          "color": "rgb(44, 160, 44)"
         },
         "mode": "lines+markers",
         "name": "CAPT=order",
         "showlegend": false,
         "x": [
          50,
          100,
          200,
          400,
          800,
          1600,
          3200
         ],
         "y": [
          51.54,
          56.73,
          60.29,
          61.63,
          67.5,
          79.9,
          77.79
         ],
         "type": "scatter",
         "xaxis": "x5",
         "yaxis": "y5"
        },
        {
         "legendgroup": "CAPT=random",
         "line": {
          "color": "rgb(255, 127, 14)"
         },
         "mode": "lines+markers",
         "name": "CAPT=random",
         "showlegend": false,
         "x": [
          50,
          100,
          200,
          400,
          800,
          1600,
          3200
         ],
         "y": [
          51.44,
          52.12,
          59.81,
          60.58,
          71.35,
          66.54,
          79.9
         ],
         "type": "scatter",
         "xaxis": "x5",
         "yaxis": "y5"
        },
        {
         "legendgroup": "CAPT=null",
         "line": {
          "color": "rgb(31, 119, 180)"
         },
         "mode": "lines+markers",
         "name": "CAPT=null",
         "showlegend": false,
         "x": [
          50,
          100,
          200,
          400,
          800,
          1600,
          3200
         ],
         "y": [
          54.49,
          54.88,
          59.67,
          61.52,
          63.87,
          64.84,
          66.11
         ],
         "type": "scatter",
         "xaxis": "x6",
         "yaxis": "y6"
        },
        {
         "legendgroup": "CAPT=order",
         "line": {
          "color": "rgb(44, 160, 44)"
         },
         "mode": "lines+markers",
         "name": "CAPT=order",
         "showlegend": false,
         "x": [
          50,
          100,
          200,
          400,
          800,
          1600,
          3200
         ],
         "y": [
          50.78,
          53.91,
          58.01,
          57.52,
          65.33,
          72.17,
          71.78
         ],
         "type": "scatter",
         "xaxis": "x6",
         "yaxis": "y6"
        },
        {
         "legendgroup": "CAPT=random",
         "line": {
          "color": "rgb(255, 127, 14)"
         },
         "mode": "lines+markers",
         "name": "CAPT=random",
         "showlegend": false,
         "x": [
          50,
          100,
          200,
          400,
          800,
          1600,
          3200
         ],
         "y": [
          49.71,
          51.56,
          55.66,
          60.74,
          65.92,
          61.33,
          73.73
         ],
         "type": "scatter",
         "xaxis": "x6",
         "yaxis": "y6"
        },
        {
         "legendgroup": "CAPT=null",
         "line": {
          "color": "rgb(31, 119, 180)"
         },
         "mode": "lines+markers",
         "name": "CAPT=null",
         "showlegend": false,
         "x": [
          50,
          100,
          200,
          400,
          800,
          1600,
          3200
         ],
         "y": [
          54.13,
          51.63,
          60.29,
          63.65,
          75.96,
          89.62,
          95.38
         ],
         "type": "scatter",
         "xaxis": "x7",
         "yaxis": "y7"
        },
        {
         "legendgroup": "CAPT=order",
         "line": {
          "color": "rgb(44, 160, 44)"
         },
         "mode": "lines+markers",
         "name": "CAPT=order",
         "showlegend": false,
         "x": [
          50,
          100,
          200,
          400,
          800,
          1600,
          3200
         ],
         "y": [
          51.54,
          56.44,
          60.58,
          68.65,
          75.1,
          90.1,
          94.52
         ],
         "type": "scatter",
         "xaxis": "x7",
         "yaxis": "y7"
        },
        {
         "legendgroup": "CAPT=random",
         "line": {
          "color": "rgb(255, 127, 14)"
         },
         "mode": "lines+markers",
         "name": "CAPT=random",
         "showlegend": false,
         "x": [
          50,
          100,
          200,
          400,
          800,
          1600,
          3200
         ],
         "y": [
          55.29,
          53.65,
          59.71,
          64.42,
          84.62,
          90.0,
          93.08
         ],
         "type": "scatter",
         "xaxis": "x7",
         "yaxis": "y7"
        },
        {
         "legendgroup": "CAPT=null",
         "line": {
          "color": "rgb(31, 119, 180)"
         },
         "mode": "lines+markers",
         "name": "CAPT=null",
         "showlegend": false,
         "x": [
          50,
          100,
          200,
          400,
          800,
          1600,
          3200
         ],
         "y": [
          52.12,
          53.08,
          60.38,
          62.4,
          77.12,
          89.81,
          95.67
         ],
         "type": "scatter",
         "xaxis": "x8",
         "yaxis": "y8"
        },
        {
         "legendgroup": "CAPT=order",
         "line": {
          "color": "rgb(44, 160, 44)"
         },
         "mode": "lines+markers",
         "name": "CAPT=order",
         "showlegend": false,
         "x": [
          50,
          100,
          200,
          400,
          800,
          1600,
          3200
         ],
         "y": [
          47.88,
          51.73,
          57.6,
          68.65,
          74.9,
          91.15,
          94.81
         ],
         "type": "scatter",
         "xaxis": "x8",
         "yaxis": "y8"
        },
        {
         "legendgroup": "CAPT=random",
         "line": {
          "color": "rgb(255, 127, 14)"
         },
         "mode": "lines+markers",
         "name": "CAPT=random",
         "showlegend": false,
         "x": [
          50,
          100,
          200,
          400,
          800,
          1600,
          3200
         ],
         "y": [
          52.98,
          53.08,
          59.71,
          65.0,
          84.23,
          91.54,
          94.62
         ],
         "type": "scatter",
         "xaxis": "x8",
         "yaxis": "y8"
        },
        {
         "legendgroup": "CAPT=null",
         "line": {
          "color": "rgb(31, 119, 180)"
         },
         "mode": "lines+markers",
         "name": "CAPT=null",
         "showlegend": false,
         "x": [
          50,
          100,
          200,
          400,
          800,
          1600,
          3200
         ],
         "y": [
          52.54,
          50.59,
          57.81,
          59.08,
          73.73,
          81.64,
          88.09
         ],
         "type": "scatter",
         "xaxis": "x9",
         "yaxis": "y9"
        },
        {
         "legendgroup": "CAPT=order",
         "line": {
          "color": "rgb(44, 160, 44)"
         },
         "mode": "lines+markers",
         "name": "CAPT=order",
         "showlegend": false,
         "x": [
          50,
          100,
          200,
          400,
          800,
          1600,
          3200
         ],
         "y": [
          46.88,
          48.73,
          52.25,
          66.31,
          70.7,
          84.28,
          88.96
         ],
         "type": "scatter",
         "xaxis": "x9",
         "yaxis": "y9"
        },
        {
         "legendgroup": "CAPT=random",
         "line": {
          "color": "rgb(255, 127, 14)"
         },
         "mode": "lines+markers",
         "name": "CAPT=random",
         "showlegend": false,
         "x": [
          50,
          100,
          200,
          400,
          800,
          1600,
          3200
         ],
         "y": [
          51.46,
          51.95,
          58.3,
          62.4,
          79.88,
          85.06,
          88.57
         ],
         "type": "scatter",
         "xaxis": "x9",
         "yaxis": "y9"
        }
       ],
       "layout": {
        "template": {
         "data": {
          "histogram2dcontour": [
           {
            "type": "histogram2dcontour",
            "colorbar": {
             "outlinewidth": 0,
             "ticks": ""
            },
            "colorscale": [
             [
              0.0,
              "#0d0887"
             ],
             [
              0.1111111111111111,
              "#46039f"
             ],
             [
              0.2222222222222222,
              "#7201a8"
             ],
             [
              0.3333333333333333,
              "#9c179e"
             ],
             [
              0.4444444444444444,
              "#bd3786"
             ],
             [
              0.5555555555555556,
              "#d8576b"
             ],
             [
              0.6666666666666666,
              "#ed7953"
             ],
             [
              0.7777777777777778,
              "#fb9f3a"
             ],
             [
              0.8888888888888888,
              "#fdca26"
             ],
             [
              1.0,
              "#f0f921"
             ]
            ]
           }
          ],
          "choropleth": [
           {
            "type": "choropleth",
            "colorbar": {
             "outlinewidth": 0,
             "ticks": ""
            }
           }
          ],
          "histogram2d": [
           {
            "type": "histogram2d",
            "colorbar": {
             "outlinewidth": 0,
             "ticks": ""
            },
            "colorscale": [
             [
              0.0,
              "#0d0887"
             ],
             [
              0.1111111111111111,
              "#46039f"
             ],
             [
              0.2222222222222222,
              "#7201a8"
             ],
             [
              0.3333333333333333,
              "#9c179e"
             ],
             [
              0.4444444444444444,
              "#bd3786"
             ],
             [
              0.5555555555555556,
              "#d8576b"
             ],
             [
              0.6666666666666666,
              "#ed7953"
             ],
             [
              0.7777777777777778,
              "#fb9f3a"
             ],
             [
              0.8888888888888888,
              "#fdca26"
             ],
             [
              1.0,
              "#f0f921"
             ]
            ]
           }
          ],
          "heatmap": [
           {
            "type": "heatmap",
            "colorbar": {
             "outlinewidth": 0,
             "ticks": ""
            },
            "colorscale": [
             [
              0.0,
              "#0d0887"
             ],
             [
              0.1111111111111111,
              "#46039f"
             ],
             [
              0.2222222222222222,
              "#7201a8"
             ],
             [
              0.3333333333333333,
              "#9c179e"
             ],
             [
              0.4444444444444444,
              "#bd3786"
             ],
             [
              0.5555555555555556,
              "#d8576b"
             ],
             [
              0.6666666666666666,
              "#ed7953"
             ],
             [
              0.7777777777777778,
              "#fb9f3a"
             ],
             [
              0.8888888888888888,
              "#fdca26"
             ],
             [
              1.0,
              "#f0f921"
             ]
            ]
           }
          ],
          "heatmapgl": [
           {
            "type": "heatmapgl",
            "colorbar": {
             "outlinewidth": 0,
             "ticks": ""
            },
            "colorscale": [
             [
              0.0,
              "#0d0887"
             ],
             [
              0.1111111111111111,
              "#46039f"
             ],
             [
              0.2222222222222222,
              "#7201a8"
             ],
             [
              0.3333333333333333,
              "#9c179e"
             ],
             [
              0.4444444444444444,
              "#bd3786"
             ],
             [
              0.5555555555555556,
              "#d8576b"
             ],
             [
              0.6666666666666666,
              "#ed7953"
             ],
             [
              0.7777777777777778,
              "#fb9f3a"
             ],
             [
              0.8888888888888888,
              "#fdca26"
             ],
             [
              1.0,
              "#f0f921"
             ]
            ]
           }
          ],
          "contourcarpet": [
           {
            "type": "contourcarpet",
            "colorbar": {
             "outlinewidth": 0,
             "ticks": ""
            }
           }
          ],
          "contour": [
           {
            "type": "contour",
            "colorbar": {
             "outlinewidth": 0,
             "ticks": ""
            },
            "colorscale": [
             [
              0.0,
              "#0d0887"
             ],
             [
              0.1111111111111111,
              "#46039f"
             ],
             [
              0.2222222222222222,
              "#7201a8"
             ],
             [
              0.3333333333333333,
              "#9c179e"
             ],
             [
              0.4444444444444444,
              "#bd3786"
             ],
             [
              0.5555555555555556,
              "#d8576b"
             ],
             [
              0.6666666666666666,
              "#ed7953"
             ],
             [
              0.7777777777777778,
              "#fb9f3a"
             ],
             [
              0.8888888888888888,
              "#fdca26"
             ],
             [
              1.0,
              "#f0f921"
             ]
            ]
           }
          ],
          "surface": [
           {
            "type": "surface",
            "colorbar": {
             "outlinewidth": 0,
             "ticks": ""
            },
            "colorscale": [
             [
              0.0,
              "#0d0887"
             ],
             [
              0.1111111111111111,
              "#46039f"
             ],
             [
              0.2222222222222222,
              "#7201a8"
             ],
             [
              0.3333333333333333,
              "#9c179e"
             ],
             [
              0.4444444444444444,
              "#bd3786"
             ],
             [
              0.5555555555555556,
              "#d8576b"
             ],
             [
              0.6666666666666666,
              "#ed7953"
             ],
             [
              0.7777777777777778,
              "#fb9f3a"
             ],
             [
              0.8888888888888888,
              "#fdca26"
             ],
             [
              1.0,
              "#f0f921"
             ]
            ]
           }
          ],
          "mesh3d": [
           {
            "type": "mesh3d",
            "colorbar": {
             "outlinewidth": 0,
             "ticks": ""
            }
           }
          ],
          "scatter": [
           {
            "fillpattern": {
             "fillmode": "overlay",
             "size": 10,
             "solidity": 0.2
            },
            "type": "scatter"
           }
          ],
          "parcoords": [
           {
            "type": "parcoords",
            "line": {
             "colorbar": {
              "outlinewidth": 0,
              "ticks": ""
             }
            }
           }
          ],
          "scatterpolargl": [
           {
            "type": "scatterpolargl",
            "marker": {
             "colorbar": {
              "outlinewidth": 0,
              "ticks": ""
             }
            }
           }
          ],
          "bar": [
           {
            "error_x": {
             "color": "#2a3f5f"
            },
            "error_y": {
             "color": "#2a3f5f"
            },
            "marker": {
             "line": {
              "color": "#E5ECF6",
              "width": 0.5
             },
             "pattern": {
              "fillmode": "overlay",
              "size": 10,
              "solidity": 0.2
             }
            },
            "type": "bar"
           }
          ],
          "scattergeo": [
           {
            "type": "scattergeo",
            "marker": {
             "colorbar": {
              "outlinewidth": 0,
              "ticks": ""
             }
            }
           }
          ],
          "scatterpolar": [
           {
            "type": "scatterpolar",
            "marker": {
             "colorbar": {
              "outlinewidth": 0,
              "ticks": ""
             }
            }
           }
          ],
          "histogram": [
           {
            "marker": {
             "pattern": {
              "fillmode": "overlay",
              "size": 10,
              "solidity": 0.2
             }
            },
            "type": "histogram"
           }
          ],
          "scattergl": [
           {
            "type": "scattergl",
            "marker": {
             "colorbar": {
              "outlinewidth": 0,
              "ticks": ""
             }
            }
           }
          ],
          "scatter3d": [
           {
            "type": "scatter3d",
            "line": {
             "colorbar": {
              "outlinewidth": 0,
              "ticks": ""
             }
            },
            "marker": {
             "colorbar": {
              "outlinewidth": 0,
              "ticks": ""
             }
            }
           }
          ],
          "scattermapbox": [
           {
            "type": "scattermapbox",
            "marker": {
             "colorbar": {
              "outlinewidth": 0,
              "ticks": ""
             }
            }
           }
          ],
          "scatterternary": [
           {
            "type": "scatterternary",
            "marker": {
             "colorbar": {
              "outlinewidth": 0,
              "ticks": ""
             }
            }
           }
          ],
          "scattercarpet": [
           {
            "type": "scattercarpet",
            "marker": {
             "colorbar": {
              "outlinewidth": 0,
              "ticks": ""
             }
            }
           }
          ],
          "carpet": [
           {
            "aaxis": {
             "endlinecolor": "#2a3f5f",
             "gridcolor": "white",
             "linecolor": "white",
             "minorgridcolor": "white",
             "startlinecolor": "#2a3f5f"
            },
            "baxis": {
             "endlinecolor": "#2a3f5f",
             "gridcolor": "white",
             "linecolor": "white",
             "minorgridcolor": "white",
             "startlinecolor": "#2a3f5f"
            },
            "type": "carpet"
           }
          ],
          "table": [
           {
            "cells": {
             "fill": {
              "color": "#EBF0F8"
             },
             "line": {
              "color": "white"
             }
            },
            "header": {
             "fill": {
              "color": "#C8D4E3"
             },
             "line": {
              "color": "white"
             }
            },
            "type": "table"
           }
          ],
          "barpolar": [
           {
            "marker": {
             "line": {
              "color": "#E5ECF6",
              "width": 0.5
             },
             "pattern": {
              "fillmode": "overlay",
              "size": 10,
              "solidity": 0.2
             }
            },
            "type": "barpolar"
           }
          ],
          "pie": [
           {
            "automargin": true,
            "type": "pie"
           }
          ]
         },
         "layout": {
          "autotypenumbers": "strict",
          "colorway": [
           "#636efa",
           "#EF553B",
           "#00cc96",
           "#ab63fa",
           "#FFA15A",
           "#19d3f3",
           "#FF6692",
           "#B6E880",
           "#FF97FF",
           "#FECB52"
          ],
          "font": {
           "color": "#2a3f5f"
          },
          "hovermode": "closest",
          "hoverlabel": {
           "align": "left"
          },
          "paper_bgcolor": "white",
          "plot_bgcolor": "#E5ECF6",
          "polar": {
           "bgcolor": "#E5ECF6",
           "angularaxis": {
            "gridcolor": "white",
            "linecolor": "white",
            "ticks": ""
           },
           "radialaxis": {
            "gridcolor": "white",
            "linecolor": "white",
            "ticks": ""
           }
          },
          "ternary": {
           "bgcolor": "#E5ECF6",
           "aaxis": {
            "gridcolor": "white",
            "linecolor": "white",
            "ticks": ""
           },
           "baxis": {
            "gridcolor": "white",
            "linecolor": "white",
            "ticks": ""
           },
           "caxis": {
            "gridcolor": "white",
            "linecolor": "white",
            "ticks": ""
           }
          },
          "coloraxis": {
           "colorbar": {
            "outlinewidth": 0,
            "ticks": ""
           }
          },
          "colorscale": {
           "sequential": [
            [
             0.0,
             "#0d0887"
            ],
            [
             0.1111111111111111,
             "#46039f"
            ],
            [
             0.2222222222222222,
             "#7201a8"
            ],
            [
             0.3333333333333333,
             "#9c179e"
            ],
            [
             0.4444444444444444,
             "#bd3786"
            ],
            [
             0.5555555555555556,
             "#d8576b"
            ],
            [
             0.6666666666666666,
             "#ed7953"
            ],
            [
             0.7777777777777778,
             "#fb9f3a"
            ],
            [
             0.8888888888888888,
             "#fdca26"
            ],
            [
             1.0,
             "#f0f921"
            ]
           ],
           "sequentialminus": [
            [
             0.0,
             "#0d0887"
            ],
            [
             0.1111111111111111,
             "#46039f"
            ],
            [
             0.2222222222222222,
             "#7201a8"
            ],
            [
             0.3333333333333333,
             "#9c179e"
            ],
            [
             0.4444444444444444,
             "#bd3786"
            ],
            [
             0.5555555555555556,
             "#d8576b"
            ],
            [
             0.6666666666666666,
             "#ed7953"
            ],
            [
             0.7777777777777778,
             "#fb9f3a"
            ],
            [
             0.8888888888888888,
             "#fdca26"
            ],
            [
             1.0,
             "#f0f921"
            ]
           ],
           "diverging": [
            [
             0,
             "#8e0152"
            ],
            [
             0.1,
             "#c51b7d"
            ],
            [
             0.2,
             "#de77ae"
            ],
            [
             0.3,
             "#f1b6da"
            ],
            [
             0.4,
             "#fde0ef"
            ],
            [
             0.5,
             "#f7f7f7"
            ],
            [
             0.6,
             "#e6f5d0"
            ],
            [
             0.7,
             "#b8e186"
            ],
            [
             0.8,
             "#7fbc41"
            ],
            [
             0.9,
             "#4d9221"
            ],
            [
             1,
             "#276419"
            ]
           ]
          },
          "xaxis": {
           "gridcolor": "white",
           "linecolor": "white",
           "ticks": "",
           "title": {
            "standoff": 15
           },
           "zerolinecolor": "white",
           "automargin": true,
           "zerolinewidth": 2
          },
          "yaxis": {
           "gridcolor": "white",
           "linecolor": "white",
           "ticks": "",
           "title": {
            "standoff": 15
           },
           "zerolinecolor": "white",
           "automargin": true,
           "zerolinewidth": 2
          },
          "scene": {
           "xaxis": {
            "backgroundcolor": "#E5ECF6",
            "gridcolor": "white",
            "linecolor": "white",
            "showbackground": true,
            "ticks": "",
            "zerolinecolor": "white",
            "gridwidth": 2
           },
           "yaxis": {
            "backgroundcolor": "#E5ECF6",
            "gridcolor": "white",
            "linecolor": "white",
            "showbackground": true,
            "ticks": "",
            "zerolinecolor": "white",
            "gridwidth": 2
           },
           "zaxis": {
            "backgroundcolor": "#E5ECF6",
            "gridcolor": "white",
            "linecolor": "white",
            "showbackground": true,
            "ticks": "",
            "zerolinecolor": "white",
            "gridwidth": 2
           }
          },
          "shapedefaults": {
           "line": {
            "color": "#2a3f5f"
           }
          },
          "annotationdefaults": {
           "arrowcolor": "#2a3f5f",
           "arrowhead": 0,
           "arrowwidth": 1
          },
          "geo": {
           "bgcolor": "white",
           "landcolor": "#E5ECF6",
           "subunitcolor": "white",
           "showland": true,
           "showlakes": true,
           "lakecolor": "white"
          },
          "title": {
           "x": 0.05
          },
          "mapbox": {
           "style": "light"
          }
         }
        },
        "xaxis": {
         "anchor": "y",
         "domain": [
          0.0,
          0.3
         ]
        },
        "yaxis": {
         "anchor": "x",
         "domain": [
          0.7333333333333334,
          1.0
         ],
         "title": {
          "text": "Score"
         }
        },
        "xaxis2": {
         "anchor": "y2",
         "domain": [
          0.35,
          0.6499999999999999
         ]
        },
        "yaxis2": {
         "anchor": "x2",
         "domain": [
          0.7333333333333334,
          1.0
         ]
        },
        "xaxis3": {
         "anchor": "y3",
         "domain": [
          0.7,
          1.0
         ]
        },
        "yaxis3": {
         "anchor": "x3",
         "domain": [
          0.7333333333333334,
          1.0
         ]
        },
        "xaxis4": {
         "anchor": "y4",
         "domain": [
          0.0,
          0.3
         ]
        },
        "yaxis4": {
         "anchor": "x4",
         "domain": [
          0.3666666666666667,
          0.6333333333333333
         ],
         "title": {
          "text": "Score"
         }
        },
        "xaxis5": {
         "anchor": "y5",
         "domain": [
          0.35,
          0.6499999999999999
         ]
        },
        "yaxis5": {
         "anchor": "x5",
         "domain": [
          0.3666666666666667,
          0.6333333333333333
         ]
        },
        "xaxis6": {
         "anchor": "y6",
         "domain": [
          0.7,
          1.0
         ]
        },
        "yaxis6": {
         "anchor": "x6",
         "domain": [
          0.3666666666666667,
          0.6333333333333333
         ]
        },
        "xaxis7": {
         "anchor": "y7",
         "domain": [
          0.0,
          0.3
         ],
         "title": {
          "text": "Number of Epochs"
         }
        },
        "yaxis7": {
         "anchor": "x7",
         "domain": [
          0.0,
          0.26666666666666666
         ],
         "title": {
          "text": "Score"
         }
        },
        "xaxis8": {
         "anchor": "y8",
         "domain": [
          0.35,
          0.6499999999999999
         ],
         "title": {
          "text": "Number of Epochs"
         }
        },
        "yaxis8": {
         "anchor": "x8",
         "domain": [
          0.0,
          0.26666666666666666
         ]
        },
        "xaxis9": {
         "anchor": "y9",
         "domain": [
          0.7,
          1.0
         ],
         "title": {
          "text": "Number of Epochs"
         }
        },
        "yaxis9": {
         "anchor": "x9",
         "domain": [
          0.0,
          0.26666666666666666
         ]
        },
        "annotations": [
         {
          "font": {
           "size": 16
          },
          "showarrow": false,
          "text": "Commonsense - 1% Training",
          "x": 0.15,
          "xanchor": "center",
          "xref": "paper",
          "y": 1.0,
          "yanchor": "bottom",
          "yref": "paper"
         },
         {
          "font": {
           "size": 16
          },
          "showarrow": false,
          "text": "Anticommonsense - 1% Training",
          "x": 0.49999999999999994,
          "xanchor": "center",
          "xref": "paper",
          "y": 1.0,
          "yanchor": "bottom",
          "yref": "paper"
         },
         {
          "font": {
           "size": 16
          },
          "showarrow": false,
          "text": "Noncommonsense - 1% Training",
          "x": 0.85,
          "xanchor": "center",
          "xref": "paper",
          "y": 1.0,
          "yanchor": "bottom",
          "yref": "paper"
         },
         {
          "font": {
           "size": 16
          },
          "showarrow": false,
          "text": "Commonsense - 2% Training",
          "x": 0.15,
          "xanchor": "center",
          "xref": "paper",
          "y": 0.6333333333333333,
          "yanchor": "bottom",
          "yref": "paper"
         },
         {
          "font": {
           "size": 16
          },
          "showarrow": false,
          "text": "Anticommonsense - 2% Training",
          "x": 0.49999999999999994,
          "xanchor": "center",
          "xref": "paper",
          "y": 0.6333333333333333,
          "yanchor": "bottom",
          "yref": "paper"
         },
         {
          "font": {
           "size": 16
          },
          "showarrow": false,
          "text": "Noncommonsense - 2% Training",
          "x": 0.85,
          "xanchor": "center",
          "xref": "paper",
          "y": 0.6333333333333333,
          "yanchor": "bottom",
          "yref": "paper"
         },
         {
          "font": {
           "size": 16
          },
          "showarrow": false,
          "text": "Commonsense - 90% Training",
          "x": 0.15,
          "xanchor": "center",
          "xref": "paper",
          "y": 0.26666666666666666,
          "yanchor": "bottom",
          "yref": "paper"
         },
         {
          "font": {
           "size": 16
          },
          "showarrow": false,
          "text": "Anticommonsense - 90% Training",
          "x": 0.49999999999999994,
          "xanchor": "center",
          "xref": "paper",
          "y": 0.26666666666666666,
          "yanchor": "bottom",
          "yref": "paper"
         },
         {
          "font": {
           "size": 16
          },
          "showarrow": false,
          "text": "Noncommonsense - 90% Training",
          "x": 0.85,
          "xanchor": "center",
          "xref": "paper",
          "y": 0.26666666666666666,
          "yanchor": "bottom",
          "yref": "paper"
         }
        ],
        "title": {
         "text": "CLadder Ablation Study"
        },
        "margin": {
         "t": 50,
         "b": 20,
         "l": 20,
         "r": 20
        },
        "height": 750,
        "width": 1200,
        "legend": {
         "title": {
          "text": "CAPT Setting"
         }
        }
       },
       "config": {
        "plotlyServerURL": "https://plot.ly"
       }
      },
      "text/html": [
       "<div>                            <div id=\"d1def129-a78c-4f14-b41a-ea03925390f3\" class=\"plotly-graph-div\" style=\"height:750px; width:1200px;\"></div>            <script type=\"text/javascript\">                require([\"plotly\"], function(Plotly) {                    window.PLOTLYENV=window.PLOTLYENV || {};                                    if (document.getElementById(\"d1def129-a78c-4f14-b41a-ea03925390f3\")) {                    Plotly.newPlot(                        \"d1def129-a78c-4f14-b41a-ea03925390f3\",                        [{\"legendgroup\":\"CAPT=null\",\"line\":{\"color\":\"rgb(31, 119, 180)\"},\"mode\":\"lines+markers\",\"name\":\"CAPT=null\",\"showlegend\":true,\"x\":[50,100,200,400,800,1600,3200],\"y\":[50.67,58.46,59.62,69.42,69.13,71.44,67.98],\"type\":\"scatter\",\"xaxis\":\"x\",\"yaxis\":\"y\"},{\"legendgroup\":\"CAPT=order\",\"line\":{\"color\":\"rgb(44, 160, 44)\"},\"mode\":\"lines+markers\",\"name\":\"CAPT=order\",\"showlegend\":true,\"x\":[50,100,200,400,800,1600,3200],\"y\":[51.25,52.21,57.79,58.85,72.79,73.08,74.9],\"type\":\"scatter\",\"xaxis\":\"x\",\"yaxis\":\"y\"},{\"legendgroup\":\"CAPT=random\",\"line\":{\"color\":\"rgb(255, 127, 14)\"},\"mode\":\"lines+markers\",\"name\":\"CAPT=random\",\"showlegend\":true,\"x\":[50,100,200,400,800,1600,3200],\"y\":[53.46,53.27,55.1,62.5,67.5,76.25,75.96],\"type\":\"scatter\",\"xaxis\":\"x\",\"yaxis\":\"y\"},{\"legendgroup\":\"CAPT=null\",\"line\":{\"color\":\"rgb(31, 119, 180)\"},\"mode\":\"lines+markers\",\"name\":\"CAPT=null\",\"showlegend\":false,\"x\":[50,100,200,400,800,1600,3200],\"y\":[25.87,57.69,59.04,69.13,69.33,73.37,68.85],\"type\":\"scatter\",\"xaxis\":\"x2\",\"yaxis\":\"y2\"},{\"legendgroup\":\"CAPT=order\",\"line\":{\"color\":\"rgb(44, 160, 44)\"},\"mode\":\"lines+markers\",\"name\":\"CAPT=order\",\"showlegend\":false,\"x\":[50,100,200,400,800,1600,3200],\"y\":[49.42,45.77,57.5,57.6,75.0,76.54,75.77],\"type\":\"scatter\",\"xaxis\":\"x2\",\"yaxis\":\"y2\"},{\"legendgroup\":\"CAPT=random\",\"line\":{\"color\":\"rgb(255, 127, 14)\"},\"mode\":\"lines+markers\",\"name\":\"CAPT=random\",\"showlegend\":false,\"x\":[50,100,200,400,800,1600,3200],\"y\":[50.19,51.73,54.71,61.54,68.56,76.15,77.98],\"type\":\"scatter\",\"xaxis\":\"x2\",\"yaxis\":\"y2\"},{\"legendgroup\":\"CAPT=null\",\"line\":{\"color\":\"rgb(31, 119, 180)\"},\"mode\":\"lines+markers\",\"name\":\"CAPT=null\",\"showlegend\":false,\"x\":[50,100,200,400,800,1600,3200],\"y\":[25.98,55.76,58.79,66.11,61.43,64.26,62.7],\"type\":\"scatter\",\"xaxis\":\"x3\",\"yaxis\":\"y3\"},{\"legendgroup\":\"CAPT=order\",\"line\":{\"color\":\"rgb(44, 160, 44)\"},\"mode\":\"lines+markers\",\"name\":\"CAPT=order\",\"showlegend\":false,\"x\":[50,100,200,400,800,1600,3200],\"y\":[50.39,44.73,55.47,55.96,66.41,67.68,68.95],\"type\":\"scatter\",\"xaxis\":\"x3\",\"yaxis\":\"y3\"},{\"legendgroup\":\"CAPT=random\",\"line\":{\"color\":\"rgb(255, 127, 14)\"},\"mode\":\"lines+markers\",\"name\":\"CAPT=random\",\"showlegend\":false,\"x\":[50,100,200,400,800,1600,3200],\"y\":[50.29,51.27,55.66,57.42,64.26,70.12,69.43],\"type\":\"scatter\",\"xaxis\":\"x3\",\"yaxis\":\"y3\"},{\"legendgroup\":\"CAPT=null\",\"line\":{\"color\":\"rgb(31, 119, 180)\"},\"mode\":\"lines+markers\",\"name\":\"CAPT=null\",\"showlegend\":false,\"x\":[50,100,200,400,800,1600,3200],\"y\":[57.98,58.65,59.33,62.79,67.31,69.71,68.65],\"type\":\"scatter\",\"xaxis\":\"x4\",\"yaxis\":\"y4\"},{\"legendgroup\":\"CAPT=order\",\"line\":{\"color\":\"rgb(44, 160, 44)\"},\"mode\":\"lines+markers\",\"name\":\"CAPT=order\",\"showlegend\":false,\"x\":[50,100,200,400,800,1600,3200],\"y\":[54.52,56.92,60.29,61.54,70.19,78.27,75.48],\"type\":\"scatter\",\"xaxis\":\"x4\",\"yaxis\":\"y4\"},{\"legendgroup\":\"CAPT=random\",\"line\":{\"color\":\"rgb(255, 127, 14)\"},\"mode\":\"lines+markers\",\"name\":\"CAPT=random\",\"showlegend\":false,\"x\":[50,100,200,400,800,1600,3200],\"y\":[50.77,51.73,59.71,61.44,69.13,70.87,79.04],\"type\":\"scatter\",\"xaxis\":\"x4\",\"yaxis\":\"y4\"},{\"legendgroup\":\"CAPT=null\",\"line\":{\"color\":\"rgb(31, 119, 180)\"},\"mode\":\"lines+markers\",\"name\":\"CAPT=null\",\"showlegend\":false,\"x\":[50,100,200,400,800,1600,3200],\"y\":[56.44,57.88,60.0,62.79,70.48,69.71,68.85],\"type\":\"scatter\",\"xaxis\":\"x5\",\"yaxis\":\"y5\"},{\"legendgroup\":\"CAPT=order\",\"line\":{\"color\":\"rgb(44, 160, 44)\"},\"mode\":\"lines+markers\",\"name\":\"CAPT=order\",\"showlegend\":false,\"x\":[50,100,200,400,800,1600,3200],\"y\":[51.54,56.73,60.29,61.63,67.5,79.9,77.79],\"type\":\"scatter\",\"xaxis\":\"x5\",\"yaxis\":\"y5\"},{\"legendgroup\":\"CAPT=random\",\"line\":{\"color\":\"rgb(255, 127, 14)\"},\"mode\":\"lines+markers\",\"name\":\"CAPT=random\",\"showlegend\":false,\"x\":[50,100,200,400,800,1600,3200],\"y\":[51.44,52.12,59.81,60.58,71.35,66.54,79.9],\"type\":\"scatter\",\"xaxis\":\"x5\",\"yaxis\":\"y5\"},{\"legendgroup\":\"CAPT=null\",\"line\":{\"color\":\"rgb(31, 119, 180)\"},\"mode\":\"lines+markers\",\"name\":\"CAPT=null\",\"showlegend\":false,\"x\":[50,100,200,400,800,1600,3200],\"y\":[54.49,54.88,59.67,61.52,63.87,64.84,66.11],\"type\":\"scatter\",\"xaxis\":\"x6\",\"yaxis\":\"y6\"},{\"legendgroup\":\"CAPT=order\",\"line\":{\"color\":\"rgb(44, 160, 44)\"},\"mode\":\"lines+markers\",\"name\":\"CAPT=order\",\"showlegend\":false,\"x\":[50,100,200,400,800,1600,3200],\"y\":[50.78,53.91,58.01,57.52,65.33,72.17,71.78],\"type\":\"scatter\",\"xaxis\":\"x6\",\"yaxis\":\"y6\"},{\"legendgroup\":\"CAPT=random\",\"line\":{\"color\":\"rgb(255, 127, 14)\"},\"mode\":\"lines+markers\",\"name\":\"CAPT=random\",\"showlegend\":false,\"x\":[50,100,200,400,800,1600,3200],\"y\":[49.71,51.56,55.66,60.74,65.92,61.33,73.73],\"type\":\"scatter\",\"xaxis\":\"x6\",\"yaxis\":\"y6\"},{\"legendgroup\":\"CAPT=null\",\"line\":{\"color\":\"rgb(31, 119, 180)\"},\"mode\":\"lines+markers\",\"name\":\"CAPT=null\",\"showlegend\":false,\"x\":[50,100,200,400,800,1600,3200],\"y\":[54.13,51.63,60.29,63.65,75.96,89.62,95.38],\"type\":\"scatter\",\"xaxis\":\"x7\",\"yaxis\":\"y7\"},{\"legendgroup\":\"CAPT=order\",\"line\":{\"color\":\"rgb(44, 160, 44)\"},\"mode\":\"lines+markers\",\"name\":\"CAPT=order\",\"showlegend\":false,\"x\":[50,100,200,400,800,1600,3200],\"y\":[51.54,56.44,60.58,68.65,75.1,90.1,94.52],\"type\":\"scatter\",\"xaxis\":\"x7\",\"yaxis\":\"y7\"},{\"legendgroup\":\"CAPT=random\",\"line\":{\"color\":\"rgb(255, 127, 14)\"},\"mode\":\"lines+markers\",\"name\":\"CAPT=random\",\"showlegend\":false,\"x\":[50,100,200,400,800,1600,3200],\"y\":[55.29,53.65,59.71,64.42,84.62,90.0,93.08],\"type\":\"scatter\",\"xaxis\":\"x7\",\"yaxis\":\"y7\"},{\"legendgroup\":\"CAPT=null\",\"line\":{\"color\":\"rgb(31, 119, 180)\"},\"mode\":\"lines+markers\",\"name\":\"CAPT=null\",\"showlegend\":false,\"x\":[50,100,200,400,800,1600,3200],\"y\":[52.12,53.08,60.38,62.4,77.12,89.81,95.67],\"type\":\"scatter\",\"xaxis\":\"x8\",\"yaxis\":\"y8\"},{\"legendgroup\":\"CAPT=order\",\"line\":{\"color\":\"rgb(44, 160, 44)\"},\"mode\":\"lines+markers\",\"name\":\"CAPT=order\",\"showlegend\":false,\"x\":[50,100,200,400,800,1600,3200],\"y\":[47.88,51.73,57.6,68.65,74.9,91.15,94.81],\"type\":\"scatter\",\"xaxis\":\"x8\",\"yaxis\":\"y8\"},{\"legendgroup\":\"CAPT=random\",\"line\":{\"color\":\"rgb(255, 127, 14)\"},\"mode\":\"lines+markers\",\"name\":\"CAPT=random\",\"showlegend\":false,\"x\":[50,100,200,400,800,1600,3200],\"y\":[52.98,53.08,59.71,65.0,84.23,91.54,94.62],\"type\":\"scatter\",\"xaxis\":\"x8\",\"yaxis\":\"y8\"},{\"legendgroup\":\"CAPT=null\",\"line\":{\"color\":\"rgb(31, 119, 180)\"},\"mode\":\"lines+markers\",\"name\":\"CAPT=null\",\"showlegend\":false,\"x\":[50,100,200,400,800,1600,3200],\"y\":[52.54,50.59,57.81,59.08,73.73,81.64,88.09],\"type\":\"scatter\",\"xaxis\":\"x9\",\"yaxis\":\"y9\"},{\"legendgroup\":\"CAPT=order\",\"line\":{\"color\":\"rgb(44, 160, 44)\"},\"mode\":\"lines+markers\",\"name\":\"CAPT=order\",\"showlegend\":false,\"x\":[50,100,200,400,800,1600,3200],\"y\":[46.88,48.73,52.25,66.31,70.7,84.28,88.96],\"type\":\"scatter\",\"xaxis\":\"x9\",\"yaxis\":\"y9\"},{\"legendgroup\":\"CAPT=random\",\"line\":{\"color\":\"rgb(255, 127, 14)\"},\"mode\":\"lines+markers\",\"name\":\"CAPT=random\",\"showlegend\":false,\"x\":[50,100,200,400,800,1600,3200],\"y\":[51.46,51.95,58.3,62.4,79.88,85.06,88.57],\"type\":\"scatter\",\"xaxis\":\"x9\",\"yaxis\":\"y9\"}],                        {\"template\":{\"data\":{\"histogram2dcontour\":[{\"type\":\"histogram2dcontour\",\"colorbar\":{\"outlinewidth\":0,\"ticks\":\"\"},\"colorscale\":[[0.0,\"#0d0887\"],[0.1111111111111111,\"#46039f\"],[0.2222222222222222,\"#7201a8\"],[0.3333333333333333,\"#9c179e\"],[0.4444444444444444,\"#bd3786\"],[0.5555555555555556,\"#d8576b\"],[0.6666666666666666,\"#ed7953\"],[0.7777777777777778,\"#fb9f3a\"],[0.8888888888888888,\"#fdca26\"],[1.0,\"#f0f921\"]]}],\"choropleth\":[{\"type\":\"choropleth\",\"colorbar\":{\"outlinewidth\":0,\"ticks\":\"\"}}],\"histogram2d\":[{\"type\":\"histogram2d\",\"colorbar\":{\"outlinewidth\":0,\"ticks\":\"\"},\"colorscale\":[[0.0,\"#0d0887\"],[0.1111111111111111,\"#46039f\"],[0.2222222222222222,\"#7201a8\"],[0.3333333333333333,\"#9c179e\"],[0.4444444444444444,\"#bd3786\"],[0.5555555555555556,\"#d8576b\"],[0.6666666666666666,\"#ed7953\"],[0.7777777777777778,\"#fb9f3a\"],[0.8888888888888888,\"#fdca26\"],[1.0,\"#f0f921\"]]}],\"heatmap\":[{\"type\":\"heatmap\",\"colorbar\":{\"outlinewidth\":0,\"ticks\":\"\"},\"colorscale\":[[0.0,\"#0d0887\"],[0.1111111111111111,\"#46039f\"],[0.2222222222222222,\"#7201a8\"],[0.3333333333333333,\"#9c179e\"],[0.4444444444444444,\"#bd3786\"],[0.5555555555555556,\"#d8576b\"],[0.6666666666666666,\"#ed7953\"],[0.7777777777777778,\"#fb9f3a\"],[0.8888888888888888,\"#fdca26\"],[1.0,\"#f0f921\"]]}],\"heatmapgl\":[{\"type\":\"heatmapgl\",\"colorbar\":{\"outlinewidth\":0,\"ticks\":\"\"},\"colorscale\":[[0.0,\"#0d0887\"],[0.1111111111111111,\"#46039f\"],[0.2222222222222222,\"#7201a8\"],[0.3333333333333333,\"#9c179e\"],[0.4444444444444444,\"#bd3786\"],[0.5555555555555556,\"#d8576b\"],[0.6666666666666666,\"#ed7953\"],[0.7777777777777778,\"#fb9f3a\"],[0.8888888888888888,\"#fdca26\"],[1.0,\"#f0f921\"]]}],\"contourcarpet\":[{\"type\":\"contourcarpet\",\"colorbar\":{\"outlinewidth\":0,\"ticks\":\"\"}}],\"contour\":[{\"type\":\"contour\",\"colorbar\":{\"outlinewidth\":0,\"ticks\":\"\"},\"colorscale\":[[0.0,\"#0d0887\"],[0.1111111111111111,\"#46039f\"],[0.2222222222222222,\"#7201a8\"],[0.3333333333333333,\"#9c179e\"],[0.4444444444444444,\"#bd3786\"],[0.5555555555555556,\"#d8576b\"],[0.6666666666666666,\"#ed7953\"],[0.7777777777777778,\"#fb9f3a\"],[0.8888888888888888,\"#fdca26\"],[1.0,\"#f0f921\"]]}],\"surface\":[{\"type\":\"surface\",\"colorbar\":{\"outlinewidth\":0,\"ticks\":\"\"},\"colorscale\":[[0.0,\"#0d0887\"],[0.1111111111111111,\"#46039f\"],[0.2222222222222222,\"#7201a8\"],[0.3333333333333333,\"#9c179e\"],[0.4444444444444444,\"#bd3786\"],[0.5555555555555556,\"#d8576b\"],[0.6666666666666666,\"#ed7953\"],[0.7777777777777778,\"#fb9f3a\"],[0.8888888888888888,\"#fdca26\"],[1.0,\"#f0f921\"]]}],\"mesh3d\":[{\"type\":\"mesh3d\",\"colorbar\":{\"outlinewidth\":0,\"ticks\":\"\"}}],\"scatter\":[{\"fillpattern\":{\"fillmode\":\"overlay\",\"size\":10,\"solidity\":0.2},\"type\":\"scatter\"}],\"parcoords\":[{\"type\":\"parcoords\",\"line\":{\"colorbar\":{\"outlinewidth\":0,\"ticks\":\"\"}}}],\"scatterpolargl\":[{\"type\":\"scatterpolargl\",\"marker\":{\"colorbar\":{\"outlinewidth\":0,\"ticks\":\"\"}}}],\"bar\":[{\"error_x\":{\"color\":\"#2a3f5f\"},\"error_y\":{\"color\":\"#2a3f5f\"},\"marker\":{\"line\":{\"color\":\"#E5ECF6\",\"width\":0.5},\"pattern\":{\"fillmode\":\"overlay\",\"size\":10,\"solidity\":0.2}},\"type\":\"bar\"}],\"scattergeo\":[{\"type\":\"scattergeo\",\"marker\":{\"colorbar\":{\"outlinewidth\":0,\"ticks\":\"\"}}}],\"scatterpolar\":[{\"type\":\"scatterpolar\",\"marker\":{\"colorbar\":{\"outlinewidth\":0,\"ticks\":\"\"}}}],\"histogram\":[{\"marker\":{\"pattern\":{\"fillmode\":\"overlay\",\"size\":10,\"solidity\":0.2}},\"type\":\"histogram\"}],\"scattergl\":[{\"type\":\"scattergl\",\"marker\":{\"colorbar\":{\"outlinewidth\":0,\"ticks\":\"\"}}}],\"scatter3d\":[{\"type\":\"scatter3d\",\"line\":{\"colorbar\":{\"outlinewidth\":0,\"ticks\":\"\"}},\"marker\":{\"colorbar\":{\"outlinewidth\":0,\"ticks\":\"\"}}}],\"scattermapbox\":[{\"type\":\"scattermapbox\",\"marker\":{\"colorbar\":{\"outlinewidth\":0,\"ticks\":\"\"}}}],\"scatterternary\":[{\"type\":\"scatterternary\",\"marker\":{\"colorbar\":{\"outlinewidth\":0,\"ticks\":\"\"}}}],\"scattercarpet\":[{\"type\":\"scattercarpet\",\"marker\":{\"colorbar\":{\"outlinewidth\":0,\"ticks\":\"\"}}}],\"carpet\":[{\"aaxis\":{\"endlinecolor\":\"#2a3f5f\",\"gridcolor\":\"white\",\"linecolor\":\"white\",\"minorgridcolor\":\"white\",\"startlinecolor\":\"#2a3f5f\"},\"baxis\":{\"endlinecolor\":\"#2a3f5f\",\"gridcolor\":\"white\",\"linecolor\":\"white\",\"minorgridcolor\":\"white\",\"startlinecolor\":\"#2a3f5f\"},\"type\":\"carpet\"}],\"table\":[{\"cells\":{\"fill\":{\"color\":\"#EBF0F8\"},\"line\":{\"color\":\"white\"}},\"header\":{\"fill\":{\"color\":\"#C8D4E3\"},\"line\":{\"color\":\"white\"}},\"type\":\"table\"}],\"barpolar\":[{\"marker\":{\"line\":{\"color\":\"#E5ECF6\",\"width\":0.5},\"pattern\":{\"fillmode\":\"overlay\",\"size\":10,\"solidity\":0.2}},\"type\":\"barpolar\"}],\"pie\":[{\"automargin\":true,\"type\":\"pie\"}]},\"layout\":{\"autotypenumbers\":\"strict\",\"colorway\":[\"#636efa\",\"#EF553B\",\"#00cc96\",\"#ab63fa\",\"#FFA15A\",\"#19d3f3\",\"#FF6692\",\"#B6E880\",\"#FF97FF\",\"#FECB52\"],\"font\":{\"color\":\"#2a3f5f\"},\"hovermode\":\"closest\",\"hoverlabel\":{\"align\":\"left\"},\"paper_bgcolor\":\"white\",\"plot_bgcolor\":\"#E5ECF6\",\"polar\":{\"bgcolor\":\"#E5ECF6\",\"angularaxis\":{\"gridcolor\":\"white\",\"linecolor\":\"white\",\"ticks\":\"\"},\"radialaxis\":{\"gridcolor\":\"white\",\"linecolor\":\"white\",\"ticks\":\"\"}},\"ternary\":{\"bgcolor\":\"#E5ECF6\",\"aaxis\":{\"gridcolor\":\"white\",\"linecolor\":\"white\",\"ticks\":\"\"},\"baxis\":{\"gridcolor\":\"white\",\"linecolor\":\"white\",\"ticks\":\"\"},\"caxis\":{\"gridcolor\":\"white\",\"linecolor\":\"white\",\"ticks\":\"\"}},\"coloraxis\":{\"colorbar\":{\"outlinewidth\":0,\"ticks\":\"\"}},\"colorscale\":{\"sequential\":[[0.0,\"#0d0887\"],[0.1111111111111111,\"#46039f\"],[0.2222222222222222,\"#7201a8\"],[0.3333333333333333,\"#9c179e\"],[0.4444444444444444,\"#bd3786\"],[0.5555555555555556,\"#d8576b\"],[0.6666666666666666,\"#ed7953\"],[0.7777777777777778,\"#fb9f3a\"],[0.8888888888888888,\"#fdca26\"],[1.0,\"#f0f921\"]],\"sequentialminus\":[[0.0,\"#0d0887\"],[0.1111111111111111,\"#46039f\"],[0.2222222222222222,\"#7201a8\"],[0.3333333333333333,\"#9c179e\"],[0.4444444444444444,\"#bd3786\"],[0.5555555555555556,\"#d8576b\"],[0.6666666666666666,\"#ed7953\"],[0.7777777777777778,\"#fb9f3a\"],[0.8888888888888888,\"#fdca26\"],[1.0,\"#f0f921\"]],\"diverging\":[[0,\"#8e0152\"],[0.1,\"#c51b7d\"],[0.2,\"#de77ae\"],[0.3,\"#f1b6da\"],[0.4,\"#fde0ef\"],[0.5,\"#f7f7f7\"],[0.6,\"#e6f5d0\"],[0.7,\"#b8e186\"],[0.8,\"#7fbc41\"],[0.9,\"#4d9221\"],[1,\"#276419\"]]},\"xaxis\":{\"gridcolor\":\"white\",\"linecolor\":\"white\",\"ticks\":\"\",\"title\":{\"standoff\":15},\"zerolinecolor\":\"white\",\"automargin\":true,\"zerolinewidth\":2},\"yaxis\":{\"gridcolor\":\"white\",\"linecolor\":\"white\",\"ticks\":\"\",\"title\":{\"standoff\":15},\"zerolinecolor\":\"white\",\"automargin\":true,\"zerolinewidth\":2},\"scene\":{\"xaxis\":{\"backgroundcolor\":\"#E5ECF6\",\"gridcolor\":\"white\",\"linecolor\":\"white\",\"showbackground\":true,\"ticks\":\"\",\"zerolinecolor\":\"white\",\"gridwidth\":2},\"yaxis\":{\"backgroundcolor\":\"#E5ECF6\",\"gridcolor\":\"white\",\"linecolor\":\"white\",\"showbackground\":true,\"ticks\":\"\",\"zerolinecolor\":\"white\",\"gridwidth\":2},\"zaxis\":{\"backgroundcolor\":\"#E5ECF6\",\"gridcolor\":\"white\",\"linecolor\":\"white\",\"showbackground\":true,\"ticks\":\"\",\"zerolinecolor\":\"white\",\"gridwidth\":2}},\"shapedefaults\":{\"line\":{\"color\":\"#2a3f5f\"}},\"annotationdefaults\":{\"arrowcolor\":\"#2a3f5f\",\"arrowhead\":0,\"arrowwidth\":1},\"geo\":{\"bgcolor\":\"white\",\"landcolor\":\"#E5ECF6\",\"subunitcolor\":\"white\",\"showland\":true,\"showlakes\":true,\"lakecolor\":\"white\"},\"title\":{\"x\":0.05},\"mapbox\":{\"style\":\"light\"}}},\"xaxis\":{\"anchor\":\"y\",\"domain\":[0.0,0.3]},\"yaxis\":{\"anchor\":\"x\",\"domain\":[0.7333333333333334,1.0],\"title\":{\"text\":\"Score\"}},\"xaxis2\":{\"anchor\":\"y2\",\"domain\":[0.35,0.6499999999999999]},\"yaxis2\":{\"anchor\":\"x2\",\"domain\":[0.7333333333333334,1.0]},\"xaxis3\":{\"anchor\":\"y3\",\"domain\":[0.7,1.0]},\"yaxis3\":{\"anchor\":\"x3\",\"domain\":[0.7333333333333334,1.0]},\"xaxis4\":{\"anchor\":\"y4\",\"domain\":[0.0,0.3]},\"yaxis4\":{\"anchor\":\"x4\",\"domain\":[0.3666666666666667,0.6333333333333333],\"title\":{\"text\":\"Score\"}},\"xaxis5\":{\"anchor\":\"y5\",\"domain\":[0.35,0.6499999999999999]},\"yaxis5\":{\"anchor\":\"x5\",\"domain\":[0.3666666666666667,0.6333333333333333]},\"xaxis6\":{\"anchor\":\"y6\",\"domain\":[0.7,1.0]},\"yaxis6\":{\"anchor\":\"x6\",\"domain\":[0.3666666666666667,0.6333333333333333]},\"xaxis7\":{\"anchor\":\"y7\",\"domain\":[0.0,0.3],\"title\":{\"text\":\"Number of Epochs\"}},\"yaxis7\":{\"anchor\":\"x7\",\"domain\":[0.0,0.26666666666666666],\"title\":{\"text\":\"Score\"}},\"xaxis8\":{\"anchor\":\"y8\",\"domain\":[0.35,0.6499999999999999],\"title\":{\"text\":\"Number of Epochs\"}},\"yaxis8\":{\"anchor\":\"x8\",\"domain\":[0.0,0.26666666666666666]},\"xaxis9\":{\"anchor\":\"y9\",\"domain\":[0.7,1.0],\"title\":{\"text\":\"Number of Epochs\"}},\"yaxis9\":{\"anchor\":\"x9\",\"domain\":[0.0,0.26666666666666666]},\"annotations\":[{\"font\":{\"size\":16},\"showarrow\":false,\"text\":\"Commonsense - 1% Training\",\"x\":0.15,\"xanchor\":\"center\",\"xref\":\"paper\",\"y\":1.0,\"yanchor\":\"bottom\",\"yref\":\"paper\"},{\"font\":{\"size\":16},\"showarrow\":false,\"text\":\"Anticommonsense - 1% Training\",\"x\":0.49999999999999994,\"xanchor\":\"center\",\"xref\":\"paper\",\"y\":1.0,\"yanchor\":\"bottom\",\"yref\":\"paper\"},{\"font\":{\"size\":16},\"showarrow\":false,\"text\":\"Noncommonsense - 1% Training\",\"x\":0.85,\"xanchor\":\"center\",\"xref\":\"paper\",\"y\":1.0,\"yanchor\":\"bottom\",\"yref\":\"paper\"},{\"font\":{\"size\":16},\"showarrow\":false,\"text\":\"Commonsense - 2% Training\",\"x\":0.15,\"xanchor\":\"center\",\"xref\":\"paper\",\"y\":0.6333333333333333,\"yanchor\":\"bottom\",\"yref\":\"paper\"},{\"font\":{\"size\":16},\"showarrow\":false,\"text\":\"Anticommonsense - 2% Training\",\"x\":0.49999999999999994,\"xanchor\":\"center\",\"xref\":\"paper\",\"y\":0.6333333333333333,\"yanchor\":\"bottom\",\"yref\":\"paper\"},{\"font\":{\"size\":16},\"showarrow\":false,\"text\":\"Noncommonsense - 2% Training\",\"x\":0.85,\"xanchor\":\"center\",\"xref\":\"paper\",\"y\":0.6333333333333333,\"yanchor\":\"bottom\",\"yref\":\"paper\"},{\"font\":{\"size\":16},\"showarrow\":false,\"text\":\"Commonsense - 90% Training\",\"x\":0.15,\"xanchor\":\"center\",\"xref\":\"paper\",\"y\":0.26666666666666666,\"yanchor\":\"bottom\",\"yref\":\"paper\"},{\"font\":{\"size\":16},\"showarrow\":false,\"text\":\"Anticommonsense - 90% Training\",\"x\":0.49999999999999994,\"xanchor\":\"center\",\"xref\":\"paper\",\"y\":0.26666666666666666,\"yanchor\":\"bottom\",\"yref\":\"paper\"},{\"font\":{\"size\":16},\"showarrow\":false,\"text\":\"Noncommonsense - 90% Training\",\"x\":0.85,\"xanchor\":\"center\",\"xref\":\"paper\",\"y\":0.26666666666666666,\"yanchor\":\"bottom\",\"yref\":\"paper\"}],\"title\":{\"text\":\"CLadder Ablation Study\"},\"margin\":{\"t\":50,\"b\":20,\"l\":20,\"r\":20},\"height\":750,\"width\":1200,\"legend\":{\"title\":{\"text\":\"CAPT Setting\"}}},                        {\"responsive\": true}                    ).then(function(){\n",
       "                            \n",
       "var gd = document.getElementById('d1def129-a78c-4f14-b41a-ea03925390f3');\n",
       "var x = new MutationObserver(function (mutations, observer) {{\n",
       "        var display = window.getComputedStyle(gd).display;\n",
       "        if (!display || display === 'none') {{\n",
       "            console.log([gd, 'removed!']);\n",
       "            Plotly.purge(gd);\n",
       "            observer.disconnect();\n",
       "        }}\n",
       "}});\n",
       "\n",
       "// Listen for the removal of the full notebook cells\n",
       "var notebookContainer = gd.closest('#notebook-container');\n",
       "if (notebookContainer) {{\n",
       "    x.observe(notebookContainer, {childList: true});\n",
       "}}\n",
       "\n",
       "// Listen for the clearing of the current output cell\n",
       "var outputEl = gd.closest('.output');\n",
       "if (outputEl) {{\n",
       "    x.observe(outputEl, {childList: true});\n",
       "}}\n",
       "\n",
       "                        })                };                });            </script>        </div>"
      ]
     },
     "metadata": {},
     "output_type": "display_data"
    },
    {
     "name": "stdout",
     "output_type": "stream",
     "text": [
      "[0.00015, 0.0003]\n",
      "Found 336 runs with 3 test datasets\n",
      "Test datasets: ['prontoqa', 'anticommonsense', 'noncommonsense']\n",
      "Training percentages: [0.025, 0.05, 0.1, 0.899]\n",
      "Creating comparison plots for learning rate: 0.00015\n"
     ]
    },
    {
     "data": {
      "application/vnd.plotly.v1+json": {
       "data": [
        {
         "legendgroup": "CAPT=null",
         "line": {
          "color": "rgb(31, 119, 180)"
         },
         "mode": "lines+markers",
         "name": "CAPT=null",
         "showlegend": true,
         "x": [
          50,
          100,
          200,
          400,
          800,
          1600,
          3200
         ],
         "y": [
          96.25,
          98.25,
          97.75,
          98.5,
          96.75,
          99.0,
          99.5
         ],
         "type": "scatter",
         "xaxis": "x",
         "yaxis": "y"
        },
        {
         "legendgroup": "CAPT=order",
         "line": {
          "color": "rgb(44, 160, 44)"
         },
         "mode": "lines+markers",
         "name": "CAPT=order",
         "showlegend": true,
         "x": [
          50,
          100,
          200,
          400,
          800,
          1600,
          3200
         ],
         "y": [
          77.25,
          74.5,
          81.75,
          84.25,
          83.0,
          86.5,
          83.25
         ],
         "type": "scatter",
         "xaxis": "x",
         "yaxis": "y"
        },
        {
         "legendgroup": "CAPT=random",
         "line": {
          "color": "rgb(255, 127, 14)"
         },
         "mode": "lines+markers",
         "name": "CAPT=random",
         "showlegend": true,
         "x": [
          50,
          100,
          200,
          400,
          800,
          1600,
          3200
         ],
         "y": [
          80.0,
          83.75,
          86.75,
          84.75,
          86.25,
          86.75,
          87.5
         ],
         "type": "scatter",
         "xaxis": "x",
         "yaxis": "y"
        },
        {
         "legendgroup": "CAPT=null",
         "line": {
          "color": "rgb(31, 119, 180)"
         },
         "mode": "lines+markers",
         "name": "CAPT=null",
         "showlegend": false,
         "x": [
          50,
          100,
          200,
          400,
          800,
          1600,
          3200
         ],
         "y": [
          71.0,
          74.75,
          75.25,
          74.5,
          71.0,
          73.0,
          70.75
         ],
         "type": "scatter",
         "xaxis": "x2",
         "yaxis": "y2"
        },
        {
         "legendgroup": "CAPT=order",
         "line": {
          "color": "rgb(44, 160, 44)"
         },
         "mode": "lines+markers",
         "name": "CAPT=order",
         "showlegend": false,
         "x": [
          50,
          100,
          200,
          400,
          800,
          1600,
          3200
         ],
         "y": [
          69.75,
          77.0,
          76.5,
          78.5,
          75.5,
          75.0,
          74.75
         ],
         "type": "scatter",
         "xaxis": "x2",
         "yaxis": "y2"
        },
        {
         "legendgroup": "CAPT=random",
         "line": {
          "color": "rgb(255, 127, 14)"
         },
         "mode": "lines+markers",
         "name": "CAPT=random",
         "showlegend": false,
         "x": [
          50,
          100,
          200,
          400,
          800,
          1600,
          3200
         ],
         "y": [
          74.5,
          79.75,
          82.25,
          80.75,
          82.25,
          80.25,
          82.5
         ],
         "type": "scatter",
         "xaxis": "x2",
         "yaxis": "y2"
        },
        {
         "legendgroup": "CAPT=null",
         "line": {
          "color": "rgb(31, 119, 180)"
         },
         "mode": "lines+markers",
         "name": "CAPT=null",
         "showlegend": false,
         "x": [
          50,
          100,
          200,
          400,
          800,
          1600,
          3200
         ],
         "y": [
          81.0,
          82.75,
          82.0,
          80.75,
          78.25,
          79.75,
          79.0
         ],
         "type": "scatter",
         "xaxis": "x3",
         "yaxis": "y3"
        },
        {
         "legendgroup": "CAPT=order",
         "line": {
          "color": "rgb(44, 160, 44)"
         },
         "mode": "lines+markers",
         "name": "CAPT=order",
         "showlegend": false,
         "x": [
          50,
          100,
          200,
          400,
          800,
          1600,
          3200
         ],
         "y": [
          71.25,
          74.5,
          77.5,
          79.75,
          83.0,
          79.75,
          83.0
         ],
         "type": "scatter",
         "xaxis": "x3",
         "yaxis": "y3"
        },
        {
         "legendgroup": "CAPT=random",
         "line": {
          "color": "rgb(255, 127, 14)"
         },
         "mode": "lines+markers",
         "name": "CAPT=random",
         "showlegend": false,
         "x": [
          50,
          100,
          200,
          400,
          800,
          1600,
          3200
         ],
         "y": [
          78.0,
          80.5,
          84.75,
          82.5,
          83.25,
          78.75,
          81.0
         ],
         "type": "scatter",
         "xaxis": "x3",
         "yaxis": "y3"
        },
        {
         "legendgroup": "CAPT=null",
         "line": {
          "color": "rgb(31, 119, 180)"
         },
         "mode": "lines+markers",
         "name": "CAPT=null",
         "showlegend": false,
         "x": [
          50,
          100,
          200,
          400,
          800,
          1600,
          3200
         ],
         "y": [
          97.25,
          98.25,
          98.25,
          100.0,
          99.5,
          99.5,
          100.0
         ],
         "type": "scatter",
         "xaxis": "x4",
         "yaxis": "y4"
        },
        {
         "legendgroup": "CAPT=order",
         "line": {
          "color": "rgb(44, 160, 44)"
         },
         "mode": "lines+markers",
         "name": "CAPT=order",
         "showlegend": false,
         "x": [
          50,
          100,
          200,
          400,
          800,
          1600,
          3200
         ],
         "y": [
          78.0,
          76.75,
          83.5,
          85.75,
          89.5,
          92.75,
          93.25
         ],
         "type": "scatter",
         "xaxis": "x4",
         "yaxis": "y4"
        },
        {
         "legendgroup": "CAPT=random",
         "line": {
          "color": "rgb(255, 127, 14)"
         },
         "mode": "lines+markers",
         "name": "CAPT=random",
         "showlegend": false,
         "x": [
          50,
          100,
          200,
          400,
          800,
          1600,
          3200
         ],
         "y": [
          79.25,
          85.75,
          85.5,
          91.25,
          95.25,
          91.75,
          95.0
         ],
         "type": "scatter",
         "xaxis": "x4",
         "yaxis": "y4"
        },
        {
         "legendgroup": "CAPT=null",
         "line": {
          "color": "rgb(31, 119, 180)"
         },
         "mode": "lines+markers",
         "name": "CAPT=null",
         "showlegend": false,
         "x": [
          50,
          100,
          200,
          400,
          800,
          1600,
          3200
         ],
         "y": [
          70.25,
          73.0,
          73.25,
          76.5,
          69.75,
          72.0,
          75.0
         ],
         "type": "scatter",
         "xaxis": "x5",
         "yaxis": "y5"
        },
        {
         "legendgroup": "CAPT=order",
         "line": {
          "color": "rgb(44, 160, 44)"
         },
         "mode": "lines+markers",
         "name": "CAPT=order",
         "showlegend": false,
         "x": [
          50,
          100,
          200,
          400,
          800,
          1600,
          3200
         ],
         "y": [
          71.5,
          77.5,
          82.0,
          78.5,
          78.75,
          80.25,
          80.75
         ],
         "type": "scatter",
         "xaxis": "x5",
         "yaxis": "y5"
        },
        {
         "legendgroup": "CAPT=random",
         "line": {
          "color": "rgb(255, 127, 14)"
         },
         "mode": "lines+markers",
         "name": "CAPT=random",
         "showlegend": false,
         "x": [
          50,
          100,
          200,
          400,
          800,
          1600,
          3200
         ],
         "y": [
          73.25,
          78.75,
          82.5,
          86.25,
          88.25,
          87.75,
          88.5
         ],
         "type": "scatter",
         "xaxis": "x5",
         "yaxis": "y5"
        },
        {
         "legendgroup": "CAPT=null",
         "line": {
          "color": "rgb(31, 119, 180)"
         },
         "mode": "lines+markers",
         "name": "CAPT=null",
         "showlegend": false,
         "x": [
          50,
          100,
          200,
          400,
          800,
          1600,
          3200
         ],
         "y": [
          83.0,
          81.5,
          85.25,
          84.25,
          82.0,
          82.0,
          80.25
         ],
         "type": "scatter",
         "xaxis": "x6",
         "yaxis": "y6"
        },
        {
         "legendgroup": "CAPT=order",
         "line": {
          "color": "rgb(44, 160, 44)"
         },
         "mode": "lines+markers",
         "name": "CAPT=order",
         "showlegend": false,
         "x": [
          50,
          100,
          200,
          400,
          800,
          1600,
          3200
         ],
         "y": [
          76.75,
          78.5,
          84.0,
          86.5,
          84.0,
          82.0,
          87.75
         ],
         "type": "scatter",
         "xaxis": "x6",
         "yaxis": "y6"
        },
        {
         "legendgroup": "CAPT=random",
         "line": {
          "color": "rgb(255, 127, 14)"
         },
         "mode": "lines+markers",
         "name": "CAPT=random",
         "showlegend": false,
         "x": [
          50,
          100,
          200,
          400,
          800,
          1600,
          3200
         ],
         "y": [
          77.75,
          81.75,
          83.0,
          87.75,
          90.75,
          92.5,
          92.0
         ],
         "type": "scatter",
         "xaxis": "x6",
         "yaxis": "y6"
        },
        {
         "legendgroup": "CAPT=null",
         "line": {
          "color": "rgb(31, 119, 180)"
         },
         "mode": "lines+markers",
         "name": "CAPT=null",
         "showlegend": false,
         "x": [
          50,
          100,
          200,
          400,
          800,
          1600,
          3200
         ],
         "y": [
          96.5,
          98.0,
          100.0,
          100.0,
          100.0,
          100.0,
          100.0
         ],
         "type": "scatter",
         "xaxis": "x7",
         "yaxis": "y7"
        },
        {
         "legendgroup": "CAPT=order",
         "line": {
          "color": "rgb(44, 160, 44)"
         },
         "mode": "lines+markers",
         "name": "CAPT=order",
         "showlegend": false,
         "x": [
          50,
          100,
          200,
          400,
          800,
          1600,
          3200
         ],
         "y": [
          81.0,
          81.25,
          87.75,
          94.5,
          97.25,
          99.25,
          98.5
         ],
         "type": "scatter",
         "xaxis": "x7",
         "yaxis": "y7"
        },
        {
         "legendgroup": "CAPT=random",
         "line": {
          "color": "rgb(255, 127, 14)"
         },
         "mode": "lines+markers",
         "name": "CAPT=random",
         "showlegend": false,
         "x": [
          50,
          100,
          200,
          400,
          800,
          1600,
          3200
         ],
         "y": [
          82.25,
          78.75,
          82.0,
          91.0,
          96.75,
          98.75,
          99.5
         ],
         "type": "scatter",
         "xaxis": "x7",
         "yaxis": "y7"
        },
        {
         "legendgroup": "CAPT=null",
         "line": {
          "color": "rgb(31, 119, 180)"
         },
         "mode": "lines+markers",
         "name": "CAPT=null",
         "showlegend": false,
         "x": [
          50,
          100,
          200,
          400,
          800,
          1600,
          3200
         ],
         "y": [
          64.0,
          69.5,
          74.25,
          75.5,
          70.25,
          71.0,
          74.0
         ],
         "type": "scatter",
         "xaxis": "x8",
         "yaxis": "y8"
        },
        {
         "legendgroup": "CAPT=order",
         "line": {
          "color": "rgb(44, 160, 44)"
         },
         "mode": "lines+markers",
         "name": "CAPT=order",
         "showlegend": false,
         "x": [
          50,
          100,
          200,
          400,
          800,
          1600,
          3200
         ],
         "y": [
          78.25,
          77.75,
          86.0,
          87.75,
          89.0,
          90.25,
          92.0
         ],
         "type": "scatter",
         "xaxis": "x8",
         "yaxis": "y8"
        },
        {
         "legendgroup": "CAPT=random",
         "line": {
          "color": "rgb(255, 127, 14)"
         },
         "mode": "lines+markers",
         "name": "CAPT=random",
         "showlegend": false,
         "x": [
          50,
          100,
          200,
          400,
          800,
          1600,
          3200
         ],
         "y": [
          79.75,
          75.5,
          79.25,
          85.75,
          92.0,
          92.5,
          93.0
         ],
         "type": "scatter",
         "xaxis": "x8",
         "yaxis": "y8"
        },
        {
         "legendgroup": "CAPT=null",
         "line": {
          "color": "rgb(31, 119, 180)"
         },
         "mode": "lines+markers",
         "name": "CAPT=null",
         "showlegend": false,
         "x": [
          50,
          100,
          200,
          400,
          800,
          1600,
          3200
         ],
         "y": [
          81.25,
          81.5,
          84.0,
          84.0,
          86.0,
          87.0,
          83.75
         ],
         "type": "scatter",
         "xaxis": "x9",
         "yaxis": "y9"
        },
        {
         "legendgroup": "CAPT=order",
         "line": {
          "color": "rgb(44, 160, 44)"
         },
         "mode": "lines+markers",
         "name": "CAPT=order",
         "showlegend": false,
         "x": [
          50,
          100,
          200,
          400,
          800,
          1600,
          3200
         ],
         "y": [
          80.25,
          81.0,
          83.0,
          89.25,
          94.25,
          94.5,
          94.75
         ],
         "type": "scatter",
         "xaxis": "x9",
         "yaxis": "y9"
        },
        {
         "legendgroup": "CAPT=random",
         "line": {
          "color": "rgb(255, 127, 14)"
         },
         "mode": "lines+markers",
         "name": "CAPT=random",
         "showlegend": false,
         "x": [
          50,
          100,
          200,
          400,
          800,
          1600,
          3200
         ],
         "y": [
          79.5,
          80.25,
          78.25,
          91.0,
          94.75,
          96.0,
          96.75
         ],
         "type": "scatter",
         "xaxis": "x9",
         "yaxis": "y9"
        }
       ],
       "layout": {
        "template": {
         "data": {
          "histogram2dcontour": [
           {
            "type": "histogram2dcontour",
            "colorbar": {
             "outlinewidth": 0,
             "ticks": ""
            },
            "colorscale": [
             [
              0.0,
              "#0d0887"
             ],
             [
              0.1111111111111111,
              "#46039f"
             ],
             [
              0.2222222222222222,
              "#7201a8"
             ],
             [
              0.3333333333333333,
              "#9c179e"
             ],
             [
              0.4444444444444444,
              "#bd3786"
             ],
             [
              0.5555555555555556,
              "#d8576b"
             ],
             [
              0.6666666666666666,
              "#ed7953"
             ],
             [
              0.7777777777777778,
              "#fb9f3a"
             ],
             [
              0.8888888888888888,
              "#fdca26"
             ],
             [
              1.0,
              "#f0f921"
             ]
            ]
           }
          ],
          "choropleth": [
           {
            "type": "choropleth",
            "colorbar": {
             "outlinewidth": 0,
             "ticks": ""
            }
           }
          ],
          "histogram2d": [
           {
            "type": "histogram2d",
            "colorbar": {
             "outlinewidth": 0,
             "ticks": ""
            },
            "colorscale": [
             [
              0.0,
              "#0d0887"
             ],
             [
              0.1111111111111111,
              "#46039f"
             ],
             [
              0.2222222222222222,
              "#7201a8"
             ],
             [
              0.3333333333333333,
              "#9c179e"
             ],
             [
              0.4444444444444444,
              "#bd3786"
             ],
             [
              0.5555555555555556,
              "#d8576b"
             ],
             [
              0.6666666666666666,
              "#ed7953"
             ],
             [
              0.7777777777777778,
              "#fb9f3a"
             ],
             [
              0.8888888888888888,
              "#fdca26"
             ],
             [
              1.0,
              "#f0f921"
             ]
            ]
           }
          ],
          "heatmap": [
           {
            "type": "heatmap",
            "colorbar": {
             "outlinewidth": 0,
             "ticks": ""
            },
            "colorscale": [
             [
              0.0,
              "#0d0887"
             ],
             [
              0.1111111111111111,
              "#46039f"
             ],
             [
              0.2222222222222222,
              "#7201a8"
             ],
             [
              0.3333333333333333,
              "#9c179e"
             ],
             [
              0.4444444444444444,
              "#bd3786"
             ],
             [
              0.5555555555555556,
              "#d8576b"
             ],
             [
              0.6666666666666666,
              "#ed7953"
             ],
             [
              0.7777777777777778,
              "#fb9f3a"
             ],
             [
              0.8888888888888888,
              "#fdca26"
             ],
             [
              1.0,
              "#f0f921"
             ]
            ]
           }
          ],
          "heatmapgl": [
           {
            "type": "heatmapgl",
            "colorbar": {
             "outlinewidth": 0,
             "ticks": ""
            },
            "colorscale": [
             [
              0.0,
              "#0d0887"
             ],
             [
              0.1111111111111111,
              "#46039f"
             ],
             [
              0.2222222222222222,
              "#7201a8"
             ],
             [
              0.3333333333333333,
              "#9c179e"
             ],
             [
              0.4444444444444444,
              "#bd3786"
             ],
             [
              0.5555555555555556,
              "#d8576b"
             ],
             [
              0.6666666666666666,
              "#ed7953"
             ],
             [
              0.7777777777777778,
              "#fb9f3a"
             ],
             [
              0.8888888888888888,
              "#fdca26"
             ],
             [
              1.0,
              "#f0f921"
             ]
            ]
           }
          ],
          "contourcarpet": [
           {
            "type": "contourcarpet",
            "colorbar": {
             "outlinewidth": 0,
             "ticks": ""
            }
           }
          ],
          "contour": [
           {
            "type": "contour",
            "colorbar": {
             "outlinewidth": 0,
             "ticks": ""
            },
            "colorscale": [
             [
              0.0,
              "#0d0887"
             ],
             [
              0.1111111111111111,
              "#46039f"
             ],
             [
              0.2222222222222222,
              "#7201a8"
             ],
             [
              0.3333333333333333,
              "#9c179e"
             ],
             [
              0.4444444444444444,
              "#bd3786"
             ],
             [
              0.5555555555555556,
              "#d8576b"
             ],
             [
              0.6666666666666666,
              "#ed7953"
             ],
             [
              0.7777777777777778,
              "#fb9f3a"
             ],
             [
              0.8888888888888888,
              "#fdca26"
             ],
             [
              1.0,
              "#f0f921"
             ]
            ]
           }
          ],
          "surface": [
           {
            "type": "surface",
            "colorbar": {
             "outlinewidth": 0,
             "ticks": ""
            },
            "colorscale": [
             [
              0.0,
              "#0d0887"
             ],
             [
              0.1111111111111111,
              "#46039f"
             ],
             [
              0.2222222222222222,
              "#7201a8"
             ],
             [
              0.3333333333333333,
              "#9c179e"
             ],
             [
              0.4444444444444444,
              "#bd3786"
             ],
             [
              0.5555555555555556,
              "#d8576b"
             ],
             [
              0.6666666666666666,
              "#ed7953"
             ],
             [
              0.7777777777777778,
              "#fb9f3a"
             ],
             [
              0.8888888888888888,
              "#fdca26"
             ],
             [
              1.0,
              "#f0f921"
             ]
            ]
           }
          ],
          "mesh3d": [
           {
            "type": "mesh3d",
            "colorbar": {
             "outlinewidth": 0,
             "ticks": ""
            }
           }
          ],
          "scatter": [
           {
            "fillpattern": {
             "fillmode": "overlay",
             "size": 10,
             "solidity": 0.2
            },
            "type": "scatter"
           }
          ],
          "parcoords": [
           {
            "type": "parcoords",
            "line": {
             "colorbar": {
              "outlinewidth": 0,
              "ticks": ""
             }
            }
           }
          ],
          "scatterpolargl": [
           {
            "type": "scatterpolargl",
            "marker": {
             "colorbar": {
              "outlinewidth": 0,
              "ticks": ""
             }
            }
           }
          ],
          "bar": [
           {
            "error_x": {
             "color": "#2a3f5f"
            },
            "error_y": {
             "color": "#2a3f5f"
            },
            "marker": {
             "line": {
              "color": "#E5ECF6",
              "width": 0.5
             },
             "pattern": {
              "fillmode": "overlay",
              "size": 10,
              "solidity": 0.2
             }
            },
            "type": "bar"
           }
          ],
          "scattergeo": [
           {
            "type": "scattergeo",
            "marker": {
             "colorbar": {
              "outlinewidth": 0,
              "ticks": ""
             }
            }
           }
          ],
          "scatterpolar": [
           {
            "type": "scatterpolar",
            "marker": {
             "colorbar": {
              "outlinewidth": 0,
              "ticks": ""
             }
            }
           }
          ],
          "histogram": [
           {
            "marker": {
             "pattern": {
              "fillmode": "overlay",
              "size": 10,
              "solidity": 0.2
             }
            },
            "type": "histogram"
           }
          ],
          "scattergl": [
           {
            "type": "scattergl",
            "marker": {
             "colorbar": {
              "outlinewidth": 0,
              "ticks": ""
             }
            }
           }
          ],
          "scatter3d": [
           {
            "type": "scatter3d",
            "line": {
             "colorbar": {
              "outlinewidth": 0,
              "ticks": ""
             }
            },
            "marker": {
             "colorbar": {
              "outlinewidth": 0,
              "ticks": ""
             }
            }
           }
          ],
          "scattermapbox": [
           {
            "type": "scattermapbox",
            "marker": {
             "colorbar": {
              "outlinewidth": 0,
              "ticks": ""
             }
            }
           }
          ],
          "scatterternary": [
           {
            "type": "scatterternary",
            "marker": {
             "colorbar": {
              "outlinewidth": 0,
              "ticks": ""
             }
            }
           }
          ],
          "scattercarpet": [
           {
            "type": "scattercarpet",
            "marker": {
             "colorbar": {
              "outlinewidth": 0,
              "ticks": ""
             }
            }
           }
          ],
          "carpet": [
           {
            "aaxis": {
             "endlinecolor": "#2a3f5f",
             "gridcolor": "white",
             "linecolor": "white",
             "minorgridcolor": "white",
             "startlinecolor": "#2a3f5f"
            },
            "baxis": {
             "endlinecolor": "#2a3f5f",
             "gridcolor": "white",
             "linecolor": "white",
             "minorgridcolor": "white",
             "startlinecolor": "#2a3f5f"
            },
            "type": "carpet"
           }
          ],
          "table": [
           {
            "cells": {
             "fill": {
              "color": "#EBF0F8"
             },
             "line": {
              "color": "white"
             }
            },
            "header": {
             "fill": {
              "color": "#C8D4E3"
             },
             "line": {
              "color": "white"
             }
            },
            "type": "table"
           }
          ],
          "barpolar": [
           {
            "marker": {
             "line": {
              "color": "#E5ECF6",
              "width": 0.5
             },
             "pattern": {
              "fillmode": "overlay",
              "size": 10,
              "solidity": 0.2
             }
            },
            "type": "barpolar"
           }
          ],
          "pie": [
           {
            "automargin": true,
            "type": "pie"
           }
          ]
         },
         "layout": {
          "autotypenumbers": "strict",
          "colorway": [
           "#636efa",
           "#EF553B",
           "#00cc96",
           "#ab63fa",
           "#FFA15A",
           "#19d3f3",
           "#FF6692",
           "#B6E880",
           "#FF97FF",
           "#FECB52"
          ],
          "font": {
           "color": "#2a3f5f"
          },
          "hovermode": "closest",
          "hoverlabel": {
           "align": "left"
          },
          "paper_bgcolor": "white",
          "plot_bgcolor": "#E5ECF6",
          "polar": {
           "bgcolor": "#E5ECF6",
           "angularaxis": {
            "gridcolor": "white",
            "linecolor": "white",
            "ticks": ""
           },
           "radialaxis": {
            "gridcolor": "white",
            "linecolor": "white",
            "ticks": ""
           }
          },
          "ternary": {
           "bgcolor": "#E5ECF6",
           "aaxis": {
            "gridcolor": "white",
            "linecolor": "white",
            "ticks": ""
           },
           "baxis": {
            "gridcolor": "white",
            "linecolor": "white",
            "ticks": ""
           },
           "caxis": {
            "gridcolor": "white",
            "linecolor": "white",
            "ticks": ""
           }
          },
          "coloraxis": {
           "colorbar": {
            "outlinewidth": 0,
            "ticks": ""
           }
          },
          "colorscale": {
           "sequential": [
            [
             0.0,
             "#0d0887"
            ],
            [
             0.1111111111111111,
             "#46039f"
            ],
            [
             0.2222222222222222,
             "#7201a8"
            ],
            [
             0.3333333333333333,
             "#9c179e"
            ],
            [
             0.4444444444444444,
             "#bd3786"
            ],
            [
             0.5555555555555556,
             "#d8576b"
            ],
            [
             0.6666666666666666,
             "#ed7953"
            ],
            [
             0.7777777777777778,
             "#fb9f3a"
            ],
            [
             0.8888888888888888,
             "#fdca26"
            ],
            [
             1.0,
             "#f0f921"
            ]
           ],
           "sequentialminus": [
            [
             0.0,
             "#0d0887"
            ],
            [
             0.1111111111111111,
             "#46039f"
            ],
            [
             0.2222222222222222,
             "#7201a8"
            ],
            [
             0.3333333333333333,
             "#9c179e"
            ],
            [
             0.4444444444444444,
             "#bd3786"
            ],
            [
             0.5555555555555556,
             "#d8576b"
            ],
            [
             0.6666666666666666,
             "#ed7953"
            ],
            [
             0.7777777777777778,
             "#fb9f3a"
            ],
            [
             0.8888888888888888,
             "#fdca26"
            ],
            [
             1.0,
             "#f0f921"
            ]
           ],
           "diverging": [
            [
             0,
             "#8e0152"
            ],
            [
             0.1,
             "#c51b7d"
            ],
            [
             0.2,
             "#de77ae"
            ],
            [
             0.3,
             "#f1b6da"
            ],
            [
             0.4,
             "#fde0ef"
            ],
            [
             0.5,
             "#f7f7f7"
            ],
            [
             0.6,
             "#e6f5d0"
            ],
            [
             0.7,
             "#b8e186"
            ],
            [
             0.8,
             "#7fbc41"
            ],
            [
             0.9,
             "#4d9221"
            ],
            [
             1,
             "#276419"
            ]
           ]
          },
          "xaxis": {
           "gridcolor": "white",
           "linecolor": "white",
           "ticks": "",
           "title": {
            "standoff": 15
           },
           "zerolinecolor": "white",
           "automargin": true,
           "zerolinewidth": 2
          },
          "yaxis": {
           "gridcolor": "white",
           "linecolor": "white",
           "ticks": "",
           "title": {
            "standoff": 15
           },
           "zerolinecolor": "white",
           "automargin": true,
           "zerolinewidth": 2
          },
          "scene": {
           "xaxis": {
            "backgroundcolor": "#E5ECF6",
            "gridcolor": "white",
            "linecolor": "white",
            "showbackground": true,
            "ticks": "",
            "zerolinecolor": "white",
            "gridwidth": 2
           },
           "yaxis": {
            "backgroundcolor": "#E5ECF6",
            "gridcolor": "white",
            "linecolor": "white",
            "showbackground": true,
            "ticks": "",
            "zerolinecolor": "white",
            "gridwidth": 2
           },
           "zaxis": {
            "backgroundcolor": "#E5ECF6",
            "gridcolor": "white",
            "linecolor": "white",
            "showbackground": true,
            "ticks": "",
            "zerolinecolor": "white",
            "gridwidth": 2
           }
          },
          "shapedefaults": {
           "line": {
            "color": "#2a3f5f"
           }
          },
          "annotationdefaults": {
           "arrowcolor": "#2a3f5f",
           "arrowhead": 0,
           "arrowwidth": 1
          },
          "geo": {
           "bgcolor": "white",
           "landcolor": "#E5ECF6",
           "subunitcolor": "white",
           "showland": true,
           "showlakes": true,
           "lakecolor": "white"
          },
          "title": {
           "x": 0.05
          },
          "mapbox": {
           "style": "light"
          }
         }
        },
        "xaxis": {
         "anchor": "y",
         "domain": [
          0.0,
          0.3
         ]
        },
        "yaxis": {
         "anchor": "x",
         "domain": [
          0.7333333333333334,
          1.0
         ],
         "title": {
          "text": "Score"
         }
        },
        "xaxis2": {
         "anchor": "y2",
         "domain": [
          0.35,
          0.6499999999999999
         ]
        },
        "yaxis2": {
         "anchor": "x2",
         "domain": [
          0.7333333333333334,
          1.0
         ]
        },
        "xaxis3": {
         "anchor": "y3",
         "domain": [
          0.7,
          1.0
         ]
        },
        "yaxis3": {
         "anchor": "x3",
         "domain": [
          0.7333333333333334,
          1.0
         ]
        },
        "xaxis4": {
         "anchor": "y4",
         "domain": [
          0.0,
          0.3
         ]
        },
        "yaxis4": {
         "anchor": "x4",
         "domain": [
          0.3666666666666667,
          0.6333333333333333
         ],
         "title": {
          "text": "Score"
         }
        },
        "xaxis5": {
         "anchor": "y5",
         "domain": [
          0.35,
          0.6499999999999999
         ]
        },
        "yaxis5": {
         "anchor": "x5",
         "domain": [
          0.3666666666666667,
          0.6333333333333333
         ]
        },
        "xaxis6": {
         "anchor": "y6",
         "domain": [
          0.7,
          1.0
         ]
        },
        "yaxis6": {
         "anchor": "x6",
         "domain": [
          0.3666666666666667,
          0.6333333333333333
         ]
        },
        "xaxis7": {
         "anchor": "y7",
         "domain": [
          0.0,
          0.3
         ],
         "title": {
          "text": "Number of Epochs"
         }
        },
        "yaxis7": {
         "anchor": "x7",
         "domain": [
          0.0,
          0.26666666666666666
         ],
         "title": {
          "text": "Score"
         }
        },
        "xaxis8": {
         "anchor": "y8",
         "domain": [
          0.35,
          0.6499999999999999
         ],
         "title": {
          "text": "Number of Epochs"
         }
        },
        "yaxis8": {
         "anchor": "x8",
         "domain": [
          0.0,
          0.26666666666666666
         ]
        },
        "xaxis9": {
         "anchor": "y9",
         "domain": [
          0.7,
          1.0
         ],
         "title": {
          "text": "Number of Epochs"
         }
        },
        "yaxis9": {
         "anchor": "x9",
         "domain": [
          0.0,
          0.26666666666666666
         ]
        },
        "annotations": [
         {
          "font": {
           "size": 16
          },
          "showarrow": false,
          "text": "Commonsense - 2% Training",
          "x": 0.15,
          "xanchor": "center",
          "xref": "paper",
          "y": 1.0,
          "yanchor": "bottom",
          "yref": "paper"
         },
         {
          "font": {
           "size": 16
          },
          "showarrow": false,
          "text": "Anticommonsense - 2% Training",
          "x": 0.49999999999999994,
          "xanchor": "center",
          "xref": "paper",
          "y": 1.0,
          "yanchor": "bottom",
          "yref": "paper"
         },
         {
          "font": {
           "size": 16
          },
          "showarrow": false,
          "text": "Noncommonsense - 2% Training",
          "x": 0.85,
          "xanchor": "center",
          "xref": "paper",
          "y": 1.0,
          "yanchor": "bottom",
          "yref": "paper"
         },
         {
          "font": {
           "size": 16
          },
          "showarrow": false,
          "text": "Commonsense - 5% Training",
          "x": 0.15,
          "xanchor": "center",
          "xref": "paper",
          "y": 0.6333333333333333,
          "yanchor": "bottom",
          "yref": "paper"
         },
         {
          "font": {
           "size": 16
          },
          "showarrow": false,
          "text": "Anticommonsense - 5% Training",
          "x": 0.49999999999999994,
          "xanchor": "center",
          "xref": "paper",
          "y": 0.6333333333333333,
          "yanchor": "bottom",
          "yref": "paper"
         },
         {
          "font": {
           "size": 16
          },
          "showarrow": false,
          "text": "Noncommonsense - 5% Training",
          "x": 0.85,
          "xanchor": "center",
          "xref": "paper",
          "y": 0.6333333333333333,
          "yanchor": "bottom",
          "yref": "paper"
         },
         {
          "font": {
           "size": 16
          },
          "showarrow": false,
          "text": "Commonsense - 90% Training",
          "x": 0.15,
          "xanchor": "center",
          "xref": "paper",
          "y": 0.26666666666666666,
          "yanchor": "bottom",
          "yref": "paper"
         },
         {
          "font": {
           "size": 16
          },
          "showarrow": false,
          "text": "Anticommonsense - 90% Training",
          "x": 0.49999999999999994,
          "xanchor": "center",
          "xref": "paper",
          "y": 0.26666666666666666,
          "yanchor": "bottom",
          "yref": "paper"
         },
         {
          "font": {
           "size": 16
          },
          "showarrow": false,
          "text": "Noncommonsense - 90% Training",
          "x": 0.85,
          "xanchor": "center",
          "xref": "paper",
          "y": 0.26666666666666666,
          "yanchor": "bottom",
          "yref": "paper"
         }
        ],
        "title": {
         "text": "PrOntoQA Ablation Study"
        },
        "margin": {
         "t": 50,
         "b": 20,
         "l": 20,
         "r": 20
        },
        "height": 750,
        "width": 1200,
        "legend": {
         "title": {
          "text": "CAPT Setting"
         }
        }
       },
       "config": {
        "plotlyServerURL": "https://plot.ly"
       }
      },
      "text/html": [
       "<div>                            <div id=\"61951d28-3dc8-4315-a126-4d2a32f68f96\" class=\"plotly-graph-div\" style=\"height:750px; width:1200px;\"></div>            <script type=\"text/javascript\">                require([\"plotly\"], function(Plotly) {                    window.PLOTLYENV=window.PLOTLYENV || {};                                    if (document.getElementById(\"61951d28-3dc8-4315-a126-4d2a32f68f96\")) {                    Plotly.newPlot(                        \"61951d28-3dc8-4315-a126-4d2a32f68f96\",                        [{\"legendgroup\":\"CAPT=null\",\"line\":{\"color\":\"rgb(31, 119, 180)\"},\"mode\":\"lines+markers\",\"name\":\"CAPT=null\",\"showlegend\":true,\"x\":[50,100,200,400,800,1600,3200],\"y\":[96.25,98.25,97.75,98.5,96.75,99.0,99.5],\"type\":\"scatter\",\"xaxis\":\"x\",\"yaxis\":\"y\"},{\"legendgroup\":\"CAPT=order\",\"line\":{\"color\":\"rgb(44, 160, 44)\"},\"mode\":\"lines+markers\",\"name\":\"CAPT=order\",\"showlegend\":true,\"x\":[50,100,200,400,800,1600,3200],\"y\":[77.25,74.5,81.75,84.25,83.0,86.5,83.25],\"type\":\"scatter\",\"xaxis\":\"x\",\"yaxis\":\"y\"},{\"legendgroup\":\"CAPT=random\",\"line\":{\"color\":\"rgb(255, 127, 14)\"},\"mode\":\"lines+markers\",\"name\":\"CAPT=random\",\"showlegend\":true,\"x\":[50,100,200,400,800,1600,3200],\"y\":[80.0,83.75,86.75,84.75,86.25,86.75,87.5],\"type\":\"scatter\",\"xaxis\":\"x\",\"yaxis\":\"y\"},{\"legendgroup\":\"CAPT=null\",\"line\":{\"color\":\"rgb(31, 119, 180)\"},\"mode\":\"lines+markers\",\"name\":\"CAPT=null\",\"showlegend\":false,\"x\":[50,100,200,400,800,1600,3200],\"y\":[71.0,74.75,75.25,74.5,71.0,73.0,70.75],\"type\":\"scatter\",\"xaxis\":\"x2\",\"yaxis\":\"y2\"},{\"legendgroup\":\"CAPT=order\",\"line\":{\"color\":\"rgb(44, 160, 44)\"},\"mode\":\"lines+markers\",\"name\":\"CAPT=order\",\"showlegend\":false,\"x\":[50,100,200,400,800,1600,3200],\"y\":[69.75,77.0,76.5,78.5,75.5,75.0,74.75],\"type\":\"scatter\",\"xaxis\":\"x2\",\"yaxis\":\"y2\"},{\"legendgroup\":\"CAPT=random\",\"line\":{\"color\":\"rgb(255, 127, 14)\"},\"mode\":\"lines+markers\",\"name\":\"CAPT=random\",\"showlegend\":false,\"x\":[50,100,200,400,800,1600,3200],\"y\":[74.5,79.75,82.25,80.75,82.25,80.25,82.5],\"type\":\"scatter\",\"xaxis\":\"x2\",\"yaxis\":\"y2\"},{\"legendgroup\":\"CAPT=null\",\"line\":{\"color\":\"rgb(31, 119, 180)\"},\"mode\":\"lines+markers\",\"name\":\"CAPT=null\",\"showlegend\":false,\"x\":[50,100,200,400,800,1600,3200],\"y\":[81.0,82.75,82.0,80.75,78.25,79.75,79.0],\"type\":\"scatter\",\"xaxis\":\"x3\",\"yaxis\":\"y3\"},{\"legendgroup\":\"CAPT=order\",\"line\":{\"color\":\"rgb(44, 160, 44)\"},\"mode\":\"lines+markers\",\"name\":\"CAPT=order\",\"showlegend\":false,\"x\":[50,100,200,400,800,1600,3200],\"y\":[71.25,74.5,77.5,79.75,83.0,79.75,83.0],\"type\":\"scatter\",\"xaxis\":\"x3\",\"yaxis\":\"y3\"},{\"legendgroup\":\"CAPT=random\",\"line\":{\"color\":\"rgb(255, 127, 14)\"},\"mode\":\"lines+markers\",\"name\":\"CAPT=random\",\"showlegend\":false,\"x\":[50,100,200,400,800,1600,3200],\"y\":[78.0,80.5,84.75,82.5,83.25,78.75,81.0],\"type\":\"scatter\",\"xaxis\":\"x3\",\"yaxis\":\"y3\"},{\"legendgroup\":\"CAPT=null\",\"line\":{\"color\":\"rgb(31, 119, 180)\"},\"mode\":\"lines+markers\",\"name\":\"CAPT=null\",\"showlegend\":false,\"x\":[50,100,200,400,800,1600,3200],\"y\":[97.25,98.25,98.25,100.0,99.5,99.5,100.0],\"type\":\"scatter\",\"xaxis\":\"x4\",\"yaxis\":\"y4\"},{\"legendgroup\":\"CAPT=order\",\"line\":{\"color\":\"rgb(44, 160, 44)\"},\"mode\":\"lines+markers\",\"name\":\"CAPT=order\",\"showlegend\":false,\"x\":[50,100,200,400,800,1600,3200],\"y\":[78.0,76.75,83.5,85.75,89.5,92.75,93.25],\"type\":\"scatter\",\"xaxis\":\"x4\",\"yaxis\":\"y4\"},{\"legendgroup\":\"CAPT=random\",\"line\":{\"color\":\"rgb(255, 127, 14)\"},\"mode\":\"lines+markers\",\"name\":\"CAPT=random\",\"showlegend\":false,\"x\":[50,100,200,400,800,1600,3200],\"y\":[79.25,85.75,85.5,91.25,95.25,91.75,95.0],\"type\":\"scatter\",\"xaxis\":\"x4\",\"yaxis\":\"y4\"},{\"legendgroup\":\"CAPT=null\",\"line\":{\"color\":\"rgb(31, 119, 180)\"},\"mode\":\"lines+markers\",\"name\":\"CAPT=null\",\"showlegend\":false,\"x\":[50,100,200,400,800,1600,3200],\"y\":[70.25,73.0,73.25,76.5,69.75,72.0,75.0],\"type\":\"scatter\",\"xaxis\":\"x5\",\"yaxis\":\"y5\"},{\"legendgroup\":\"CAPT=order\",\"line\":{\"color\":\"rgb(44, 160, 44)\"},\"mode\":\"lines+markers\",\"name\":\"CAPT=order\",\"showlegend\":false,\"x\":[50,100,200,400,800,1600,3200],\"y\":[71.5,77.5,82.0,78.5,78.75,80.25,80.75],\"type\":\"scatter\",\"xaxis\":\"x5\",\"yaxis\":\"y5\"},{\"legendgroup\":\"CAPT=random\",\"line\":{\"color\":\"rgb(255, 127, 14)\"},\"mode\":\"lines+markers\",\"name\":\"CAPT=random\",\"showlegend\":false,\"x\":[50,100,200,400,800,1600,3200],\"y\":[73.25,78.75,82.5,86.25,88.25,87.75,88.5],\"type\":\"scatter\",\"xaxis\":\"x5\",\"yaxis\":\"y5\"},{\"legendgroup\":\"CAPT=null\",\"line\":{\"color\":\"rgb(31, 119, 180)\"},\"mode\":\"lines+markers\",\"name\":\"CAPT=null\",\"showlegend\":false,\"x\":[50,100,200,400,800,1600,3200],\"y\":[83.0,81.5,85.25,84.25,82.0,82.0,80.25],\"type\":\"scatter\",\"xaxis\":\"x6\",\"yaxis\":\"y6\"},{\"legendgroup\":\"CAPT=order\",\"line\":{\"color\":\"rgb(44, 160, 44)\"},\"mode\":\"lines+markers\",\"name\":\"CAPT=order\",\"showlegend\":false,\"x\":[50,100,200,400,800,1600,3200],\"y\":[76.75,78.5,84.0,86.5,84.0,82.0,87.75],\"type\":\"scatter\",\"xaxis\":\"x6\",\"yaxis\":\"y6\"},{\"legendgroup\":\"CAPT=random\",\"line\":{\"color\":\"rgb(255, 127, 14)\"},\"mode\":\"lines+markers\",\"name\":\"CAPT=random\",\"showlegend\":false,\"x\":[50,100,200,400,800,1600,3200],\"y\":[77.75,81.75,83.0,87.75,90.75,92.5,92.0],\"type\":\"scatter\",\"xaxis\":\"x6\",\"yaxis\":\"y6\"},{\"legendgroup\":\"CAPT=null\",\"line\":{\"color\":\"rgb(31, 119, 180)\"},\"mode\":\"lines+markers\",\"name\":\"CAPT=null\",\"showlegend\":false,\"x\":[50,100,200,400,800,1600,3200],\"y\":[96.5,98.0,100.0,100.0,100.0,100.0,100.0],\"type\":\"scatter\",\"xaxis\":\"x7\",\"yaxis\":\"y7\"},{\"legendgroup\":\"CAPT=order\",\"line\":{\"color\":\"rgb(44, 160, 44)\"},\"mode\":\"lines+markers\",\"name\":\"CAPT=order\",\"showlegend\":false,\"x\":[50,100,200,400,800,1600,3200],\"y\":[81.0,81.25,87.75,94.5,97.25,99.25,98.5],\"type\":\"scatter\",\"xaxis\":\"x7\",\"yaxis\":\"y7\"},{\"legendgroup\":\"CAPT=random\",\"line\":{\"color\":\"rgb(255, 127, 14)\"},\"mode\":\"lines+markers\",\"name\":\"CAPT=random\",\"showlegend\":false,\"x\":[50,100,200,400,800,1600,3200],\"y\":[82.25,78.75,82.0,91.0,96.75,98.75,99.5],\"type\":\"scatter\",\"xaxis\":\"x7\",\"yaxis\":\"y7\"},{\"legendgroup\":\"CAPT=null\",\"line\":{\"color\":\"rgb(31, 119, 180)\"},\"mode\":\"lines+markers\",\"name\":\"CAPT=null\",\"showlegend\":false,\"x\":[50,100,200,400,800,1600,3200],\"y\":[64.0,69.5,74.25,75.5,70.25,71.0,74.0],\"type\":\"scatter\",\"xaxis\":\"x8\",\"yaxis\":\"y8\"},{\"legendgroup\":\"CAPT=order\",\"line\":{\"color\":\"rgb(44, 160, 44)\"},\"mode\":\"lines+markers\",\"name\":\"CAPT=order\",\"showlegend\":false,\"x\":[50,100,200,400,800,1600,3200],\"y\":[78.25,77.75,86.0,87.75,89.0,90.25,92.0],\"type\":\"scatter\",\"xaxis\":\"x8\",\"yaxis\":\"y8\"},{\"legendgroup\":\"CAPT=random\",\"line\":{\"color\":\"rgb(255, 127, 14)\"},\"mode\":\"lines+markers\",\"name\":\"CAPT=random\",\"showlegend\":false,\"x\":[50,100,200,400,800,1600,3200],\"y\":[79.75,75.5,79.25,85.75,92.0,92.5,93.0],\"type\":\"scatter\",\"xaxis\":\"x8\",\"yaxis\":\"y8\"},{\"legendgroup\":\"CAPT=null\",\"line\":{\"color\":\"rgb(31, 119, 180)\"},\"mode\":\"lines+markers\",\"name\":\"CAPT=null\",\"showlegend\":false,\"x\":[50,100,200,400,800,1600,3200],\"y\":[81.25,81.5,84.0,84.0,86.0,87.0,83.75],\"type\":\"scatter\",\"xaxis\":\"x9\",\"yaxis\":\"y9\"},{\"legendgroup\":\"CAPT=order\",\"line\":{\"color\":\"rgb(44, 160, 44)\"},\"mode\":\"lines+markers\",\"name\":\"CAPT=order\",\"showlegend\":false,\"x\":[50,100,200,400,800,1600,3200],\"y\":[80.25,81.0,83.0,89.25,94.25,94.5,94.75],\"type\":\"scatter\",\"xaxis\":\"x9\",\"yaxis\":\"y9\"},{\"legendgroup\":\"CAPT=random\",\"line\":{\"color\":\"rgb(255, 127, 14)\"},\"mode\":\"lines+markers\",\"name\":\"CAPT=random\",\"showlegend\":false,\"x\":[50,100,200,400,800,1600,3200],\"y\":[79.5,80.25,78.25,91.0,94.75,96.0,96.75],\"type\":\"scatter\",\"xaxis\":\"x9\",\"yaxis\":\"y9\"}],                        {\"template\":{\"data\":{\"histogram2dcontour\":[{\"type\":\"histogram2dcontour\",\"colorbar\":{\"outlinewidth\":0,\"ticks\":\"\"},\"colorscale\":[[0.0,\"#0d0887\"],[0.1111111111111111,\"#46039f\"],[0.2222222222222222,\"#7201a8\"],[0.3333333333333333,\"#9c179e\"],[0.4444444444444444,\"#bd3786\"],[0.5555555555555556,\"#d8576b\"],[0.6666666666666666,\"#ed7953\"],[0.7777777777777778,\"#fb9f3a\"],[0.8888888888888888,\"#fdca26\"],[1.0,\"#f0f921\"]]}],\"choropleth\":[{\"type\":\"choropleth\",\"colorbar\":{\"outlinewidth\":0,\"ticks\":\"\"}}],\"histogram2d\":[{\"type\":\"histogram2d\",\"colorbar\":{\"outlinewidth\":0,\"ticks\":\"\"},\"colorscale\":[[0.0,\"#0d0887\"],[0.1111111111111111,\"#46039f\"],[0.2222222222222222,\"#7201a8\"],[0.3333333333333333,\"#9c179e\"],[0.4444444444444444,\"#bd3786\"],[0.5555555555555556,\"#d8576b\"],[0.6666666666666666,\"#ed7953\"],[0.7777777777777778,\"#fb9f3a\"],[0.8888888888888888,\"#fdca26\"],[1.0,\"#f0f921\"]]}],\"heatmap\":[{\"type\":\"heatmap\",\"colorbar\":{\"outlinewidth\":0,\"ticks\":\"\"},\"colorscale\":[[0.0,\"#0d0887\"],[0.1111111111111111,\"#46039f\"],[0.2222222222222222,\"#7201a8\"],[0.3333333333333333,\"#9c179e\"],[0.4444444444444444,\"#bd3786\"],[0.5555555555555556,\"#d8576b\"],[0.6666666666666666,\"#ed7953\"],[0.7777777777777778,\"#fb9f3a\"],[0.8888888888888888,\"#fdca26\"],[1.0,\"#f0f921\"]]}],\"heatmapgl\":[{\"type\":\"heatmapgl\",\"colorbar\":{\"outlinewidth\":0,\"ticks\":\"\"},\"colorscale\":[[0.0,\"#0d0887\"],[0.1111111111111111,\"#46039f\"],[0.2222222222222222,\"#7201a8\"],[0.3333333333333333,\"#9c179e\"],[0.4444444444444444,\"#bd3786\"],[0.5555555555555556,\"#d8576b\"],[0.6666666666666666,\"#ed7953\"],[0.7777777777777778,\"#fb9f3a\"],[0.8888888888888888,\"#fdca26\"],[1.0,\"#f0f921\"]]}],\"contourcarpet\":[{\"type\":\"contourcarpet\",\"colorbar\":{\"outlinewidth\":0,\"ticks\":\"\"}}],\"contour\":[{\"type\":\"contour\",\"colorbar\":{\"outlinewidth\":0,\"ticks\":\"\"},\"colorscale\":[[0.0,\"#0d0887\"],[0.1111111111111111,\"#46039f\"],[0.2222222222222222,\"#7201a8\"],[0.3333333333333333,\"#9c179e\"],[0.4444444444444444,\"#bd3786\"],[0.5555555555555556,\"#d8576b\"],[0.6666666666666666,\"#ed7953\"],[0.7777777777777778,\"#fb9f3a\"],[0.8888888888888888,\"#fdca26\"],[1.0,\"#f0f921\"]]}],\"surface\":[{\"type\":\"surface\",\"colorbar\":{\"outlinewidth\":0,\"ticks\":\"\"},\"colorscale\":[[0.0,\"#0d0887\"],[0.1111111111111111,\"#46039f\"],[0.2222222222222222,\"#7201a8\"],[0.3333333333333333,\"#9c179e\"],[0.4444444444444444,\"#bd3786\"],[0.5555555555555556,\"#d8576b\"],[0.6666666666666666,\"#ed7953\"],[0.7777777777777778,\"#fb9f3a\"],[0.8888888888888888,\"#fdca26\"],[1.0,\"#f0f921\"]]}],\"mesh3d\":[{\"type\":\"mesh3d\",\"colorbar\":{\"outlinewidth\":0,\"ticks\":\"\"}}],\"scatter\":[{\"fillpattern\":{\"fillmode\":\"overlay\",\"size\":10,\"solidity\":0.2},\"type\":\"scatter\"}],\"parcoords\":[{\"type\":\"parcoords\",\"line\":{\"colorbar\":{\"outlinewidth\":0,\"ticks\":\"\"}}}],\"scatterpolargl\":[{\"type\":\"scatterpolargl\",\"marker\":{\"colorbar\":{\"outlinewidth\":0,\"ticks\":\"\"}}}],\"bar\":[{\"error_x\":{\"color\":\"#2a3f5f\"},\"error_y\":{\"color\":\"#2a3f5f\"},\"marker\":{\"line\":{\"color\":\"#E5ECF6\",\"width\":0.5},\"pattern\":{\"fillmode\":\"overlay\",\"size\":10,\"solidity\":0.2}},\"type\":\"bar\"}],\"scattergeo\":[{\"type\":\"scattergeo\",\"marker\":{\"colorbar\":{\"outlinewidth\":0,\"ticks\":\"\"}}}],\"scatterpolar\":[{\"type\":\"scatterpolar\",\"marker\":{\"colorbar\":{\"outlinewidth\":0,\"ticks\":\"\"}}}],\"histogram\":[{\"marker\":{\"pattern\":{\"fillmode\":\"overlay\",\"size\":10,\"solidity\":0.2}},\"type\":\"histogram\"}],\"scattergl\":[{\"type\":\"scattergl\",\"marker\":{\"colorbar\":{\"outlinewidth\":0,\"ticks\":\"\"}}}],\"scatter3d\":[{\"type\":\"scatter3d\",\"line\":{\"colorbar\":{\"outlinewidth\":0,\"ticks\":\"\"}},\"marker\":{\"colorbar\":{\"outlinewidth\":0,\"ticks\":\"\"}}}],\"scattermapbox\":[{\"type\":\"scattermapbox\",\"marker\":{\"colorbar\":{\"outlinewidth\":0,\"ticks\":\"\"}}}],\"scatterternary\":[{\"type\":\"scatterternary\",\"marker\":{\"colorbar\":{\"outlinewidth\":0,\"ticks\":\"\"}}}],\"scattercarpet\":[{\"type\":\"scattercarpet\",\"marker\":{\"colorbar\":{\"outlinewidth\":0,\"ticks\":\"\"}}}],\"carpet\":[{\"aaxis\":{\"endlinecolor\":\"#2a3f5f\",\"gridcolor\":\"white\",\"linecolor\":\"white\",\"minorgridcolor\":\"white\",\"startlinecolor\":\"#2a3f5f\"},\"baxis\":{\"endlinecolor\":\"#2a3f5f\",\"gridcolor\":\"white\",\"linecolor\":\"white\",\"minorgridcolor\":\"white\",\"startlinecolor\":\"#2a3f5f\"},\"type\":\"carpet\"}],\"table\":[{\"cells\":{\"fill\":{\"color\":\"#EBF0F8\"},\"line\":{\"color\":\"white\"}},\"header\":{\"fill\":{\"color\":\"#C8D4E3\"},\"line\":{\"color\":\"white\"}},\"type\":\"table\"}],\"barpolar\":[{\"marker\":{\"line\":{\"color\":\"#E5ECF6\",\"width\":0.5},\"pattern\":{\"fillmode\":\"overlay\",\"size\":10,\"solidity\":0.2}},\"type\":\"barpolar\"}],\"pie\":[{\"automargin\":true,\"type\":\"pie\"}]},\"layout\":{\"autotypenumbers\":\"strict\",\"colorway\":[\"#636efa\",\"#EF553B\",\"#00cc96\",\"#ab63fa\",\"#FFA15A\",\"#19d3f3\",\"#FF6692\",\"#B6E880\",\"#FF97FF\",\"#FECB52\"],\"font\":{\"color\":\"#2a3f5f\"},\"hovermode\":\"closest\",\"hoverlabel\":{\"align\":\"left\"},\"paper_bgcolor\":\"white\",\"plot_bgcolor\":\"#E5ECF6\",\"polar\":{\"bgcolor\":\"#E5ECF6\",\"angularaxis\":{\"gridcolor\":\"white\",\"linecolor\":\"white\",\"ticks\":\"\"},\"radialaxis\":{\"gridcolor\":\"white\",\"linecolor\":\"white\",\"ticks\":\"\"}},\"ternary\":{\"bgcolor\":\"#E5ECF6\",\"aaxis\":{\"gridcolor\":\"white\",\"linecolor\":\"white\",\"ticks\":\"\"},\"baxis\":{\"gridcolor\":\"white\",\"linecolor\":\"white\",\"ticks\":\"\"},\"caxis\":{\"gridcolor\":\"white\",\"linecolor\":\"white\",\"ticks\":\"\"}},\"coloraxis\":{\"colorbar\":{\"outlinewidth\":0,\"ticks\":\"\"}},\"colorscale\":{\"sequential\":[[0.0,\"#0d0887\"],[0.1111111111111111,\"#46039f\"],[0.2222222222222222,\"#7201a8\"],[0.3333333333333333,\"#9c179e\"],[0.4444444444444444,\"#bd3786\"],[0.5555555555555556,\"#d8576b\"],[0.6666666666666666,\"#ed7953\"],[0.7777777777777778,\"#fb9f3a\"],[0.8888888888888888,\"#fdca26\"],[1.0,\"#f0f921\"]],\"sequentialminus\":[[0.0,\"#0d0887\"],[0.1111111111111111,\"#46039f\"],[0.2222222222222222,\"#7201a8\"],[0.3333333333333333,\"#9c179e\"],[0.4444444444444444,\"#bd3786\"],[0.5555555555555556,\"#d8576b\"],[0.6666666666666666,\"#ed7953\"],[0.7777777777777778,\"#fb9f3a\"],[0.8888888888888888,\"#fdca26\"],[1.0,\"#f0f921\"]],\"diverging\":[[0,\"#8e0152\"],[0.1,\"#c51b7d\"],[0.2,\"#de77ae\"],[0.3,\"#f1b6da\"],[0.4,\"#fde0ef\"],[0.5,\"#f7f7f7\"],[0.6,\"#e6f5d0\"],[0.7,\"#b8e186\"],[0.8,\"#7fbc41\"],[0.9,\"#4d9221\"],[1,\"#276419\"]]},\"xaxis\":{\"gridcolor\":\"white\",\"linecolor\":\"white\",\"ticks\":\"\",\"title\":{\"standoff\":15},\"zerolinecolor\":\"white\",\"automargin\":true,\"zerolinewidth\":2},\"yaxis\":{\"gridcolor\":\"white\",\"linecolor\":\"white\",\"ticks\":\"\",\"title\":{\"standoff\":15},\"zerolinecolor\":\"white\",\"automargin\":true,\"zerolinewidth\":2},\"scene\":{\"xaxis\":{\"backgroundcolor\":\"#E5ECF6\",\"gridcolor\":\"white\",\"linecolor\":\"white\",\"showbackground\":true,\"ticks\":\"\",\"zerolinecolor\":\"white\",\"gridwidth\":2},\"yaxis\":{\"backgroundcolor\":\"#E5ECF6\",\"gridcolor\":\"white\",\"linecolor\":\"white\",\"showbackground\":true,\"ticks\":\"\",\"zerolinecolor\":\"white\",\"gridwidth\":2},\"zaxis\":{\"backgroundcolor\":\"#E5ECF6\",\"gridcolor\":\"white\",\"linecolor\":\"white\",\"showbackground\":true,\"ticks\":\"\",\"zerolinecolor\":\"white\",\"gridwidth\":2}},\"shapedefaults\":{\"line\":{\"color\":\"#2a3f5f\"}},\"annotationdefaults\":{\"arrowcolor\":\"#2a3f5f\",\"arrowhead\":0,\"arrowwidth\":1},\"geo\":{\"bgcolor\":\"white\",\"landcolor\":\"#E5ECF6\",\"subunitcolor\":\"white\",\"showland\":true,\"showlakes\":true,\"lakecolor\":\"white\"},\"title\":{\"x\":0.05},\"mapbox\":{\"style\":\"light\"}}},\"xaxis\":{\"anchor\":\"y\",\"domain\":[0.0,0.3]},\"yaxis\":{\"anchor\":\"x\",\"domain\":[0.7333333333333334,1.0],\"title\":{\"text\":\"Score\"}},\"xaxis2\":{\"anchor\":\"y2\",\"domain\":[0.35,0.6499999999999999]},\"yaxis2\":{\"anchor\":\"x2\",\"domain\":[0.7333333333333334,1.0]},\"xaxis3\":{\"anchor\":\"y3\",\"domain\":[0.7,1.0]},\"yaxis3\":{\"anchor\":\"x3\",\"domain\":[0.7333333333333334,1.0]},\"xaxis4\":{\"anchor\":\"y4\",\"domain\":[0.0,0.3]},\"yaxis4\":{\"anchor\":\"x4\",\"domain\":[0.3666666666666667,0.6333333333333333],\"title\":{\"text\":\"Score\"}},\"xaxis5\":{\"anchor\":\"y5\",\"domain\":[0.35,0.6499999999999999]},\"yaxis5\":{\"anchor\":\"x5\",\"domain\":[0.3666666666666667,0.6333333333333333]},\"xaxis6\":{\"anchor\":\"y6\",\"domain\":[0.7,1.0]},\"yaxis6\":{\"anchor\":\"x6\",\"domain\":[0.3666666666666667,0.6333333333333333]},\"xaxis7\":{\"anchor\":\"y7\",\"domain\":[0.0,0.3],\"title\":{\"text\":\"Number of Epochs\"}},\"yaxis7\":{\"anchor\":\"x7\",\"domain\":[0.0,0.26666666666666666],\"title\":{\"text\":\"Score\"}},\"xaxis8\":{\"anchor\":\"y8\",\"domain\":[0.35,0.6499999999999999],\"title\":{\"text\":\"Number of Epochs\"}},\"yaxis8\":{\"anchor\":\"x8\",\"domain\":[0.0,0.26666666666666666]},\"xaxis9\":{\"anchor\":\"y9\",\"domain\":[0.7,1.0],\"title\":{\"text\":\"Number of Epochs\"}},\"yaxis9\":{\"anchor\":\"x9\",\"domain\":[0.0,0.26666666666666666]},\"annotations\":[{\"font\":{\"size\":16},\"showarrow\":false,\"text\":\"Commonsense - 2% Training\",\"x\":0.15,\"xanchor\":\"center\",\"xref\":\"paper\",\"y\":1.0,\"yanchor\":\"bottom\",\"yref\":\"paper\"},{\"font\":{\"size\":16},\"showarrow\":false,\"text\":\"Anticommonsense - 2% Training\",\"x\":0.49999999999999994,\"xanchor\":\"center\",\"xref\":\"paper\",\"y\":1.0,\"yanchor\":\"bottom\",\"yref\":\"paper\"},{\"font\":{\"size\":16},\"showarrow\":false,\"text\":\"Noncommonsense - 2% Training\",\"x\":0.85,\"xanchor\":\"center\",\"xref\":\"paper\",\"y\":1.0,\"yanchor\":\"bottom\",\"yref\":\"paper\"},{\"font\":{\"size\":16},\"showarrow\":false,\"text\":\"Commonsense - 5% Training\",\"x\":0.15,\"xanchor\":\"center\",\"xref\":\"paper\",\"y\":0.6333333333333333,\"yanchor\":\"bottom\",\"yref\":\"paper\"},{\"font\":{\"size\":16},\"showarrow\":false,\"text\":\"Anticommonsense - 5% Training\",\"x\":0.49999999999999994,\"xanchor\":\"center\",\"xref\":\"paper\",\"y\":0.6333333333333333,\"yanchor\":\"bottom\",\"yref\":\"paper\"},{\"font\":{\"size\":16},\"showarrow\":false,\"text\":\"Noncommonsense - 5% Training\",\"x\":0.85,\"xanchor\":\"center\",\"xref\":\"paper\",\"y\":0.6333333333333333,\"yanchor\":\"bottom\",\"yref\":\"paper\"},{\"font\":{\"size\":16},\"showarrow\":false,\"text\":\"Commonsense - 90% Training\",\"x\":0.15,\"xanchor\":\"center\",\"xref\":\"paper\",\"y\":0.26666666666666666,\"yanchor\":\"bottom\",\"yref\":\"paper\"},{\"font\":{\"size\":16},\"showarrow\":false,\"text\":\"Anticommonsense - 90% Training\",\"x\":0.49999999999999994,\"xanchor\":\"center\",\"xref\":\"paper\",\"y\":0.26666666666666666,\"yanchor\":\"bottom\",\"yref\":\"paper\"},{\"font\":{\"size\":16},\"showarrow\":false,\"text\":\"Noncommonsense - 90% Training\",\"x\":0.85,\"xanchor\":\"center\",\"xref\":\"paper\",\"y\":0.26666666666666666,\"yanchor\":\"bottom\",\"yref\":\"paper\"}],\"title\":{\"text\":\"PrOntoQA Ablation Study\"},\"margin\":{\"t\":50,\"b\":20,\"l\":20,\"r\":20},\"height\":750,\"width\":1200,\"legend\":{\"title\":{\"text\":\"CAPT Setting\"}}},                        {\"responsive\": true}                    ).then(function(){\n",
       "                            \n",
       "var gd = document.getElementById('61951d28-3dc8-4315-a126-4d2a32f68f96');\n",
       "var x = new MutationObserver(function (mutations, observer) {{\n",
       "        var display = window.getComputedStyle(gd).display;\n",
       "        if (!display || display === 'none') {{\n",
       "            console.log([gd, 'removed!']);\n",
       "            Plotly.purge(gd);\n",
       "            observer.disconnect();\n",
       "        }}\n",
       "}});\n",
       "\n",
       "// Listen for the removal of the full notebook cells\n",
       "var notebookContainer = gd.closest('#notebook-container');\n",
       "if (notebookContainer) {{\n",
       "    x.observe(notebookContainer, {childList: true});\n",
       "}}\n",
       "\n",
       "// Listen for the clearing of the current output cell\n",
       "var outputEl = gd.closest('.output');\n",
       "if (outputEl) {{\n",
       "    x.observe(outputEl, {childList: true});\n",
       "}}\n",
       "\n",
       "                        })                };                });            </script>        </div>"
      ]
     },
     "metadata": {},
     "output_type": "display_data"
    },
    {
     "name": "stdout",
     "output_type": "stream",
     "text": [
      "Creating comparison plots for learning rate: 0.0003\n"
     ]
    },
    {
     "data": {
      "application/vnd.plotly.v1+json": {
       "data": [
        {
         "legendgroup": "CAPT=null",
         "line": {
          "color": "rgb(31, 119, 180)"
         },
         "mode": "lines+markers",
         "name": "CAPT=null",
         "showlegend": true,
         "x": [
          50,
          100,
          200,
          400,
          800,
          1600,
          3200
         ],
         "y": [
          97.75,
          99.0,
          98.25,
          96.75,
          98.5,
          98.0,
          98.75
         ],
         "type": "scatter",
         "xaxis": "x",
         "yaxis": "y"
        },
        {
         "legendgroup": "CAPT=order",
         "line": {
          "color": "rgb(44, 160, 44)"
         },
         "mode": "lines+markers",
         "name": "CAPT=order",
         "showlegend": true,
         "x": [
          50,
          100,
          200,
          400,
          800,
          1600,
          3200
         ],
         "y": [
          75.25,
          79.0,
          76.5,
          81.75,
          81.0,
          77.75,
          81.5
         ],
         "type": "scatter",
         "xaxis": "x",
         "yaxis": "y"
        },
        {
         "legendgroup": "CAPT=random",
         "line": {
          "color": "rgb(255, 127, 14)"
         },
         "mode": "lines+markers",
         "name": "CAPT=random",
         "showlegend": true,
         "x": [
          50,
          100,
          200,
          400,
          800,
          1600,
          3200
         ],
         "y": [
          78.0,
          84.25,
          86.0,
          87.75,
          88.75,
          87.0,
          81.75
         ],
         "type": "scatter",
         "xaxis": "x",
         "yaxis": "y"
        },
        {
         "legendgroup": "CAPT=null",
         "line": {
          "color": "rgb(31, 119, 180)"
         },
         "mode": "lines+markers",
         "name": "CAPT=null",
         "showlegend": false,
         "x": [
          50,
          100,
          200,
          400,
          800,
          1600,
          3200
         ],
         "y": [
          70.5,
          72.5,
          73.75,
          72.75,
          70.0,
          73.0,
          67.5
         ],
         "type": "scatter",
         "xaxis": "x2",
         "yaxis": "y2"
        },
        {
         "legendgroup": "CAPT=order",
         "line": {
          "color": "rgb(44, 160, 44)"
         },
         "mode": "lines+markers",
         "name": "CAPT=order",
         "showlegend": false,
         "x": [
          50,
          100,
          200,
          400,
          800,
          1600,
          3200
         ],
         "y": [
          71.25,
          73.0,
          74.5,
          80.5,
          70.0,
          71.0,
          74.25
         ],
         "type": "scatter",
         "xaxis": "x2",
         "yaxis": "y2"
        },
        {
         "legendgroup": "CAPT=random",
         "line": {
          "color": "rgb(255, 127, 14)"
         },
         "mode": "lines+markers",
         "name": "CAPT=random",
         "showlegend": false,
         "x": [
          50,
          100,
          200,
          400,
          800,
          1600,
          3200
         ],
         "y": [
          71.75,
          75.25,
          79.5,
          83.5,
          80.75,
          81.0,
          79.75
         ],
         "type": "scatter",
         "xaxis": "x2",
         "yaxis": "y2"
        },
        {
         "legendgroup": "CAPT=null",
         "line": {
          "color": "rgb(31, 119, 180)"
         },
         "mode": "lines+markers",
         "name": "CAPT=null",
         "showlegend": false,
         "x": [
          50,
          100,
          200,
          400,
          800,
          1600,
          3200
         ],
         "y": [
          79.25,
          83.75,
          83.75,
          79.0,
          74.0,
          80.5,
          75.5
         ],
         "type": "scatter",
         "xaxis": "x3",
         "yaxis": "y3"
        },
        {
         "legendgroup": "CAPT=order",
         "line": {
          "color": "rgb(44, 160, 44)"
         },
         "mode": "lines+markers",
         "name": "CAPT=order",
         "showlegend": false,
         "x": [
          50,
          100,
          200,
          400,
          800,
          1600,
          3200
         ],
         "y": [
          75.25,
          73.5,
          73.5,
          78.5,
          73.25,
          73.25,
          76.25
         ],
         "type": "scatter",
         "xaxis": "x3",
         "yaxis": "y3"
        },
        {
         "legendgroup": "CAPT=random",
         "line": {
          "color": "rgb(255, 127, 14)"
         },
         "mode": "lines+markers",
         "name": "CAPT=random",
         "showlegend": false,
         "x": [
          50,
          100,
          200,
          400,
          800,
          1600,
          3200
         ],
         "y": [
          73.75,
          80.25,
          81.75,
          83.0,
          81.25,
          82.75,
          74.75
         ],
         "type": "scatter",
         "xaxis": "x3",
         "yaxis": "y3"
        },
        {
         "legendgroup": "CAPT=null",
         "line": {
          "color": "rgb(31, 119, 180)"
         },
         "mode": "lines+markers",
         "name": "CAPT=null",
         "showlegend": false,
         "x": [
          50,
          100,
          200,
          400,
          800,
          1600,
          3200
         ],
         "y": [
          96.5,
          97.0,
          99.75,
          99.75,
          100.0,
          100.0,
          100.0
         ],
         "type": "scatter",
         "xaxis": "x4",
         "yaxis": "y4"
        },
        {
         "legendgroup": "CAPT=order",
         "line": {
          "color": "rgb(44, 160, 44)"
         },
         "mode": "lines+markers",
         "name": "CAPT=order",
         "showlegend": false,
         "x": [
          50,
          100,
          200,
          400,
          800,
          1600,
          3200
         ],
         "y": [
          79.5,
          84.75,
          84.0,
          87.5,
          90.5,
          89.75,
          90.75
         ],
         "type": "scatter",
         "xaxis": "x4",
         "yaxis": "y4"
        },
        {
         "legendgroup": "CAPT=random",
         "line": {
          "color": "rgb(255, 127, 14)"
         },
         "mode": "lines+markers",
         "name": "CAPT=random",
         "showlegend": false,
         "x": [
          50,
          100,
          200,
          400,
          800,
          1600,
          3200
         ],
         "y": [
          74.75,
          85.5,
          82.25,
          92.75,
          93.5,
          93.75,
          94.5
         ],
         "type": "scatter",
         "xaxis": "x4",
         "yaxis": "y4"
        },
        {
         "legendgroup": "CAPT=null",
         "line": {
          "color": "rgb(31, 119, 180)"
         },
         "mode": "lines+markers",
         "name": "CAPT=null",
         "showlegend": false,
         "x": [
          50,
          100,
          200,
          400,
          800,
          1600,
          3200
         ],
         "y": [
          66.0,
          69.75,
          73.75,
          70.5,
          76.25,
          69.25,
          67.0
         ],
         "type": "scatter",
         "xaxis": "x5",
         "yaxis": "y5"
        },
        {
         "legendgroup": "CAPT=order",
         "line": {
          "color": "rgb(44, 160, 44)"
         },
         "mode": "lines+markers",
         "name": "CAPT=order",
         "showlegend": false,
         "x": [
          50,
          100,
          200,
          400,
          800,
          1600,
          3200
         ],
         "y": [
          71.0,
          79.25,
          79.0,
          81.0,
          81.75,
          80.5,
          80.25
         ],
         "type": "scatter",
         "xaxis": "x5",
         "yaxis": "y5"
        },
        {
         "legendgroup": "CAPT=random",
         "line": {
          "color": "rgb(255, 127, 14)"
         },
         "mode": "lines+markers",
         "name": "CAPT=random",
         "showlegend": false,
         "x": [
          50,
          100,
          200,
          400,
          800,
          1600,
          3200
         ],
         "y": [
          72.75,
          79.5,
          83.5,
          87.25,
          88.0,
          84.75,
          84.75
         ],
         "type": "scatter",
         "xaxis": "x5",
         "yaxis": "y5"
        },
        {
         "legendgroup": "CAPT=null",
         "line": {
          "color": "rgb(31, 119, 180)"
         },
         "mode": "lines+markers",
         "name": "CAPT=null",
         "showlegend": false,
         "x": [
          50,
          100,
          200,
          400,
          800,
          1600,
          3200
         ],
         "y": [
          80.0,
          81.5,
          85.5,
          79.5,
          77.5,
          76.75,
          73.25
         ],
         "type": "scatter",
         "xaxis": "x6",
         "yaxis": "y6"
        },
        {
         "legendgroup": "CAPT=order",
         "line": {
          "color": "rgb(44, 160, 44)"
         },
         "mode": "lines+markers",
         "name": "CAPT=order",
         "showlegend": false,
         "x": [
          50,
          100,
          200,
          400,
          800,
          1600,
          3200
         ],
         "y": [
          73.75,
          80.75,
          81.0,
          83.5,
          84.25,
          81.5,
          85.75
         ],
         "type": "scatter",
         "xaxis": "x6",
         "yaxis": "y6"
        },
        {
         "legendgroup": "CAPT=random",
         "line": {
          "color": "rgb(255, 127, 14)"
         },
         "mode": "lines+markers",
         "name": "CAPT=random",
         "showlegend": false,
         "x": [
          50,
          100,
          200,
          400,
          800,
          1600,
          3200
         ],
         "y": [
          74.25,
          79.75,
          81.5,
          90.75,
          89.0,
          87.75,
          87.0
         ],
         "type": "scatter",
         "xaxis": "x6",
         "yaxis": "y6"
        },
        {
         "legendgroup": "CAPT=null",
         "line": {
          "color": "rgb(31, 119, 180)"
         },
         "mode": "lines+markers",
         "name": "CAPT=null",
         "showlegend": false,
         "x": [
          50,
          100,
          200,
          400,
          800,
          1600,
          3200
         ],
         "y": [
          97.0,
          97.75,
          99.0,
          100.0,
          100.0,
          100.0,
          100.0
         ],
         "type": "scatter",
         "xaxis": "x7",
         "yaxis": "y7"
        },
        {
         "legendgroup": "CAPT=order",
         "line": {
          "color": "rgb(44, 160, 44)"
         },
         "mode": "lines+markers",
         "name": "CAPT=order",
         "showlegend": false,
         "x": [
          50,
          100,
          200,
          400,
          800,
          1600,
          3200
         ],
         "y": [
          79.5,
          88.25,
          86.75,
          97.75,
          98.25,
          98.5,
          99.75
         ],
         "type": "scatter",
         "xaxis": "x7",
         "yaxis": "y7"
        },
        {
         "legendgroup": "CAPT=random",
         "line": {
          "color": "rgb(255, 127, 14)"
         },
         "mode": "lines+markers",
         "name": "CAPT=random",
         "showlegend": false,
         "x": [
          50,
          100,
          200,
          400,
          800,
          1600,
          3200
         ],
         "y": [
          79.0,
          84.25,
          81.25,
          95.0,
          98.25,
          99.0,
          99.25
         ],
         "type": "scatter",
         "xaxis": "x7",
         "yaxis": "y7"
        },
        {
         "legendgroup": "CAPT=null",
         "line": {
          "color": "rgb(31, 119, 180)"
         },
         "mode": "lines+markers",
         "name": "CAPT=null",
         "showlegend": false,
         "x": [
          50,
          100,
          200,
          400,
          800,
          1600,
          3200
         ],
         "y": [
          66.5,
          72.75,
          69.0,
          76.25,
          77.5,
          69.5,
          68.25
         ],
         "type": "scatter",
         "xaxis": "x8",
         "yaxis": "y8"
        },
        {
         "legendgroup": "CAPT=order",
         "line": {
          "color": "rgb(44, 160, 44)"
         },
         "mode": "lines+markers",
         "name": "CAPT=order",
         "showlegend": false,
         "x": [
          50,
          100,
          200,
          400,
          800,
          1600,
          3200
         ],
         "y": [
          76.0,
          77.75,
          83.5,
          90.0,
          86.5,
          89.0,
          91.75
         ],
         "type": "scatter",
         "xaxis": "x8",
         "yaxis": "y8"
        },
        {
         "legendgroup": "CAPT=random",
         "line": {
          "color": "rgb(255, 127, 14)"
         },
         "mode": "lines+markers",
         "name": "CAPT=random",
         "showlegend": false,
         "x": [
          50,
          100,
          200,
          400,
          800,
          1600,
          3200
         ],
         "y": [
          71.75,
          78.0,
          81.0,
          89.25,
          90.0,
          93.75,
          92.25
         ],
         "type": "scatter",
         "xaxis": "x8",
         "yaxis": "y8"
        },
        {
         "legendgroup": "CAPT=null",
         "line": {
          "color": "rgb(31, 119, 180)"
         },
         "mode": "lines+markers",
         "name": "CAPT=null",
         "showlegend": false,
         "x": [
          50,
          100,
          200,
          400,
          800,
          1600,
          3200
         ],
         "y": [
          81.25,
          84.25,
          80.75,
          82.25,
          85.0,
          74.25,
          74.75
         ],
         "type": "scatter",
         "xaxis": "x9",
         "yaxis": "y9"
        },
        {
         "legendgroup": "CAPT=order",
         "line": {
          "color": "rgb(44, 160, 44)"
         },
         "mode": "lines+markers",
         "name": "CAPT=order",
         "showlegend": false,
         "x": [
          50,
          100,
          200,
          400,
          800,
          1600,
          3200
         ],
         "y": [
          75.25,
          83.25,
          84.25,
          92.75,
          94.25,
          93.5,
          94.5
         ],
         "type": "scatter",
         "xaxis": "x9",
         "yaxis": "y9"
        },
        {
         "legendgroup": "CAPT=random",
         "line": {
          "color": "rgb(255, 127, 14)"
         },
         "mode": "lines+markers",
         "name": "CAPT=random",
         "showlegend": false,
         "x": [
          50,
          100,
          200,
          400,
          800,
          1600,
          3200
         ],
         "y": [
          77.5,
          80.75,
          82.25,
          91.25,
          94.5,
          96.5,
          96.25
         ],
         "type": "scatter",
         "xaxis": "x9",
         "yaxis": "y9"
        }
       ],
       "layout": {
        "template": {
         "data": {
          "histogram2dcontour": [
           {
            "type": "histogram2dcontour",
            "colorbar": {
             "outlinewidth": 0,
             "ticks": ""
            },
            "colorscale": [
             [
              0.0,
              "#0d0887"
             ],
             [
              0.1111111111111111,
              "#46039f"
             ],
             [
              0.2222222222222222,
              "#7201a8"
             ],
             [
              0.3333333333333333,
              "#9c179e"
             ],
             [
              0.4444444444444444,
              "#bd3786"
             ],
             [
              0.5555555555555556,
              "#d8576b"
             ],
             [
              0.6666666666666666,
              "#ed7953"
             ],
             [
              0.7777777777777778,
              "#fb9f3a"
             ],
             [
              0.8888888888888888,
              "#fdca26"
             ],
             [
              1.0,
              "#f0f921"
             ]
            ]
           }
          ],
          "choropleth": [
           {
            "type": "choropleth",
            "colorbar": {
             "outlinewidth": 0,
             "ticks": ""
            }
           }
          ],
          "histogram2d": [
           {
            "type": "histogram2d",
            "colorbar": {
             "outlinewidth": 0,
             "ticks": ""
            },
            "colorscale": [
             [
              0.0,
              "#0d0887"
             ],
             [
              0.1111111111111111,
              "#46039f"
             ],
             [
              0.2222222222222222,
              "#7201a8"
             ],
             [
              0.3333333333333333,
              "#9c179e"
             ],
             [
              0.4444444444444444,
              "#bd3786"
             ],
             [
              0.5555555555555556,
              "#d8576b"
             ],
             [
              0.6666666666666666,
              "#ed7953"
             ],
             [
              0.7777777777777778,
              "#fb9f3a"
             ],
             [
              0.8888888888888888,
              "#fdca26"
             ],
             [
              1.0,
              "#f0f921"
             ]
            ]
           }
          ],
          "heatmap": [
           {
            "type": "heatmap",
            "colorbar": {
             "outlinewidth": 0,
             "ticks": ""
            },
            "colorscale": [
             [
              0.0,
              "#0d0887"
             ],
             [
              0.1111111111111111,
              "#46039f"
             ],
             [
              0.2222222222222222,
              "#7201a8"
             ],
             [
              0.3333333333333333,
              "#9c179e"
             ],
             [
              0.4444444444444444,
              "#bd3786"
             ],
             [
              0.5555555555555556,
              "#d8576b"
             ],
             [
              0.6666666666666666,
              "#ed7953"
             ],
             [
              0.7777777777777778,
              "#fb9f3a"
             ],
             [
              0.8888888888888888,
              "#fdca26"
             ],
             [
              1.0,
              "#f0f921"
             ]
            ]
           }
          ],
          "heatmapgl": [
           {
            "type": "heatmapgl",
            "colorbar": {
             "outlinewidth": 0,
             "ticks": ""
            },
            "colorscale": [
             [
              0.0,
              "#0d0887"
             ],
             [
              0.1111111111111111,
              "#46039f"
             ],
             [
              0.2222222222222222,
              "#7201a8"
             ],
             [
              0.3333333333333333,
              "#9c179e"
             ],
             [
              0.4444444444444444,
              "#bd3786"
             ],
             [
              0.5555555555555556,
              "#d8576b"
             ],
             [
              0.6666666666666666,
              "#ed7953"
             ],
             [
              0.7777777777777778,
              "#fb9f3a"
             ],
             [
              0.8888888888888888,
              "#fdca26"
             ],
             [
              1.0,
              "#f0f921"
             ]
            ]
           }
          ],
          "contourcarpet": [
           {
            "type": "contourcarpet",
            "colorbar": {
             "outlinewidth": 0,
             "ticks": ""
            }
           }
          ],
          "contour": [
           {
            "type": "contour",
            "colorbar": {
             "outlinewidth": 0,
             "ticks": ""
            },
            "colorscale": [
             [
              0.0,
              "#0d0887"
             ],
             [
              0.1111111111111111,
              "#46039f"
             ],
             [
              0.2222222222222222,
              "#7201a8"
             ],
             [
              0.3333333333333333,
              "#9c179e"
             ],
             [
              0.4444444444444444,
              "#bd3786"
             ],
             [
              0.5555555555555556,
              "#d8576b"
             ],
             [
              0.6666666666666666,
              "#ed7953"
             ],
             [
              0.7777777777777778,
              "#fb9f3a"
             ],
             [
              0.8888888888888888,
              "#fdca26"
             ],
             [
              1.0,
              "#f0f921"
             ]
            ]
           }
          ],
          "surface": [
           {
            "type": "surface",
            "colorbar": {
             "outlinewidth": 0,
             "ticks": ""
            },
            "colorscale": [
             [
              0.0,
              "#0d0887"
             ],
             [
              0.1111111111111111,
              "#46039f"
             ],
             [
              0.2222222222222222,
              "#7201a8"
             ],
             [
              0.3333333333333333,
              "#9c179e"
             ],
             [
              0.4444444444444444,
              "#bd3786"
             ],
             [
              0.5555555555555556,
              "#d8576b"
             ],
             [
              0.6666666666666666,
              "#ed7953"
             ],
             [
              0.7777777777777778,
              "#fb9f3a"
             ],
             [
              0.8888888888888888,
              "#fdca26"
             ],
             [
              1.0,
              "#f0f921"
             ]
            ]
           }
          ],
          "mesh3d": [
           {
            "type": "mesh3d",
            "colorbar": {
             "outlinewidth": 0,
             "ticks": ""
            }
           }
          ],
          "scatter": [
           {
            "fillpattern": {
             "fillmode": "overlay",
             "size": 10,
             "solidity": 0.2
            },
            "type": "scatter"
           }
          ],
          "parcoords": [
           {
            "type": "parcoords",
            "line": {
             "colorbar": {
              "outlinewidth": 0,
              "ticks": ""
             }
            }
           }
          ],
          "scatterpolargl": [
           {
            "type": "scatterpolargl",
            "marker": {
             "colorbar": {
              "outlinewidth": 0,
              "ticks": ""
             }
            }
           }
          ],
          "bar": [
           {
            "error_x": {
             "color": "#2a3f5f"
            },
            "error_y": {
             "color": "#2a3f5f"
            },
            "marker": {
             "line": {
              "color": "#E5ECF6",
              "width": 0.5
             },
             "pattern": {
              "fillmode": "overlay",
              "size": 10,
              "solidity": 0.2
             }
            },
            "type": "bar"
           }
          ],
          "scattergeo": [
           {
            "type": "scattergeo",
            "marker": {
             "colorbar": {
              "outlinewidth": 0,
              "ticks": ""
             }
            }
           }
          ],
          "scatterpolar": [
           {
            "type": "scatterpolar",
            "marker": {
             "colorbar": {
              "outlinewidth": 0,
              "ticks": ""
             }
            }
           }
          ],
          "histogram": [
           {
            "marker": {
             "pattern": {
              "fillmode": "overlay",
              "size": 10,
              "solidity": 0.2
             }
            },
            "type": "histogram"
           }
          ],
          "scattergl": [
           {
            "type": "scattergl",
            "marker": {
             "colorbar": {
              "outlinewidth": 0,
              "ticks": ""
             }
            }
           }
          ],
          "scatter3d": [
           {
            "type": "scatter3d",
            "line": {
             "colorbar": {
              "outlinewidth": 0,
              "ticks": ""
             }
            },
            "marker": {
             "colorbar": {
              "outlinewidth": 0,
              "ticks": ""
             }
            }
           }
          ],
          "scattermapbox": [
           {
            "type": "scattermapbox",
            "marker": {
             "colorbar": {
              "outlinewidth": 0,
              "ticks": ""
             }
            }
           }
          ],
          "scatterternary": [
           {
            "type": "scatterternary",
            "marker": {
             "colorbar": {
              "outlinewidth": 0,
              "ticks": ""
             }
            }
           }
          ],
          "scattercarpet": [
           {
            "type": "scattercarpet",
            "marker": {
             "colorbar": {
              "outlinewidth": 0,
              "ticks": ""
             }
            }
           }
          ],
          "carpet": [
           {
            "aaxis": {
             "endlinecolor": "#2a3f5f",
             "gridcolor": "white",
             "linecolor": "white",
             "minorgridcolor": "white",
             "startlinecolor": "#2a3f5f"
            },
            "baxis": {
             "endlinecolor": "#2a3f5f",
             "gridcolor": "white",
             "linecolor": "white",
             "minorgridcolor": "white",
             "startlinecolor": "#2a3f5f"
            },
            "type": "carpet"
           }
          ],
          "table": [
           {
            "cells": {
             "fill": {
              "color": "#EBF0F8"
             },
             "line": {
              "color": "white"
             }
            },
            "header": {
             "fill": {
              "color": "#C8D4E3"
             },
             "line": {
              "color": "white"
             }
            },
            "type": "table"
           }
          ],
          "barpolar": [
           {
            "marker": {
             "line": {
              "color": "#E5ECF6",
              "width": 0.5
             },
             "pattern": {
              "fillmode": "overlay",
              "size": 10,
              "solidity": 0.2
             }
            },
            "type": "barpolar"
           }
          ],
          "pie": [
           {
            "automargin": true,
            "type": "pie"
           }
          ]
         },
         "layout": {
          "autotypenumbers": "strict",
          "colorway": [
           "#636efa",
           "#EF553B",
           "#00cc96",
           "#ab63fa",
           "#FFA15A",
           "#19d3f3",
           "#FF6692",
           "#B6E880",
           "#FF97FF",
           "#FECB52"
          ],
          "font": {
           "color": "#2a3f5f"
          },
          "hovermode": "closest",
          "hoverlabel": {
           "align": "left"
          },
          "paper_bgcolor": "white",
          "plot_bgcolor": "#E5ECF6",
          "polar": {
           "bgcolor": "#E5ECF6",
           "angularaxis": {
            "gridcolor": "white",
            "linecolor": "white",
            "ticks": ""
           },
           "radialaxis": {
            "gridcolor": "white",
            "linecolor": "white",
            "ticks": ""
           }
          },
          "ternary": {
           "bgcolor": "#E5ECF6",
           "aaxis": {
            "gridcolor": "white",
            "linecolor": "white",
            "ticks": ""
           },
           "baxis": {
            "gridcolor": "white",
            "linecolor": "white",
            "ticks": ""
           },
           "caxis": {
            "gridcolor": "white",
            "linecolor": "white",
            "ticks": ""
           }
          },
          "coloraxis": {
           "colorbar": {
            "outlinewidth": 0,
            "ticks": ""
           }
          },
          "colorscale": {
           "sequential": [
            [
             0.0,
             "#0d0887"
            ],
            [
             0.1111111111111111,
             "#46039f"
            ],
            [
             0.2222222222222222,
             "#7201a8"
            ],
            [
             0.3333333333333333,
             "#9c179e"
            ],
            [
             0.4444444444444444,
             "#bd3786"
            ],
            [
             0.5555555555555556,
             "#d8576b"
            ],
            [
             0.6666666666666666,
             "#ed7953"
            ],
            [
             0.7777777777777778,
             "#fb9f3a"
            ],
            [
             0.8888888888888888,
             "#fdca26"
            ],
            [
             1.0,
             "#f0f921"
            ]
           ],
           "sequentialminus": [
            [
             0.0,
             "#0d0887"
            ],
            [
             0.1111111111111111,
             "#46039f"
            ],
            [
             0.2222222222222222,
             "#7201a8"
            ],
            [
             0.3333333333333333,
             "#9c179e"
            ],
            [
             0.4444444444444444,
             "#bd3786"
            ],
            [
             0.5555555555555556,
             "#d8576b"
            ],
            [
             0.6666666666666666,
             "#ed7953"
            ],
            [
             0.7777777777777778,
             "#fb9f3a"
            ],
            [
             0.8888888888888888,
             "#fdca26"
            ],
            [
             1.0,
             "#f0f921"
            ]
           ],
           "diverging": [
            [
             0,
             "#8e0152"
            ],
            [
             0.1,
             "#c51b7d"
            ],
            [
             0.2,
             "#de77ae"
            ],
            [
             0.3,
             "#f1b6da"
            ],
            [
             0.4,
             "#fde0ef"
            ],
            [
             0.5,
             "#f7f7f7"
            ],
            [
             0.6,
             "#e6f5d0"
            ],
            [
             0.7,
             "#b8e186"
            ],
            [
             0.8,
             "#7fbc41"
            ],
            [
             0.9,
             "#4d9221"
            ],
            [
             1,
             "#276419"
            ]
           ]
          },
          "xaxis": {
           "gridcolor": "white",
           "linecolor": "white",
           "ticks": "",
           "title": {
            "standoff": 15
           },
           "zerolinecolor": "white",
           "automargin": true,
           "zerolinewidth": 2
          },
          "yaxis": {
           "gridcolor": "white",
           "linecolor": "white",
           "ticks": "",
           "title": {
            "standoff": 15
           },
           "zerolinecolor": "white",
           "automargin": true,
           "zerolinewidth": 2
          },
          "scene": {
           "xaxis": {
            "backgroundcolor": "#E5ECF6",
            "gridcolor": "white",
            "linecolor": "white",
            "showbackground": true,
            "ticks": "",
            "zerolinecolor": "white",
            "gridwidth": 2
           },
           "yaxis": {
            "backgroundcolor": "#E5ECF6",
            "gridcolor": "white",
            "linecolor": "white",
            "showbackground": true,
            "ticks": "",
            "zerolinecolor": "white",
            "gridwidth": 2
           },
           "zaxis": {
            "backgroundcolor": "#E5ECF6",
            "gridcolor": "white",
            "linecolor": "white",
            "showbackground": true,
            "ticks": "",
            "zerolinecolor": "white",
            "gridwidth": 2
           }
          },
          "shapedefaults": {
           "line": {
            "color": "#2a3f5f"
           }
          },
          "annotationdefaults": {
           "arrowcolor": "#2a3f5f",
           "arrowhead": 0,
           "arrowwidth": 1
          },
          "geo": {
           "bgcolor": "white",
           "landcolor": "#E5ECF6",
           "subunitcolor": "white",
           "showland": true,
           "showlakes": true,
           "lakecolor": "white"
          },
          "title": {
           "x": 0.05
          },
          "mapbox": {
           "style": "light"
          }
         }
        },
        "xaxis": {
         "anchor": "y",
         "domain": [
          0.0,
          0.3
         ]
        },
        "yaxis": {
         "anchor": "x",
         "domain": [
          0.7333333333333334,
          1.0
         ],
         "title": {
          "text": "Score"
         }
        },
        "xaxis2": {
         "anchor": "y2",
         "domain": [
          0.35,
          0.6499999999999999
         ]
        },
        "yaxis2": {
         "anchor": "x2",
         "domain": [
          0.7333333333333334,
          1.0
         ]
        },
        "xaxis3": {
         "anchor": "y3",
         "domain": [
          0.7,
          1.0
         ]
        },
        "yaxis3": {
         "anchor": "x3",
         "domain": [
          0.7333333333333334,
          1.0
         ]
        },
        "xaxis4": {
         "anchor": "y4",
         "domain": [
          0.0,
          0.3
         ]
        },
        "yaxis4": {
         "anchor": "x4",
         "domain": [
          0.3666666666666667,
          0.6333333333333333
         ],
         "title": {
          "text": "Score"
         }
        },
        "xaxis5": {
         "anchor": "y5",
         "domain": [
          0.35,
          0.6499999999999999
         ]
        },
        "yaxis5": {
         "anchor": "x5",
         "domain": [
          0.3666666666666667,
          0.6333333333333333
         ]
        },
        "xaxis6": {
         "anchor": "y6",
         "domain": [
          0.7,
          1.0
         ]
        },
        "yaxis6": {
         "anchor": "x6",
         "domain": [
          0.3666666666666667,
          0.6333333333333333
         ]
        },
        "xaxis7": {
         "anchor": "y7",
         "domain": [
          0.0,
          0.3
         ],
         "title": {
          "text": "Number of Epochs"
         }
        },
        "yaxis7": {
         "anchor": "x7",
         "domain": [
          0.0,
          0.26666666666666666
         ],
         "title": {
          "text": "Score"
         }
        },
        "xaxis8": {
         "anchor": "y8",
         "domain": [
          0.35,
          0.6499999999999999
         ],
         "title": {
          "text": "Number of Epochs"
         }
        },
        "yaxis8": {
         "anchor": "x8",
         "domain": [
          0.0,
          0.26666666666666666
         ]
        },
        "xaxis9": {
         "anchor": "y9",
         "domain": [
          0.7,
          1.0
         ],
         "title": {
          "text": "Number of Epochs"
         }
        },
        "yaxis9": {
         "anchor": "x9",
         "domain": [
          0.0,
          0.26666666666666666
         ]
        },
        "annotations": [
         {
          "font": {
           "size": 16
          },
          "showarrow": false,
          "text": "Commonsense - 2% Training",
          "x": 0.15,
          "xanchor": "center",
          "xref": "paper",
          "y": 1.0,
          "yanchor": "bottom",
          "yref": "paper"
         },
         {
          "font": {
           "size": 16
          },
          "showarrow": false,
          "text": "Anticommonsense - 2% Training",
          "x": 0.49999999999999994,
          "xanchor": "center",
          "xref": "paper",
          "y": 1.0,
          "yanchor": "bottom",
          "yref": "paper"
         },
         {
          "font": {
           "size": 16
          },
          "showarrow": false,
          "text": "Noncommonsense - 2% Training",
          "x": 0.85,
          "xanchor": "center",
          "xref": "paper",
          "y": 1.0,
          "yanchor": "bottom",
          "yref": "paper"
         },
         {
          "font": {
           "size": 16
          },
          "showarrow": false,
          "text": "Commonsense - 5% Training",
          "x": 0.15,
          "xanchor": "center",
          "xref": "paper",
          "y": 0.6333333333333333,
          "yanchor": "bottom",
          "yref": "paper"
         },
         {
          "font": {
           "size": 16
          },
          "showarrow": false,
          "text": "Anticommonsense - 5% Training",
          "x": 0.49999999999999994,
          "xanchor": "center",
          "xref": "paper",
          "y": 0.6333333333333333,
          "yanchor": "bottom",
          "yref": "paper"
         },
         {
          "font": {
           "size": 16
          },
          "showarrow": false,
          "text": "Noncommonsense - 5% Training",
          "x": 0.85,
          "xanchor": "center",
          "xref": "paper",
          "y": 0.6333333333333333,
          "yanchor": "bottom",
          "yref": "paper"
         },
         {
          "font": {
           "size": 16
          },
          "showarrow": false,
          "text": "Commonsense - 90% Training",
          "x": 0.15,
          "xanchor": "center",
          "xref": "paper",
          "y": 0.26666666666666666,
          "yanchor": "bottom",
          "yref": "paper"
         },
         {
          "font": {
           "size": 16
          },
          "showarrow": false,
          "text": "Anticommonsense - 90% Training",
          "x": 0.49999999999999994,
          "xanchor": "center",
          "xref": "paper",
          "y": 0.26666666666666666,
          "yanchor": "bottom",
          "yref": "paper"
         },
         {
          "font": {
           "size": 16
          },
          "showarrow": false,
          "text": "Noncommonsense - 90% Training",
          "x": 0.85,
          "xanchor": "center",
          "xref": "paper",
          "y": 0.26666666666666666,
          "yanchor": "bottom",
          "yref": "paper"
         }
        ],
        "title": {
         "text": "PrOntoQA Ablation Study"
        },
        "margin": {
         "t": 50,
         "b": 20,
         "l": 20,
         "r": 20
        },
        "height": 750,
        "width": 1200,
        "legend": {
         "title": {
          "text": "CAPT Setting"
         }
        }
       },
       "config": {
        "plotlyServerURL": "https://plot.ly"
       }
      },
      "text/html": [
       "<div>                            <div id=\"df480a65-372f-4a65-b48d-d35f12541d77\" class=\"plotly-graph-div\" style=\"height:750px; width:1200px;\"></div>            <script type=\"text/javascript\">                require([\"plotly\"], function(Plotly) {                    window.PLOTLYENV=window.PLOTLYENV || {};                                    if (document.getElementById(\"df480a65-372f-4a65-b48d-d35f12541d77\")) {                    Plotly.newPlot(                        \"df480a65-372f-4a65-b48d-d35f12541d77\",                        [{\"legendgroup\":\"CAPT=null\",\"line\":{\"color\":\"rgb(31, 119, 180)\"},\"mode\":\"lines+markers\",\"name\":\"CAPT=null\",\"showlegend\":true,\"x\":[50,100,200,400,800,1600,3200],\"y\":[97.75,99.0,98.25,96.75,98.5,98.0,98.75],\"type\":\"scatter\",\"xaxis\":\"x\",\"yaxis\":\"y\"},{\"legendgroup\":\"CAPT=order\",\"line\":{\"color\":\"rgb(44, 160, 44)\"},\"mode\":\"lines+markers\",\"name\":\"CAPT=order\",\"showlegend\":true,\"x\":[50,100,200,400,800,1600,3200],\"y\":[75.25,79.0,76.5,81.75,81.0,77.75,81.5],\"type\":\"scatter\",\"xaxis\":\"x\",\"yaxis\":\"y\"},{\"legendgroup\":\"CAPT=random\",\"line\":{\"color\":\"rgb(255, 127, 14)\"},\"mode\":\"lines+markers\",\"name\":\"CAPT=random\",\"showlegend\":true,\"x\":[50,100,200,400,800,1600,3200],\"y\":[78.0,84.25,86.0,87.75,88.75,87.0,81.75],\"type\":\"scatter\",\"xaxis\":\"x\",\"yaxis\":\"y\"},{\"legendgroup\":\"CAPT=null\",\"line\":{\"color\":\"rgb(31, 119, 180)\"},\"mode\":\"lines+markers\",\"name\":\"CAPT=null\",\"showlegend\":false,\"x\":[50,100,200,400,800,1600,3200],\"y\":[70.5,72.5,73.75,72.75,70.0,73.0,67.5],\"type\":\"scatter\",\"xaxis\":\"x2\",\"yaxis\":\"y2\"},{\"legendgroup\":\"CAPT=order\",\"line\":{\"color\":\"rgb(44, 160, 44)\"},\"mode\":\"lines+markers\",\"name\":\"CAPT=order\",\"showlegend\":false,\"x\":[50,100,200,400,800,1600,3200],\"y\":[71.25,73.0,74.5,80.5,70.0,71.0,74.25],\"type\":\"scatter\",\"xaxis\":\"x2\",\"yaxis\":\"y2\"},{\"legendgroup\":\"CAPT=random\",\"line\":{\"color\":\"rgb(255, 127, 14)\"},\"mode\":\"lines+markers\",\"name\":\"CAPT=random\",\"showlegend\":false,\"x\":[50,100,200,400,800,1600,3200],\"y\":[71.75,75.25,79.5,83.5,80.75,81.0,79.75],\"type\":\"scatter\",\"xaxis\":\"x2\",\"yaxis\":\"y2\"},{\"legendgroup\":\"CAPT=null\",\"line\":{\"color\":\"rgb(31, 119, 180)\"},\"mode\":\"lines+markers\",\"name\":\"CAPT=null\",\"showlegend\":false,\"x\":[50,100,200,400,800,1600,3200],\"y\":[79.25,83.75,83.75,79.0,74.0,80.5,75.5],\"type\":\"scatter\",\"xaxis\":\"x3\",\"yaxis\":\"y3\"},{\"legendgroup\":\"CAPT=order\",\"line\":{\"color\":\"rgb(44, 160, 44)\"},\"mode\":\"lines+markers\",\"name\":\"CAPT=order\",\"showlegend\":false,\"x\":[50,100,200,400,800,1600,3200],\"y\":[75.25,73.5,73.5,78.5,73.25,73.25,76.25],\"type\":\"scatter\",\"xaxis\":\"x3\",\"yaxis\":\"y3\"},{\"legendgroup\":\"CAPT=random\",\"line\":{\"color\":\"rgb(255, 127, 14)\"},\"mode\":\"lines+markers\",\"name\":\"CAPT=random\",\"showlegend\":false,\"x\":[50,100,200,400,800,1600,3200],\"y\":[73.75,80.25,81.75,83.0,81.25,82.75,74.75],\"type\":\"scatter\",\"xaxis\":\"x3\",\"yaxis\":\"y3\"},{\"legendgroup\":\"CAPT=null\",\"line\":{\"color\":\"rgb(31, 119, 180)\"},\"mode\":\"lines+markers\",\"name\":\"CAPT=null\",\"showlegend\":false,\"x\":[50,100,200,400,800,1600,3200],\"y\":[96.5,97.0,99.75,99.75,100.0,100.0,100.0],\"type\":\"scatter\",\"xaxis\":\"x4\",\"yaxis\":\"y4\"},{\"legendgroup\":\"CAPT=order\",\"line\":{\"color\":\"rgb(44, 160, 44)\"},\"mode\":\"lines+markers\",\"name\":\"CAPT=order\",\"showlegend\":false,\"x\":[50,100,200,400,800,1600,3200],\"y\":[79.5,84.75,84.0,87.5,90.5,89.75,90.75],\"type\":\"scatter\",\"xaxis\":\"x4\",\"yaxis\":\"y4\"},{\"legendgroup\":\"CAPT=random\",\"line\":{\"color\":\"rgb(255, 127, 14)\"},\"mode\":\"lines+markers\",\"name\":\"CAPT=random\",\"showlegend\":false,\"x\":[50,100,200,400,800,1600,3200],\"y\":[74.75,85.5,82.25,92.75,93.5,93.75,94.5],\"type\":\"scatter\",\"xaxis\":\"x4\",\"yaxis\":\"y4\"},{\"legendgroup\":\"CAPT=null\",\"line\":{\"color\":\"rgb(31, 119, 180)\"},\"mode\":\"lines+markers\",\"name\":\"CAPT=null\",\"showlegend\":false,\"x\":[50,100,200,400,800,1600,3200],\"y\":[66.0,69.75,73.75,70.5,76.25,69.25,67.0],\"type\":\"scatter\",\"xaxis\":\"x5\",\"yaxis\":\"y5\"},{\"legendgroup\":\"CAPT=order\",\"line\":{\"color\":\"rgb(44, 160, 44)\"},\"mode\":\"lines+markers\",\"name\":\"CAPT=order\",\"showlegend\":false,\"x\":[50,100,200,400,800,1600,3200],\"y\":[71.0,79.25,79.0,81.0,81.75,80.5,80.25],\"type\":\"scatter\",\"xaxis\":\"x5\",\"yaxis\":\"y5\"},{\"legendgroup\":\"CAPT=random\",\"line\":{\"color\":\"rgb(255, 127, 14)\"},\"mode\":\"lines+markers\",\"name\":\"CAPT=random\",\"showlegend\":false,\"x\":[50,100,200,400,800,1600,3200],\"y\":[72.75,79.5,83.5,87.25,88.0,84.75,84.75],\"type\":\"scatter\",\"xaxis\":\"x5\",\"yaxis\":\"y5\"},{\"legendgroup\":\"CAPT=null\",\"line\":{\"color\":\"rgb(31, 119, 180)\"},\"mode\":\"lines+markers\",\"name\":\"CAPT=null\",\"showlegend\":false,\"x\":[50,100,200,400,800,1600,3200],\"y\":[80.0,81.5,85.5,79.5,77.5,76.75,73.25],\"type\":\"scatter\",\"xaxis\":\"x6\",\"yaxis\":\"y6\"},{\"legendgroup\":\"CAPT=order\",\"line\":{\"color\":\"rgb(44, 160, 44)\"},\"mode\":\"lines+markers\",\"name\":\"CAPT=order\",\"showlegend\":false,\"x\":[50,100,200,400,800,1600,3200],\"y\":[73.75,80.75,81.0,83.5,84.25,81.5,85.75],\"type\":\"scatter\",\"xaxis\":\"x6\",\"yaxis\":\"y6\"},{\"legendgroup\":\"CAPT=random\",\"line\":{\"color\":\"rgb(255, 127, 14)\"},\"mode\":\"lines+markers\",\"name\":\"CAPT=random\",\"showlegend\":false,\"x\":[50,100,200,400,800,1600,3200],\"y\":[74.25,79.75,81.5,90.75,89.0,87.75,87.0],\"type\":\"scatter\",\"xaxis\":\"x6\",\"yaxis\":\"y6\"},{\"legendgroup\":\"CAPT=null\",\"line\":{\"color\":\"rgb(31, 119, 180)\"},\"mode\":\"lines+markers\",\"name\":\"CAPT=null\",\"showlegend\":false,\"x\":[50,100,200,400,800,1600,3200],\"y\":[97.0,97.75,99.0,100.0,100.0,100.0,100.0],\"type\":\"scatter\",\"xaxis\":\"x7\",\"yaxis\":\"y7\"},{\"legendgroup\":\"CAPT=order\",\"line\":{\"color\":\"rgb(44, 160, 44)\"},\"mode\":\"lines+markers\",\"name\":\"CAPT=order\",\"showlegend\":false,\"x\":[50,100,200,400,800,1600,3200],\"y\":[79.5,88.25,86.75,97.75,98.25,98.5,99.75],\"type\":\"scatter\",\"xaxis\":\"x7\",\"yaxis\":\"y7\"},{\"legendgroup\":\"CAPT=random\",\"line\":{\"color\":\"rgb(255, 127, 14)\"},\"mode\":\"lines+markers\",\"name\":\"CAPT=random\",\"showlegend\":false,\"x\":[50,100,200,400,800,1600,3200],\"y\":[79.0,84.25,81.25,95.0,98.25,99.0,99.25],\"type\":\"scatter\",\"xaxis\":\"x7\",\"yaxis\":\"y7\"},{\"legendgroup\":\"CAPT=null\",\"line\":{\"color\":\"rgb(31, 119, 180)\"},\"mode\":\"lines+markers\",\"name\":\"CAPT=null\",\"showlegend\":false,\"x\":[50,100,200,400,800,1600,3200],\"y\":[66.5,72.75,69.0,76.25,77.5,69.5,68.25],\"type\":\"scatter\",\"xaxis\":\"x8\",\"yaxis\":\"y8\"},{\"legendgroup\":\"CAPT=order\",\"line\":{\"color\":\"rgb(44, 160, 44)\"},\"mode\":\"lines+markers\",\"name\":\"CAPT=order\",\"showlegend\":false,\"x\":[50,100,200,400,800,1600,3200],\"y\":[76.0,77.75,83.5,90.0,86.5,89.0,91.75],\"type\":\"scatter\",\"xaxis\":\"x8\",\"yaxis\":\"y8\"},{\"legendgroup\":\"CAPT=random\",\"line\":{\"color\":\"rgb(255, 127, 14)\"},\"mode\":\"lines+markers\",\"name\":\"CAPT=random\",\"showlegend\":false,\"x\":[50,100,200,400,800,1600,3200],\"y\":[71.75,78.0,81.0,89.25,90.0,93.75,92.25],\"type\":\"scatter\",\"xaxis\":\"x8\",\"yaxis\":\"y8\"},{\"legendgroup\":\"CAPT=null\",\"line\":{\"color\":\"rgb(31, 119, 180)\"},\"mode\":\"lines+markers\",\"name\":\"CAPT=null\",\"showlegend\":false,\"x\":[50,100,200,400,800,1600,3200],\"y\":[81.25,84.25,80.75,82.25,85.0,74.25,74.75],\"type\":\"scatter\",\"xaxis\":\"x9\",\"yaxis\":\"y9\"},{\"legendgroup\":\"CAPT=order\",\"line\":{\"color\":\"rgb(44, 160, 44)\"},\"mode\":\"lines+markers\",\"name\":\"CAPT=order\",\"showlegend\":false,\"x\":[50,100,200,400,800,1600,3200],\"y\":[75.25,83.25,84.25,92.75,94.25,93.5,94.5],\"type\":\"scatter\",\"xaxis\":\"x9\",\"yaxis\":\"y9\"},{\"legendgroup\":\"CAPT=random\",\"line\":{\"color\":\"rgb(255, 127, 14)\"},\"mode\":\"lines+markers\",\"name\":\"CAPT=random\",\"showlegend\":false,\"x\":[50,100,200,400,800,1600,3200],\"y\":[77.5,80.75,82.25,91.25,94.5,96.5,96.25],\"type\":\"scatter\",\"xaxis\":\"x9\",\"yaxis\":\"y9\"}],                        {\"template\":{\"data\":{\"histogram2dcontour\":[{\"type\":\"histogram2dcontour\",\"colorbar\":{\"outlinewidth\":0,\"ticks\":\"\"},\"colorscale\":[[0.0,\"#0d0887\"],[0.1111111111111111,\"#46039f\"],[0.2222222222222222,\"#7201a8\"],[0.3333333333333333,\"#9c179e\"],[0.4444444444444444,\"#bd3786\"],[0.5555555555555556,\"#d8576b\"],[0.6666666666666666,\"#ed7953\"],[0.7777777777777778,\"#fb9f3a\"],[0.8888888888888888,\"#fdca26\"],[1.0,\"#f0f921\"]]}],\"choropleth\":[{\"type\":\"choropleth\",\"colorbar\":{\"outlinewidth\":0,\"ticks\":\"\"}}],\"histogram2d\":[{\"type\":\"histogram2d\",\"colorbar\":{\"outlinewidth\":0,\"ticks\":\"\"},\"colorscale\":[[0.0,\"#0d0887\"],[0.1111111111111111,\"#46039f\"],[0.2222222222222222,\"#7201a8\"],[0.3333333333333333,\"#9c179e\"],[0.4444444444444444,\"#bd3786\"],[0.5555555555555556,\"#d8576b\"],[0.6666666666666666,\"#ed7953\"],[0.7777777777777778,\"#fb9f3a\"],[0.8888888888888888,\"#fdca26\"],[1.0,\"#f0f921\"]]}],\"heatmap\":[{\"type\":\"heatmap\",\"colorbar\":{\"outlinewidth\":0,\"ticks\":\"\"},\"colorscale\":[[0.0,\"#0d0887\"],[0.1111111111111111,\"#46039f\"],[0.2222222222222222,\"#7201a8\"],[0.3333333333333333,\"#9c179e\"],[0.4444444444444444,\"#bd3786\"],[0.5555555555555556,\"#d8576b\"],[0.6666666666666666,\"#ed7953\"],[0.7777777777777778,\"#fb9f3a\"],[0.8888888888888888,\"#fdca26\"],[1.0,\"#f0f921\"]]}],\"heatmapgl\":[{\"type\":\"heatmapgl\",\"colorbar\":{\"outlinewidth\":0,\"ticks\":\"\"},\"colorscale\":[[0.0,\"#0d0887\"],[0.1111111111111111,\"#46039f\"],[0.2222222222222222,\"#7201a8\"],[0.3333333333333333,\"#9c179e\"],[0.4444444444444444,\"#bd3786\"],[0.5555555555555556,\"#d8576b\"],[0.6666666666666666,\"#ed7953\"],[0.7777777777777778,\"#fb9f3a\"],[0.8888888888888888,\"#fdca26\"],[1.0,\"#f0f921\"]]}],\"contourcarpet\":[{\"type\":\"contourcarpet\",\"colorbar\":{\"outlinewidth\":0,\"ticks\":\"\"}}],\"contour\":[{\"type\":\"contour\",\"colorbar\":{\"outlinewidth\":0,\"ticks\":\"\"},\"colorscale\":[[0.0,\"#0d0887\"],[0.1111111111111111,\"#46039f\"],[0.2222222222222222,\"#7201a8\"],[0.3333333333333333,\"#9c179e\"],[0.4444444444444444,\"#bd3786\"],[0.5555555555555556,\"#d8576b\"],[0.6666666666666666,\"#ed7953\"],[0.7777777777777778,\"#fb9f3a\"],[0.8888888888888888,\"#fdca26\"],[1.0,\"#f0f921\"]]}],\"surface\":[{\"type\":\"surface\",\"colorbar\":{\"outlinewidth\":0,\"ticks\":\"\"},\"colorscale\":[[0.0,\"#0d0887\"],[0.1111111111111111,\"#46039f\"],[0.2222222222222222,\"#7201a8\"],[0.3333333333333333,\"#9c179e\"],[0.4444444444444444,\"#bd3786\"],[0.5555555555555556,\"#d8576b\"],[0.6666666666666666,\"#ed7953\"],[0.7777777777777778,\"#fb9f3a\"],[0.8888888888888888,\"#fdca26\"],[1.0,\"#f0f921\"]]}],\"mesh3d\":[{\"type\":\"mesh3d\",\"colorbar\":{\"outlinewidth\":0,\"ticks\":\"\"}}],\"scatter\":[{\"fillpattern\":{\"fillmode\":\"overlay\",\"size\":10,\"solidity\":0.2},\"type\":\"scatter\"}],\"parcoords\":[{\"type\":\"parcoords\",\"line\":{\"colorbar\":{\"outlinewidth\":0,\"ticks\":\"\"}}}],\"scatterpolargl\":[{\"type\":\"scatterpolargl\",\"marker\":{\"colorbar\":{\"outlinewidth\":0,\"ticks\":\"\"}}}],\"bar\":[{\"error_x\":{\"color\":\"#2a3f5f\"},\"error_y\":{\"color\":\"#2a3f5f\"},\"marker\":{\"line\":{\"color\":\"#E5ECF6\",\"width\":0.5},\"pattern\":{\"fillmode\":\"overlay\",\"size\":10,\"solidity\":0.2}},\"type\":\"bar\"}],\"scattergeo\":[{\"type\":\"scattergeo\",\"marker\":{\"colorbar\":{\"outlinewidth\":0,\"ticks\":\"\"}}}],\"scatterpolar\":[{\"type\":\"scatterpolar\",\"marker\":{\"colorbar\":{\"outlinewidth\":0,\"ticks\":\"\"}}}],\"histogram\":[{\"marker\":{\"pattern\":{\"fillmode\":\"overlay\",\"size\":10,\"solidity\":0.2}},\"type\":\"histogram\"}],\"scattergl\":[{\"type\":\"scattergl\",\"marker\":{\"colorbar\":{\"outlinewidth\":0,\"ticks\":\"\"}}}],\"scatter3d\":[{\"type\":\"scatter3d\",\"line\":{\"colorbar\":{\"outlinewidth\":0,\"ticks\":\"\"}},\"marker\":{\"colorbar\":{\"outlinewidth\":0,\"ticks\":\"\"}}}],\"scattermapbox\":[{\"type\":\"scattermapbox\",\"marker\":{\"colorbar\":{\"outlinewidth\":0,\"ticks\":\"\"}}}],\"scatterternary\":[{\"type\":\"scatterternary\",\"marker\":{\"colorbar\":{\"outlinewidth\":0,\"ticks\":\"\"}}}],\"scattercarpet\":[{\"type\":\"scattercarpet\",\"marker\":{\"colorbar\":{\"outlinewidth\":0,\"ticks\":\"\"}}}],\"carpet\":[{\"aaxis\":{\"endlinecolor\":\"#2a3f5f\",\"gridcolor\":\"white\",\"linecolor\":\"white\",\"minorgridcolor\":\"white\",\"startlinecolor\":\"#2a3f5f\"},\"baxis\":{\"endlinecolor\":\"#2a3f5f\",\"gridcolor\":\"white\",\"linecolor\":\"white\",\"minorgridcolor\":\"white\",\"startlinecolor\":\"#2a3f5f\"},\"type\":\"carpet\"}],\"table\":[{\"cells\":{\"fill\":{\"color\":\"#EBF0F8\"},\"line\":{\"color\":\"white\"}},\"header\":{\"fill\":{\"color\":\"#C8D4E3\"},\"line\":{\"color\":\"white\"}},\"type\":\"table\"}],\"barpolar\":[{\"marker\":{\"line\":{\"color\":\"#E5ECF6\",\"width\":0.5},\"pattern\":{\"fillmode\":\"overlay\",\"size\":10,\"solidity\":0.2}},\"type\":\"barpolar\"}],\"pie\":[{\"automargin\":true,\"type\":\"pie\"}]},\"layout\":{\"autotypenumbers\":\"strict\",\"colorway\":[\"#636efa\",\"#EF553B\",\"#00cc96\",\"#ab63fa\",\"#FFA15A\",\"#19d3f3\",\"#FF6692\",\"#B6E880\",\"#FF97FF\",\"#FECB52\"],\"font\":{\"color\":\"#2a3f5f\"},\"hovermode\":\"closest\",\"hoverlabel\":{\"align\":\"left\"},\"paper_bgcolor\":\"white\",\"plot_bgcolor\":\"#E5ECF6\",\"polar\":{\"bgcolor\":\"#E5ECF6\",\"angularaxis\":{\"gridcolor\":\"white\",\"linecolor\":\"white\",\"ticks\":\"\"},\"radialaxis\":{\"gridcolor\":\"white\",\"linecolor\":\"white\",\"ticks\":\"\"}},\"ternary\":{\"bgcolor\":\"#E5ECF6\",\"aaxis\":{\"gridcolor\":\"white\",\"linecolor\":\"white\",\"ticks\":\"\"},\"baxis\":{\"gridcolor\":\"white\",\"linecolor\":\"white\",\"ticks\":\"\"},\"caxis\":{\"gridcolor\":\"white\",\"linecolor\":\"white\",\"ticks\":\"\"}},\"coloraxis\":{\"colorbar\":{\"outlinewidth\":0,\"ticks\":\"\"}},\"colorscale\":{\"sequential\":[[0.0,\"#0d0887\"],[0.1111111111111111,\"#46039f\"],[0.2222222222222222,\"#7201a8\"],[0.3333333333333333,\"#9c179e\"],[0.4444444444444444,\"#bd3786\"],[0.5555555555555556,\"#d8576b\"],[0.6666666666666666,\"#ed7953\"],[0.7777777777777778,\"#fb9f3a\"],[0.8888888888888888,\"#fdca26\"],[1.0,\"#f0f921\"]],\"sequentialminus\":[[0.0,\"#0d0887\"],[0.1111111111111111,\"#46039f\"],[0.2222222222222222,\"#7201a8\"],[0.3333333333333333,\"#9c179e\"],[0.4444444444444444,\"#bd3786\"],[0.5555555555555556,\"#d8576b\"],[0.6666666666666666,\"#ed7953\"],[0.7777777777777778,\"#fb9f3a\"],[0.8888888888888888,\"#fdca26\"],[1.0,\"#f0f921\"]],\"diverging\":[[0,\"#8e0152\"],[0.1,\"#c51b7d\"],[0.2,\"#de77ae\"],[0.3,\"#f1b6da\"],[0.4,\"#fde0ef\"],[0.5,\"#f7f7f7\"],[0.6,\"#e6f5d0\"],[0.7,\"#b8e186\"],[0.8,\"#7fbc41\"],[0.9,\"#4d9221\"],[1,\"#276419\"]]},\"xaxis\":{\"gridcolor\":\"white\",\"linecolor\":\"white\",\"ticks\":\"\",\"title\":{\"standoff\":15},\"zerolinecolor\":\"white\",\"automargin\":true,\"zerolinewidth\":2},\"yaxis\":{\"gridcolor\":\"white\",\"linecolor\":\"white\",\"ticks\":\"\",\"title\":{\"standoff\":15},\"zerolinecolor\":\"white\",\"automargin\":true,\"zerolinewidth\":2},\"scene\":{\"xaxis\":{\"backgroundcolor\":\"#E5ECF6\",\"gridcolor\":\"white\",\"linecolor\":\"white\",\"showbackground\":true,\"ticks\":\"\",\"zerolinecolor\":\"white\",\"gridwidth\":2},\"yaxis\":{\"backgroundcolor\":\"#E5ECF6\",\"gridcolor\":\"white\",\"linecolor\":\"white\",\"showbackground\":true,\"ticks\":\"\",\"zerolinecolor\":\"white\",\"gridwidth\":2},\"zaxis\":{\"backgroundcolor\":\"#E5ECF6\",\"gridcolor\":\"white\",\"linecolor\":\"white\",\"showbackground\":true,\"ticks\":\"\",\"zerolinecolor\":\"white\",\"gridwidth\":2}},\"shapedefaults\":{\"line\":{\"color\":\"#2a3f5f\"}},\"annotationdefaults\":{\"arrowcolor\":\"#2a3f5f\",\"arrowhead\":0,\"arrowwidth\":1},\"geo\":{\"bgcolor\":\"white\",\"landcolor\":\"#E5ECF6\",\"subunitcolor\":\"white\",\"showland\":true,\"showlakes\":true,\"lakecolor\":\"white\"},\"title\":{\"x\":0.05},\"mapbox\":{\"style\":\"light\"}}},\"xaxis\":{\"anchor\":\"y\",\"domain\":[0.0,0.3]},\"yaxis\":{\"anchor\":\"x\",\"domain\":[0.7333333333333334,1.0],\"title\":{\"text\":\"Score\"}},\"xaxis2\":{\"anchor\":\"y2\",\"domain\":[0.35,0.6499999999999999]},\"yaxis2\":{\"anchor\":\"x2\",\"domain\":[0.7333333333333334,1.0]},\"xaxis3\":{\"anchor\":\"y3\",\"domain\":[0.7,1.0]},\"yaxis3\":{\"anchor\":\"x3\",\"domain\":[0.7333333333333334,1.0]},\"xaxis4\":{\"anchor\":\"y4\",\"domain\":[0.0,0.3]},\"yaxis4\":{\"anchor\":\"x4\",\"domain\":[0.3666666666666667,0.6333333333333333],\"title\":{\"text\":\"Score\"}},\"xaxis5\":{\"anchor\":\"y5\",\"domain\":[0.35,0.6499999999999999]},\"yaxis5\":{\"anchor\":\"x5\",\"domain\":[0.3666666666666667,0.6333333333333333]},\"xaxis6\":{\"anchor\":\"y6\",\"domain\":[0.7,1.0]},\"yaxis6\":{\"anchor\":\"x6\",\"domain\":[0.3666666666666667,0.6333333333333333]},\"xaxis7\":{\"anchor\":\"y7\",\"domain\":[0.0,0.3],\"title\":{\"text\":\"Number of Epochs\"}},\"yaxis7\":{\"anchor\":\"x7\",\"domain\":[0.0,0.26666666666666666],\"title\":{\"text\":\"Score\"}},\"xaxis8\":{\"anchor\":\"y8\",\"domain\":[0.35,0.6499999999999999],\"title\":{\"text\":\"Number of Epochs\"}},\"yaxis8\":{\"anchor\":\"x8\",\"domain\":[0.0,0.26666666666666666]},\"xaxis9\":{\"anchor\":\"y9\",\"domain\":[0.7,1.0],\"title\":{\"text\":\"Number of Epochs\"}},\"yaxis9\":{\"anchor\":\"x9\",\"domain\":[0.0,0.26666666666666666]},\"annotations\":[{\"font\":{\"size\":16},\"showarrow\":false,\"text\":\"Commonsense - 2% Training\",\"x\":0.15,\"xanchor\":\"center\",\"xref\":\"paper\",\"y\":1.0,\"yanchor\":\"bottom\",\"yref\":\"paper\"},{\"font\":{\"size\":16},\"showarrow\":false,\"text\":\"Anticommonsense - 2% Training\",\"x\":0.49999999999999994,\"xanchor\":\"center\",\"xref\":\"paper\",\"y\":1.0,\"yanchor\":\"bottom\",\"yref\":\"paper\"},{\"font\":{\"size\":16},\"showarrow\":false,\"text\":\"Noncommonsense - 2% Training\",\"x\":0.85,\"xanchor\":\"center\",\"xref\":\"paper\",\"y\":1.0,\"yanchor\":\"bottom\",\"yref\":\"paper\"},{\"font\":{\"size\":16},\"showarrow\":false,\"text\":\"Commonsense - 5% Training\",\"x\":0.15,\"xanchor\":\"center\",\"xref\":\"paper\",\"y\":0.6333333333333333,\"yanchor\":\"bottom\",\"yref\":\"paper\"},{\"font\":{\"size\":16},\"showarrow\":false,\"text\":\"Anticommonsense - 5% Training\",\"x\":0.49999999999999994,\"xanchor\":\"center\",\"xref\":\"paper\",\"y\":0.6333333333333333,\"yanchor\":\"bottom\",\"yref\":\"paper\"},{\"font\":{\"size\":16},\"showarrow\":false,\"text\":\"Noncommonsense - 5% Training\",\"x\":0.85,\"xanchor\":\"center\",\"xref\":\"paper\",\"y\":0.6333333333333333,\"yanchor\":\"bottom\",\"yref\":\"paper\"},{\"font\":{\"size\":16},\"showarrow\":false,\"text\":\"Commonsense - 90% Training\",\"x\":0.15,\"xanchor\":\"center\",\"xref\":\"paper\",\"y\":0.26666666666666666,\"yanchor\":\"bottom\",\"yref\":\"paper\"},{\"font\":{\"size\":16},\"showarrow\":false,\"text\":\"Anticommonsense - 90% Training\",\"x\":0.49999999999999994,\"xanchor\":\"center\",\"xref\":\"paper\",\"y\":0.26666666666666666,\"yanchor\":\"bottom\",\"yref\":\"paper\"},{\"font\":{\"size\":16},\"showarrow\":false,\"text\":\"Noncommonsense - 90% Training\",\"x\":0.85,\"xanchor\":\"center\",\"xref\":\"paper\",\"y\":0.26666666666666666,\"yanchor\":\"bottom\",\"yref\":\"paper\"}],\"title\":{\"text\":\"PrOntoQA Ablation Study\"},\"margin\":{\"t\":50,\"b\":20,\"l\":20,\"r\":20},\"height\":750,\"width\":1200,\"legend\":{\"title\":{\"text\":\"CAPT Setting\"}}},                        {\"responsive\": true}                    ).then(function(){\n",
       "                            \n",
       "var gd = document.getElementById('df480a65-372f-4a65-b48d-d35f12541d77');\n",
       "var x = new MutationObserver(function (mutations, observer) {{\n",
       "        var display = window.getComputedStyle(gd).display;\n",
       "        if (!display || display === 'none') {{\n",
       "            console.log([gd, 'removed!']);\n",
       "            Plotly.purge(gd);\n",
       "            observer.disconnect();\n",
       "        }}\n",
       "}});\n",
       "\n",
       "// Listen for the removal of the full notebook cells\n",
       "var notebookContainer = gd.closest('#notebook-container');\n",
       "if (notebookContainer) {{\n",
       "    x.observe(notebookContainer, {childList: true});\n",
       "}}\n",
       "\n",
       "// Listen for the clearing of the current output cell\n",
       "var outputEl = gd.closest('.output');\n",
       "if (outputEl) {{\n",
       "    x.observe(outputEl, {childList: true});\n",
       "}}\n",
       "\n",
       "                        })                };                });            </script>        </div>"
      ]
     },
     "metadata": {},
     "output_type": "display_data"
    }
   ],
   "execution_count": 23
  },
  {
   "metadata": {
    "ExecuteTime": {
     "end_time": "2025-04-24T16:09:27.598460Z",
     "start_time": "2025-04-24T16:09:27.572685Z"
    }
   },
   "cell_type": "code",
   "source": [
    "display(cladder_df[(cladder_df[\"max_steps\"] == 3200) & ((cladder_df[\"anonymize\"] == \"null\") | (cladder_df[\"anonymize\"] == \"random\")) & (cladder_df[\"percent_train\"] == 0.899)])\n",
    "display(prontoqa_df[(prontoqa_df[\"max_steps\"] == 3200) & ((prontoqa_df[\"anonymize\"] == \"null\") | (prontoqa_df[\"anonymize\"] == \"random\")) & (prontoqa_df[\"percent_train\"] == 0.899) & (prontoqa_df[\"learning_rate\"] == 0.00015)])"
   ],
   "id": "2ee3cfe72e4f79",
   "outputs": [
    {
     "data": {
      "text/plain": [
       "       run_id                                           run_name  reasoning  \\\n",
       "127  tcmmbrxk  SFT/QWen-cladder-RFalse-DP0.899-s3200-Absrando...      False   \n",
       "132  xorwfc7l  SFT/QWen-cladder-RTrue-DP0.899-s3200-Absrandom...       True   \n",
       "251  1itnnntm  SFT/QWen-cladder-RFalse-DP0.899-s3200-AbsNone-...      False   \n",
       "261  cud211nj  SFT/QWen-cladder-RTrue-DP0.899-s3200-AbsNone-l...       True   \n",
       "\n",
       "    anonymize  learning_rate  percent_train  max_steps  commonsense  \\\n",
       "127    random         0.0003          0.899       3200        87.60   \n",
       "132    random         0.0003          0.899       3200        93.08   \n",
       "251      null         0.0003          0.899       3200        90.29   \n",
       "261      null         0.0003          0.899       3200        95.38   \n",
       "\n",
       "     anticommonsense  noncommonsense  \n",
       "127            89.42           80.76  \n",
       "132            94.62           88.57  \n",
       "251            86.54           80.08  \n",
       "261            95.67           88.09  "
      ],
      "text/html": [
       "<div>\n",
       "<style scoped>\n",
       "    .dataframe tbody tr th:only-of-type {\n",
       "        vertical-align: middle;\n",
       "    }\n",
       "\n",
       "    .dataframe tbody tr th {\n",
       "        vertical-align: top;\n",
       "    }\n",
       "\n",
       "    .dataframe thead th {\n",
       "        text-align: right;\n",
       "    }\n",
       "</style>\n",
       "<table border=\"1\" class=\"dataframe\">\n",
       "  <thead>\n",
       "    <tr style=\"text-align: right;\">\n",
       "      <th></th>\n",
       "      <th>run_id</th>\n",
       "      <th>run_name</th>\n",
       "      <th>reasoning</th>\n",
       "      <th>anonymize</th>\n",
       "      <th>learning_rate</th>\n",
       "      <th>percent_train</th>\n",
       "      <th>max_steps</th>\n",
       "      <th>commonsense</th>\n",
       "      <th>anticommonsense</th>\n",
       "      <th>noncommonsense</th>\n",
       "    </tr>\n",
       "  </thead>\n",
       "  <tbody>\n",
       "    <tr>\n",
       "      <th>127</th>\n",
       "      <td>tcmmbrxk</td>\n",
       "      <td>SFT/QWen-cladder-RFalse-DP0.899-s3200-Absrando...</td>\n",
       "      <td>False</td>\n",
       "      <td>random</td>\n",
       "      <td>0.0003</td>\n",
       "      <td>0.899</td>\n",
       "      <td>3200</td>\n",
       "      <td>87.60</td>\n",
       "      <td>89.42</td>\n",
       "      <td>80.76</td>\n",
       "    </tr>\n",
       "    <tr>\n",
       "      <th>132</th>\n",
       "      <td>xorwfc7l</td>\n",
       "      <td>SFT/QWen-cladder-RTrue-DP0.899-s3200-Absrandom...</td>\n",
       "      <td>True</td>\n",
       "      <td>random</td>\n",
       "      <td>0.0003</td>\n",
       "      <td>0.899</td>\n",
       "      <td>3200</td>\n",
       "      <td>93.08</td>\n",
       "      <td>94.62</td>\n",
       "      <td>88.57</td>\n",
       "    </tr>\n",
       "    <tr>\n",
       "      <th>251</th>\n",
       "      <td>1itnnntm</td>\n",
       "      <td>SFT/QWen-cladder-RFalse-DP0.899-s3200-AbsNone-...</td>\n",
       "      <td>False</td>\n",
       "      <td>null</td>\n",
       "      <td>0.0003</td>\n",
       "      <td>0.899</td>\n",
       "      <td>3200</td>\n",
       "      <td>90.29</td>\n",
       "      <td>86.54</td>\n",
       "      <td>80.08</td>\n",
       "    </tr>\n",
       "    <tr>\n",
       "      <th>261</th>\n",
       "      <td>cud211nj</td>\n",
       "      <td>SFT/QWen-cladder-RTrue-DP0.899-s3200-AbsNone-l...</td>\n",
       "      <td>True</td>\n",
       "      <td>null</td>\n",
       "      <td>0.0003</td>\n",
       "      <td>0.899</td>\n",
       "      <td>3200</td>\n",
       "      <td>95.38</td>\n",
       "      <td>95.67</td>\n",
       "      <td>88.09</td>\n",
       "    </tr>\n",
       "  </tbody>\n",
       "</table>\n",
       "</div>"
      ]
     },
     "metadata": {},
     "output_type": "display_data"
    },
    {
     "data": {
      "text/plain": [
       "       run_id                                           run_name  reasoning  \\\n",
       "7    d8zzlopc  SFT/QWen-prontoqa-RFalse-DP0.899-s3200-Absrand...      False   \n",
       "21   uufgeeg3  SFT/QWen-prontoqa-RTrue-DP0.899-s3200-Absrando...       True   \n",
       "231  flhnk7lq  SFT/QWen-prontoqa-RFalse-DP0.899-s3200-AbsNone...      False   \n",
       "245  zo6kn9yi  SFT/QWen-prontoqa-RTrue-DP0.899-s3200-AbsNone-...       True   \n",
       "\n",
       "    anonymize  learning_rate  percent_train  max_steps  prontoqa  \\\n",
       "7      random        0.00015          0.899       3200     99.25   \n",
       "21     random        0.00015          0.899       3200     99.50   \n",
       "231      null        0.00015          0.899       3200    100.00   \n",
       "245      null        0.00015          0.899       3200    100.00   \n",
       "\n",
       "     anticommonsense  noncommonsense  \n",
       "7               91.5           95.50  \n",
       "21              93.0           96.75  \n",
       "231             58.0           77.25  \n",
       "245             74.0           83.75  "
      ],
      "text/html": [
       "<div>\n",
       "<style scoped>\n",
       "    .dataframe tbody tr th:only-of-type {\n",
       "        vertical-align: middle;\n",
       "    }\n",
       "\n",
       "    .dataframe tbody tr th {\n",
       "        vertical-align: top;\n",
       "    }\n",
       "\n",
       "    .dataframe thead th {\n",
       "        text-align: right;\n",
       "    }\n",
       "</style>\n",
       "<table border=\"1\" class=\"dataframe\">\n",
       "  <thead>\n",
       "    <tr style=\"text-align: right;\">\n",
       "      <th></th>\n",
       "      <th>run_id</th>\n",
       "      <th>run_name</th>\n",
       "      <th>reasoning</th>\n",
       "      <th>anonymize</th>\n",
       "      <th>learning_rate</th>\n",
       "      <th>percent_train</th>\n",
       "      <th>max_steps</th>\n",
       "      <th>prontoqa</th>\n",
       "      <th>anticommonsense</th>\n",
       "      <th>noncommonsense</th>\n",
       "    </tr>\n",
       "  </thead>\n",
       "  <tbody>\n",
       "    <tr>\n",
       "      <th>7</th>\n",
       "      <td>d8zzlopc</td>\n",
       "      <td>SFT/QWen-prontoqa-RFalse-DP0.899-s3200-Absrand...</td>\n",
       "      <td>False</td>\n",
       "      <td>random</td>\n",
       "      <td>0.00015</td>\n",
       "      <td>0.899</td>\n",
       "      <td>3200</td>\n",
       "      <td>99.25</td>\n",
       "      <td>91.5</td>\n",
       "      <td>95.50</td>\n",
       "    </tr>\n",
       "    <tr>\n",
       "      <th>21</th>\n",
       "      <td>uufgeeg3</td>\n",
       "      <td>SFT/QWen-prontoqa-RTrue-DP0.899-s3200-Absrando...</td>\n",
       "      <td>True</td>\n",
       "      <td>random</td>\n",
       "      <td>0.00015</td>\n",
       "      <td>0.899</td>\n",
       "      <td>3200</td>\n",
       "      <td>99.50</td>\n",
       "      <td>93.0</td>\n",
       "      <td>96.75</td>\n",
       "    </tr>\n",
       "    <tr>\n",
       "      <th>231</th>\n",
       "      <td>flhnk7lq</td>\n",
       "      <td>SFT/QWen-prontoqa-RFalse-DP0.899-s3200-AbsNone...</td>\n",
       "      <td>False</td>\n",
       "      <td>null</td>\n",
       "      <td>0.00015</td>\n",
       "      <td>0.899</td>\n",
       "      <td>3200</td>\n",
       "      <td>100.00</td>\n",
       "      <td>58.0</td>\n",
       "      <td>77.25</td>\n",
       "    </tr>\n",
       "    <tr>\n",
       "      <th>245</th>\n",
       "      <td>zo6kn9yi</td>\n",
       "      <td>SFT/QWen-prontoqa-RTrue-DP0.899-s3200-AbsNone-...</td>\n",
       "      <td>True</td>\n",
       "      <td>null</td>\n",
       "      <td>0.00015</td>\n",
       "      <td>0.899</td>\n",
       "      <td>3200</td>\n",
       "      <td>100.00</td>\n",
       "      <td>74.0</td>\n",
       "      <td>83.75</td>\n",
       "    </tr>\n",
       "  </tbody>\n",
       "</table>\n",
       "</div>"
      ]
     },
     "metadata": {},
     "output_type": "display_data"
    }
   ],
   "execution_count": 5
  },
  {
   "metadata": {
    "ExecuteTime": {
     "end_time": "2025-04-25T22:49:49.482687Z",
     "start_time": "2025-04-25T22:49:49.457399Z"
    }
   },
   "cell_type": "code",
   "source": [
    "display(cladder_df[(cladder_df[\"max_steps\"] == 3200) & ((cladder_df[\"anonymize\"] == \"null\") | (cladder_df[\"anonymize\"] == \"random\")) & (cladder_df[\"percent_train\"] == 0.02)])\n",
    "display(prontoqa_df[(prontoqa_df[\"max_steps\"] == 3200) & ((prontoqa_df[\"anonymize\"] == \"null\") | (prontoqa_df[\"anonymize\"] == \"random\")) & (prontoqa_df[\"percent_train\"] == 0.025) & (prontoqa_df[\"learning_rate\"] == 0.00015)])\n"
   ],
   "id": "b0e04f2013752f8c",
   "outputs": [
    {
     "data": {
      "text/plain": [
       "       run_id                                           run_name  reasoning  \\\n",
       "161  kqg54cjt  SFT/QWen-cladder-RFalse-DP0.02-s3200-Absrandom...      False   \n",
       "168  vzidorm3  SFT/QWen-cladder-RTrue-DP0.02-s3200-Absrandom-...       True   \n",
       "294  406dphom  SFT/QWen-cladder-RFalse-DP0.02-s3200-AbsNone-l...      False   \n",
       "301  unt5tlj3  SFT/QWen-cladder-RTrue-DP0.02-s3200-AbsNone-lr...       True   \n",
       "\n",
       "    anonymize  learning_rate  percent_train  max_steps  commonsense  \\\n",
       "161    random         0.0003           0.02       3200        71.35   \n",
       "168    random         0.0003           0.02       3200        79.04   \n",
       "294      null         0.0003           0.02       3200        70.48   \n",
       "301      null         0.0003           0.02       3200        68.65   \n",
       "\n",
       "     anticommonsense  noncommonsense  \n",
       "161            63.75           62.50  \n",
       "168            79.90           73.73  \n",
       "294            68.85           66.11  \n",
       "301            68.85           66.11  "
      ],
      "text/html": [
       "<div>\n",
       "<style scoped>\n",
       "    .dataframe tbody tr th:only-of-type {\n",
       "        vertical-align: middle;\n",
       "    }\n",
       "\n",
       "    .dataframe tbody tr th {\n",
       "        vertical-align: top;\n",
       "    }\n",
       "\n",
       "    .dataframe thead th {\n",
       "        text-align: right;\n",
       "    }\n",
       "</style>\n",
       "<table border=\"1\" class=\"dataframe\">\n",
       "  <thead>\n",
       "    <tr style=\"text-align: right;\">\n",
       "      <th></th>\n",
       "      <th>run_id</th>\n",
       "      <th>run_name</th>\n",
       "      <th>reasoning</th>\n",
       "      <th>anonymize</th>\n",
       "      <th>learning_rate</th>\n",
       "      <th>percent_train</th>\n",
       "      <th>max_steps</th>\n",
       "      <th>commonsense</th>\n",
       "      <th>anticommonsense</th>\n",
       "      <th>noncommonsense</th>\n",
       "    </tr>\n",
       "  </thead>\n",
       "  <tbody>\n",
       "    <tr>\n",
       "      <th>161</th>\n",
       "      <td>kqg54cjt</td>\n",
       "      <td>SFT/QWen-cladder-RFalse-DP0.02-s3200-Absrandom...</td>\n",
       "      <td>False</td>\n",
       "      <td>random</td>\n",
       "      <td>0.0003</td>\n",
       "      <td>0.02</td>\n",
       "      <td>3200</td>\n",
       "      <td>71.35</td>\n",
       "      <td>63.75</td>\n",
       "      <td>62.50</td>\n",
       "    </tr>\n",
       "    <tr>\n",
       "      <th>168</th>\n",
       "      <td>vzidorm3</td>\n",
       "      <td>SFT/QWen-cladder-RTrue-DP0.02-s3200-Absrandom-...</td>\n",
       "      <td>True</td>\n",
       "      <td>random</td>\n",
       "      <td>0.0003</td>\n",
       "      <td>0.02</td>\n",
       "      <td>3200</td>\n",
       "      <td>79.04</td>\n",
       "      <td>79.90</td>\n",
       "      <td>73.73</td>\n",
       "    </tr>\n",
       "    <tr>\n",
       "      <th>294</th>\n",
       "      <td>406dphom</td>\n",
       "      <td>SFT/QWen-cladder-RFalse-DP0.02-s3200-AbsNone-l...</td>\n",
       "      <td>False</td>\n",
       "      <td>null</td>\n",
       "      <td>0.0003</td>\n",
       "      <td>0.02</td>\n",
       "      <td>3200</td>\n",
       "      <td>70.48</td>\n",
       "      <td>68.85</td>\n",
       "      <td>66.11</td>\n",
       "    </tr>\n",
       "    <tr>\n",
       "      <th>301</th>\n",
       "      <td>unt5tlj3</td>\n",
       "      <td>SFT/QWen-cladder-RTrue-DP0.02-s3200-AbsNone-lr...</td>\n",
       "      <td>True</td>\n",
       "      <td>null</td>\n",
       "      <td>0.0003</td>\n",
       "      <td>0.02</td>\n",
       "      <td>3200</td>\n",
       "      <td>68.65</td>\n",
       "      <td>68.85</td>\n",
       "      <td>66.11</td>\n",
       "    </tr>\n",
       "  </tbody>\n",
       "</table>\n",
       "</div>"
      ]
     },
     "metadata": {},
     "output_type": "display_data"
    },
    {
     "data": {
      "text/plain": [
       "       run_id                                           run_name  reasoning  \\\n",
       "91   w23hmhlf  SFT/QWen-prontoqa-RFalse-DP0.025-s3200-Absrand...      False   \n",
       "105  66lh4dxi  SFT/QWen-prontoqa-RTrue-DP0.025-s3200-Absrando...       True   \n",
       "315  nnvj293b  SFT/QWen-prontoqa-RFalse-DP0.025-s3200-AbsNone...      False   \n",
       "329  64kfsf57  SFT/QWen-prontoqa-RTrue-DP0.025-s3200-AbsNone-...       True   \n",
       "\n",
       "    anonymize  learning_rate  percent_train  max_steps  prontoqa  \\\n",
       "91     random        0.00015          0.025       3200     89.00   \n",
       "105    random        0.00015          0.025       3200     87.50   \n",
       "315      null        0.00015          0.025       3200     99.75   \n",
       "329      null        0.00015          0.025       3200     99.50   \n",
       "\n",
       "     anticommonsense  noncommonsense  \n",
       "91             83.75           88.75  \n",
       "105            82.50           81.00  \n",
       "315            61.50           71.25  \n",
       "329            70.75           79.00  "
      ],
      "text/html": [
       "<div>\n",
       "<style scoped>\n",
       "    .dataframe tbody tr th:only-of-type {\n",
       "        vertical-align: middle;\n",
       "    }\n",
       "\n",
       "    .dataframe tbody tr th {\n",
       "        vertical-align: top;\n",
       "    }\n",
       "\n",
       "    .dataframe thead th {\n",
       "        text-align: right;\n",
       "    }\n",
       "</style>\n",
       "<table border=\"1\" class=\"dataframe\">\n",
       "  <thead>\n",
       "    <tr style=\"text-align: right;\">\n",
       "      <th></th>\n",
       "      <th>run_id</th>\n",
       "      <th>run_name</th>\n",
       "      <th>reasoning</th>\n",
       "      <th>anonymize</th>\n",
       "      <th>learning_rate</th>\n",
       "      <th>percent_train</th>\n",
       "      <th>max_steps</th>\n",
       "      <th>prontoqa</th>\n",
       "      <th>anticommonsense</th>\n",
       "      <th>noncommonsense</th>\n",
       "    </tr>\n",
       "  </thead>\n",
       "  <tbody>\n",
       "    <tr>\n",
       "      <th>91</th>\n",
       "      <td>w23hmhlf</td>\n",
       "      <td>SFT/QWen-prontoqa-RFalse-DP0.025-s3200-Absrand...</td>\n",
       "      <td>False</td>\n",
       "      <td>random</td>\n",
       "      <td>0.00015</td>\n",
       "      <td>0.025</td>\n",
       "      <td>3200</td>\n",
       "      <td>89.00</td>\n",
       "      <td>83.75</td>\n",
       "      <td>88.75</td>\n",
       "    </tr>\n",
       "    <tr>\n",
       "      <th>105</th>\n",
       "      <td>66lh4dxi</td>\n",
       "      <td>SFT/QWen-prontoqa-RTrue-DP0.025-s3200-Absrando...</td>\n",
       "      <td>True</td>\n",
       "      <td>random</td>\n",
       "      <td>0.00015</td>\n",
       "      <td>0.025</td>\n",
       "      <td>3200</td>\n",
       "      <td>87.50</td>\n",
       "      <td>82.50</td>\n",
       "      <td>81.00</td>\n",
       "    </tr>\n",
       "    <tr>\n",
       "      <th>315</th>\n",
       "      <td>nnvj293b</td>\n",
       "      <td>SFT/QWen-prontoqa-RFalse-DP0.025-s3200-AbsNone...</td>\n",
       "      <td>False</td>\n",
       "      <td>null</td>\n",
       "      <td>0.00015</td>\n",
       "      <td>0.025</td>\n",
       "      <td>3200</td>\n",
       "      <td>99.75</td>\n",
       "      <td>61.50</td>\n",
       "      <td>71.25</td>\n",
       "    </tr>\n",
       "    <tr>\n",
       "      <th>329</th>\n",
       "      <td>64kfsf57</td>\n",
       "      <td>SFT/QWen-prontoqa-RTrue-DP0.025-s3200-AbsNone-...</td>\n",
       "      <td>True</td>\n",
       "      <td>null</td>\n",
       "      <td>0.00015</td>\n",
       "      <td>0.025</td>\n",
       "      <td>3200</td>\n",
       "      <td>99.50</td>\n",
       "      <td>70.75</td>\n",
       "      <td>79.00</td>\n",
       "    </tr>\n",
       "  </tbody>\n",
       "</table>\n",
       "</div>"
      ]
     },
     "metadata": {},
     "output_type": "display_data"
    }
   ],
   "execution_count": 5
  },
  {
   "metadata": {
    "collapsed": true,
    "ExecuteTime": {
     "end_time": "2025-03-25T22:28:30.730931Z",
     "start_time": "2025-03-25T22:28:30.633332Z"
    }
   },
   "cell_type": "code",
   "source": "",
   "id": "initial_id",
   "outputs": [
    {
     "data": {
      "application/vnd.plotly.v1+json": {
       "data": [
        {
         "line": {
          "color": "#636EFA",
          "dash": "dash"
         },
         "mode": "lines+markers",
         "name": "1.0% Train, Anon=True",
         "x": [
          1,
          2,
          4,
          8,
          16,
          32
         ],
         "y": [
          50.435,
          52.305,
          55.095,
          60.915,
          65.67,
          69.47
         ],
         "type": "scatter",
         "xaxis": "x",
         "yaxis": "y"
        },
        {
         "line": {
          "color": "#636EFA",
          "dash": "solid"
         },
         "mode": "lines+markers",
         "name": "1.0% Train, Anon=False",
         "x": [
          1,
          2,
          4,
          8,
          16,
          32
         ],
         "y": [
          27.455,
          42.26,
          53.845,
          53.75,
          63.605000000000004,
          67.07
         ],
         "type": "scatter",
         "xaxis": "x",
         "yaxis": "y"
        },
        {
         "line": {
          "color": "#EF553B",
          "dash": "dash"
         },
         "mode": "lines+markers",
         "name": "2.0% Train, Anon=True",
         "x": [
          1,
          2,
          4,
          8,
          16,
          32
         ],
         "y": [
          50.625,
          53.989999999999995,
          61.345,
          62.5,
          72.015,
          75.53
         ],
         "type": "scatter",
         "xaxis": "x",
         "yaxis": "y"
        },
        {
         "line": {
          "color": "#EF553B",
          "dash": "solid"
         },
         "mode": "lines+markers",
         "name": "2.0% Train, Anon=False",
         "x": [
          1,
          2,
          4,
          8,
          16,
          32
         ],
         "y": [
          44.95,
          52.885000000000005,
          58.269999999999996,
          65.33500000000001,
          71.25,
          72.98
         ],
         "type": "scatter",
         "xaxis": "x",
         "yaxis": "y"
        },
        {
         "line": {
          "color": "#00CC96",
          "dash": "dash"
         },
         "mode": "lines+markers",
         "name": "5.0% Train, Anon=True",
         "x": [
          1,
          2,
          4,
          8,
          16,
          32
         ],
         "y": [
          54.040000000000006,
          54.95,
          63.075,
          76.345,
          84.375,
          84.95
         ],
         "type": "scatter",
         "xaxis": "x",
         "yaxis": "y"
        },
        {
         "line": {
          "color": "#00CC96",
          "dash": "solid"
         },
         "mode": "lines+markers",
         "name": "5.0% Train, Anon=False",
         "x": [
          1,
          2,
          4,
          8,
          16,
          32
         ],
         "y": [
          56.875,
          59.42,
          66.92500000000001,
          78.27,
          88.36500000000001,
          88.17500000000001
         ],
         "type": "scatter",
         "xaxis": "x",
         "yaxis": "y"
        },
        {
         "line": {
          "color": "#636EFA",
          "dash": "dash"
         },
         "mode": "lines+markers",
         "name": "1.0% Train, Anon=True",
         "x": [
          1,
          2,
          4,
          8,
          16,
          32
         ],
         "y": [
          51.535,
          49.230000000000004,
          50.865,
          59.565,
          64.28,
          68.895
         ],
         "type": "scatter",
         "xaxis": "x2",
         "yaxis": "y2"
        },
        {
         "line": {
          "color": "#636EFA",
          "dash": "solid"
         },
         "mode": "lines+markers",
         "name": "1.0% Train, Anon=False",
         "x": [
          1,
          2,
          4,
          8,
          16,
          32
         ],
         "y": [
          26.104999999999997,
          38.705,
          52.885,
          54.855000000000004,
          63.555,
          66.925
         ],
         "type": "scatter",
         "xaxis": "x2",
         "yaxis": "y2"
        },
        {
         "line": {
          "color": "#EF553B",
          "dash": "dash"
         },
         "mode": "lines+markers",
         "name": "2.0% Train, Anon=True",
         "x": [
          1,
          2,
          4,
          8,
          16,
          32
         ],
         "y": [
          49.13,
          54.81,
          58.46,
          61.875,
          71.10499999999999,
          75.625
         ],
         "type": "scatter",
         "xaxis": "x2",
         "yaxis": "y2"
        },
        {
         "line": {
          "color": "#EF553B",
          "dash": "solid"
         },
         "mode": "lines+markers",
         "name": "2.0% Train, Anon=False",
         "x": [
          1,
          2,
          4,
          8,
          16,
          32
         ],
         "y": [
          45.24,
          52.355000000000004,
          58.125,
          67.21000000000001,
          70.91499999999999,
          74.135
         ],
         "type": "scatter",
         "xaxis": "x2",
         "yaxis": "y2"
        },
        {
         "line": {
          "color": "#00CC96",
          "dash": "dash"
         },
         "mode": "lines+markers",
         "name": "5.0% Train, Anon=True",
         "x": [
          1,
          2,
          4,
          8,
          16,
          32
         ],
         "y": [
          54.855000000000004,
          55.334999999999994,
          63.41,
          76.73,
          84.95500000000001,
          85.725
         ],
         "type": "scatter",
         "xaxis": "x2",
         "yaxis": "y2"
        },
        {
         "line": {
          "color": "#00CC96",
          "dash": "solid"
         },
         "mode": "lines+markers",
         "name": "5.0% Train, Anon=False",
         "x": [
          1,
          2,
          4,
          8,
          16,
          32
         ],
         "y": [
          54.665,
          59.76,
          65.05,
          77.64500000000001,
          88.50999999999999,
          88.94
         ],
         "type": "scatter",
         "xaxis": "x2",
         "yaxis": "y2"
        },
        {
         "line": {
          "color": "#636EFA",
          "dash": "dash"
         },
         "mode": "lines+markers",
         "name": "1.0% Train, Anon=True",
         "x": [
          1,
          2,
          4,
          8,
          16,
          32
         ],
         "y": [
          50.05,
          53.32,
          53.81,
          61.230000000000004,
          63.77,
          68.405
         ],
         "type": "scatter",
         "xaxis": "x3",
         "yaxis": "y3"
        },
        {
         "line": {
          "color": "#636EFA",
          "dash": "solid"
         },
         "mode": "lines+markers",
         "name": "1.0% Train, Anon=False",
         "x": [
          1,
          2,
          4,
          8,
          16,
          32
         ],
         "y": [
          27.93,
          33.205,
          50.195,
          49.215,
          57.614999999999995,
          59.62
         ],
         "type": "scatter",
         "xaxis": "x3",
         "yaxis": "y3"
        },
        {
         "line": {
          "color": "#EF553B",
          "dash": "dash"
         },
         "mode": "lines+markers",
         "name": "2.0% Train, Anon=True",
         "x": [
          1,
          2,
          4,
          8,
          16,
          32
         ],
         "y": [
          50.144999999999996,
          55.47,
          59.175,
          62.5,
          71.14,
          72.95
         ],
         "type": "scatter",
         "xaxis": "x3",
         "yaxis": "y3"
        },
        {
         "line": {
          "color": "#EF553B",
          "dash": "solid"
         },
         "mode": "lines+markers",
         "name": "2.0% Train, Anon=False",
         "x": [
          1,
          2,
          4,
          8,
          16,
          32
         ],
         "y": [
          44.045,
          47.215,
          54.245000000000005,
          59.864999999999995,
          65.14,
          67.04
         ],
         "type": "scatter",
         "xaxis": "x3",
         "yaxis": "y3"
        },
        {
         "line": {
          "color": "#00CC96",
          "dash": "dash"
         },
         "mode": "lines+markers",
         "name": "5.0% Train, Anon=True",
         "x": [
          1,
          2,
          4,
          8,
          16,
          32
         ],
         "y": [
          53.760000000000005,
          57.275,
          62.599999999999994,
          73.73,
          79.055,
          82.76
         ],
         "type": "scatter",
         "xaxis": "x3",
         "yaxis": "y3"
        },
        {
         "line": {
          "color": "#00CC96",
          "dash": "solid"
         },
         "mode": "lines+markers",
         "name": "5.0% Train, Anon=False",
         "x": [
          1,
          2,
          4,
          8,
          16,
          32
         ],
         "y": [
          54.735,
          57.03,
          61.035,
          71.435,
          80.75999999999999,
          82.66499999999999
         ],
         "type": "scatter",
         "xaxis": "x3",
         "yaxis": "y3"
        }
       ],
       "layout": {
        "template": {
         "data": {
          "histogram2dcontour": [
           {
            "type": "histogram2dcontour",
            "colorbar": {
             "outlinewidth": 0,
             "ticks": ""
            },
            "colorscale": [
             [
              0.0,
              "#0d0887"
             ],
             [
              0.1111111111111111,
              "#46039f"
             ],
             [
              0.2222222222222222,
              "#7201a8"
             ],
             [
              0.3333333333333333,
              "#9c179e"
             ],
             [
              0.4444444444444444,
              "#bd3786"
             ],
             [
              0.5555555555555556,
              "#d8576b"
             ],
             [
              0.6666666666666666,
              "#ed7953"
             ],
             [
              0.7777777777777778,
              "#fb9f3a"
             ],
             [
              0.8888888888888888,
              "#fdca26"
             ],
             [
              1.0,
              "#f0f921"
             ]
            ]
           }
          ],
          "choropleth": [
           {
            "type": "choropleth",
            "colorbar": {
             "outlinewidth": 0,
             "ticks": ""
            }
           }
          ],
          "histogram2d": [
           {
            "type": "histogram2d",
            "colorbar": {
             "outlinewidth": 0,
             "ticks": ""
            },
            "colorscale": [
             [
              0.0,
              "#0d0887"
             ],
             [
              0.1111111111111111,
              "#46039f"
             ],
             [
              0.2222222222222222,
              "#7201a8"
             ],
             [
              0.3333333333333333,
              "#9c179e"
             ],
             [
              0.4444444444444444,
              "#bd3786"
             ],
             [
              0.5555555555555556,
              "#d8576b"
             ],
             [
              0.6666666666666666,
              "#ed7953"
             ],
             [
              0.7777777777777778,
              "#fb9f3a"
             ],
             [
              0.8888888888888888,
              "#fdca26"
             ],
             [
              1.0,
              "#f0f921"
             ]
            ]
           }
          ],
          "heatmap": [
           {
            "type": "heatmap",
            "colorbar": {
             "outlinewidth": 0,
             "ticks": ""
            },
            "colorscale": [
             [
              0.0,
              "#0d0887"
             ],
             [
              0.1111111111111111,
              "#46039f"
             ],
             [
              0.2222222222222222,
              "#7201a8"
             ],
             [
              0.3333333333333333,
              "#9c179e"
             ],
             [
              0.4444444444444444,
              "#bd3786"
             ],
             [
              0.5555555555555556,
              "#d8576b"
             ],
             [
              0.6666666666666666,
              "#ed7953"
             ],
             [
              0.7777777777777778,
              "#fb9f3a"
             ],
             [
              0.8888888888888888,
              "#fdca26"
             ],
             [
              1.0,
              "#f0f921"
             ]
            ]
           }
          ],
          "heatmapgl": [
           {
            "type": "heatmapgl",
            "colorbar": {
             "outlinewidth": 0,
             "ticks": ""
            },
            "colorscale": [
             [
              0.0,
              "#0d0887"
             ],
             [
              0.1111111111111111,
              "#46039f"
             ],
             [
              0.2222222222222222,
              "#7201a8"
             ],
             [
              0.3333333333333333,
              "#9c179e"
             ],
             [
              0.4444444444444444,
              "#bd3786"
             ],
             [
              0.5555555555555556,
              "#d8576b"
             ],
             [
              0.6666666666666666,
              "#ed7953"
             ],
             [
              0.7777777777777778,
              "#fb9f3a"
             ],
             [
              0.8888888888888888,
              "#fdca26"
             ],
             [
              1.0,
              "#f0f921"
             ]
            ]
           }
          ],
          "contourcarpet": [
           {
            "type": "contourcarpet",
            "colorbar": {
             "outlinewidth": 0,
             "ticks": ""
            }
           }
          ],
          "contour": [
           {
            "type": "contour",
            "colorbar": {
             "outlinewidth": 0,
             "ticks": ""
            },
            "colorscale": [
             [
              0.0,
              "#0d0887"
             ],
             [
              0.1111111111111111,
              "#46039f"
             ],
             [
              0.2222222222222222,
              "#7201a8"
             ],
             [
              0.3333333333333333,
              "#9c179e"
             ],
             [
              0.4444444444444444,
              "#bd3786"
             ],
             [
              0.5555555555555556,
              "#d8576b"
             ],
             [
              0.6666666666666666,
              "#ed7953"
             ],
             [
              0.7777777777777778,
              "#fb9f3a"
             ],
             [
              0.8888888888888888,
              "#fdca26"
             ],
             [
              1.0,
              "#f0f921"
             ]
            ]
           }
          ],
          "surface": [
           {
            "type": "surface",
            "colorbar": {
             "outlinewidth": 0,
             "ticks": ""
            },
            "colorscale": [
             [
              0.0,
              "#0d0887"
             ],
             [
              0.1111111111111111,
              "#46039f"
             ],
             [
              0.2222222222222222,
              "#7201a8"
             ],
             [
              0.3333333333333333,
              "#9c179e"
             ],
             [
              0.4444444444444444,
              "#bd3786"
             ],
             [
              0.5555555555555556,
              "#d8576b"
             ],
             [
              0.6666666666666666,
              "#ed7953"
             ],
             [
              0.7777777777777778,
              "#fb9f3a"
             ],
             [
              0.8888888888888888,
              "#fdca26"
             ],
             [
              1.0,
              "#f0f921"
             ]
            ]
           }
          ],
          "mesh3d": [
           {
            "type": "mesh3d",
            "colorbar": {
             "outlinewidth": 0,
             "ticks": ""
            }
           }
          ],
          "scatter": [
           {
            "fillpattern": {
             "fillmode": "overlay",
             "size": 10,
             "solidity": 0.2
            },
            "type": "scatter"
           }
          ],
          "parcoords": [
           {
            "type": "parcoords",
            "line": {
             "colorbar": {
              "outlinewidth": 0,
              "ticks": ""
             }
            }
           }
          ],
          "scatterpolargl": [
           {
            "type": "scatterpolargl",
            "marker": {
             "colorbar": {
              "outlinewidth": 0,
              "ticks": ""
             }
            }
           }
          ],
          "bar": [
           {
            "error_x": {
             "color": "#2a3f5f"
            },
            "error_y": {
             "color": "#2a3f5f"
            },
            "marker": {
             "line": {
              "color": "#E5ECF6",
              "width": 0.5
             },
             "pattern": {
              "fillmode": "overlay",
              "size": 10,
              "solidity": 0.2
             }
            },
            "type": "bar"
           }
          ],
          "scattergeo": [
           {
            "type": "scattergeo",
            "marker": {
             "colorbar": {
              "outlinewidth": 0,
              "ticks": ""
             }
            }
           }
          ],
          "scatterpolar": [
           {
            "type": "scatterpolar",
            "marker": {
             "colorbar": {
              "outlinewidth": 0,
              "ticks": ""
             }
            }
           }
          ],
          "histogram": [
           {
            "marker": {
             "pattern": {
              "fillmode": "overlay",
              "size": 10,
              "solidity": 0.2
             }
            },
            "type": "histogram"
           }
          ],
          "scattergl": [
           {
            "type": "scattergl",
            "marker": {
             "colorbar": {
              "outlinewidth": 0,
              "ticks": ""
             }
            }
           }
          ],
          "scatter3d": [
           {
            "type": "scatter3d",
            "line": {
             "colorbar": {
              "outlinewidth": 0,
              "ticks": ""
             }
            },
            "marker": {
             "colorbar": {
              "outlinewidth": 0,
              "ticks": ""
             }
            }
           }
          ],
          "scattermapbox": [
           {
            "type": "scattermapbox",
            "marker": {
             "colorbar": {
              "outlinewidth": 0,
              "ticks": ""
             }
            }
           }
          ],
          "scatterternary": [
           {
            "type": "scatterternary",
            "marker": {
             "colorbar": {
              "outlinewidth": 0,
              "ticks": ""
             }
            }
           }
          ],
          "scattercarpet": [
           {
            "type": "scattercarpet",
            "marker": {
             "colorbar": {
              "outlinewidth": 0,
              "ticks": ""
             }
            }
           }
          ],
          "carpet": [
           {
            "aaxis": {
             "endlinecolor": "#2a3f5f",
             "gridcolor": "white",
             "linecolor": "white",
             "minorgridcolor": "white",
             "startlinecolor": "#2a3f5f"
            },
            "baxis": {
             "endlinecolor": "#2a3f5f",
             "gridcolor": "white",
             "linecolor": "white",
             "minorgridcolor": "white",
             "startlinecolor": "#2a3f5f"
            },
            "type": "carpet"
           }
          ],
          "table": [
           {
            "cells": {
             "fill": {
              "color": "#EBF0F8"
             },
             "line": {
              "color": "white"
             }
            },
            "header": {
             "fill": {
              "color": "#C8D4E3"
             },
             "line": {
              "color": "white"
             }
            },
            "type": "table"
           }
          ],
          "barpolar": [
           {
            "marker": {
             "line": {
              "color": "#E5ECF6",
              "width": 0.5
             },
             "pattern": {
              "fillmode": "overlay",
              "size": 10,
              "solidity": 0.2
             }
            },
            "type": "barpolar"
           }
          ],
          "pie": [
           {
            "automargin": true,
            "type": "pie"
           }
          ]
         },
         "layout": {
          "autotypenumbers": "strict",
          "colorway": [
           "#636efa",
           "#EF553B",
           "#00cc96",
           "#ab63fa",
           "#FFA15A",
           "#19d3f3",
           "#FF6692",
           "#B6E880",
           "#FF97FF",
           "#FECB52"
          ],
          "font": {
           "color": "#2a3f5f"
          },
          "hovermode": "closest",
          "hoverlabel": {
           "align": "left"
          },
          "paper_bgcolor": "white",
          "plot_bgcolor": "#E5ECF6",
          "polar": {
           "bgcolor": "#E5ECF6",
           "angularaxis": {
            "gridcolor": "white",
            "linecolor": "white",
            "ticks": ""
           },
           "radialaxis": {
            "gridcolor": "white",
            "linecolor": "white",
            "ticks": ""
           }
          },
          "ternary": {
           "bgcolor": "#E5ECF6",
           "aaxis": {
            "gridcolor": "white",
            "linecolor": "white",
            "ticks": ""
           },
           "baxis": {
            "gridcolor": "white",
            "linecolor": "white",
            "ticks": ""
           },
           "caxis": {
            "gridcolor": "white",
            "linecolor": "white",
            "ticks": ""
           }
          },
          "coloraxis": {
           "colorbar": {
            "outlinewidth": 0,
            "ticks": ""
           }
          },
          "colorscale": {
           "sequential": [
            [
             0.0,
             "#0d0887"
            ],
            [
             0.1111111111111111,
             "#46039f"
            ],
            [
             0.2222222222222222,
             "#7201a8"
            ],
            [
             0.3333333333333333,
             "#9c179e"
            ],
            [
             0.4444444444444444,
             "#bd3786"
            ],
            [
             0.5555555555555556,
             "#d8576b"
            ],
            [
             0.6666666666666666,
             "#ed7953"
            ],
            [
             0.7777777777777778,
             "#fb9f3a"
            ],
            [
             0.8888888888888888,
             "#fdca26"
            ],
            [
             1.0,
             "#f0f921"
            ]
           ],
           "sequentialminus": [
            [
             0.0,
             "#0d0887"
            ],
            [
             0.1111111111111111,
             "#46039f"
            ],
            [
             0.2222222222222222,
             "#7201a8"
            ],
            [
             0.3333333333333333,
             "#9c179e"
            ],
            [
             0.4444444444444444,
             "#bd3786"
            ],
            [
             0.5555555555555556,
             "#d8576b"
            ],
            [
             0.6666666666666666,
             "#ed7953"
            ],
            [
             0.7777777777777778,
             "#fb9f3a"
            ],
            [
             0.8888888888888888,
             "#fdca26"
            ],
            [
             1.0,
             "#f0f921"
            ]
           ],
           "diverging": [
            [
             0,
             "#8e0152"
            ],
            [
             0.1,
             "#c51b7d"
            ],
            [
             0.2,
             "#de77ae"
            ],
            [
             0.3,
             "#f1b6da"
            ],
            [
             0.4,
             "#fde0ef"
            ],
            [
             0.5,
             "#f7f7f7"
            ],
            [
             0.6,
             "#e6f5d0"
            ],
            [
             0.7,
             "#b8e186"
            ],
            [
             0.8,
             "#7fbc41"
            ],
            [
             0.9,
             "#4d9221"
            ],
            [
             1,
             "#276419"
            ]
           ]
          },
          "xaxis": {
           "gridcolor": "white",
           "linecolor": "white",
           "ticks": "",
           "title": {
            "standoff": 15
           },
           "zerolinecolor": "white",
           "automargin": true,
           "zerolinewidth": 2
          },
          "yaxis": {
           "gridcolor": "white",
           "linecolor": "white",
           "ticks": "",
           "title": {
            "standoff": 15
           },
           "zerolinecolor": "white",
           "automargin": true,
           "zerolinewidth": 2
          },
          "scene": {
           "xaxis": {
            "backgroundcolor": "#E5ECF6",
            "gridcolor": "white",
            "linecolor": "white",
            "showbackground": true,
            "ticks": "",
            "zerolinecolor": "white",
            "gridwidth": 2
           },
           "yaxis": {
            "backgroundcolor": "#E5ECF6",
            "gridcolor": "white",
            "linecolor": "white",
            "showbackground": true,
            "ticks": "",
            "zerolinecolor": "white",
            "gridwidth": 2
           },
           "zaxis": {
            "backgroundcolor": "#E5ECF6",
            "gridcolor": "white",
            "linecolor": "white",
            "showbackground": true,
            "ticks": "",
            "zerolinecolor": "white",
            "gridwidth": 2
           }
          },
          "shapedefaults": {
           "line": {
            "color": "#2a3f5f"
           }
          },
          "annotationdefaults": {
           "arrowcolor": "#2a3f5f",
           "arrowhead": 0,
           "arrowwidth": 1
          },
          "geo": {
           "bgcolor": "white",
           "landcolor": "#E5ECF6",
           "subunitcolor": "white",
           "showland": true,
           "showlakes": true,
           "lakecolor": "white"
          },
          "title": {
           "x": 0.05
          },
          "mapbox": {
           "style": "light"
          }
         }
        },
        "xaxis": {
         "anchor": "y",
         "domain": [
          0.0,
          0.26666666666666666
         ],
         "title": {
          "text": "Number of Epochs"
         }
        },
        "yaxis": {
         "anchor": "x",
         "domain": [
          0.0,
          1.0
         ],
         "title": {
          "text": "Score"
         }
        },
        "xaxis2": {
         "anchor": "y2",
         "domain": [
          0.3666666666666667,
          0.6333333333333333
         ],
         "title": {
          "text": "Number of Epochs"
         }
        },
        "yaxis2": {
         "anchor": "x2",
         "domain": [
          0.0,
          1.0
         ]
        },
        "xaxis3": {
         "anchor": "y3",
         "domain": [
          0.7333333333333334,
          1.0
         ],
         "title": {
          "text": "Number of Epochs"
         }
        },
        "yaxis3": {
         "anchor": "x3",
         "domain": [
          0.0,
          1.0
         ]
        },
        "annotations": [
         {
          "font": {
           "size": 16
          },
          "showarrow": false,
          "text": "commonsense",
          "x": 0.13333333333333333,
          "xanchor": "center",
          "xref": "paper",
          "y": 1.0,
          "yanchor": "bottom",
          "yref": "paper"
         },
         {
          "font": {
           "size": 16
          },
          "showarrow": false,
          "text": "anticommonsense",
          "x": 0.5,
          "xanchor": "center",
          "xref": "paper",
          "y": 1.0,
          "yanchor": "bottom",
          "yref": "paper"
         },
         {
          "font": {
           "size": 16
          },
          "showarrow": false,
          "text": "noncommonsense",
          "x": 0.8666666666666667,
          "xanchor": "center",
          "xref": "paper",
          "y": 1.0,
          "yanchor": "bottom",
          "yref": "paper"
         }
        ],
        "title": {
         "text": "Anonymize vs Non-Anonymize Performance Comparison"
        },
        "legend": {
         "orientation": "h",
         "yanchor": "bottom",
         "y": -0.3,
         "xanchor": "center",
         "x": 0.5
        },
        "margin": {
         "b": 100
        },
        "height": 500,
        "width": 1050
       },
       "config": {
        "plotlyServerURL": "https://plot.ly"
       }
      },
      "text/html": [
       "<div>                            <div id=\"7ef2bfb9-ac10-42d3-8ecc-3b97888ddded\" class=\"plotly-graph-div\" style=\"height:500px; width:1050px;\"></div>            <script type=\"text/javascript\">                require([\"plotly\"], function(Plotly) {                    window.PLOTLYENV=window.PLOTLYENV || {};                                    if (document.getElementById(\"7ef2bfb9-ac10-42d3-8ecc-3b97888ddded\")) {                    Plotly.newPlot(                        \"7ef2bfb9-ac10-42d3-8ecc-3b97888ddded\",                        [{\"line\":{\"color\":\"#636EFA\",\"dash\":\"dash\"},\"mode\":\"lines+markers\",\"name\":\"1.0% Train, Anon=True\",\"x\":[1,2,4,8,16,32],\"y\":[50.435,52.305,55.095,60.915,65.67,69.47],\"type\":\"scatter\",\"xaxis\":\"x\",\"yaxis\":\"y\"},{\"line\":{\"color\":\"#636EFA\",\"dash\":\"solid\"},\"mode\":\"lines+markers\",\"name\":\"1.0% Train, Anon=False\",\"x\":[1,2,4,8,16,32],\"y\":[27.455,42.26,53.845,53.75,63.605000000000004,67.07],\"type\":\"scatter\",\"xaxis\":\"x\",\"yaxis\":\"y\"},{\"line\":{\"color\":\"#EF553B\",\"dash\":\"dash\"},\"mode\":\"lines+markers\",\"name\":\"2.0% Train, Anon=True\",\"x\":[1,2,4,8,16,32],\"y\":[50.625,53.989999999999995,61.345,62.5,72.015,75.53],\"type\":\"scatter\",\"xaxis\":\"x\",\"yaxis\":\"y\"},{\"line\":{\"color\":\"#EF553B\",\"dash\":\"solid\"},\"mode\":\"lines+markers\",\"name\":\"2.0% Train, Anon=False\",\"x\":[1,2,4,8,16,32],\"y\":[44.95,52.885000000000005,58.269999999999996,65.33500000000001,71.25,72.98],\"type\":\"scatter\",\"xaxis\":\"x\",\"yaxis\":\"y\"},{\"line\":{\"color\":\"#00CC96\",\"dash\":\"dash\"},\"mode\":\"lines+markers\",\"name\":\"5.0% Train, Anon=True\",\"x\":[1,2,4,8,16,32],\"y\":[54.040000000000006,54.95,63.075,76.345,84.375,84.95],\"type\":\"scatter\",\"xaxis\":\"x\",\"yaxis\":\"y\"},{\"line\":{\"color\":\"#00CC96\",\"dash\":\"solid\"},\"mode\":\"lines+markers\",\"name\":\"5.0% Train, Anon=False\",\"x\":[1,2,4,8,16,32],\"y\":[56.875,59.42,66.92500000000001,78.27,88.36500000000001,88.17500000000001],\"type\":\"scatter\",\"xaxis\":\"x\",\"yaxis\":\"y\"},{\"line\":{\"color\":\"#636EFA\",\"dash\":\"dash\"},\"mode\":\"lines+markers\",\"name\":\"1.0% Train, Anon=True\",\"x\":[1,2,4,8,16,32],\"y\":[51.535,49.230000000000004,50.865,59.565,64.28,68.895],\"type\":\"scatter\",\"xaxis\":\"x2\",\"yaxis\":\"y2\"},{\"line\":{\"color\":\"#636EFA\",\"dash\":\"solid\"},\"mode\":\"lines+markers\",\"name\":\"1.0% Train, Anon=False\",\"x\":[1,2,4,8,16,32],\"y\":[26.104999999999997,38.705,52.885,54.855000000000004,63.555,66.925],\"type\":\"scatter\",\"xaxis\":\"x2\",\"yaxis\":\"y2\"},{\"line\":{\"color\":\"#EF553B\",\"dash\":\"dash\"},\"mode\":\"lines+markers\",\"name\":\"2.0% Train, Anon=True\",\"x\":[1,2,4,8,16,32],\"y\":[49.13,54.81,58.46,61.875,71.10499999999999,75.625],\"type\":\"scatter\",\"xaxis\":\"x2\",\"yaxis\":\"y2\"},{\"line\":{\"color\":\"#EF553B\",\"dash\":\"solid\"},\"mode\":\"lines+markers\",\"name\":\"2.0% Train, Anon=False\",\"x\":[1,2,4,8,16,32],\"y\":[45.24,52.355000000000004,58.125,67.21000000000001,70.91499999999999,74.135],\"type\":\"scatter\",\"xaxis\":\"x2\",\"yaxis\":\"y2\"},{\"line\":{\"color\":\"#00CC96\",\"dash\":\"dash\"},\"mode\":\"lines+markers\",\"name\":\"5.0% Train, Anon=True\",\"x\":[1,2,4,8,16,32],\"y\":[54.855000000000004,55.334999999999994,63.41,76.73,84.95500000000001,85.725],\"type\":\"scatter\",\"xaxis\":\"x2\",\"yaxis\":\"y2\"},{\"line\":{\"color\":\"#00CC96\",\"dash\":\"solid\"},\"mode\":\"lines+markers\",\"name\":\"5.0% Train, Anon=False\",\"x\":[1,2,4,8,16,32],\"y\":[54.665,59.76,65.05,77.64500000000001,88.50999999999999,88.94],\"type\":\"scatter\",\"xaxis\":\"x2\",\"yaxis\":\"y2\"},{\"line\":{\"color\":\"#636EFA\",\"dash\":\"dash\"},\"mode\":\"lines+markers\",\"name\":\"1.0% Train, Anon=True\",\"x\":[1,2,4,8,16,32],\"y\":[50.05,53.32,53.81,61.230000000000004,63.77,68.405],\"type\":\"scatter\",\"xaxis\":\"x3\",\"yaxis\":\"y3\"},{\"line\":{\"color\":\"#636EFA\",\"dash\":\"solid\"},\"mode\":\"lines+markers\",\"name\":\"1.0% Train, Anon=False\",\"x\":[1,2,4,8,16,32],\"y\":[27.93,33.205,50.195,49.215,57.614999999999995,59.62],\"type\":\"scatter\",\"xaxis\":\"x3\",\"yaxis\":\"y3\"},{\"line\":{\"color\":\"#EF553B\",\"dash\":\"dash\"},\"mode\":\"lines+markers\",\"name\":\"2.0% Train, Anon=True\",\"x\":[1,2,4,8,16,32],\"y\":[50.144999999999996,55.47,59.175,62.5,71.14,72.95],\"type\":\"scatter\",\"xaxis\":\"x3\",\"yaxis\":\"y3\"},{\"line\":{\"color\":\"#EF553B\",\"dash\":\"solid\"},\"mode\":\"lines+markers\",\"name\":\"2.0% Train, Anon=False\",\"x\":[1,2,4,8,16,32],\"y\":[44.045,47.215,54.245000000000005,59.864999999999995,65.14,67.04],\"type\":\"scatter\",\"xaxis\":\"x3\",\"yaxis\":\"y3\"},{\"line\":{\"color\":\"#00CC96\",\"dash\":\"dash\"},\"mode\":\"lines+markers\",\"name\":\"5.0% Train, Anon=True\",\"x\":[1,2,4,8,16,32],\"y\":[53.760000000000005,57.275,62.599999999999994,73.73,79.055,82.76],\"type\":\"scatter\",\"xaxis\":\"x3\",\"yaxis\":\"y3\"},{\"line\":{\"color\":\"#00CC96\",\"dash\":\"solid\"},\"mode\":\"lines+markers\",\"name\":\"5.0% Train, Anon=False\",\"x\":[1,2,4,8,16,32],\"y\":[54.735,57.03,61.035,71.435,80.75999999999999,82.66499999999999],\"type\":\"scatter\",\"xaxis\":\"x3\",\"yaxis\":\"y3\"}],                        {\"template\":{\"data\":{\"histogram2dcontour\":[{\"type\":\"histogram2dcontour\",\"colorbar\":{\"outlinewidth\":0,\"ticks\":\"\"},\"colorscale\":[[0.0,\"#0d0887\"],[0.1111111111111111,\"#46039f\"],[0.2222222222222222,\"#7201a8\"],[0.3333333333333333,\"#9c179e\"],[0.4444444444444444,\"#bd3786\"],[0.5555555555555556,\"#d8576b\"],[0.6666666666666666,\"#ed7953\"],[0.7777777777777778,\"#fb9f3a\"],[0.8888888888888888,\"#fdca26\"],[1.0,\"#f0f921\"]]}],\"choropleth\":[{\"type\":\"choropleth\",\"colorbar\":{\"outlinewidth\":0,\"ticks\":\"\"}}],\"histogram2d\":[{\"type\":\"histogram2d\",\"colorbar\":{\"outlinewidth\":0,\"ticks\":\"\"},\"colorscale\":[[0.0,\"#0d0887\"],[0.1111111111111111,\"#46039f\"],[0.2222222222222222,\"#7201a8\"],[0.3333333333333333,\"#9c179e\"],[0.4444444444444444,\"#bd3786\"],[0.5555555555555556,\"#d8576b\"],[0.6666666666666666,\"#ed7953\"],[0.7777777777777778,\"#fb9f3a\"],[0.8888888888888888,\"#fdca26\"],[1.0,\"#f0f921\"]]}],\"heatmap\":[{\"type\":\"heatmap\",\"colorbar\":{\"outlinewidth\":0,\"ticks\":\"\"},\"colorscale\":[[0.0,\"#0d0887\"],[0.1111111111111111,\"#46039f\"],[0.2222222222222222,\"#7201a8\"],[0.3333333333333333,\"#9c179e\"],[0.4444444444444444,\"#bd3786\"],[0.5555555555555556,\"#d8576b\"],[0.6666666666666666,\"#ed7953\"],[0.7777777777777778,\"#fb9f3a\"],[0.8888888888888888,\"#fdca26\"],[1.0,\"#f0f921\"]]}],\"heatmapgl\":[{\"type\":\"heatmapgl\",\"colorbar\":{\"outlinewidth\":0,\"ticks\":\"\"},\"colorscale\":[[0.0,\"#0d0887\"],[0.1111111111111111,\"#46039f\"],[0.2222222222222222,\"#7201a8\"],[0.3333333333333333,\"#9c179e\"],[0.4444444444444444,\"#bd3786\"],[0.5555555555555556,\"#d8576b\"],[0.6666666666666666,\"#ed7953\"],[0.7777777777777778,\"#fb9f3a\"],[0.8888888888888888,\"#fdca26\"],[1.0,\"#f0f921\"]]}],\"contourcarpet\":[{\"type\":\"contourcarpet\",\"colorbar\":{\"outlinewidth\":0,\"ticks\":\"\"}}],\"contour\":[{\"type\":\"contour\",\"colorbar\":{\"outlinewidth\":0,\"ticks\":\"\"},\"colorscale\":[[0.0,\"#0d0887\"],[0.1111111111111111,\"#46039f\"],[0.2222222222222222,\"#7201a8\"],[0.3333333333333333,\"#9c179e\"],[0.4444444444444444,\"#bd3786\"],[0.5555555555555556,\"#d8576b\"],[0.6666666666666666,\"#ed7953\"],[0.7777777777777778,\"#fb9f3a\"],[0.8888888888888888,\"#fdca26\"],[1.0,\"#f0f921\"]]}],\"surface\":[{\"type\":\"surface\",\"colorbar\":{\"outlinewidth\":0,\"ticks\":\"\"},\"colorscale\":[[0.0,\"#0d0887\"],[0.1111111111111111,\"#46039f\"],[0.2222222222222222,\"#7201a8\"],[0.3333333333333333,\"#9c179e\"],[0.4444444444444444,\"#bd3786\"],[0.5555555555555556,\"#d8576b\"],[0.6666666666666666,\"#ed7953\"],[0.7777777777777778,\"#fb9f3a\"],[0.8888888888888888,\"#fdca26\"],[1.0,\"#f0f921\"]]}],\"mesh3d\":[{\"type\":\"mesh3d\",\"colorbar\":{\"outlinewidth\":0,\"ticks\":\"\"}}],\"scatter\":[{\"fillpattern\":{\"fillmode\":\"overlay\",\"size\":10,\"solidity\":0.2},\"type\":\"scatter\"}],\"parcoords\":[{\"type\":\"parcoords\",\"line\":{\"colorbar\":{\"outlinewidth\":0,\"ticks\":\"\"}}}],\"scatterpolargl\":[{\"type\":\"scatterpolargl\",\"marker\":{\"colorbar\":{\"outlinewidth\":0,\"ticks\":\"\"}}}],\"bar\":[{\"error_x\":{\"color\":\"#2a3f5f\"},\"error_y\":{\"color\":\"#2a3f5f\"},\"marker\":{\"line\":{\"color\":\"#E5ECF6\",\"width\":0.5},\"pattern\":{\"fillmode\":\"overlay\",\"size\":10,\"solidity\":0.2}},\"type\":\"bar\"}],\"scattergeo\":[{\"type\":\"scattergeo\",\"marker\":{\"colorbar\":{\"outlinewidth\":0,\"ticks\":\"\"}}}],\"scatterpolar\":[{\"type\":\"scatterpolar\",\"marker\":{\"colorbar\":{\"outlinewidth\":0,\"ticks\":\"\"}}}],\"histogram\":[{\"marker\":{\"pattern\":{\"fillmode\":\"overlay\",\"size\":10,\"solidity\":0.2}},\"type\":\"histogram\"}],\"scattergl\":[{\"type\":\"scattergl\",\"marker\":{\"colorbar\":{\"outlinewidth\":0,\"ticks\":\"\"}}}],\"scatter3d\":[{\"type\":\"scatter3d\",\"line\":{\"colorbar\":{\"outlinewidth\":0,\"ticks\":\"\"}},\"marker\":{\"colorbar\":{\"outlinewidth\":0,\"ticks\":\"\"}}}],\"scattermapbox\":[{\"type\":\"scattermapbox\",\"marker\":{\"colorbar\":{\"outlinewidth\":0,\"ticks\":\"\"}}}],\"scatterternary\":[{\"type\":\"scatterternary\",\"marker\":{\"colorbar\":{\"outlinewidth\":0,\"ticks\":\"\"}}}],\"scattercarpet\":[{\"type\":\"scattercarpet\",\"marker\":{\"colorbar\":{\"outlinewidth\":0,\"ticks\":\"\"}}}],\"carpet\":[{\"aaxis\":{\"endlinecolor\":\"#2a3f5f\",\"gridcolor\":\"white\",\"linecolor\":\"white\",\"minorgridcolor\":\"white\",\"startlinecolor\":\"#2a3f5f\"},\"baxis\":{\"endlinecolor\":\"#2a3f5f\",\"gridcolor\":\"white\",\"linecolor\":\"white\",\"minorgridcolor\":\"white\",\"startlinecolor\":\"#2a3f5f\"},\"type\":\"carpet\"}],\"table\":[{\"cells\":{\"fill\":{\"color\":\"#EBF0F8\"},\"line\":{\"color\":\"white\"}},\"header\":{\"fill\":{\"color\":\"#C8D4E3\"},\"line\":{\"color\":\"white\"}},\"type\":\"table\"}],\"barpolar\":[{\"marker\":{\"line\":{\"color\":\"#E5ECF6\",\"width\":0.5},\"pattern\":{\"fillmode\":\"overlay\",\"size\":10,\"solidity\":0.2}},\"type\":\"barpolar\"}],\"pie\":[{\"automargin\":true,\"type\":\"pie\"}]},\"layout\":{\"autotypenumbers\":\"strict\",\"colorway\":[\"#636efa\",\"#EF553B\",\"#00cc96\",\"#ab63fa\",\"#FFA15A\",\"#19d3f3\",\"#FF6692\",\"#B6E880\",\"#FF97FF\",\"#FECB52\"],\"font\":{\"color\":\"#2a3f5f\"},\"hovermode\":\"closest\",\"hoverlabel\":{\"align\":\"left\"},\"paper_bgcolor\":\"white\",\"plot_bgcolor\":\"#E5ECF6\",\"polar\":{\"bgcolor\":\"#E5ECF6\",\"angularaxis\":{\"gridcolor\":\"white\",\"linecolor\":\"white\",\"ticks\":\"\"},\"radialaxis\":{\"gridcolor\":\"white\",\"linecolor\":\"white\",\"ticks\":\"\"}},\"ternary\":{\"bgcolor\":\"#E5ECF6\",\"aaxis\":{\"gridcolor\":\"white\",\"linecolor\":\"white\",\"ticks\":\"\"},\"baxis\":{\"gridcolor\":\"white\",\"linecolor\":\"white\",\"ticks\":\"\"},\"caxis\":{\"gridcolor\":\"white\",\"linecolor\":\"white\",\"ticks\":\"\"}},\"coloraxis\":{\"colorbar\":{\"outlinewidth\":0,\"ticks\":\"\"}},\"colorscale\":{\"sequential\":[[0.0,\"#0d0887\"],[0.1111111111111111,\"#46039f\"],[0.2222222222222222,\"#7201a8\"],[0.3333333333333333,\"#9c179e\"],[0.4444444444444444,\"#bd3786\"],[0.5555555555555556,\"#d8576b\"],[0.6666666666666666,\"#ed7953\"],[0.7777777777777778,\"#fb9f3a\"],[0.8888888888888888,\"#fdca26\"],[1.0,\"#f0f921\"]],\"sequentialminus\":[[0.0,\"#0d0887\"],[0.1111111111111111,\"#46039f\"],[0.2222222222222222,\"#7201a8\"],[0.3333333333333333,\"#9c179e\"],[0.4444444444444444,\"#bd3786\"],[0.5555555555555556,\"#d8576b\"],[0.6666666666666666,\"#ed7953\"],[0.7777777777777778,\"#fb9f3a\"],[0.8888888888888888,\"#fdca26\"],[1.0,\"#f0f921\"]],\"diverging\":[[0,\"#8e0152\"],[0.1,\"#c51b7d\"],[0.2,\"#de77ae\"],[0.3,\"#f1b6da\"],[0.4,\"#fde0ef\"],[0.5,\"#f7f7f7\"],[0.6,\"#e6f5d0\"],[0.7,\"#b8e186\"],[0.8,\"#7fbc41\"],[0.9,\"#4d9221\"],[1,\"#276419\"]]},\"xaxis\":{\"gridcolor\":\"white\",\"linecolor\":\"white\",\"ticks\":\"\",\"title\":{\"standoff\":15},\"zerolinecolor\":\"white\",\"automargin\":true,\"zerolinewidth\":2},\"yaxis\":{\"gridcolor\":\"white\",\"linecolor\":\"white\",\"ticks\":\"\",\"title\":{\"standoff\":15},\"zerolinecolor\":\"white\",\"automargin\":true,\"zerolinewidth\":2},\"scene\":{\"xaxis\":{\"backgroundcolor\":\"#E5ECF6\",\"gridcolor\":\"white\",\"linecolor\":\"white\",\"showbackground\":true,\"ticks\":\"\",\"zerolinecolor\":\"white\",\"gridwidth\":2},\"yaxis\":{\"backgroundcolor\":\"#E5ECF6\",\"gridcolor\":\"white\",\"linecolor\":\"white\",\"showbackground\":true,\"ticks\":\"\",\"zerolinecolor\":\"white\",\"gridwidth\":2},\"zaxis\":{\"backgroundcolor\":\"#E5ECF6\",\"gridcolor\":\"white\",\"linecolor\":\"white\",\"showbackground\":true,\"ticks\":\"\",\"zerolinecolor\":\"white\",\"gridwidth\":2}},\"shapedefaults\":{\"line\":{\"color\":\"#2a3f5f\"}},\"annotationdefaults\":{\"arrowcolor\":\"#2a3f5f\",\"arrowhead\":0,\"arrowwidth\":1},\"geo\":{\"bgcolor\":\"white\",\"landcolor\":\"#E5ECF6\",\"subunitcolor\":\"white\",\"showland\":true,\"showlakes\":true,\"lakecolor\":\"white\"},\"title\":{\"x\":0.05},\"mapbox\":{\"style\":\"light\"}}},\"xaxis\":{\"anchor\":\"y\",\"domain\":[0.0,0.26666666666666666],\"title\":{\"text\":\"Number of Epochs\"}},\"yaxis\":{\"anchor\":\"x\",\"domain\":[0.0,1.0],\"title\":{\"text\":\"Score\"}},\"xaxis2\":{\"anchor\":\"y2\",\"domain\":[0.3666666666666667,0.6333333333333333],\"title\":{\"text\":\"Number of Epochs\"}},\"yaxis2\":{\"anchor\":\"x2\",\"domain\":[0.0,1.0]},\"xaxis3\":{\"anchor\":\"y3\",\"domain\":[0.7333333333333334,1.0],\"title\":{\"text\":\"Number of Epochs\"}},\"yaxis3\":{\"anchor\":\"x3\",\"domain\":[0.0,1.0]},\"annotations\":[{\"font\":{\"size\":16},\"showarrow\":false,\"text\":\"commonsense\",\"x\":0.13333333333333333,\"xanchor\":\"center\",\"xref\":\"paper\",\"y\":1.0,\"yanchor\":\"bottom\",\"yref\":\"paper\"},{\"font\":{\"size\":16},\"showarrow\":false,\"text\":\"anticommonsense\",\"x\":0.5,\"xanchor\":\"center\",\"xref\":\"paper\",\"y\":1.0,\"yanchor\":\"bottom\",\"yref\":\"paper\"},{\"font\":{\"size\":16},\"showarrow\":false,\"text\":\"noncommonsense\",\"x\":0.8666666666666667,\"xanchor\":\"center\",\"xref\":\"paper\",\"y\":1.0,\"yanchor\":\"bottom\",\"yref\":\"paper\"}],\"title\":{\"text\":\"Anonymize vs Non-Anonymize Performance Comparison\"},\"legend\":{\"orientation\":\"h\",\"yanchor\":\"bottom\",\"y\":-0.3,\"xanchor\":\"center\",\"x\":0.5},\"margin\":{\"b\":100},\"height\":500,\"width\":1050},                        {\"responsive\": true}                    ).then(function(){\n",
       "                            \n",
       "var gd = document.getElementById('7ef2bfb9-ac10-42d3-8ecc-3b97888ddded');\n",
       "var x = new MutationObserver(function (mutations, observer) {{\n",
       "        var display = window.getComputedStyle(gd).display;\n",
       "        if (!display || display === 'none') {{\n",
       "            console.log([gd, 'removed!']);\n",
       "            Plotly.purge(gd);\n",
       "            observer.disconnect();\n",
       "        }}\n",
       "}});\n",
       "\n",
       "// Listen for the removal of the full notebook cells\n",
       "var notebookContainer = gd.closest('#notebook-container');\n",
       "if (notebookContainer) {{\n",
       "    x.observe(notebookContainer, {childList: true});\n",
       "}}\n",
       "\n",
       "// Listen for the clearing of the current output cell\n",
       "var outputEl = gd.closest('.output');\n",
       "if (outputEl) {{\n",
       "    x.observe(outputEl, {childList: true});\n",
       "}}\n",
       "\n",
       "                        })                };                });            </script>        </div>"
      ]
     },
     "metadata": {},
     "output_type": "display_data"
    }
   ],
   "execution_count": 8
  }
 ],
 "metadata": {
  "kernelspec": {
   "display_name": "Python 3",
   "language": "python",
   "name": "python3"
  },
  "language_info": {
   "codemirror_mode": {
    "name": "ipython",
    "version": 2
   },
   "file_extension": ".py",
   "mimetype": "text/x-python",
   "name": "python",
   "nbconvert_exporter": "python",
   "pygments_lexer": "ipython2",
   "version": "2.7.6"
  }
 },
 "nbformat": 4,
 "nbformat_minor": 5
}
