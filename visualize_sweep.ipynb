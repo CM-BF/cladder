{
 "cells": [
  {
   "cell_type": "code",
   "id": "84ddb2bcd7ce8fd8",
   "metadata": {
    "ExecuteTime": {
     "end_time": "2025-04-03T16:37:58.593702Z",
     "start_time": "2025-04-03T16:37:50.107337Z"
    }
   },
   "source": [
    "import pandas as pd\n",
    "import numpy as np\n",
    "import wandb\n",
    "import matplotlib.pyplot as plt\n",
    "import seaborn as sns\n",
    "import plotly.express as px\n",
    "import plotly.graph_objects as go\n",
    "from plotly.subplots import make_subplots\n",
    "\n",
    "# Hardcoded parameters for the specific sweep\n",
    "entity_name = \"dive-ci\"\n",
    "project_name = \"CLadder\"\n",
    "sweep_id = \"ngq4k8jt\"  #\"qfwpl45m\"\n",
    "\n",
    "# Initialize wandb API\n",
    "api = wandb.Api()\n",
    "\n",
    "# Get the sweep runs\n",
    "sweep = api.sweep(f\"{entity_name}/{project_name}/{sweep_id}\")\n",
    "\n",
    "dataset_names = {'cladder-v1-q-commonsense': 'commonsense', 'cladder-v1-q-anticommonsense': 'anticommonsense', 'cladder-v1-q-noncommonsense': 'noncommonsense'}\n",
    "\n",
    "# Collect run data\n",
    "runs_data = []\n",
    "for run in sweep.runs:\n",
    "    # Get run summary and config\n",
    "    run_data = {\n",
    "        \"id\": run.id,\n",
    "        \"name\": run.name,\n",
    "        \"state\": run.state,\n",
    "        \"created_at\": run.created_at,\n",
    "        \"summary\": run.summary._json_dict if hasattr(run.summary, \"_json_dict\") else {},\n",
    "        \"config\": run.config\n",
    "    }\n",
    "    \n",
    "    # Extract relevant metrics and parameters\n",
    "    summary = run_data[\"summary\"]\n",
    "    config = run_data[\"config\"]\n",
    "    # print(summary)\n",
    "    \n",
    "    run_info = {\n",
    "        \"run_id\": run.id,\n",
    "        \"run_name\": run.name,\n",
    "        \"reasoning\": config.get(\"experiment.reasoning\", None),\n",
    "        \"anonymize\": config.get(\"dataset.anonymize\", None),\n",
    "        \"learning_rate\": config.get(\"training.learning_rate\", None),\n",
    "        \"percent_train\": config.get(\"dataset.percent_of_train_dataset\", None),\n",
    "        \"num_epochs\": config.get(\"training.num_train_epochs\", None),\n",
    "    }\n",
    "    \n",
    "    # Extract scores for different test datasets\n",
    "    for data_name, score_key in dataset_names.items():\n",
    "        run_info[score_key] = summary[data_name]\n",
    "    \n",
    "    runs_data.append(run_info)\n",
    "\n",
    "# Convert to dataframe\n",
    "df = pd.DataFrame(runs_data)\n",
    "\n",
    "# Identify test dataset columns\n",
    "test_dataset_columns = [col for col in df.columns if col in dataset_names.values()]\n",
    "training_percentages = sorted(df['percent_train'].unique())\n",
    "learning_rate = sorted(df['learning_rate'].unique())\n",
    "\n",
    "print(f\"Found {len(df)} runs with {len(test_dataset_columns)} test datasets\")\n",
    "print(f\"Test datasets: {[col.replace('score_', '') for col in test_dataset_columns]}\")\n",
    "print(f\"Training percentages: {training_percentages}\")\n",
    "df"
   ],
   "outputs": [
    {
     "name": "stdout",
     "output_type": "stream",
     "text": [
      "Found 210 runs with 3 test datasets\n",
      "Test datasets: ['commonsense', 'anticommonsense', 'noncommonsense']\n",
      "Training percentages: [0.001, 0.005, 0.01, 0.02, 0.05]\n"
     ]
    },
    {
     "data": {
      "text/plain": [
       "       run_id                                   run_name  reasoning  \\\n",
       "0    oip7h3lc   QWen-RTrue-DP0.05-EP64-AbsFalse-lr0.0006       True   \n",
       "1    3lo61mx3   QWen-RTrue-DP0.05-EP32-AbsFalse-lr0.0006       True   \n",
       "2    thqx9ha9   QWen-RTrue-DP0.05-EP16-AbsFalse-lr0.0006       True   \n",
       "3    63w8go85    QWen-RTrue-DP0.05-EP8-AbsFalse-lr0.0006       True   \n",
       "4    gmz08pm6    QWen-RTrue-DP0.05-EP4-AbsFalse-lr0.0006       True   \n",
       "..        ...                                        ...        ...   \n",
       "205  hgt14yll  QWen-RTrue-DP0.001-EP64-AbsTrue-lr0.00015       True   \n",
       "206  mhc7na7q   QWen-RTrue-DP0.001-EP4-AbsTrue-lr0.00015       True   \n",
       "207  muihqr8n   QWen-RTrue-DP0.001-EP8-AbsTrue-lr0.00015       True   \n",
       "208  qxgfjwy3  QWen-RTrue-DP0.001-EP16-AbsTrue-lr0.00015       True   \n",
       "209  rbnw8p9i  QWen-RTrue-DP0.001-EP32-AbsTrue-lr0.00015       True   \n",
       "\n",
       "     anonymize  learning_rate  percent_train  num_epochs  commonsense  \\\n",
       "0        False        0.00060          0.050          64        68.37   \n",
       "1        False        0.00060          0.050          32        77.31   \n",
       "2        False        0.00060          0.050          16        80.77   \n",
       "3        False        0.00060          0.050           8        73.08   \n",
       "4        False        0.00060          0.050           4        67.31   \n",
       "..         ...            ...            ...         ...          ...   \n",
       "205       True        0.00015          0.001          64        53.46   \n",
       "206       True        0.00015          0.001           4        48.17   \n",
       "207       True        0.00015          0.001           8        52.79   \n",
       "208       True        0.00015          0.001          16        49.42   \n",
       "209       True        0.00015          0.001          32        52.79   \n",
       "\n",
       "     anticommonsense  noncommonsense  \n",
       "0              67.31           67.58  \n",
       "1              77.69           71.97  \n",
       "2              81.73           78.03  \n",
       "3              72.98           70.61  \n",
       "4              65.87           61.72  \n",
       "..               ...             ...  \n",
       "205            55.10           56.15  \n",
       "206            50.48           45.51  \n",
       "207            53.37           49.61  \n",
       "208            50.77           50.39  \n",
       "209            57.21           54.10  \n",
       "\n",
       "[210 rows x 10 columns]"
      ],
      "text/html": [
       "<div>\n",
       "<style scoped>\n",
       "    .dataframe tbody tr th:only-of-type {\n",
       "        vertical-align: middle;\n",
       "    }\n",
       "\n",
       "    .dataframe tbody tr th {\n",
       "        vertical-align: top;\n",
       "    }\n",
       "\n",
       "    .dataframe thead th {\n",
       "        text-align: right;\n",
       "    }\n",
       "</style>\n",
       "<table border=\"1\" class=\"dataframe\">\n",
       "  <thead>\n",
       "    <tr style=\"text-align: right;\">\n",
       "      <th></th>\n",
       "      <th>run_id</th>\n",
       "      <th>run_name</th>\n",
       "      <th>reasoning</th>\n",
       "      <th>anonymize</th>\n",
       "      <th>learning_rate</th>\n",
       "      <th>percent_train</th>\n",
       "      <th>num_epochs</th>\n",
       "      <th>commonsense</th>\n",
       "      <th>anticommonsense</th>\n",
       "      <th>noncommonsense</th>\n",
       "    </tr>\n",
       "  </thead>\n",
       "  <tbody>\n",
       "    <tr>\n",
       "      <th>0</th>\n",
       "      <td>oip7h3lc</td>\n",
       "      <td>QWen-RTrue-DP0.05-EP64-AbsFalse-lr0.0006</td>\n",
       "      <td>True</td>\n",
       "      <td>False</td>\n",
       "      <td>0.00060</td>\n",
       "      <td>0.050</td>\n",
       "      <td>64</td>\n",
       "      <td>68.37</td>\n",
       "      <td>67.31</td>\n",
       "      <td>67.58</td>\n",
       "    </tr>\n",
       "    <tr>\n",
       "      <th>1</th>\n",
       "      <td>3lo61mx3</td>\n",
       "      <td>QWen-RTrue-DP0.05-EP32-AbsFalse-lr0.0006</td>\n",
       "      <td>True</td>\n",
       "      <td>False</td>\n",
       "      <td>0.00060</td>\n",
       "      <td>0.050</td>\n",
       "      <td>32</td>\n",
       "      <td>77.31</td>\n",
       "      <td>77.69</td>\n",
       "      <td>71.97</td>\n",
       "    </tr>\n",
       "    <tr>\n",
       "      <th>2</th>\n",
       "      <td>thqx9ha9</td>\n",
       "      <td>QWen-RTrue-DP0.05-EP16-AbsFalse-lr0.0006</td>\n",
       "      <td>True</td>\n",
       "      <td>False</td>\n",
       "      <td>0.00060</td>\n",
       "      <td>0.050</td>\n",
       "      <td>16</td>\n",
       "      <td>80.77</td>\n",
       "      <td>81.73</td>\n",
       "      <td>78.03</td>\n",
       "    </tr>\n",
       "    <tr>\n",
       "      <th>3</th>\n",
       "      <td>63w8go85</td>\n",
       "      <td>QWen-RTrue-DP0.05-EP8-AbsFalse-lr0.0006</td>\n",
       "      <td>True</td>\n",
       "      <td>False</td>\n",
       "      <td>0.00060</td>\n",
       "      <td>0.050</td>\n",
       "      <td>8</td>\n",
       "      <td>73.08</td>\n",
       "      <td>72.98</td>\n",
       "      <td>70.61</td>\n",
       "    </tr>\n",
       "    <tr>\n",
       "      <th>4</th>\n",
       "      <td>gmz08pm6</td>\n",
       "      <td>QWen-RTrue-DP0.05-EP4-AbsFalse-lr0.0006</td>\n",
       "      <td>True</td>\n",
       "      <td>False</td>\n",
       "      <td>0.00060</td>\n",
       "      <td>0.050</td>\n",
       "      <td>4</td>\n",
       "      <td>67.31</td>\n",
       "      <td>65.87</td>\n",
       "      <td>61.72</td>\n",
       "    </tr>\n",
       "    <tr>\n",
       "      <th>...</th>\n",
       "      <td>...</td>\n",
       "      <td>...</td>\n",
       "      <td>...</td>\n",
       "      <td>...</td>\n",
       "      <td>...</td>\n",
       "      <td>...</td>\n",
       "      <td>...</td>\n",
       "      <td>...</td>\n",
       "      <td>...</td>\n",
       "      <td>...</td>\n",
       "    </tr>\n",
       "    <tr>\n",
       "      <th>205</th>\n",
       "      <td>hgt14yll</td>\n",
       "      <td>QWen-RTrue-DP0.001-EP64-AbsTrue-lr0.00015</td>\n",
       "      <td>True</td>\n",
       "      <td>True</td>\n",
       "      <td>0.00015</td>\n",
       "      <td>0.001</td>\n",
       "      <td>64</td>\n",
       "      <td>53.46</td>\n",
       "      <td>55.10</td>\n",
       "      <td>56.15</td>\n",
       "    </tr>\n",
       "    <tr>\n",
       "      <th>206</th>\n",
       "      <td>mhc7na7q</td>\n",
       "      <td>QWen-RTrue-DP0.001-EP4-AbsTrue-lr0.00015</td>\n",
       "      <td>True</td>\n",
       "      <td>True</td>\n",
       "      <td>0.00015</td>\n",
       "      <td>0.001</td>\n",
       "      <td>4</td>\n",
       "      <td>48.17</td>\n",
       "      <td>50.48</td>\n",
       "      <td>45.51</td>\n",
       "    </tr>\n",
       "    <tr>\n",
       "      <th>207</th>\n",
       "      <td>muihqr8n</td>\n",
       "      <td>QWen-RTrue-DP0.001-EP8-AbsTrue-lr0.00015</td>\n",
       "      <td>True</td>\n",
       "      <td>True</td>\n",
       "      <td>0.00015</td>\n",
       "      <td>0.001</td>\n",
       "      <td>8</td>\n",
       "      <td>52.79</td>\n",
       "      <td>53.37</td>\n",
       "      <td>49.61</td>\n",
       "    </tr>\n",
       "    <tr>\n",
       "      <th>208</th>\n",
       "      <td>qxgfjwy3</td>\n",
       "      <td>QWen-RTrue-DP0.001-EP16-AbsTrue-lr0.00015</td>\n",
       "      <td>True</td>\n",
       "      <td>True</td>\n",
       "      <td>0.00015</td>\n",
       "      <td>0.001</td>\n",
       "      <td>16</td>\n",
       "      <td>49.42</td>\n",
       "      <td>50.77</td>\n",
       "      <td>50.39</td>\n",
       "    </tr>\n",
       "    <tr>\n",
       "      <th>209</th>\n",
       "      <td>rbnw8p9i</td>\n",
       "      <td>QWen-RTrue-DP0.001-EP32-AbsTrue-lr0.00015</td>\n",
       "      <td>True</td>\n",
       "      <td>True</td>\n",
       "      <td>0.00015</td>\n",
       "      <td>0.001</td>\n",
       "      <td>32</td>\n",
       "      <td>52.79</td>\n",
       "      <td>57.21</td>\n",
       "      <td>54.10</td>\n",
       "    </tr>\n",
       "  </tbody>\n",
       "</table>\n",
       "<p>210 rows × 10 columns</p>\n",
       "</div>"
      ]
     },
     "execution_count": 1,
     "metadata": {},
     "output_type": "execute_result"
    }
   ],
   "execution_count": 1
  },
  {
   "metadata": {
    "ExecuteTime": {
     "end_time": "2025-03-24T20:43:55.383360Z",
     "start_time": "2025-03-24T20:43:55.375745Z"
    }
   },
   "cell_type": "code",
   "source": [
    "sweep = api.sweep(f\"{entity_name}/{project_name}/{sweep_id}\")\n",
    "sweep.runs[0].config[\"dataset.percent_of_train_dataset\"]\n",
    "# for key in sweep.runs[1].__dir__():\n",
    "#     print(sweep.runs[0].getattr(key))\n",
    "\n"
   ],
   "id": "c87c1b20877047a3",
   "outputs": [
    {
     "data": {
      "text/plain": [
       "0.1"
      ]
     },
     "execution_count": 32,
     "metadata": {},
     "output_type": "execute_result"
    }
   ],
   "execution_count": 32
  },
  {
   "metadata": {
    "ExecuteTime": {
     "end_time": "2025-04-03T16:39:39.967258Z",
     "start_time": "2025-04-03T16:39:39.583855Z"
    }
   },
   "cell_type": "code",
   "source": [
    "\n",
    "# Create comparison plots\n",
    "def create_anonymize_comparison_plots(learning_rate):\n",
    "    # Create a subplot for each test dataset and training percentage combination\n",
    "    num_test_sets = len(test_dataset_columns)\n",
    "    num_percentages = len(training_percentages)\n",
    "    \n",
    "    fig = make_subplots(\n",
    "        rows=num_percentages, \n",
    "        cols=num_test_sets,\n",
    "        subplot_titles=[f\"{col} - {pct*100}% Training\" \n",
    "                        for pct in training_percentages for col in test_dataset_columns],\n",
    "        vertical_spacing=0.05,\n",
    "        horizontal_spacing=0.05\n",
    "    )\n",
    "    \n",
    "    # Color scheme for True/False anonymization\n",
    "    colors = {\"True\": \"rgb(31, 119, 180)\", \"False\": \"rgb(255, 127, 14)\"}\n",
    "    \n",
    "    for i, pct in enumerate(training_percentages):\n",
    "        for j, test_col in enumerate(test_dataset_columns):\n",
    "            dataset_name = test_col\n",
    "            \n",
    "            # Filter data for this training percentage\n",
    "            df_pct = df[(df['percent_train'] == pct) & (df['learning_rate'] == learning_rate)]\n",
    "            \n",
    "            # Group by anonymization and epochs, calculate mean scores\n",
    "            for anon in [True, False]:\n",
    "                df_group = df_pct[df_pct['anonymize'] == anon]\n",
    "                \n",
    "                # Skip if no data for this combination\n",
    "                if len(df_group) == 0:\n",
    "                    continue\n",
    "                \n",
    "                # Get average scores for each epoch\n",
    "                epoch_scores = df_group.groupby('num_epochs')[test_col].mean().reset_index()\n",
    "                # print(epoch_scores)\n",
    "                \n",
    "                # Add line to plot\n",
    "                fig.add_trace(\n",
    "                    go.Scatter(\n",
    "                        x=epoch_scores['num_epochs'],\n",
    "                        y=epoch_scores[test_col],\n",
    "                        mode='lines+markers',\n",
    "                        name=f\"Anonymize={anon}\",\n",
    "                        line=dict(color=colors[str(anon)]),\n",
    "                        legendgroup=f\"Anonymize={anon}\",\n",
    "                        showlegend=(i==0 and j==0) # Only show legend once\n",
    "                    ),\n",
    "                    row=i+1, col=j+1\n",
    "                )\n",
    "            \n",
    "            # Update axis labels\n",
    "            if i == num_percentages-1:\n",
    "                fig.update_xaxes(title_text=\"Number of Epochs\", row=i+1, col=j+1)\n",
    "            if j == 0:\n",
    "                fig.update_yaxes(title_text=\"Score\", row=i+1, col=j+1)\n",
    "    \n",
    "    # Update layout\n",
    "    fig.update_layout(\n",
    "        height=200*num_percentages,\n",
    "        width=400*num_test_sets,\n",
    "        title_text=\"Anonymize vs Non-Anonymize Performance Comparison\",\n",
    "        legend_title=\"Anonymization Setting\",\n",
    "        margin=dict(t=50, b=20, l=20, r=20),\n",
    "    )\n",
    "    \n",
    "    return fig\n",
    "\n",
    "# Create and display the comparison plots\n",
    "for lr in learning_rate:\n",
    "    print(f\"Creating comparison plots for learning rate: {lr}\")\n",
    "    comparison_fig = create_anonymize_comparison_plots(lr)\n",
    "    comparison_fig.show()"
   ],
   "id": "b0e04f2013752f8c",
   "outputs": [
    {
     "name": "stdout",
     "output_type": "stream",
     "text": [
      "Creating comparison plots for learning rate: 0.00015\n"
     ]
    },
    {
     "data": {
      "application/vnd.plotly.v1+json": {
       "data": [
        {
         "legendgroup": "Anonymize=True",
         "line": {
          "color": "rgb(31, 119, 180)"
         },
         "mode": "lines+markers",
         "name": "Anonymize=True",
         "showlegend": true,
         "x": [
          1,
          2,
          4,
          8,
          16,
          32,
          64
         ],
         "y": [
          57.02,
          49.23,
          48.17,
          52.79,
          49.42,
          52.79,
          53.46
         ],
         "type": "scatter",
         "xaxis": "x",
         "yaxis": "y"
        },
        {
         "legendgroup": "Anonymize=False",
         "line": {
          "color": "rgb(255, 127, 14)"
         },
         "mode": "lines+markers",
         "name": "Anonymize=False",
         "showlegend": true,
         "x": [
          1,
          2,
          4,
          8,
          16,
          32,
          64
         ],
         "y": [
          50.58,
          25.38,
          31.06,
          45.0,
          23.65,
          53.56,
          57.21
         ],
         "type": "scatter",
         "xaxis": "x",
         "yaxis": "y"
        },
        {
         "legendgroup": "Anonymize=True",
         "line": {
          "color": "rgb(31, 119, 180)"
         },
         "mode": "lines+markers",
         "name": "Anonymize=True",
         "showlegend": false,
         "x": [
          1,
          2,
          4,
          8,
          16,
          32,
          64
         ],
         "y": [
          58.56,
          48.46,
          50.48,
          53.37,
          50.77,
          57.21,
          55.1
         ],
         "type": "scatter",
         "xaxis": "x2",
         "yaxis": "y2"
        },
        {
         "legendgroup": "Anonymize=False",
         "line": {
          "color": "rgb(255, 127, 14)"
         },
         "mode": "lines+markers",
         "name": "Anonymize=False",
         "showlegend": false,
         "x": [
          1,
          2,
          4,
          8,
          16,
          32,
          64
         ],
         "y": [
          51.83,
          22.88,
          30.29,
          42.5,
          21.25,
          51.06,
          53.08
         ],
         "type": "scatter",
         "xaxis": "x2",
         "yaxis": "y2"
        },
        {
         "legendgroup": "Anonymize=True",
         "line": {
          "color": "rgb(31, 119, 180)"
         },
         "mode": "lines+markers",
         "name": "Anonymize=True",
         "showlegend": false,
         "x": [
          1,
          2,
          4,
          8,
          16,
          32,
          64
         ],
         "y": [
          52.05,
          47.07,
          45.51,
          49.61,
          50.39,
          54.1,
          56.15
         ],
         "type": "scatter",
         "xaxis": "x3",
         "yaxis": "y3"
        },
        {
         "legendgroup": "Anonymize=False",
         "line": {
          "color": "rgb(255, 127, 14)"
         },
         "mode": "lines+markers",
         "name": "Anonymize=False",
         "showlegend": false,
         "x": [
          1,
          2,
          4,
          8,
          16,
          32,
          64
         ],
         "y": [
          49.9,
          19.24,
          28.61,
          43.85,
          22.36,
          47.36,
          49.02
         ],
         "type": "scatter",
         "xaxis": "x3",
         "yaxis": "y3"
        },
        {
         "legendgroup": "Anonymize=True",
         "line": {
          "color": "rgb(31, 119, 180)"
         },
         "mode": "lines+markers",
         "name": "Anonymize=True",
         "showlegend": false,
         "x": [
          1,
          2,
          4,
          8,
          16,
          32,
          64
         ],
         "y": [
          51.35,
          49.13,
          52.21,
          55.38,
          56.25,
          63.85,
          67.4
         ],
         "type": "scatter",
         "xaxis": "x4",
         "yaxis": "y4"
        },
        {
         "legendgroup": "Anonymize=False",
         "line": {
          "color": "rgb(255, 127, 14)"
         },
         "mode": "lines+markers",
         "name": "Anonymize=False",
         "showlegend": false,
         "x": [
          1,
          2,
          4,
          8,
          16,
          32,
          64
         ],
         "y": [
          32.5,
          39.42,
          50.29,
          54.71,
          53.94,
          61.92,
          59.62
         ],
         "type": "scatter",
         "xaxis": "x4",
         "yaxis": "y4"
        },
        {
         "legendgroup": "Anonymize=True",
         "line": {
          "color": "rgb(31, 119, 180)"
         },
         "mode": "lines+markers",
         "name": "Anonymize=True",
         "showlegend": false,
         "x": [
          1,
          2,
          4,
          8,
          16,
          32,
          64
         ],
         "y": [
          50.0,
          51.83,
          52.69,
          54.33,
          54.13,
          65.87,
          65.19
         ],
         "type": "scatter",
         "xaxis": "x5",
         "yaxis": "y5"
        },
        {
         "legendgroup": "Anonymize=False",
         "line": {
          "color": "rgb(255, 127, 14)"
         },
         "mode": "lines+markers",
         "name": "Anonymize=False",
         "showlegend": false,
         "x": [
          1,
          2,
          4,
          8,
          16,
          32,
          64
         ],
         "y": [
          34.81,
          40.0,
          48.08,
          53.46,
          53.08,
          59.71,
          64.04
         ],
         "type": "scatter",
         "xaxis": "x5",
         "yaxis": "y5"
        },
        {
         "legendgroup": "Anonymize=True",
         "line": {
          "color": "rgb(31, 119, 180)"
         },
         "mode": "lines+markers",
         "name": "Anonymize=True",
         "showlegend": false,
         "x": [
          1,
          2,
          4,
          8,
          16,
          32,
          64
         ],
         "y": [
          52.15,
          51.56,
          54.59,
          55.57,
          58.2,
          64.16,
          64.16
         ],
         "type": "scatter",
         "xaxis": "x6",
         "yaxis": "y6"
        },
        {
         "legendgroup": "Anonymize=False",
         "line": {
          "color": "rgb(255, 127, 14)"
         },
         "mode": "lines+markers",
         "name": "Anonymize=False",
         "showlegend": false,
         "x": [
          1,
          2,
          4,
          8,
          16,
          32,
          64
         ],
         "y": [
          31.45,
          43.26,
          44.04,
          49.8,
          48.83,
          57.13,
          54.1
         ],
         "type": "scatter",
         "xaxis": "x6",
         "yaxis": "y6"
        },
        {
         "legendgroup": "Anonymize=True",
         "line": {
          "color": "rgb(31, 119, 180)"
         },
         "mode": "lines+markers",
         "name": "Anonymize=True",
         "showlegend": false,
         "x": [
          1,
          2,
          4,
          8,
          16,
          32,
          64
         ],
         "y": [
          51.15,
          52.69,
          55.48,
          58.27,
          65.87,
          67.79,
          71.25
         ],
         "type": "scatter",
         "xaxis": "x7",
         "yaxis": "y7"
        },
        {
         "legendgroup": "Anonymize=False",
         "line": {
          "color": "rgb(255, 127, 14)"
         },
         "mode": "lines+markers",
         "name": "Anonymize=False",
         "showlegend": false,
         "x": [
          1,
          2,
          4,
          8,
          16,
          32,
          64
         ],
         "y": [
          24.13,
          25.1,
          53.08,
          32.5,
          64.33,
          65.67,
          67.21
         ],
         "type": "scatter",
         "xaxis": "x7",
         "yaxis": "y7"
        },
        {
         "legendgroup": "Anonymize=True",
         "line": {
          "color": "rgb(31, 119, 180)"
         },
         "mode": "lines+markers",
         "name": "Anonymize=True",
         "showlegend": false,
         "x": [
          1,
          2,
          4,
          8,
          16,
          32,
          64
         ],
         "y": [
          52.21,
          51.92,
          51.35,
          57.4,
          64.42,
          68.27,
          69.23
         ],
         "type": "scatter",
         "xaxis": "x8",
         "yaxis": "y8"
        },
        {
         "legendgroup": "Anonymize=False",
         "line": {
          "color": "rgb(255, 127, 14)"
         },
         "mode": "lines+markers",
         "name": "Anonymize=False",
         "showlegend": false,
         "x": [
          1,
          2,
          4,
          8,
          16,
          32,
          64
         ],
         "y": [
          26.25,
          26.63,
          53.65,
          33.46,
          65.96,
          66.35,
          67.79
         ],
         "type": "scatter",
         "xaxis": "x8",
         "yaxis": "y8"
        },
        {
         "legendgroup": "Anonymize=True",
         "line": {
          "color": "rgb(31, 119, 180)"
         },
         "mode": "lines+markers",
         "name": "Anonymize=True",
         "showlegend": false,
         "x": [
          1,
          2,
          4,
          8,
          16,
          32,
          64
         ],
         "y": [
          51.07,
          53.52,
          54.3,
          59.38,
          64.75,
          66.7,
          68.85
         ],
         "type": "scatter",
         "xaxis": "x9",
         "yaxis": "y9"
        },
        {
         "legendgroup": "Anonymize=False",
         "line": {
          "color": "rgb(255, 127, 14)"
         },
         "mode": "lines+markers",
         "name": "Anonymize=False",
         "showlegend": false,
         "x": [
          1,
          2,
          4,
          8,
          16,
          32,
          64
         ],
         "y": [
          27.64,
          23.44,
          49.8,
          30.86,
          60.25,
          57.81,
          62.5
         ],
         "type": "scatter",
         "xaxis": "x9",
         "yaxis": "y9"
        },
        {
         "legendgroup": "Anonymize=True",
         "line": {
          "color": "rgb(31, 119, 180)"
         },
         "mode": "lines+markers",
         "name": "Anonymize=True",
         "showlegend": false,
         "x": [
          1,
          2,
          4,
          8,
          16,
          32,
          64
         ],
         "y": [
          48.27,
          52.12,
          59.62,
          62.6,
          73.65,
          74.71,
          77.88
         ],
         "type": "scatter",
         "xaxis": "x10",
         "yaxis": "y10"
        },
        {
         "legendgroup": "Anonymize=False",
         "line": {
          "color": "rgb(255, 127, 14)"
         },
         "mode": "lines+markers",
         "name": "Anonymize=False",
         "showlegend": false,
         "x": [
          1,
          2,
          4,
          8,
          16,
          32,
          64
         ],
         "y": [
          50.38,
          54.13,
          58.37,
          61.44,
          76.83,
          69.33,
          78.46
         ],
         "type": "scatter",
         "xaxis": "x10",
         "yaxis": "y10"
        },
        {
         "legendgroup": "Anonymize=True",
         "line": {
          "color": "rgb(31, 119, 180)"
         },
         "mode": "lines+markers",
         "name": "Anonymize=True",
         "showlegend": false,
         "x": [
          1,
          2,
          4,
          8,
          16,
          32,
          64
         ],
         "y": [
          52.21,
          49.81,
          58.75,
          60.67,
          74.42,
          73.27,
          77.12
         ],
         "type": "scatter",
         "xaxis": "x11",
         "yaxis": "y11"
        },
        {
         "legendgroup": "Anonymize=False",
         "line": {
          "color": "rgb(255, 127, 14)"
         },
         "mode": "lines+markers",
         "name": "Anonymize=False",
         "showlegend": false,
         "x": [
          1,
          2,
          4,
          8,
          16,
          32,
          64
         ],
         "y": [
          49.13,
          52.5,
          56.44,
          64.13,
          78.08,
          71.73,
          78.37
         ],
         "type": "scatter",
         "xaxis": "x11",
         "yaxis": "y11"
        },
        {
         "legendgroup": "Anonymize=True",
         "line": {
          "color": "rgb(31, 119, 180)"
         },
         "mode": "lines+markers",
         "name": "Anonymize=True",
         "showlegend": false,
         "x": [
          1,
          2,
          4,
          8,
          16,
          32,
          64
         ],
         "y": [
          50.78,
          54.79,
          57.91,
          61.62,
          72.07,
          71.58,
          75.39
         ],
         "type": "scatter",
         "xaxis": "x12",
         "yaxis": "y12"
        },
        {
         "legendgroup": "Anonymize=False",
         "line": {
          "color": "rgb(255, 127, 14)"
         },
         "mode": "lines+markers",
         "name": "Anonymize=False",
         "showlegend": false,
         "x": [
          1,
          2,
          4,
          8,
          16,
          32,
          64
         ],
         "y": [
          49.9,
          49.71,
          53.52,
          57.23,
          70.31,
          62.01,
          72.56
         ],
         "type": "scatter",
         "xaxis": "x12",
         "yaxis": "y12"
        },
        {
         "legendgroup": "Anonymize=True",
         "line": {
          "color": "rgb(31, 119, 180)"
         },
         "mode": "lines+markers",
         "name": "Anonymize=True",
         "showlegend": false,
         "x": [
          1,
          2,
          4,
          8,
          16,
          32,
          64
         ],
         "y": [
          53.27,
          54.23,
          63.08,
          68.85,
          82.4,
          83.75,
          84.9
         ],
         "type": "scatter",
         "xaxis": "x13",
         "yaxis": "y13"
        },
        {
         "legendgroup": "Anonymize=False",
         "line": {
          "color": "rgb(255, 127, 14)"
         },
         "mode": "lines+markers",
         "name": "Anonymize=False",
         "showlegend": false,
         "x": [
          1,
          2,
          4,
          8,
          16,
          32,
          64
         ],
         "y": [
          49.9,
          58.27,
          63.65,
          77.79,
          85.67,
          89.23,
          87.88
         ],
         "type": "scatter",
         "xaxis": "x13",
         "yaxis": "y13"
        },
        {
         "legendgroup": "Anonymize=True",
         "line": {
          "color": "rgb(31, 119, 180)"
         },
         "mode": "lines+markers",
         "name": "Anonymize=True",
         "showlegend": false,
         "x": [
          1,
          2,
          4,
          8,
          16,
          32,
          64
         ],
         "y": [
          53.08,
          54.23,
          62.5,
          68.27,
          82.88,
          85.87,
          84.71
         ],
         "type": "scatter",
         "xaxis": "x14",
         "yaxis": "y14"
        },
        {
         "legendgroup": "Anonymize=False",
         "line": {
          "color": "rgb(255, 127, 14)"
         },
         "mode": "lines+markers",
         "name": "Anonymize=False",
         "showlegend": false,
         "x": [
          1,
          2,
          4,
          8,
          16,
          32,
          64
         ],
         "y": [
          49.81,
          57.4,
          62.4,
          75.0,
          85.19,
          88.56,
          88.17
         ],
         "type": "scatter",
         "xaxis": "x14",
         "yaxis": "y14"
        },
        {
         "legendgroup": "Anonymize=True",
         "line": {
          "color": "rgb(31, 119, 180)"
         },
         "mode": "lines+markers",
         "name": "Anonymize=True",
         "showlegend": false,
         "x": [
          1,
          2,
          4,
          8,
          16,
          32,
          64
         ],
         "y": [
          54.98,
          54.69,
          62.7,
          64.45,
          76.66,
          79.2,
          77.64
         ],
         "type": "scatter",
         "xaxis": "x15",
         "yaxis": "y15"
        },
        {
         "legendgroup": "Anonymize=False",
         "line": {
          "color": "rgb(255, 127, 14)"
         },
         "mode": "lines+markers",
         "name": "Anonymize=False",
         "showlegend": false,
         "x": [
          1,
          2,
          4,
          8,
          16,
          32,
          64
         ],
         "y": [
          51.37,
          53.42,
          57.62,
          70.12,
          79.3,
          79.98,
          81.93
         ],
         "type": "scatter",
         "xaxis": "x15",
         "yaxis": "y15"
        }
       ],
       "layout": {
        "template": {
         "data": {
          "histogram2dcontour": [
           {
            "type": "histogram2dcontour",
            "colorbar": {
             "outlinewidth": 0,
             "ticks": ""
            },
            "colorscale": [
             [
              0.0,
              "#0d0887"
             ],
             [
              0.1111111111111111,
              "#46039f"
             ],
             [
              0.2222222222222222,
              "#7201a8"
             ],
             [
              0.3333333333333333,
              "#9c179e"
             ],
             [
              0.4444444444444444,
              "#bd3786"
             ],
             [
              0.5555555555555556,
              "#d8576b"
             ],
             [
              0.6666666666666666,
              "#ed7953"
             ],
             [
              0.7777777777777778,
              "#fb9f3a"
             ],
             [
              0.8888888888888888,
              "#fdca26"
             ],
             [
              1.0,
              "#f0f921"
             ]
            ]
           }
          ],
          "choropleth": [
           {
            "type": "choropleth",
            "colorbar": {
             "outlinewidth": 0,
             "ticks": ""
            }
           }
          ],
          "histogram2d": [
           {
            "type": "histogram2d",
            "colorbar": {
             "outlinewidth": 0,
             "ticks": ""
            },
            "colorscale": [
             [
              0.0,
              "#0d0887"
             ],
             [
              0.1111111111111111,
              "#46039f"
             ],
             [
              0.2222222222222222,
              "#7201a8"
             ],
             [
              0.3333333333333333,
              "#9c179e"
             ],
             [
              0.4444444444444444,
              "#bd3786"
             ],
             [
              0.5555555555555556,
              "#d8576b"
             ],
             [
              0.6666666666666666,
              "#ed7953"
             ],
             [
              0.7777777777777778,
              "#fb9f3a"
             ],
             [
              0.8888888888888888,
              "#fdca26"
             ],
             [
              1.0,
              "#f0f921"
             ]
            ]
           }
          ],
          "heatmap": [
           {
            "type": "heatmap",
            "colorbar": {
             "outlinewidth": 0,
             "ticks": ""
            },
            "colorscale": [
             [
              0.0,
              "#0d0887"
             ],
             [
              0.1111111111111111,
              "#46039f"
             ],
             [
              0.2222222222222222,
              "#7201a8"
             ],
             [
              0.3333333333333333,
              "#9c179e"
             ],
             [
              0.4444444444444444,
              "#bd3786"
             ],
             [
              0.5555555555555556,
              "#d8576b"
             ],
             [
              0.6666666666666666,
              "#ed7953"
             ],
             [
              0.7777777777777778,
              "#fb9f3a"
             ],
             [
              0.8888888888888888,
              "#fdca26"
             ],
             [
              1.0,
              "#f0f921"
             ]
            ]
           }
          ],
          "heatmapgl": [
           {
            "type": "heatmapgl",
            "colorbar": {
             "outlinewidth": 0,
             "ticks": ""
            },
            "colorscale": [
             [
              0.0,
              "#0d0887"
             ],
             [
              0.1111111111111111,
              "#46039f"
             ],
             [
              0.2222222222222222,
              "#7201a8"
             ],
             [
              0.3333333333333333,
              "#9c179e"
             ],
             [
              0.4444444444444444,
              "#bd3786"
             ],
             [
              0.5555555555555556,
              "#d8576b"
             ],
             [
              0.6666666666666666,
              "#ed7953"
             ],
             [
              0.7777777777777778,
              "#fb9f3a"
             ],
             [
              0.8888888888888888,
              "#fdca26"
             ],
             [
              1.0,
              "#f0f921"
             ]
            ]
           }
          ],
          "contourcarpet": [
           {
            "type": "contourcarpet",
            "colorbar": {
             "outlinewidth": 0,
             "ticks": ""
            }
           }
          ],
          "contour": [
           {
            "type": "contour",
            "colorbar": {
             "outlinewidth": 0,
             "ticks": ""
            },
            "colorscale": [
             [
              0.0,
              "#0d0887"
             ],
             [
              0.1111111111111111,
              "#46039f"
             ],
             [
              0.2222222222222222,
              "#7201a8"
             ],
             [
              0.3333333333333333,
              "#9c179e"
             ],
             [
              0.4444444444444444,
              "#bd3786"
             ],
             [
              0.5555555555555556,
              "#d8576b"
             ],
             [
              0.6666666666666666,
              "#ed7953"
             ],
             [
              0.7777777777777778,
              "#fb9f3a"
             ],
             [
              0.8888888888888888,
              "#fdca26"
             ],
             [
              1.0,
              "#f0f921"
             ]
            ]
           }
          ],
          "surface": [
           {
            "type": "surface",
            "colorbar": {
             "outlinewidth": 0,
             "ticks": ""
            },
            "colorscale": [
             [
              0.0,
              "#0d0887"
             ],
             [
              0.1111111111111111,
              "#46039f"
             ],
             [
              0.2222222222222222,
              "#7201a8"
             ],
             [
              0.3333333333333333,
              "#9c179e"
             ],
             [
              0.4444444444444444,
              "#bd3786"
             ],
             [
              0.5555555555555556,
              "#d8576b"
             ],
             [
              0.6666666666666666,
              "#ed7953"
             ],
             [
              0.7777777777777778,
              "#fb9f3a"
             ],
             [
              0.8888888888888888,
              "#fdca26"
             ],
             [
              1.0,
              "#f0f921"
             ]
            ]
           }
          ],
          "mesh3d": [
           {
            "type": "mesh3d",
            "colorbar": {
             "outlinewidth": 0,
             "ticks": ""
            }
           }
          ],
          "scatter": [
           {
            "fillpattern": {
             "fillmode": "overlay",
             "size": 10,
             "solidity": 0.2
            },
            "type": "scatter"
           }
          ],
          "parcoords": [
           {
            "type": "parcoords",
            "line": {
             "colorbar": {
              "outlinewidth": 0,
              "ticks": ""
             }
            }
           }
          ],
          "scatterpolargl": [
           {
            "type": "scatterpolargl",
            "marker": {
             "colorbar": {
              "outlinewidth": 0,
              "ticks": ""
             }
            }
           }
          ],
          "bar": [
           {
            "error_x": {
             "color": "#2a3f5f"
            },
            "error_y": {
             "color": "#2a3f5f"
            },
            "marker": {
             "line": {
              "color": "#E5ECF6",
              "width": 0.5
             },
             "pattern": {
              "fillmode": "overlay",
              "size": 10,
              "solidity": 0.2
             }
            },
            "type": "bar"
           }
          ],
          "scattergeo": [
           {
            "type": "scattergeo",
            "marker": {
             "colorbar": {
              "outlinewidth": 0,
              "ticks": ""
             }
            }
           }
          ],
          "scatterpolar": [
           {
            "type": "scatterpolar",
            "marker": {
             "colorbar": {
              "outlinewidth": 0,
              "ticks": ""
             }
            }
           }
          ],
          "histogram": [
           {
            "marker": {
             "pattern": {
              "fillmode": "overlay",
              "size": 10,
              "solidity": 0.2
             }
            },
            "type": "histogram"
           }
          ],
          "scattergl": [
           {
            "type": "scattergl",
            "marker": {
             "colorbar": {
              "outlinewidth": 0,
              "ticks": ""
             }
            }
           }
          ],
          "scatter3d": [
           {
            "type": "scatter3d",
            "line": {
             "colorbar": {
              "outlinewidth": 0,
              "ticks": ""
             }
            },
            "marker": {
             "colorbar": {
              "outlinewidth": 0,
              "ticks": ""
             }
            }
           }
          ],
          "scattermapbox": [
           {
            "type": "scattermapbox",
            "marker": {
             "colorbar": {
              "outlinewidth": 0,
              "ticks": ""
             }
            }
           }
          ],
          "scatterternary": [
           {
            "type": "scatterternary",
            "marker": {
             "colorbar": {
              "outlinewidth": 0,
              "ticks": ""
             }
            }
           }
          ],
          "scattercarpet": [
           {
            "type": "scattercarpet",
            "marker": {
             "colorbar": {
              "outlinewidth": 0,
              "ticks": ""
             }
            }
           }
          ],
          "carpet": [
           {
            "aaxis": {
             "endlinecolor": "#2a3f5f",
             "gridcolor": "white",
             "linecolor": "white",
             "minorgridcolor": "white",
             "startlinecolor": "#2a3f5f"
            },
            "baxis": {
             "endlinecolor": "#2a3f5f",
             "gridcolor": "white",
             "linecolor": "white",
             "minorgridcolor": "white",
             "startlinecolor": "#2a3f5f"
            },
            "type": "carpet"
           }
          ],
          "table": [
           {
            "cells": {
             "fill": {
              "color": "#EBF0F8"
             },
             "line": {
              "color": "white"
             }
            },
            "header": {
             "fill": {
              "color": "#C8D4E3"
             },
             "line": {
              "color": "white"
             }
            },
            "type": "table"
           }
          ],
          "barpolar": [
           {
            "marker": {
             "line": {
              "color": "#E5ECF6",
              "width": 0.5
             },
             "pattern": {
              "fillmode": "overlay",
              "size": 10,
              "solidity": 0.2
             }
            },
            "type": "barpolar"
           }
          ],
          "pie": [
           {
            "automargin": true,
            "type": "pie"
           }
          ]
         },
         "layout": {
          "autotypenumbers": "strict",
          "colorway": [
           "#636efa",
           "#EF553B",
           "#00cc96",
           "#ab63fa",
           "#FFA15A",
           "#19d3f3",
           "#FF6692",
           "#B6E880",
           "#FF97FF",
           "#FECB52"
          ],
          "font": {
           "color": "#2a3f5f"
          },
          "hovermode": "closest",
          "hoverlabel": {
           "align": "left"
          },
          "paper_bgcolor": "white",
          "plot_bgcolor": "#E5ECF6",
          "polar": {
           "bgcolor": "#E5ECF6",
           "angularaxis": {
            "gridcolor": "white",
            "linecolor": "white",
            "ticks": ""
           },
           "radialaxis": {
            "gridcolor": "white",
            "linecolor": "white",
            "ticks": ""
           }
          },
          "ternary": {
           "bgcolor": "#E5ECF6",
           "aaxis": {
            "gridcolor": "white",
            "linecolor": "white",
            "ticks": ""
           },
           "baxis": {
            "gridcolor": "white",
            "linecolor": "white",
            "ticks": ""
           },
           "caxis": {
            "gridcolor": "white",
            "linecolor": "white",
            "ticks": ""
           }
          },
          "coloraxis": {
           "colorbar": {
            "outlinewidth": 0,
            "ticks": ""
           }
          },
          "colorscale": {
           "sequential": [
            [
             0.0,
             "#0d0887"
            ],
            [
             0.1111111111111111,
             "#46039f"
            ],
            [
             0.2222222222222222,
             "#7201a8"
            ],
            [
             0.3333333333333333,
             "#9c179e"
            ],
            [
             0.4444444444444444,
             "#bd3786"
            ],
            [
             0.5555555555555556,
             "#d8576b"
            ],
            [
             0.6666666666666666,
             "#ed7953"
            ],
            [
             0.7777777777777778,
             "#fb9f3a"
            ],
            [
             0.8888888888888888,
             "#fdca26"
            ],
            [
             1.0,
             "#f0f921"
            ]
           ],
           "sequentialminus": [
            [
             0.0,
             "#0d0887"
            ],
            [
             0.1111111111111111,
             "#46039f"
            ],
            [
             0.2222222222222222,
             "#7201a8"
            ],
            [
             0.3333333333333333,
             "#9c179e"
            ],
            [
             0.4444444444444444,
             "#bd3786"
            ],
            [
             0.5555555555555556,
             "#d8576b"
            ],
            [
             0.6666666666666666,
             "#ed7953"
            ],
            [
             0.7777777777777778,
             "#fb9f3a"
            ],
            [
             0.8888888888888888,
             "#fdca26"
            ],
            [
             1.0,
             "#f0f921"
            ]
           ],
           "diverging": [
            [
             0,
             "#8e0152"
            ],
            [
             0.1,
             "#c51b7d"
            ],
            [
             0.2,
             "#de77ae"
            ],
            [
             0.3,
             "#f1b6da"
            ],
            [
             0.4,
             "#fde0ef"
            ],
            [
             0.5,
             "#f7f7f7"
            ],
            [
             0.6,
             "#e6f5d0"
            ],
            [
             0.7,
             "#b8e186"
            ],
            [
             0.8,
             "#7fbc41"
            ],
            [
             0.9,
             "#4d9221"
            ],
            [
             1,
             "#276419"
            ]
           ]
          },
          "xaxis": {
           "gridcolor": "white",
           "linecolor": "white",
           "ticks": "",
           "title": {
            "standoff": 15
           },
           "zerolinecolor": "white",
           "automargin": true,
           "zerolinewidth": 2
          },
          "yaxis": {
           "gridcolor": "white",
           "linecolor": "white",
           "ticks": "",
           "title": {
            "standoff": 15
           },
           "zerolinecolor": "white",
           "automargin": true,
           "zerolinewidth": 2
          },
          "scene": {
           "xaxis": {
            "backgroundcolor": "#E5ECF6",
            "gridcolor": "white",
            "linecolor": "white",
            "showbackground": true,
            "ticks": "",
            "zerolinecolor": "white",
            "gridwidth": 2
           },
           "yaxis": {
            "backgroundcolor": "#E5ECF6",
            "gridcolor": "white",
            "linecolor": "white",
            "showbackground": true,
            "ticks": "",
            "zerolinecolor": "white",
            "gridwidth": 2
           },
           "zaxis": {
            "backgroundcolor": "#E5ECF6",
            "gridcolor": "white",
            "linecolor": "white",
            "showbackground": true,
            "ticks": "",
            "zerolinecolor": "white",
            "gridwidth": 2
           }
          },
          "shapedefaults": {
           "line": {
            "color": "#2a3f5f"
           }
          },
          "annotationdefaults": {
           "arrowcolor": "#2a3f5f",
           "arrowhead": 0,
           "arrowwidth": 1
          },
          "geo": {
           "bgcolor": "white",
           "landcolor": "#E5ECF6",
           "subunitcolor": "white",
           "showland": true,
           "showlakes": true,
           "lakecolor": "white"
          },
          "title": {
           "x": 0.05
          },
          "mapbox": {
           "style": "light"
          }
         }
        },
        "xaxis": {
         "anchor": "y",
         "domain": [
          0.0,
          0.3
         ]
        },
        "yaxis": {
         "anchor": "x",
         "domain": [
          0.8400000000000001,
          1.0
         ],
         "title": {
          "text": "Score"
         }
        },
        "xaxis2": {
         "anchor": "y2",
         "domain": [
          0.35,
          0.6499999999999999
         ]
        },
        "yaxis2": {
         "anchor": "x2",
         "domain": [
          0.8400000000000001,
          1.0
         ]
        },
        "xaxis3": {
         "anchor": "y3",
         "domain": [
          0.7,
          1.0
         ]
        },
        "yaxis3": {
         "anchor": "x3",
         "domain": [
          0.8400000000000001,
          1.0
         ]
        },
        "xaxis4": {
         "anchor": "y4",
         "domain": [
          0.0,
          0.3
         ]
        },
        "yaxis4": {
         "anchor": "x4",
         "domain": [
          0.63,
          0.79
         ],
         "title": {
          "text": "Score"
         }
        },
        "xaxis5": {
         "anchor": "y5",
         "domain": [
          0.35,
          0.6499999999999999
         ]
        },
        "yaxis5": {
         "anchor": "x5",
         "domain": [
          0.63,
          0.79
         ]
        },
        "xaxis6": {
         "anchor": "y6",
         "domain": [
          0.7,
          1.0
         ]
        },
        "yaxis6": {
         "anchor": "x6",
         "domain": [
          0.63,
          0.79
         ]
        },
        "xaxis7": {
         "anchor": "y7",
         "domain": [
          0.0,
          0.3
         ]
        },
        "yaxis7": {
         "anchor": "x7",
         "domain": [
          0.42000000000000004,
          0.5800000000000001
         ],
         "title": {
          "text": "Score"
         }
        },
        "xaxis8": {
         "anchor": "y8",
         "domain": [
          0.35,
          0.6499999999999999
         ]
        },
        "yaxis8": {
         "anchor": "x8",
         "domain": [
          0.42000000000000004,
          0.5800000000000001
         ]
        },
        "xaxis9": {
         "anchor": "y9",
         "domain": [
          0.7,
          1.0
         ]
        },
        "yaxis9": {
         "anchor": "x9",
         "domain": [
          0.42000000000000004,
          0.5800000000000001
         ]
        },
        "xaxis10": {
         "anchor": "y10",
         "domain": [
          0.0,
          0.3
         ]
        },
        "yaxis10": {
         "anchor": "x10",
         "domain": [
          0.21000000000000002,
          0.37
         ],
         "title": {
          "text": "Score"
         }
        },
        "xaxis11": {
         "anchor": "y11",
         "domain": [
          0.35,
          0.6499999999999999
         ]
        },
        "yaxis11": {
         "anchor": "x11",
         "domain": [
          0.21000000000000002,
          0.37
         ]
        },
        "xaxis12": {
         "anchor": "y12",
         "domain": [
          0.7,
          1.0
         ]
        },
        "yaxis12": {
         "anchor": "x12",
         "domain": [
          0.21000000000000002,
          0.37
         ]
        },
        "xaxis13": {
         "anchor": "y13",
         "domain": [
          0.0,
          0.3
         ],
         "title": {
          "text": "Number of Epochs"
         }
        },
        "yaxis13": {
         "anchor": "x13",
         "domain": [
          0.0,
          0.16
         ],
         "title": {
          "text": "Score"
         }
        },
        "xaxis14": {
         "anchor": "y14",
         "domain": [
          0.35,
          0.6499999999999999
         ],
         "title": {
          "text": "Number of Epochs"
         }
        },
        "yaxis14": {
         "anchor": "x14",
         "domain": [
          0.0,
          0.16
         ]
        },
        "xaxis15": {
         "anchor": "y15",
         "domain": [
          0.7,
          1.0
         ],
         "title": {
          "text": "Number of Epochs"
         }
        },
        "yaxis15": {
         "anchor": "x15",
         "domain": [
          0.0,
          0.16
         ]
        },
        "annotations": [
         {
          "font": {
           "size": 16
          },
          "showarrow": false,
          "text": "commonsense - 0.1% Training",
          "x": 0.15,
          "xanchor": "center",
          "xref": "paper",
          "y": 1.0,
          "yanchor": "bottom",
          "yref": "paper"
         },
         {
          "font": {
           "size": 16
          },
          "showarrow": false,
          "text": "anticommonsense - 0.1% Training",
          "x": 0.49999999999999994,
          "xanchor": "center",
          "xref": "paper",
          "y": 1.0,
          "yanchor": "bottom",
          "yref": "paper"
         },
         {
          "font": {
           "size": 16
          },
          "showarrow": false,
          "text": "noncommonsense - 0.1% Training",
          "x": 0.85,
          "xanchor": "center",
          "xref": "paper",
          "y": 1.0,
          "yanchor": "bottom",
          "yref": "paper"
         },
         {
          "font": {
           "size": 16
          },
          "showarrow": false,
          "text": "commonsense - 0.5% Training",
          "x": 0.15,
          "xanchor": "center",
          "xref": "paper",
          "y": 0.79,
          "yanchor": "bottom",
          "yref": "paper"
         },
         {
          "font": {
           "size": 16
          },
          "showarrow": false,
          "text": "anticommonsense - 0.5% Training",
          "x": 0.49999999999999994,
          "xanchor": "center",
          "xref": "paper",
          "y": 0.79,
          "yanchor": "bottom",
          "yref": "paper"
         },
         {
          "font": {
           "size": 16
          },
          "showarrow": false,
          "text": "noncommonsense - 0.5% Training",
          "x": 0.85,
          "xanchor": "center",
          "xref": "paper",
          "y": 0.79,
          "yanchor": "bottom",
          "yref": "paper"
         },
         {
          "font": {
           "size": 16
          },
          "showarrow": false,
          "text": "commonsense - 1.0% Training",
          "x": 0.15,
          "xanchor": "center",
          "xref": "paper",
          "y": 0.5800000000000001,
          "yanchor": "bottom",
          "yref": "paper"
         },
         {
          "font": {
           "size": 16
          },
          "showarrow": false,
          "text": "anticommonsense - 1.0% Training",
          "x": 0.49999999999999994,
          "xanchor": "center",
          "xref": "paper",
          "y": 0.5800000000000001,
          "yanchor": "bottom",
          "yref": "paper"
         },
         {
          "font": {
           "size": 16
          },
          "showarrow": false,
          "text": "noncommonsense - 1.0% Training",
          "x": 0.85,
          "xanchor": "center",
          "xref": "paper",
          "y": 0.5800000000000001,
          "yanchor": "bottom",
          "yref": "paper"
         },
         {
          "font": {
           "size": 16
          },
          "showarrow": false,
          "text": "commonsense - 2.0% Training",
          "x": 0.15,
          "xanchor": "center",
          "xref": "paper",
          "y": 0.37,
          "yanchor": "bottom",
          "yref": "paper"
         },
         {
          "font": {
           "size": 16
          },
          "showarrow": false,
          "text": "anticommonsense - 2.0% Training",
          "x": 0.49999999999999994,
          "xanchor": "center",
          "xref": "paper",
          "y": 0.37,
          "yanchor": "bottom",
          "yref": "paper"
         },
         {
          "font": {
           "size": 16
          },
          "showarrow": false,
          "text": "noncommonsense - 2.0% Training",
          "x": 0.85,
          "xanchor": "center",
          "xref": "paper",
          "y": 0.37,
          "yanchor": "bottom",
          "yref": "paper"
         },
         {
          "font": {
           "size": 16
          },
          "showarrow": false,
          "text": "commonsense - 5.0% Training",
          "x": 0.15,
          "xanchor": "center",
          "xref": "paper",
          "y": 0.16,
          "yanchor": "bottom",
          "yref": "paper"
         },
         {
          "font": {
           "size": 16
          },
          "showarrow": false,
          "text": "anticommonsense - 5.0% Training",
          "x": 0.49999999999999994,
          "xanchor": "center",
          "xref": "paper",
          "y": 0.16,
          "yanchor": "bottom",
          "yref": "paper"
         },
         {
          "font": {
           "size": 16
          },
          "showarrow": false,
          "text": "noncommonsense - 5.0% Training",
          "x": 0.85,
          "xanchor": "center",
          "xref": "paper",
          "y": 0.16,
          "yanchor": "bottom",
          "yref": "paper"
         }
        ],
        "title": {
         "text": "Anonymize vs Non-Anonymize Performance Comparison"
        },
        "margin": {
         "t": 50,
         "b": 20,
         "l": 20,
         "r": 20
        },
        "height": 1000,
        "width": 1200,
        "legend": {
         "title": {
          "text": "Anonymization Setting"
         }
        }
       },
       "config": {
        "plotlyServerURL": "https://plot.ly"
       }
      },
      "text/html": [
       "<div>                            <div id=\"f0d9d159-fe2e-41d6-8555-cc119bb7457b\" class=\"plotly-graph-div\" style=\"height:1000px; width:1200px;\"></div>            <script type=\"text/javascript\">                require([\"plotly\"], function(Plotly) {                    window.PLOTLYENV=window.PLOTLYENV || {};                                    if (document.getElementById(\"f0d9d159-fe2e-41d6-8555-cc119bb7457b\")) {                    Plotly.newPlot(                        \"f0d9d159-fe2e-41d6-8555-cc119bb7457b\",                        [{\"legendgroup\":\"Anonymize=True\",\"line\":{\"color\":\"rgb(31, 119, 180)\"},\"mode\":\"lines+markers\",\"name\":\"Anonymize=True\",\"showlegend\":true,\"x\":[1,2,4,8,16,32,64],\"y\":[57.02,49.23,48.17,52.79,49.42,52.79,53.46],\"type\":\"scatter\",\"xaxis\":\"x\",\"yaxis\":\"y\"},{\"legendgroup\":\"Anonymize=False\",\"line\":{\"color\":\"rgb(255, 127, 14)\"},\"mode\":\"lines+markers\",\"name\":\"Anonymize=False\",\"showlegend\":true,\"x\":[1,2,4,8,16,32,64],\"y\":[50.58,25.38,31.06,45.0,23.65,53.56,57.21],\"type\":\"scatter\",\"xaxis\":\"x\",\"yaxis\":\"y\"},{\"legendgroup\":\"Anonymize=True\",\"line\":{\"color\":\"rgb(31, 119, 180)\"},\"mode\":\"lines+markers\",\"name\":\"Anonymize=True\",\"showlegend\":false,\"x\":[1,2,4,8,16,32,64],\"y\":[58.56,48.46,50.48,53.37,50.77,57.21,55.1],\"type\":\"scatter\",\"xaxis\":\"x2\",\"yaxis\":\"y2\"},{\"legendgroup\":\"Anonymize=False\",\"line\":{\"color\":\"rgb(255, 127, 14)\"},\"mode\":\"lines+markers\",\"name\":\"Anonymize=False\",\"showlegend\":false,\"x\":[1,2,4,8,16,32,64],\"y\":[51.83,22.88,30.29,42.5,21.25,51.06,53.08],\"type\":\"scatter\",\"xaxis\":\"x2\",\"yaxis\":\"y2\"},{\"legendgroup\":\"Anonymize=True\",\"line\":{\"color\":\"rgb(31, 119, 180)\"},\"mode\":\"lines+markers\",\"name\":\"Anonymize=True\",\"showlegend\":false,\"x\":[1,2,4,8,16,32,64],\"y\":[52.05,47.07,45.51,49.61,50.39,54.1,56.15],\"type\":\"scatter\",\"xaxis\":\"x3\",\"yaxis\":\"y3\"},{\"legendgroup\":\"Anonymize=False\",\"line\":{\"color\":\"rgb(255, 127, 14)\"},\"mode\":\"lines+markers\",\"name\":\"Anonymize=False\",\"showlegend\":false,\"x\":[1,2,4,8,16,32,64],\"y\":[49.9,19.24,28.61,43.85,22.36,47.36,49.02],\"type\":\"scatter\",\"xaxis\":\"x3\",\"yaxis\":\"y3\"},{\"legendgroup\":\"Anonymize=True\",\"line\":{\"color\":\"rgb(31, 119, 180)\"},\"mode\":\"lines+markers\",\"name\":\"Anonymize=True\",\"showlegend\":false,\"x\":[1,2,4,8,16,32,64],\"y\":[51.35,49.13,52.21,55.38,56.25,63.85,67.4],\"type\":\"scatter\",\"xaxis\":\"x4\",\"yaxis\":\"y4\"},{\"legendgroup\":\"Anonymize=False\",\"line\":{\"color\":\"rgb(255, 127, 14)\"},\"mode\":\"lines+markers\",\"name\":\"Anonymize=False\",\"showlegend\":false,\"x\":[1,2,4,8,16,32,64],\"y\":[32.5,39.42,50.29,54.71,53.94,61.92,59.62],\"type\":\"scatter\",\"xaxis\":\"x4\",\"yaxis\":\"y4\"},{\"legendgroup\":\"Anonymize=True\",\"line\":{\"color\":\"rgb(31, 119, 180)\"},\"mode\":\"lines+markers\",\"name\":\"Anonymize=True\",\"showlegend\":false,\"x\":[1,2,4,8,16,32,64],\"y\":[50.0,51.83,52.69,54.33,54.13,65.87,65.19],\"type\":\"scatter\",\"xaxis\":\"x5\",\"yaxis\":\"y5\"},{\"legendgroup\":\"Anonymize=False\",\"line\":{\"color\":\"rgb(255, 127, 14)\"},\"mode\":\"lines+markers\",\"name\":\"Anonymize=False\",\"showlegend\":false,\"x\":[1,2,4,8,16,32,64],\"y\":[34.81,40.0,48.08,53.46,53.08,59.71,64.04],\"type\":\"scatter\",\"xaxis\":\"x5\",\"yaxis\":\"y5\"},{\"legendgroup\":\"Anonymize=True\",\"line\":{\"color\":\"rgb(31, 119, 180)\"},\"mode\":\"lines+markers\",\"name\":\"Anonymize=True\",\"showlegend\":false,\"x\":[1,2,4,8,16,32,64],\"y\":[52.15,51.56,54.59,55.57,58.2,64.16,64.16],\"type\":\"scatter\",\"xaxis\":\"x6\",\"yaxis\":\"y6\"},{\"legendgroup\":\"Anonymize=False\",\"line\":{\"color\":\"rgb(255, 127, 14)\"},\"mode\":\"lines+markers\",\"name\":\"Anonymize=False\",\"showlegend\":false,\"x\":[1,2,4,8,16,32,64],\"y\":[31.45,43.26,44.04,49.8,48.83,57.13,54.1],\"type\":\"scatter\",\"xaxis\":\"x6\",\"yaxis\":\"y6\"},{\"legendgroup\":\"Anonymize=True\",\"line\":{\"color\":\"rgb(31, 119, 180)\"},\"mode\":\"lines+markers\",\"name\":\"Anonymize=True\",\"showlegend\":false,\"x\":[1,2,4,8,16,32,64],\"y\":[51.15,52.69,55.48,58.27,65.87,67.79,71.25],\"type\":\"scatter\",\"xaxis\":\"x7\",\"yaxis\":\"y7\"},{\"legendgroup\":\"Anonymize=False\",\"line\":{\"color\":\"rgb(255, 127, 14)\"},\"mode\":\"lines+markers\",\"name\":\"Anonymize=False\",\"showlegend\":false,\"x\":[1,2,4,8,16,32,64],\"y\":[24.13,25.1,53.08,32.5,64.33,65.67,67.21],\"type\":\"scatter\",\"xaxis\":\"x7\",\"yaxis\":\"y7\"},{\"legendgroup\":\"Anonymize=True\",\"line\":{\"color\":\"rgb(31, 119, 180)\"},\"mode\":\"lines+markers\",\"name\":\"Anonymize=True\",\"showlegend\":false,\"x\":[1,2,4,8,16,32,64],\"y\":[52.21,51.92,51.35,57.4,64.42,68.27,69.23],\"type\":\"scatter\",\"xaxis\":\"x8\",\"yaxis\":\"y8\"},{\"legendgroup\":\"Anonymize=False\",\"line\":{\"color\":\"rgb(255, 127, 14)\"},\"mode\":\"lines+markers\",\"name\":\"Anonymize=False\",\"showlegend\":false,\"x\":[1,2,4,8,16,32,64],\"y\":[26.25,26.63,53.65,33.46,65.96,66.35,67.79],\"type\":\"scatter\",\"xaxis\":\"x8\",\"yaxis\":\"y8\"},{\"legendgroup\":\"Anonymize=True\",\"line\":{\"color\":\"rgb(31, 119, 180)\"},\"mode\":\"lines+markers\",\"name\":\"Anonymize=True\",\"showlegend\":false,\"x\":[1,2,4,8,16,32,64],\"y\":[51.07,53.52,54.3,59.38,64.75,66.7,68.85],\"type\":\"scatter\",\"xaxis\":\"x9\",\"yaxis\":\"y9\"},{\"legendgroup\":\"Anonymize=False\",\"line\":{\"color\":\"rgb(255, 127, 14)\"},\"mode\":\"lines+markers\",\"name\":\"Anonymize=False\",\"showlegend\":false,\"x\":[1,2,4,8,16,32,64],\"y\":[27.64,23.44,49.8,30.86,60.25,57.81,62.5],\"type\":\"scatter\",\"xaxis\":\"x9\",\"yaxis\":\"y9\"},{\"legendgroup\":\"Anonymize=True\",\"line\":{\"color\":\"rgb(31, 119, 180)\"},\"mode\":\"lines+markers\",\"name\":\"Anonymize=True\",\"showlegend\":false,\"x\":[1,2,4,8,16,32,64],\"y\":[48.27,52.12,59.62,62.6,73.65,74.71,77.88],\"type\":\"scatter\",\"xaxis\":\"x10\",\"yaxis\":\"y10\"},{\"legendgroup\":\"Anonymize=False\",\"line\":{\"color\":\"rgb(255, 127, 14)\"},\"mode\":\"lines+markers\",\"name\":\"Anonymize=False\",\"showlegend\":false,\"x\":[1,2,4,8,16,32,64],\"y\":[50.38,54.13,58.37,61.44,76.83,69.33,78.46],\"type\":\"scatter\",\"xaxis\":\"x10\",\"yaxis\":\"y10\"},{\"legendgroup\":\"Anonymize=True\",\"line\":{\"color\":\"rgb(31, 119, 180)\"},\"mode\":\"lines+markers\",\"name\":\"Anonymize=True\",\"showlegend\":false,\"x\":[1,2,4,8,16,32,64],\"y\":[52.21,49.81,58.75,60.67,74.42,73.27,77.12],\"type\":\"scatter\",\"xaxis\":\"x11\",\"yaxis\":\"y11\"},{\"legendgroup\":\"Anonymize=False\",\"line\":{\"color\":\"rgb(255, 127, 14)\"},\"mode\":\"lines+markers\",\"name\":\"Anonymize=False\",\"showlegend\":false,\"x\":[1,2,4,8,16,32,64],\"y\":[49.13,52.5,56.44,64.13,78.08,71.73,78.37],\"type\":\"scatter\",\"xaxis\":\"x11\",\"yaxis\":\"y11\"},{\"legendgroup\":\"Anonymize=True\",\"line\":{\"color\":\"rgb(31, 119, 180)\"},\"mode\":\"lines+markers\",\"name\":\"Anonymize=True\",\"showlegend\":false,\"x\":[1,2,4,8,16,32,64],\"y\":[50.78,54.79,57.91,61.62,72.07,71.58,75.39],\"type\":\"scatter\",\"xaxis\":\"x12\",\"yaxis\":\"y12\"},{\"legendgroup\":\"Anonymize=False\",\"line\":{\"color\":\"rgb(255, 127, 14)\"},\"mode\":\"lines+markers\",\"name\":\"Anonymize=False\",\"showlegend\":false,\"x\":[1,2,4,8,16,32,64],\"y\":[49.9,49.71,53.52,57.23,70.31,62.01,72.56],\"type\":\"scatter\",\"xaxis\":\"x12\",\"yaxis\":\"y12\"},{\"legendgroup\":\"Anonymize=True\",\"line\":{\"color\":\"rgb(31, 119, 180)\"},\"mode\":\"lines+markers\",\"name\":\"Anonymize=True\",\"showlegend\":false,\"x\":[1,2,4,8,16,32,64],\"y\":[53.27,54.23,63.08,68.85,82.4,83.75,84.9],\"type\":\"scatter\",\"xaxis\":\"x13\",\"yaxis\":\"y13\"},{\"legendgroup\":\"Anonymize=False\",\"line\":{\"color\":\"rgb(255, 127, 14)\"},\"mode\":\"lines+markers\",\"name\":\"Anonymize=False\",\"showlegend\":false,\"x\":[1,2,4,8,16,32,64],\"y\":[49.9,58.27,63.65,77.79,85.67,89.23,87.88],\"type\":\"scatter\",\"xaxis\":\"x13\",\"yaxis\":\"y13\"},{\"legendgroup\":\"Anonymize=True\",\"line\":{\"color\":\"rgb(31, 119, 180)\"},\"mode\":\"lines+markers\",\"name\":\"Anonymize=True\",\"showlegend\":false,\"x\":[1,2,4,8,16,32,64],\"y\":[53.08,54.23,62.5,68.27,82.88,85.87,84.71],\"type\":\"scatter\",\"xaxis\":\"x14\",\"yaxis\":\"y14\"},{\"legendgroup\":\"Anonymize=False\",\"line\":{\"color\":\"rgb(255, 127, 14)\"},\"mode\":\"lines+markers\",\"name\":\"Anonymize=False\",\"showlegend\":false,\"x\":[1,2,4,8,16,32,64],\"y\":[49.81,57.4,62.4,75.0,85.19,88.56,88.17],\"type\":\"scatter\",\"xaxis\":\"x14\",\"yaxis\":\"y14\"},{\"legendgroup\":\"Anonymize=True\",\"line\":{\"color\":\"rgb(31, 119, 180)\"},\"mode\":\"lines+markers\",\"name\":\"Anonymize=True\",\"showlegend\":false,\"x\":[1,2,4,8,16,32,64],\"y\":[54.98,54.69,62.7,64.45,76.66,79.2,77.64],\"type\":\"scatter\",\"xaxis\":\"x15\",\"yaxis\":\"y15\"},{\"legendgroup\":\"Anonymize=False\",\"line\":{\"color\":\"rgb(255, 127, 14)\"},\"mode\":\"lines+markers\",\"name\":\"Anonymize=False\",\"showlegend\":false,\"x\":[1,2,4,8,16,32,64],\"y\":[51.37,53.42,57.62,70.12,79.3,79.98,81.93],\"type\":\"scatter\",\"xaxis\":\"x15\",\"yaxis\":\"y15\"}],                        {\"template\":{\"data\":{\"histogram2dcontour\":[{\"type\":\"histogram2dcontour\",\"colorbar\":{\"outlinewidth\":0,\"ticks\":\"\"},\"colorscale\":[[0.0,\"#0d0887\"],[0.1111111111111111,\"#46039f\"],[0.2222222222222222,\"#7201a8\"],[0.3333333333333333,\"#9c179e\"],[0.4444444444444444,\"#bd3786\"],[0.5555555555555556,\"#d8576b\"],[0.6666666666666666,\"#ed7953\"],[0.7777777777777778,\"#fb9f3a\"],[0.8888888888888888,\"#fdca26\"],[1.0,\"#f0f921\"]]}],\"choropleth\":[{\"type\":\"choropleth\",\"colorbar\":{\"outlinewidth\":0,\"ticks\":\"\"}}],\"histogram2d\":[{\"type\":\"histogram2d\",\"colorbar\":{\"outlinewidth\":0,\"ticks\":\"\"},\"colorscale\":[[0.0,\"#0d0887\"],[0.1111111111111111,\"#46039f\"],[0.2222222222222222,\"#7201a8\"],[0.3333333333333333,\"#9c179e\"],[0.4444444444444444,\"#bd3786\"],[0.5555555555555556,\"#d8576b\"],[0.6666666666666666,\"#ed7953\"],[0.7777777777777778,\"#fb9f3a\"],[0.8888888888888888,\"#fdca26\"],[1.0,\"#f0f921\"]]}],\"heatmap\":[{\"type\":\"heatmap\",\"colorbar\":{\"outlinewidth\":0,\"ticks\":\"\"},\"colorscale\":[[0.0,\"#0d0887\"],[0.1111111111111111,\"#46039f\"],[0.2222222222222222,\"#7201a8\"],[0.3333333333333333,\"#9c179e\"],[0.4444444444444444,\"#bd3786\"],[0.5555555555555556,\"#d8576b\"],[0.6666666666666666,\"#ed7953\"],[0.7777777777777778,\"#fb9f3a\"],[0.8888888888888888,\"#fdca26\"],[1.0,\"#f0f921\"]]}],\"heatmapgl\":[{\"type\":\"heatmapgl\",\"colorbar\":{\"outlinewidth\":0,\"ticks\":\"\"},\"colorscale\":[[0.0,\"#0d0887\"],[0.1111111111111111,\"#46039f\"],[0.2222222222222222,\"#7201a8\"],[0.3333333333333333,\"#9c179e\"],[0.4444444444444444,\"#bd3786\"],[0.5555555555555556,\"#d8576b\"],[0.6666666666666666,\"#ed7953\"],[0.7777777777777778,\"#fb9f3a\"],[0.8888888888888888,\"#fdca26\"],[1.0,\"#f0f921\"]]}],\"contourcarpet\":[{\"type\":\"contourcarpet\",\"colorbar\":{\"outlinewidth\":0,\"ticks\":\"\"}}],\"contour\":[{\"type\":\"contour\",\"colorbar\":{\"outlinewidth\":0,\"ticks\":\"\"},\"colorscale\":[[0.0,\"#0d0887\"],[0.1111111111111111,\"#46039f\"],[0.2222222222222222,\"#7201a8\"],[0.3333333333333333,\"#9c179e\"],[0.4444444444444444,\"#bd3786\"],[0.5555555555555556,\"#d8576b\"],[0.6666666666666666,\"#ed7953\"],[0.7777777777777778,\"#fb9f3a\"],[0.8888888888888888,\"#fdca26\"],[1.0,\"#f0f921\"]]}],\"surface\":[{\"type\":\"surface\",\"colorbar\":{\"outlinewidth\":0,\"ticks\":\"\"},\"colorscale\":[[0.0,\"#0d0887\"],[0.1111111111111111,\"#46039f\"],[0.2222222222222222,\"#7201a8\"],[0.3333333333333333,\"#9c179e\"],[0.4444444444444444,\"#bd3786\"],[0.5555555555555556,\"#d8576b\"],[0.6666666666666666,\"#ed7953\"],[0.7777777777777778,\"#fb9f3a\"],[0.8888888888888888,\"#fdca26\"],[1.0,\"#f0f921\"]]}],\"mesh3d\":[{\"type\":\"mesh3d\",\"colorbar\":{\"outlinewidth\":0,\"ticks\":\"\"}}],\"scatter\":[{\"fillpattern\":{\"fillmode\":\"overlay\",\"size\":10,\"solidity\":0.2},\"type\":\"scatter\"}],\"parcoords\":[{\"type\":\"parcoords\",\"line\":{\"colorbar\":{\"outlinewidth\":0,\"ticks\":\"\"}}}],\"scatterpolargl\":[{\"type\":\"scatterpolargl\",\"marker\":{\"colorbar\":{\"outlinewidth\":0,\"ticks\":\"\"}}}],\"bar\":[{\"error_x\":{\"color\":\"#2a3f5f\"},\"error_y\":{\"color\":\"#2a3f5f\"},\"marker\":{\"line\":{\"color\":\"#E5ECF6\",\"width\":0.5},\"pattern\":{\"fillmode\":\"overlay\",\"size\":10,\"solidity\":0.2}},\"type\":\"bar\"}],\"scattergeo\":[{\"type\":\"scattergeo\",\"marker\":{\"colorbar\":{\"outlinewidth\":0,\"ticks\":\"\"}}}],\"scatterpolar\":[{\"type\":\"scatterpolar\",\"marker\":{\"colorbar\":{\"outlinewidth\":0,\"ticks\":\"\"}}}],\"histogram\":[{\"marker\":{\"pattern\":{\"fillmode\":\"overlay\",\"size\":10,\"solidity\":0.2}},\"type\":\"histogram\"}],\"scattergl\":[{\"type\":\"scattergl\",\"marker\":{\"colorbar\":{\"outlinewidth\":0,\"ticks\":\"\"}}}],\"scatter3d\":[{\"type\":\"scatter3d\",\"line\":{\"colorbar\":{\"outlinewidth\":0,\"ticks\":\"\"}},\"marker\":{\"colorbar\":{\"outlinewidth\":0,\"ticks\":\"\"}}}],\"scattermapbox\":[{\"type\":\"scattermapbox\",\"marker\":{\"colorbar\":{\"outlinewidth\":0,\"ticks\":\"\"}}}],\"scatterternary\":[{\"type\":\"scatterternary\",\"marker\":{\"colorbar\":{\"outlinewidth\":0,\"ticks\":\"\"}}}],\"scattercarpet\":[{\"type\":\"scattercarpet\",\"marker\":{\"colorbar\":{\"outlinewidth\":0,\"ticks\":\"\"}}}],\"carpet\":[{\"aaxis\":{\"endlinecolor\":\"#2a3f5f\",\"gridcolor\":\"white\",\"linecolor\":\"white\",\"minorgridcolor\":\"white\",\"startlinecolor\":\"#2a3f5f\"},\"baxis\":{\"endlinecolor\":\"#2a3f5f\",\"gridcolor\":\"white\",\"linecolor\":\"white\",\"minorgridcolor\":\"white\",\"startlinecolor\":\"#2a3f5f\"},\"type\":\"carpet\"}],\"table\":[{\"cells\":{\"fill\":{\"color\":\"#EBF0F8\"},\"line\":{\"color\":\"white\"}},\"header\":{\"fill\":{\"color\":\"#C8D4E3\"},\"line\":{\"color\":\"white\"}},\"type\":\"table\"}],\"barpolar\":[{\"marker\":{\"line\":{\"color\":\"#E5ECF6\",\"width\":0.5},\"pattern\":{\"fillmode\":\"overlay\",\"size\":10,\"solidity\":0.2}},\"type\":\"barpolar\"}],\"pie\":[{\"automargin\":true,\"type\":\"pie\"}]},\"layout\":{\"autotypenumbers\":\"strict\",\"colorway\":[\"#636efa\",\"#EF553B\",\"#00cc96\",\"#ab63fa\",\"#FFA15A\",\"#19d3f3\",\"#FF6692\",\"#B6E880\",\"#FF97FF\",\"#FECB52\"],\"font\":{\"color\":\"#2a3f5f\"},\"hovermode\":\"closest\",\"hoverlabel\":{\"align\":\"left\"},\"paper_bgcolor\":\"white\",\"plot_bgcolor\":\"#E5ECF6\",\"polar\":{\"bgcolor\":\"#E5ECF6\",\"angularaxis\":{\"gridcolor\":\"white\",\"linecolor\":\"white\",\"ticks\":\"\"},\"radialaxis\":{\"gridcolor\":\"white\",\"linecolor\":\"white\",\"ticks\":\"\"}},\"ternary\":{\"bgcolor\":\"#E5ECF6\",\"aaxis\":{\"gridcolor\":\"white\",\"linecolor\":\"white\",\"ticks\":\"\"},\"baxis\":{\"gridcolor\":\"white\",\"linecolor\":\"white\",\"ticks\":\"\"},\"caxis\":{\"gridcolor\":\"white\",\"linecolor\":\"white\",\"ticks\":\"\"}},\"coloraxis\":{\"colorbar\":{\"outlinewidth\":0,\"ticks\":\"\"}},\"colorscale\":{\"sequential\":[[0.0,\"#0d0887\"],[0.1111111111111111,\"#46039f\"],[0.2222222222222222,\"#7201a8\"],[0.3333333333333333,\"#9c179e\"],[0.4444444444444444,\"#bd3786\"],[0.5555555555555556,\"#d8576b\"],[0.6666666666666666,\"#ed7953\"],[0.7777777777777778,\"#fb9f3a\"],[0.8888888888888888,\"#fdca26\"],[1.0,\"#f0f921\"]],\"sequentialminus\":[[0.0,\"#0d0887\"],[0.1111111111111111,\"#46039f\"],[0.2222222222222222,\"#7201a8\"],[0.3333333333333333,\"#9c179e\"],[0.4444444444444444,\"#bd3786\"],[0.5555555555555556,\"#d8576b\"],[0.6666666666666666,\"#ed7953\"],[0.7777777777777778,\"#fb9f3a\"],[0.8888888888888888,\"#fdca26\"],[1.0,\"#f0f921\"]],\"diverging\":[[0,\"#8e0152\"],[0.1,\"#c51b7d\"],[0.2,\"#de77ae\"],[0.3,\"#f1b6da\"],[0.4,\"#fde0ef\"],[0.5,\"#f7f7f7\"],[0.6,\"#e6f5d0\"],[0.7,\"#b8e186\"],[0.8,\"#7fbc41\"],[0.9,\"#4d9221\"],[1,\"#276419\"]]},\"xaxis\":{\"gridcolor\":\"white\",\"linecolor\":\"white\",\"ticks\":\"\",\"title\":{\"standoff\":15},\"zerolinecolor\":\"white\",\"automargin\":true,\"zerolinewidth\":2},\"yaxis\":{\"gridcolor\":\"white\",\"linecolor\":\"white\",\"ticks\":\"\",\"title\":{\"standoff\":15},\"zerolinecolor\":\"white\",\"automargin\":true,\"zerolinewidth\":2},\"scene\":{\"xaxis\":{\"backgroundcolor\":\"#E5ECF6\",\"gridcolor\":\"white\",\"linecolor\":\"white\",\"showbackground\":true,\"ticks\":\"\",\"zerolinecolor\":\"white\",\"gridwidth\":2},\"yaxis\":{\"backgroundcolor\":\"#E5ECF6\",\"gridcolor\":\"white\",\"linecolor\":\"white\",\"showbackground\":true,\"ticks\":\"\",\"zerolinecolor\":\"white\",\"gridwidth\":2},\"zaxis\":{\"backgroundcolor\":\"#E5ECF6\",\"gridcolor\":\"white\",\"linecolor\":\"white\",\"showbackground\":true,\"ticks\":\"\",\"zerolinecolor\":\"white\",\"gridwidth\":2}},\"shapedefaults\":{\"line\":{\"color\":\"#2a3f5f\"}},\"annotationdefaults\":{\"arrowcolor\":\"#2a3f5f\",\"arrowhead\":0,\"arrowwidth\":1},\"geo\":{\"bgcolor\":\"white\",\"landcolor\":\"#E5ECF6\",\"subunitcolor\":\"white\",\"showland\":true,\"showlakes\":true,\"lakecolor\":\"white\"},\"title\":{\"x\":0.05},\"mapbox\":{\"style\":\"light\"}}},\"xaxis\":{\"anchor\":\"y\",\"domain\":[0.0,0.3]},\"yaxis\":{\"anchor\":\"x\",\"domain\":[0.8400000000000001,1.0],\"title\":{\"text\":\"Score\"}},\"xaxis2\":{\"anchor\":\"y2\",\"domain\":[0.35,0.6499999999999999]},\"yaxis2\":{\"anchor\":\"x2\",\"domain\":[0.8400000000000001,1.0]},\"xaxis3\":{\"anchor\":\"y3\",\"domain\":[0.7,1.0]},\"yaxis3\":{\"anchor\":\"x3\",\"domain\":[0.8400000000000001,1.0]},\"xaxis4\":{\"anchor\":\"y4\",\"domain\":[0.0,0.3]},\"yaxis4\":{\"anchor\":\"x4\",\"domain\":[0.63,0.79],\"title\":{\"text\":\"Score\"}},\"xaxis5\":{\"anchor\":\"y5\",\"domain\":[0.35,0.6499999999999999]},\"yaxis5\":{\"anchor\":\"x5\",\"domain\":[0.63,0.79]},\"xaxis6\":{\"anchor\":\"y6\",\"domain\":[0.7,1.0]},\"yaxis6\":{\"anchor\":\"x6\",\"domain\":[0.63,0.79]},\"xaxis7\":{\"anchor\":\"y7\",\"domain\":[0.0,0.3]},\"yaxis7\":{\"anchor\":\"x7\",\"domain\":[0.42000000000000004,0.5800000000000001],\"title\":{\"text\":\"Score\"}},\"xaxis8\":{\"anchor\":\"y8\",\"domain\":[0.35,0.6499999999999999]},\"yaxis8\":{\"anchor\":\"x8\",\"domain\":[0.42000000000000004,0.5800000000000001]},\"xaxis9\":{\"anchor\":\"y9\",\"domain\":[0.7,1.0]},\"yaxis9\":{\"anchor\":\"x9\",\"domain\":[0.42000000000000004,0.5800000000000001]},\"xaxis10\":{\"anchor\":\"y10\",\"domain\":[0.0,0.3]},\"yaxis10\":{\"anchor\":\"x10\",\"domain\":[0.21000000000000002,0.37],\"title\":{\"text\":\"Score\"}},\"xaxis11\":{\"anchor\":\"y11\",\"domain\":[0.35,0.6499999999999999]},\"yaxis11\":{\"anchor\":\"x11\",\"domain\":[0.21000000000000002,0.37]},\"xaxis12\":{\"anchor\":\"y12\",\"domain\":[0.7,1.0]},\"yaxis12\":{\"anchor\":\"x12\",\"domain\":[0.21000000000000002,0.37]},\"xaxis13\":{\"anchor\":\"y13\",\"domain\":[0.0,0.3],\"title\":{\"text\":\"Number of Epochs\"}},\"yaxis13\":{\"anchor\":\"x13\",\"domain\":[0.0,0.16],\"title\":{\"text\":\"Score\"}},\"xaxis14\":{\"anchor\":\"y14\",\"domain\":[0.35,0.6499999999999999],\"title\":{\"text\":\"Number of Epochs\"}},\"yaxis14\":{\"anchor\":\"x14\",\"domain\":[0.0,0.16]},\"xaxis15\":{\"anchor\":\"y15\",\"domain\":[0.7,1.0],\"title\":{\"text\":\"Number of Epochs\"}},\"yaxis15\":{\"anchor\":\"x15\",\"domain\":[0.0,0.16]},\"annotations\":[{\"font\":{\"size\":16},\"showarrow\":false,\"text\":\"commonsense - 0.1% Training\",\"x\":0.15,\"xanchor\":\"center\",\"xref\":\"paper\",\"y\":1.0,\"yanchor\":\"bottom\",\"yref\":\"paper\"},{\"font\":{\"size\":16},\"showarrow\":false,\"text\":\"anticommonsense - 0.1% Training\",\"x\":0.49999999999999994,\"xanchor\":\"center\",\"xref\":\"paper\",\"y\":1.0,\"yanchor\":\"bottom\",\"yref\":\"paper\"},{\"font\":{\"size\":16},\"showarrow\":false,\"text\":\"noncommonsense - 0.1% Training\",\"x\":0.85,\"xanchor\":\"center\",\"xref\":\"paper\",\"y\":1.0,\"yanchor\":\"bottom\",\"yref\":\"paper\"},{\"font\":{\"size\":16},\"showarrow\":false,\"text\":\"commonsense - 0.5% Training\",\"x\":0.15,\"xanchor\":\"center\",\"xref\":\"paper\",\"y\":0.79,\"yanchor\":\"bottom\",\"yref\":\"paper\"},{\"font\":{\"size\":16},\"showarrow\":false,\"text\":\"anticommonsense - 0.5% Training\",\"x\":0.49999999999999994,\"xanchor\":\"center\",\"xref\":\"paper\",\"y\":0.79,\"yanchor\":\"bottom\",\"yref\":\"paper\"},{\"font\":{\"size\":16},\"showarrow\":false,\"text\":\"noncommonsense - 0.5% Training\",\"x\":0.85,\"xanchor\":\"center\",\"xref\":\"paper\",\"y\":0.79,\"yanchor\":\"bottom\",\"yref\":\"paper\"},{\"font\":{\"size\":16},\"showarrow\":false,\"text\":\"commonsense - 1.0% Training\",\"x\":0.15,\"xanchor\":\"center\",\"xref\":\"paper\",\"y\":0.5800000000000001,\"yanchor\":\"bottom\",\"yref\":\"paper\"},{\"font\":{\"size\":16},\"showarrow\":false,\"text\":\"anticommonsense - 1.0% Training\",\"x\":0.49999999999999994,\"xanchor\":\"center\",\"xref\":\"paper\",\"y\":0.5800000000000001,\"yanchor\":\"bottom\",\"yref\":\"paper\"},{\"font\":{\"size\":16},\"showarrow\":false,\"text\":\"noncommonsense - 1.0% Training\",\"x\":0.85,\"xanchor\":\"center\",\"xref\":\"paper\",\"y\":0.5800000000000001,\"yanchor\":\"bottom\",\"yref\":\"paper\"},{\"font\":{\"size\":16},\"showarrow\":false,\"text\":\"commonsense - 2.0% Training\",\"x\":0.15,\"xanchor\":\"center\",\"xref\":\"paper\",\"y\":0.37,\"yanchor\":\"bottom\",\"yref\":\"paper\"},{\"font\":{\"size\":16},\"showarrow\":false,\"text\":\"anticommonsense - 2.0% Training\",\"x\":0.49999999999999994,\"xanchor\":\"center\",\"xref\":\"paper\",\"y\":0.37,\"yanchor\":\"bottom\",\"yref\":\"paper\"},{\"font\":{\"size\":16},\"showarrow\":false,\"text\":\"noncommonsense - 2.0% Training\",\"x\":0.85,\"xanchor\":\"center\",\"xref\":\"paper\",\"y\":0.37,\"yanchor\":\"bottom\",\"yref\":\"paper\"},{\"font\":{\"size\":16},\"showarrow\":false,\"text\":\"commonsense - 5.0% Training\",\"x\":0.15,\"xanchor\":\"center\",\"xref\":\"paper\",\"y\":0.16,\"yanchor\":\"bottom\",\"yref\":\"paper\"},{\"font\":{\"size\":16},\"showarrow\":false,\"text\":\"anticommonsense - 5.0% Training\",\"x\":0.49999999999999994,\"xanchor\":\"center\",\"xref\":\"paper\",\"y\":0.16,\"yanchor\":\"bottom\",\"yref\":\"paper\"},{\"font\":{\"size\":16},\"showarrow\":false,\"text\":\"noncommonsense - 5.0% Training\",\"x\":0.85,\"xanchor\":\"center\",\"xref\":\"paper\",\"y\":0.16,\"yanchor\":\"bottom\",\"yref\":\"paper\"}],\"title\":{\"text\":\"Anonymize vs Non-Anonymize Performance Comparison\"},\"margin\":{\"t\":50,\"b\":20,\"l\":20,\"r\":20},\"height\":1000,\"width\":1200,\"legend\":{\"title\":{\"text\":\"Anonymization Setting\"}}},                        {\"responsive\": true}                    ).then(function(){\n",
       "                            \n",
       "var gd = document.getElementById('f0d9d159-fe2e-41d6-8555-cc119bb7457b');\n",
       "var x = new MutationObserver(function (mutations, observer) {{\n",
       "        var display = window.getComputedStyle(gd).display;\n",
       "        if (!display || display === 'none') {{\n",
       "            console.log([gd, 'removed!']);\n",
       "            Plotly.purge(gd);\n",
       "            observer.disconnect();\n",
       "        }}\n",
       "}});\n",
       "\n",
       "// Listen for the removal of the full notebook cells\n",
       "var notebookContainer = gd.closest('#notebook-container');\n",
       "if (notebookContainer) {{\n",
       "    x.observe(notebookContainer, {childList: true});\n",
       "}}\n",
       "\n",
       "// Listen for the clearing of the current output cell\n",
       "var outputEl = gd.closest('.output');\n",
       "if (outputEl) {{\n",
       "    x.observe(outputEl, {childList: true});\n",
       "}}\n",
       "\n",
       "                        })                };                });            </script>        </div>"
      ]
     },
     "metadata": {},
     "output_type": "display_data"
    },
    {
     "name": "stdout",
     "output_type": "stream",
     "text": [
      "Creating comparison plots for learning rate: 0.0003\n"
     ]
    },
    {
     "data": {
      "application/vnd.plotly.v1+json": {
       "data": [
        {
         "legendgroup": "Anonymize=True",
         "line": {
          "color": "rgb(31, 119, 180)"
         },
         "mode": "lines+markers",
         "name": "Anonymize=True",
         "showlegend": true,
         "x": [
          1,
          2,
          4,
          8,
          16,
          32,
          64
         ],
         "y": [
          53.75,
          45.19,
          53.75,
          49.13,
          53.17,
          57.21,
          55.58
         ],
         "type": "scatter",
         "xaxis": "x",
         "yaxis": "y"
        },
        {
         "legendgroup": "Anonymize=False",
         "line": {
          "color": "rgb(255, 127, 14)"
         },
         "mode": "lines+markers",
         "name": "Anonymize=False",
         "showlegend": true,
         "x": [
          1,
          2,
          4,
          8,
          16,
          32,
          64
         ],
         "y": [
          45.0,
          19.23,
          41.54,
          50.29,
          41.44,
          53.27,
          53.08
         ],
         "type": "scatter",
         "xaxis": "x",
         "yaxis": "y"
        },
        {
         "legendgroup": "Anonymize=True",
         "line": {
          "color": "rgb(31, 119, 180)"
         },
         "mode": "lines+markers",
         "name": "Anonymize=True",
         "showlegend": false,
         "x": [
          1,
          2,
          4,
          8,
          16,
          32,
          64
         ],
         "y": [
          55.48,
          42.88,
          54.13,
          52.02,
          52.31,
          57.31,
          57.31
         ],
         "type": "scatter",
         "xaxis": "x2",
         "yaxis": "y2"
        },
        {
         "legendgroup": "Anonymize=False",
         "line": {
          "color": "rgb(255, 127, 14)"
         },
         "mode": "lines+markers",
         "name": "Anonymize=False",
         "showlegend": false,
         "x": [
          1,
          2,
          4,
          8,
          16,
          32,
          64
         ],
         "y": [
          47.6,
          17.69,
          41.44,
          48.56,
          40.48,
          48.37,
          53.94
         ],
         "type": "scatter",
         "xaxis": "x2",
         "yaxis": "y2"
        },
        {
         "legendgroup": "Anonymize=True",
         "line": {
          "color": "rgb(31, 119, 180)"
         },
         "mode": "lines+markers",
         "name": "Anonymize=True",
         "showlegend": false,
         "x": [
          1,
          2,
          4,
          8,
          16,
          32,
          64
         ],
         "y": [
          54.0,
          42.38,
          52.93,
          51.27,
          52.93,
          54.39,
          57.42
         ],
         "type": "scatter",
         "xaxis": "x3",
         "yaxis": "y3"
        },
        {
         "legendgroup": "Anonymize=False",
         "line": {
          "color": "rgb(255, 127, 14)"
         },
         "mode": "lines+markers",
         "name": "Anonymize=False",
         "showlegend": false,
         "x": [
          1,
          2,
          4,
          8,
          16,
          32,
          64
         ],
         "y": [
          39.45,
          11.23,
          40.33,
          51.56,
          39.26,
          48.44,
          51.56
         ],
         "type": "scatter",
         "xaxis": "x3",
         "yaxis": "y3"
        },
        {
         "legendgroup": "Anonymize=True",
         "line": {
          "color": "rgb(31, 119, 180)"
         },
         "mode": "lines+markers",
         "name": "Anonymize=True",
         "showlegend": false,
         "x": [
          1,
          2,
          4,
          8,
          16,
          32,
          64
         ],
         "y": [
          50.87,
          51.35,
          49.52,
          56.06,
          61.63,
          69.04,
          67.5
         ],
         "type": "scatter",
         "xaxis": "x4",
         "yaxis": "y4"
        },
        {
         "legendgroup": "Anonymize=False",
         "line": {
          "color": "rgb(255, 127, 14)"
         },
         "mode": "lines+markers",
         "name": "Anonymize=False",
         "showlegend": false,
         "x": [
          1,
          2,
          4,
          8,
          16,
          32,
          64
         ],
         "y": [
          48.08,
          50.48,
          50.67,
          55.1,
          62.98,
          59.81,
          58.85
         ],
         "type": "scatter",
         "xaxis": "x4",
         "yaxis": "y4"
        },
        {
         "legendgroup": "Anonymize=True",
         "line": {
          "color": "rgb(31, 119, 180)"
         },
         "mode": "lines+markers",
         "name": "Anonymize=True",
         "showlegend": false,
         "x": [
          1,
          2,
          4,
          8,
          16,
          32,
          64
         ],
         "y": [
          52.6,
          49.33,
          49.23,
          56.44,
          59.71,
          67.69,
          65.58
         ],
         "type": "scatter",
         "xaxis": "x5",
         "yaxis": "y5"
        },
        {
         "legendgroup": "Anonymize=False",
         "line": {
          "color": "rgb(255, 127, 14)"
         },
         "mode": "lines+markers",
         "name": "Anonymize=False",
         "showlegend": false,
         "x": [
          1,
          2,
          4,
          8,
          16,
          32,
          64
         ],
         "y": [
          45.1,
          47.69,
          51.63,
          53.37,
          62.6,
          60.1,
          59.81
         ],
         "type": "scatter",
         "xaxis": "x5",
         "yaxis": "y5"
        },
        {
         "legendgroup": "Anonymize=True",
         "line": {
          "color": "rgb(31, 119, 180)"
         },
         "mode": "lines+markers",
         "name": "Anonymize=True",
         "showlegend": false,
         "x": [
          1,
          2,
          4,
          8,
          16,
          32,
          64
         ],
         "y": [
          50.68,
          48.93,
          47.56,
          57.81,
          60.16,
          67.29,
          66.99
         ],
         "type": "scatter",
         "xaxis": "x6",
         "yaxis": "y6"
        },
        {
         "legendgroup": "Anonymize=False",
         "line": {
          "color": "rgb(255, 127, 14)"
         },
         "mode": "lines+markers",
         "name": "Anonymize=False",
         "showlegend": false,
         "x": [
          1,
          2,
          4,
          8,
          16,
          32,
          64
         ],
         "y": [
          44.63,
          47.56,
          50.0,
          50.49,
          58.4,
          53.91,
          54.98
         ],
         "type": "scatter",
         "xaxis": "x6",
         "yaxis": "y6"
        },
        {
         "legendgroup": "Anonymize=True",
         "line": {
          "color": "rgb(31, 119, 180)"
         },
         "mode": "lines+markers",
         "name": "Anonymize=True",
         "showlegend": false,
         "x": [
          1,
          2,
          4,
          8,
          16,
          32,
          64
         ],
         "y": [
          51.06,
          53.27,
          58.46,
          61.54,
          67.12,
          70.96,
          72.12
         ],
         "type": "scatter",
         "xaxis": "x7",
         "yaxis": "y7"
        },
        {
         "legendgroup": "Anonymize=False",
         "line": {
          "color": "rgb(255, 127, 14)"
         },
         "mode": "lines+markers",
         "name": "Anonymize=False",
         "showlegend": false,
         "x": [
          1,
          2,
          4,
          8,
          16,
          32,
          64
         ],
         "y": [
          33.75,
          32.69,
          50.58,
          59.62,
          67.31,
          68.08,
          70.19
         ],
         "type": "scatter",
         "xaxis": "x7",
         "yaxis": "y7"
        },
        {
         "legendgroup": "Anonymize=True",
         "line": {
          "color": "rgb(31, 119, 180)"
         },
         "mode": "lines+markers",
         "name": "Anonymize=True",
         "showlegend": false,
         "x": [
          1,
          2,
          4,
          8,
          16,
          32,
          64
         ],
         "y": [
          51.63,
          49.71,
          57.12,
          60.58,
          65.96,
          71.35,
          70.96
         ],
         "type": "scatter",
         "xaxis": "x8",
         "yaxis": "y8"
        },
        {
         "legendgroup": "Anonymize=False",
         "line": {
          "color": "rgb(255, 127, 14)"
         },
         "mode": "lines+markers",
         "name": "Anonymize=False",
         "showlegend": false,
         "x": [
          1,
          2,
          4,
          8,
          16,
          32,
          64
         ],
         "y": [
          32.02,
          29.04,
          52.69,
          62.12,
          65.67,
          66.83,
          71.06
         ],
         "type": "scatter",
         "xaxis": "x8",
         "yaxis": "y8"
        },
        {
         "legendgroup": "Anonymize=True",
         "line": {
          "color": "rgb(31, 119, 180)"
         },
         "mode": "lines+markers",
         "name": "Anonymize=True",
         "showlegend": false,
         "x": [
          1,
          2,
          4,
          8,
          16,
          32,
          64
         ],
         "y": [
          50.29,
          54.49,
          56.45,
          61.43,
          62.5,
          69.04,
          70.9
         ],
         "type": "scatter",
         "xaxis": "x9",
         "yaxis": "y9"
        },
        {
         "legendgroup": "Anonymize=False",
         "line": {
          "color": "rgb(255, 127, 14)"
         },
         "mode": "lines+markers",
         "name": "Anonymize=False",
         "showlegend": false,
         "x": [
          1,
          2,
          4,
          8,
          16,
          32,
          64
         ],
         "y": [
          35.06,
          25.78,
          48.83,
          59.96,
          58.89,
          59.47,
          63.38
         ],
         "type": "scatter",
         "xaxis": "x9",
         "yaxis": "y9"
        },
        {
         "legendgroup": "Anonymize=True",
         "line": {
          "color": "rgb(31, 119, 180)"
         },
         "mode": "lines+markers",
         "name": "Anonymize=True",
         "showlegend": false,
         "x": [
          1,
          2,
          4,
          8,
          16,
          32,
          64
         ],
         "y": [
          50.96,
          54.9,
          60.48,
          69.52,
          75.1,
          73.56,
          76.92
         ],
         "type": "scatter",
         "xaxis": "x10",
         "yaxis": "y10"
        },
        {
         "legendgroup": "Anonymize=False",
         "line": {
          "color": "rgb(255, 127, 14)"
         },
         "mode": "lines+markers",
         "name": "Anonymize=False",
         "showlegend": false,
         "x": [
          1,
          2,
          4,
          8,
          16,
          32,
          64
         ],
         "y": [
          42.6,
          52.6,
          60.0,
          68.85,
          75.48,
          81.06,
          73.85
         ],
         "type": "scatter",
         "xaxis": "x10",
         "yaxis": "y10"
        },
        {
         "legendgroup": "Anonymize=True",
         "line": {
          "color": "rgb(31, 119, 180)"
         },
         "mode": "lines+markers",
         "name": "Anonymize=True",
         "showlegend": false,
         "x": [
          1,
          2,
          4,
          8,
          16,
          32,
          64
         ],
         "y": [
          53.65,
          52.31,
          58.75,
          67.4,
          76.15,
          73.65,
          77.69
         ],
         "type": "scatter",
         "xaxis": "x11",
         "yaxis": "y11"
        },
        {
         "legendgroup": "Anonymize=False",
         "line": {
          "color": "rgb(255, 127, 14)"
         },
         "mode": "lines+markers",
         "name": "Anonymize=False",
         "showlegend": false,
         "x": [
          1,
          2,
          4,
          8,
          16,
          32,
          64
         ],
         "y": [
          44.33,
          54.13,
          63.17,
          68.08,
          75.19,
          80.29,
          73.75
         ],
         "type": "scatter",
         "xaxis": "x11",
         "yaxis": "y11"
        },
        {
         "legendgroup": "Anonymize=True",
         "line": {
          "color": "rgb(31, 119, 180)"
         },
         "mode": "lines+markers",
         "name": "Anonymize=True",
         "showlegend": false,
         "x": [
          1,
          2,
          4,
          8,
          16,
          32,
          64
         ],
         "y": [
          51.07,
          55.57,
          61.23,
          66.89,
          73.24,
          74.22,
          76.17
         ],
         "type": "scatter",
         "xaxis": "x12",
         "yaxis": "y12"
        },
        {
         "legendgroup": "Anonymize=False",
         "line": {
          "color": "rgb(255, 127, 14)"
         },
         "mode": "lines+markers",
         "name": "Anonymize=False",
         "showlegend": false,
         "x": [
          1,
          2,
          4,
          8,
          16,
          32,
          64
         ],
         "y": [
          40.04,
          54.0,
          56.93,
          62.99,
          69.34,
          76.17,
          69.73
         ],
         "type": "scatter",
         "xaxis": "x12",
         "yaxis": "y12"
        },
        {
         "legendgroup": "Anonymize=True",
         "line": {
          "color": "rgb(31, 119, 180)"
         },
         "mode": "lines+markers",
         "name": "Anonymize=True",
         "showlegend": false,
         "x": [
          1,
          2,
          4,
          8,
          16,
          32,
          64
         ],
         "y": [
          58.17,
          58.85,
          66.06,
          80.58,
          84.42,
          85.96,
          86.15
         ],
         "type": "scatter",
         "xaxis": "x13",
         "yaxis": "y13"
        },
        {
         "legendgroup": "Anonymize=False",
         "line": {
          "color": "rgb(255, 127, 14)"
         },
         "mode": "lines+markers",
         "name": "Anonymize=False",
         "showlegend": false,
         "x": [
          1,
          2,
          4,
          8,
          16,
          32,
          64
         ],
         "y": [
          56.54,
          61.44,
          70.29,
          77.98,
          87.02,
          88.27,
          86.73
         ],
         "type": "scatter",
         "xaxis": "x13",
         "yaxis": "y13"
        },
        {
         "legendgroup": "Anonymize=True",
         "line": {
          "color": "rgb(31, 119, 180)"
         },
         "mode": "lines+markers",
         "name": "Anonymize=True",
         "showlegend": false,
         "x": [
          1,
          2,
          4,
          8,
          16,
          32,
          64
         ],
         "y": [
          55.58,
          58.65,
          67.21,
          80.58,
          83.08,
          85.48,
          86.63
         ],
         "type": "scatter",
         "xaxis": "x14",
         "yaxis": "y14"
        },
        {
         "legendgroup": "Anonymize=False",
         "line": {
          "color": "rgb(255, 127, 14)"
         },
         "mode": "lines+markers",
         "name": "Anonymize=False",
         "showlegend": false,
         "x": [
          1,
          2,
          4,
          8,
          16,
          32,
          64
         ],
         "y": [
          55.58,
          59.13,
          69.23,
          79.52,
          87.31,
          90.19,
          88.94
         ],
         "type": "scatter",
         "xaxis": "x14",
         "yaxis": "y14"
        },
        {
         "legendgroup": "Anonymize=True",
         "line": {
          "color": "rgb(31, 119, 180)"
         },
         "mode": "lines+markers",
         "name": "Anonymize=True",
         "showlegend": false,
         "x": [
          1,
          2,
          4,
          8,
          16,
          32,
          64
         ],
         "y": [
          57.91,
          56.93,
          68.26,
          73.34,
          80.96,
          79.88,
          82.81
         ],
         "type": "scatter",
         "xaxis": "x15",
         "yaxis": "y15"
        },
        {
         "legendgroup": "Anonymize=False",
         "line": {
          "color": "rgb(255, 127, 14)"
         },
         "mode": "lines+markers",
         "name": "Anonymize=False",
         "showlegend": false,
         "x": [
          1,
          2,
          4,
          8,
          16,
          32,
          64
         ],
         "y": [
          55.66,
          57.71,
          64.26,
          73.83,
          77.44,
          82.13,
          85.16
         ],
         "type": "scatter",
         "xaxis": "x15",
         "yaxis": "y15"
        }
       ],
       "layout": {
        "template": {
         "data": {
          "histogram2dcontour": [
           {
            "type": "histogram2dcontour",
            "colorbar": {
             "outlinewidth": 0,
             "ticks": ""
            },
            "colorscale": [
             [
              0.0,
              "#0d0887"
             ],
             [
              0.1111111111111111,
              "#46039f"
             ],
             [
              0.2222222222222222,
              "#7201a8"
             ],
             [
              0.3333333333333333,
              "#9c179e"
             ],
             [
              0.4444444444444444,
              "#bd3786"
             ],
             [
              0.5555555555555556,
              "#d8576b"
             ],
             [
              0.6666666666666666,
              "#ed7953"
             ],
             [
              0.7777777777777778,
              "#fb9f3a"
             ],
             [
              0.8888888888888888,
              "#fdca26"
             ],
             [
              1.0,
              "#f0f921"
             ]
            ]
           }
          ],
          "choropleth": [
           {
            "type": "choropleth",
            "colorbar": {
             "outlinewidth": 0,
             "ticks": ""
            }
           }
          ],
          "histogram2d": [
           {
            "type": "histogram2d",
            "colorbar": {
             "outlinewidth": 0,
             "ticks": ""
            },
            "colorscale": [
             [
              0.0,
              "#0d0887"
             ],
             [
              0.1111111111111111,
              "#46039f"
             ],
             [
              0.2222222222222222,
              "#7201a8"
             ],
             [
              0.3333333333333333,
              "#9c179e"
             ],
             [
              0.4444444444444444,
              "#bd3786"
             ],
             [
              0.5555555555555556,
              "#d8576b"
             ],
             [
              0.6666666666666666,
              "#ed7953"
             ],
             [
              0.7777777777777778,
              "#fb9f3a"
             ],
             [
              0.8888888888888888,
              "#fdca26"
             ],
             [
              1.0,
              "#f0f921"
             ]
            ]
           }
          ],
          "heatmap": [
           {
            "type": "heatmap",
            "colorbar": {
             "outlinewidth": 0,
             "ticks": ""
            },
            "colorscale": [
             [
              0.0,
              "#0d0887"
             ],
             [
              0.1111111111111111,
              "#46039f"
             ],
             [
              0.2222222222222222,
              "#7201a8"
             ],
             [
              0.3333333333333333,
              "#9c179e"
             ],
             [
              0.4444444444444444,
              "#bd3786"
             ],
             [
              0.5555555555555556,
              "#d8576b"
             ],
             [
              0.6666666666666666,
              "#ed7953"
             ],
             [
              0.7777777777777778,
              "#fb9f3a"
             ],
             [
              0.8888888888888888,
              "#fdca26"
             ],
             [
              1.0,
              "#f0f921"
             ]
            ]
           }
          ],
          "heatmapgl": [
           {
            "type": "heatmapgl",
            "colorbar": {
             "outlinewidth": 0,
             "ticks": ""
            },
            "colorscale": [
             [
              0.0,
              "#0d0887"
             ],
             [
              0.1111111111111111,
              "#46039f"
             ],
             [
              0.2222222222222222,
              "#7201a8"
             ],
             [
              0.3333333333333333,
              "#9c179e"
             ],
             [
              0.4444444444444444,
              "#bd3786"
             ],
             [
              0.5555555555555556,
              "#d8576b"
             ],
             [
              0.6666666666666666,
              "#ed7953"
             ],
             [
              0.7777777777777778,
              "#fb9f3a"
             ],
             [
              0.8888888888888888,
              "#fdca26"
             ],
             [
              1.0,
              "#f0f921"
             ]
            ]
           }
          ],
          "contourcarpet": [
           {
            "type": "contourcarpet",
            "colorbar": {
             "outlinewidth": 0,
             "ticks": ""
            }
           }
          ],
          "contour": [
           {
            "type": "contour",
            "colorbar": {
             "outlinewidth": 0,
             "ticks": ""
            },
            "colorscale": [
             [
              0.0,
              "#0d0887"
             ],
             [
              0.1111111111111111,
              "#46039f"
             ],
             [
              0.2222222222222222,
              "#7201a8"
             ],
             [
              0.3333333333333333,
              "#9c179e"
             ],
             [
              0.4444444444444444,
              "#bd3786"
             ],
             [
              0.5555555555555556,
              "#d8576b"
             ],
             [
              0.6666666666666666,
              "#ed7953"
             ],
             [
              0.7777777777777778,
              "#fb9f3a"
             ],
             [
              0.8888888888888888,
              "#fdca26"
             ],
             [
              1.0,
              "#f0f921"
             ]
            ]
           }
          ],
          "surface": [
           {
            "type": "surface",
            "colorbar": {
             "outlinewidth": 0,
             "ticks": ""
            },
            "colorscale": [
             [
              0.0,
              "#0d0887"
             ],
             [
              0.1111111111111111,
              "#46039f"
             ],
             [
              0.2222222222222222,
              "#7201a8"
             ],
             [
              0.3333333333333333,
              "#9c179e"
             ],
             [
              0.4444444444444444,
              "#bd3786"
             ],
             [
              0.5555555555555556,
              "#d8576b"
             ],
             [
              0.6666666666666666,
              "#ed7953"
             ],
             [
              0.7777777777777778,
              "#fb9f3a"
             ],
             [
              0.8888888888888888,
              "#fdca26"
             ],
             [
              1.0,
              "#f0f921"
             ]
            ]
           }
          ],
          "mesh3d": [
           {
            "type": "mesh3d",
            "colorbar": {
             "outlinewidth": 0,
             "ticks": ""
            }
           }
          ],
          "scatter": [
           {
            "fillpattern": {
             "fillmode": "overlay",
             "size": 10,
             "solidity": 0.2
            },
            "type": "scatter"
           }
          ],
          "parcoords": [
           {
            "type": "parcoords",
            "line": {
             "colorbar": {
              "outlinewidth": 0,
              "ticks": ""
             }
            }
           }
          ],
          "scatterpolargl": [
           {
            "type": "scatterpolargl",
            "marker": {
             "colorbar": {
              "outlinewidth": 0,
              "ticks": ""
             }
            }
           }
          ],
          "bar": [
           {
            "error_x": {
             "color": "#2a3f5f"
            },
            "error_y": {
             "color": "#2a3f5f"
            },
            "marker": {
             "line": {
              "color": "#E5ECF6",
              "width": 0.5
             },
             "pattern": {
              "fillmode": "overlay",
              "size": 10,
              "solidity": 0.2
             }
            },
            "type": "bar"
           }
          ],
          "scattergeo": [
           {
            "type": "scattergeo",
            "marker": {
             "colorbar": {
              "outlinewidth": 0,
              "ticks": ""
             }
            }
           }
          ],
          "scatterpolar": [
           {
            "type": "scatterpolar",
            "marker": {
             "colorbar": {
              "outlinewidth": 0,
              "ticks": ""
             }
            }
           }
          ],
          "histogram": [
           {
            "marker": {
             "pattern": {
              "fillmode": "overlay",
              "size": 10,
              "solidity": 0.2
             }
            },
            "type": "histogram"
           }
          ],
          "scattergl": [
           {
            "type": "scattergl",
            "marker": {
             "colorbar": {
              "outlinewidth": 0,
              "ticks": ""
             }
            }
           }
          ],
          "scatter3d": [
           {
            "type": "scatter3d",
            "line": {
             "colorbar": {
              "outlinewidth": 0,
              "ticks": ""
             }
            },
            "marker": {
             "colorbar": {
              "outlinewidth": 0,
              "ticks": ""
             }
            }
           }
          ],
          "scattermapbox": [
           {
            "type": "scattermapbox",
            "marker": {
             "colorbar": {
              "outlinewidth": 0,
              "ticks": ""
             }
            }
           }
          ],
          "scatterternary": [
           {
            "type": "scatterternary",
            "marker": {
             "colorbar": {
              "outlinewidth": 0,
              "ticks": ""
             }
            }
           }
          ],
          "scattercarpet": [
           {
            "type": "scattercarpet",
            "marker": {
             "colorbar": {
              "outlinewidth": 0,
              "ticks": ""
             }
            }
           }
          ],
          "carpet": [
           {
            "aaxis": {
             "endlinecolor": "#2a3f5f",
             "gridcolor": "white",
             "linecolor": "white",
             "minorgridcolor": "white",
             "startlinecolor": "#2a3f5f"
            },
            "baxis": {
             "endlinecolor": "#2a3f5f",
             "gridcolor": "white",
             "linecolor": "white",
             "minorgridcolor": "white",
             "startlinecolor": "#2a3f5f"
            },
            "type": "carpet"
           }
          ],
          "table": [
           {
            "cells": {
             "fill": {
              "color": "#EBF0F8"
             },
             "line": {
              "color": "white"
             }
            },
            "header": {
             "fill": {
              "color": "#C8D4E3"
             },
             "line": {
              "color": "white"
             }
            },
            "type": "table"
           }
          ],
          "barpolar": [
           {
            "marker": {
             "line": {
              "color": "#E5ECF6",
              "width": 0.5
             },
             "pattern": {
              "fillmode": "overlay",
              "size": 10,
              "solidity": 0.2
             }
            },
            "type": "barpolar"
           }
          ],
          "pie": [
           {
            "automargin": true,
            "type": "pie"
           }
          ]
         },
         "layout": {
          "autotypenumbers": "strict",
          "colorway": [
           "#636efa",
           "#EF553B",
           "#00cc96",
           "#ab63fa",
           "#FFA15A",
           "#19d3f3",
           "#FF6692",
           "#B6E880",
           "#FF97FF",
           "#FECB52"
          ],
          "font": {
           "color": "#2a3f5f"
          },
          "hovermode": "closest",
          "hoverlabel": {
           "align": "left"
          },
          "paper_bgcolor": "white",
          "plot_bgcolor": "#E5ECF6",
          "polar": {
           "bgcolor": "#E5ECF6",
           "angularaxis": {
            "gridcolor": "white",
            "linecolor": "white",
            "ticks": ""
           },
           "radialaxis": {
            "gridcolor": "white",
            "linecolor": "white",
            "ticks": ""
           }
          },
          "ternary": {
           "bgcolor": "#E5ECF6",
           "aaxis": {
            "gridcolor": "white",
            "linecolor": "white",
            "ticks": ""
           },
           "baxis": {
            "gridcolor": "white",
            "linecolor": "white",
            "ticks": ""
           },
           "caxis": {
            "gridcolor": "white",
            "linecolor": "white",
            "ticks": ""
           }
          },
          "coloraxis": {
           "colorbar": {
            "outlinewidth": 0,
            "ticks": ""
           }
          },
          "colorscale": {
           "sequential": [
            [
             0.0,
             "#0d0887"
            ],
            [
             0.1111111111111111,
             "#46039f"
            ],
            [
             0.2222222222222222,
             "#7201a8"
            ],
            [
             0.3333333333333333,
             "#9c179e"
            ],
            [
             0.4444444444444444,
             "#bd3786"
            ],
            [
             0.5555555555555556,
             "#d8576b"
            ],
            [
             0.6666666666666666,
             "#ed7953"
            ],
            [
             0.7777777777777778,
             "#fb9f3a"
            ],
            [
             0.8888888888888888,
             "#fdca26"
            ],
            [
             1.0,
             "#f0f921"
            ]
           ],
           "sequentialminus": [
            [
             0.0,
             "#0d0887"
            ],
            [
             0.1111111111111111,
             "#46039f"
            ],
            [
             0.2222222222222222,
             "#7201a8"
            ],
            [
             0.3333333333333333,
             "#9c179e"
            ],
            [
             0.4444444444444444,
             "#bd3786"
            ],
            [
             0.5555555555555556,
             "#d8576b"
            ],
            [
             0.6666666666666666,
             "#ed7953"
            ],
            [
             0.7777777777777778,
             "#fb9f3a"
            ],
            [
             0.8888888888888888,
             "#fdca26"
            ],
            [
             1.0,
             "#f0f921"
            ]
           ],
           "diverging": [
            [
             0,
             "#8e0152"
            ],
            [
             0.1,
             "#c51b7d"
            ],
            [
             0.2,
             "#de77ae"
            ],
            [
             0.3,
             "#f1b6da"
            ],
            [
             0.4,
             "#fde0ef"
            ],
            [
             0.5,
             "#f7f7f7"
            ],
            [
             0.6,
             "#e6f5d0"
            ],
            [
             0.7,
             "#b8e186"
            ],
            [
             0.8,
             "#7fbc41"
            ],
            [
             0.9,
             "#4d9221"
            ],
            [
             1,
             "#276419"
            ]
           ]
          },
          "xaxis": {
           "gridcolor": "white",
           "linecolor": "white",
           "ticks": "",
           "title": {
            "standoff": 15
           },
           "zerolinecolor": "white",
           "automargin": true,
           "zerolinewidth": 2
          },
          "yaxis": {
           "gridcolor": "white",
           "linecolor": "white",
           "ticks": "",
           "title": {
            "standoff": 15
           },
           "zerolinecolor": "white",
           "automargin": true,
           "zerolinewidth": 2
          },
          "scene": {
           "xaxis": {
            "backgroundcolor": "#E5ECF6",
            "gridcolor": "white",
            "linecolor": "white",
            "showbackground": true,
            "ticks": "",
            "zerolinecolor": "white",
            "gridwidth": 2
           },
           "yaxis": {
            "backgroundcolor": "#E5ECF6",
            "gridcolor": "white",
            "linecolor": "white",
            "showbackground": true,
            "ticks": "",
            "zerolinecolor": "white",
            "gridwidth": 2
           },
           "zaxis": {
            "backgroundcolor": "#E5ECF6",
            "gridcolor": "white",
            "linecolor": "white",
            "showbackground": true,
            "ticks": "",
            "zerolinecolor": "white",
            "gridwidth": 2
           }
          },
          "shapedefaults": {
           "line": {
            "color": "#2a3f5f"
           }
          },
          "annotationdefaults": {
           "arrowcolor": "#2a3f5f",
           "arrowhead": 0,
           "arrowwidth": 1
          },
          "geo": {
           "bgcolor": "white",
           "landcolor": "#E5ECF6",
           "subunitcolor": "white",
           "showland": true,
           "showlakes": true,
           "lakecolor": "white"
          },
          "title": {
           "x": 0.05
          },
          "mapbox": {
           "style": "light"
          }
         }
        },
        "xaxis": {
         "anchor": "y",
         "domain": [
          0.0,
          0.3
         ]
        },
        "yaxis": {
         "anchor": "x",
         "domain": [
          0.8400000000000001,
          1.0
         ],
         "title": {
          "text": "Score"
         }
        },
        "xaxis2": {
         "anchor": "y2",
         "domain": [
          0.35,
          0.6499999999999999
         ]
        },
        "yaxis2": {
         "anchor": "x2",
         "domain": [
          0.8400000000000001,
          1.0
         ]
        },
        "xaxis3": {
         "anchor": "y3",
         "domain": [
          0.7,
          1.0
         ]
        },
        "yaxis3": {
         "anchor": "x3",
         "domain": [
          0.8400000000000001,
          1.0
         ]
        },
        "xaxis4": {
         "anchor": "y4",
         "domain": [
          0.0,
          0.3
         ]
        },
        "yaxis4": {
         "anchor": "x4",
         "domain": [
          0.63,
          0.79
         ],
         "title": {
          "text": "Score"
         }
        },
        "xaxis5": {
         "anchor": "y5",
         "domain": [
          0.35,
          0.6499999999999999
         ]
        },
        "yaxis5": {
         "anchor": "x5",
         "domain": [
          0.63,
          0.79
         ]
        },
        "xaxis6": {
         "anchor": "y6",
         "domain": [
          0.7,
          1.0
         ]
        },
        "yaxis6": {
         "anchor": "x6",
         "domain": [
          0.63,
          0.79
         ]
        },
        "xaxis7": {
         "anchor": "y7",
         "domain": [
          0.0,
          0.3
         ]
        },
        "yaxis7": {
         "anchor": "x7",
         "domain": [
          0.42000000000000004,
          0.5800000000000001
         ],
         "title": {
          "text": "Score"
         }
        },
        "xaxis8": {
         "anchor": "y8",
         "domain": [
          0.35,
          0.6499999999999999
         ]
        },
        "yaxis8": {
         "anchor": "x8",
         "domain": [
          0.42000000000000004,
          0.5800000000000001
         ]
        },
        "xaxis9": {
         "anchor": "y9",
         "domain": [
          0.7,
          1.0
         ]
        },
        "yaxis9": {
         "anchor": "x9",
         "domain": [
          0.42000000000000004,
          0.5800000000000001
         ]
        },
        "xaxis10": {
         "anchor": "y10",
         "domain": [
          0.0,
          0.3
         ]
        },
        "yaxis10": {
         "anchor": "x10",
         "domain": [
          0.21000000000000002,
          0.37
         ],
         "title": {
          "text": "Score"
         }
        },
        "xaxis11": {
         "anchor": "y11",
         "domain": [
          0.35,
          0.6499999999999999
         ]
        },
        "yaxis11": {
         "anchor": "x11",
         "domain": [
          0.21000000000000002,
          0.37
         ]
        },
        "xaxis12": {
         "anchor": "y12",
         "domain": [
          0.7,
          1.0
         ]
        },
        "yaxis12": {
         "anchor": "x12",
         "domain": [
          0.21000000000000002,
          0.37
         ]
        },
        "xaxis13": {
         "anchor": "y13",
         "domain": [
          0.0,
          0.3
         ],
         "title": {
          "text": "Number of Epochs"
         }
        },
        "yaxis13": {
         "anchor": "x13",
         "domain": [
          0.0,
          0.16
         ],
         "title": {
          "text": "Score"
         }
        },
        "xaxis14": {
         "anchor": "y14",
         "domain": [
          0.35,
          0.6499999999999999
         ],
         "title": {
          "text": "Number of Epochs"
         }
        },
        "yaxis14": {
         "anchor": "x14",
         "domain": [
          0.0,
          0.16
         ]
        },
        "xaxis15": {
         "anchor": "y15",
         "domain": [
          0.7,
          1.0
         ],
         "title": {
          "text": "Number of Epochs"
         }
        },
        "yaxis15": {
         "anchor": "x15",
         "domain": [
          0.0,
          0.16
         ]
        },
        "annotations": [
         {
          "font": {
           "size": 16
          },
          "showarrow": false,
          "text": "commonsense - 0.1% Training",
          "x": 0.15,
          "xanchor": "center",
          "xref": "paper",
          "y": 1.0,
          "yanchor": "bottom",
          "yref": "paper"
         },
         {
          "font": {
           "size": 16
          },
          "showarrow": false,
          "text": "anticommonsense - 0.1% Training",
          "x": 0.49999999999999994,
          "xanchor": "center",
          "xref": "paper",
          "y": 1.0,
          "yanchor": "bottom",
          "yref": "paper"
         },
         {
          "font": {
           "size": 16
          },
          "showarrow": false,
          "text": "noncommonsense - 0.1% Training",
          "x": 0.85,
          "xanchor": "center",
          "xref": "paper",
          "y": 1.0,
          "yanchor": "bottom",
          "yref": "paper"
         },
         {
          "font": {
           "size": 16
          },
          "showarrow": false,
          "text": "commonsense - 0.5% Training",
          "x": 0.15,
          "xanchor": "center",
          "xref": "paper",
          "y": 0.79,
          "yanchor": "bottom",
          "yref": "paper"
         },
         {
          "font": {
           "size": 16
          },
          "showarrow": false,
          "text": "anticommonsense - 0.5% Training",
          "x": 0.49999999999999994,
          "xanchor": "center",
          "xref": "paper",
          "y": 0.79,
          "yanchor": "bottom",
          "yref": "paper"
         },
         {
          "font": {
           "size": 16
          },
          "showarrow": false,
          "text": "noncommonsense - 0.5% Training",
          "x": 0.85,
          "xanchor": "center",
          "xref": "paper",
          "y": 0.79,
          "yanchor": "bottom",
          "yref": "paper"
         },
         {
          "font": {
           "size": 16
          },
          "showarrow": false,
          "text": "commonsense - 1.0% Training",
          "x": 0.15,
          "xanchor": "center",
          "xref": "paper",
          "y": 0.5800000000000001,
          "yanchor": "bottom",
          "yref": "paper"
         },
         {
          "font": {
           "size": 16
          },
          "showarrow": false,
          "text": "anticommonsense - 1.0% Training",
          "x": 0.49999999999999994,
          "xanchor": "center",
          "xref": "paper",
          "y": 0.5800000000000001,
          "yanchor": "bottom",
          "yref": "paper"
         },
         {
          "font": {
           "size": 16
          },
          "showarrow": false,
          "text": "noncommonsense - 1.0% Training",
          "x": 0.85,
          "xanchor": "center",
          "xref": "paper",
          "y": 0.5800000000000001,
          "yanchor": "bottom",
          "yref": "paper"
         },
         {
          "font": {
           "size": 16
          },
          "showarrow": false,
          "text": "commonsense - 2.0% Training",
          "x": 0.15,
          "xanchor": "center",
          "xref": "paper",
          "y": 0.37,
          "yanchor": "bottom",
          "yref": "paper"
         },
         {
          "font": {
           "size": 16
          },
          "showarrow": false,
          "text": "anticommonsense - 2.0% Training",
          "x": 0.49999999999999994,
          "xanchor": "center",
          "xref": "paper",
          "y": 0.37,
          "yanchor": "bottom",
          "yref": "paper"
         },
         {
          "font": {
           "size": 16
          },
          "showarrow": false,
          "text": "noncommonsense - 2.0% Training",
          "x": 0.85,
          "xanchor": "center",
          "xref": "paper",
          "y": 0.37,
          "yanchor": "bottom",
          "yref": "paper"
         },
         {
          "font": {
           "size": 16
          },
          "showarrow": false,
          "text": "commonsense - 5.0% Training",
          "x": 0.15,
          "xanchor": "center",
          "xref": "paper",
          "y": 0.16,
          "yanchor": "bottom",
          "yref": "paper"
         },
         {
          "font": {
           "size": 16
          },
          "showarrow": false,
          "text": "anticommonsense - 5.0% Training",
          "x": 0.49999999999999994,
          "xanchor": "center",
          "xref": "paper",
          "y": 0.16,
          "yanchor": "bottom",
          "yref": "paper"
         },
         {
          "font": {
           "size": 16
          },
          "showarrow": false,
          "text": "noncommonsense - 5.0% Training",
          "x": 0.85,
          "xanchor": "center",
          "xref": "paper",
          "y": 0.16,
          "yanchor": "bottom",
          "yref": "paper"
         }
        ],
        "title": {
         "text": "Anonymize vs Non-Anonymize Performance Comparison"
        },
        "margin": {
         "t": 50,
         "b": 20,
         "l": 20,
         "r": 20
        },
        "height": 1000,
        "width": 1200,
        "legend": {
         "title": {
          "text": "Anonymization Setting"
         }
        }
       },
       "config": {
        "plotlyServerURL": "https://plot.ly"
       }
      },
      "text/html": [
       "<div>                            <div id=\"b517e5da-3933-4f56-a821-6a2fda8d9e48\" class=\"plotly-graph-div\" style=\"height:1000px; width:1200px;\"></div>            <script type=\"text/javascript\">                require([\"plotly\"], function(Plotly) {                    window.PLOTLYENV=window.PLOTLYENV || {};                                    if (document.getElementById(\"b517e5da-3933-4f56-a821-6a2fda8d9e48\")) {                    Plotly.newPlot(                        \"b517e5da-3933-4f56-a821-6a2fda8d9e48\",                        [{\"legendgroup\":\"Anonymize=True\",\"line\":{\"color\":\"rgb(31, 119, 180)\"},\"mode\":\"lines+markers\",\"name\":\"Anonymize=True\",\"showlegend\":true,\"x\":[1,2,4,8,16,32,64],\"y\":[53.75,45.19,53.75,49.13,53.17,57.21,55.58],\"type\":\"scatter\",\"xaxis\":\"x\",\"yaxis\":\"y\"},{\"legendgroup\":\"Anonymize=False\",\"line\":{\"color\":\"rgb(255, 127, 14)\"},\"mode\":\"lines+markers\",\"name\":\"Anonymize=False\",\"showlegend\":true,\"x\":[1,2,4,8,16,32,64],\"y\":[45.0,19.23,41.54,50.29,41.44,53.27,53.08],\"type\":\"scatter\",\"xaxis\":\"x\",\"yaxis\":\"y\"},{\"legendgroup\":\"Anonymize=True\",\"line\":{\"color\":\"rgb(31, 119, 180)\"},\"mode\":\"lines+markers\",\"name\":\"Anonymize=True\",\"showlegend\":false,\"x\":[1,2,4,8,16,32,64],\"y\":[55.48,42.88,54.13,52.02,52.31,57.31,57.31],\"type\":\"scatter\",\"xaxis\":\"x2\",\"yaxis\":\"y2\"},{\"legendgroup\":\"Anonymize=False\",\"line\":{\"color\":\"rgb(255, 127, 14)\"},\"mode\":\"lines+markers\",\"name\":\"Anonymize=False\",\"showlegend\":false,\"x\":[1,2,4,8,16,32,64],\"y\":[47.6,17.69,41.44,48.56,40.48,48.37,53.94],\"type\":\"scatter\",\"xaxis\":\"x2\",\"yaxis\":\"y2\"},{\"legendgroup\":\"Anonymize=True\",\"line\":{\"color\":\"rgb(31, 119, 180)\"},\"mode\":\"lines+markers\",\"name\":\"Anonymize=True\",\"showlegend\":false,\"x\":[1,2,4,8,16,32,64],\"y\":[54.0,42.38,52.93,51.27,52.93,54.39,57.42],\"type\":\"scatter\",\"xaxis\":\"x3\",\"yaxis\":\"y3\"},{\"legendgroup\":\"Anonymize=False\",\"line\":{\"color\":\"rgb(255, 127, 14)\"},\"mode\":\"lines+markers\",\"name\":\"Anonymize=False\",\"showlegend\":false,\"x\":[1,2,4,8,16,32,64],\"y\":[39.45,11.23,40.33,51.56,39.26,48.44,51.56],\"type\":\"scatter\",\"xaxis\":\"x3\",\"yaxis\":\"y3\"},{\"legendgroup\":\"Anonymize=True\",\"line\":{\"color\":\"rgb(31, 119, 180)\"},\"mode\":\"lines+markers\",\"name\":\"Anonymize=True\",\"showlegend\":false,\"x\":[1,2,4,8,16,32,64],\"y\":[50.87,51.35,49.52,56.06,61.63,69.04,67.5],\"type\":\"scatter\",\"xaxis\":\"x4\",\"yaxis\":\"y4\"},{\"legendgroup\":\"Anonymize=False\",\"line\":{\"color\":\"rgb(255, 127, 14)\"},\"mode\":\"lines+markers\",\"name\":\"Anonymize=False\",\"showlegend\":false,\"x\":[1,2,4,8,16,32,64],\"y\":[48.08,50.48,50.67,55.1,62.98,59.81,58.85],\"type\":\"scatter\",\"xaxis\":\"x4\",\"yaxis\":\"y4\"},{\"legendgroup\":\"Anonymize=True\",\"line\":{\"color\":\"rgb(31, 119, 180)\"},\"mode\":\"lines+markers\",\"name\":\"Anonymize=True\",\"showlegend\":false,\"x\":[1,2,4,8,16,32,64],\"y\":[52.6,49.33,49.23,56.44,59.71,67.69,65.58],\"type\":\"scatter\",\"xaxis\":\"x5\",\"yaxis\":\"y5\"},{\"legendgroup\":\"Anonymize=False\",\"line\":{\"color\":\"rgb(255, 127, 14)\"},\"mode\":\"lines+markers\",\"name\":\"Anonymize=False\",\"showlegend\":false,\"x\":[1,2,4,8,16,32,64],\"y\":[45.1,47.69,51.63,53.37,62.6,60.1,59.81],\"type\":\"scatter\",\"xaxis\":\"x5\",\"yaxis\":\"y5\"},{\"legendgroup\":\"Anonymize=True\",\"line\":{\"color\":\"rgb(31, 119, 180)\"},\"mode\":\"lines+markers\",\"name\":\"Anonymize=True\",\"showlegend\":false,\"x\":[1,2,4,8,16,32,64],\"y\":[50.68,48.93,47.56,57.81,60.16,67.29,66.99],\"type\":\"scatter\",\"xaxis\":\"x6\",\"yaxis\":\"y6\"},{\"legendgroup\":\"Anonymize=False\",\"line\":{\"color\":\"rgb(255, 127, 14)\"},\"mode\":\"lines+markers\",\"name\":\"Anonymize=False\",\"showlegend\":false,\"x\":[1,2,4,8,16,32,64],\"y\":[44.63,47.56,50.0,50.49,58.4,53.91,54.98],\"type\":\"scatter\",\"xaxis\":\"x6\",\"yaxis\":\"y6\"},{\"legendgroup\":\"Anonymize=True\",\"line\":{\"color\":\"rgb(31, 119, 180)\"},\"mode\":\"lines+markers\",\"name\":\"Anonymize=True\",\"showlegend\":false,\"x\":[1,2,4,8,16,32,64],\"y\":[51.06,53.27,58.46,61.54,67.12,70.96,72.12],\"type\":\"scatter\",\"xaxis\":\"x7\",\"yaxis\":\"y7\"},{\"legendgroup\":\"Anonymize=False\",\"line\":{\"color\":\"rgb(255, 127, 14)\"},\"mode\":\"lines+markers\",\"name\":\"Anonymize=False\",\"showlegend\":false,\"x\":[1,2,4,8,16,32,64],\"y\":[33.75,32.69,50.58,59.62,67.31,68.08,70.19],\"type\":\"scatter\",\"xaxis\":\"x7\",\"yaxis\":\"y7\"},{\"legendgroup\":\"Anonymize=True\",\"line\":{\"color\":\"rgb(31, 119, 180)\"},\"mode\":\"lines+markers\",\"name\":\"Anonymize=True\",\"showlegend\":false,\"x\":[1,2,4,8,16,32,64],\"y\":[51.63,49.71,57.12,60.58,65.96,71.35,70.96],\"type\":\"scatter\",\"xaxis\":\"x8\",\"yaxis\":\"y8\"},{\"legendgroup\":\"Anonymize=False\",\"line\":{\"color\":\"rgb(255, 127, 14)\"},\"mode\":\"lines+markers\",\"name\":\"Anonymize=False\",\"showlegend\":false,\"x\":[1,2,4,8,16,32,64],\"y\":[32.02,29.04,52.69,62.12,65.67,66.83,71.06],\"type\":\"scatter\",\"xaxis\":\"x8\",\"yaxis\":\"y8\"},{\"legendgroup\":\"Anonymize=True\",\"line\":{\"color\":\"rgb(31, 119, 180)\"},\"mode\":\"lines+markers\",\"name\":\"Anonymize=True\",\"showlegend\":false,\"x\":[1,2,4,8,16,32,64],\"y\":[50.29,54.49,56.45,61.43,62.5,69.04,70.9],\"type\":\"scatter\",\"xaxis\":\"x9\",\"yaxis\":\"y9\"},{\"legendgroup\":\"Anonymize=False\",\"line\":{\"color\":\"rgb(255, 127, 14)\"},\"mode\":\"lines+markers\",\"name\":\"Anonymize=False\",\"showlegend\":false,\"x\":[1,2,4,8,16,32,64],\"y\":[35.06,25.78,48.83,59.96,58.89,59.47,63.38],\"type\":\"scatter\",\"xaxis\":\"x9\",\"yaxis\":\"y9\"},{\"legendgroup\":\"Anonymize=True\",\"line\":{\"color\":\"rgb(31, 119, 180)\"},\"mode\":\"lines+markers\",\"name\":\"Anonymize=True\",\"showlegend\":false,\"x\":[1,2,4,8,16,32,64],\"y\":[50.96,54.9,60.48,69.52,75.1,73.56,76.92],\"type\":\"scatter\",\"xaxis\":\"x10\",\"yaxis\":\"y10\"},{\"legendgroup\":\"Anonymize=False\",\"line\":{\"color\":\"rgb(255, 127, 14)\"},\"mode\":\"lines+markers\",\"name\":\"Anonymize=False\",\"showlegend\":false,\"x\":[1,2,4,8,16,32,64],\"y\":[42.6,52.6,60.0,68.85,75.48,81.06,73.85],\"type\":\"scatter\",\"xaxis\":\"x10\",\"yaxis\":\"y10\"},{\"legendgroup\":\"Anonymize=True\",\"line\":{\"color\":\"rgb(31, 119, 180)\"},\"mode\":\"lines+markers\",\"name\":\"Anonymize=True\",\"showlegend\":false,\"x\":[1,2,4,8,16,32,64],\"y\":[53.65,52.31,58.75,67.4,76.15,73.65,77.69],\"type\":\"scatter\",\"xaxis\":\"x11\",\"yaxis\":\"y11\"},{\"legendgroup\":\"Anonymize=False\",\"line\":{\"color\":\"rgb(255, 127, 14)\"},\"mode\":\"lines+markers\",\"name\":\"Anonymize=False\",\"showlegend\":false,\"x\":[1,2,4,8,16,32,64],\"y\":[44.33,54.13,63.17,68.08,75.19,80.29,73.75],\"type\":\"scatter\",\"xaxis\":\"x11\",\"yaxis\":\"y11\"},{\"legendgroup\":\"Anonymize=True\",\"line\":{\"color\":\"rgb(31, 119, 180)\"},\"mode\":\"lines+markers\",\"name\":\"Anonymize=True\",\"showlegend\":false,\"x\":[1,2,4,8,16,32,64],\"y\":[51.07,55.57,61.23,66.89,73.24,74.22,76.17],\"type\":\"scatter\",\"xaxis\":\"x12\",\"yaxis\":\"y12\"},{\"legendgroup\":\"Anonymize=False\",\"line\":{\"color\":\"rgb(255, 127, 14)\"},\"mode\":\"lines+markers\",\"name\":\"Anonymize=False\",\"showlegend\":false,\"x\":[1,2,4,8,16,32,64],\"y\":[40.04,54.0,56.93,62.99,69.34,76.17,69.73],\"type\":\"scatter\",\"xaxis\":\"x12\",\"yaxis\":\"y12\"},{\"legendgroup\":\"Anonymize=True\",\"line\":{\"color\":\"rgb(31, 119, 180)\"},\"mode\":\"lines+markers\",\"name\":\"Anonymize=True\",\"showlegend\":false,\"x\":[1,2,4,8,16,32,64],\"y\":[58.17,58.85,66.06,80.58,84.42,85.96,86.15],\"type\":\"scatter\",\"xaxis\":\"x13\",\"yaxis\":\"y13\"},{\"legendgroup\":\"Anonymize=False\",\"line\":{\"color\":\"rgb(255, 127, 14)\"},\"mode\":\"lines+markers\",\"name\":\"Anonymize=False\",\"showlegend\":false,\"x\":[1,2,4,8,16,32,64],\"y\":[56.54,61.44,70.29,77.98,87.02,88.27,86.73],\"type\":\"scatter\",\"xaxis\":\"x13\",\"yaxis\":\"y13\"},{\"legendgroup\":\"Anonymize=True\",\"line\":{\"color\":\"rgb(31, 119, 180)\"},\"mode\":\"lines+markers\",\"name\":\"Anonymize=True\",\"showlegend\":false,\"x\":[1,2,4,8,16,32,64],\"y\":[55.58,58.65,67.21,80.58,83.08,85.48,86.63],\"type\":\"scatter\",\"xaxis\":\"x14\",\"yaxis\":\"y14\"},{\"legendgroup\":\"Anonymize=False\",\"line\":{\"color\":\"rgb(255, 127, 14)\"},\"mode\":\"lines+markers\",\"name\":\"Anonymize=False\",\"showlegend\":false,\"x\":[1,2,4,8,16,32,64],\"y\":[55.58,59.13,69.23,79.52,87.31,90.19,88.94],\"type\":\"scatter\",\"xaxis\":\"x14\",\"yaxis\":\"y14\"},{\"legendgroup\":\"Anonymize=True\",\"line\":{\"color\":\"rgb(31, 119, 180)\"},\"mode\":\"lines+markers\",\"name\":\"Anonymize=True\",\"showlegend\":false,\"x\":[1,2,4,8,16,32,64],\"y\":[57.91,56.93,68.26,73.34,80.96,79.88,82.81],\"type\":\"scatter\",\"xaxis\":\"x15\",\"yaxis\":\"y15\"},{\"legendgroup\":\"Anonymize=False\",\"line\":{\"color\":\"rgb(255, 127, 14)\"},\"mode\":\"lines+markers\",\"name\":\"Anonymize=False\",\"showlegend\":false,\"x\":[1,2,4,8,16,32,64],\"y\":[55.66,57.71,64.26,73.83,77.44,82.13,85.16],\"type\":\"scatter\",\"xaxis\":\"x15\",\"yaxis\":\"y15\"}],                        {\"template\":{\"data\":{\"histogram2dcontour\":[{\"type\":\"histogram2dcontour\",\"colorbar\":{\"outlinewidth\":0,\"ticks\":\"\"},\"colorscale\":[[0.0,\"#0d0887\"],[0.1111111111111111,\"#46039f\"],[0.2222222222222222,\"#7201a8\"],[0.3333333333333333,\"#9c179e\"],[0.4444444444444444,\"#bd3786\"],[0.5555555555555556,\"#d8576b\"],[0.6666666666666666,\"#ed7953\"],[0.7777777777777778,\"#fb9f3a\"],[0.8888888888888888,\"#fdca26\"],[1.0,\"#f0f921\"]]}],\"choropleth\":[{\"type\":\"choropleth\",\"colorbar\":{\"outlinewidth\":0,\"ticks\":\"\"}}],\"histogram2d\":[{\"type\":\"histogram2d\",\"colorbar\":{\"outlinewidth\":0,\"ticks\":\"\"},\"colorscale\":[[0.0,\"#0d0887\"],[0.1111111111111111,\"#46039f\"],[0.2222222222222222,\"#7201a8\"],[0.3333333333333333,\"#9c179e\"],[0.4444444444444444,\"#bd3786\"],[0.5555555555555556,\"#d8576b\"],[0.6666666666666666,\"#ed7953\"],[0.7777777777777778,\"#fb9f3a\"],[0.8888888888888888,\"#fdca26\"],[1.0,\"#f0f921\"]]}],\"heatmap\":[{\"type\":\"heatmap\",\"colorbar\":{\"outlinewidth\":0,\"ticks\":\"\"},\"colorscale\":[[0.0,\"#0d0887\"],[0.1111111111111111,\"#46039f\"],[0.2222222222222222,\"#7201a8\"],[0.3333333333333333,\"#9c179e\"],[0.4444444444444444,\"#bd3786\"],[0.5555555555555556,\"#d8576b\"],[0.6666666666666666,\"#ed7953\"],[0.7777777777777778,\"#fb9f3a\"],[0.8888888888888888,\"#fdca26\"],[1.0,\"#f0f921\"]]}],\"heatmapgl\":[{\"type\":\"heatmapgl\",\"colorbar\":{\"outlinewidth\":0,\"ticks\":\"\"},\"colorscale\":[[0.0,\"#0d0887\"],[0.1111111111111111,\"#46039f\"],[0.2222222222222222,\"#7201a8\"],[0.3333333333333333,\"#9c179e\"],[0.4444444444444444,\"#bd3786\"],[0.5555555555555556,\"#d8576b\"],[0.6666666666666666,\"#ed7953\"],[0.7777777777777778,\"#fb9f3a\"],[0.8888888888888888,\"#fdca26\"],[1.0,\"#f0f921\"]]}],\"contourcarpet\":[{\"type\":\"contourcarpet\",\"colorbar\":{\"outlinewidth\":0,\"ticks\":\"\"}}],\"contour\":[{\"type\":\"contour\",\"colorbar\":{\"outlinewidth\":0,\"ticks\":\"\"},\"colorscale\":[[0.0,\"#0d0887\"],[0.1111111111111111,\"#46039f\"],[0.2222222222222222,\"#7201a8\"],[0.3333333333333333,\"#9c179e\"],[0.4444444444444444,\"#bd3786\"],[0.5555555555555556,\"#d8576b\"],[0.6666666666666666,\"#ed7953\"],[0.7777777777777778,\"#fb9f3a\"],[0.8888888888888888,\"#fdca26\"],[1.0,\"#f0f921\"]]}],\"surface\":[{\"type\":\"surface\",\"colorbar\":{\"outlinewidth\":0,\"ticks\":\"\"},\"colorscale\":[[0.0,\"#0d0887\"],[0.1111111111111111,\"#46039f\"],[0.2222222222222222,\"#7201a8\"],[0.3333333333333333,\"#9c179e\"],[0.4444444444444444,\"#bd3786\"],[0.5555555555555556,\"#d8576b\"],[0.6666666666666666,\"#ed7953\"],[0.7777777777777778,\"#fb9f3a\"],[0.8888888888888888,\"#fdca26\"],[1.0,\"#f0f921\"]]}],\"mesh3d\":[{\"type\":\"mesh3d\",\"colorbar\":{\"outlinewidth\":0,\"ticks\":\"\"}}],\"scatter\":[{\"fillpattern\":{\"fillmode\":\"overlay\",\"size\":10,\"solidity\":0.2},\"type\":\"scatter\"}],\"parcoords\":[{\"type\":\"parcoords\",\"line\":{\"colorbar\":{\"outlinewidth\":0,\"ticks\":\"\"}}}],\"scatterpolargl\":[{\"type\":\"scatterpolargl\",\"marker\":{\"colorbar\":{\"outlinewidth\":0,\"ticks\":\"\"}}}],\"bar\":[{\"error_x\":{\"color\":\"#2a3f5f\"},\"error_y\":{\"color\":\"#2a3f5f\"},\"marker\":{\"line\":{\"color\":\"#E5ECF6\",\"width\":0.5},\"pattern\":{\"fillmode\":\"overlay\",\"size\":10,\"solidity\":0.2}},\"type\":\"bar\"}],\"scattergeo\":[{\"type\":\"scattergeo\",\"marker\":{\"colorbar\":{\"outlinewidth\":0,\"ticks\":\"\"}}}],\"scatterpolar\":[{\"type\":\"scatterpolar\",\"marker\":{\"colorbar\":{\"outlinewidth\":0,\"ticks\":\"\"}}}],\"histogram\":[{\"marker\":{\"pattern\":{\"fillmode\":\"overlay\",\"size\":10,\"solidity\":0.2}},\"type\":\"histogram\"}],\"scattergl\":[{\"type\":\"scattergl\",\"marker\":{\"colorbar\":{\"outlinewidth\":0,\"ticks\":\"\"}}}],\"scatter3d\":[{\"type\":\"scatter3d\",\"line\":{\"colorbar\":{\"outlinewidth\":0,\"ticks\":\"\"}},\"marker\":{\"colorbar\":{\"outlinewidth\":0,\"ticks\":\"\"}}}],\"scattermapbox\":[{\"type\":\"scattermapbox\",\"marker\":{\"colorbar\":{\"outlinewidth\":0,\"ticks\":\"\"}}}],\"scatterternary\":[{\"type\":\"scatterternary\",\"marker\":{\"colorbar\":{\"outlinewidth\":0,\"ticks\":\"\"}}}],\"scattercarpet\":[{\"type\":\"scattercarpet\",\"marker\":{\"colorbar\":{\"outlinewidth\":0,\"ticks\":\"\"}}}],\"carpet\":[{\"aaxis\":{\"endlinecolor\":\"#2a3f5f\",\"gridcolor\":\"white\",\"linecolor\":\"white\",\"minorgridcolor\":\"white\",\"startlinecolor\":\"#2a3f5f\"},\"baxis\":{\"endlinecolor\":\"#2a3f5f\",\"gridcolor\":\"white\",\"linecolor\":\"white\",\"minorgridcolor\":\"white\",\"startlinecolor\":\"#2a3f5f\"},\"type\":\"carpet\"}],\"table\":[{\"cells\":{\"fill\":{\"color\":\"#EBF0F8\"},\"line\":{\"color\":\"white\"}},\"header\":{\"fill\":{\"color\":\"#C8D4E3\"},\"line\":{\"color\":\"white\"}},\"type\":\"table\"}],\"barpolar\":[{\"marker\":{\"line\":{\"color\":\"#E5ECF6\",\"width\":0.5},\"pattern\":{\"fillmode\":\"overlay\",\"size\":10,\"solidity\":0.2}},\"type\":\"barpolar\"}],\"pie\":[{\"automargin\":true,\"type\":\"pie\"}]},\"layout\":{\"autotypenumbers\":\"strict\",\"colorway\":[\"#636efa\",\"#EF553B\",\"#00cc96\",\"#ab63fa\",\"#FFA15A\",\"#19d3f3\",\"#FF6692\",\"#B6E880\",\"#FF97FF\",\"#FECB52\"],\"font\":{\"color\":\"#2a3f5f\"},\"hovermode\":\"closest\",\"hoverlabel\":{\"align\":\"left\"},\"paper_bgcolor\":\"white\",\"plot_bgcolor\":\"#E5ECF6\",\"polar\":{\"bgcolor\":\"#E5ECF6\",\"angularaxis\":{\"gridcolor\":\"white\",\"linecolor\":\"white\",\"ticks\":\"\"},\"radialaxis\":{\"gridcolor\":\"white\",\"linecolor\":\"white\",\"ticks\":\"\"}},\"ternary\":{\"bgcolor\":\"#E5ECF6\",\"aaxis\":{\"gridcolor\":\"white\",\"linecolor\":\"white\",\"ticks\":\"\"},\"baxis\":{\"gridcolor\":\"white\",\"linecolor\":\"white\",\"ticks\":\"\"},\"caxis\":{\"gridcolor\":\"white\",\"linecolor\":\"white\",\"ticks\":\"\"}},\"coloraxis\":{\"colorbar\":{\"outlinewidth\":0,\"ticks\":\"\"}},\"colorscale\":{\"sequential\":[[0.0,\"#0d0887\"],[0.1111111111111111,\"#46039f\"],[0.2222222222222222,\"#7201a8\"],[0.3333333333333333,\"#9c179e\"],[0.4444444444444444,\"#bd3786\"],[0.5555555555555556,\"#d8576b\"],[0.6666666666666666,\"#ed7953\"],[0.7777777777777778,\"#fb9f3a\"],[0.8888888888888888,\"#fdca26\"],[1.0,\"#f0f921\"]],\"sequentialminus\":[[0.0,\"#0d0887\"],[0.1111111111111111,\"#46039f\"],[0.2222222222222222,\"#7201a8\"],[0.3333333333333333,\"#9c179e\"],[0.4444444444444444,\"#bd3786\"],[0.5555555555555556,\"#d8576b\"],[0.6666666666666666,\"#ed7953\"],[0.7777777777777778,\"#fb9f3a\"],[0.8888888888888888,\"#fdca26\"],[1.0,\"#f0f921\"]],\"diverging\":[[0,\"#8e0152\"],[0.1,\"#c51b7d\"],[0.2,\"#de77ae\"],[0.3,\"#f1b6da\"],[0.4,\"#fde0ef\"],[0.5,\"#f7f7f7\"],[0.6,\"#e6f5d0\"],[0.7,\"#b8e186\"],[0.8,\"#7fbc41\"],[0.9,\"#4d9221\"],[1,\"#276419\"]]},\"xaxis\":{\"gridcolor\":\"white\",\"linecolor\":\"white\",\"ticks\":\"\",\"title\":{\"standoff\":15},\"zerolinecolor\":\"white\",\"automargin\":true,\"zerolinewidth\":2},\"yaxis\":{\"gridcolor\":\"white\",\"linecolor\":\"white\",\"ticks\":\"\",\"title\":{\"standoff\":15},\"zerolinecolor\":\"white\",\"automargin\":true,\"zerolinewidth\":2},\"scene\":{\"xaxis\":{\"backgroundcolor\":\"#E5ECF6\",\"gridcolor\":\"white\",\"linecolor\":\"white\",\"showbackground\":true,\"ticks\":\"\",\"zerolinecolor\":\"white\",\"gridwidth\":2},\"yaxis\":{\"backgroundcolor\":\"#E5ECF6\",\"gridcolor\":\"white\",\"linecolor\":\"white\",\"showbackground\":true,\"ticks\":\"\",\"zerolinecolor\":\"white\",\"gridwidth\":2},\"zaxis\":{\"backgroundcolor\":\"#E5ECF6\",\"gridcolor\":\"white\",\"linecolor\":\"white\",\"showbackground\":true,\"ticks\":\"\",\"zerolinecolor\":\"white\",\"gridwidth\":2}},\"shapedefaults\":{\"line\":{\"color\":\"#2a3f5f\"}},\"annotationdefaults\":{\"arrowcolor\":\"#2a3f5f\",\"arrowhead\":0,\"arrowwidth\":1},\"geo\":{\"bgcolor\":\"white\",\"landcolor\":\"#E5ECF6\",\"subunitcolor\":\"white\",\"showland\":true,\"showlakes\":true,\"lakecolor\":\"white\"},\"title\":{\"x\":0.05},\"mapbox\":{\"style\":\"light\"}}},\"xaxis\":{\"anchor\":\"y\",\"domain\":[0.0,0.3]},\"yaxis\":{\"anchor\":\"x\",\"domain\":[0.8400000000000001,1.0],\"title\":{\"text\":\"Score\"}},\"xaxis2\":{\"anchor\":\"y2\",\"domain\":[0.35,0.6499999999999999]},\"yaxis2\":{\"anchor\":\"x2\",\"domain\":[0.8400000000000001,1.0]},\"xaxis3\":{\"anchor\":\"y3\",\"domain\":[0.7,1.0]},\"yaxis3\":{\"anchor\":\"x3\",\"domain\":[0.8400000000000001,1.0]},\"xaxis4\":{\"anchor\":\"y4\",\"domain\":[0.0,0.3]},\"yaxis4\":{\"anchor\":\"x4\",\"domain\":[0.63,0.79],\"title\":{\"text\":\"Score\"}},\"xaxis5\":{\"anchor\":\"y5\",\"domain\":[0.35,0.6499999999999999]},\"yaxis5\":{\"anchor\":\"x5\",\"domain\":[0.63,0.79]},\"xaxis6\":{\"anchor\":\"y6\",\"domain\":[0.7,1.0]},\"yaxis6\":{\"anchor\":\"x6\",\"domain\":[0.63,0.79]},\"xaxis7\":{\"anchor\":\"y7\",\"domain\":[0.0,0.3]},\"yaxis7\":{\"anchor\":\"x7\",\"domain\":[0.42000000000000004,0.5800000000000001],\"title\":{\"text\":\"Score\"}},\"xaxis8\":{\"anchor\":\"y8\",\"domain\":[0.35,0.6499999999999999]},\"yaxis8\":{\"anchor\":\"x8\",\"domain\":[0.42000000000000004,0.5800000000000001]},\"xaxis9\":{\"anchor\":\"y9\",\"domain\":[0.7,1.0]},\"yaxis9\":{\"anchor\":\"x9\",\"domain\":[0.42000000000000004,0.5800000000000001]},\"xaxis10\":{\"anchor\":\"y10\",\"domain\":[0.0,0.3]},\"yaxis10\":{\"anchor\":\"x10\",\"domain\":[0.21000000000000002,0.37],\"title\":{\"text\":\"Score\"}},\"xaxis11\":{\"anchor\":\"y11\",\"domain\":[0.35,0.6499999999999999]},\"yaxis11\":{\"anchor\":\"x11\",\"domain\":[0.21000000000000002,0.37]},\"xaxis12\":{\"anchor\":\"y12\",\"domain\":[0.7,1.0]},\"yaxis12\":{\"anchor\":\"x12\",\"domain\":[0.21000000000000002,0.37]},\"xaxis13\":{\"anchor\":\"y13\",\"domain\":[0.0,0.3],\"title\":{\"text\":\"Number of Epochs\"}},\"yaxis13\":{\"anchor\":\"x13\",\"domain\":[0.0,0.16],\"title\":{\"text\":\"Score\"}},\"xaxis14\":{\"anchor\":\"y14\",\"domain\":[0.35,0.6499999999999999],\"title\":{\"text\":\"Number of Epochs\"}},\"yaxis14\":{\"anchor\":\"x14\",\"domain\":[0.0,0.16]},\"xaxis15\":{\"anchor\":\"y15\",\"domain\":[0.7,1.0],\"title\":{\"text\":\"Number of Epochs\"}},\"yaxis15\":{\"anchor\":\"x15\",\"domain\":[0.0,0.16]},\"annotations\":[{\"font\":{\"size\":16},\"showarrow\":false,\"text\":\"commonsense - 0.1% Training\",\"x\":0.15,\"xanchor\":\"center\",\"xref\":\"paper\",\"y\":1.0,\"yanchor\":\"bottom\",\"yref\":\"paper\"},{\"font\":{\"size\":16},\"showarrow\":false,\"text\":\"anticommonsense - 0.1% Training\",\"x\":0.49999999999999994,\"xanchor\":\"center\",\"xref\":\"paper\",\"y\":1.0,\"yanchor\":\"bottom\",\"yref\":\"paper\"},{\"font\":{\"size\":16},\"showarrow\":false,\"text\":\"noncommonsense - 0.1% Training\",\"x\":0.85,\"xanchor\":\"center\",\"xref\":\"paper\",\"y\":1.0,\"yanchor\":\"bottom\",\"yref\":\"paper\"},{\"font\":{\"size\":16},\"showarrow\":false,\"text\":\"commonsense - 0.5% Training\",\"x\":0.15,\"xanchor\":\"center\",\"xref\":\"paper\",\"y\":0.79,\"yanchor\":\"bottom\",\"yref\":\"paper\"},{\"font\":{\"size\":16},\"showarrow\":false,\"text\":\"anticommonsense - 0.5% Training\",\"x\":0.49999999999999994,\"xanchor\":\"center\",\"xref\":\"paper\",\"y\":0.79,\"yanchor\":\"bottom\",\"yref\":\"paper\"},{\"font\":{\"size\":16},\"showarrow\":false,\"text\":\"noncommonsense - 0.5% Training\",\"x\":0.85,\"xanchor\":\"center\",\"xref\":\"paper\",\"y\":0.79,\"yanchor\":\"bottom\",\"yref\":\"paper\"},{\"font\":{\"size\":16},\"showarrow\":false,\"text\":\"commonsense - 1.0% Training\",\"x\":0.15,\"xanchor\":\"center\",\"xref\":\"paper\",\"y\":0.5800000000000001,\"yanchor\":\"bottom\",\"yref\":\"paper\"},{\"font\":{\"size\":16},\"showarrow\":false,\"text\":\"anticommonsense - 1.0% Training\",\"x\":0.49999999999999994,\"xanchor\":\"center\",\"xref\":\"paper\",\"y\":0.5800000000000001,\"yanchor\":\"bottom\",\"yref\":\"paper\"},{\"font\":{\"size\":16},\"showarrow\":false,\"text\":\"noncommonsense - 1.0% Training\",\"x\":0.85,\"xanchor\":\"center\",\"xref\":\"paper\",\"y\":0.5800000000000001,\"yanchor\":\"bottom\",\"yref\":\"paper\"},{\"font\":{\"size\":16},\"showarrow\":false,\"text\":\"commonsense - 2.0% Training\",\"x\":0.15,\"xanchor\":\"center\",\"xref\":\"paper\",\"y\":0.37,\"yanchor\":\"bottom\",\"yref\":\"paper\"},{\"font\":{\"size\":16},\"showarrow\":false,\"text\":\"anticommonsense - 2.0% Training\",\"x\":0.49999999999999994,\"xanchor\":\"center\",\"xref\":\"paper\",\"y\":0.37,\"yanchor\":\"bottom\",\"yref\":\"paper\"},{\"font\":{\"size\":16},\"showarrow\":false,\"text\":\"noncommonsense - 2.0% Training\",\"x\":0.85,\"xanchor\":\"center\",\"xref\":\"paper\",\"y\":0.37,\"yanchor\":\"bottom\",\"yref\":\"paper\"},{\"font\":{\"size\":16},\"showarrow\":false,\"text\":\"commonsense - 5.0% Training\",\"x\":0.15,\"xanchor\":\"center\",\"xref\":\"paper\",\"y\":0.16,\"yanchor\":\"bottom\",\"yref\":\"paper\"},{\"font\":{\"size\":16},\"showarrow\":false,\"text\":\"anticommonsense - 5.0% Training\",\"x\":0.49999999999999994,\"xanchor\":\"center\",\"xref\":\"paper\",\"y\":0.16,\"yanchor\":\"bottom\",\"yref\":\"paper\"},{\"font\":{\"size\":16},\"showarrow\":false,\"text\":\"noncommonsense - 5.0% Training\",\"x\":0.85,\"xanchor\":\"center\",\"xref\":\"paper\",\"y\":0.16,\"yanchor\":\"bottom\",\"yref\":\"paper\"}],\"title\":{\"text\":\"Anonymize vs Non-Anonymize Performance Comparison\"},\"margin\":{\"t\":50,\"b\":20,\"l\":20,\"r\":20},\"height\":1000,\"width\":1200,\"legend\":{\"title\":{\"text\":\"Anonymization Setting\"}}},                        {\"responsive\": true}                    ).then(function(){\n",
       "                            \n",
       "var gd = document.getElementById('b517e5da-3933-4f56-a821-6a2fda8d9e48');\n",
       "var x = new MutationObserver(function (mutations, observer) {{\n",
       "        var display = window.getComputedStyle(gd).display;\n",
       "        if (!display || display === 'none') {{\n",
       "            console.log([gd, 'removed!']);\n",
       "            Plotly.purge(gd);\n",
       "            observer.disconnect();\n",
       "        }}\n",
       "}});\n",
       "\n",
       "// Listen for the removal of the full notebook cells\n",
       "var notebookContainer = gd.closest('#notebook-container');\n",
       "if (notebookContainer) {{\n",
       "    x.observe(notebookContainer, {childList: true});\n",
       "}}\n",
       "\n",
       "// Listen for the clearing of the current output cell\n",
       "var outputEl = gd.closest('.output');\n",
       "if (outputEl) {{\n",
       "    x.observe(outputEl, {childList: true});\n",
       "}}\n",
       "\n",
       "                        })                };                });            </script>        </div>"
      ]
     },
     "metadata": {},
     "output_type": "display_data"
    },
    {
     "name": "stdout",
     "output_type": "stream",
     "text": [
      "Creating comparison plots for learning rate: 0.0006\n"
     ]
    },
    {
     "data": {
      "application/vnd.plotly.v1+json": {
       "data": [
        {
         "legendgroup": "Anonymize=True",
         "line": {
          "color": "rgb(31, 119, 180)"
         },
         "mode": "lines+markers",
         "name": "Anonymize=True",
         "showlegend": true,
         "x": [
          1,
          2,
          4,
          8,
          16,
          32,
          64
         ],
         "y": [
          42.12,
          48.94,
          49.33,
          50.19,
          55.0,
          52.6,
          51.63
         ],
         "type": "scatter",
         "xaxis": "x",
         "yaxis": "y"
        },
        {
         "legendgroup": "Anonymize=False",
         "line": {
          "color": "rgb(255, 127, 14)"
         },
         "mode": "lines+markers",
         "name": "Anonymize=False",
         "showlegend": true,
         "x": [
          1,
          2,
          4,
          8,
          16,
          32,
          64
         ],
         "y": [
          10.77,
          36.44,
          51.73,
          50.58,
          52.69,
          50.87,
          52.79
         ],
         "type": "scatter",
         "xaxis": "x",
         "yaxis": "y"
        },
        {
         "legendgroup": "Anonymize=True",
         "line": {
          "color": "rgb(31, 119, 180)"
         },
         "mode": "lines+markers",
         "name": "Anonymize=True",
         "showlegend": false,
         "x": [
          1,
          2,
          4,
          8,
          16,
          32,
          64
         ],
         "y": [
          45.38,
          51.25,
          52.6,
          52.5,
          53.56,
          53.65,
          53.08
         ],
         "type": "scatter",
         "xaxis": "x2",
         "yaxis": "y2"
        },
        {
         "legendgroup": "Anonymize=False",
         "line": {
          "color": "rgb(255, 127, 14)"
         },
         "mode": "lines+markers",
         "name": "Anonymize=False",
         "showlegend": false,
         "x": [
          1,
          2,
          4,
          8,
          16,
          32,
          64
         ],
         "y": [
          11.06,
          40.38,
          48.75,
          50.0,
          49.33,
          50.58,
          51.15
         ],
         "type": "scatter",
         "xaxis": "x2",
         "yaxis": "y2"
        },
        {
         "legendgroup": "Anonymize=True",
         "line": {
          "color": "rgb(31, 119, 180)"
         },
         "mode": "lines+markers",
         "name": "Anonymize=True",
         "showlegend": false,
         "x": [
          1,
          2,
          4,
          8,
          16,
          32,
          64
         ],
         "y": [
          44.04,
          48.05,
          49.71,
          51.56,
          51.95,
          55.37,
          50.59
         ],
         "type": "scatter",
         "xaxis": "x3",
         "yaxis": "y3"
        },
        {
         "legendgroup": "Anonymize=False",
         "line": {
          "color": "rgb(255, 127, 14)"
         },
         "mode": "lines+markers",
         "name": "Anonymize=False",
         "showlegend": false,
         "x": [
          1,
          2,
          4,
          8,
          16,
          32,
          64
         ],
         "y": [
          6.74,
          36.13,
          46.68,
          49.9,
          48.24,
          48.44,
          49.9
         ],
         "type": "scatter",
         "xaxis": "x3",
         "yaxis": "y3"
        },
        {
         "legendgroup": "Anonymize=True",
         "line": {
          "color": "rgb(31, 119, 180)"
         },
         "mode": "lines+markers",
         "name": "Anonymize=True",
         "showlegend": false,
         "x": [
          1,
          2,
          4,
          8,
          16,
          32,
          64
         ],
         "y": [
          47.79,
          54.81,
          52.69,
          59.23,
          62.4,
          67.98,
          61.15
         ],
         "type": "scatter",
         "xaxis": "x4",
         "yaxis": "y4"
        },
        {
         "legendgroup": "Anonymize=False",
         "line": {
          "color": "rgb(255, 127, 14)"
         },
         "mode": "lines+markers",
         "name": "Anonymize=False",
         "showlegend": false,
         "x": [
          1,
          2,
          4,
          8,
          16,
          32,
          64
         ],
         "y": [
          50.19,
          53.17,
          55.29,
          51.25,
          55.1,
          60.38,
          56.44
         ],
         "type": "scatter",
         "xaxis": "x4",
         "yaxis": "y4"
        },
        {
         "legendgroup": "Anonymize=True",
         "line": {
          "color": "rgb(31, 119, 180)"
         },
         "mode": "lines+markers",
         "name": "Anonymize=True",
         "showlegend": false,
         "x": [
          1,
          2,
          4,
          8,
          16,
          32,
          64
         ],
         "y": [
          51.83,
          54.71,
          51.83,
          56.35,
          60.77,
          67.21,
          61.06
         ],
         "type": "scatter",
         "xaxis": "x5",
         "yaxis": "y5"
        },
        {
         "legendgroup": "Anonymize=False",
         "line": {
          "color": "rgb(255, 127, 14)"
         },
         "mode": "lines+markers",
         "name": "Anonymize=False",
         "showlegend": false,
         "x": [
          1,
          2,
          4,
          8,
          16,
          32,
          64
         ],
         "y": [
          46.25,
          48.85,
          52.98,
          52.79,
          55.96,
          59.33,
          57.31
         ],
         "type": "scatter",
         "xaxis": "x5",
         "yaxis": "y5"
        },
        {
         "legendgroup": "Anonymize=True",
         "line": {
          "color": "rgb(31, 119, 180)"
         },
         "mode": "lines+markers",
         "name": "Anonymize=True",
         "showlegend": false,
         "x": [
          1,
          2,
          4,
          8,
          16,
          32,
          64
         ],
         "y": [
          48.34,
          53.12,
          52.34,
          59.28,
          62.01,
          68.07,
          62.11
         ],
         "type": "scatter",
         "xaxis": "x6",
         "yaxis": "y6"
        },
        {
         "legendgroup": "Anonymize=False",
         "line": {
          "color": "rgb(255, 127, 14)"
         },
         "mode": "lines+markers",
         "name": "Anonymize=False",
         "showlegend": false,
         "x": [
          1,
          2,
          4,
          8,
          16,
          32,
          64
         ],
         "y": [
          41.41,
          47.36,
          49.9,
          49.51,
          53.52,
          54.49,
          55.27
         ],
         "type": "scatter",
         "xaxis": "x6",
         "yaxis": "y6"
        },
        {
         "legendgroup": "Anonymize=True",
         "line": {
          "color": "rgb(31, 119, 180)"
         },
         "mode": "lines+markers",
         "name": "Anonymize=True",
         "showlegend": false,
         "x": [
          1,
          2,
          4,
          8,
          16,
          32,
          64
         ],
         "y": [
          51.25,
          55.48,
          56.15,
          59.81,
          63.94,
          75.96,
          53.56
         ],
         "type": "scatter",
         "xaxis": "x7",
         "yaxis": "y7"
        },
        {
         "legendgroup": "Anonymize=False",
         "line": {
          "color": "rgb(255, 127, 14)"
         },
         "mode": "lines+markers",
         "name": "Anonymize=False",
         "showlegend": false,
         "x": [
          1,
          2,
          4,
          8,
          16,
          32,
          64
         ],
         "y": [
          48.37,
          57.4,
          57.4,
          60.67,
          63.46,
          66.25,
          62.4
         ],
         "type": "scatter",
         "xaxis": "x7",
         "yaxis": "y7"
        },
        {
         "legendgroup": "Anonymize=True",
         "line": {
          "color": "rgb(31, 119, 180)"
         },
         "mode": "lines+markers",
         "name": "Anonymize=True",
         "showlegend": false,
         "x": [
          1,
          2,
          4,
          8,
          16,
          32,
          64
         ],
         "y": [
          51.35,
          52.31,
          52.98,
          59.71,
          60.67,
          73.56,
          54.42
         ],
         "type": "scatter",
         "xaxis": "x8",
         "yaxis": "y8"
        },
        {
         "legendgroup": "Anonymize=False",
         "line": {
          "color": "rgb(255, 127, 14)"
         },
         "mode": "lines+markers",
         "name": "Anonymize=False",
         "showlegend": false,
         "x": [
          1,
          2,
          4,
          8,
          16,
          32,
          64
         ],
         "y": [
          48.56,
          55.87,
          56.73,
          60.0,
          62.31,
          67.21,
          62.4
         ],
         "type": "scatter",
         "xaxis": "x8",
         "yaxis": "y8"
        },
        {
         "legendgroup": "Anonymize=True",
         "line": {
          "color": "rgb(31, 119, 180)"
         },
         "mode": "lines+markers",
         "name": "Anonymize=True",
         "showlegend": false,
         "x": [
          1,
          2,
          4,
          8,
          16,
          32,
          64
         ],
         "y": [
          51.46,
          54.69,
          56.74,
          62.99,
          62.01,
          73.93,
          51.95
         ],
         "type": "scatter",
         "xaxis": "x9",
         "yaxis": "y9"
        },
        {
         "legendgroup": "Anonymize=False",
         "line": {
          "color": "rgb(255, 127, 14)"
         },
         "mode": "lines+markers",
         "name": "Anonymize=False",
         "showlegend": false,
         "x": [
          1,
          2,
          4,
          8,
          16,
          32,
          64
         ],
         "y": [
          52.54,
          53.61,
          54.59,
          54.88,
          57.23,
          62.11,
          59.18
         ],
         "type": "scatter",
         "xaxis": "x9",
         "yaxis": "y9"
        },
        {
         "legendgroup": "Anonymize=True",
         "line": {
          "color": "rgb(31, 119, 180)"
         },
         "mode": "lines+markers",
         "name": "Anonymize=True",
         "showlegend": false,
         "x": [
          1,
          2,
          4,
          8,
          16,
          32,
          64
         ],
         "y": [
          54.62,
          53.65,
          64.81,
          68.56,
          73.65,
          74.23,
          69.13
         ],
         "type": "scatter",
         "xaxis": "x10",
         "yaxis": "y10"
        },
        {
         "legendgroup": "Anonymize=False",
         "line": {
          "color": "rgb(255, 127, 14)"
         },
         "mode": "lines+markers",
         "name": "Anonymize=False",
         "showlegend": false,
         "x": [
          1,
          2,
          4,
          8,
          16,
          32,
          64
         ],
         "y": [
          50.0,
          54.62,
          63.94,
          73.65,
          71.73,
          72.02,
          72.69
         ],
         "type": "scatter",
         "xaxis": "x10",
         "yaxis": "y10"
        },
        {
         "legendgroup": "Anonymize=True",
         "line": {
          "color": "rgb(31, 119, 180)"
         },
         "mode": "lines+markers",
         "name": "Anonymize=True",
         "showlegend": false,
         "x": [
          1,
          2,
          4,
          8,
          16,
          32,
          64
         ],
         "y": [
          50.96,
          53.65,
          65.1,
          68.27,
          73.94,
          73.85,
          68.94
         ],
         "type": "scatter",
         "xaxis": "x11",
         "yaxis": "y11"
        },
        {
         "legendgroup": "Anonymize=False",
         "line": {
          "color": "rgb(255, 127, 14)"
         },
         "mode": "lines+markers",
         "name": "Anonymize=False",
         "showlegend": false,
         "x": [
          1,
          2,
          4,
          8,
          16,
          32,
          64
         ],
         "y": [
          52.4,
          54.33,
          65.0,
          72.31,
          73.17,
          71.92,
          72.6
         ],
         "type": "scatter",
         "xaxis": "x11",
         "yaxis": "y11"
        },
        {
         "legendgroup": "Anonymize=True",
         "line": {
          "color": "rgb(31, 119, 180)"
         },
         "mode": "lines+markers",
         "name": "Anonymize=True",
         "showlegend": false,
         "x": [
          1,
          2,
          4,
          8,
          16,
          32,
          64
         ],
         "y": [
          49.9,
          53.42,
          62.99,
          66.7,
          74.22,
          74.41,
          67.58
         ],
         "type": "scatter",
         "xaxis": "x12",
         "yaxis": "y12"
        },
        {
         "legendgroup": "Anonymize=False",
         "line": {
          "color": "rgb(255, 127, 14)"
         },
         "mode": "lines+markers",
         "name": "Anonymize=False",
         "showlegend": false,
         "x": [
          1,
          2,
          4,
          8,
          16,
          32,
          64
         ],
         "y": [
          50.29,
          52.34,
          61.04,
          67.38,
          65.53,
          66.41,
          71.29
         ],
         "type": "scatter",
         "xaxis": "x12",
         "yaxis": "y12"
        },
        {
         "legendgroup": "Anonymize=True",
         "line": {
          "color": "rgb(31, 119, 180)"
         },
         "mode": "lines+markers",
         "name": "Anonymize=True",
         "showlegend": false,
         "x": [
          1,
          2,
          4,
          8,
          16,
          32,
          64
         ],
         "y": [
          51.25,
          57.88,
          62.79,
          77.31,
          81.92,
          83.17,
          50.38
         ],
         "type": "scatter",
         "xaxis": "x13",
         "yaxis": "y13"
        },
        {
         "legendgroup": "Anonymize=False",
         "line": {
          "color": "rgb(255, 127, 14)"
         },
         "mode": "lines+markers",
         "name": "Anonymize=False",
         "showlegend": false,
         "x": [
          1,
          2,
          4,
          8,
          16,
          32,
          64
         ],
         "y": [
          56.06,
          59.04,
          67.31,
          73.08,
          80.77,
          77.31,
          68.37
         ],
         "type": "scatter",
         "xaxis": "x13",
         "yaxis": "y13"
        },
        {
         "legendgroup": "Anonymize=True",
         "line": {
          "color": "rgb(31, 119, 180)"
         },
         "mode": "lines+markers",
         "name": "Anonymize=True",
         "showlegend": false,
         "x": [
          1,
          2,
          4,
          8,
          16,
          32,
          64
         ],
         "y": [
          53.27,
          57.88,
          63.75,
          78.65,
          83.56,
          83.37,
          47.79
         ],
         "type": "scatter",
         "xaxis": "x14",
         "yaxis": "y14"
        },
        {
         "legendgroup": "Anonymize=False",
         "line": {
          "color": "rgb(255, 127, 14)"
         },
         "mode": "lines+markers",
         "name": "Anonymize=False",
         "showlegend": false,
         "x": [
          1,
          2,
          4,
          8,
          16,
          32,
          64
         ],
         "y": [
          52.6,
          59.81,
          65.87,
          72.98,
          81.73,
          77.69,
          67.31
         ],
         "type": "scatter",
         "xaxis": "x14",
         "yaxis": "y14"
        },
        {
         "legendgroup": "Anonymize=True",
         "line": {
          "color": "rgb(31, 119, 180)"
         },
         "mode": "lines+markers",
         "name": "Anonymize=True",
         "showlegend": false,
         "x": [
          1,
          2,
          4,
          8,
          16,
          32,
          64
         ],
         "y": [
          53.61,
          59.67,
          62.89,
          72.56,
          78.32,
          74.8,
          48.63
         ],
         "type": "scatter",
         "xaxis": "x15",
         "yaxis": "y15"
        },
        {
         "legendgroup": "Anonymize=False",
         "line": {
          "color": "rgb(255, 127, 14)"
         },
         "mode": "lines+markers",
         "name": "Anonymize=False",
         "showlegend": false,
         "x": [
          1,
          2,
          4,
          8,
          16,
          32,
          64
         ],
         "y": [
          55.37,
          56.54,
          61.72,
          70.61,
          78.03,
          71.97,
          67.58
         ],
         "type": "scatter",
         "xaxis": "x15",
         "yaxis": "y15"
        }
       ],
       "layout": {
        "template": {
         "data": {
          "histogram2dcontour": [
           {
            "type": "histogram2dcontour",
            "colorbar": {
             "outlinewidth": 0,
             "ticks": ""
            },
            "colorscale": [
             [
              0.0,
              "#0d0887"
             ],
             [
              0.1111111111111111,
              "#46039f"
             ],
             [
              0.2222222222222222,
              "#7201a8"
             ],
             [
              0.3333333333333333,
              "#9c179e"
             ],
             [
              0.4444444444444444,
              "#bd3786"
             ],
             [
              0.5555555555555556,
              "#d8576b"
             ],
             [
              0.6666666666666666,
              "#ed7953"
             ],
             [
              0.7777777777777778,
              "#fb9f3a"
             ],
             [
              0.8888888888888888,
              "#fdca26"
             ],
             [
              1.0,
              "#f0f921"
             ]
            ]
           }
          ],
          "choropleth": [
           {
            "type": "choropleth",
            "colorbar": {
             "outlinewidth": 0,
             "ticks": ""
            }
           }
          ],
          "histogram2d": [
           {
            "type": "histogram2d",
            "colorbar": {
             "outlinewidth": 0,
             "ticks": ""
            },
            "colorscale": [
             [
              0.0,
              "#0d0887"
             ],
             [
              0.1111111111111111,
              "#46039f"
             ],
             [
              0.2222222222222222,
              "#7201a8"
             ],
             [
              0.3333333333333333,
              "#9c179e"
             ],
             [
              0.4444444444444444,
              "#bd3786"
             ],
             [
              0.5555555555555556,
              "#d8576b"
             ],
             [
              0.6666666666666666,
              "#ed7953"
             ],
             [
              0.7777777777777778,
              "#fb9f3a"
             ],
             [
              0.8888888888888888,
              "#fdca26"
             ],
             [
              1.0,
              "#f0f921"
             ]
            ]
           }
          ],
          "heatmap": [
           {
            "type": "heatmap",
            "colorbar": {
             "outlinewidth": 0,
             "ticks": ""
            },
            "colorscale": [
             [
              0.0,
              "#0d0887"
             ],
             [
              0.1111111111111111,
              "#46039f"
             ],
             [
              0.2222222222222222,
              "#7201a8"
             ],
             [
              0.3333333333333333,
              "#9c179e"
             ],
             [
              0.4444444444444444,
              "#bd3786"
             ],
             [
              0.5555555555555556,
              "#d8576b"
             ],
             [
              0.6666666666666666,
              "#ed7953"
             ],
             [
              0.7777777777777778,
              "#fb9f3a"
             ],
             [
              0.8888888888888888,
              "#fdca26"
             ],
             [
              1.0,
              "#f0f921"
             ]
            ]
           }
          ],
          "heatmapgl": [
           {
            "type": "heatmapgl",
            "colorbar": {
             "outlinewidth": 0,
             "ticks": ""
            },
            "colorscale": [
             [
              0.0,
              "#0d0887"
             ],
             [
              0.1111111111111111,
              "#46039f"
             ],
             [
              0.2222222222222222,
              "#7201a8"
             ],
             [
              0.3333333333333333,
              "#9c179e"
             ],
             [
              0.4444444444444444,
              "#bd3786"
             ],
             [
              0.5555555555555556,
              "#d8576b"
             ],
             [
              0.6666666666666666,
              "#ed7953"
             ],
             [
              0.7777777777777778,
              "#fb9f3a"
             ],
             [
              0.8888888888888888,
              "#fdca26"
             ],
             [
              1.0,
              "#f0f921"
             ]
            ]
           }
          ],
          "contourcarpet": [
           {
            "type": "contourcarpet",
            "colorbar": {
             "outlinewidth": 0,
             "ticks": ""
            }
           }
          ],
          "contour": [
           {
            "type": "contour",
            "colorbar": {
             "outlinewidth": 0,
             "ticks": ""
            },
            "colorscale": [
             [
              0.0,
              "#0d0887"
             ],
             [
              0.1111111111111111,
              "#46039f"
             ],
             [
              0.2222222222222222,
              "#7201a8"
             ],
             [
              0.3333333333333333,
              "#9c179e"
             ],
             [
              0.4444444444444444,
              "#bd3786"
             ],
             [
              0.5555555555555556,
              "#d8576b"
             ],
             [
              0.6666666666666666,
              "#ed7953"
             ],
             [
              0.7777777777777778,
              "#fb9f3a"
             ],
             [
              0.8888888888888888,
              "#fdca26"
             ],
             [
              1.0,
              "#f0f921"
             ]
            ]
           }
          ],
          "surface": [
           {
            "type": "surface",
            "colorbar": {
             "outlinewidth": 0,
             "ticks": ""
            },
            "colorscale": [
             [
              0.0,
              "#0d0887"
             ],
             [
              0.1111111111111111,
              "#46039f"
             ],
             [
              0.2222222222222222,
              "#7201a8"
             ],
             [
              0.3333333333333333,
              "#9c179e"
             ],
             [
              0.4444444444444444,
              "#bd3786"
             ],
             [
              0.5555555555555556,
              "#d8576b"
             ],
             [
              0.6666666666666666,
              "#ed7953"
             ],
             [
              0.7777777777777778,
              "#fb9f3a"
             ],
             [
              0.8888888888888888,
              "#fdca26"
             ],
             [
              1.0,
              "#f0f921"
             ]
            ]
           }
          ],
          "mesh3d": [
           {
            "type": "mesh3d",
            "colorbar": {
             "outlinewidth": 0,
             "ticks": ""
            }
           }
          ],
          "scatter": [
           {
            "fillpattern": {
             "fillmode": "overlay",
             "size": 10,
             "solidity": 0.2
            },
            "type": "scatter"
           }
          ],
          "parcoords": [
           {
            "type": "parcoords",
            "line": {
             "colorbar": {
              "outlinewidth": 0,
              "ticks": ""
             }
            }
           }
          ],
          "scatterpolargl": [
           {
            "type": "scatterpolargl",
            "marker": {
             "colorbar": {
              "outlinewidth": 0,
              "ticks": ""
             }
            }
           }
          ],
          "bar": [
           {
            "error_x": {
             "color": "#2a3f5f"
            },
            "error_y": {
             "color": "#2a3f5f"
            },
            "marker": {
             "line": {
              "color": "#E5ECF6",
              "width": 0.5
             },
             "pattern": {
              "fillmode": "overlay",
              "size": 10,
              "solidity": 0.2
             }
            },
            "type": "bar"
           }
          ],
          "scattergeo": [
           {
            "type": "scattergeo",
            "marker": {
             "colorbar": {
              "outlinewidth": 0,
              "ticks": ""
             }
            }
           }
          ],
          "scatterpolar": [
           {
            "type": "scatterpolar",
            "marker": {
             "colorbar": {
              "outlinewidth": 0,
              "ticks": ""
             }
            }
           }
          ],
          "histogram": [
           {
            "marker": {
             "pattern": {
              "fillmode": "overlay",
              "size": 10,
              "solidity": 0.2
             }
            },
            "type": "histogram"
           }
          ],
          "scattergl": [
           {
            "type": "scattergl",
            "marker": {
             "colorbar": {
              "outlinewidth": 0,
              "ticks": ""
             }
            }
           }
          ],
          "scatter3d": [
           {
            "type": "scatter3d",
            "line": {
             "colorbar": {
              "outlinewidth": 0,
              "ticks": ""
             }
            },
            "marker": {
             "colorbar": {
              "outlinewidth": 0,
              "ticks": ""
             }
            }
           }
          ],
          "scattermapbox": [
           {
            "type": "scattermapbox",
            "marker": {
             "colorbar": {
              "outlinewidth": 0,
              "ticks": ""
             }
            }
           }
          ],
          "scatterternary": [
           {
            "type": "scatterternary",
            "marker": {
             "colorbar": {
              "outlinewidth": 0,
              "ticks": ""
             }
            }
           }
          ],
          "scattercarpet": [
           {
            "type": "scattercarpet",
            "marker": {
             "colorbar": {
              "outlinewidth": 0,
              "ticks": ""
             }
            }
           }
          ],
          "carpet": [
           {
            "aaxis": {
             "endlinecolor": "#2a3f5f",
             "gridcolor": "white",
             "linecolor": "white",
             "minorgridcolor": "white",
             "startlinecolor": "#2a3f5f"
            },
            "baxis": {
             "endlinecolor": "#2a3f5f",
             "gridcolor": "white",
             "linecolor": "white",
             "minorgridcolor": "white",
             "startlinecolor": "#2a3f5f"
            },
            "type": "carpet"
           }
          ],
          "table": [
           {
            "cells": {
             "fill": {
              "color": "#EBF0F8"
             },
             "line": {
              "color": "white"
             }
            },
            "header": {
             "fill": {
              "color": "#C8D4E3"
             },
             "line": {
              "color": "white"
             }
            },
            "type": "table"
           }
          ],
          "barpolar": [
           {
            "marker": {
             "line": {
              "color": "#E5ECF6",
              "width": 0.5
             },
             "pattern": {
              "fillmode": "overlay",
              "size": 10,
              "solidity": 0.2
             }
            },
            "type": "barpolar"
           }
          ],
          "pie": [
           {
            "automargin": true,
            "type": "pie"
           }
          ]
         },
         "layout": {
          "autotypenumbers": "strict",
          "colorway": [
           "#636efa",
           "#EF553B",
           "#00cc96",
           "#ab63fa",
           "#FFA15A",
           "#19d3f3",
           "#FF6692",
           "#B6E880",
           "#FF97FF",
           "#FECB52"
          ],
          "font": {
           "color": "#2a3f5f"
          },
          "hovermode": "closest",
          "hoverlabel": {
           "align": "left"
          },
          "paper_bgcolor": "white",
          "plot_bgcolor": "#E5ECF6",
          "polar": {
           "bgcolor": "#E5ECF6",
           "angularaxis": {
            "gridcolor": "white",
            "linecolor": "white",
            "ticks": ""
           },
           "radialaxis": {
            "gridcolor": "white",
            "linecolor": "white",
            "ticks": ""
           }
          },
          "ternary": {
           "bgcolor": "#E5ECF6",
           "aaxis": {
            "gridcolor": "white",
            "linecolor": "white",
            "ticks": ""
           },
           "baxis": {
            "gridcolor": "white",
            "linecolor": "white",
            "ticks": ""
           },
           "caxis": {
            "gridcolor": "white",
            "linecolor": "white",
            "ticks": ""
           }
          },
          "coloraxis": {
           "colorbar": {
            "outlinewidth": 0,
            "ticks": ""
           }
          },
          "colorscale": {
           "sequential": [
            [
             0.0,
             "#0d0887"
            ],
            [
             0.1111111111111111,
             "#46039f"
            ],
            [
             0.2222222222222222,
             "#7201a8"
            ],
            [
             0.3333333333333333,
             "#9c179e"
            ],
            [
             0.4444444444444444,
             "#bd3786"
            ],
            [
             0.5555555555555556,
             "#d8576b"
            ],
            [
             0.6666666666666666,
             "#ed7953"
            ],
            [
             0.7777777777777778,
             "#fb9f3a"
            ],
            [
             0.8888888888888888,
             "#fdca26"
            ],
            [
             1.0,
             "#f0f921"
            ]
           ],
           "sequentialminus": [
            [
             0.0,
             "#0d0887"
            ],
            [
             0.1111111111111111,
             "#46039f"
            ],
            [
             0.2222222222222222,
             "#7201a8"
            ],
            [
             0.3333333333333333,
             "#9c179e"
            ],
            [
             0.4444444444444444,
             "#bd3786"
            ],
            [
             0.5555555555555556,
             "#d8576b"
            ],
            [
             0.6666666666666666,
             "#ed7953"
            ],
            [
             0.7777777777777778,
             "#fb9f3a"
            ],
            [
             0.8888888888888888,
             "#fdca26"
            ],
            [
             1.0,
             "#f0f921"
            ]
           ],
           "diverging": [
            [
             0,
             "#8e0152"
            ],
            [
             0.1,
             "#c51b7d"
            ],
            [
             0.2,
             "#de77ae"
            ],
            [
             0.3,
             "#f1b6da"
            ],
            [
             0.4,
             "#fde0ef"
            ],
            [
             0.5,
             "#f7f7f7"
            ],
            [
             0.6,
             "#e6f5d0"
            ],
            [
             0.7,
             "#b8e186"
            ],
            [
             0.8,
             "#7fbc41"
            ],
            [
             0.9,
             "#4d9221"
            ],
            [
             1,
             "#276419"
            ]
           ]
          },
          "xaxis": {
           "gridcolor": "white",
           "linecolor": "white",
           "ticks": "",
           "title": {
            "standoff": 15
           },
           "zerolinecolor": "white",
           "automargin": true,
           "zerolinewidth": 2
          },
          "yaxis": {
           "gridcolor": "white",
           "linecolor": "white",
           "ticks": "",
           "title": {
            "standoff": 15
           },
           "zerolinecolor": "white",
           "automargin": true,
           "zerolinewidth": 2
          },
          "scene": {
           "xaxis": {
            "backgroundcolor": "#E5ECF6",
            "gridcolor": "white",
            "linecolor": "white",
            "showbackground": true,
            "ticks": "",
            "zerolinecolor": "white",
            "gridwidth": 2
           },
           "yaxis": {
            "backgroundcolor": "#E5ECF6",
            "gridcolor": "white",
            "linecolor": "white",
            "showbackground": true,
            "ticks": "",
            "zerolinecolor": "white",
            "gridwidth": 2
           },
           "zaxis": {
            "backgroundcolor": "#E5ECF6",
            "gridcolor": "white",
            "linecolor": "white",
            "showbackground": true,
            "ticks": "",
            "zerolinecolor": "white",
            "gridwidth": 2
           }
          },
          "shapedefaults": {
           "line": {
            "color": "#2a3f5f"
           }
          },
          "annotationdefaults": {
           "arrowcolor": "#2a3f5f",
           "arrowhead": 0,
           "arrowwidth": 1
          },
          "geo": {
           "bgcolor": "white",
           "landcolor": "#E5ECF6",
           "subunitcolor": "white",
           "showland": true,
           "showlakes": true,
           "lakecolor": "white"
          },
          "title": {
           "x": 0.05
          },
          "mapbox": {
           "style": "light"
          }
         }
        },
        "xaxis": {
         "anchor": "y",
         "domain": [
          0.0,
          0.3
         ]
        },
        "yaxis": {
         "anchor": "x",
         "domain": [
          0.8400000000000001,
          1.0
         ],
         "title": {
          "text": "Score"
         }
        },
        "xaxis2": {
         "anchor": "y2",
         "domain": [
          0.35,
          0.6499999999999999
         ]
        },
        "yaxis2": {
         "anchor": "x2",
         "domain": [
          0.8400000000000001,
          1.0
         ]
        },
        "xaxis3": {
         "anchor": "y3",
         "domain": [
          0.7,
          1.0
         ]
        },
        "yaxis3": {
         "anchor": "x3",
         "domain": [
          0.8400000000000001,
          1.0
         ]
        },
        "xaxis4": {
         "anchor": "y4",
         "domain": [
          0.0,
          0.3
         ]
        },
        "yaxis4": {
         "anchor": "x4",
         "domain": [
          0.63,
          0.79
         ],
         "title": {
          "text": "Score"
         }
        },
        "xaxis5": {
         "anchor": "y5",
         "domain": [
          0.35,
          0.6499999999999999
         ]
        },
        "yaxis5": {
         "anchor": "x5",
         "domain": [
          0.63,
          0.79
         ]
        },
        "xaxis6": {
         "anchor": "y6",
         "domain": [
          0.7,
          1.0
         ]
        },
        "yaxis6": {
         "anchor": "x6",
         "domain": [
          0.63,
          0.79
         ]
        },
        "xaxis7": {
         "anchor": "y7",
         "domain": [
          0.0,
          0.3
         ]
        },
        "yaxis7": {
         "anchor": "x7",
         "domain": [
          0.42000000000000004,
          0.5800000000000001
         ],
         "title": {
          "text": "Score"
         }
        },
        "xaxis8": {
         "anchor": "y8",
         "domain": [
          0.35,
          0.6499999999999999
         ]
        },
        "yaxis8": {
         "anchor": "x8",
         "domain": [
          0.42000000000000004,
          0.5800000000000001
         ]
        },
        "xaxis9": {
         "anchor": "y9",
         "domain": [
          0.7,
          1.0
         ]
        },
        "yaxis9": {
         "anchor": "x9",
         "domain": [
          0.42000000000000004,
          0.5800000000000001
         ]
        },
        "xaxis10": {
         "anchor": "y10",
         "domain": [
          0.0,
          0.3
         ]
        },
        "yaxis10": {
         "anchor": "x10",
         "domain": [
          0.21000000000000002,
          0.37
         ],
         "title": {
          "text": "Score"
         }
        },
        "xaxis11": {
         "anchor": "y11",
         "domain": [
          0.35,
          0.6499999999999999
         ]
        },
        "yaxis11": {
         "anchor": "x11",
         "domain": [
          0.21000000000000002,
          0.37
         ]
        },
        "xaxis12": {
         "anchor": "y12",
         "domain": [
          0.7,
          1.0
         ]
        },
        "yaxis12": {
         "anchor": "x12",
         "domain": [
          0.21000000000000002,
          0.37
         ]
        },
        "xaxis13": {
         "anchor": "y13",
         "domain": [
          0.0,
          0.3
         ],
         "title": {
          "text": "Number of Epochs"
         }
        },
        "yaxis13": {
         "anchor": "x13",
         "domain": [
          0.0,
          0.16
         ],
         "title": {
          "text": "Score"
         }
        },
        "xaxis14": {
         "anchor": "y14",
         "domain": [
          0.35,
          0.6499999999999999
         ],
         "title": {
          "text": "Number of Epochs"
         }
        },
        "yaxis14": {
         "anchor": "x14",
         "domain": [
          0.0,
          0.16
         ]
        },
        "xaxis15": {
         "anchor": "y15",
         "domain": [
          0.7,
          1.0
         ],
         "title": {
          "text": "Number of Epochs"
         }
        },
        "yaxis15": {
         "anchor": "x15",
         "domain": [
          0.0,
          0.16
         ]
        },
        "annotations": [
         {
          "font": {
           "size": 16
          },
          "showarrow": false,
          "text": "commonsense - 0.1% Training",
          "x": 0.15,
          "xanchor": "center",
          "xref": "paper",
          "y": 1.0,
          "yanchor": "bottom",
          "yref": "paper"
         },
         {
          "font": {
           "size": 16
          },
          "showarrow": false,
          "text": "anticommonsense - 0.1% Training",
          "x": 0.49999999999999994,
          "xanchor": "center",
          "xref": "paper",
          "y": 1.0,
          "yanchor": "bottom",
          "yref": "paper"
         },
         {
          "font": {
           "size": 16
          },
          "showarrow": false,
          "text": "noncommonsense - 0.1% Training",
          "x": 0.85,
          "xanchor": "center",
          "xref": "paper",
          "y": 1.0,
          "yanchor": "bottom",
          "yref": "paper"
         },
         {
          "font": {
           "size": 16
          },
          "showarrow": false,
          "text": "commonsense - 0.5% Training",
          "x": 0.15,
          "xanchor": "center",
          "xref": "paper",
          "y": 0.79,
          "yanchor": "bottom",
          "yref": "paper"
         },
         {
          "font": {
           "size": 16
          },
          "showarrow": false,
          "text": "anticommonsense - 0.5% Training",
          "x": 0.49999999999999994,
          "xanchor": "center",
          "xref": "paper",
          "y": 0.79,
          "yanchor": "bottom",
          "yref": "paper"
         },
         {
          "font": {
           "size": 16
          },
          "showarrow": false,
          "text": "noncommonsense - 0.5% Training",
          "x": 0.85,
          "xanchor": "center",
          "xref": "paper",
          "y": 0.79,
          "yanchor": "bottom",
          "yref": "paper"
         },
         {
          "font": {
           "size": 16
          },
          "showarrow": false,
          "text": "commonsense - 1.0% Training",
          "x": 0.15,
          "xanchor": "center",
          "xref": "paper",
          "y": 0.5800000000000001,
          "yanchor": "bottom",
          "yref": "paper"
         },
         {
          "font": {
           "size": 16
          },
          "showarrow": false,
          "text": "anticommonsense - 1.0% Training",
          "x": 0.49999999999999994,
          "xanchor": "center",
          "xref": "paper",
          "y": 0.5800000000000001,
          "yanchor": "bottom",
          "yref": "paper"
         },
         {
          "font": {
           "size": 16
          },
          "showarrow": false,
          "text": "noncommonsense - 1.0% Training",
          "x": 0.85,
          "xanchor": "center",
          "xref": "paper",
          "y": 0.5800000000000001,
          "yanchor": "bottom",
          "yref": "paper"
         },
         {
          "font": {
           "size": 16
          },
          "showarrow": false,
          "text": "commonsense - 2.0% Training",
          "x": 0.15,
          "xanchor": "center",
          "xref": "paper",
          "y": 0.37,
          "yanchor": "bottom",
          "yref": "paper"
         },
         {
          "font": {
           "size": 16
          },
          "showarrow": false,
          "text": "anticommonsense - 2.0% Training",
          "x": 0.49999999999999994,
          "xanchor": "center",
          "xref": "paper",
          "y": 0.37,
          "yanchor": "bottom",
          "yref": "paper"
         },
         {
          "font": {
           "size": 16
          },
          "showarrow": false,
          "text": "noncommonsense - 2.0% Training",
          "x": 0.85,
          "xanchor": "center",
          "xref": "paper",
          "y": 0.37,
          "yanchor": "bottom",
          "yref": "paper"
         },
         {
          "font": {
           "size": 16
          },
          "showarrow": false,
          "text": "commonsense - 5.0% Training",
          "x": 0.15,
          "xanchor": "center",
          "xref": "paper",
          "y": 0.16,
          "yanchor": "bottom",
          "yref": "paper"
         },
         {
          "font": {
           "size": 16
          },
          "showarrow": false,
          "text": "anticommonsense - 5.0% Training",
          "x": 0.49999999999999994,
          "xanchor": "center",
          "xref": "paper",
          "y": 0.16,
          "yanchor": "bottom",
          "yref": "paper"
         },
         {
          "font": {
           "size": 16
          },
          "showarrow": false,
          "text": "noncommonsense - 5.0% Training",
          "x": 0.85,
          "xanchor": "center",
          "xref": "paper",
          "y": 0.16,
          "yanchor": "bottom",
          "yref": "paper"
         }
        ],
        "title": {
         "text": "Anonymize vs Non-Anonymize Performance Comparison"
        },
        "margin": {
         "t": 50,
         "b": 20,
         "l": 20,
         "r": 20
        },
        "height": 1000,
        "width": 1200,
        "legend": {
         "title": {
          "text": "Anonymization Setting"
         }
        }
       },
       "config": {
        "plotlyServerURL": "https://plot.ly"
       }
      },
      "text/html": [
       "<div>                            <div id=\"7f64619b-5a91-4c9e-a044-1774431644ae\" class=\"plotly-graph-div\" style=\"height:1000px; width:1200px;\"></div>            <script type=\"text/javascript\">                require([\"plotly\"], function(Plotly) {                    window.PLOTLYENV=window.PLOTLYENV || {};                                    if (document.getElementById(\"7f64619b-5a91-4c9e-a044-1774431644ae\")) {                    Plotly.newPlot(                        \"7f64619b-5a91-4c9e-a044-1774431644ae\",                        [{\"legendgroup\":\"Anonymize=True\",\"line\":{\"color\":\"rgb(31, 119, 180)\"},\"mode\":\"lines+markers\",\"name\":\"Anonymize=True\",\"showlegend\":true,\"x\":[1,2,4,8,16,32,64],\"y\":[42.12,48.94,49.33,50.19,55.0,52.6,51.63],\"type\":\"scatter\",\"xaxis\":\"x\",\"yaxis\":\"y\"},{\"legendgroup\":\"Anonymize=False\",\"line\":{\"color\":\"rgb(255, 127, 14)\"},\"mode\":\"lines+markers\",\"name\":\"Anonymize=False\",\"showlegend\":true,\"x\":[1,2,4,8,16,32,64],\"y\":[10.77,36.44,51.73,50.58,52.69,50.87,52.79],\"type\":\"scatter\",\"xaxis\":\"x\",\"yaxis\":\"y\"},{\"legendgroup\":\"Anonymize=True\",\"line\":{\"color\":\"rgb(31, 119, 180)\"},\"mode\":\"lines+markers\",\"name\":\"Anonymize=True\",\"showlegend\":false,\"x\":[1,2,4,8,16,32,64],\"y\":[45.38,51.25,52.6,52.5,53.56,53.65,53.08],\"type\":\"scatter\",\"xaxis\":\"x2\",\"yaxis\":\"y2\"},{\"legendgroup\":\"Anonymize=False\",\"line\":{\"color\":\"rgb(255, 127, 14)\"},\"mode\":\"lines+markers\",\"name\":\"Anonymize=False\",\"showlegend\":false,\"x\":[1,2,4,8,16,32,64],\"y\":[11.06,40.38,48.75,50.0,49.33,50.58,51.15],\"type\":\"scatter\",\"xaxis\":\"x2\",\"yaxis\":\"y2\"},{\"legendgroup\":\"Anonymize=True\",\"line\":{\"color\":\"rgb(31, 119, 180)\"},\"mode\":\"lines+markers\",\"name\":\"Anonymize=True\",\"showlegend\":false,\"x\":[1,2,4,8,16,32,64],\"y\":[44.04,48.05,49.71,51.56,51.95,55.37,50.59],\"type\":\"scatter\",\"xaxis\":\"x3\",\"yaxis\":\"y3\"},{\"legendgroup\":\"Anonymize=False\",\"line\":{\"color\":\"rgb(255, 127, 14)\"},\"mode\":\"lines+markers\",\"name\":\"Anonymize=False\",\"showlegend\":false,\"x\":[1,2,4,8,16,32,64],\"y\":[6.74,36.13,46.68,49.9,48.24,48.44,49.9],\"type\":\"scatter\",\"xaxis\":\"x3\",\"yaxis\":\"y3\"},{\"legendgroup\":\"Anonymize=True\",\"line\":{\"color\":\"rgb(31, 119, 180)\"},\"mode\":\"lines+markers\",\"name\":\"Anonymize=True\",\"showlegend\":false,\"x\":[1,2,4,8,16,32,64],\"y\":[47.79,54.81,52.69,59.23,62.4,67.98,61.15],\"type\":\"scatter\",\"xaxis\":\"x4\",\"yaxis\":\"y4\"},{\"legendgroup\":\"Anonymize=False\",\"line\":{\"color\":\"rgb(255, 127, 14)\"},\"mode\":\"lines+markers\",\"name\":\"Anonymize=False\",\"showlegend\":false,\"x\":[1,2,4,8,16,32,64],\"y\":[50.19,53.17,55.29,51.25,55.1,60.38,56.44],\"type\":\"scatter\",\"xaxis\":\"x4\",\"yaxis\":\"y4\"},{\"legendgroup\":\"Anonymize=True\",\"line\":{\"color\":\"rgb(31, 119, 180)\"},\"mode\":\"lines+markers\",\"name\":\"Anonymize=True\",\"showlegend\":false,\"x\":[1,2,4,8,16,32,64],\"y\":[51.83,54.71,51.83,56.35,60.77,67.21,61.06],\"type\":\"scatter\",\"xaxis\":\"x5\",\"yaxis\":\"y5\"},{\"legendgroup\":\"Anonymize=False\",\"line\":{\"color\":\"rgb(255, 127, 14)\"},\"mode\":\"lines+markers\",\"name\":\"Anonymize=False\",\"showlegend\":false,\"x\":[1,2,4,8,16,32,64],\"y\":[46.25,48.85,52.98,52.79,55.96,59.33,57.31],\"type\":\"scatter\",\"xaxis\":\"x5\",\"yaxis\":\"y5\"},{\"legendgroup\":\"Anonymize=True\",\"line\":{\"color\":\"rgb(31, 119, 180)\"},\"mode\":\"lines+markers\",\"name\":\"Anonymize=True\",\"showlegend\":false,\"x\":[1,2,4,8,16,32,64],\"y\":[48.34,53.12,52.34,59.28,62.01,68.07,62.11],\"type\":\"scatter\",\"xaxis\":\"x6\",\"yaxis\":\"y6\"},{\"legendgroup\":\"Anonymize=False\",\"line\":{\"color\":\"rgb(255, 127, 14)\"},\"mode\":\"lines+markers\",\"name\":\"Anonymize=False\",\"showlegend\":false,\"x\":[1,2,4,8,16,32,64],\"y\":[41.41,47.36,49.9,49.51,53.52,54.49,55.27],\"type\":\"scatter\",\"xaxis\":\"x6\",\"yaxis\":\"y6\"},{\"legendgroup\":\"Anonymize=True\",\"line\":{\"color\":\"rgb(31, 119, 180)\"},\"mode\":\"lines+markers\",\"name\":\"Anonymize=True\",\"showlegend\":false,\"x\":[1,2,4,8,16,32,64],\"y\":[51.25,55.48,56.15,59.81,63.94,75.96,53.56],\"type\":\"scatter\",\"xaxis\":\"x7\",\"yaxis\":\"y7\"},{\"legendgroup\":\"Anonymize=False\",\"line\":{\"color\":\"rgb(255, 127, 14)\"},\"mode\":\"lines+markers\",\"name\":\"Anonymize=False\",\"showlegend\":false,\"x\":[1,2,4,8,16,32,64],\"y\":[48.37,57.4,57.4,60.67,63.46,66.25,62.4],\"type\":\"scatter\",\"xaxis\":\"x7\",\"yaxis\":\"y7\"},{\"legendgroup\":\"Anonymize=True\",\"line\":{\"color\":\"rgb(31, 119, 180)\"},\"mode\":\"lines+markers\",\"name\":\"Anonymize=True\",\"showlegend\":false,\"x\":[1,2,4,8,16,32,64],\"y\":[51.35,52.31,52.98,59.71,60.67,73.56,54.42],\"type\":\"scatter\",\"xaxis\":\"x8\",\"yaxis\":\"y8\"},{\"legendgroup\":\"Anonymize=False\",\"line\":{\"color\":\"rgb(255, 127, 14)\"},\"mode\":\"lines+markers\",\"name\":\"Anonymize=False\",\"showlegend\":false,\"x\":[1,2,4,8,16,32,64],\"y\":[48.56,55.87,56.73,60.0,62.31,67.21,62.4],\"type\":\"scatter\",\"xaxis\":\"x8\",\"yaxis\":\"y8\"},{\"legendgroup\":\"Anonymize=True\",\"line\":{\"color\":\"rgb(31, 119, 180)\"},\"mode\":\"lines+markers\",\"name\":\"Anonymize=True\",\"showlegend\":false,\"x\":[1,2,4,8,16,32,64],\"y\":[51.46,54.69,56.74,62.99,62.01,73.93,51.95],\"type\":\"scatter\",\"xaxis\":\"x9\",\"yaxis\":\"y9\"},{\"legendgroup\":\"Anonymize=False\",\"line\":{\"color\":\"rgb(255, 127, 14)\"},\"mode\":\"lines+markers\",\"name\":\"Anonymize=False\",\"showlegend\":false,\"x\":[1,2,4,8,16,32,64],\"y\":[52.54,53.61,54.59,54.88,57.23,62.11,59.18],\"type\":\"scatter\",\"xaxis\":\"x9\",\"yaxis\":\"y9\"},{\"legendgroup\":\"Anonymize=True\",\"line\":{\"color\":\"rgb(31, 119, 180)\"},\"mode\":\"lines+markers\",\"name\":\"Anonymize=True\",\"showlegend\":false,\"x\":[1,2,4,8,16,32,64],\"y\":[54.62,53.65,64.81,68.56,73.65,74.23,69.13],\"type\":\"scatter\",\"xaxis\":\"x10\",\"yaxis\":\"y10\"},{\"legendgroup\":\"Anonymize=False\",\"line\":{\"color\":\"rgb(255, 127, 14)\"},\"mode\":\"lines+markers\",\"name\":\"Anonymize=False\",\"showlegend\":false,\"x\":[1,2,4,8,16,32,64],\"y\":[50.0,54.62,63.94,73.65,71.73,72.02,72.69],\"type\":\"scatter\",\"xaxis\":\"x10\",\"yaxis\":\"y10\"},{\"legendgroup\":\"Anonymize=True\",\"line\":{\"color\":\"rgb(31, 119, 180)\"},\"mode\":\"lines+markers\",\"name\":\"Anonymize=True\",\"showlegend\":false,\"x\":[1,2,4,8,16,32,64],\"y\":[50.96,53.65,65.1,68.27,73.94,73.85,68.94],\"type\":\"scatter\",\"xaxis\":\"x11\",\"yaxis\":\"y11\"},{\"legendgroup\":\"Anonymize=False\",\"line\":{\"color\":\"rgb(255, 127, 14)\"},\"mode\":\"lines+markers\",\"name\":\"Anonymize=False\",\"showlegend\":false,\"x\":[1,2,4,8,16,32,64],\"y\":[52.4,54.33,65.0,72.31,73.17,71.92,72.6],\"type\":\"scatter\",\"xaxis\":\"x11\",\"yaxis\":\"y11\"},{\"legendgroup\":\"Anonymize=True\",\"line\":{\"color\":\"rgb(31, 119, 180)\"},\"mode\":\"lines+markers\",\"name\":\"Anonymize=True\",\"showlegend\":false,\"x\":[1,2,4,8,16,32,64],\"y\":[49.9,53.42,62.99,66.7,74.22,74.41,67.58],\"type\":\"scatter\",\"xaxis\":\"x12\",\"yaxis\":\"y12\"},{\"legendgroup\":\"Anonymize=False\",\"line\":{\"color\":\"rgb(255, 127, 14)\"},\"mode\":\"lines+markers\",\"name\":\"Anonymize=False\",\"showlegend\":false,\"x\":[1,2,4,8,16,32,64],\"y\":[50.29,52.34,61.04,67.38,65.53,66.41,71.29],\"type\":\"scatter\",\"xaxis\":\"x12\",\"yaxis\":\"y12\"},{\"legendgroup\":\"Anonymize=True\",\"line\":{\"color\":\"rgb(31, 119, 180)\"},\"mode\":\"lines+markers\",\"name\":\"Anonymize=True\",\"showlegend\":false,\"x\":[1,2,4,8,16,32,64],\"y\":[51.25,57.88,62.79,77.31,81.92,83.17,50.38],\"type\":\"scatter\",\"xaxis\":\"x13\",\"yaxis\":\"y13\"},{\"legendgroup\":\"Anonymize=False\",\"line\":{\"color\":\"rgb(255, 127, 14)\"},\"mode\":\"lines+markers\",\"name\":\"Anonymize=False\",\"showlegend\":false,\"x\":[1,2,4,8,16,32,64],\"y\":[56.06,59.04,67.31,73.08,80.77,77.31,68.37],\"type\":\"scatter\",\"xaxis\":\"x13\",\"yaxis\":\"y13\"},{\"legendgroup\":\"Anonymize=True\",\"line\":{\"color\":\"rgb(31, 119, 180)\"},\"mode\":\"lines+markers\",\"name\":\"Anonymize=True\",\"showlegend\":false,\"x\":[1,2,4,8,16,32,64],\"y\":[53.27,57.88,63.75,78.65,83.56,83.37,47.79],\"type\":\"scatter\",\"xaxis\":\"x14\",\"yaxis\":\"y14\"},{\"legendgroup\":\"Anonymize=False\",\"line\":{\"color\":\"rgb(255, 127, 14)\"},\"mode\":\"lines+markers\",\"name\":\"Anonymize=False\",\"showlegend\":false,\"x\":[1,2,4,8,16,32,64],\"y\":[52.6,59.81,65.87,72.98,81.73,77.69,67.31],\"type\":\"scatter\",\"xaxis\":\"x14\",\"yaxis\":\"y14\"},{\"legendgroup\":\"Anonymize=True\",\"line\":{\"color\":\"rgb(31, 119, 180)\"},\"mode\":\"lines+markers\",\"name\":\"Anonymize=True\",\"showlegend\":false,\"x\":[1,2,4,8,16,32,64],\"y\":[53.61,59.67,62.89,72.56,78.32,74.8,48.63],\"type\":\"scatter\",\"xaxis\":\"x15\",\"yaxis\":\"y15\"},{\"legendgroup\":\"Anonymize=False\",\"line\":{\"color\":\"rgb(255, 127, 14)\"},\"mode\":\"lines+markers\",\"name\":\"Anonymize=False\",\"showlegend\":false,\"x\":[1,2,4,8,16,32,64],\"y\":[55.37,56.54,61.72,70.61,78.03,71.97,67.58],\"type\":\"scatter\",\"xaxis\":\"x15\",\"yaxis\":\"y15\"}],                        {\"template\":{\"data\":{\"histogram2dcontour\":[{\"type\":\"histogram2dcontour\",\"colorbar\":{\"outlinewidth\":0,\"ticks\":\"\"},\"colorscale\":[[0.0,\"#0d0887\"],[0.1111111111111111,\"#46039f\"],[0.2222222222222222,\"#7201a8\"],[0.3333333333333333,\"#9c179e\"],[0.4444444444444444,\"#bd3786\"],[0.5555555555555556,\"#d8576b\"],[0.6666666666666666,\"#ed7953\"],[0.7777777777777778,\"#fb9f3a\"],[0.8888888888888888,\"#fdca26\"],[1.0,\"#f0f921\"]]}],\"choropleth\":[{\"type\":\"choropleth\",\"colorbar\":{\"outlinewidth\":0,\"ticks\":\"\"}}],\"histogram2d\":[{\"type\":\"histogram2d\",\"colorbar\":{\"outlinewidth\":0,\"ticks\":\"\"},\"colorscale\":[[0.0,\"#0d0887\"],[0.1111111111111111,\"#46039f\"],[0.2222222222222222,\"#7201a8\"],[0.3333333333333333,\"#9c179e\"],[0.4444444444444444,\"#bd3786\"],[0.5555555555555556,\"#d8576b\"],[0.6666666666666666,\"#ed7953\"],[0.7777777777777778,\"#fb9f3a\"],[0.8888888888888888,\"#fdca26\"],[1.0,\"#f0f921\"]]}],\"heatmap\":[{\"type\":\"heatmap\",\"colorbar\":{\"outlinewidth\":0,\"ticks\":\"\"},\"colorscale\":[[0.0,\"#0d0887\"],[0.1111111111111111,\"#46039f\"],[0.2222222222222222,\"#7201a8\"],[0.3333333333333333,\"#9c179e\"],[0.4444444444444444,\"#bd3786\"],[0.5555555555555556,\"#d8576b\"],[0.6666666666666666,\"#ed7953\"],[0.7777777777777778,\"#fb9f3a\"],[0.8888888888888888,\"#fdca26\"],[1.0,\"#f0f921\"]]}],\"heatmapgl\":[{\"type\":\"heatmapgl\",\"colorbar\":{\"outlinewidth\":0,\"ticks\":\"\"},\"colorscale\":[[0.0,\"#0d0887\"],[0.1111111111111111,\"#46039f\"],[0.2222222222222222,\"#7201a8\"],[0.3333333333333333,\"#9c179e\"],[0.4444444444444444,\"#bd3786\"],[0.5555555555555556,\"#d8576b\"],[0.6666666666666666,\"#ed7953\"],[0.7777777777777778,\"#fb9f3a\"],[0.8888888888888888,\"#fdca26\"],[1.0,\"#f0f921\"]]}],\"contourcarpet\":[{\"type\":\"contourcarpet\",\"colorbar\":{\"outlinewidth\":0,\"ticks\":\"\"}}],\"contour\":[{\"type\":\"contour\",\"colorbar\":{\"outlinewidth\":0,\"ticks\":\"\"},\"colorscale\":[[0.0,\"#0d0887\"],[0.1111111111111111,\"#46039f\"],[0.2222222222222222,\"#7201a8\"],[0.3333333333333333,\"#9c179e\"],[0.4444444444444444,\"#bd3786\"],[0.5555555555555556,\"#d8576b\"],[0.6666666666666666,\"#ed7953\"],[0.7777777777777778,\"#fb9f3a\"],[0.8888888888888888,\"#fdca26\"],[1.0,\"#f0f921\"]]}],\"surface\":[{\"type\":\"surface\",\"colorbar\":{\"outlinewidth\":0,\"ticks\":\"\"},\"colorscale\":[[0.0,\"#0d0887\"],[0.1111111111111111,\"#46039f\"],[0.2222222222222222,\"#7201a8\"],[0.3333333333333333,\"#9c179e\"],[0.4444444444444444,\"#bd3786\"],[0.5555555555555556,\"#d8576b\"],[0.6666666666666666,\"#ed7953\"],[0.7777777777777778,\"#fb9f3a\"],[0.8888888888888888,\"#fdca26\"],[1.0,\"#f0f921\"]]}],\"mesh3d\":[{\"type\":\"mesh3d\",\"colorbar\":{\"outlinewidth\":0,\"ticks\":\"\"}}],\"scatter\":[{\"fillpattern\":{\"fillmode\":\"overlay\",\"size\":10,\"solidity\":0.2},\"type\":\"scatter\"}],\"parcoords\":[{\"type\":\"parcoords\",\"line\":{\"colorbar\":{\"outlinewidth\":0,\"ticks\":\"\"}}}],\"scatterpolargl\":[{\"type\":\"scatterpolargl\",\"marker\":{\"colorbar\":{\"outlinewidth\":0,\"ticks\":\"\"}}}],\"bar\":[{\"error_x\":{\"color\":\"#2a3f5f\"},\"error_y\":{\"color\":\"#2a3f5f\"},\"marker\":{\"line\":{\"color\":\"#E5ECF6\",\"width\":0.5},\"pattern\":{\"fillmode\":\"overlay\",\"size\":10,\"solidity\":0.2}},\"type\":\"bar\"}],\"scattergeo\":[{\"type\":\"scattergeo\",\"marker\":{\"colorbar\":{\"outlinewidth\":0,\"ticks\":\"\"}}}],\"scatterpolar\":[{\"type\":\"scatterpolar\",\"marker\":{\"colorbar\":{\"outlinewidth\":0,\"ticks\":\"\"}}}],\"histogram\":[{\"marker\":{\"pattern\":{\"fillmode\":\"overlay\",\"size\":10,\"solidity\":0.2}},\"type\":\"histogram\"}],\"scattergl\":[{\"type\":\"scattergl\",\"marker\":{\"colorbar\":{\"outlinewidth\":0,\"ticks\":\"\"}}}],\"scatter3d\":[{\"type\":\"scatter3d\",\"line\":{\"colorbar\":{\"outlinewidth\":0,\"ticks\":\"\"}},\"marker\":{\"colorbar\":{\"outlinewidth\":0,\"ticks\":\"\"}}}],\"scattermapbox\":[{\"type\":\"scattermapbox\",\"marker\":{\"colorbar\":{\"outlinewidth\":0,\"ticks\":\"\"}}}],\"scatterternary\":[{\"type\":\"scatterternary\",\"marker\":{\"colorbar\":{\"outlinewidth\":0,\"ticks\":\"\"}}}],\"scattercarpet\":[{\"type\":\"scattercarpet\",\"marker\":{\"colorbar\":{\"outlinewidth\":0,\"ticks\":\"\"}}}],\"carpet\":[{\"aaxis\":{\"endlinecolor\":\"#2a3f5f\",\"gridcolor\":\"white\",\"linecolor\":\"white\",\"minorgridcolor\":\"white\",\"startlinecolor\":\"#2a3f5f\"},\"baxis\":{\"endlinecolor\":\"#2a3f5f\",\"gridcolor\":\"white\",\"linecolor\":\"white\",\"minorgridcolor\":\"white\",\"startlinecolor\":\"#2a3f5f\"},\"type\":\"carpet\"}],\"table\":[{\"cells\":{\"fill\":{\"color\":\"#EBF0F8\"},\"line\":{\"color\":\"white\"}},\"header\":{\"fill\":{\"color\":\"#C8D4E3\"},\"line\":{\"color\":\"white\"}},\"type\":\"table\"}],\"barpolar\":[{\"marker\":{\"line\":{\"color\":\"#E5ECF6\",\"width\":0.5},\"pattern\":{\"fillmode\":\"overlay\",\"size\":10,\"solidity\":0.2}},\"type\":\"barpolar\"}],\"pie\":[{\"automargin\":true,\"type\":\"pie\"}]},\"layout\":{\"autotypenumbers\":\"strict\",\"colorway\":[\"#636efa\",\"#EF553B\",\"#00cc96\",\"#ab63fa\",\"#FFA15A\",\"#19d3f3\",\"#FF6692\",\"#B6E880\",\"#FF97FF\",\"#FECB52\"],\"font\":{\"color\":\"#2a3f5f\"},\"hovermode\":\"closest\",\"hoverlabel\":{\"align\":\"left\"},\"paper_bgcolor\":\"white\",\"plot_bgcolor\":\"#E5ECF6\",\"polar\":{\"bgcolor\":\"#E5ECF6\",\"angularaxis\":{\"gridcolor\":\"white\",\"linecolor\":\"white\",\"ticks\":\"\"},\"radialaxis\":{\"gridcolor\":\"white\",\"linecolor\":\"white\",\"ticks\":\"\"}},\"ternary\":{\"bgcolor\":\"#E5ECF6\",\"aaxis\":{\"gridcolor\":\"white\",\"linecolor\":\"white\",\"ticks\":\"\"},\"baxis\":{\"gridcolor\":\"white\",\"linecolor\":\"white\",\"ticks\":\"\"},\"caxis\":{\"gridcolor\":\"white\",\"linecolor\":\"white\",\"ticks\":\"\"}},\"coloraxis\":{\"colorbar\":{\"outlinewidth\":0,\"ticks\":\"\"}},\"colorscale\":{\"sequential\":[[0.0,\"#0d0887\"],[0.1111111111111111,\"#46039f\"],[0.2222222222222222,\"#7201a8\"],[0.3333333333333333,\"#9c179e\"],[0.4444444444444444,\"#bd3786\"],[0.5555555555555556,\"#d8576b\"],[0.6666666666666666,\"#ed7953\"],[0.7777777777777778,\"#fb9f3a\"],[0.8888888888888888,\"#fdca26\"],[1.0,\"#f0f921\"]],\"sequentialminus\":[[0.0,\"#0d0887\"],[0.1111111111111111,\"#46039f\"],[0.2222222222222222,\"#7201a8\"],[0.3333333333333333,\"#9c179e\"],[0.4444444444444444,\"#bd3786\"],[0.5555555555555556,\"#d8576b\"],[0.6666666666666666,\"#ed7953\"],[0.7777777777777778,\"#fb9f3a\"],[0.8888888888888888,\"#fdca26\"],[1.0,\"#f0f921\"]],\"diverging\":[[0,\"#8e0152\"],[0.1,\"#c51b7d\"],[0.2,\"#de77ae\"],[0.3,\"#f1b6da\"],[0.4,\"#fde0ef\"],[0.5,\"#f7f7f7\"],[0.6,\"#e6f5d0\"],[0.7,\"#b8e186\"],[0.8,\"#7fbc41\"],[0.9,\"#4d9221\"],[1,\"#276419\"]]},\"xaxis\":{\"gridcolor\":\"white\",\"linecolor\":\"white\",\"ticks\":\"\",\"title\":{\"standoff\":15},\"zerolinecolor\":\"white\",\"automargin\":true,\"zerolinewidth\":2},\"yaxis\":{\"gridcolor\":\"white\",\"linecolor\":\"white\",\"ticks\":\"\",\"title\":{\"standoff\":15},\"zerolinecolor\":\"white\",\"automargin\":true,\"zerolinewidth\":2},\"scene\":{\"xaxis\":{\"backgroundcolor\":\"#E5ECF6\",\"gridcolor\":\"white\",\"linecolor\":\"white\",\"showbackground\":true,\"ticks\":\"\",\"zerolinecolor\":\"white\",\"gridwidth\":2},\"yaxis\":{\"backgroundcolor\":\"#E5ECF6\",\"gridcolor\":\"white\",\"linecolor\":\"white\",\"showbackground\":true,\"ticks\":\"\",\"zerolinecolor\":\"white\",\"gridwidth\":2},\"zaxis\":{\"backgroundcolor\":\"#E5ECF6\",\"gridcolor\":\"white\",\"linecolor\":\"white\",\"showbackground\":true,\"ticks\":\"\",\"zerolinecolor\":\"white\",\"gridwidth\":2}},\"shapedefaults\":{\"line\":{\"color\":\"#2a3f5f\"}},\"annotationdefaults\":{\"arrowcolor\":\"#2a3f5f\",\"arrowhead\":0,\"arrowwidth\":1},\"geo\":{\"bgcolor\":\"white\",\"landcolor\":\"#E5ECF6\",\"subunitcolor\":\"white\",\"showland\":true,\"showlakes\":true,\"lakecolor\":\"white\"},\"title\":{\"x\":0.05},\"mapbox\":{\"style\":\"light\"}}},\"xaxis\":{\"anchor\":\"y\",\"domain\":[0.0,0.3]},\"yaxis\":{\"anchor\":\"x\",\"domain\":[0.8400000000000001,1.0],\"title\":{\"text\":\"Score\"}},\"xaxis2\":{\"anchor\":\"y2\",\"domain\":[0.35,0.6499999999999999]},\"yaxis2\":{\"anchor\":\"x2\",\"domain\":[0.8400000000000001,1.0]},\"xaxis3\":{\"anchor\":\"y3\",\"domain\":[0.7,1.0]},\"yaxis3\":{\"anchor\":\"x3\",\"domain\":[0.8400000000000001,1.0]},\"xaxis4\":{\"anchor\":\"y4\",\"domain\":[0.0,0.3]},\"yaxis4\":{\"anchor\":\"x4\",\"domain\":[0.63,0.79],\"title\":{\"text\":\"Score\"}},\"xaxis5\":{\"anchor\":\"y5\",\"domain\":[0.35,0.6499999999999999]},\"yaxis5\":{\"anchor\":\"x5\",\"domain\":[0.63,0.79]},\"xaxis6\":{\"anchor\":\"y6\",\"domain\":[0.7,1.0]},\"yaxis6\":{\"anchor\":\"x6\",\"domain\":[0.63,0.79]},\"xaxis7\":{\"anchor\":\"y7\",\"domain\":[0.0,0.3]},\"yaxis7\":{\"anchor\":\"x7\",\"domain\":[0.42000000000000004,0.5800000000000001],\"title\":{\"text\":\"Score\"}},\"xaxis8\":{\"anchor\":\"y8\",\"domain\":[0.35,0.6499999999999999]},\"yaxis8\":{\"anchor\":\"x8\",\"domain\":[0.42000000000000004,0.5800000000000001]},\"xaxis9\":{\"anchor\":\"y9\",\"domain\":[0.7,1.0]},\"yaxis9\":{\"anchor\":\"x9\",\"domain\":[0.42000000000000004,0.5800000000000001]},\"xaxis10\":{\"anchor\":\"y10\",\"domain\":[0.0,0.3]},\"yaxis10\":{\"anchor\":\"x10\",\"domain\":[0.21000000000000002,0.37],\"title\":{\"text\":\"Score\"}},\"xaxis11\":{\"anchor\":\"y11\",\"domain\":[0.35,0.6499999999999999]},\"yaxis11\":{\"anchor\":\"x11\",\"domain\":[0.21000000000000002,0.37]},\"xaxis12\":{\"anchor\":\"y12\",\"domain\":[0.7,1.0]},\"yaxis12\":{\"anchor\":\"x12\",\"domain\":[0.21000000000000002,0.37]},\"xaxis13\":{\"anchor\":\"y13\",\"domain\":[0.0,0.3],\"title\":{\"text\":\"Number of Epochs\"}},\"yaxis13\":{\"anchor\":\"x13\",\"domain\":[0.0,0.16],\"title\":{\"text\":\"Score\"}},\"xaxis14\":{\"anchor\":\"y14\",\"domain\":[0.35,0.6499999999999999],\"title\":{\"text\":\"Number of Epochs\"}},\"yaxis14\":{\"anchor\":\"x14\",\"domain\":[0.0,0.16]},\"xaxis15\":{\"anchor\":\"y15\",\"domain\":[0.7,1.0],\"title\":{\"text\":\"Number of Epochs\"}},\"yaxis15\":{\"anchor\":\"x15\",\"domain\":[0.0,0.16]},\"annotations\":[{\"font\":{\"size\":16},\"showarrow\":false,\"text\":\"commonsense - 0.1% Training\",\"x\":0.15,\"xanchor\":\"center\",\"xref\":\"paper\",\"y\":1.0,\"yanchor\":\"bottom\",\"yref\":\"paper\"},{\"font\":{\"size\":16},\"showarrow\":false,\"text\":\"anticommonsense - 0.1% Training\",\"x\":0.49999999999999994,\"xanchor\":\"center\",\"xref\":\"paper\",\"y\":1.0,\"yanchor\":\"bottom\",\"yref\":\"paper\"},{\"font\":{\"size\":16},\"showarrow\":false,\"text\":\"noncommonsense - 0.1% Training\",\"x\":0.85,\"xanchor\":\"center\",\"xref\":\"paper\",\"y\":1.0,\"yanchor\":\"bottom\",\"yref\":\"paper\"},{\"font\":{\"size\":16},\"showarrow\":false,\"text\":\"commonsense - 0.5% Training\",\"x\":0.15,\"xanchor\":\"center\",\"xref\":\"paper\",\"y\":0.79,\"yanchor\":\"bottom\",\"yref\":\"paper\"},{\"font\":{\"size\":16},\"showarrow\":false,\"text\":\"anticommonsense - 0.5% Training\",\"x\":0.49999999999999994,\"xanchor\":\"center\",\"xref\":\"paper\",\"y\":0.79,\"yanchor\":\"bottom\",\"yref\":\"paper\"},{\"font\":{\"size\":16},\"showarrow\":false,\"text\":\"noncommonsense - 0.5% Training\",\"x\":0.85,\"xanchor\":\"center\",\"xref\":\"paper\",\"y\":0.79,\"yanchor\":\"bottom\",\"yref\":\"paper\"},{\"font\":{\"size\":16},\"showarrow\":false,\"text\":\"commonsense - 1.0% Training\",\"x\":0.15,\"xanchor\":\"center\",\"xref\":\"paper\",\"y\":0.5800000000000001,\"yanchor\":\"bottom\",\"yref\":\"paper\"},{\"font\":{\"size\":16},\"showarrow\":false,\"text\":\"anticommonsense - 1.0% Training\",\"x\":0.49999999999999994,\"xanchor\":\"center\",\"xref\":\"paper\",\"y\":0.5800000000000001,\"yanchor\":\"bottom\",\"yref\":\"paper\"},{\"font\":{\"size\":16},\"showarrow\":false,\"text\":\"noncommonsense - 1.0% Training\",\"x\":0.85,\"xanchor\":\"center\",\"xref\":\"paper\",\"y\":0.5800000000000001,\"yanchor\":\"bottom\",\"yref\":\"paper\"},{\"font\":{\"size\":16},\"showarrow\":false,\"text\":\"commonsense - 2.0% Training\",\"x\":0.15,\"xanchor\":\"center\",\"xref\":\"paper\",\"y\":0.37,\"yanchor\":\"bottom\",\"yref\":\"paper\"},{\"font\":{\"size\":16},\"showarrow\":false,\"text\":\"anticommonsense - 2.0% Training\",\"x\":0.49999999999999994,\"xanchor\":\"center\",\"xref\":\"paper\",\"y\":0.37,\"yanchor\":\"bottom\",\"yref\":\"paper\"},{\"font\":{\"size\":16},\"showarrow\":false,\"text\":\"noncommonsense - 2.0% Training\",\"x\":0.85,\"xanchor\":\"center\",\"xref\":\"paper\",\"y\":0.37,\"yanchor\":\"bottom\",\"yref\":\"paper\"},{\"font\":{\"size\":16},\"showarrow\":false,\"text\":\"commonsense - 5.0% Training\",\"x\":0.15,\"xanchor\":\"center\",\"xref\":\"paper\",\"y\":0.16,\"yanchor\":\"bottom\",\"yref\":\"paper\"},{\"font\":{\"size\":16},\"showarrow\":false,\"text\":\"anticommonsense - 5.0% Training\",\"x\":0.49999999999999994,\"xanchor\":\"center\",\"xref\":\"paper\",\"y\":0.16,\"yanchor\":\"bottom\",\"yref\":\"paper\"},{\"font\":{\"size\":16},\"showarrow\":false,\"text\":\"noncommonsense - 5.0% Training\",\"x\":0.85,\"xanchor\":\"center\",\"xref\":\"paper\",\"y\":0.16,\"yanchor\":\"bottom\",\"yref\":\"paper\"}],\"title\":{\"text\":\"Anonymize vs Non-Anonymize Performance Comparison\"},\"margin\":{\"t\":50,\"b\":20,\"l\":20,\"r\":20},\"height\":1000,\"width\":1200,\"legend\":{\"title\":{\"text\":\"Anonymization Setting\"}}},                        {\"responsive\": true}                    ).then(function(){\n",
       "                            \n",
       "var gd = document.getElementById('7f64619b-5a91-4c9e-a044-1774431644ae');\n",
       "var x = new MutationObserver(function (mutations, observer) {{\n",
       "        var display = window.getComputedStyle(gd).display;\n",
       "        if (!display || display === 'none') {{\n",
       "            console.log([gd, 'removed!']);\n",
       "            Plotly.purge(gd);\n",
       "            observer.disconnect();\n",
       "        }}\n",
       "}});\n",
       "\n",
       "// Listen for the removal of the full notebook cells\n",
       "var notebookContainer = gd.closest('#notebook-container');\n",
       "if (notebookContainer) {{\n",
       "    x.observe(notebookContainer, {childList: true});\n",
       "}}\n",
       "\n",
       "// Listen for the clearing of the current output cell\n",
       "var outputEl = gd.closest('.output');\n",
       "if (outputEl) {{\n",
       "    x.observe(outputEl, {childList: true});\n",
       "}}\n",
       "\n",
       "                        })                };                });            </script>        </div>"
      ]
     },
     "metadata": {},
     "output_type": "display_data"
    }
   ],
   "execution_count": 11
  },
  {
   "metadata": {
    "collapsed": true,
    "ExecuteTime": {
     "end_time": "2025-03-25T22:28:30.730931Z",
     "start_time": "2025-03-25T22:28:30.633332Z"
    }
   },
   "cell_type": "code",
   "source": [
    "\n",
    "# Create a simplified single-row comparison for easier viewing\n",
    "def create_simplified_comparison():\n",
    "    # Create one row of plots, one for each test dataset\n",
    "    fig = make_subplots(\n",
    "        rows=1, \n",
    "        cols=len(test_dataset_columns),\n",
    "        subplot_titles=[col.replace('score_', '') for col in test_dataset_columns],\n",
    "        horizontal_spacing=0.1\n",
    "    )\n",
    "    \n",
    "    # Color scheme for different training percentages\n",
    "    colors = px.colors.qualitative.Plotly\n",
    "    \n",
    "    for j, test_col in enumerate(test_dataset_columns):\n",
    "        dataset_name = test_col.replace('score_', '')\n",
    "        \n",
    "        # For each training percentage\n",
    "        for i, pct in enumerate(training_percentages):\n",
    "            # Filter data for this training percentage\n",
    "            df_pct = df[df['percent_train'] == pct]\n",
    "            \n",
    "            # For anonymize=True and anonymize=False\n",
    "            for k, anon in enumerate([True, False]):\n",
    "                df_group = df_pct[df_pct['anonymize'] == anon]\n",
    "                \n",
    "                # Skip if no data for this combination\n",
    "                if len(df_group) == 0:\n",
    "                    continue\n",
    "                \n",
    "                # Get average scores for each epoch\n",
    "                epoch_scores = df_group.groupby('num_epochs')[test_col].mean().reset_index()\n",
    "                \n",
    "                # Add line to plot\n",
    "                fig.add_trace(\n",
    "                    go.Scatter(\n",
    "                        x=epoch_scores['num_epochs'],\n",
    "                        y=epoch_scores[test_col],\n",
    "                        mode='lines+markers',\n",
    "                        name=f\"{pct*100}% Train, Anon={anon}\",\n",
    "                        line=dict(\n",
    "                            color=colors[i % len(colors)],\n",
    "                            dash='dash' if anon else 'solid'\n",
    "                        ),\n",
    "                    ),\n",
    "                    row=1, col=j+1\n",
    "                )\n",
    "            \n",
    "            # Update axis labels\n",
    "            fig.update_xaxes(title_text=\"Number of Epochs\", row=1, col=j+1)\n",
    "            if j == 0:\n",
    "                fig.update_yaxes(title_text=\"Score\", row=1, col=j+1)\n",
    "    \n",
    "    # Update layout\n",
    "    fig.update_layout(\n",
    "        height=500,\n",
    "        width=350*len(test_dataset_columns),\n",
    "        title_text=\"Anonymize vs Non-Anonymize Performance Comparison\",\n",
    "        legend=dict(\n",
    "            orientation=\"h\",\n",
    "            yanchor=\"bottom\",\n",
    "            y=-0.3,\n",
    "            xanchor=\"center\",\n",
    "            x=0.5\n",
    "        ),\n",
    "        margin=dict(b=100)\n",
    "    )\n",
    "    \n",
    "    return fig\n",
    "\n",
    "# Create and display the simplified comparison\n",
    "simple_fig = create_simplified_comparison()\n",
    "simple_fig.show()"
   ],
   "id": "initial_id",
   "outputs": [
    {
     "data": {
      "application/vnd.plotly.v1+json": {
       "data": [
        {
         "line": {
          "color": "#636EFA",
          "dash": "dash"
         },
         "mode": "lines+markers",
         "name": "1.0% Train, Anon=True",
         "x": [
          1,
          2,
          4,
          8,
          16,
          32
         ],
         "y": [
          50.435,
          52.305,
          55.095,
          60.915,
          65.67,
          69.47
         ],
         "type": "scatter",
         "xaxis": "x",
         "yaxis": "y"
        },
        {
         "line": {
          "color": "#636EFA",
          "dash": "solid"
         },
         "mode": "lines+markers",
         "name": "1.0% Train, Anon=False",
         "x": [
          1,
          2,
          4,
          8,
          16,
          32
         ],
         "y": [
          27.455,
          42.26,
          53.845,
          53.75,
          63.605000000000004,
          67.07
         ],
         "type": "scatter",
         "xaxis": "x",
         "yaxis": "y"
        },
        {
         "line": {
          "color": "#EF553B",
          "dash": "dash"
         },
         "mode": "lines+markers",
         "name": "2.0% Train, Anon=True",
         "x": [
          1,
          2,
          4,
          8,
          16,
          32
         ],
         "y": [
          50.625,
          53.989999999999995,
          61.345,
          62.5,
          72.015,
          75.53
         ],
         "type": "scatter",
         "xaxis": "x",
         "yaxis": "y"
        },
        {
         "line": {
          "color": "#EF553B",
          "dash": "solid"
         },
         "mode": "lines+markers",
         "name": "2.0% Train, Anon=False",
         "x": [
          1,
          2,
          4,
          8,
          16,
          32
         ],
         "y": [
          44.95,
          52.885000000000005,
          58.269999999999996,
          65.33500000000001,
          71.25,
          72.98
         ],
         "type": "scatter",
         "xaxis": "x",
         "yaxis": "y"
        },
        {
         "line": {
          "color": "#00CC96",
          "dash": "dash"
         },
         "mode": "lines+markers",
         "name": "5.0% Train, Anon=True",
         "x": [
          1,
          2,
          4,
          8,
          16,
          32
         ],
         "y": [
          54.040000000000006,
          54.95,
          63.075,
          76.345,
          84.375,
          84.95
         ],
         "type": "scatter",
         "xaxis": "x",
         "yaxis": "y"
        },
        {
         "line": {
          "color": "#00CC96",
          "dash": "solid"
         },
         "mode": "lines+markers",
         "name": "5.0% Train, Anon=False",
         "x": [
          1,
          2,
          4,
          8,
          16,
          32
         ],
         "y": [
          56.875,
          59.42,
          66.92500000000001,
          78.27,
          88.36500000000001,
          88.17500000000001
         ],
         "type": "scatter",
         "xaxis": "x",
         "yaxis": "y"
        },
        {
         "line": {
          "color": "#636EFA",
          "dash": "dash"
         },
         "mode": "lines+markers",
         "name": "1.0% Train, Anon=True",
         "x": [
          1,
          2,
          4,
          8,
          16,
          32
         ],
         "y": [
          51.535,
          49.230000000000004,
          50.865,
          59.565,
          64.28,
          68.895
         ],
         "type": "scatter",
         "xaxis": "x2",
         "yaxis": "y2"
        },
        {
         "line": {
          "color": "#636EFA",
          "dash": "solid"
         },
         "mode": "lines+markers",
         "name": "1.0% Train, Anon=False",
         "x": [
          1,
          2,
          4,
          8,
          16,
          32
         ],
         "y": [
          26.104999999999997,
          38.705,
          52.885,
          54.855000000000004,
          63.555,
          66.925
         ],
         "type": "scatter",
         "xaxis": "x2",
         "yaxis": "y2"
        },
        {
         "line": {
          "color": "#EF553B",
          "dash": "dash"
         },
         "mode": "lines+markers",
         "name": "2.0% Train, Anon=True",
         "x": [
          1,
          2,
          4,
          8,
          16,
          32
         ],
         "y": [
          49.13,
          54.81,
          58.46,
          61.875,
          71.10499999999999,
          75.625
         ],
         "type": "scatter",
         "xaxis": "x2",
         "yaxis": "y2"
        },
        {
         "line": {
          "color": "#EF553B",
          "dash": "solid"
         },
         "mode": "lines+markers",
         "name": "2.0% Train, Anon=False",
         "x": [
          1,
          2,
          4,
          8,
          16,
          32
         ],
         "y": [
          45.24,
          52.355000000000004,
          58.125,
          67.21000000000001,
          70.91499999999999,
          74.135
         ],
         "type": "scatter",
         "xaxis": "x2",
         "yaxis": "y2"
        },
        {
         "line": {
          "color": "#00CC96",
          "dash": "dash"
         },
         "mode": "lines+markers",
         "name": "5.0% Train, Anon=True",
         "x": [
          1,
          2,
          4,
          8,
          16,
          32
         ],
         "y": [
          54.855000000000004,
          55.334999999999994,
          63.41,
          76.73,
          84.95500000000001,
          85.725
         ],
         "type": "scatter",
         "xaxis": "x2",
         "yaxis": "y2"
        },
        {
         "line": {
          "color": "#00CC96",
          "dash": "solid"
         },
         "mode": "lines+markers",
         "name": "5.0% Train, Anon=False",
         "x": [
          1,
          2,
          4,
          8,
          16,
          32
         ],
         "y": [
          54.665,
          59.76,
          65.05,
          77.64500000000001,
          88.50999999999999,
          88.94
         ],
         "type": "scatter",
         "xaxis": "x2",
         "yaxis": "y2"
        },
        {
         "line": {
          "color": "#636EFA",
          "dash": "dash"
         },
         "mode": "lines+markers",
         "name": "1.0% Train, Anon=True",
         "x": [
          1,
          2,
          4,
          8,
          16,
          32
         ],
         "y": [
          50.05,
          53.32,
          53.81,
          61.230000000000004,
          63.77,
          68.405
         ],
         "type": "scatter",
         "xaxis": "x3",
         "yaxis": "y3"
        },
        {
         "line": {
          "color": "#636EFA",
          "dash": "solid"
         },
         "mode": "lines+markers",
         "name": "1.0% Train, Anon=False",
         "x": [
          1,
          2,
          4,
          8,
          16,
          32
         ],
         "y": [
          27.93,
          33.205,
          50.195,
          49.215,
          57.614999999999995,
          59.62
         ],
         "type": "scatter",
         "xaxis": "x3",
         "yaxis": "y3"
        },
        {
         "line": {
          "color": "#EF553B",
          "dash": "dash"
         },
         "mode": "lines+markers",
         "name": "2.0% Train, Anon=True",
         "x": [
          1,
          2,
          4,
          8,
          16,
          32
         ],
         "y": [
          50.144999999999996,
          55.47,
          59.175,
          62.5,
          71.14,
          72.95
         ],
         "type": "scatter",
         "xaxis": "x3",
         "yaxis": "y3"
        },
        {
         "line": {
          "color": "#EF553B",
          "dash": "solid"
         },
         "mode": "lines+markers",
         "name": "2.0% Train, Anon=False",
         "x": [
          1,
          2,
          4,
          8,
          16,
          32
         ],
         "y": [
          44.045,
          47.215,
          54.245000000000005,
          59.864999999999995,
          65.14,
          67.04
         ],
         "type": "scatter",
         "xaxis": "x3",
         "yaxis": "y3"
        },
        {
         "line": {
          "color": "#00CC96",
          "dash": "dash"
         },
         "mode": "lines+markers",
         "name": "5.0% Train, Anon=True",
         "x": [
          1,
          2,
          4,
          8,
          16,
          32
         ],
         "y": [
          53.760000000000005,
          57.275,
          62.599999999999994,
          73.73,
          79.055,
          82.76
         ],
         "type": "scatter",
         "xaxis": "x3",
         "yaxis": "y3"
        },
        {
         "line": {
          "color": "#00CC96",
          "dash": "solid"
         },
         "mode": "lines+markers",
         "name": "5.0% Train, Anon=False",
         "x": [
          1,
          2,
          4,
          8,
          16,
          32
         ],
         "y": [
          54.735,
          57.03,
          61.035,
          71.435,
          80.75999999999999,
          82.66499999999999
         ],
         "type": "scatter",
         "xaxis": "x3",
         "yaxis": "y3"
        }
       ],
       "layout": {
        "template": {
         "data": {
          "histogram2dcontour": [
           {
            "type": "histogram2dcontour",
            "colorbar": {
             "outlinewidth": 0,
             "ticks": ""
            },
            "colorscale": [
             [
              0.0,
              "#0d0887"
             ],
             [
              0.1111111111111111,
              "#46039f"
             ],
             [
              0.2222222222222222,
              "#7201a8"
             ],
             [
              0.3333333333333333,
              "#9c179e"
             ],
             [
              0.4444444444444444,
              "#bd3786"
             ],
             [
              0.5555555555555556,
              "#d8576b"
             ],
             [
              0.6666666666666666,
              "#ed7953"
             ],
             [
              0.7777777777777778,
              "#fb9f3a"
             ],
             [
              0.8888888888888888,
              "#fdca26"
             ],
             [
              1.0,
              "#f0f921"
             ]
            ]
           }
          ],
          "choropleth": [
           {
            "type": "choropleth",
            "colorbar": {
             "outlinewidth": 0,
             "ticks": ""
            }
           }
          ],
          "histogram2d": [
           {
            "type": "histogram2d",
            "colorbar": {
             "outlinewidth": 0,
             "ticks": ""
            },
            "colorscale": [
             [
              0.0,
              "#0d0887"
             ],
             [
              0.1111111111111111,
              "#46039f"
             ],
             [
              0.2222222222222222,
              "#7201a8"
             ],
             [
              0.3333333333333333,
              "#9c179e"
             ],
             [
              0.4444444444444444,
              "#bd3786"
             ],
             [
              0.5555555555555556,
              "#d8576b"
             ],
             [
              0.6666666666666666,
              "#ed7953"
             ],
             [
              0.7777777777777778,
              "#fb9f3a"
             ],
             [
              0.8888888888888888,
              "#fdca26"
             ],
             [
              1.0,
              "#f0f921"
             ]
            ]
           }
          ],
          "heatmap": [
           {
            "type": "heatmap",
            "colorbar": {
             "outlinewidth": 0,
             "ticks": ""
            },
            "colorscale": [
             [
              0.0,
              "#0d0887"
             ],
             [
              0.1111111111111111,
              "#46039f"
             ],
             [
              0.2222222222222222,
              "#7201a8"
             ],
             [
              0.3333333333333333,
              "#9c179e"
             ],
             [
              0.4444444444444444,
              "#bd3786"
             ],
             [
              0.5555555555555556,
              "#d8576b"
             ],
             [
              0.6666666666666666,
              "#ed7953"
             ],
             [
              0.7777777777777778,
              "#fb9f3a"
             ],
             [
              0.8888888888888888,
              "#fdca26"
             ],
             [
              1.0,
              "#f0f921"
             ]
            ]
           }
          ],
          "heatmapgl": [
           {
            "type": "heatmapgl",
            "colorbar": {
             "outlinewidth": 0,
             "ticks": ""
            },
            "colorscale": [
             [
              0.0,
              "#0d0887"
             ],
             [
              0.1111111111111111,
              "#46039f"
             ],
             [
              0.2222222222222222,
              "#7201a8"
             ],
             [
              0.3333333333333333,
              "#9c179e"
             ],
             [
              0.4444444444444444,
              "#bd3786"
             ],
             [
              0.5555555555555556,
              "#d8576b"
             ],
             [
              0.6666666666666666,
              "#ed7953"
             ],
             [
              0.7777777777777778,
              "#fb9f3a"
             ],
             [
              0.8888888888888888,
              "#fdca26"
             ],
             [
              1.0,
              "#f0f921"
             ]
            ]
           }
          ],
          "contourcarpet": [
           {
            "type": "contourcarpet",
            "colorbar": {
             "outlinewidth": 0,
             "ticks": ""
            }
           }
          ],
          "contour": [
           {
            "type": "contour",
            "colorbar": {
             "outlinewidth": 0,
             "ticks": ""
            },
            "colorscale": [
             [
              0.0,
              "#0d0887"
             ],
             [
              0.1111111111111111,
              "#46039f"
             ],
             [
              0.2222222222222222,
              "#7201a8"
             ],
             [
              0.3333333333333333,
              "#9c179e"
             ],
             [
              0.4444444444444444,
              "#bd3786"
             ],
             [
              0.5555555555555556,
              "#d8576b"
             ],
             [
              0.6666666666666666,
              "#ed7953"
             ],
             [
              0.7777777777777778,
              "#fb9f3a"
             ],
             [
              0.8888888888888888,
              "#fdca26"
             ],
             [
              1.0,
              "#f0f921"
             ]
            ]
           }
          ],
          "surface": [
           {
            "type": "surface",
            "colorbar": {
             "outlinewidth": 0,
             "ticks": ""
            },
            "colorscale": [
             [
              0.0,
              "#0d0887"
             ],
             [
              0.1111111111111111,
              "#46039f"
             ],
             [
              0.2222222222222222,
              "#7201a8"
             ],
             [
              0.3333333333333333,
              "#9c179e"
             ],
             [
              0.4444444444444444,
              "#bd3786"
             ],
             [
              0.5555555555555556,
              "#d8576b"
             ],
             [
              0.6666666666666666,
              "#ed7953"
             ],
             [
              0.7777777777777778,
              "#fb9f3a"
             ],
             [
              0.8888888888888888,
              "#fdca26"
             ],
             [
              1.0,
              "#f0f921"
             ]
            ]
           }
          ],
          "mesh3d": [
           {
            "type": "mesh3d",
            "colorbar": {
             "outlinewidth": 0,
             "ticks": ""
            }
           }
          ],
          "scatter": [
           {
            "fillpattern": {
             "fillmode": "overlay",
             "size": 10,
             "solidity": 0.2
            },
            "type": "scatter"
           }
          ],
          "parcoords": [
           {
            "type": "parcoords",
            "line": {
             "colorbar": {
              "outlinewidth": 0,
              "ticks": ""
             }
            }
           }
          ],
          "scatterpolargl": [
           {
            "type": "scatterpolargl",
            "marker": {
             "colorbar": {
              "outlinewidth": 0,
              "ticks": ""
             }
            }
           }
          ],
          "bar": [
           {
            "error_x": {
             "color": "#2a3f5f"
            },
            "error_y": {
             "color": "#2a3f5f"
            },
            "marker": {
             "line": {
              "color": "#E5ECF6",
              "width": 0.5
             },
             "pattern": {
              "fillmode": "overlay",
              "size": 10,
              "solidity": 0.2
             }
            },
            "type": "bar"
           }
          ],
          "scattergeo": [
           {
            "type": "scattergeo",
            "marker": {
             "colorbar": {
              "outlinewidth": 0,
              "ticks": ""
             }
            }
           }
          ],
          "scatterpolar": [
           {
            "type": "scatterpolar",
            "marker": {
             "colorbar": {
              "outlinewidth": 0,
              "ticks": ""
             }
            }
           }
          ],
          "histogram": [
           {
            "marker": {
             "pattern": {
              "fillmode": "overlay",
              "size": 10,
              "solidity": 0.2
             }
            },
            "type": "histogram"
           }
          ],
          "scattergl": [
           {
            "type": "scattergl",
            "marker": {
             "colorbar": {
              "outlinewidth": 0,
              "ticks": ""
             }
            }
           }
          ],
          "scatter3d": [
           {
            "type": "scatter3d",
            "line": {
             "colorbar": {
              "outlinewidth": 0,
              "ticks": ""
             }
            },
            "marker": {
             "colorbar": {
              "outlinewidth": 0,
              "ticks": ""
             }
            }
           }
          ],
          "scattermapbox": [
           {
            "type": "scattermapbox",
            "marker": {
             "colorbar": {
              "outlinewidth": 0,
              "ticks": ""
             }
            }
           }
          ],
          "scatterternary": [
           {
            "type": "scatterternary",
            "marker": {
             "colorbar": {
              "outlinewidth": 0,
              "ticks": ""
             }
            }
           }
          ],
          "scattercarpet": [
           {
            "type": "scattercarpet",
            "marker": {
             "colorbar": {
              "outlinewidth": 0,
              "ticks": ""
             }
            }
           }
          ],
          "carpet": [
           {
            "aaxis": {
             "endlinecolor": "#2a3f5f",
             "gridcolor": "white",
             "linecolor": "white",
             "minorgridcolor": "white",
             "startlinecolor": "#2a3f5f"
            },
            "baxis": {
             "endlinecolor": "#2a3f5f",
             "gridcolor": "white",
             "linecolor": "white",
             "minorgridcolor": "white",
             "startlinecolor": "#2a3f5f"
            },
            "type": "carpet"
           }
          ],
          "table": [
           {
            "cells": {
             "fill": {
              "color": "#EBF0F8"
             },
             "line": {
              "color": "white"
             }
            },
            "header": {
             "fill": {
              "color": "#C8D4E3"
             },
             "line": {
              "color": "white"
             }
            },
            "type": "table"
           }
          ],
          "barpolar": [
           {
            "marker": {
             "line": {
              "color": "#E5ECF6",
              "width": 0.5
             },
             "pattern": {
              "fillmode": "overlay",
              "size": 10,
              "solidity": 0.2
             }
            },
            "type": "barpolar"
           }
          ],
          "pie": [
           {
            "automargin": true,
            "type": "pie"
           }
          ]
         },
         "layout": {
          "autotypenumbers": "strict",
          "colorway": [
           "#636efa",
           "#EF553B",
           "#00cc96",
           "#ab63fa",
           "#FFA15A",
           "#19d3f3",
           "#FF6692",
           "#B6E880",
           "#FF97FF",
           "#FECB52"
          ],
          "font": {
           "color": "#2a3f5f"
          },
          "hovermode": "closest",
          "hoverlabel": {
           "align": "left"
          },
          "paper_bgcolor": "white",
          "plot_bgcolor": "#E5ECF6",
          "polar": {
           "bgcolor": "#E5ECF6",
           "angularaxis": {
            "gridcolor": "white",
            "linecolor": "white",
            "ticks": ""
           },
           "radialaxis": {
            "gridcolor": "white",
            "linecolor": "white",
            "ticks": ""
           }
          },
          "ternary": {
           "bgcolor": "#E5ECF6",
           "aaxis": {
            "gridcolor": "white",
            "linecolor": "white",
            "ticks": ""
           },
           "baxis": {
            "gridcolor": "white",
            "linecolor": "white",
            "ticks": ""
           },
           "caxis": {
            "gridcolor": "white",
            "linecolor": "white",
            "ticks": ""
           }
          },
          "coloraxis": {
           "colorbar": {
            "outlinewidth": 0,
            "ticks": ""
           }
          },
          "colorscale": {
           "sequential": [
            [
             0.0,
             "#0d0887"
            ],
            [
             0.1111111111111111,
             "#46039f"
            ],
            [
             0.2222222222222222,
             "#7201a8"
            ],
            [
             0.3333333333333333,
             "#9c179e"
            ],
            [
             0.4444444444444444,
             "#bd3786"
            ],
            [
             0.5555555555555556,
             "#d8576b"
            ],
            [
             0.6666666666666666,
             "#ed7953"
            ],
            [
             0.7777777777777778,
             "#fb9f3a"
            ],
            [
             0.8888888888888888,
             "#fdca26"
            ],
            [
             1.0,
             "#f0f921"
            ]
           ],
           "sequentialminus": [
            [
             0.0,
             "#0d0887"
            ],
            [
             0.1111111111111111,
             "#46039f"
            ],
            [
             0.2222222222222222,
             "#7201a8"
            ],
            [
             0.3333333333333333,
             "#9c179e"
            ],
            [
             0.4444444444444444,
             "#bd3786"
            ],
            [
             0.5555555555555556,
             "#d8576b"
            ],
            [
             0.6666666666666666,
             "#ed7953"
            ],
            [
             0.7777777777777778,
             "#fb9f3a"
            ],
            [
             0.8888888888888888,
             "#fdca26"
            ],
            [
             1.0,
             "#f0f921"
            ]
           ],
           "diverging": [
            [
             0,
             "#8e0152"
            ],
            [
             0.1,
             "#c51b7d"
            ],
            [
             0.2,
             "#de77ae"
            ],
            [
             0.3,
             "#f1b6da"
            ],
            [
             0.4,
             "#fde0ef"
            ],
            [
             0.5,
             "#f7f7f7"
            ],
            [
             0.6,
             "#e6f5d0"
            ],
            [
             0.7,
             "#b8e186"
            ],
            [
             0.8,
             "#7fbc41"
            ],
            [
             0.9,
             "#4d9221"
            ],
            [
             1,
             "#276419"
            ]
           ]
          },
          "xaxis": {
           "gridcolor": "white",
           "linecolor": "white",
           "ticks": "",
           "title": {
            "standoff": 15
           },
           "zerolinecolor": "white",
           "automargin": true,
           "zerolinewidth": 2
          },
          "yaxis": {
           "gridcolor": "white",
           "linecolor": "white",
           "ticks": "",
           "title": {
            "standoff": 15
           },
           "zerolinecolor": "white",
           "automargin": true,
           "zerolinewidth": 2
          },
          "scene": {
           "xaxis": {
            "backgroundcolor": "#E5ECF6",
            "gridcolor": "white",
            "linecolor": "white",
            "showbackground": true,
            "ticks": "",
            "zerolinecolor": "white",
            "gridwidth": 2
           },
           "yaxis": {
            "backgroundcolor": "#E5ECF6",
            "gridcolor": "white",
            "linecolor": "white",
            "showbackground": true,
            "ticks": "",
            "zerolinecolor": "white",
            "gridwidth": 2
           },
           "zaxis": {
            "backgroundcolor": "#E5ECF6",
            "gridcolor": "white",
            "linecolor": "white",
            "showbackground": true,
            "ticks": "",
            "zerolinecolor": "white",
            "gridwidth": 2
           }
          },
          "shapedefaults": {
           "line": {
            "color": "#2a3f5f"
           }
          },
          "annotationdefaults": {
           "arrowcolor": "#2a3f5f",
           "arrowhead": 0,
           "arrowwidth": 1
          },
          "geo": {
           "bgcolor": "white",
           "landcolor": "#E5ECF6",
           "subunitcolor": "white",
           "showland": true,
           "showlakes": true,
           "lakecolor": "white"
          },
          "title": {
           "x": 0.05
          },
          "mapbox": {
           "style": "light"
          }
         }
        },
        "xaxis": {
         "anchor": "y",
         "domain": [
          0.0,
          0.26666666666666666
         ],
         "title": {
          "text": "Number of Epochs"
         }
        },
        "yaxis": {
         "anchor": "x",
         "domain": [
          0.0,
          1.0
         ],
         "title": {
          "text": "Score"
         }
        },
        "xaxis2": {
         "anchor": "y2",
         "domain": [
          0.3666666666666667,
          0.6333333333333333
         ],
         "title": {
          "text": "Number of Epochs"
         }
        },
        "yaxis2": {
         "anchor": "x2",
         "domain": [
          0.0,
          1.0
         ]
        },
        "xaxis3": {
         "anchor": "y3",
         "domain": [
          0.7333333333333334,
          1.0
         ],
         "title": {
          "text": "Number of Epochs"
         }
        },
        "yaxis3": {
         "anchor": "x3",
         "domain": [
          0.0,
          1.0
         ]
        },
        "annotations": [
         {
          "font": {
           "size": 16
          },
          "showarrow": false,
          "text": "commonsense",
          "x": 0.13333333333333333,
          "xanchor": "center",
          "xref": "paper",
          "y": 1.0,
          "yanchor": "bottom",
          "yref": "paper"
         },
         {
          "font": {
           "size": 16
          },
          "showarrow": false,
          "text": "anticommonsense",
          "x": 0.5,
          "xanchor": "center",
          "xref": "paper",
          "y": 1.0,
          "yanchor": "bottom",
          "yref": "paper"
         },
         {
          "font": {
           "size": 16
          },
          "showarrow": false,
          "text": "noncommonsense",
          "x": 0.8666666666666667,
          "xanchor": "center",
          "xref": "paper",
          "y": 1.0,
          "yanchor": "bottom",
          "yref": "paper"
         }
        ],
        "title": {
         "text": "Anonymize vs Non-Anonymize Performance Comparison"
        },
        "legend": {
         "orientation": "h",
         "yanchor": "bottom",
         "y": -0.3,
         "xanchor": "center",
         "x": 0.5
        },
        "margin": {
         "b": 100
        },
        "height": 500,
        "width": 1050
       },
       "config": {
        "plotlyServerURL": "https://plot.ly"
       }
      },
      "text/html": [
       "<div>                            <div id=\"7ef2bfb9-ac10-42d3-8ecc-3b97888ddded\" class=\"plotly-graph-div\" style=\"height:500px; width:1050px;\"></div>            <script type=\"text/javascript\">                require([\"plotly\"], function(Plotly) {                    window.PLOTLYENV=window.PLOTLYENV || {};                                    if (document.getElementById(\"7ef2bfb9-ac10-42d3-8ecc-3b97888ddded\")) {                    Plotly.newPlot(                        \"7ef2bfb9-ac10-42d3-8ecc-3b97888ddded\",                        [{\"line\":{\"color\":\"#636EFA\",\"dash\":\"dash\"},\"mode\":\"lines+markers\",\"name\":\"1.0% Train, Anon=True\",\"x\":[1,2,4,8,16,32],\"y\":[50.435,52.305,55.095,60.915,65.67,69.47],\"type\":\"scatter\",\"xaxis\":\"x\",\"yaxis\":\"y\"},{\"line\":{\"color\":\"#636EFA\",\"dash\":\"solid\"},\"mode\":\"lines+markers\",\"name\":\"1.0% Train, Anon=False\",\"x\":[1,2,4,8,16,32],\"y\":[27.455,42.26,53.845,53.75,63.605000000000004,67.07],\"type\":\"scatter\",\"xaxis\":\"x\",\"yaxis\":\"y\"},{\"line\":{\"color\":\"#EF553B\",\"dash\":\"dash\"},\"mode\":\"lines+markers\",\"name\":\"2.0% Train, Anon=True\",\"x\":[1,2,4,8,16,32],\"y\":[50.625,53.989999999999995,61.345,62.5,72.015,75.53],\"type\":\"scatter\",\"xaxis\":\"x\",\"yaxis\":\"y\"},{\"line\":{\"color\":\"#EF553B\",\"dash\":\"solid\"},\"mode\":\"lines+markers\",\"name\":\"2.0% Train, Anon=False\",\"x\":[1,2,4,8,16,32],\"y\":[44.95,52.885000000000005,58.269999999999996,65.33500000000001,71.25,72.98],\"type\":\"scatter\",\"xaxis\":\"x\",\"yaxis\":\"y\"},{\"line\":{\"color\":\"#00CC96\",\"dash\":\"dash\"},\"mode\":\"lines+markers\",\"name\":\"5.0% Train, Anon=True\",\"x\":[1,2,4,8,16,32],\"y\":[54.040000000000006,54.95,63.075,76.345,84.375,84.95],\"type\":\"scatter\",\"xaxis\":\"x\",\"yaxis\":\"y\"},{\"line\":{\"color\":\"#00CC96\",\"dash\":\"solid\"},\"mode\":\"lines+markers\",\"name\":\"5.0% Train, Anon=False\",\"x\":[1,2,4,8,16,32],\"y\":[56.875,59.42,66.92500000000001,78.27,88.36500000000001,88.17500000000001],\"type\":\"scatter\",\"xaxis\":\"x\",\"yaxis\":\"y\"},{\"line\":{\"color\":\"#636EFA\",\"dash\":\"dash\"},\"mode\":\"lines+markers\",\"name\":\"1.0% Train, Anon=True\",\"x\":[1,2,4,8,16,32],\"y\":[51.535,49.230000000000004,50.865,59.565,64.28,68.895],\"type\":\"scatter\",\"xaxis\":\"x2\",\"yaxis\":\"y2\"},{\"line\":{\"color\":\"#636EFA\",\"dash\":\"solid\"},\"mode\":\"lines+markers\",\"name\":\"1.0% Train, Anon=False\",\"x\":[1,2,4,8,16,32],\"y\":[26.104999999999997,38.705,52.885,54.855000000000004,63.555,66.925],\"type\":\"scatter\",\"xaxis\":\"x2\",\"yaxis\":\"y2\"},{\"line\":{\"color\":\"#EF553B\",\"dash\":\"dash\"},\"mode\":\"lines+markers\",\"name\":\"2.0% Train, Anon=True\",\"x\":[1,2,4,8,16,32],\"y\":[49.13,54.81,58.46,61.875,71.10499999999999,75.625],\"type\":\"scatter\",\"xaxis\":\"x2\",\"yaxis\":\"y2\"},{\"line\":{\"color\":\"#EF553B\",\"dash\":\"solid\"},\"mode\":\"lines+markers\",\"name\":\"2.0% Train, Anon=False\",\"x\":[1,2,4,8,16,32],\"y\":[45.24,52.355000000000004,58.125,67.21000000000001,70.91499999999999,74.135],\"type\":\"scatter\",\"xaxis\":\"x2\",\"yaxis\":\"y2\"},{\"line\":{\"color\":\"#00CC96\",\"dash\":\"dash\"},\"mode\":\"lines+markers\",\"name\":\"5.0% Train, Anon=True\",\"x\":[1,2,4,8,16,32],\"y\":[54.855000000000004,55.334999999999994,63.41,76.73,84.95500000000001,85.725],\"type\":\"scatter\",\"xaxis\":\"x2\",\"yaxis\":\"y2\"},{\"line\":{\"color\":\"#00CC96\",\"dash\":\"solid\"},\"mode\":\"lines+markers\",\"name\":\"5.0% Train, Anon=False\",\"x\":[1,2,4,8,16,32],\"y\":[54.665,59.76,65.05,77.64500000000001,88.50999999999999,88.94],\"type\":\"scatter\",\"xaxis\":\"x2\",\"yaxis\":\"y2\"},{\"line\":{\"color\":\"#636EFA\",\"dash\":\"dash\"},\"mode\":\"lines+markers\",\"name\":\"1.0% Train, Anon=True\",\"x\":[1,2,4,8,16,32],\"y\":[50.05,53.32,53.81,61.230000000000004,63.77,68.405],\"type\":\"scatter\",\"xaxis\":\"x3\",\"yaxis\":\"y3\"},{\"line\":{\"color\":\"#636EFA\",\"dash\":\"solid\"},\"mode\":\"lines+markers\",\"name\":\"1.0% Train, Anon=False\",\"x\":[1,2,4,8,16,32],\"y\":[27.93,33.205,50.195,49.215,57.614999999999995,59.62],\"type\":\"scatter\",\"xaxis\":\"x3\",\"yaxis\":\"y3\"},{\"line\":{\"color\":\"#EF553B\",\"dash\":\"dash\"},\"mode\":\"lines+markers\",\"name\":\"2.0% Train, Anon=True\",\"x\":[1,2,4,8,16,32],\"y\":[50.144999999999996,55.47,59.175,62.5,71.14,72.95],\"type\":\"scatter\",\"xaxis\":\"x3\",\"yaxis\":\"y3\"},{\"line\":{\"color\":\"#EF553B\",\"dash\":\"solid\"},\"mode\":\"lines+markers\",\"name\":\"2.0% Train, Anon=False\",\"x\":[1,2,4,8,16,32],\"y\":[44.045,47.215,54.245000000000005,59.864999999999995,65.14,67.04],\"type\":\"scatter\",\"xaxis\":\"x3\",\"yaxis\":\"y3\"},{\"line\":{\"color\":\"#00CC96\",\"dash\":\"dash\"},\"mode\":\"lines+markers\",\"name\":\"5.0% Train, Anon=True\",\"x\":[1,2,4,8,16,32],\"y\":[53.760000000000005,57.275,62.599999999999994,73.73,79.055,82.76],\"type\":\"scatter\",\"xaxis\":\"x3\",\"yaxis\":\"y3\"},{\"line\":{\"color\":\"#00CC96\",\"dash\":\"solid\"},\"mode\":\"lines+markers\",\"name\":\"5.0% Train, Anon=False\",\"x\":[1,2,4,8,16,32],\"y\":[54.735,57.03,61.035,71.435,80.75999999999999,82.66499999999999],\"type\":\"scatter\",\"xaxis\":\"x3\",\"yaxis\":\"y3\"}],                        {\"template\":{\"data\":{\"histogram2dcontour\":[{\"type\":\"histogram2dcontour\",\"colorbar\":{\"outlinewidth\":0,\"ticks\":\"\"},\"colorscale\":[[0.0,\"#0d0887\"],[0.1111111111111111,\"#46039f\"],[0.2222222222222222,\"#7201a8\"],[0.3333333333333333,\"#9c179e\"],[0.4444444444444444,\"#bd3786\"],[0.5555555555555556,\"#d8576b\"],[0.6666666666666666,\"#ed7953\"],[0.7777777777777778,\"#fb9f3a\"],[0.8888888888888888,\"#fdca26\"],[1.0,\"#f0f921\"]]}],\"choropleth\":[{\"type\":\"choropleth\",\"colorbar\":{\"outlinewidth\":0,\"ticks\":\"\"}}],\"histogram2d\":[{\"type\":\"histogram2d\",\"colorbar\":{\"outlinewidth\":0,\"ticks\":\"\"},\"colorscale\":[[0.0,\"#0d0887\"],[0.1111111111111111,\"#46039f\"],[0.2222222222222222,\"#7201a8\"],[0.3333333333333333,\"#9c179e\"],[0.4444444444444444,\"#bd3786\"],[0.5555555555555556,\"#d8576b\"],[0.6666666666666666,\"#ed7953\"],[0.7777777777777778,\"#fb9f3a\"],[0.8888888888888888,\"#fdca26\"],[1.0,\"#f0f921\"]]}],\"heatmap\":[{\"type\":\"heatmap\",\"colorbar\":{\"outlinewidth\":0,\"ticks\":\"\"},\"colorscale\":[[0.0,\"#0d0887\"],[0.1111111111111111,\"#46039f\"],[0.2222222222222222,\"#7201a8\"],[0.3333333333333333,\"#9c179e\"],[0.4444444444444444,\"#bd3786\"],[0.5555555555555556,\"#d8576b\"],[0.6666666666666666,\"#ed7953\"],[0.7777777777777778,\"#fb9f3a\"],[0.8888888888888888,\"#fdca26\"],[1.0,\"#f0f921\"]]}],\"heatmapgl\":[{\"type\":\"heatmapgl\",\"colorbar\":{\"outlinewidth\":0,\"ticks\":\"\"},\"colorscale\":[[0.0,\"#0d0887\"],[0.1111111111111111,\"#46039f\"],[0.2222222222222222,\"#7201a8\"],[0.3333333333333333,\"#9c179e\"],[0.4444444444444444,\"#bd3786\"],[0.5555555555555556,\"#d8576b\"],[0.6666666666666666,\"#ed7953\"],[0.7777777777777778,\"#fb9f3a\"],[0.8888888888888888,\"#fdca26\"],[1.0,\"#f0f921\"]]}],\"contourcarpet\":[{\"type\":\"contourcarpet\",\"colorbar\":{\"outlinewidth\":0,\"ticks\":\"\"}}],\"contour\":[{\"type\":\"contour\",\"colorbar\":{\"outlinewidth\":0,\"ticks\":\"\"},\"colorscale\":[[0.0,\"#0d0887\"],[0.1111111111111111,\"#46039f\"],[0.2222222222222222,\"#7201a8\"],[0.3333333333333333,\"#9c179e\"],[0.4444444444444444,\"#bd3786\"],[0.5555555555555556,\"#d8576b\"],[0.6666666666666666,\"#ed7953\"],[0.7777777777777778,\"#fb9f3a\"],[0.8888888888888888,\"#fdca26\"],[1.0,\"#f0f921\"]]}],\"surface\":[{\"type\":\"surface\",\"colorbar\":{\"outlinewidth\":0,\"ticks\":\"\"},\"colorscale\":[[0.0,\"#0d0887\"],[0.1111111111111111,\"#46039f\"],[0.2222222222222222,\"#7201a8\"],[0.3333333333333333,\"#9c179e\"],[0.4444444444444444,\"#bd3786\"],[0.5555555555555556,\"#d8576b\"],[0.6666666666666666,\"#ed7953\"],[0.7777777777777778,\"#fb9f3a\"],[0.8888888888888888,\"#fdca26\"],[1.0,\"#f0f921\"]]}],\"mesh3d\":[{\"type\":\"mesh3d\",\"colorbar\":{\"outlinewidth\":0,\"ticks\":\"\"}}],\"scatter\":[{\"fillpattern\":{\"fillmode\":\"overlay\",\"size\":10,\"solidity\":0.2},\"type\":\"scatter\"}],\"parcoords\":[{\"type\":\"parcoords\",\"line\":{\"colorbar\":{\"outlinewidth\":0,\"ticks\":\"\"}}}],\"scatterpolargl\":[{\"type\":\"scatterpolargl\",\"marker\":{\"colorbar\":{\"outlinewidth\":0,\"ticks\":\"\"}}}],\"bar\":[{\"error_x\":{\"color\":\"#2a3f5f\"},\"error_y\":{\"color\":\"#2a3f5f\"},\"marker\":{\"line\":{\"color\":\"#E5ECF6\",\"width\":0.5},\"pattern\":{\"fillmode\":\"overlay\",\"size\":10,\"solidity\":0.2}},\"type\":\"bar\"}],\"scattergeo\":[{\"type\":\"scattergeo\",\"marker\":{\"colorbar\":{\"outlinewidth\":0,\"ticks\":\"\"}}}],\"scatterpolar\":[{\"type\":\"scatterpolar\",\"marker\":{\"colorbar\":{\"outlinewidth\":0,\"ticks\":\"\"}}}],\"histogram\":[{\"marker\":{\"pattern\":{\"fillmode\":\"overlay\",\"size\":10,\"solidity\":0.2}},\"type\":\"histogram\"}],\"scattergl\":[{\"type\":\"scattergl\",\"marker\":{\"colorbar\":{\"outlinewidth\":0,\"ticks\":\"\"}}}],\"scatter3d\":[{\"type\":\"scatter3d\",\"line\":{\"colorbar\":{\"outlinewidth\":0,\"ticks\":\"\"}},\"marker\":{\"colorbar\":{\"outlinewidth\":0,\"ticks\":\"\"}}}],\"scattermapbox\":[{\"type\":\"scattermapbox\",\"marker\":{\"colorbar\":{\"outlinewidth\":0,\"ticks\":\"\"}}}],\"scatterternary\":[{\"type\":\"scatterternary\",\"marker\":{\"colorbar\":{\"outlinewidth\":0,\"ticks\":\"\"}}}],\"scattercarpet\":[{\"type\":\"scattercarpet\",\"marker\":{\"colorbar\":{\"outlinewidth\":0,\"ticks\":\"\"}}}],\"carpet\":[{\"aaxis\":{\"endlinecolor\":\"#2a3f5f\",\"gridcolor\":\"white\",\"linecolor\":\"white\",\"minorgridcolor\":\"white\",\"startlinecolor\":\"#2a3f5f\"},\"baxis\":{\"endlinecolor\":\"#2a3f5f\",\"gridcolor\":\"white\",\"linecolor\":\"white\",\"minorgridcolor\":\"white\",\"startlinecolor\":\"#2a3f5f\"},\"type\":\"carpet\"}],\"table\":[{\"cells\":{\"fill\":{\"color\":\"#EBF0F8\"},\"line\":{\"color\":\"white\"}},\"header\":{\"fill\":{\"color\":\"#C8D4E3\"},\"line\":{\"color\":\"white\"}},\"type\":\"table\"}],\"barpolar\":[{\"marker\":{\"line\":{\"color\":\"#E5ECF6\",\"width\":0.5},\"pattern\":{\"fillmode\":\"overlay\",\"size\":10,\"solidity\":0.2}},\"type\":\"barpolar\"}],\"pie\":[{\"automargin\":true,\"type\":\"pie\"}]},\"layout\":{\"autotypenumbers\":\"strict\",\"colorway\":[\"#636efa\",\"#EF553B\",\"#00cc96\",\"#ab63fa\",\"#FFA15A\",\"#19d3f3\",\"#FF6692\",\"#B6E880\",\"#FF97FF\",\"#FECB52\"],\"font\":{\"color\":\"#2a3f5f\"},\"hovermode\":\"closest\",\"hoverlabel\":{\"align\":\"left\"},\"paper_bgcolor\":\"white\",\"plot_bgcolor\":\"#E5ECF6\",\"polar\":{\"bgcolor\":\"#E5ECF6\",\"angularaxis\":{\"gridcolor\":\"white\",\"linecolor\":\"white\",\"ticks\":\"\"},\"radialaxis\":{\"gridcolor\":\"white\",\"linecolor\":\"white\",\"ticks\":\"\"}},\"ternary\":{\"bgcolor\":\"#E5ECF6\",\"aaxis\":{\"gridcolor\":\"white\",\"linecolor\":\"white\",\"ticks\":\"\"},\"baxis\":{\"gridcolor\":\"white\",\"linecolor\":\"white\",\"ticks\":\"\"},\"caxis\":{\"gridcolor\":\"white\",\"linecolor\":\"white\",\"ticks\":\"\"}},\"coloraxis\":{\"colorbar\":{\"outlinewidth\":0,\"ticks\":\"\"}},\"colorscale\":{\"sequential\":[[0.0,\"#0d0887\"],[0.1111111111111111,\"#46039f\"],[0.2222222222222222,\"#7201a8\"],[0.3333333333333333,\"#9c179e\"],[0.4444444444444444,\"#bd3786\"],[0.5555555555555556,\"#d8576b\"],[0.6666666666666666,\"#ed7953\"],[0.7777777777777778,\"#fb9f3a\"],[0.8888888888888888,\"#fdca26\"],[1.0,\"#f0f921\"]],\"sequentialminus\":[[0.0,\"#0d0887\"],[0.1111111111111111,\"#46039f\"],[0.2222222222222222,\"#7201a8\"],[0.3333333333333333,\"#9c179e\"],[0.4444444444444444,\"#bd3786\"],[0.5555555555555556,\"#d8576b\"],[0.6666666666666666,\"#ed7953\"],[0.7777777777777778,\"#fb9f3a\"],[0.8888888888888888,\"#fdca26\"],[1.0,\"#f0f921\"]],\"diverging\":[[0,\"#8e0152\"],[0.1,\"#c51b7d\"],[0.2,\"#de77ae\"],[0.3,\"#f1b6da\"],[0.4,\"#fde0ef\"],[0.5,\"#f7f7f7\"],[0.6,\"#e6f5d0\"],[0.7,\"#b8e186\"],[0.8,\"#7fbc41\"],[0.9,\"#4d9221\"],[1,\"#276419\"]]},\"xaxis\":{\"gridcolor\":\"white\",\"linecolor\":\"white\",\"ticks\":\"\",\"title\":{\"standoff\":15},\"zerolinecolor\":\"white\",\"automargin\":true,\"zerolinewidth\":2},\"yaxis\":{\"gridcolor\":\"white\",\"linecolor\":\"white\",\"ticks\":\"\",\"title\":{\"standoff\":15},\"zerolinecolor\":\"white\",\"automargin\":true,\"zerolinewidth\":2},\"scene\":{\"xaxis\":{\"backgroundcolor\":\"#E5ECF6\",\"gridcolor\":\"white\",\"linecolor\":\"white\",\"showbackground\":true,\"ticks\":\"\",\"zerolinecolor\":\"white\",\"gridwidth\":2},\"yaxis\":{\"backgroundcolor\":\"#E5ECF6\",\"gridcolor\":\"white\",\"linecolor\":\"white\",\"showbackground\":true,\"ticks\":\"\",\"zerolinecolor\":\"white\",\"gridwidth\":2},\"zaxis\":{\"backgroundcolor\":\"#E5ECF6\",\"gridcolor\":\"white\",\"linecolor\":\"white\",\"showbackground\":true,\"ticks\":\"\",\"zerolinecolor\":\"white\",\"gridwidth\":2}},\"shapedefaults\":{\"line\":{\"color\":\"#2a3f5f\"}},\"annotationdefaults\":{\"arrowcolor\":\"#2a3f5f\",\"arrowhead\":0,\"arrowwidth\":1},\"geo\":{\"bgcolor\":\"white\",\"landcolor\":\"#E5ECF6\",\"subunitcolor\":\"white\",\"showland\":true,\"showlakes\":true,\"lakecolor\":\"white\"},\"title\":{\"x\":0.05},\"mapbox\":{\"style\":\"light\"}}},\"xaxis\":{\"anchor\":\"y\",\"domain\":[0.0,0.26666666666666666],\"title\":{\"text\":\"Number of Epochs\"}},\"yaxis\":{\"anchor\":\"x\",\"domain\":[0.0,1.0],\"title\":{\"text\":\"Score\"}},\"xaxis2\":{\"anchor\":\"y2\",\"domain\":[0.3666666666666667,0.6333333333333333],\"title\":{\"text\":\"Number of Epochs\"}},\"yaxis2\":{\"anchor\":\"x2\",\"domain\":[0.0,1.0]},\"xaxis3\":{\"anchor\":\"y3\",\"domain\":[0.7333333333333334,1.0],\"title\":{\"text\":\"Number of Epochs\"}},\"yaxis3\":{\"anchor\":\"x3\",\"domain\":[0.0,1.0]},\"annotations\":[{\"font\":{\"size\":16},\"showarrow\":false,\"text\":\"commonsense\",\"x\":0.13333333333333333,\"xanchor\":\"center\",\"xref\":\"paper\",\"y\":1.0,\"yanchor\":\"bottom\",\"yref\":\"paper\"},{\"font\":{\"size\":16},\"showarrow\":false,\"text\":\"anticommonsense\",\"x\":0.5,\"xanchor\":\"center\",\"xref\":\"paper\",\"y\":1.0,\"yanchor\":\"bottom\",\"yref\":\"paper\"},{\"font\":{\"size\":16},\"showarrow\":false,\"text\":\"noncommonsense\",\"x\":0.8666666666666667,\"xanchor\":\"center\",\"xref\":\"paper\",\"y\":1.0,\"yanchor\":\"bottom\",\"yref\":\"paper\"}],\"title\":{\"text\":\"Anonymize vs Non-Anonymize Performance Comparison\"},\"legend\":{\"orientation\":\"h\",\"yanchor\":\"bottom\",\"y\":-0.3,\"xanchor\":\"center\",\"x\":0.5},\"margin\":{\"b\":100},\"height\":500,\"width\":1050},                        {\"responsive\": true}                    ).then(function(){\n",
       "                            \n",
       "var gd = document.getElementById('7ef2bfb9-ac10-42d3-8ecc-3b97888ddded');\n",
       "var x = new MutationObserver(function (mutations, observer) {{\n",
       "        var display = window.getComputedStyle(gd).display;\n",
       "        if (!display || display === 'none') {{\n",
       "            console.log([gd, 'removed!']);\n",
       "            Plotly.purge(gd);\n",
       "            observer.disconnect();\n",
       "        }}\n",
       "}});\n",
       "\n",
       "// Listen for the removal of the full notebook cells\n",
       "var notebookContainer = gd.closest('#notebook-container');\n",
       "if (notebookContainer) {{\n",
       "    x.observe(notebookContainer, {childList: true});\n",
       "}}\n",
       "\n",
       "// Listen for the clearing of the current output cell\n",
       "var outputEl = gd.closest('.output');\n",
       "if (outputEl) {{\n",
       "    x.observe(outputEl, {childList: true});\n",
       "}}\n",
       "\n",
       "                        })                };                });            </script>        </div>"
      ]
     },
     "metadata": {},
     "output_type": "display_data"
    }
   ],
   "execution_count": 8
  }
 ],
 "metadata": {
  "kernelspec": {
   "display_name": "Python 3",
   "language": "python",
   "name": "python3"
  },
  "language_info": {
   "codemirror_mode": {
    "name": "ipython",
    "version": 2
   },
   "file_extension": ".py",
   "mimetype": "text/x-python",
   "name": "python",
   "nbconvert_exporter": "python",
   "pygments_lexer": "ipython2",
   "version": "2.7.6"
  }
 },
 "nbformat": 4,
 "nbformat_minor": 5
}
