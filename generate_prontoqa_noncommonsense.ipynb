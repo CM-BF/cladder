{
 "cells": [
  {
   "cell_type": "code",
   "id": "initial_id",
   "metadata": {
    "collapsed": true,
    "ExecuteTime": {
     "end_time": "2025-04-17T03:30:08.794885Z",
     "start_time": "2025-04-17T03:30:06.044268Z"
    }
   },
   "source": [
    "from causalllm.definitions import ROOT_PATH\n",
    "from pathlib import Path\n",
    "import json\n",
    "\n",
    "from causalllm.prompt_utils import partial_replace\n",
    "\n",
    "data_root = Path(f'{ROOT_PATH}/data/prontoqa')\n",
    "file_path = Path(f'{data_root}/prontoqa_gpt-4o-mini_abstract.json')\n",
    "anticommonsnense_file_path = Path(f'{data_root}/prontoqa-anticommonsense.json')\n",
    "noncommonsnense_file_path = Path(f'{data_root}/prontoqa-noncommonsense.json')\n",
    "abstract_data = json.loads(Path(file_path).read_text())"
   ],
   "outputs": [],
   "execution_count": 1
  },
  {
   "metadata": {
    "ExecuteTime": {
     "end_time": "2025-04-17T03:30:10.013898Z",
     "start_time": "2025-04-17T03:30:10.006227Z"
    }
   },
   "cell_type": "code",
   "source": "len(abstract_data)",
   "id": "fb0fb40c83a0e57d",
   "outputs": [
    {
     "data": {
      "text/plain": [
       "4000"
      ]
     },
     "execution_count": 2,
     "metadata": {},
     "output_type": "execute_result"
    }
   ],
   "execution_count": 2
  },
  {
   "metadata": {
    "ExecuteTime": {
     "end_time": "2025-04-17T03:30:10.795313Z",
     "start_time": "2025-04-17T03:30:10.777035Z"
    }
   },
   "cell_type": "code",
   "source": [
    "all_terms = set()\n",
    "for datum in abstract_data:\n",
    "    terms = set(datum['var2name_map'].keys())\n",
    "    # terms = {term.replace('not', '').strip(' ') for term in terms}\n",
    "    all_terms |= terms\n",
    "all_terms = list(all_terms)\n",
    "print(all_terms)"
   ],
   "id": "776500402e21a3aa",
   "outputs": [
    {
     "name": "stdout",
     "output_type": "stream",
     "text": [
      "['mammals', 'mersenne prime', 'vertebrates', 'lepidocteran', 'lepidoctoperan', 'snake', 'lepidopteran (butterfly)', 'warm-blooded', 'carnivorous animal', 'protostome', 'snakes', 'small', 'lepidopteran', 'lepidopterans', 'verebrate', 'spider', 'insect', 'negative numbers', 'painted', 'true', 'feline/carnivore', 'tabby cat', 'Rex', 'negative', 'mammal', 'Mersenne prime', 'nematode', 'integer (same as {symbol_3})', 'Max', 'feline', 'felines', 'Wren', 'Polly', 'Mersenne primes', 'lady', 'sheep', 'Alex', 'butterfly', 'tabbies', 'butterflies', 'vertebrate', 'Lepidopteran', 'complex number', 'bilaterian', '8191', 'chordate', 'arthropod', 'cold-blooded', 'prime', 'multicellular', 'butterfly (as lepidopteran)', '131071', 'painted lady butterfly', 'arthropods', 'animals', 'lepido', 'herbivore', 'Stella', 'lepido-insect', 'non-negative', 'cordate', 'tabby', 'bony', 'natural number', 'real', 'painted lady (butterfly variant)', 'bilaterians', 'real numbers', 'herbivorous', 'lepidoopteran', 'insects', 'cat', 'real number', 'negative number', 'non-bony', 'verebrbrate', 'number', 'carnivores', 'carnivorous', 'prime number', 'natural numbers', 'animal', 'furry', 'Sally', 'natural', 'feline species', 'integer', 'imaginary number', 'carnivore', 'imaginary', 'six-legged', '31', 'painted lady', '127', 'fur', 'cat species', 'primarily', 'large', 'carnivorous (attribute)', 'Fae', 'invertebrate', 'segmented', 'positive', 'serpent', '7', 'whale', 'unicellular', 'composite', 'eight-legged', 'numbers', 'complex numbers', '3', 'Sam', 'cats']\n"
     ]
    }
   ],
   "execution_count": 3
  },
  {
   "metadata": {
    "ExecuteTime": {
     "end_time": "2025-04-17T03:32:41.332360Z",
     "start_time": "2025-04-17T03:32:41.002555Z"
    }
   },
   "cell_type": "code",
   "source": [
    "from causalllm.prompt_utils import partial_replace\n",
    "import random\n",
    "random.seed(0)\n",
    "anticommonsense_samples = []\n",
    "for datum in abstract_data:\n",
    "    n_terms = len(datum['var2name_map'])\n",
    "    # random choose n terms from all_terms\n",
    "    terms = random.sample(list(all_terms), n_terms)\n",
    "    var2name = {f'symbol_{i + 1}': term for i, term in enumerate(terms)}\n",
    "    new_datum = {\n",
    "        'truth': datum['truth'],\n",
    "        'truth_norm': datum['truth_norm'],\n",
    "        'raw_prompt': partial_replace(datum['abstract_raw_prompt'], var2name),\n",
    "        'cot': datum['cot'],\n",
    "        'fewshot': datum['fewshot'],\n",
    "        'cot_fewshot': datum['cot_fewshot'],\n",
    "        'answer_suffix': datum['answer_suffix'],\n",
    "        'direct_answer_suffix': datum['direct_answer_suffix'],\n",
    "        'thinking_answer_suffix': datum['thinking_answer_suffix'],\n",
    "        'direct_response': datum['direct_response'],\n",
    "        'reasoning_response': partial_replace(datum['abstract_reasoning'], var2name),\n",
    "    }\n",
    "    anticommonsense_samples.append(new_datum)\n",
    "anticommonsnense_file_path.write_text(json.dumps(anticommonsense_samples, indent=4))\n",
    "print(len(anticommonsense_samples))\n"
   ],
   "id": "9adb376b80dc6a1b",
   "outputs": [
    {
     "name": "stdout",
     "output_type": "stream",
     "text": [
      "4000\n"
     ]
    }
   ],
   "execution_count": 4
  },
  {
   "metadata": {
    "ExecuteTime": {
     "end_time": "2025-04-17T03:33:51.679429Z",
     "start_time": "2025-04-17T03:33:51.673722Z"
    }
   },
   "cell_type": "code",
   "source": [
    "# Sample 4 letters randomly from the alphabet\n",
    "import string\n",
    "random_letters = lambda: ''.join(random.sample(string.ascii_lowercase, random.randint(3, 5)))\n",
    "print(random_letters())"
   ],
   "id": "1fc506c92f905543",
   "outputs": [
    {
     "name": "stdout",
     "output_type": "stream",
     "text": [
      "lfnz\n"
     ]
    }
   ],
   "execution_count": 5
  },
  {
   "metadata": {
    "ExecuteTime": {
     "end_time": "2025-04-17T03:34:36.937128Z",
     "start_time": "2025-04-17T03:34:36.294719Z"
    }
   },
   "cell_type": "code",
   "source": [
    "noncommonsense_samples = []\n",
    "random_letters = lambda: ''.join(random.sample(string.ascii_lowercase, random.randint(3, 5)))\n",
    "for datum in abstract_data:\n",
    "    n_terms = len(datum['var2name_map'])\n",
    "    # random choose n terms from all_terms\n",
    "    terms = random.sample(list(all_terms), n_terms)\n",
    "    var2name = {}\n",
    "    for i, term in enumerate(terms):\n",
    "        random_name = random_letters()\n",
    "        while random_name in datum['abstract_raw_prompt'] or random_name in datum['abstract_reasoning'] or 'not' in random_name or 'all' in random_name or 'each' in random_name or 'every' in random_name:\n",
    "            random_name = random_letters()\n",
    "        var2name[f'symbol_{i + 1}'] = random_name\n",
    "    new_datum = {\n",
    "        'truth': datum['truth'],\n",
    "        'truth_norm': datum['truth_norm'],\n",
    "        'raw_prompt': partial_replace(datum['abstract_raw_prompt'], var2name),\n",
    "        'cot': datum['cot'],\n",
    "        'fewshot': datum['fewshot'],\n",
    "        'cot_fewshot': datum['cot_fewshot'],\n",
    "        'answer_suffix': datum['answer_suffix'],\n",
    "        'direct_answer_suffix': datum['direct_answer_suffix'],\n",
    "        'thinking_answer_suffix': datum['thinking_answer_suffix'],\n",
    "        'direct_response': datum['direct_response'],\n",
    "        'reasoning_response': partial_replace(datum['abstract_reasoning'], var2name),\n",
    "    }\n",
    "    noncommonsense_samples.append(new_datum)\n",
    "noncommonsnense_file_path.write_text(json.dumps(noncommonsense_samples, indent=4))\n",
    "print(len(noncommonsense_samples))"
   ],
   "id": "d23edca8d3ee9b17",
   "outputs": [
    {
     "name": "stdout",
     "output_type": "stream",
     "text": [
      "4000\n"
     ]
    }
   ],
   "execution_count": 7
  },
  {
   "metadata": {
    "ExecuteTime": {
     "end_time": "2025-04-14T01:41:59.444647Z",
     "start_time": "2025-04-14T01:41:59.420010Z"
    }
   },
   "cell_type": "code",
   "source": "",
   "id": "e0729ec627336c81",
   "outputs": [],
   "execution_count": 82
  },
  {
   "metadata": {
    "ExecuteTime": {
     "end_time": "2025-04-14T01:42:15.906068Z",
     "start_time": "2025-04-14T01:42:15.902502Z"
    }
   },
   "cell_type": "code",
   "source": "",
   "id": "5a9a9ad3461670ef",
   "outputs": [
    {
     "data": {
      "text/plain": [
       "4000"
      ]
     },
     "execution_count": 84,
     "metadata": {},
     "output_type": "execute_result"
    }
   ],
   "execution_count": 84
  }
 ],
 "metadata": {
  "kernelspec": {
   "display_name": "Python 3",
   "language": "python",
   "name": "python3"
  },
  "language_info": {
   "codemirror_mode": {
    "name": "ipython",
    "version": 2
   },
   "file_extension": ".py",
   "mimetype": "text/x-python",
   "name": "python",
   "nbconvert_exporter": "python",
   "pygments_lexer": "ipython2",
   "version": "2.7.6"
  }
 },
 "nbformat": 4,
 "nbformat_minor": 5
}
