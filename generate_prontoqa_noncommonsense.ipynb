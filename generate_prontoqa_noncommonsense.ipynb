{
 "cells": [
  {
   "cell_type": "code",
   "id": "initial_id",
   "metadata": {
    "collapsed": true,
    "ExecuteTime": {
     "end_time": "2025-04-14T00:14:58.386240Z",
     "start_time": "2025-04-14T00:14:58.229348Z"
    }
   },
   "source": [
    "from causalllm.definitions import ROOT_PATH\n",
    "from pathlib import Path\n",
    "import json\n",
    "\n",
    "from causalllm.prompt_utils import partial_replace\n",
    "\n",
    "data_root = Path(f'{ROOT_PATH}/data/prontoqa')\n",
    "file_path = Path(f'{data_root}/prontoqa_gpt-4o-mini_abstract.json')\n",
    "anticommonsnense_file_path = Path(f'{data_root}/prontoqa-anticommonsense.json')\n",
    "noncommonsnense_file_path = Path(f'{data_root}/prontoqa-noncommonsense.json')\n",
    "abstract_data = json.loads(Path(file_path).read_text())"
   ],
   "outputs": [],
   "execution_count": 75
  },
  {
   "metadata": {
    "ExecuteTime": {
     "end_time": "2025-04-14T00:14:58.664660Z",
     "start_time": "2025-04-14T00:14:58.660001Z"
    }
   },
   "cell_type": "code",
   "source": "len(abstract_data)",
   "id": "fb0fb40c83a0e57d",
   "outputs": [
    {
     "data": {
      "text/plain": [
       "4000"
      ]
     },
     "execution_count": 76,
     "metadata": {},
     "output_type": "execute_result"
    }
   ],
   "execution_count": 76
  },
  {
   "metadata": {
    "ExecuteTime": {
     "end_time": "2025-04-14T00:14:59.408197Z",
     "start_time": "2025-04-14T00:14:59.391957Z"
    }
   },
   "cell_type": "code",
   "source": [
    "all_terms = set()\n",
    "for datum in abstract_data:\n",
    "    terms = set(datum['var2name_map'].keys())\n",
    "    # terms = {term.replace('not', '').strip(' ') for term in terms}\n",
    "    all_terms |= terms\n",
    "all_terms = list(all_terms)\n",
    "print(all_terms)"
   ],
   "id": "776500402e21a3aa",
   "outputs": [
    {
     "name": "stdout",
     "output_type": "stream",
     "text": [
      "['eight-legged', ' vertebrate', 'integer', 'multicellular', 'butterfly', 'natural', 'cold-blooded', 'natural numbers', 'protostome', 'butterflies', 'small', 'nematodes', 'true', '3', '127', 'arthropods', 'lepideopteran', 'positive number', 'snake', 'Mersenne prime', 'bilaterian', 'carnivores', 'animal (ver.)', 'painted lady', 'real', 'mammal', 'Wren', 'animal', 'arthropod body type', 'lepido', 'whales', 'lepidopterans', 'integer number', 'lepidopteran', 'unicellular', 'lepidocteran', '131071', 'cats', 'Stella', 'lepidopecteran', 'prime number', 'carnivorous', 'lepipedopteran', 'organic', 'natural number', '31', 'vertebrates', 'warm-blooded', 'tabbies', 'nodular', 'prime', 'lady', 'invertebrate', 'lepidopteran insect', 'spider', 'bony', 'carnivore', 'vertebrate', 'insects', 'snakes', 'non-negative', 'nematode', 'Fae', 'lepictopteran', 'numbers', 'imaginary', 'composite', 'segmented', 'arachnid', 'non-vertebrate', 'Sam', 'Max', 'artropod', 'chordate', 'cordate', 'Sally', 'arthropod', 'imaginay', 'complex numbers', 'cat species', 'Polly', 'six-legged', 'animals', 'cold-blooded animal', 'herbivorous', 'feline', 'lepipdopteran', 'herbivore', 'negative', 'whale', 'positive', 'number', 'imaginary numbers', '8191', 'insect', 'invertebrates', 'sheep', 'real numbers', 'Rex', 'complex number', '7', 'lepidoerteran', 'bony being', 'verbrate', 'tabby cat', 'imaginary number', 'Integer', 'mammals', 'felines', 'cat', 'Mersenne primes', 'real number', 'tabby', 'negative number', 'Alex', 'furry', 'bilaterians']\n"
     ]
    }
   ],
   "execution_count": 77
  },
  {
   "metadata": {
    "ExecuteTime": {
     "end_time": "2025-04-14T00:15:29.711517Z",
     "start_time": "2025-04-14T00:15:29.439153Z"
    }
   },
   "cell_type": "code",
   "source": [
    "from causalllm.prompt_utils import partial_replace\n",
    "import random\n",
    "random.seed(0)\n",
    "anticommonsense_samples = []\n",
    "for datum in abstract_data:\n",
    "    n_terms = len(datum['var2name_map'])\n",
    "    # random choose n terms from all_terms\n",
    "    terms = random.sample(list(all_terms), n_terms)\n",
    "    var2name = {f'symbol_{i + 1}': term for i, term in enumerate(terms)}\n",
    "    new_datum = {\n",
    "        'truth': datum['truth'],\n",
    "        'truth_norm': datum['truth_norm'],\n",
    "        'raw_prompt': partial_replace(datum['abstract_raw_prompt'], var2name),\n",
    "        'prompt': partial_replace(datum['abstract_prompt'], var2name),\n",
    "        'query_suffix': datum['query_suffix'],\n",
    "        'response': partial_replace(datum['abstract_reasoning'], var2name),\n",
    "    }\n",
    "    anticommonsense_samples.append(new_datum)\n",
    "anticommonsnense_file_path.write_text(json.dumps(anticommonsense_samples, indent=4))\n",
    "print(len(anticommonsense_samples))\n"
   ],
   "id": "9adb376b80dc6a1b",
   "outputs": [
    {
     "name": "stdout",
     "output_type": "stream",
     "text": [
      "4000\n"
     ]
    }
   ],
   "execution_count": 78
  },
  {
   "metadata": {
    "ExecuteTime": {
     "end_time": "2025-04-14T00:15:30.432811Z",
     "start_time": "2025-04-14T00:15:30.425894Z"
    }
   },
   "cell_type": "code",
   "source": [
    "# Sample 4 letters randomly from the alphabet\n",
    "import string\n",
    "random_letters = lambda: ''.join(random.sample(string.ascii_lowercase, random.randint(3, 5)))\n",
    "print(random_letters())"
   ],
   "id": "1fc506c92f905543",
   "outputs": [
    {
     "name": "stdout",
     "output_type": "stream",
     "text": [
      "voru\n"
     ]
    }
   ],
   "execution_count": 79
  },
  {
   "metadata": {
    "ExecuteTime": {
     "end_time": "2025-04-14T00:43:27.958217Z",
     "start_time": "2025-04-14T00:43:27.475407Z"
    }
   },
   "cell_type": "code",
   "source": [
    "noncommonsense_samples = []\n",
    "random_letters = lambda: ''.join(random.sample(string.ascii_lowercase, random.randint(3, 5)))\n",
    "for datum in abstract_data:\n",
    "    n_terms = len(datum['var2name_map'])\n",
    "    # random choose n terms from all_terms\n",
    "    terms = random.sample(list(all_terms), n_terms)\n",
    "    var2name = {}\n",
    "    for i, term in enumerate(terms):\n",
    "        random_name = random_letters()\n",
    "        while random_name in datum['abstract_prompt'] or random_name in datum['abstract_reasoning'] or 'not' in random_name or 'all' in random_name or 'each' in random_name or 'every' in random_name:\n",
    "            random_name = random_letters()\n",
    "        var2name[f'symbol_{i + 1}'] = random_name\n",
    "    new_datum = {\n",
    "        'truth': datum['truth'],\n",
    "        'truth_norm': datum['truth_norm'],\n",
    "        'raw_prompt': partial_replace(datum['abstract_raw_prompt'], var2name),\n",
    "        'prompt': partial_replace(datum['abstract_prompt'], var2name),\n",
    "        'query_suffix': datum['query_suffix'],\n",
    "        'response': partial_replace(datum['abstract_reasoning'], var2name),\n",
    "    }\n",
    "    noncommonsense_samples.append(new_datum)\n",
    "noncommonsnense_file_path.write_text(json.dumps(noncommonsense_samples, indent=4))\n",
    "print(len(noncommonsense_samples))"
   ],
   "id": "d23edca8d3ee9b17",
   "outputs": [
    {
     "name": "stdout",
     "output_type": "stream",
     "text": [
      "4000\n"
     ]
    }
   ],
   "execution_count": 81
  },
  {
   "metadata": {
    "ExecuteTime": {
     "end_time": "2025-04-14T01:41:59.444647Z",
     "start_time": "2025-04-14T01:41:59.420010Z"
    }
   },
   "cell_type": "code",
   "source": "",
   "id": "e0729ec627336c81",
   "outputs": [],
   "execution_count": 82
  },
  {
   "metadata": {
    "ExecuteTime": {
     "end_time": "2025-04-14T01:42:15.906068Z",
     "start_time": "2025-04-14T01:42:15.902502Z"
    }
   },
   "cell_type": "code",
   "source": "",
   "id": "5a9a9ad3461670ef",
   "outputs": [
    {
     "data": {
      "text/plain": [
       "4000"
      ]
     },
     "execution_count": 84,
     "metadata": {},
     "output_type": "execute_result"
    }
   ],
   "execution_count": 84
  }
 ],
 "metadata": {
  "kernelspec": {
   "display_name": "Python 3",
   "language": "python",
   "name": "python3"
  },
  "language_info": {
   "codemirror_mode": {
    "name": "ipython",
    "version": 2
   },
   "file_extension": ".py",
   "mimetype": "text/x-python",
   "name": "python",
   "nbconvert_exporter": "python",
   "pygments_lexer": "ipython2",
   "version": "2.7.6"
  }
 },
 "nbformat": 4,
 "nbformat_minor": 5
}
